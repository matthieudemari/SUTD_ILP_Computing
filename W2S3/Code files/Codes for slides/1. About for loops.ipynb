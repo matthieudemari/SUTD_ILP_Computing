{
 "cells": [
  {
   "cell_type": "code",
   "execution_count": null,
   "metadata": {},
   "outputs": [],
   "source": [
    "a_list = [0, 1, 2, 3, 4]\n",
    "print(a_list)\n",
    "print(type(a_list))"
   ]
  },
  {
   "cell_type": "code",
   "execution_count": null,
   "metadata": {},
   "outputs": [],
   "source": [
    "another_list = ['a', 'b', 'c', 'd']\n",
    "print(another_list)"
   ]
  },
  {
   "cell_type": "code",
   "execution_count": null,
   "metadata": {},
   "outputs": [],
   "source": [
    "a_float = 3.14\n",
    "an_int = 10\n",
    "a_string = 'Hello'\n",
    "mixed_list = [a_float, an_int, a_string]\n",
    "print(mixed_list)"
   ]
  },
  {
   "cell_type": "code",
   "execution_count": null,
   "metadata": {},
   "outputs": [],
   "source": [
    "# Counting from 1 to 5\n",
    "# (While loop edition)\n",
    "i = 0\n",
    "while(i<5):\n",
    "    # Separator\n",
    "    print(\"-----\")\n",
    "    i += 1\n",
    "    print(i)"
   ]
  },
  {
   "cell_type": "code",
   "execution_count": null,
   "metadata": {},
   "outputs": [],
   "source": [
    "# Counting from 1 to 5\n",
    "# (For loop edition)\n",
    "my_list = [1, 2, 3, 4, 5]\n",
    "for i in my_list:\n",
    "    # Separator\n",
    "    print(\"-----\")\n",
    "    print(i)"
   ]
  },
  {
   "cell_type": "code",
   "execution_count": null,
   "metadata": {},
   "outputs": [],
   "source": [
    "grade1 = 75\n",
    "grade2 = 85\n",
    "grade3 = 80\n",
    "grade4 = 72\n",
    "grade5 = 65\n",
    "number_of_grades = 5\n",
    "total_grade = grade1 + grade2 + grade3 + grade4 + grade5\n",
    "average_grade = total_grade/number_of_grades\n",
    "print(average_grade)"
   ]
  },
  {
   "cell_type": "code",
   "execution_count": null,
   "metadata": {},
   "outputs": [],
   "source": [
    "grades_list = [75, 85, 80, 72, 65]\n",
    "number_of_grades = 0\n",
    "total_grade = 0\n",
    "for grade in grades_list:\n",
    "    number_of_grades += 1\n",
    "    total_grade += grade\n",
    "average_grade = total_grade/number_of_grades\n",
    "print(average_grade)"
   ]
  },
  {
   "cell_type": "code",
   "execution_count": null,
   "metadata": {},
   "outputs": [],
   "source": [
    "my_list = [0,1,2,3,4]\n",
    "for i in my_list:\n",
    "    # Separator\n",
    "    print(\"-----\")\n",
    "    print(i)"
   ]
  },
  {
   "cell_type": "code",
   "execution_count": null,
   "metadata": {},
   "outputs": [],
   "source": [
    "for j in range(5):\n",
    "    # Separator\n",
    "    print(\"-----\")\n",
    "    print(j)"
   ]
  },
  {
   "cell_type": "code",
   "execution_count": null,
   "metadata": {},
   "outputs": [],
   "source": [
    "for j in range(-1, 6):\n",
    "    # Separator\n",
    "    print(\"-----\")\n",
    "    print(j)"
   ]
  },
  {
   "cell_type": "code",
   "execution_count": null,
   "metadata": {},
   "outputs": [],
   "source": [
    "for j in range(1, 9, 2):\n",
    "    # Separator\n",
    "    print(\"-----\")\n",
    "    print(j)"
   ]
  },
  {
   "cell_type": "code",
   "execution_count": null,
   "metadata": {},
   "outputs": [],
   "source": [
    "for j in range(10, -4, -2):\n",
    "    # Separator\n",
    "    print(\"-----\")\n",
    "    print(j)"
   ]
  },
  {
   "cell_type": "code",
   "execution_count": null,
   "metadata": {},
   "outputs": [],
   "source": []
  }
 ],
 "metadata": {
  "kernelspec": {
   "display_name": "Python 3",
   "language": "python",
   "name": "python3"
  },
  "language_info": {
   "codemirror_mode": {
    "name": "ipython",
    "version": 3
   },
   "file_extension": ".py",
   "mimetype": "text/x-python",
   "name": "python",
   "nbconvert_exporter": "python",
   "pygments_lexer": "ipython3",
   "version": "3.8.3"
  }
 },
 "nbformat": 4,
 "nbformat_minor": 4
}
