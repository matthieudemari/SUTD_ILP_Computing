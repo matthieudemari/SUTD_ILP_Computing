{
 "cells": [
  {
   "cell_type": "markdown",
   "metadata": {},
   "source": [
    "# Activity 4 - Find the missing card"
   ]
  },
  {
   "cell_type": "markdown",
   "metadata": {},
   "source": [
    "A deck of cards can be defined as a list, such as the one shown below."
   ]
  },
  {
   "cell_type": "code",
   "execution_count": 12,
   "metadata": {},
   "outputs": [
    {
     "name": "stdout",
     "output_type": "stream",
     "text": [
      "['Ace of Hearts', 'Two of Hearts', 'Three of Hearts', 'Four of Hearts', 'Five of Hearts', 'Six of Hearts', 'Seven of Hearts', 'Eight of Hearts', 'Nine of Hearts', 'Ten of Hearts', 'Jack of Hearts', 'Queen of Hearts', 'King of Hearts', 'Ace of Diamonds', 'Two of Diamonds', 'Three of Diamonds', 'Four of Diamonds', 'Five of Diamonds', 'Six of Diamonds', 'Seven of Diamonds', 'Eight of Diamonds', 'Nine of Diamonds', 'Ten of Diamonds', 'Jack of Diamonds', 'Queen of Diamonds', 'King of Diamonds', 'Ace of Spades', 'Two of Spades', 'Three of Spades', 'Four of Spades', 'Five of Spades', 'Six of Spades', 'Seven of Spades', 'Eight of Spades', 'Nine of Spades', 'Ten of Spades', 'Jack of Spades', 'Queen of Spades', 'King of Spades', 'Ace of Clubs', 'Two of Clubs', 'Three of Clubs', 'Four of Clubs', 'Five of Clubs', 'Six of Clubs', 'Seven of Clubs', 'Eight of Clubs', 'Nine of Clubs', 'Ten of Clubs', 'Jack of Clubs', 'Queen of Clubs', 'King of Clubs']\n"
     ]
    }
   ],
   "source": [
    "complete_deck = ['Ace of Hearts', 'Two of Hearts', 'Three of Hearts', 'Four of Hearts', \\\n",
    "                 'Five of Hearts', 'Six of Hearts', 'Seven of Hearts', 'Eight of Hearts', \\\n",
    "                 'Nine of Hearts', 'Ten of Hearts', 'Jack of Hearts', 'Queen of Hearts', \\\n",
    "                 'King of Hearts', 'Ace of Diamonds', 'Two of Diamonds', 'Three of Diamonds', \\\n",
    "                 'Four of Diamonds', 'Five of Diamonds', 'Six of Diamonds', 'Seven of Diamonds', \\\n",
    "                 'Eight of Diamonds', 'Nine of Diamonds', 'Ten of Diamonds', 'Jack of Diamonds', \\\n",
    "                 'Queen of Diamonds', 'King of Diamonds', 'Ace of Spades', 'Two of Spades', \\\n",
    "                 'Three of Spades', 'Four of Spades', 'Five of Spades', 'Six of Spades', 'Seven of Spades', \\\n",
    "                 'Eight of Spades', 'Nine of Spades', 'Ten of Spades', 'Jack of Spades', 'Queen of Spades', \\\n",
    "                 'King of Spades', 'Ace of Clubs', 'Two of Clubs', 'Three of Clubs', 'Four of Clubs', \\\n",
    "                 'Five of Clubs', 'Six of Clubs', 'Seven of Clubs', 'Eight of Clubs', 'Nine of Clubs', \\\n",
    "                 'Ten of Clubs', 'Jack of Clubs', 'Queen of Clubs', 'King of Clubs']\n",
    "print(complete_deck)"
   ]
  },
  {
   "cell_type": "markdown",
   "metadata": {},
   "source": [
    "### Task\n",
    "\n",
    "Write a function **find_missing_card()**, which receives the complete deck defined above as its first parameter, and receives a second deck, in variable *deck*, as its second parameter.\n",
    "\n",
    "The second deck is a standard deck that has been shuffled and is missing a card.\n",
    "\n",
    "The function **find_missing_card()** should then return the name of the one card that is missing in the second deck. It should return None, if no card is missing.\n",
    "\n",
    "Note that:\n",
    "- The decks are missing one card at most,\n",
    "- The deck will contain no duplicates.\n",
    "\n",
    "As a challenge, let us try not to use the operation below, which checks if a given element appears in a list. Instead try to implement your own version, which checks if a certain card/value appears in a deck, using a for loop."
   ]
  },
  {
   "cell_type": "code",
   "execution_count": 5,
   "metadata": {},
   "outputs": [
    {
     "name": "stdout",
     "output_type": "stream",
     "text": [
      "True\n",
      "False\n"
     ]
    }
   ],
   "source": [
    "# Let us not use that type of operations!\n",
    "list1 = [1,2,3,4]\n",
    "val = 3\n",
    "print(val in list1)\n",
    "val = 6\n",
    "print(val in list1)"
   ]
  },
  {
   "cell_type": "markdown",
   "metadata": {},
   "source": [
    "You might find it easier to write a subfunction, which checks whether or not a given card appears in a given deck first, and later reuse this subfunction inside your **find_missing_card()** function."
   ]
  },
  {
   "cell_type": "markdown",
   "metadata": {},
   "source": [
    "### Your function below!"
   ]
  },
  {
   "cell_type": "code",
   "execution_count": 16,
   "metadata": {},
   "outputs": [],
   "source": [
    "def find_missing_card():\n",
    "    pass"
   ]
  },
  {
   "cell_type": "markdown",
   "metadata": {},
   "source": [
    "### Expected results"
   ]
  },
  {
   "cell_type": "code",
   "execution_count": 17,
   "metadata": {},
   "outputs": [
    {
     "name": "stdout",
     "output_type": "stream",
     "text": [
      "Three of Diamonds\n"
     ]
    }
   ],
   "source": [
    "# This first deck is missing a Three of Diamonds.\n",
    "deck1 = ['Nine of Diamonds', 'Queen of Spades', 'Queen of Hearts', 'Eight of Hearts', 'King of Spades', \\\n",
    "         'Nine of Clubs', 'Jack of Hearts', 'Eight of Clubs', 'Seven of Hearts', 'Ten of Diamonds', \\\n",
    "         'Five of Spades', 'Jack of Diamonds', 'Three of Hearts', 'Queen of Diamonds', 'Queen of Clubs', \\\n",
    "         'Five of Diamonds', 'Five of Hearts', 'Nine of Spades', 'Four of Hearts', 'King of Diamonds', \\\n",
    "         'Two of Spades', 'Ace of Spades', 'Two of Clubs', 'Nine of Hearts', 'Six of Hearts', 'Ten of Hearts', \\\n",
    "         'Six of Diamonds', 'Six of Spades', 'Ace of Hearts', 'Two of Hearts', 'Six of Clubs', \\\n",
    "         'King of Hearts', 'King of Clubs', 'Seven of Clubs', 'Four of Clubs', 'Four of Diamonds', \\\n",
    "         'Ten of Clubs', 'Two of Diamonds', 'Five of Clubs', 'Jack of Clubs', 'Seven of Diamonds', \\\n",
    "         'Eight of Spades', 'Ten of Spades', 'Eight of Diamonds', 'Four of Spades', 'Three of Spades', \\\n",
    "         'Seven of Spades', 'Three of Clubs', 'Ace of Clubs', 'Jack of Spades', 'Ace of Diamonds']\n",
    "\n",
    "# This should print Three of Diamonds.\n",
    "print(find_missing_card(complete_deck, deck1))"
   ]
  },
  {
   "cell_type": "code",
   "execution_count": 18,
   "metadata": {},
   "outputs": [
    {
     "name": "stdout",
     "output_type": "stream",
     "text": [
      "Five of Spades\n"
     ]
    }
   ],
   "source": [
    "# This second deck is missing a Five of Spades.\n",
    "deck2 = ['Jack of Diamonds', 'Two of Spades', 'Ace of Diamonds', 'Seven of Hearts', 'Queen of Spades', \\\n",
    "         'Three of Spades', 'Jack of Hearts', 'Ace of Hearts', 'Nine of Clubs', 'Five of Clubs', \\\n",
    "         'Five of Diamonds', 'Seven of Diamonds', 'Six of Diamonds', 'Two of Clubs', 'Two of Diamonds', \\\n",
    "         'Six of Spades', 'Six of Clubs', 'Queen of Clubs', 'Three of Hearts', 'King of Hearts', \\\n",
    "         'Six of Hearts', 'Two of Hearts', 'Ace of Spades', 'Four of Diamonds', 'Eight of Clubs', \\\n",
    "         'Seven of Spades', 'King of Clubs', 'Queen of Hearts', 'Three of Diamonds', 'Nine of Diamonds', \\\n",
    "         'Four of Hearts', 'Three of Clubs', 'Jack of Spades', 'Four of Spades', 'Ten of Clubs', \\\n",
    "         'Seven of Clubs', 'Ace of Clubs', 'King of Diamonds', 'Jack of Clubs', 'Ten of Spades', \\\n",
    "         'King of Spades', 'Ten of Hearts', 'Eight of Spades', 'Queen of Diamonds', 'Four of Clubs', \\\n",
    "         'Ten of Diamonds', 'Nine of Hearts', 'Eight of Hearts', 'Five of Hearts', 'Eight of Diamonds', \\\n",
    "         'Nine of Spades']\n",
    "\n",
    "# This should print Five of Spades.\n",
    "print(find_missing_card(complete_deck, deck2))"
   ]
  },
  {
   "cell_type": "code",
   "execution_count": null,
   "metadata": {},
   "outputs": [],
   "source": []
  }
 ],
 "metadata": {
  "kernelspec": {
   "display_name": "Python 3",
   "language": "python",
   "name": "python3"
  },
  "language_info": {
   "codemirror_mode": {
    "name": "ipython",
    "version": 3
   },
   "file_extension": ".py",
   "mimetype": "text/x-python",
   "name": "python",
   "nbconvert_exporter": "python",
   "pygments_lexer": "ipython3",
   "version": "3.9.6"
  }
 },
 "nbformat": 4,
 "nbformat_minor": 4
}
