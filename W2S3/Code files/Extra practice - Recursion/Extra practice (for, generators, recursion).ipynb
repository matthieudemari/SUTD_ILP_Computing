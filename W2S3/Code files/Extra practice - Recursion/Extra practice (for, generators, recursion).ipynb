{
 "cells": [
  {
   "cell_type": "markdown",
   "metadata": {},
   "source": [
    "# 1. Approximate pi (for loop edition)\n",
    "\n",
    "The value of pi can be approximated as\n",
    "\n",
    "$$ \\pi = 3 + \\frac{4}{2 \\times 3 \\times 4} - \\frac{4}{4 \\times 5 \\times 6} + \\frac{4}{6 \\times 7 \\times 8} - \\frac{4}{8 \\times 9 \\times 10} + ... $$\n",
    "\n",
    "Notice how it alternates the plus and minus signs.\n",
    "\n",
    "Write a function that receives an integer n and returns the approximated value of pi, with n terms computed in the sum above.\n",
    "\n",
    "When $ n = 1 $, it returns $ 3 $. when $ n = 2 $, it returns the result of $ 3 + \\frac{4}{2 \\times 3 \\times 4} $, etc.\n",
    "\n",
    "It should use a for loop."
   ]
  },
  {
   "cell_type": "code",
   "execution_count": null,
   "metadata": {},
   "outputs": [],
   "source": []
  },
  {
   "cell_type": "markdown",
   "metadata": {},
   "source": [
    "# 2. Approximate pi (recursion edition)\n",
    "\n",
    "The value of pi can be approximated as\n",
    "\n",
    "$$ \\pi = 3 + \\frac{4}{2 \\times 3 \\times 4} - \\frac{4}{4 \\times 5 \\times 6} + \\frac{4}{6 \\times 7 \\times 8} - \\frac{4}{8 \\times 9 \\times 10} + ... $$\n",
    "\n",
    "Notice how it alternates the plus and minus signs.\n",
    "\n",
    "Write a function that receives an integer n and returns the approximated value of pi, with n terms computed in the sum above.\n",
    "\n",
    "When $ n = 1 $, it returns $ 3 $. when $ n = 2 $, it returns the result of $ 3 + \\frac{4}{2 \\times 3 \\times 4} $, etc.\n",
    "\n",
    "It should use a recursion (no for or while loops)."
   ]
  },
  {
   "cell_type": "code",
   "execution_count": null,
   "metadata": {},
   "outputs": [],
   "source": []
  },
  {
   "cell_type": "markdown",
   "metadata": {},
   "source": [
    "# 3. Recursive palindrome\n",
    "\n",
    "Write a function that receives two words, in string format, s1 and s2.\n",
    "\n",
    "It should return True, if s1 and s2 are palindromes, and False otherwise.\n",
    "\n",
    "This function should be built as a recursive functions and should not use any for or while loops."
   ]
  },
  {
   "cell_type": "code",
   "execution_count": 10,
   "metadata": {},
   "outputs": [
    {
     "name": "stdout",
     "output_type": "stream",
     "text": [
      "24\n"
     ]
    }
   ],
   "source": []
  },
  {
   "cell_type": "markdown",
   "metadata": {},
   "source": [
    "# 4. String distance (for loop edition)\n",
    "\n",
    "Write a function that receives two words of equal length, in string format, s1 and s2.\n",
    "\n",
    "It should return a float number corresponding to the percentage of letters that differ between both words.\n",
    "\n",
    "For instance, if s1 = \"cat\" and s2 = \"bat\", it should return 1/3, as only the first letter changes in these three characters words.\n",
    "\n",
    "It is location-sensitive, which means that if s1 = \"cat\", and s2 = \"mac\", it should also return 1/3.\n",
    "\n",
    "This function should be built using a for loop."
   ]
  },
  {
   "cell_type": "code",
   "execution_count": null,
   "metadata": {},
   "outputs": [],
   "source": []
  },
  {
   "cell_type": "markdown",
   "metadata": {},
   "source": [
    "# 5. String distance (recursive edition)\n",
    "\n",
    "Write a function that receives two words of equal length, in string format, s1 and s2.\n",
    "\n",
    "It should return a float number corresponding to the percentage of letters that differ between both words.\n",
    "\n",
    "For instance, if s1 = \"cat\" and s2 = \"bat\", it should return 1/3, as only the first letter changes in these three characters words.\n",
    "\n",
    "It is location-sensitive, which means that if s1 = \"cat\", and s2 = \"mac\", it should also return 1/3.\n",
    "\n",
    "This function should be built as a recursive functions and should not use any for or while loops."
   ]
  },
  {
   "cell_type": "code",
   "execution_count": null,
   "metadata": {},
   "outputs": [],
   "source": []
  }
 ],
 "metadata": {
  "kernelspec": {
   "display_name": "Python 3",
   "language": "python",
   "name": "python3"
  },
  "language_info": {
   "codemirror_mode": {
    "name": "ipython",
    "version": 3
   },
   "file_extension": ".py",
   "mimetype": "text/x-python",
   "name": "python",
   "nbconvert_exporter": "python",
   "pygments_lexer": "ipython3",
   "version": "3.8.3"
  }
 },
 "nbformat": 4,
 "nbformat_minor": 4
}
