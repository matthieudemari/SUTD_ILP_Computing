{
 "cells": [
  {
   "cell_type": "markdown",
   "metadata": {},
   "source": [
    "# Activity 2 - How many hits can you take"
   ]
  },
  {
   "cell_type": "markdown",
   "metadata": {},
   "source": [
    "### Tasks\n",
    "\n",
    "Your main character currently has a number of lifepoints, defined with the variable *lifepoints_number*.\n",
    "\n",
    "Your mentor in the game gives you the following challenge: he will hit you, for a given number of times $ n $.\n",
    "- The first hit will make you lose one lifepoint,\n",
    "- the second, two lifepoints,\n",
    "- the third, three lifepoints,\n",
    "- and so on.\n",
    "- If you take too many hits and your lifepoints fall below zero, you fail the challenge.\n",
    "- Assuming you survive after all $ n $ hits (i.e. your lifepoints are still strictly positive after all $ n $ hits), he will give you $ n^2 $ coins.\n",
    "\n",
    "Write a function **maximal_coins_number()**, which\n",
    "- receives your current number of lifepoints, i.e. the variable *lifepoints_number*,\n",
    "- and returns the maximal number of coins you can hope to obtain from the challenge\n",
    "- as well the number of lifepoints that will be remaining after all $ n $ hits were delivered."
   ]
  },
  {
   "cell_type": "markdown",
   "metadata": {},
   "source": [
    "### Your code below!"
   ]
  },
  {
   "cell_type": "code",
   "execution_count": null,
   "metadata": {},
   "outputs": [],
   "source": [
    "def maximal_coins_number(lifepoints_number):\n",
    "    number_of_coins = None\n",
    "    remaining_lifepoints_number = None\n",
    "    return number_of_coins, remaining_lifepoints_number"
   ]
  },
  {
   "cell_type": "markdown",
   "metadata": {},
   "source": [
    "### Expected results\n",
    "\n",
    "If your function has been correctly designed, the following test cases should work."
   ]
  },
  {
   "cell_type": "code",
   "execution_count": null,
   "metadata": {},
   "outputs": [],
   "source": [
    "# If lifepoints are 1, you cannot take any hits, so 0 coins, and your life total remains 1.\n",
    "number_of_coins, remaining_lifepoints_number = maximal_coins_number(lifepoints_number = 1)\n",
    "print(number_of_coins)\n",
    "print(remaining_lifepoints_number)"
   ]
  },
  {
   "cell_type": "code",
   "execution_count": null,
   "metadata": {},
   "outputs": [],
   "source": [
    "# If lifepoints are 11, you can take 4 hits, so 16 coins, and your life total remaining after all hits is 1.\n",
    "number_of_coins, remaining_lifepoints_number = maximal_coins_number(lifepoints_number = 11)\n",
    "print(number_of_coins)\n",
    "print(remaining_lifepoints_number)"
   ]
  },
  {
   "cell_type": "code",
   "execution_count": null,
   "metadata": {},
   "outputs": [],
   "source": [
    "# If lifepoints are 1000, you can take 44 hits, so 1936 coins, and your life total remaining after all hits is 10.\n",
    "number_of_coins, remaining_lifepoints_number = maximal_coins_number(lifepoints_number = 1000)\n",
    "print(number_of_coins)\n",
    "print(remaining_lifepoints_number)"
   ]
  },
  {
   "cell_type": "code",
   "execution_count": null,
   "metadata": {},
   "outputs": [],
   "source": []
  }
 ],
 "metadata": {
  "kernelspec": {
   "display_name": "Python 3 (ipykernel)",
   "language": "python",
   "name": "python3"
  },
  "language_info": {
   "codemirror_mode": {
    "name": "ipython",
    "version": 3
   },
   "file_extension": ".py",
   "mimetype": "text/x-python",
   "name": "python",
   "nbconvert_exporter": "python",
   "pygments_lexer": "ipython3",
   "version": "3.11.4"
  }
 },
 "nbformat": 4,
 "nbformat_minor": 4
}
