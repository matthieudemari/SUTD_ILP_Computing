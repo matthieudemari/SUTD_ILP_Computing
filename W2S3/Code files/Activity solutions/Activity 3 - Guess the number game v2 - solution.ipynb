{
 "cells": [
  {
   "cell_type": "markdown",
   "metadata": {},
   "source": [
    "# Activity 3 - Guess the number game v2 - solution"
   ]
  },
  {
   "cell_type": "markdown",
   "metadata": {},
   "source": [
    "### Tasks\n",
    "\n",
    "Remember the guess the number game from earlier?\n",
    "\n",
    "Back then, we had defined a function **guess_the_number()**, which\n",
    "- received a hidden number that the user had to guess (passed as input *hidden_number*),\n",
    "- asked the user to input a number, via the input() method and would store it in a variable *guessed_number*,\n",
    "- and based on the two numbers would display two messages, reading:\n",
    "    - \"You have found the hidden number: True/False.\"\n",
    "    - \"Your number in guessed_number is lower than the hidden number: True/False.\"\n",
    "    \n",
    "The function is given below, you can try it, to check it works just fine."
   ]
  },
  {
   "cell_type": "code",
   "execution_count": 3,
   "metadata": {},
   "outputs": [],
   "source": [
    "def guess_the_number(hidden_number):\n",
    "    \n",
    "    # 1. Ask the user for a number\n",
    "    guessed_number = int(input(\"Guess the number! (values in 1-9): \"))\n",
    "    \n",
    "    # 2. Check if the user found the right number\n",
    "    right_number_boolean = (guessed_number == hidden_number)\n",
    "    \n",
    "    # 3 Check if the user's number is lower than the hidden number\n",
    "    lower_number_boolean = (guessed_number <= hidden_number)\n",
    "    \n",
    "    # 4. Display messages\n",
    "    print(\"Your have found the right number: {}\".format(right_number_boolean))\n",
    "    print(\"Your number is lower than the hidden number: {}\".format(lower_number_boolean))"
   ]
  },
  {
   "cell_type": "code",
   "execution_count": 4,
   "metadata": {},
   "outputs": [
    {
     "name": "stdout",
     "output_type": "stream",
     "text": [
      "Guess the number! (values in 1-9): 4\n",
      "Your have found the right number: False\n",
      "Your number is lower than the hidden number: True\n"
     ]
    }
   ],
   "source": [
    "# Try it, to see that it works! The number to guess is 5!\n",
    "guess_the_number(hidden_number = 5)"
   ]
  },
  {
   "cell_type": "markdown",
   "metadata": {},
   "source": [
    "Your task is to write a second version (v2!) of this **guess_the_number()** function, which will be called *guess_the_number_v2()*.\n",
    "\n",
    "It will have the following additional features:\n",
    "- The game will keep on asking the user to input() values, until the right number is found.\n",
    "- It will display the message \"Your have found the right number!\", once the user has found the right number.\n",
    "- When that happens, the function also displays \"It only took you ... tries!\" with the blank filled with the number of time the user had to type a number via input() before finding the right one.\n",
    "- Once the number has been found, the function no longer asks the user for inputs and stops.\n",
    "- While the user has not found the right number, the game will display either \"Your number is lower than the hidden number.\" (if the last number entered by the user is lower than the hidden number) or \"Your number is higher than the hidden number.\" (if the last number entered by the user is higher than the hidden number).\n",
    "\n",
    "You may reuse and modify the code given below!"
   ]
  },
  {
   "cell_type": "markdown",
   "metadata": {},
   "source": [
    "### Your code below!"
   ]
  },
  {
   "cell_type": "code",
   "execution_count": 7,
   "metadata": {},
   "outputs": [],
   "source": [
    "def guess_the_number_v2(hidden_number):\n",
    "    \n",
    "    # At the beginning, the user has not found the number to guess.\n",
    "    # Initialize right_number_boolean as False.\n",
    "    right_number_boolean = False\n",
    "    # Initialize the number of tries as 0\n",
    "    number_of_tries = 0\n",
    "    \n",
    "    # While the right number has not been found...\n",
    "    while(not right_number_boolean):\n",
    "        # 1. Ask the user for a number\n",
    "        guessed_number = int(input(\"Guess the number! (values in 1-9): \"))\n",
    "        \n",
    "        # 2. Increase the number of tries by 1\n",
    "        number_of_tries += 1\n",
    "    \n",
    "        # 3. Check if the user found the right number\n",
    "        right_number_boolean = (guessed_number == hidden_number)\n",
    "        \n",
    "        # 4.a. If the user has found the right number...\n",
    "        if(right_number_boolean):\n",
    "            # Display a congratulations message\n",
    "            print(\"Your have found the right number\")\n",
    "            # Print the number of tries\n",
    "            print(\"It only took you {} tries!\".format(number_of_tries))\n",
    "        \n",
    "        # 4.b. If the user did not find the right number...\n",
    "        else:\n",
    "            # Check if the user's number is lower than the hidden number\n",
    "            lower_number_boolean = (guessed_number <= hidden_number)\n",
    "            # If the number is lower, let the user know.\n",
    "            if(lower_number_boolean):\n",
    "                print(\"Your number is lower than the hidden number.\")\n",
    "            # Otherwise the number is higher, and we let the user know.\n",
    "            else:\n",
    "                print(\"Your number is higher than the hidden number.\")"
   ]
  },
  {
   "cell_type": "code",
   "execution_count": 9,
   "metadata": {},
   "outputs": [],
   "source": [
    "def guess_the_number_v2bis(hidden_number):\n",
    "    \n",
    "    # At the beginning, the user has not found the number to guess.\n",
    "    # Initialize the number of tries as 0\n",
    "    number_of_tries = 0\n",
    "    \n",
    "    # While the right number has not been found...\n",
    "    while(True):\n",
    "        # 1. Ask the user for a number\n",
    "        guessed_number = int(input(\"Guess the number! (values in 1-9): \"))\n",
    "        \n",
    "        # 2. Increase the number of tries by 1\n",
    "        number_of_tries += 1\n",
    "    \n",
    "        # 3. Check if the user found the right number\n",
    "        right_number_boolean = (guessed_number == hidden_number)\n",
    "        \n",
    "        # 4.a. If the user has found the right number...\n",
    "        if(right_number_boolean):\n",
    "            # Display a congratulations message\n",
    "            print(\"Your have found the right number\")\n",
    "            # Print the number of tries\n",
    "            print(\"It only took you {} tries!\".format(number_of_tries))\n",
    "            # Break the while loop, to stop asking the user for inputs!\n",
    "            break\n",
    "        \n",
    "        # 4.b. If the user did not find the right number...\n",
    "        else:\n",
    "            # Check if the user's number is lower than the hidden number\n",
    "            lower_number_boolean = (guessed_number <= hidden_number)\n",
    "            # If the number is lower, let the user know.\n",
    "            if(lower_number_boolean):\n",
    "                print(\"Your number is lower than the hidden number.\")\n",
    "            # Otherwise the number is higher, and we let the user know.\n",
    "            else:\n",
    "                print(\"Your number is higher than the hidden number.\")"
   ]
  },
  {
   "cell_type": "markdown",
   "metadata": {},
   "source": [
    "### Expected results\n",
    "\n",
    "You will have to come up with your own ideas to test your v2 function works as intended!"
   ]
  },
  {
   "cell_type": "code",
   "execution_count": 10,
   "metadata": {},
   "outputs": [
    {
     "name": "stdout",
     "output_type": "stream",
     "text": [
      "Guess the number! (values in 1-9): 3\n",
      "Your number is lower than the hidden number.\n",
      "Guess the number! (values in 1-9): 6\n",
      "Your number is higher than the hidden number.\n",
      "Guess the number! (values in 1-9): 5\n",
      "Your have found the right number\n",
      "It only took you 3 tries!\n"
     ]
    }
   ],
   "source": [
    "hidden_number = 5\n",
    "guess_the_number_v2(hidden_number)"
   ]
  },
  {
   "cell_type": "markdown",
   "metadata": {},
   "source": [
    "### Another design, with an infinite loop and a break"
   ]
  },
  {
   "cell_type": "code",
   "execution_count": 12,
   "metadata": {},
   "outputs": [],
   "source": [
    "def guess_the_number_v2bis(hidden_number):\n",
    "    \n",
    "    # At the beginning, the user has not found the number to guess.\n",
    "    # Initialize the number of tries as 0\n",
    "    number_of_tries = 0\n",
    "    \n",
    "    # While the right number has not been found...\n",
    "    while(True):\n",
    "        # 1. Ask the user for a number\n",
    "        guessed_number = int(input(\"Guess the number! (values in 1-9): \"))\n",
    "        \n",
    "        # 2. Increase the number of tries by 1\n",
    "        number_of_tries += 1\n",
    "    \n",
    "        # 3. Check if the user found the right number\n",
    "        right_number_boolean = (guessed_number == hidden_number)\n",
    "        \n",
    "        # 4.a. If the user has found the right number...\n",
    "        if(right_number_boolean):\n",
    "            # Display a congratulations message\n",
    "            print(\"Your have found the right number\")\n",
    "            # Print the number of tries\n",
    "            print(\"It only took you {} tries!\".format(number_of_tries))\n",
    "            # Break the while loop, to stop asking the user for inputs!\n",
    "            break\n",
    "        \n",
    "        # 4.b. If the user did not find the right number...\n",
    "        else:\n",
    "            # Check if the user's number is lower than the hidden number\n",
    "            lower_number_boolean = (guessed_number <= hidden_number)\n",
    "            # If the number is lower, let the user know.\n",
    "            if(lower_number_boolean):\n",
    "                print(\"Your number is lower than the hidden number.\")\n",
    "            # Otherwise the number is higher, and we let the user know.\n",
    "            else:\n",
    "                print(\"Your number is higher than the hidden number.\")"
   ]
  },
  {
   "cell_type": "markdown",
   "metadata": {},
   "source": [
    "### It also works fine\n",
    "\n",
    "But it uses an infinite loop, which is not recommended."
   ]
  },
  {
   "cell_type": "code",
   "execution_count": 13,
   "metadata": {},
   "outputs": [
    {
     "name": "stdout",
     "output_type": "stream",
     "text": [
      "Guess the number! (values in 1-9): 3\n",
      "Your number is lower than the hidden number.\n",
      "Guess the number! (values in 1-9): 6\n",
      "Your number is higher than the hidden number.\n",
      "Guess the number! (values in 1-9): 5\n",
      "Your have found the right number\n",
      "It only took you 3 tries!\n"
     ]
    }
   ],
   "source": [
    "hidden_number = 5\n",
    "guess_the_number_v2bis(hidden_number)"
   ]
  },
  {
   "cell_type": "code",
   "execution_count": null,
   "metadata": {},
   "outputs": [],
   "source": []
  }
 ],
 "metadata": {
  "kernelspec": {
   "display_name": "Python 3 (ipykernel)",
   "language": "python",
   "name": "python3"
  },
  "language_info": {
   "codemirror_mode": {
    "name": "ipython",
    "version": 3
   },
   "file_extension": ".py",
   "mimetype": "text/x-python",
   "name": "python",
   "nbconvert_exporter": "python",
   "pygments_lexer": "ipython3",
   "version": "3.11.4"
  }
 },
 "nbformat": 4,
 "nbformat_minor": 4
}
