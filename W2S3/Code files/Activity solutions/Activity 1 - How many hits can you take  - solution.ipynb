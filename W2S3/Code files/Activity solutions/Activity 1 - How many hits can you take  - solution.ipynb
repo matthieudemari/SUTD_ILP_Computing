{
 "cells": [
  {
   "cell_type": "markdown",
   "metadata": {},
   "source": [
    "# Activity 1- How many hits can you take - solution"
   ]
  },
  {
   "cell_type": "markdown",
   "metadata": {},
   "source": [
    "### Tasks\n",
    "\n",
    "Your main character currently has a number of lifepoints, defined with the variable *lifepoints_number*.\n",
    "\n",
    "Your mentor in the game gives you the following challenge: he will hit you, for a given number of times $ n $.\n",
    "- The first hit will make you lose one lifepoint,\n",
    "- the second, two lifepoints,\n",
    "- the third, three lifepoints,\n",
    "- and so on.\n",
    "- If you take too many hits and your lifepoints fall below zero, you fail the challenge.\n",
    "- Assuming you survive after all $ n $ hits (i.e. your lifepoints are still strictly positive after all $ n $ hits), he will give you $ n^2 $ coins.\n",
    "\n",
    "Write a function **maximal_coins_number()**, which\n",
    "- receives your current number of lifepoints, i.e. the variable *lifepoints_number*,\n",
    "- and returns the maximal number of coins you can hope to obtain from the challenge\n",
    "- as well the number of lifepoints that will be remaining after all $ n $ hits were delivered."
   ]
  },
  {
   "cell_type": "markdown",
   "metadata": {},
   "source": [
    "### Your code below!"
   ]
  },
  {
   "cell_type": "code",
   "execution_count": 12,
   "metadata": {},
   "outputs": [],
   "source": [
    "def maximal_coins_number(lifepoints_number):\n",
    "    \n",
    "    # Count the number of hits you can take before our lifepoints fall below zero.\n",
    "    # To keep trakc of this number, create a variable counter and initialize it as zero.\n",
    "    counter = 0\n",
    "    \n",
    "    # We will use a while loop to calculate the maximal number of hits we can take before\n",
    "    # your lifepoints fall below zero\n",
    "    while(lifepoints_number > 0):\n",
    "        # Increase the number of hits taken by one\n",
    "        counter += 1\n",
    "        print(\"Counter (during loop): \", counter)\n",
    "        # The n-th hit hits for n, remove the points from your current lifepoints\n",
    "        lifepoints_number -= counter\n",
    "        print(\"Lifepoints (during loop): \", lifepoints_number)\n",
    "    \n",
    "    # We exit the loop, when we get to the point we have taken one more hit than we could take.\n",
    "    # Our lifepoints_number at this point is negative.\n",
    "    print(\"Counter (after loop): \", counter)\n",
    "    print(\"Lifepoints (after loop): \", lifepoints_number)\n",
    "    \n",
    "    # The maximal number of hits we can take without our lifepoints going below 0 is then counter - 1.\n",
    "    maximal_number_of_hits = counter - 1\n",
    "    print(\"Maximal number of hits: \", maximal_number_of_hits)\n",
    "    # And the lifepoints we will get after taking maximal_number_of_hits is then our current lifepoints_number\n",
    "    # which is negative, plus the damage value of the last hit, which is the current value of counter.\n",
    "    lifepoints_number += counter\n",
    "    print(\"Remaining lifepoints after max. number of hits: \", lifepoints_number)\n",
    "    # The number of coins is then given by maximal_number_of_hits squared\n",
    "    number_of_coins = maximal_number_of_hits*maximal_number_of_hits\n",
    "    print(\"Number of coints: \", number_of_coins)\n",
    "    \n",
    "    # Finally, we return the variables we need\n",
    "    return number_of_coins, lifepoints_number"
   ]
  },
  {
   "cell_type": "code",
   "execution_count": 16,
   "metadata": {},
   "outputs": [],
   "source": [
    "def maximal_coins_number(lifepoints_number):\n",
    "    \n",
    "    # Count the number of hits you can take before our lifepoints fall below zero.\n",
    "    # To keep track of this number, create a variable counter and initialize it as zero.\n",
    "    counter = 0\n",
    "    \n",
    "    # We will use a while loop to calculate the maximal number of hits we can take before\n",
    "    # your lifepoints fall below zero\n",
    "    while(lifepoints_number > 0):\n",
    "        # Increase the number of hits taken by one\n",
    "        counter += 1\n",
    "        #print(\"Counter (during loop): \", counter)\n",
    "        # The n-th hit hits for n, remove the points from your current lifepoints\n",
    "        lifepoints_number -= counter\n",
    "        #print(\"Lifepoints (during loop): \", lifepoints_number)\n",
    "    \n",
    "    # We exit the loop, when we get to the point we have taken one more hit than we could take.\n",
    "    # Our lifepoints_number at this point is negative.\n",
    "    #print(\"Counter (after loop): \", counter)\n",
    "    #print(\"Lifepoints (after loop): \", lifepoints_number)\n",
    "    \n",
    "    # The maximal number of hits we can take without our lifepoints going below 0 is then counter - 1.\n",
    "    maximal_number_of_hits = counter - 1\n",
    "    #print(\"Maximal number of hits: \", maximal_number_of_hits)\n",
    "    # And the lifepoints we will get after taking maximal_number_of_hits is then our current lifepoints_number\n",
    "    # which is negative, plus the damage value of the last hit, which is the current value of counter.\n",
    "    lifepoints_number += counter\n",
    "    #print(\"Remaining lifepoints after max. number of hits: \", lifepoints_number)\n",
    "    # The number of coins is then given by maximal_number_of_hits squared\n",
    "    number_of_coins = maximal_number_of_hits*maximal_number_of_hits\n",
    "    #print(\"Number of coints: \", number_of_coins)\n",
    "    \n",
    "    # Finally, we return the variables we need\n",
    "    return number_of_coins, lifepoints_number"
   ]
  },
  {
   "cell_type": "code",
   "execution_count": 7,
   "metadata": {},
   "outputs": [],
   "source": [
    "def maximal_coins_number(lifepoints_number):\n",
    "    \n",
    "    # Initialize the counter to 0\n",
    "    counter = 0\n",
    "    \n",
    "    while(lifepoints_number - (counter + 1)> 0): # lifepoints > counter + 1\n",
    "        counter = counter + 1\n",
    "        # counter += 1\n",
    "        lifepoints_number = lifepoints_number - counter\n",
    "        # lifepoints_number -= counter\n",
    "        #print(counter, lifepoints_number)\n",
    "    \n",
    "    number_of_coins = counter*counter\n",
    "    remaining_lifepoints_number = lifepoints_number\n",
    "    return number_of_coins, remaining_lifepoints_number"
   ]
  },
  {
   "cell_type": "code",
   "execution_count": 7,
   "metadata": {},
   "outputs": [],
   "source": [
    "def maximal_coins_number(lifepoints_number):\n",
    "    \n",
    "    # Initialize the counter to 0\n",
    "    counter = 0\n",
    "    \n",
    "    while(True):\n",
    "        counter = counter + 1\n",
    "        # counter += 1\n",
    "        lifepoints_number = lifepoints_number - counter\n",
    "        # lifepoints_number -= counter\n",
    "        print(counter, lifepoints_number)\n",
    "        if(lifepoints_number - (counter + 1) <= 0):\n",
    "            break\n",
    "    \n",
    "    number_of_coins = counter*counter\n",
    "    remaining_lifepoints_number = lifepoints_number\n",
    "    return number_of_coins, remaining_lifepoints_number"
   ]
  },
  {
   "cell_type": "markdown",
   "metadata": {},
   "source": [
    "### Expected results\n",
    "\n",
    "If your function has been correctly designed, the following test cases should work."
   ]
  },
  {
   "cell_type": "code",
   "execution_count": 17,
   "metadata": {},
   "outputs": [
    {
     "name": "stdout",
     "output_type": "stream",
     "text": [
      "0\n",
      "1\n"
     ]
    }
   ],
   "source": [
    "# If lifepoints are 1, you cannot take any hits, so 0 coins, and your lifetotal remain 1.\n",
    "number_of_coins, lifepoints_number = maximal_coins_number(lifepoints_number = 1)\n",
    "print(number_of_coins)\n",
    "print(lifepoints_number)"
   ]
  },
  {
   "cell_type": "code",
   "execution_count": 18,
   "metadata": {},
   "outputs": [
    {
     "name": "stdout",
     "output_type": "stream",
     "text": [
      "16\n",
      "1\n"
     ]
    }
   ],
   "source": [
    "# If lifepoints are 11, you can take 4 hits, so 16 coins, and your lifetotal remaining after all hits is 1.\n",
    "number_of_coins, lifepoints_number = maximal_coins_number(lifepoints_number = 11)\n",
    "print(number_of_coins)\n",
    "print(lifepoints_number)"
   ]
  },
  {
   "cell_type": "code",
   "execution_count": 19,
   "metadata": {},
   "outputs": [
    {
     "name": "stdout",
     "output_type": "stream",
     "text": [
      "1936\n",
      "10\n"
     ]
    }
   ],
   "source": [
    "# If lifepoints are 1000, you can take 44 hits, so 1936 coins, and your lifetotal remaining after all hits is 10.\n",
    "number_of_coins, lifepoints_number = maximal_coins_number(lifepoints_number = 1000)\n",
    "print(number_of_coins)\n",
    "print(lifepoints_number)"
   ]
  },
  {
   "cell_type": "code",
   "execution_count": null,
   "metadata": {},
   "outputs": [],
   "source": []
  }
 ],
 "metadata": {
  "kernelspec": {
   "display_name": "Python 3 (ipykernel)",
   "language": "python",
   "name": "python3"
  },
  "language_info": {
   "codemirror_mode": {
    "name": "ipython",
    "version": 3
   },
   "file_extension": ".py",
   "mimetype": "text/x-python",
   "name": "python",
   "nbconvert_exporter": "python",
   "pygments_lexer": "ipython3",
   "version": "3.10.5"
  }
 },
 "nbformat": 4,
 "nbformat_minor": 4
}
