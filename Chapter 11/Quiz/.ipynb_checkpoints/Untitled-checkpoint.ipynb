{
 "cells": [
  {
   "cell_type": "code",
   "execution_count": 1,
   "id": "21bf540c-23e3-41f7-a4eb-4a907bcd59f3",
   "metadata": {},
   "outputs": [
    {
     "name": "stdout",
     "output_type": "stream",
     "text": [
      "[[0, 5, 0], [0, 5, 0], [0, 5, 0]]\n"
     ]
    }
   ],
   "source": [
    "row = [0] * 3\n",
    "table = [row] * 3\n",
    "table[0][1] = 5\n",
    "print(table)\n",
    "\n",
    "# What will be printed here?\n",
    "# [[0, 5, 0], [0, 0, 0], [0, 0, 0]]\n",
    "# [[0, 5, 0], [0, 5, 0], [0, 5, 0]]*\n",
    "# [[5, 5, 5], [5, 5, 5], [5, 5, 5]]\n",
    "# There is an error here."
   ]
  },
  {
   "cell_type": "code",
   "execution_count": 6,
   "id": "4afd82a9-7200-4d4e-9c89-f3a7dbad485b",
   "metadata": {},
   "outputs": [
    {
     "name": "stdout",
     "output_type": "stream",
     "text": [
      "[[0, 5, 0], [0, 0, 0], [0, 0, 0]]\n"
     ]
    }
   ],
   "source": [
    "row = [0] * 3\n",
    "table = [row] * 3\n",
    "table[0][1] = 5\n",
    "print(table)\n",
    "\n",
    "# What needs to be changed to make the result [[0, 5, 0], [0, 0, 0], [0, 0, 0]]?\n",
    "# Replace line 1 with row = [0, 0, 0]\n",
    "# Replace line 2 with table = [row, row, row]\n",
    "# Replace line 2 with table = [row[:], row[:], row[:]]*\n",
    "# Add an extra operation table = table.copy() after line 2"
   ]
  },
  {
   "cell_type": "code",
   "execution_count": 7,
   "id": "67b99df0-85a2-4ecd-a375-a5ab697e4a4b",
   "metadata": {},
   "outputs": [
    {
     "name": "stdout",
     "output_type": "stream",
     "text": [
      "1 2 3 4 "
     ]
    }
   ],
   "source": [
    "matrix = [[1, 2], [3, 4]]\n",
    "for row in matrix:\n",
    "    for elem in row:\n",
    "        print(elem, end = \" \")\n",
    "\n",
    "# What will be printed?\n",
    "# 1 2 3 4*\n",
    "# [1, 2] [3, 4]\n",
    "# 1 2\\n3 4\n",
    "# 1234"
   ]
  },
  {
   "cell_type": "code",
   "execution_count": null,
   "id": "9f376c85-e66e-4c9d-b1ad-d3cd4dc19030",
   "metadata": {},
   "outputs": [],
   "source": []
  }
 ],
 "metadata": {
  "kernelspec": {
   "display_name": "Python 3 (ipykernel)",
   "language": "python",
   "name": "python3"
  },
  "language_info": {
   "codemirror_mode": {
    "name": "ipython",
    "version": 3
   },
   "file_extension": ".py",
   "mimetype": "text/x-python",
   "name": "python",
   "nbconvert_exporter": "python",
   "pygments_lexer": "ipython3",
   "version": "3.12.5"
  }
 },
 "nbformat": 4,
 "nbformat_minor": 5
}
