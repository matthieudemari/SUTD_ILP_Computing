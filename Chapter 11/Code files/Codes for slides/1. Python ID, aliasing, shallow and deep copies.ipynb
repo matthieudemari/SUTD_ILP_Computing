{
 "cells": [
  {
   "cell_type": "code",
   "execution_count": 1,
   "metadata": {},
   "outputs": [
    {
     "name": "stdout",
     "output_type": "stream",
     "text": [
      "10\n",
      "140726382041024\n"
     ]
    }
   ],
   "source": [
    "x1 = 10\n",
    "print(x1)\n",
    "print(id(x1))"
   ]
  },
  {
   "cell_type": "code",
   "execution_count": 2,
   "metadata": {},
   "outputs": [
    {
     "name": "stdout",
     "output_type": "stream",
     "text": [
      "17\n",
      "140726382041248\n"
     ]
    }
   ],
   "source": [
    "x2 = 17\n",
    "print(x2)\n",
    "print(id(x2))"
   ]
  },
  {
   "cell_type": "code",
   "execution_count": 3,
   "metadata": {},
   "outputs": [
    {
     "name": "stdout",
     "output_type": "stream",
     "text": [
      "10\n",
      "140726382041024\n",
      "140726382041024\n"
     ]
    }
   ],
   "source": [
    "x3 = x1\n",
    "print(x3)\n",
    "print(id(x3))\n",
    "print(id(x1))"
   ]
  },
  {
   "cell_type": "code",
   "execution_count": 4,
   "metadata": {},
   "outputs": [
    {
     "name": "stdout",
     "output_type": "stream",
     "text": [
      "12\n",
      "10\n",
      "140726382041088\n",
      "140726382041024\n"
     ]
    }
   ],
   "source": [
    "x1 = 12\n",
    "print(x1)\n",
    "print(x3)\n",
    "print(id(x1))\n",
    "print(id(x3))"
   ]
  },
  {
   "cell_type": "code",
   "execution_count": 5,
   "metadata": {},
   "outputs": [
    {
     "name": "stdout",
     "output_type": "stream",
     "text": [
      "[12, 17, 10]\n",
      "2120754849216\n"
     ]
    }
   ],
   "source": [
    "list1 = [x1, x2, x3]\n",
    "print(list1)\n",
    "print(id(list1))"
   ]
  },
  {
   "cell_type": "code",
   "execution_count": 6,
   "metadata": {},
   "outputs": [
    {
     "name": "stdout",
     "output_type": "stream",
     "text": [
      "2120754849216\n",
      "-\n",
      "140726382041088\n",
      "140726382041088\n",
      "-\n",
      "140726382041248\n",
      "140726382041248\n",
      "-\n",
      "140726382041024\n",
      "140726382041024\n"
     ]
    }
   ],
   "source": [
    "print(id(list1))\n",
    "print(\"-\")\n",
    "print(id(list1[0]))\n",
    "print(id(x1))\n",
    "print(\"-\")\n",
    "print(id(list1[1]))\n",
    "print(id(x2))\n",
    "print(\"-\")\n",
    "print(id(list1[2]))\n",
    "print(id(x3))"
   ]
  },
  {
   "cell_type": "code",
   "execution_count": 7,
   "metadata": {},
   "outputs": [
    {
     "name": "stdout",
     "output_type": "stream",
     "text": [
      "[12, 17, 10]\n",
      "2120754849216\n",
      "2120754849216\n"
     ]
    }
   ],
   "source": [
    "list2 = list1\n",
    "print(list2)\n",
    "print(id(list1))\n",
    "print(id(list2))"
   ]
  },
  {
   "cell_type": "code",
   "execution_count": 8,
   "metadata": {},
   "outputs": [
    {
     "name": "stdout",
     "output_type": "stream",
     "text": [
      "12\n",
      "140726382041088\n",
      "2120755150000\n",
      "[12, 17, 10]\n"
     ]
    }
   ],
   "source": [
    "print(x1)\n",
    "print(id(x1))\n",
    "x1 = \"Hello\"\n",
    "print(id(x1))\n",
    "print(list1)"
   ]
  },
  {
   "cell_type": "code",
   "execution_count": 9,
   "metadata": {},
   "outputs": [
    {
     "name": "stdout",
     "output_type": "stream",
     "text": [
      "140726382041088\n",
      "140726382041088\n",
      "[12, 17, 10]\n",
      "[12, 17, 10]\n"
     ]
    }
   ],
   "source": [
    "print(id(list1[0]))\n",
    "print(id(list2[0]))\n",
    "print(list2)\n",
    "print(list1)"
   ]
  },
  {
   "cell_type": "code",
   "execution_count": 10,
   "metadata": {},
   "outputs": [
    {
     "name": "stdout",
     "output_type": "stream",
     "text": [
      "140726382041088\n",
      "['SUTD', 17, 10]\n",
      "2120755353584\n"
     ]
    }
   ],
   "source": [
    "print(id(list1[0]))\n",
    "list1[0] = \"SUTD\"\n",
    "print(list1)\n",
    "print(id(list1[0]))"
   ]
  },
  {
   "cell_type": "code",
   "execution_count": 11,
   "metadata": {},
   "outputs": [
    {
     "name": "stdout",
     "output_type": "stream",
     "text": [
      "['SUTD', 17, 10]\n",
      "2120755353584\n"
     ]
    }
   ],
   "source": [
    "print(list2)\n",
    "print(id(list2[0]))"
   ]
  },
  {
   "cell_type": "code",
   "execution_count": 2,
   "metadata": {},
   "outputs": [
    {
     "name": "stdout",
     "output_type": "stream",
     "text": [
      "[12, 17, 10]\n",
      "[12, 17, 10]\n",
      "1525790076736\n",
      "1525790076160\n"
     ]
    }
   ],
   "source": [
    "list1 = [12, 17, 10]\n",
    "list2 = list1[:]\n",
    "#list2 = list1.copy()\n",
    "print(list1)\n",
    "print(list2)\n",
    "print(id(list1))\n",
    "print(id(list2))"
   ]
  },
  {
   "cell_type": "code",
   "execution_count": 21,
   "metadata": {},
   "outputs": [
    {
     "name": "stdout",
     "output_type": "stream",
     "text": [
      "['SUTD', 17, 10]\n",
      "[12, 17, 10]\n"
     ]
    }
   ],
   "source": [
    "list1[0] = \"SUTD\"\n",
    "print(list1)\n",
    "print(list2)"
   ]
  },
  {
   "cell_type": "code",
   "execution_count": 22,
   "metadata": {},
   "outputs": [
    {
     "name": "stdout",
     "output_type": "stream",
     "text": [
      "[[8, 9, 11], 7, 4]\n",
      "[[8, 9, 11], 7, 4]\n",
      "2120755333248\n",
      "2120755332928\n",
      "140726382040992\n",
      "140726382040992\n"
     ]
    }
   ],
   "source": [
    "list1 = [[8, 9, 11], 7, 4]\n",
    "list2 = list1[:]\n",
    "print(list1)\n",
    "print(list2)\n",
    "print(id(list1))\n",
    "print(id(list2))\n",
    "print(id(list1[0][1]))\n",
    "print(id(list2[0][1]))"
   ]
  },
  {
   "cell_type": "code",
   "execution_count": 23,
   "metadata": {},
   "outputs": [
    {
     "name": "stdout",
     "output_type": "stream",
     "text": [
      "[[8, 'Damn it!', 11], 7, 4]\n",
      "[[8, 'Damn it!', 11], 7, 4]\n"
     ]
    }
   ],
   "source": [
    "list1[0][1] = \"Damn it!\"\n",
    "print(list1)\n",
    "print(list2)"
   ]
  },
  {
   "cell_type": "code",
   "execution_count": 16,
   "metadata": {},
   "outputs": [],
   "source": [
    "from copy import deepcopy"
   ]
  },
  {
   "cell_type": "code",
   "execution_count": 24,
   "metadata": {},
   "outputs": [
    {
     "name": "stdout",
     "output_type": "stream",
     "text": [
      "[[8, 9, 11], 7, 4]\n",
      "[[8, 9, 11], 7, 4]\n",
      "2120754851072\n",
      "2120754850304\n"
     ]
    }
   ],
   "source": [
    "list1 = [[8, 9, 11], 7, 4]\n",
    "list2 = deepcopy(list1)\n",
    "print(list1)\n",
    "print(list2)\n",
    "print(id(list1[0]))\n",
    "print(id(list2[0]))"
   ]
  },
  {
   "cell_type": "code",
   "execution_count": 25,
   "metadata": {},
   "outputs": [
    {
     "name": "stdout",
     "output_type": "stream",
     "text": [
      "[[8, 'Deep copy works?', 11], 7, 4]\n",
      "[[8, 9, 11], 7, 4]\n",
      "2120755409424\n",
      "140726382040992\n"
     ]
    }
   ],
   "source": [
    "list1[0][1] = \"Deep copy works?\"\n",
    "print(list1)\n",
    "print(list2)\n",
    "print(id(list1[0][1]))\n",
    "print(id(list2[0][1]))"
   ]
  },
  {
   "cell_type": "code",
   "execution_count": null,
   "metadata": {},
   "outputs": [],
   "source": []
  }
 ],
 "metadata": {
  "kernelspec": {
   "display_name": "Python 3",
   "language": "python",
   "name": "python3"
  },
  "language_info": {
   "codemirror_mode": {
    "name": "ipython",
    "version": 3
   },
   "file_extension": ".py",
   "mimetype": "text/x-python",
   "name": "python",
   "nbconvert_exporter": "python",
   "pygments_lexer": "ipython3",
   "version": "3.8.3"
  }
 },
 "nbformat": 4,
 "nbformat_minor": 4
}
