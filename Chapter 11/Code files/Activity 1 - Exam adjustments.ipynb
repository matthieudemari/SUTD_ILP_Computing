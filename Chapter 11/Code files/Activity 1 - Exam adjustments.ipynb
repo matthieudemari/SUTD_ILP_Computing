{
 "cells": [
  {
   "cell_type": "markdown",
   "metadata": {},
   "source": [
    "# Activity 1 - Exam adjustments"
   ]
  },
  {
   "cell_type": "markdown",
   "metadata": {},
   "source": [
    "For this activity, we will use the Numpy library. Let us start by importing it."
   ]
  },
  {
   "cell_type": "code",
   "execution_count": 1,
   "metadata": {},
   "outputs": [],
   "source": [
    "import numpy as np\n",
    "from copy import deepcopy"
   ]
  },
  {
   "cell_type": "markdown",
   "metadata": {},
   "source": [
    "### Problem statement\n",
    "\n",
    "Let us assume, that I have grades from my students listed in the np.array below. As you can see, the first list contains the column labels (student name, some scores), the second contains the students names and the numpy array has lines, which consist of entries regarding some of the students.\n",
    "\n",
    "For instance, Chris scored 60 points on the midterm and 80 points on the final exam, leading to an average score of 70 for the whole term."
   ]
  },
  {
   "cell_type": "code",
   "execution_count": 2,
   "metadata": {},
   "outputs": [
    {
     "name": "stdout",
     "output_type": "stream",
     "text": [
      "[[60 80 70]\n",
      " [50 80 65]\n",
      " [40 70 55]\n",
      " [60 70 65]\n",
      " [60 90 75]]\n"
     ]
    }
   ],
   "source": [
    "columns_labels_list = [\"MidTerm Score\", \"FinalExam Score\", \"Average Score\"]\n",
    "students_list = [\"Chris\", \"Oka\", \"Norman\", \"Natalie\", \"Tony\"]\n",
    "# First Line: Chris scored 60% on MidTerm, 80% on Finals, Average is 70%\n",
    "grades_table = np.array([[60, 80, 70], \\\n",
    "                         [50, 80, 65], \\\n",
    "                         [40, 70, 55], \\\n",
    "                         [60, 70, 65], \\\n",
    "                         [60, 90, 75]])\n",
    "print(grades_table)"
   ]
  },
  {
   "cell_type": "markdown",
   "metadata": {},
   "source": [
    "### Task\n",
    "\n",
    "Let us assume that, as a professor, I have decided to be lenient towards my students. I realized that the midterm was a bit too difficult compared to last year. To compensate for that, I would like to increase the scores of all students on the midterm by 50%.\n",
    "\n",
    "Write a **function grade_adjustment()**, which:\n",
    "- receives a grades table, *grades_table*, as defined above,\n",
    "- *increases* the scores of all students on the midterm by *50%*,\n",
    "- *re-calculates* the *average score*, with the new adjusted midterm score,\n",
    "- and then *returns* the *updated grades table* as its sole output.\n",
    "\n",
    "**Important note:** The *maximal score* for the midterm exam is *capped* to *100*. This means that a student who scored 80 points on the midterm, will not obtain 120 points after the adjustment, but only 100."
   ]
  },
  {
   "cell_type": "markdown",
   "metadata": {},
   "source": [
    "### You code below!"
   ]
  },
  {
   "cell_type": "code",
   "execution_count": 26,
   "metadata": {},
   "outputs": [],
   "source": [
    "def grade_adjustment(grades_table):\n",
    "    # Make deepcopy of grades_table\n",
    "    new_grades_table = deepcopy(grades_table)\n",
    "\n",
    "    # For loop that draws the scores from each student student_index = {0, 1, 2, 3, 4}\n",
    "    for student_index in range(len(new_grades_table)):\n",
    "        print(student_index)\n",
    "        mid_term = new_grades_table[student_index, 0]\n",
    "        new_mid_term = mid_term*1.5\n",
    "        if new_mid_term>100:\n",
    "            new_mid_term = 100\n",
    "        new_grades_table[student_index, 0] = new_mid_term \n",
    "        finals = new_grades_table[student_index, 1] \n",
    "        new_avg = (finals + new_mid_term)/2 \n",
    "        new_grades_table[student_index, 2] = new_avg\n",
    "    \n",
    "    # Update this copy and return it\n",
    "    return new_grades_table"
   ]
  },
  {
   "cell_type": "markdown",
   "metadata": {},
   "source": [
    "### Expected results"
   ]
  },
  {
   "cell_type": "code",
   "execution_count": 27,
   "metadata": {},
   "outputs": [
    {
     "name": "stdout",
     "output_type": "stream",
     "text": [
      "0\n",
      "1\n",
      "2\n",
      "3\n",
      "4\n",
      "[[90 80 85]\n",
      " [75 80 77]\n",
      " [60 70 65]\n",
      " [90 70 80]\n",
      " [90 90 90]]\n"
     ]
    }
   ],
   "source": [
    "grades_table = np.array([[60, 80, 70], \\\n",
    "                         [50, 80, 65], \\\n",
    "                         [40, 70, 55], \\\n",
    "                         [60, 70, 65], \\\n",
    "                         [60, 90, 75]])\n",
    "\n",
    "# This should print\n",
    "\"\"\"\n",
    "[[90 80 85]\n",
    " [75 80 77]\n",
    " [60 70 65]\n",
    " [90 70 80]\n",
    " [90 90 90]]\n",
    "\"\"\"\n",
    "new_grades = grade_adjustment(grades_table)\n",
    "print(new_grades)"
   ]
  },
  {
   "cell_type": "code",
   "execution_count": 28,
   "metadata": {},
   "outputs": [
    {
     "name": "stdout",
     "output_type": "stream",
     "text": [
      "0\n",
      "1\n",
      "2\n",
      "3\n",
      "[[ 90  80  85]\n",
      " [ 75  80  77]\n",
      " [100  70  85]\n",
      " [100  70  85]]\n"
     ]
    }
   ],
   "source": [
    "grades_table = np.array([[60, 80, 70], \\\n",
    "                         [50, 80, 65], \\\n",
    "                         [80, 70, 75], \\\n",
    "                         [90, 70, 80]])\n",
    "\n",
    "# This should print\n",
    "\"\"\"\n",
    "[[ 90  80  85]\n",
    " [ 75  80  77]\n",
    " [100  70  85]\n",
    " [100  70  85]]\n",
    "\"\"\"\n",
    "new_grades = grade_adjustment(grades_table)\n",
    "print(new_grades)"
   ]
  },
  {
   "cell_type": "code",
   "execution_count": 18,
   "metadata": {},
   "outputs": [
    {
     "name": "stdout",
     "output_type": "stream",
     "text": [
      "5\n"
     ]
    }
   ],
   "source": []
  },
  {
   "cell_type": "code",
   "execution_count": null,
   "metadata": {},
   "outputs": [],
   "source": []
  }
 ],
 "metadata": {
  "kernelspec": {
   "display_name": "Python 3 (ipykernel)",
   "language": "python",
   "name": "python3"
  },
  "language_info": {
   "codemirror_mode": {
    "name": "ipython",
    "version": 3
   },
   "file_extension": ".py",
   "mimetype": "text/x-python",
   "name": "python",
   "nbconvert_exporter": "python",
   "pygments_lexer": "ipython3",
   "version": "3.13.1"
  }
 },
 "nbformat": 4,
 "nbformat_minor": 4
}
