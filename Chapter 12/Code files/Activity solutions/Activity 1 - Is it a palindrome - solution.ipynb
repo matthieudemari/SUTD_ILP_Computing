{
 "cells": [
  {
   "cell_type": "markdown",
   "metadata": {},
   "source": [
    "# Activity 1 - Is it a palindrome - solution\n",
    "\n",
    "From: https://en.wikipedia.org/wiki/Palindrome\n",
    "\n",
    "A **palindrome** is a word, number, phrase, or other sequence of characters which reads the same backward as forward, such as **madam**, **racecar**.\n",
    "\n",
    "There are also **numeric palindromes**, including date/time stamps using short digits **11/11/11 11:11** and long digits **02/02/2020**.\n",
    "\n",
    "**Sentence-length palindromes** may be written when allowances are made for adjustments to capital letters, punctuation, and word dividers, such as **\"A man, a plan, a canal, Panama!\"**."
   ]
  },
  {
   "cell_type": "markdown",
   "metadata": {},
   "source": [
    "### Task\n",
    "\n",
    "Write a function **is_palindrome()**, which receives a single word, in a string variable **word** as its sole input parameter. It should return **True** if the string in question is a palindrome; and **False** otherwise."
   ]
  },
  {
   "cell_type": "markdown",
   "metadata": {},
   "source": [
    "### Your code below!"
   ]
  },
  {
   "cell_type": "code",
   "execution_count": 1,
   "metadata": {},
   "outputs": [],
   "source": [
    "def is_palindrome(word):\n",
    "    \n",
    "    # Initialize is_pal as True\n",
    "    is_pal = True\n",
    "    \n",
    "    # Using a for loop index-wise\n",
    "    for index in range(len(word)):\n",
    "        # Retrieve character when reading forward\n",
    "        char = word[index]\n",
    "        # Retrieve character when reading forward\n",
    "        char2 = word[-1 - index]\n",
    "        #print(char, char2)\n",
    "        \n",
    "        # If the two characters do not match, it is not a palindrome\n",
    "        # and we can stop looking through the word \n",
    "        if char != char2:\n",
    "            is_pal =  False\n",
    "    \n",
    "    # Otherwise, if the for loop completes without interruption, it is a palindrome\n",
    "    return is_pal"
   ]
  },
  {
   "cell_type": "code",
   "execution_count": 4,
   "metadata": {},
   "outputs": [],
   "source": [
    "def is_palindrome(word):\n",
    "    # If the string does not change after reversing...\n",
    "    return word == word[::-1]"
   ]
  },
  {
   "cell_type": "code",
   "execution_count": 4,
   "metadata": {},
   "outputs": [],
   "source": [
    "def is_palindrome(word):\n",
    "    # If the string does not change after reversing...\n",
    "    # (Same idea but stop in the middle)\n",
    "    return word[:int(len(word)/2)] == word[int(len(word)/2)+1:][::-1]"
   ]
  },
  {
   "cell_type": "code",
   "execution_count": 7,
   "metadata": {},
   "outputs": [],
   "source": [
    "def is_palindrome(word):\n",
    "    \n",
    "    # Reverse word\n",
    "    rev_word = word[::-1]\n",
    "    \n",
    "    # Using a for loop with zip\n",
    "    for char, char2 in zip(word, rev_word):\n",
    "        #print(char, char2)\n",
    "        # If two characters do not match, it is not a palindrome\n",
    "        # and we can stop looking through the word \n",
    "        if char != char2:\n",
    "            return False\n",
    "    \n",
    "    # Otherwise it is a palindrome\n",
    "    return True"
   ]
  },
  {
   "cell_type": "code",
   "execution_count": 10,
   "metadata": {},
   "outputs": [],
   "source": [
    "def is_palindrome(word):\n",
    "    # For loop\n",
    "    # Check each letter, one at a time\n",
    "    for index, letter in enumerate(word[0:(len(word)//2)]):\n",
    "        print(\"-------\")\n",
    "        print(index, letter)\n",
    "        # Find the mirroring letter in the word\n",
    "        back_index = -index -1\n",
    "        back_letter = word[back_index]\n",
    "        print(back_index, back_letter)\n",
    "        # If they do not match, we do not have a palindrome\n",
    "        if(letter != back_letter):\n",
    "            return False\n",
    "    # If they all match, we have a palindrome\n",
    "    return True"
   ]
  },
  {
   "cell_type": "code",
   "execution_count": 11,
   "metadata": {},
   "outputs": [],
   "source": [
    "def is_palindrome(word):\n",
    "    # Recursive\n",
    "    if(len(word) == 1 or len(word) == 0):\n",
    "        return True\n",
    "    elif(word[0] != word[-1]):\n",
    "        return False\n",
    "    else:\n",
    "        return is_palindrome(word[1:-1])"
   ]
  },
  {
   "cell_type": "markdown",
   "metadata": {},
   "source": [
    "### Expected results"
   ]
  },
  {
   "cell_type": "code",
   "execution_count": 13,
   "metadata": {},
   "outputs": [
    {
     "name": "stdout",
     "output_type": "stream",
     "text": [
      "1.0579655170440674\n"
     ]
    }
   ],
   "source": [
    "# This should print True\n",
    "print(is_palindrome(\"girafarig\"))"
   ]
  },
  {
   "cell_type": "code",
   "execution_count": 14,
   "metadata": {},
   "outputs": [
    {
     "name": "stdout",
     "output_type": "stream",
     "text": [
      "0.9939785003662109\n"
     ]
    }
   ],
   "source": [
    "# This should print False\n",
    "print(is_palindrome(\"pikachu\"))"
   ]
  },
  {
   "cell_type": "code",
   "execution_count": 15,
   "metadata": {},
   "outputs": [
    {
     "name": "stdout",
     "output_type": "stream",
     "text": [
      "1.0594215393066406\n"
     ]
    }
   ],
   "source": [
    "# This should print False\n",
    "print(is_palindrome(\"pikachuip\"))"
   ]
  },
  {
   "cell_type": "code",
   "execution_count": null,
   "metadata": {},
   "outputs": [],
   "source": [
    "# This should print True\n",
    "print(is_palindrome(\"k\"))"
   ]
  },
  {
   "cell_type": "code",
   "execution_count": null,
   "metadata": {},
   "outputs": [],
   "source": [
    "# This should print True\n",
    "print(is_palindrome(\"\"))"
   ]
  }
 ],
 "metadata": {
  "kernelspec": {
   "display_name": "Python 3 (ipykernel)",
   "language": "python",
   "name": "python3"
  },
  "language_info": {
   "codemirror_mode": {
    "name": "ipython",
    "version": 3
   },
   "file_extension": ".py",
   "mimetype": "text/x-python",
   "name": "python",
   "nbconvert_exporter": "python",
   "pygments_lexer": "ipython3",
   "version": "3.12.5"
  }
 },
 "nbformat": 4,
 "nbformat_minor": 4
}
