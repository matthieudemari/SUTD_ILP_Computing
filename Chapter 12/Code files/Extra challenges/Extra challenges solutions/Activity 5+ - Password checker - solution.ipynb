{
 "cells": [
  {
   "cell_type": "markdown",
   "metadata": {},
   "source": [
    "# Activity 5 - Password checker - solution\n",
    "\n",
    "### Task\n",
    "\n",
    "Write a function **password_check()**, as in Activity 5, but it should now consist of a single line function."
   ]
  },
  {
   "cell_type": "markdown",
   "metadata": {},
   "source": [
    "### Your code below"
   ]
  },
  {
   "cell_type": "code",
   "execution_count": 8,
   "metadata": {},
   "outputs": [],
   "source": [
    "def password_check(password):\n",
    "    return len(password) >= 8 \\\n",
    "        and sum([l.isalpha() for l in password])>= 1 \\\n",
    "        and sum([l.isdigit() for l in password])>= 1 \\\n",
    "        and sum([not l.isalnum() for l in password])>= 1"
   ]
  },
  {
   "cell_type": "markdown",
   "metadata": {},
   "source": [
    "### Expected results"
   ]
  },
  {
   "cell_type": "code",
   "execution_count": 9,
   "metadata": {},
   "outputs": [
    {
     "name": "stdout",
     "output_type": "stream",
     "text": [
      "False\n",
      "False\n",
      "False\n",
      "True\n"
     ]
    }
   ],
   "source": [
    "# This should print False\n",
    "print(password_check(\"Pika?7\"))\n",
    "# This should print False\n",
    "print(password_check(\"Pikachuuuu\"))\n",
    "# This should print False\n",
    "print(password_check(\"Pikachu999\"))\n",
    "# This should print True\n",
    "print(password_check(\"P1k@chuuu\"))"
   ]
  },
  {
   "cell_type": "code",
   "execution_count": null,
   "metadata": {},
   "outputs": [],
   "source": []
  }
 ],
 "metadata": {
  "kernelspec": {
   "display_name": "Python 3",
   "language": "python",
   "name": "python3"
  },
  "language_info": {
   "codemirror_mode": {
    "name": "ipython",
    "version": 3
   },
   "file_extension": ".py",
   "mimetype": "text/x-python",
   "name": "python",
   "nbconvert_exporter": "python",
   "pygments_lexer": "ipython3",
   "version": "3.8.3"
  }
 },
 "nbformat": 4,
 "nbformat_minor": 4
}
