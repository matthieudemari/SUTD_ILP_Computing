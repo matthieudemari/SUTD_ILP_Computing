{
 "cells": [
  {
   "cell_type": "markdown",
   "metadata": {},
   "source": [
    "# Activity 4 - Create password from sentence\n",
    "\n",
    "From: https://en.wikipedia.org/wiki/Passphrase\n",
    "\n",
    "A **passphrase** is a sentence which can be used to create passwords that are difficult to crack and easy to memorize.\n",
    "\n",
    "The user simply needs to create a memorable sentence containing multiple words. Later on, the user will assemble a password by alternating the first letter of each word in the passphrase and the number of characters in it. In addition, add the special characters when they appear.\n",
    "\n",
    "For instance, the sentence \"I used to be an adventurer like you until I took an arrow to the knee\" can be used to generate the following password \"I1u4t2b2a2a10l4y3u5I1t4a2a5t2t3k4\""
   ]
  },
  {
   "cell_type": "markdown",
   "metadata": {},
   "source": [
    "### Task\n",
    "\n",
    "Write a function **generate_password()**, which receives a passphrase as its only parameter.\n",
    "\n",
    "It returns a single output, consisting of a string generated according to the method described above."
   ]
  },
  {
   "cell_type": "markdown",
   "metadata": {},
   "source": [
    "### Your code below!"
   ]
  },
  {
   "cell_type": "code",
   "execution_count": null,
   "metadata": {},
   "outputs": [],
   "source": [
    "def generate_password(passphrase):\n",
    "    password = None\n",
    "    return password"
   ]
  },
  {
   "cell_type": "markdown",
   "metadata": {},
   "source": [
    "### Expected results"
   ]
  },
  {
   "cell_type": "code",
   "execution_count": null,
   "metadata": {},
   "outputs": [],
   "source": [
    "# Test case 1: \"I used to be an adventurer like you until I took an arrow to the knee\"\n",
    "passphrase = \"I used to be an adventurer like you until I took an arrow to the knee\"\n",
    "password = generate_password(passphrase)\n",
    "# This should print I1u4t2b2a2a10l4y3u5I1t4a2a5t2t3k4\n",
    "print(password)"
   ]
  },
  {
   "cell_type": "code",
   "execution_count": null,
   "metadata": {},
   "outputs": [],
   "source": [
    "# Test case 2: \"A sword wields no strength unless the hands that holds it has courage\"\n",
    "passphrase = \"A sword wields no strength unless the hand that holds it has courage\"\n",
    "password = generate_password(passphrase)\n",
    "# This should print A1s5w6n2s8u6t3h4t4h5i2h3c7\n",
    "print(password)"
   ]
  },
  {
   "cell_type": "code",
   "execution_count": null,
   "metadata": {},
   "outputs": [],
   "source": [
    "# Test 3: \"War is where the young and stupid are tricked by the old and bitter into killing each other\"\n",
    "passphrase = \"War is where the young and stupid are tricked by the old and bitter into killing each other\"\n",
    "password = generate_password(passphrase)\n",
    "# This should print W3i2w5t3y5a3s6a3t7b2t3o3a3b6i4k7e4o5\n",
    "print(password)"
   ]
  },
  {
   "cell_type": "markdown",
   "metadata": {},
   "source": [
    "### Extra points\n",
    "\n",
    "If you find where each sentence comes from!"
   ]
  },
  {
   "cell_type": "code",
   "execution_count": null,
   "metadata": {},
   "outputs": [],
   "source": []
  }
 ],
 "metadata": {
  "kernelspec": {
   "display_name": "Python 3 (ipykernel)",
   "language": "python",
   "name": "python3"
  },
  "language_info": {
   "codemirror_mode": {
    "name": "ipython",
    "version": 3
   },
   "file_extension": ".py",
   "mimetype": "text/x-python",
   "name": "python",
   "nbconvert_exporter": "python",
   "pygments_lexer": "ipython3",
   "version": "3.13.1"
  }
 },
 "nbformat": 4,
 "nbformat_minor": 4
}
