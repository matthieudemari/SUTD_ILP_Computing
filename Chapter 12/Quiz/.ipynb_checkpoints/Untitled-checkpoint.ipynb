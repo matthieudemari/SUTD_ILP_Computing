{
 "cells": [
  {
   "cell_type": "code",
   "execution_count": 1,
   "id": "cde899be-cff4-4d3b-aaf0-49a4933abaf8",
   "metadata": {},
   "outputs": [
    {
     "ename": "SyntaxError",
     "evalue": "invalid syntax (862755410.py, line 6)",
     "output_type": "error",
     "traceback": [
      "\u001b[1;36m  Cell \u001b[1;32mIn[1], line 6\u001b[1;36m\u001b[0m\n\u001b[1;33m    psspsspss*\u001b[0m\n\u001b[1;37m              ^\u001b[0m\n\u001b[1;31mSyntaxError\u001b[0m\u001b[1;31m:\u001b[0m invalid syntax\n"
     ]
    }
   ],
   "source": [
    "a = 'pss'\n",
    "print(a*3)\n",
    "\n",
    "# What is the output of this code?\n",
    "pppssssss\n",
    "psspsspss*\n",
    "pss pss pss\n",
    "There is a Type Error in the code as you are using the * operator with a str and an int."
   ]
  },
  {
   "cell_type": "code",
   "execution_count": 2,
   "id": "db9868ba-30db-4205-8148-24f300cc2898",
   "metadata": {},
   "outputs": [
    {
     "ename": "SyntaxError",
     "evalue": "invalid syntax (545940779.py, line 7)",
     "output_type": "error",
     "traceback": [
      "\u001b[1;36m  Cell \u001b[1;32mIn[2], line 7\u001b[1;36m\u001b[0m\n\u001b[1;33m    pss pss pss\u001b[0m\n\u001b[1;37m        ^\u001b[0m\n\u001b[1;31mSyntaxError\u001b[0m\u001b[1;31m:\u001b[0m invalid syntax\n"
     ]
    }
   ],
   "source": [
    "a = 'sutd'\n",
    "print(a-3)\n",
    "\n",
    "# What is the output of this code?\n",
    "s\n",
    "sut\n",
    "sutd-3\n",
    "There is a Type Error in the code as you are using the - operator with a str and an int.*"
   ]
  },
  {
   "cell_type": "code",
   "execution_count": null,
   "id": "1705950d-0dd6-4980-95c5-776826f5650b",
   "metadata": {},
   "outputs": [],
   "source": []
  }
 ],
 "metadata": {
  "kernelspec": {
   "display_name": "Python 3 (ipykernel)",
   "language": "python",
   "name": "python3"
  },
  "language_info": {
   "codemirror_mode": {
    "name": "ipython",
    "version": 3
   },
   "file_extension": ".py",
   "mimetype": "text/x-python",
   "name": "python",
   "nbconvert_exporter": "python",
   "pygments_lexer": "ipython3",
   "version": "3.12.5"
  }
 },
 "nbformat": 4,
 "nbformat_minor": 5
}
