{
 "cells": [
  {
   "cell_type": "code",
   "execution_count": 1,
   "id": "cde899be-cff4-4d3b-aaf0-49a4933abaf8",
   "metadata": {},
   "outputs": [
    {
     "ename": "SyntaxError",
     "evalue": "invalid syntax (862755410.py, line 6)",
     "output_type": "error",
     "traceback": [
      "\u001b[1;36m  Cell \u001b[1;32mIn[1], line 6\u001b[1;36m\u001b[0m\n\u001b[1;33m    psspsspss*\u001b[0m\n\u001b[1;37m              ^\u001b[0m\n\u001b[1;31mSyntaxError\u001b[0m\u001b[1;31m:\u001b[0m invalid syntax\n"
     ]
    }
   ],
   "source": [
    "a = 'pss'\n",
    "print(a*3)\n",
    "\n",
    "# What is the output of this code?\n",
    "pppssssss\n",
    "psspsspss*\n",
    "pss pss pss\n",
    "There is a Type Error in the code as we are using the * operator with a str and an int."
   ]
  },
  {
   "cell_type": "code",
   "execution_count": 6,
   "id": "db9868ba-30db-4205-8148-24f300cc2898",
   "metadata": {},
   "outputs": [
    {
     "ename": "SyntaxError",
     "evalue": "invalid syntax (3108959974.py, line 8)",
     "output_type": "error",
     "traceback": [
      "\u001b[1;36m  Cell \u001b[1;32mIn[6], line 8\u001b[1;36m\u001b[0m\n\u001b[1;33m    There is a Type Error in the code as you are using the - operator with a str and an int.*\u001b[0m\n\u001b[1;37m               ^\u001b[0m\n\u001b[1;31mSyntaxError\u001b[0m\u001b[1;31m:\u001b[0m invalid syntax\n"
     ]
    }
   ],
   "source": [
    "a = 'sutd'\n",
    "print(a-3)\n",
    "\n",
    "# What is the output of this code?\n",
    "s\n",
    "sut\n",
    "sutd-3\n",
    "There is a Type Error in the code as we are using the - operator with a str and an int.*"
   ]
  },
  {
   "cell_type": "code",
   "execution_count": 25,
   "id": "1705950d-0dd6-4980-95c5-776826f5650b",
   "metadata": {},
   "outputs": [
    {
     "name": "stdout",
     "output_type": "stream",
     "text": [
      "False\n",
      "\n",
      "False\n",
      "was\n",
      "False\n",
      "was \n",
      "False\n",
      " was\n",
      "True\n"
     ]
    }
   ],
   "source": [
    "s = \"I saw him yesterday\"\n",
    "x = ???\n",
    "print(x == \" was\")\n",
    "\n",
    "# Which slicing should we use on line 2 to produce a True on line 3?\n",
    "x = s[4:1]\n",
    "print(x)\n",
    "print(x == \" was\")\n",
    "x = s[4:1:-1]\n",
    "print(x)\n",
    "print(x == \" was\")\n",
    "x = s[4:0:-1]\n",
    "print(x)\n",
    "print(x == \" was\")\n",
    "x = s[5:1:-1]*\n",
    "print(x)\n",
    "print(x == \" was\")"
   ]
  },
  {
   "cell_type": "code",
   "execution_count": 28,
   "id": "fe7f40e3-bcd5-4d80-aa04-7bb423afdd44",
   "metadata": {},
   "outputs": [
    {
     "name": "stdout",
     "output_type": "stream",
     "text": [
      "25\n"
     ]
    }
   ],
   "source": [
    "s = \"Americano best coffee\"\n",
    "s.replace(\"Americano\", \"Kopi O Kosong\")\n",
    "print(len(s))\n",
    "\n",
    "# What will be printed on line 3?\n",
    "3\n",
    "5\n",
    "21*\n",
    "25"
   ]
  },
  {
   "cell_type": "code",
   "execution_count": 30,
   "id": "4f4c4171-10de-42da-94a8-b4de408cb3c9",
   "metadata": {},
   "outputs": [
    {
     "name": "stdout",
     "output_type": "stream",
     "text": [
      "True\n",
      "False\n",
      "False\n"
     ]
    },
    {
     "ename": "NameError",
     "evalue": "name 'isalpha' is not defined",
     "output_type": "error",
     "traceback": [
      "\u001b[1;31m---------------------------------------------------------------------------\u001b[0m",
      "\u001b[1;31mNameError\u001b[0m                                 Traceback (most recent call last)",
      "Cell \u001b[1;32mIn[30], line 7\u001b[0m\n\u001b[0;32m      5\u001b[0m \u001b[38;5;28mprint\u001b[39m(s\u001b[38;5;241m.\u001b[39misdigit())\n\u001b[0;32m      6\u001b[0m \u001b[38;5;28mprint\u001b[39m(\u001b[38;5;129;01mnot\u001b[39;00m s\u001b[38;5;241m.\u001b[39misalnum())\n\u001b[1;32m----> 7\u001b[0m \u001b[38;5;28mprint\u001b[39m(s \u001b[38;5;241m==\u001b[39m \u001b[43misalpha\u001b[49m())\n",
      "\u001b[1;31mNameError\u001b[0m: name 'isalpha' is not defined"
     ]
    }
   ],
   "source": [
    "# Given a string s = \"MatthieuDeMari\", which of these will produce a True?\n",
    "print(s.isalpha())*\n",
    "print(s.isdigit())\n",
    "print(not s.isalnum())\n",
    "print(s == isalpha())"
   ]
  },
  {
   "cell_type": "code",
   "execution_count": null,
   "id": "ec171d88-10f9-4b0b-b9ea-ea7d3adcb731",
   "metadata": {},
   "outputs": [],
   "source": []
  }
 ],
 "metadata": {
  "kernelspec": {
   "display_name": "Python 3 (ipykernel)",
   "language": "python",
   "name": "python3"
  },
  "language_info": {
   "codemirror_mode": {
    "name": "ipython",
    "version": 3
   },
   "file_extension": ".py",
   "mimetype": "text/x-python",
   "name": "python",
   "nbconvert_exporter": "python",
   "pygments_lexer": "ipython3",
   "version": "3.12.5"
  }
 },
 "nbformat": 4,
 "nbformat_minor": 5
}
