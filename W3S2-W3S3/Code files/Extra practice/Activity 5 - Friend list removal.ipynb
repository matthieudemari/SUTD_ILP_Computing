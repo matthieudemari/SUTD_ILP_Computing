{
 "cells": [
  {
   "cell_type": "markdown",
   "metadata": {},
   "source": [
    "# Activity 5 - Friend list removal"
   ]
  },
  {
   "cell_type": "markdown",
   "metadata": {},
   "source": [
    "Let us consider you have a friends list, defined as a list below."
   ]
  },
  {
   "cell_type": "code",
   "execution_count": null,
   "metadata": {},
   "outputs": [],
   "source": [
    "friends_list = [\"Matt\", \"Chris\", \"Tony\", \"Oka\", \"Cyrille\"]\n",
    "print(friends_list)"
   ]
  },
  {
   "cell_type": "markdown",
   "metadata": {},
   "source": [
    "Let us now assume, we would like to unfriend a group of specific friends, for instance:"
   ]
  },
  {
   "cell_type": "code",
   "execution_count": null,
   "metadata": {},
   "outputs": [],
   "source": [
    "unfriend = [\"Chris\", \"Tony\"]"
   ]
  },
  {
   "cell_type": "markdown",
   "metadata": {},
   "source": [
    "Write a function **unfriend_list()**, which:\n",
    "- receives a friends list, *friends_list*, as its first input parameter,\n",
    "- receives a list of people to unfriend and remove from the friends list, *unfriend*, as its second input parameter,\n",
    "- returns the updated friend list *friends_list*, where the friends in *unfriend* have been removed from *friends_list*.\n",
    "- Note that if a name written in *unfriend* does not appear in the *friends_list* to begin with, then our function should still work. We should simply ignore this name."
   ]
  },
  {
   "cell_type": "markdown",
   "metadata": {},
   "source": [
    "### Your code below!"
   ]
  },
  {
   "cell_type": "code",
   "execution_count": null,
   "metadata": {},
   "outputs": [],
   "source": [
    "def unfriend_list(friends_list, unfriend):\n",
    "    return None"
   ]
  },
  {
   "cell_type": "markdown",
   "metadata": {},
   "source": [
    "### Expected results"
   ]
  },
  {
   "cell_type": "code",
   "execution_count": 9,
   "metadata": {},
   "outputs": [
    {
     "name": "stdout",
     "output_type": "stream",
     "text": [
      "['Matt', 'Oka', 'Cyrille']\n"
     ]
    }
   ],
   "source": [
    "friends_list = [\"Matt\", \"Chris\", \"Tony\", \"Oka\", \"Cyrille\"]\n",
    "unfriend = [\"Chris\", \"Tony\"]\n",
    "\n",
    "# This should print ['Matt', 'Oka', 'Cyrille'] \n",
    "new_friends_list = unfriend_list(friends_list, unfriend)\n",
    "print(new_friends_list)"
   ]
  },
  {
   "cell_type": "code",
   "execution_count": 10,
   "metadata": {},
   "outputs": [
    {
     "name": "stdout",
     "output_type": "stream",
     "text": [
      "['Matt', 'Tony', 'Oka', 'Cyrille']\n"
     ]
    }
   ],
   "source": [
    "friends_list = [\"Matt\", \"Chris\", \"Tony\", \"Oka\", \"Cyrille\"]\n",
    "unfriend = [\"Chris\", \"Simon\"]\n",
    "\n",
    "# This should print ['Matt', 'Tony', 'Oka', 'Cyrille']\n",
    "# (Simon was not part of the friends list in the first place.)\n",
    "# (The code should still work.)\n",
    "new_friends_list = unfriend_list(friends_list, unfriend)\n",
    "print(new_friends_list)"
   ]
  },
  {
   "cell_type": "code",
   "execution_count": null,
   "metadata": {},
   "outputs": [],
   "source": []
  }
 ],
 "metadata": {
  "kernelspec": {
   "display_name": "Python 3 (ipykernel)",
   "language": "python",
   "name": "python3"
  },
  "language_info": {
   "codemirror_mode": {
    "name": "ipython",
    "version": 3
   },
   "file_extension": ".py",
   "mimetype": "text/x-python",
   "name": "python",
   "nbconvert_exporter": "python",
   "pygments_lexer": "ipython3",
   "version": "3.10.5"
  }
 },
 "nbformat": 4,
 "nbformat_minor": 4
}
