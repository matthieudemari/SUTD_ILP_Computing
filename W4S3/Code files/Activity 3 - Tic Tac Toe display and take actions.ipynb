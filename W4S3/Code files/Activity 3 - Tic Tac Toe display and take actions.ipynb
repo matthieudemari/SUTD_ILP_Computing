{
 "cells": [
  {
   "cell_type": "markdown",
   "metadata": {},
   "source": [
    "# Activity 3 - Tic Tac Toe display and take actions"
   ]
  },
  {
   "cell_type": "markdown",
   "metadata": {},
   "source": [
    "In this activity 3, as well as activities 2 and 4, we will import and design functions related to the game of Tic Tac Toe. I suggest taking these activities in order, as they will progressively guide toward more and more complex task, until you eventually reach a fully functional Tic Tac Toe game!"
   ]
  },
  {
   "cell_type": "markdown",
   "metadata": {},
   "source": [
    "We will use the Numpy library, let us start by importing it."
   ]
  },
  {
   "cell_type": "code",
   "execution_count": null,
   "metadata": {},
   "outputs": [],
   "source": [
    "import numpy as np\n",
    "from copy import deepcopy"
   ]
  },
  {
   "cell_type": "markdown",
   "metadata": {},
   "source": [
    "### Problem statement\n",
    "\n",
    "As we have seen earlier in a previous Tic Tac Toe activity, we can represent the status of a Tic Tac Toe board, by using a list of lists, or a 2D Numpy array.\n",
    "\n",
    "For convenience, we will here use a 2D Numpy array, of size $ 3 \\times 3$, whose elements take values in $ {0, 1, 2} $, where:\n",
    "- 0 means the position is empty,\n",
    "- 1 means the position is currently occupied by a circle,\n",
    "- 2 means the position is currently occupied by a cross.\n",
    "\n",
    "Below, we give an example of a board, containing circles in top center and bottom left locations, and crosses in top right, center en bottom right locations."
   ]
  },
  {
   "cell_type": "code",
   "execution_count": null,
   "metadata": {},
   "outputs": [],
   "source": [
    "board = np.array([[0, 1, 2], \\\n",
    "                  [0, 2, 0], \\\n",
    "                  [1, 0, 2]])"
   ]
  },
  {
   "cell_type": "markdown",
   "metadata": {},
   "source": [
    "### Task 1\n",
    "\n",
    "Open the file **file3.py** (either by clicking it on the Jupyter homepage tab, or by opening it in a text editor, such as notepad). As you will observe, it now contains both the **display_board()** and the **check_valid_coordinates()** functions from Activity 2.\n",
    "\n",
    "Our first task is to import the **display_board()** and **check_valid_coordinates()** functions, from the **file3.py** so that it can be used in this notebook and other functions we will design later on."
   ]
  },
  {
   "cell_type": "code",
   "execution_count": null,
   "metadata": {},
   "outputs": [],
   "source": [
    "# Import the display_board() and check_valid_coordinates() functions, from the file3.py\n",
    "\"\"\"\n",
    "Your import?\n",
    "\"\"\""
   ]
  },
  {
   "cell_type": "code",
   "execution_count": null,
   "metadata": {},
   "outputs": [],
   "source": [
    "# This should run without errors if the import worked\n",
    "display_board(board)\n",
    "x_coord1 = 0\n",
    "y_coord1 = 0\n",
    "is_valid = check_valid_coordinates(board, x_coord1, y_coord1)"
   ]
  },
  {
   "cell_type": "markdown",
   "metadata": {},
   "source": [
    "### Task 2\n",
    "\n",
    "Time for the real task!\n",
    "\n",
    "Write a function **take_action()**, which:\n",
    "- receives a *board*, defined - as before - as a $ 3 \\times 3 $ Numpy array; it consists of the current state of the game.\n",
    "- receives two number coordinates *x_coord* and *y_coord*; it correspond to a position where the next player would like to play.\n",
    "- receives a boolean *is_circle* set to True if it is circles' turn to play, and False if it is crosses' turn.\n",
    "\n",
    "This function should\n",
    "- display the current board in variable *board*, and right before that, print a message that reads \"Displaying previous board.\";\n",
    "- check if the coordinates *x_coord* and *y_coord* are valid for this current board;\n",
    "- if these are valid, it should alter the board in *board*, by adding an extra value somewhere, as to take into account the intent of the current player (circles or crosses) to play at coordinates *x_coord* and *y_coord*;\n",
    "- once updated, it should then display the updated board, and right before that, print a message that reads \"Displaying new board after action [... , ...].\", with the blanks (...) filled accordingly;\n",
    "- finally, it should return the updated board, with the added action.\n",
    "- Note that if the given action *x_coord* and *y_coord* was invalid, then the board should remain unchanged, and the function will simply return the original board *board*, without any updates.\n",
    "\n",
    "**Important:** you might find it useful to **reuse** some of the functions we imported earlier (namely, the display_board() and check_valid_coordinates() functions), inside the *take_action()* function itself!"
   ]
  },
  {
   "cell_type": "markdown",
   "metadata": {},
   "source": [
    "### You code below!"
   ]
  },
  {
   "cell_type": "code",
   "execution_count": null,
   "metadata": {},
   "outputs": [],
   "source": [
    "def take_action(board, x_coord, y_coord, is_circle):\n",
    "    \n",
    "    # 1. Display previous board\n",
    "    None\n",
    "    \n",
    "    # 2. Check if we have valid coordinates\n",
    "    None\n",
    "    \n",
    "    # If valid coordinates, 3. update the board\n",
    "    if(None):\n",
    "        new_board = None\n",
    "\n",
    "    # 4. Display new board\n",
    "    None\n",
    "    \n",
    "    # 5. Return new board\n",
    "    return new_board"
   ]
  },
  {
   "cell_type": "markdown",
   "metadata": {},
   "source": [
    "### Expected results\n",
    "\n",
    "Let us consider the board below, for all our test cases."
   ]
  },
  {
   "cell_type": "code",
   "execution_count": null,
   "metadata": {},
   "outputs": [],
   "source": [
    "board = np.array([[0, 1, 2], \\\n",
    "                  [0, 2, 0], \\\n",
    "                  [1, 0, 2]])\n",
    "display_board(board)"
   ]
  },
  {
   "cell_type": "markdown",
   "metadata": {},
   "source": [
    "The cells below should run without errors, with the expected behavior."
   ]
  },
  {
   "cell_type": "code",
   "execution_count": null,
   "metadata": {},
   "outputs": [],
   "source": [
    "# Test case #1: The location [0, 0] is valid\n",
    "# and should update the board with a circle at location [0, 0].\n",
    "board = np.array([[0, 1, 2], \\\n",
    "                  [0, 2, 0], \\\n",
    "                  [1, 0, 2]])\n",
    "x_coord1 = 0\n",
    "y_coord1 = 0\n",
    "is_circle = True\n",
    "new_board = take_action(board, x_coord1, y_coord1, is_circle)"
   ]
  },
  {
   "cell_type": "code",
   "execution_count": null,
   "metadata": {},
   "outputs": [],
   "source": [
    "# Test case #2: The location [2, 1] is valid\n",
    "# and should update the board with a cross at location [2, 1].\n",
    "board = np.array([[0, 1, 2], \\\n",
    "                  [0, 2, 0], \\\n",
    "                  [1, 0, 2]])\n",
    "x_coord2 = 2\n",
    "y_coord2 = 1\n",
    "is_circle = False\n",
    "new_board = take_action(board, x_coord2, y_coord2, is_circle)"
   ]
  },
  {
   "cell_type": "code",
   "execution_count": null,
   "metadata": {},
   "outputs": [],
   "source": [
    "# Test case #3: The location [3, 0] is invalid\n",
    "# and should not update the board.\n",
    "board = np.array([[0, 1, 2], \\\n",
    "                  [0, 2, 0], \\\n",
    "                  [1, 0, 2]])\n",
    "x_coord3 = 3\n",
    "y_coord3 = 0\n",
    "is_circle = False\n",
    "new_board = take_action(board, x_coord3, y_coord3, is_circle)"
   ]
  },
  {
   "cell_type": "code",
   "execution_count": null,
   "metadata": {},
   "outputs": [],
   "source": [
    "# Test case #4: The location [0, 5] is invalid\n",
    "# and should not update the board.\n",
    "board = np.array([[0, 1, 2], \\\n",
    "                  [0, 2, 0], \\\n",
    "                  [1, 0, 2]])\n",
    "x_coord4 = 0\n",
    "y_coord4 = 5\n",
    "is_circle = True\n",
    "new_board = take_action(board, x_coord4, y_coord4, is_circle)"
   ]
  },
  {
   "cell_type": "code",
   "execution_count": null,
   "metadata": {},
   "outputs": [],
   "source": [
    "# Test case #5: The location [1, 1] is invalid\n",
    "# and should not update the board.\n",
    "board = np.array([[0, 1, 2], \\\n",
    "                  [0, 2, 0], \\\n",
    "                  [1, 0, 2]])\n",
    "x_coord5 = 1\n",
    "y_coord5 = 1\n",
    "is_circle = True\n",
    "new_board = take_action(board, x_coord5, y_coord5, is_circle)"
   ]
  },
  {
   "cell_type": "code",
   "execution_count": null,
   "metadata": {},
   "outputs": [],
   "source": []
  }
 ],
 "metadata": {
  "kernelspec": {
   "display_name": "Python 3",
   "language": "python",
   "name": "python3"
  },
  "language_info": {
   "codemirror_mode": {
    "name": "ipython",
    "version": 3
   },
   "file_extension": ".py",
   "mimetype": "text/x-python",
   "name": "python",
   "nbconvert_exporter": "python",
   "pygments_lexer": "ipython3",
   "version": "3.9.6"
  }
 },
 "nbformat": 4,
 "nbformat_minor": 4
}
