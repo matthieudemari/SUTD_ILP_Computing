{
 "cells": [
  {
   "cell_type": "code",
   "execution_count": 5,
   "id": "afa6b32e",
   "metadata": {},
   "outputs": [
    {
     "name": "stdout",
     "output_type": "stream",
     "text": [
      "[[ 1  2  3]\n",
      " [ 5  7 11]]\n",
      "0 [1 2 3]\n",
      "1 [ 5  7 11]\n"
     ]
    }
   ],
   "source": [
    "import numpy as np\n",
    "my_list = np.array([[1, 2, 3], [5, 7, 11]])\n",
    "print(my_list)\n",
    "for index, line in enumerate(my_list):\n",
    "    print(index, line)"
   ]
  },
  {
   "cell_type": "code",
   "execution_count": 7,
   "id": "22094b9c",
   "metadata": {},
   "outputs": [
    {
     "name": "stdout",
     "output_type": "stream",
     "text": [
      "[[1 2]\n",
      " [5 7]]\n"
     ]
    }
   ],
   "source": [
    "my_list = np.array([[1, 2, 3], [5, 7, 11]])\n",
    "print(my_list[:, 0:2])"
   ]
  },
  {
   "cell_type": "code",
   "execution_count": 8,
   "id": "e1e4ddb0",
   "metadata": {},
   "outputs": [],
   "source": [
    "grades_table = np.array([[\"Student Name\", \"MidTerm Score\", \"FinalExam Score\", \"Average Score\"], \\\n",
    "                         [\"Chris\", '60', '80', '70'], \\\n",
    "                         [\"Oka\", '50', '80', '65'], \\\n",
    "                         [\"Norman\", '40', '70', '55'], \\\n",
    "                         [\"Natalie\", '60', '70', '65'], \\\n",
    "                         [\"Tony\", '60', '90', '75']])"
   ]
  },
  {
   "cell_type": "code",
   "execution_count": 10,
   "id": "b695b1a0",
   "metadata": {},
   "outputs": [
    {
     "name": "stdout",
     "output_type": "stream",
     "text": [
      "[['Chris' '60' '80' '70']\n",
      " ['Oka' '50' '80' '65']\n",
      " ['Norman' '40' '70' '55']\n",
      " ['Natalie' '60' '70' '65']\n",
      " ['Tony' '60' '90' '75']]\n"
     ]
    }
   ],
   "source": [
    "print(grades_table[1:, :])"
   ]
  },
  {
   "cell_type": "code",
   "execution_count": null,
   "id": "375f910d",
   "metadata": {},
   "outputs": [],
   "source": []
  }
 ],
 "metadata": {
  "kernelspec": {
   "display_name": "Python 3",
   "language": "python",
   "name": "python3"
  },
  "language_info": {
   "codemirror_mode": {
    "name": "ipython",
    "version": 3
   },
   "file_extension": ".py",
   "mimetype": "text/x-python",
   "name": "python",
   "nbconvert_exporter": "python",
   "pygments_lexer": "ipython3",
   "version": "3.9.6"
  }
 },
 "nbformat": 4,
 "nbformat_minor": 5
}
