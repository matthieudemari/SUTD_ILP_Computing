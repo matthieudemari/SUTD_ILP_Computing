{
 "cells": [
  {
   "cell_type": "markdown",
   "metadata": {},
   "source": [
    "# Activity 1 - Exam adjustments"
   ]
  },
  {
   "cell_type": "markdown",
   "metadata": {},
   "source": [
    "For this activity, we will use the Numpy library. Let us start by importing it."
   ]
  },
  {
   "cell_type": "code",
   "execution_count": null,
   "metadata": {},
   "outputs": [],
   "source": [
    "import numpy as np"
   ]
  },
  {
   "cell_type": "markdown",
   "metadata": {},
   "source": [
    "### Problem statement\n",
    "\n",
    "Let us assume, that I have grades from my students listed in the np.array below. As you can see, the first line contains the column labels (student name, some scores) and the other lines will consist of entries regarding some of the students.\n",
    "\n",
    "For instance, Chris scored 60 points on the midterm and 80 points on the final exam, leading to an average score of 70 for the whole term."
   ]
  },
  {
   "cell_type": "code",
   "execution_count": null,
   "metadata": {},
   "outputs": [],
   "source": [
    "grades_table = np.array([[\"Student Name\", \"MidTerm Score\", \"FinalExam Score\", \"Average Score\"], \\\n",
    "                         [\"Chris\", '60', '80', '70'], \\\n",
    "                         [\"Oka\", '50', '80', '65'], \\\n",
    "                         [\"Norman\", '40', '70', '55'], \\\n",
    "                         [\"Natalie\", '60', '70', '65'], \\\n",
    "                         [\"Tony\", '60', '90', '75']])\n",
    "print(grades_table)"
   ]
  },
  {
   "cell_type": "markdown",
   "metadata": {},
   "source": [
    "### Task\n",
    "\n",
    "Let us assume that, as a professor, I have decided to be lenient towards my students. I realized that the midterm was a bit too difficult compared to last year. To compensate for that, I would like to increase the scores of all students on the midterm by 50%.\n",
    "\n",
    "Write a **function grade_adjustment()**, which:\n",
    "- receives a grades table, *grades_table*, as defined above,\n",
    "- *increases* the scores of all students on the midterm by *50%*,\n",
    "- *re-calculates* the *average score*, with the new adjusted midterm score,\n",
    "- and then *returns* the *updated grades table* as its sole output.\n",
    "\n",
    "**Important note:** The *maximal score* for the midterm exam is *capped* to *100*. This means that a student which score 80 points on the midterm, will not obtain 120 points after the adjustment, but only 100."
   ]
  },
  {
   "cell_type": "markdown",
   "metadata": {},
   "source": [
    "### You code below!"
   ]
  },
  {
   "cell_type": "code",
   "execution_count": null,
   "metadata": {},
   "outputs": [],
   "source": [
    "from copy import deepcopy\n",
    "\n",
    "def grade_adjustment(grades_table):\n",
    "    # Make deepcopy of grades_table\n",
    "    new_grades_table = deepcopy(grades_table)\n",
    "    \n",
    "    # Update this copy and return it\n",
    "    ?\n",
    "    return new_grades_table"
   ]
  },
  {
   "cell_type": "markdown",
   "metadata": {},
   "source": [
    "### Expected results"
   ]
  },
  {
   "cell_type": "code",
   "execution_count": null,
   "metadata": {},
   "outputs": [],
   "source": [
    "grades_table = np.array([[\"Student Name\", \"MidTerm Score\", \"FinalExam Score\", \"Average Score\"], \\\n",
    "                         [\"Chris\", '60', '80', '70'], \\\n",
    "                         [\"Oka\", '50', '80', '65'], \\\n",
    "                         [\"Norman\", '40', '70', '55'], \\\n",
    "                         [\"Natalie\", '60', '70', '65'], \\\n",
    "                         [\"Tony\", '60', '90', '75']])\n",
    "\n",
    "# This should print\n",
    "\"\"\"\n",
    "[['Student Name' 'MidTerm Score' 'FinalExam Score' 'Average Score']\n",
    " ['Chris' '90.0' '80' '85.0']\n",
    " ['Oka' '75.0' '80' '77.5']\n",
    " ['Norman' '60.0' '70' '65.0']\n",
    " ['Natalie' '90.0' '70' '80.0']\n",
    " ['Tony' '90.0' '90' '90.0']]\n",
    "\"\"\"\n",
    "\n",
    "new_grades = grade_adjustment(grades_table)\n",
    "print(new_grades)"
   ]
  },
  {
   "cell_type": "code",
   "execution_count": null,
   "metadata": {},
   "outputs": [],
   "source": [
    "grades_table = np.array([[\"Student Name\", \"MidTerm Score\", \"FinalExam Score\", \"Average Score\"], \\\n",
    "                         [\"Chris\", '80', '80', '80'], \\\n",
    "                         [\"Oka\", '50', '70', '60'], \\\n",
    "                         [\"Norman\", '40', '80', '60'], \\\n",
    "                         [\"Natalie\", '75', '70', '72.5']])\n",
    "\n",
    "# This should print\n",
    "\"\"\"\n",
    "[['Student Name' 'MidTerm Score' 'FinalExam Score' 'Average Score']\n",
    " ['Chris' '100.0' '80' '90.0']\n",
    " ['Oka' '75.0' '70' '72.5']\n",
    " ['Norman' '60.0' '80' '70.0']\n",
    " ['Natalie' '100' '70' '85.0']\n",
    " ['Tony' '97.5' '85' '91.25']]\n",
    "\"\"\"\n",
    "new_grades = grade_adjustment(grades_table)\n",
    "print(new_grades)"
   ]
  },
  {
   "cell_type": "code",
   "execution_count": null,
   "metadata": {},
   "outputs": [],
   "source": []
  }
 ],
 "metadata": {
  "kernelspec": {
   "display_name": "Python 3",
   "language": "python",
   "name": "python3"
  },
  "language_info": {
   "codemirror_mode": {
    "name": "ipython",
    "version": 3
   },
   "file_extension": ".py",
   "mimetype": "text/x-python",
   "name": "python",
   "nbconvert_exporter": "python",
   "pygments_lexer": "ipython3",
   "version": "3.9.6"
  }
 },
 "nbformat": 4,
 "nbformat_minor": 4
}
