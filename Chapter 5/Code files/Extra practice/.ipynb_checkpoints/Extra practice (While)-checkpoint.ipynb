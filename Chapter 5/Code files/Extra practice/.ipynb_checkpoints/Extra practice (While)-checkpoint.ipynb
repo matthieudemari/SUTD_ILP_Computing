{
 "cells": [
  {
   "cell_type": "markdown",
   "metadata": {},
   "source": [
    "# 1. Approximate pi (while loop edition)\n",
    "\n",
    "The value of pi, when calculated by a computer, is always approximated as\n",
    "\n",
    "$$ \\pi = 3 + \\frac{4}{2 \\times 3 \\times 4} - \\frac{4}{4 \\times 5 \\times 6} + \\frac{4}{6 \\times 7 \\times 8} - \\frac{4}{8 \\times 9 \\times 10} + ... $$\n",
    "\n",
    "Notice how it alternates the plus and minus signs.\n",
    "\n",
    "Write a function that receives an integer n and returns the approximated value of pi, with n terms computed in the sum above.\n",
    "\n",
    "When $ n = 1 $, it returns $ 3 $. when $ n = 2 $, it returns the result of $ 3 + \\frac{4}{2 \\times 3 \\times 4} $, etc.\n",
    "\n",
    "It should use a while loop."
   ]
  },
  {
   "cell_type": "code",
   "execution_count": 22,
   "metadata": {},
   "outputs": [],
   "source": []
  },
  {
   "cell_type": "markdown",
   "metadata": {},
   "source": [
    "## 2. Approximate exponential\n",
    "\n",
    "Following the same logic, write a function that receives an integer n and returns the approximate quantity of the function exp(x) by summing \n",
    "\n",
    "$$ exp(x) = 1 + \\frac{x}{1} + \\frac{x^2}{2} + \\frac{x^3}{6} + \\frac{x^4}{24} + ... + \\frac{x^n}{n!} $$\n",
    "\n",
    "Compare the performance of your function with the one from numpy!"
   ]
  },
  {
   "cell_type": "code",
   "execution_count": 38,
   "metadata": {},
   "outputs": [
    {
     "name": "stdout",
     "output_type": "stream",
     "text": [
      "2.7182815255731922\n",
      "2.718281828459045\n"
     ]
    }
   ],
   "source": []
  },
  {
   "cell_type": "markdown",
   "metadata": {},
   "source": [
    "## 3. More approximations?\n",
    "\n",
    "Following the same logic you can look online for the summation formulas that can be used to approximate other functions such as cos, sin, log, etc.\n",
    "\n",
    "Implementing those and comparing them with the numpy version is a good practice!"
   ]
  },
  {
   "cell_type": "code",
   "execution_count": null,
   "metadata": {},
   "outputs": [],
   "source": []
  }
 ],
 "metadata": {
  "kernelspec": {
   "display_name": "Python 3 (ipykernel)",
   "language": "python",
   "name": "python3"
  },
  "language_info": {
   "codemirror_mode": {
    "name": "ipython",
    "version": 3
   },
   "file_extension": ".py",
   "mimetype": "text/x-python",
   "name": "python",
   "nbconvert_exporter": "python",
   "pygments_lexer": "ipython3",
   "version": "3.11.4"
  }
 },
 "nbformat": 4,
 "nbformat_minor": 4
}
