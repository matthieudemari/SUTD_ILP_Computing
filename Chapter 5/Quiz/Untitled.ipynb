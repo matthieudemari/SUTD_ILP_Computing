{
 "cells": [
  {
   "cell_type": "code",
   "execution_count": 1,
   "id": "9ec5143e-de9f-444c-9334-c7f10e4dc519",
   "metadata": {},
   "outputs": [
    {
     "name": "stdout",
     "output_type": "stream",
     "text": [
      "0\n",
      "1\n",
      "2\n"
     ]
    }
   ],
   "source": [
    "# What will be printed?\n",
    "x = 0\n",
    "while x < 3:\n",
    "    print(x)\n",
    "    x += 1"
   ]
  },
  {
   "cell_type": "code",
   "execution_count": 3,
   "id": "ca1b710d-2efe-4249-8254-02f2d04f445b",
   "metadata": {},
   "outputs": [
    {
     "name": "stdout",
     "output_type": "stream",
     "text": [
      "Hello\n",
      "Hello\n",
      "Hello\n",
      "Hello\n"
     ]
    }
   ],
   "source": [
    "# What will happen?\n",
    "x = 1\n",
    "while True:\n",
    "    print(\"Hello\")\n",
    "    if x >= 5:\n",
    "        break\n",
    "    x *= 2"
   ]
  },
  {
   "cell_type": "code",
   "execution_count": 10,
   "id": "5424e168-d8d8-4503-8687-83693197a611",
   "metadata": {},
   "outputs": [
    {
     "name": "stdout",
     "output_type": "stream",
     "text": [
      "0\n",
      "1.0\n",
      "1.5\n",
      "1.9\n",
      "2.2448275862068963\n",
      "2.5530103704789475\n",
      "2.8344618428159674\n"
     ]
    }
   ],
   "source": [
    "# Find the missing statement\n",
    "x = 0\n",
    "while x < 3:\n",
    "    print(x)\n",
    "    # Missing statement\n",
    "    \n",
    "    #x -= 1\n",
    "    #x *= (2 + x)\n",
    "    #x = (x+1)%2"
   ]
  },
  {
   "cell_type": "code",
   "execution_count": null,
   "id": "88188110-fada-4434-a639-f47935e2b6df",
   "metadata": {},
   "outputs": [],
   "source": []
  }
 ],
 "metadata": {
  "kernelspec": {
   "display_name": "Python 3 (ipykernel)",
   "language": "python",
   "name": "python3"
  },
  "language_info": {
   "codemirror_mode": {
    "name": "ipython",
    "version": 3
   },
   "file_extension": ".py",
   "mimetype": "text/x-python",
   "name": "python",
   "nbconvert_exporter": "python",
   "pygments_lexer": "ipython3",
   "version": "3.12.5"
  }
 },
 "nbformat": 4,
 "nbformat_minor": 5
}
