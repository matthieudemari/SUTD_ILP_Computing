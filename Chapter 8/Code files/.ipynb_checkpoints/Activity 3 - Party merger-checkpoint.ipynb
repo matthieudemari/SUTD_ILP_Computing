{
 "cells": [
  {
   "cell_type": "markdown",
   "metadata": {},
   "source": [
    "# Activity 3 - Party merger"
   ]
  },
  {
   "cell_type": "markdown",
   "metadata": {},
   "source": [
    "In many video games, you might form a group of friends and play together. In this activity, we will define a function, which attempts to merge two groups of players into a single one.\n",
    "\n",
    "A group will simply consist of a list of names, as shown below."
   ]
  },
  {
   "cell_type": "code",
   "execution_count": null,
   "metadata": {},
   "outputs": [],
   "source": [
    "group = [\"Matt\", \"Oka\", \"Tony\", \"Norman\"]\n",
    "print(group)"
   ]
  },
  {
   "cell_type": "markdown",
   "metadata": {},
   "source": [
    "Write a function **merge_groups()**, which:\n",
    "- receives two groups of people as lists of names, as shown above. We will call these two groups variables, *group1* and *group2* respectively.\n",
    "- This function will merge both groups into a new one containing the members of both groups, and will return the *merged_group* list as its only output.\n",
    "- However, it will only do so, if the resulting merged group does not contain more than 6 people. Otherwise, the function will return a list containing both *group1* and *group2*, therefore refusing to merge them."
   ]
  },
  {
   "cell_type": "markdown",
   "metadata": {},
   "source": [
    "### Your code below"
   ]
  },
  {
   "cell_type": "code",
   "execution_count": null,
   "metadata": {},
   "outputs": [],
   "source": [
    "def merge_groups(group1, group2):\n",
    "    return None"
   ]
  },
  {
   "cell_type": "markdown",
   "metadata": {},
   "source": [
    "### Expected results"
   ]
  },
  {
   "cell_type": "code",
   "execution_count": null,
   "metadata": {},
   "outputs": [],
   "source": [
    "group1 = [\"Matt\", \"Oka\", \"Tony\", \"Norman\"]\n",
    "group2 = [\"Simon\", \"Natalie\"]\n",
    "result = merge_groups(group1, group2)\n",
    "# This should print ['Matt', 'Oka', 'Tony', 'Norman', 'Simon', 'Natalie']\n",
    "# as we have two groups, which when merged together will have less than 6 people.\n",
    "print(result)"
   ]
  },
  {
   "cell_type": "code",
   "execution_count": null,
   "metadata": {},
   "outputs": [],
   "source": [
    "group1 = [\"Matt\", \"Oka\", \"Tony\"]\n",
    "group2 = [\"Simon\", \"Natalie\", \"Norman\", \"Chris\"]\n",
    "result = merge_groups(group1, group2)\n",
    "# This should print [['Matt', 'Oka', 'Tony'], ['Simon', 'Natalie', 'Norman', 'Chris']]\n",
    "# as we have two groups, which when merged together will have more than 6 people.\n",
    "print(result)"
   ]
  },
  {
   "cell_type": "code",
   "execution_count": null,
   "metadata": {},
   "outputs": [],
   "source": [
    "group1 = [\"Matt\", \"Oka\", \"Tony\"]\n",
    "group2 = [\"Simon\"]\n",
    "result = merge_groups(group1, group2)\n",
    "# This should print ['Matt', 'Oka', 'Tony', 'Simon']\n",
    "# as we have two groups, which when merged together will have less than 6 people.\n",
    "# A single person group should not be a problem\n",
    "print(result)"
   ]
  },
  {
   "cell_type": "code",
   "execution_count": null,
   "metadata": {},
   "outputs": [],
   "source": [
    "group1 = [\"Matt\", \"Oka\", \"Tony\"]\n",
    "group2 = []\n",
    "result = merge_groups(group1, group2)\n",
    "# This should print ['Matt', 'Oka', 'Tony']\n",
    "# as we have two groups, which when merged together will have less than 6 people.\n",
    "# A single person group should not be a problem\n",
    "print(result)"
   ]
  },
  {
   "cell_type": "code",
   "execution_count": null,
   "metadata": {},
   "outputs": [],
   "source": [
    "# Challenge 3+: No duplicates, because maybe the same nname might appear in both groups"
   ]
  }
 ],
 "metadata": {
  "kernelspec": {
   "display_name": "Python 3 (ipykernel)",
   "language": "python",
   "name": "python3"
  },
  "language_info": {
   "codemirror_mode": {
    "name": "ipython",
    "version": 3
   },
   "file_extension": ".py",
   "mimetype": "text/x-python",
   "name": "python",
   "nbconvert_exporter": "python",
   "pygments_lexer": "ipython3",
   "version": "3.13.1"
  }
 },
 "nbformat": 4,
 "nbformat_minor": 4
}
