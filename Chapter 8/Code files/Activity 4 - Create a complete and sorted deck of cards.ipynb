{
 "cells": [
  {
   "cell_type": "markdown",
   "metadata": {},
   "source": [
    "# Activity 4 - Create a complete and sorted deck of cards"
   ]
  },
  {
   "cell_type": "markdown",
   "metadata": {},
   "source": [
    "A deck of cards consists of all 52 possible combinations of 4 possible suits and 13 possible values."
   ]
  },
  {
   "cell_type": "markdown",
   "metadata": {},
   "source": [
    "The 4 possible suits are listed in the *suits_list* below."
   ]
  },
  {
   "cell_type": "code",
   "execution_count": null,
   "metadata": {},
   "outputs": [],
   "source": [
    "suits_list = [\"Hearts\", \"Diamonds\", \"Spades\", \"Clubs\"]\n",
    "print(suits_list)"
   ]
  },
  {
   "cell_type": "markdown",
   "metadata": {},
   "source": [
    "The 13 possible values are listed in the *values_list* below."
   ]
  },
  {
   "cell_type": "code",
   "execution_count": null,
   "metadata": {},
   "outputs": [],
   "source": [
    "values_list = [\"Ace\", \"2\", \"3\", \"4\", \"5\", \"6\", \"7\", \\\n",
    "               \"8\", \"9\", \"10\", \"Jack\", \"Queen\", \"King\"]\n",
    "print(values_list)"
   ]
  },
  {
   "cell_type": "markdown",
   "metadata": {},
   "source": [
    "### Task\n",
    "\n",
    "Write a function **complete_deck()**, which:\n",
    "- receives two input parameters *suits_list* and *values_list*,\n",
    "- returns a standard and sorted deck defined below."
   ]
  },
  {
   "cell_type": "code",
   "execution_count": null,
   "metadata": {},
   "outputs": [],
   "source": [
    "deck = ['Ace of Hearts', '2 of Hearts', '3 of Hearts', '4 of Hearts', '5 of Hearts', \\\n",
    "        '6 of Hearts', '7 of Hearts', '8 of Hearts', '9 of Hearts', '10 of Hearts', \\\n",
    "        'Jack of Hearts', 'Queen of Hearts', 'King of Hearts', 'Ace of Diamonds', \\\n",
    "        '2 of Diamonds', '3 of Diamonds', '4 of Diamonds', '5 of Diamonds', \\\n",
    "        '6 of Diamonds', '7 of Diamonds', '8 of Diamonds', '9 of Diamonds', \\\n",
    "        '10 of Diamonds', 'Jack of Diamonds', 'Queen of Diamonds', 'King of Diamonds', \\\n",
    "        'Ace of Spades', '2 of Spades', '3 of Spades', '4 of Spades', '5 of Spades', \\\n",
    "        '6 of Spades', '7 of Spades', '8 of Spades', '9 of Spades', '10 of Spades', \\\n",
    "        'Jack of Spades', 'Queen of Spades', 'King of Spades', 'Ace of Clubs', \\\n",
    "        '2 of Clubs', '3 of Clubs', '4 of Clubs', '5 of Clubs', '6 of Clubs', \\\n",
    "        '7 of Clubs', '8 of Clubs', '9 of Clubs', '10 of Clubs', 'Jack of Clubs', \\\n",
    "        'Queen of Clubs', 'King of Clubs']\n",
    "print(deck)"
   ]
  },
  {
   "cell_type": "markdown",
   "metadata": {},
   "source": [
    "### Your code below!"
   ]
  },
  {
   "cell_type": "code",
   "execution_count": null,
   "metadata": {},
   "outputs": [],
   "source": [
    "def complete_deck(suits_list, values_list):\n",
    "    deck = []\n",
    "    return deck"
   ]
  },
  {
   "cell_type": "markdown",
   "metadata": {},
   "source": [
    "### Expected results"
   ]
  },
  {
   "cell_type": "code",
   "execution_count": null,
   "metadata": {},
   "outputs": [],
   "source": [
    "# 52 cards deck version\n",
    "suits_list = [\"Hearts\", \"Diamonds\", \"Spades\", \"Clubs\"]\n",
    "values_list = [\"Ace\", \"2\", \"3\", \"4\", \"5\", \"6\", \"7\", \\\n",
    "               \"8\", \"9\", \"10\", \"Jack\", \"Queen\", \"King\"]\n",
    "\n",
    "# Your function\n",
    "deck = complete_deck(suits_list, values_list)\n",
    "\n",
    "# This should print ['Ace of Hearts', '2 of Hearts', '3 of Hearts', '4 of Hearts', '5 of Hearts',\n",
    "# '6 of Hearts', '7 of Hearts', '8 of Hearts', '9 of Hearts', '10 of Hearts', 'Jack of Hearts', \n",
    "# 'Queen of Hearts', 'King of Hearts', 'Ace of Diamonds', '2 of Diamonds', '3 of Diamonds', \n",
    "# '4 of Diamonds', '5 of Diamonds', '6 of Diamonds', '7 of Diamonds', '8 of Diamonds', '9 of Diamonds',\n",
    "# '10 of Diamonds', 'Jack of Diamonds', 'Queen of Diamonds', 'King of Diamonds', 'Ace of Spades',\n",
    "# '2 of Spades', '3 of Spades', '4 of Spades', '5 of Spades', '6 of Spades', '7 of Spades', '8 of Spades',\n",
    "# '9 of Spades', '10 of Spades', 'Jack of Spades', 'Queen of Spades', 'King of Spades', 'Ace of Clubs', \n",
    "# '2 of Clubs', '3 of Clubs', '4 of Clubs', '5 of Clubs', '6 of Clubs', '7 of Clubs', '8 of Clubs', \n",
    "# '9 of Clubs', '10 of Clubs', 'Jack of Clubs', 'Queen of Clubs', 'King of Clubs']\n",
    "print(deck)"
   ]
  },
  {
   "cell_type": "code",
   "execution_count": null,
   "metadata": {},
   "outputs": [],
   "source": [
    "# A 32 cards deck includes all values from 7 to king, plus aces.\n",
    "suits_list = [\"Hearts\", \"Diamonds\", \"Spades\", \"Clubs\"]\n",
    "values_list = [\"Ace\", \"7\", \"8\", \"9\", \"10\", \"Jack\", \"Queen\", \"King\"]\n",
    "\n",
    "# Your function\n",
    "deck = complete_deck(suits_list, values_list)\n",
    "\n",
    "# This should print ['Ace of Hearts', '7 of Hearts', '8 of Hearts', '9 of Hearts', '10 of Hearts', \n",
    "# 'Jack of Hearts', 'Queen of Hearts', 'King of Hearts', 'Ace of Diamonds', '7 of Diamonds', \n",
    "# '8 of Diamonds', '9 of Diamonds', '10 of Diamonds', 'Jack of Diamonds', 'Queen of Diamonds', \n",
    "# 'King of Diamonds', 'Ace of Spades', '7 of Spades', '8 of Spades', '9 of Spades', '10 of Spades', \n",
    "# 'Jack of Spades', 'Queen of Spades', 'King of Spades', 'Ace of Clubs', '7 of Clubs', '8 of Clubs', \n",
    "# '9 of Clubs', '10 of Clubs', 'Jack of Clubs', 'Queen of Clubs', 'King of Clubs']\n",
    "print(deck)"
   ]
  },
  {
   "cell_type": "code",
   "execution_count": null,
   "metadata": {},
   "outputs": [],
   "source": [
    "# Weird deck but should still work!\n",
    "suits_list = [\"ChickenRice\", \"MeeGoreng\", \"ButterChicken\"]\n",
    "values_list = [\"Ace\", \"7\", \"8\", \"9\", \"10\", \"Jack\", \"Queen\", \"King\"]\n",
    "\n",
    "# Your function\n",
    "deck = complete_deck(suits_list, values_list)\n",
    "\n",
    "# This should print ['Ace of ChickenRice', '7 of ChickenRice', '8 of ChickenRice', '9 of ChickenRice', \n",
    "# '10 of ChickenRice', 'Jack of ChickenRice', 'Queen of ChickenRice', 'King of ChickenRice', \n",
    "# 'Ace of MeeGoreng', '7 of MeeGoreng', '8 of MeeGoreng', '9 of MeeGoreng', '10 of MeeGoreng', \n",
    "# 'Jack of MeeGoreng', 'Queen of MeeGoreng', 'King of MeeGoreng', 'Ace of ButterChicken', \n",
    "# '7 of ButterChicken', '8 of ButterChicken', '9 of ButterChicken', '10 of ButterChicken',\n",
    "# 'Jack of ButterChicken', 'Queen of ButterChicken', 'King of ButterChicken']\n",
    "print(deck)"
   ]
  },
  {
   "cell_type": "code",
   "execution_count": null,
   "metadata": {},
   "outputs": [],
   "source": []
  },
  {
   "cell_type": "code",
   "execution_count": null,
   "metadata": {},
   "outputs": [],
   "source": []
  }
 ],
 "metadata": {
  "kernelspec": {
   "display_name": "Python 3 (ipykernel)",
   "language": "python",
   "name": "python3"
  },
  "language_info": {
   "codemirror_mode": {
    "name": "ipython",
    "version": 3
   },
   "file_extension": ".py",
   "mimetype": "text/x-python",
   "name": "python",
   "nbconvert_exporter": "python",
   "pygments_lexer": "ipython3",
   "version": "3.13.1"
  }
 },
 "nbformat": 4,
 "nbformat_minor": 4
}
