{
 "cells": [
  {
   "cell_type": "markdown",
   "metadata": {},
   "source": [
    "# Activity 1 (demo) - Guess the number game, part 2"
   ]
  },
  {
   "cell_type": "markdown",
   "metadata": {},
   "source": [
    "### Problem statement\n",
    "\n",
    "Let us consider two integers\n",
    "- The first one, *true_number*, corresponds to the number that the user/player must guess. (This is something we would normally hide from the player, but let us pretend for now!) \n",
    "- The second one, *guessed_number*, corresponds to the number guessed by the user, and is acquired via input()\n",
    "\n",
    "Write code, so that Python prints the following statements with appropriate True/False boolean values printed in the blanks.\n",
    "- \"You have guessed the true number: ______\"\n",
    "- \"The true number is higher than your guess:  ______\"\n",
    "- \"The true number is lower than your guess: ______\"\n",
    "\n",
    "In this activity, we will define subfunctions to make our code more modular and more efficient. Follow the tasks below!"
   ]
  },
  {
   "cell_type": "markdown",
   "metadata": {},
   "source": [
    "### You code below!"
   ]
  },
  {
   "cell_type": "code",
   "execution_count": null,
   "metadata": {},
   "outputs": [],
   "source": [
    "# 1. Choose a number to guess (for instance, 6)\n",
    "true_number = 6"
   ]
  },
  {
   "cell_type": "markdown",
   "metadata": {},
   "source": [
    "**Task:** Write a function get_user_guess() that asks the user for a guessed number and returns it in int type."
   ]
  },
  {
   "cell_type": "code",
   "execution_count": null,
   "metadata": {},
   "outputs": [],
   "source": [
    "# 2. Write a function get_user_guess() that asks the user for a guessed number and returns it in int type.\n",
    "# Remember to convert your string variable (obtained from input())\n",
    "# to an int variable before performing boolean operations!\n",
    "def get_user_guess():\n",
    "    guessed_number = int(input(\"Type your guess (integer between 0 and 9): \"))\n",
    "    return guessed_number"
   ]
  },
  {
   "cell_type": "markdown",
   "metadata": {},
   "source": [
    "**Task:** Write a function display_right_guess_message(), which receives the *true_number* to guess and a guess formulated by the user *guessed_number*. It returns nothing but displays the message *You have guessed the true number: _____*, with the blank filled with True/False accordingly."
   ]
  },
  {
   "cell_type": "code",
   "execution_count": null,
   "metadata": {},
   "outputs": [],
   "source": [
    "# 3. Check if the user guessed the right number\n",
    "def display_right_guess_message(true_number, guessed_number):\n",
    "    right_number_bool = true_number == guessed_number\n",
    "    print(\"You have guessed the true number: \", right_number_bool)"
   ]
  },
  {
   "cell_type": "markdown",
   "metadata": {},
   "source": [
    "**Task:** Write a function display_lower_guess_message(), which receives the *true_number* to guess and a guess formulated by the user *guessed_number*. It returns nothing but displays the message *The true number is higher than your guess: _____*, with the blank filled with True/False accordingly."
   ]
  },
  {
   "cell_type": "code",
   "execution_count": null,
   "metadata": {},
   "outputs": [],
   "source": [
    "# 4. Check if the user's guess guessed_number is striclty lower than the true_number\n",
    "def display_lower_guess_message(true_number, guessed_number):\n",
    "    lower_number_bool = true_number > guessed_number\n",
    "    print(\"The true number is higher than your guess: \", lower_number_bool)"
   ]
  },
  {
   "cell_type": "markdown",
   "metadata": {},
   "source": [
    "**Task:** Write a function display_higher_guess_message(), which receives the *true_number* to guess and a guess formulated by the user *guessed_number*. It returns nothing but displays the message *The true number is lower than your guess: _____*, with the blank filled with True/False accordingly."
   ]
  },
  {
   "cell_type": "code",
   "execution_count": null,
   "metadata": {},
   "outputs": [],
   "source": [
    "# 5. Check if the user's guess guessed_number is striclty higher than the true_number\n",
    "def display_higher_guess_message(true_number, guessed_number):\n",
    "    higher_number_bool = true_number < guessed_number\n",
    "    print(\"The true number is lower than your guess: \", higher_number_bool)"
   ]
  },
  {
   "cell_type": "markdown",
   "metadata": {},
   "source": [
    "**Task:** Assemble the subfunctions into a *main()* function and call it!"
   ]
  },
  {
   "cell_type": "code",
   "execution_count": null,
   "metadata": {},
   "outputs": [],
   "source": [
    "# 6. Assemble the subfunctions into a *main()* function and call it!\n",
    "def main():\n",
    "    # 1. Choose a number to guess (for instance, 6)\n",
    "    true_number = 6\n",
    "    # 2. Get user's guess\n",
    "    guessed_number = get_user_guess()\n",
    "    # 3. Check if the user guessed the right number\n",
    "    display_right_guess_message(true_number, guessed_number)\n",
    "    # 4. Check if the user's guess guessed_number is striclty lower than the true_number\n",
    "    display_lower_guess_message(true_number, guessed_number)\n",
    "    # 5. Check if the user's guess guessed_number is striclty higher than the true_number\n",
    "    display_higher_guess_message(true_number, guessed_number)"
   ]
  },
  {
   "cell_type": "markdown",
   "metadata": {},
   "source": [
    "**Finally:** try running you *main()* function!"
   ]
  },
  {
   "cell_type": "code",
   "execution_count": null,
   "metadata": {},
   "outputs": [],
   "source": [
    "main()"
   ]
  },
  {
   "cell_type": "code",
   "execution_count": null,
   "metadata": {},
   "outputs": [],
   "source": []
  }
 ],
 "metadata": {
  "kernelspec": {
   "display_name": "Python 3",
   "language": "python",
   "name": "python3"
  },
  "language_info": {
   "codemirror_mode": {
    "name": "ipython",
    "version": 3
   },
   "file_extension": ".py",
   "mimetype": "text/x-python",
   "name": "python",
   "nbconvert_exporter": "python",
   "pygments_lexer": "ipython3",
   "version": "3.9.6"
  }
 },
 "nbformat": 4,
 "nbformat_minor": 4
}
