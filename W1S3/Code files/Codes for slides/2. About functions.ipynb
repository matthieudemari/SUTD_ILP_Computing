{
 "cells": [
  {
   "cell_type": "code",
   "execution_count": 1,
   "metadata": {},
   "outputs": [],
   "source": [
    "def f(x):\n",
    "    y = 2*x\n",
    "    return y"
   ]
  },
  {
   "cell_type": "code",
   "execution_count": 2,
   "metadata": {},
   "outputs": [
    {
     "name": "stdout",
     "output_type": "stream",
     "text": [
      "4\n"
     ]
    }
   ],
   "source": [
    "x1 = 2\n",
    "y1 = f(x1)\n",
    "print(y1)"
   ]
  },
  {
   "cell_type": "code",
   "execution_count": 3,
   "metadata": {},
   "outputs": [],
   "source": [
    "def f2(val1, val2):\n",
    "    sum_val = val1 + val2\n",
    "    mult_val = val1*val2\n",
    "    return sum_val, mult_val"
   ]
  },
  {
   "cell_type": "code",
   "execution_count": 4,
   "metadata": {},
   "outputs": [
    {
     "name": "stdout",
     "output_type": "stream",
     "text": [
      "5\n",
      "6\n"
     ]
    }
   ],
   "source": [
    "x1 = 2\n",
    "x2 = 3\n",
    "y1, y2 = f2(val1 = x1, val2 = x2)\n",
    "print(y1)\n",
    "print(y2)"
   ]
  },
  {
   "cell_type": "code",
   "execution_count": 5,
   "metadata": {},
   "outputs": [
    {
     "name": "stdout",
     "output_type": "stream",
     "text": [
      "5\n",
      "6\n"
     ]
    }
   ],
   "source": [
    "x1 = 2\n",
    "x2 = 3\n",
    "y1, y2 = f2(x1, x2)\n",
    "print(y1)\n",
    "print(y2)"
   ]
  },
  {
   "cell_type": "code",
   "execution_count": 6,
   "metadata": {},
   "outputs": [
    {
     "name": "stdout",
     "output_type": "stream",
     "text": [
      "Hello\n"
     ]
    }
   ],
   "source": [
    "output = print(\"Hello\")"
   ]
  },
  {
   "cell_type": "code",
   "execution_count": 7,
   "metadata": {},
   "outputs": [
    {
     "name": "stdout",
     "output_type": "stream",
     "text": [
      "None\n"
     ]
    }
   ],
   "source": [
    "print(output)"
   ]
  },
  {
   "cell_type": "code",
   "execution_count": 8,
   "metadata": {},
   "outputs": [],
   "source": [
    "def say_hello():\n",
    "    print(\"Hello!\")"
   ]
  },
  {
   "cell_type": "code",
   "execution_count": 9,
   "metadata": {},
   "outputs": [
    {
     "name": "stdout",
     "output_type": "stream",
     "text": [
      "Hello!\n"
     ]
    }
   ],
   "source": [
    "output = say_hello()"
   ]
  },
  {
   "cell_type": "code",
   "execution_count": 10,
   "metadata": {},
   "outputs": [
    {
     "name": "stdout",
     "output_type": "stream",
     "text": [
      "None\n"
     ]
    }
   ],
   "source": [
    "print(output)"
   ]
  },
  {
   "cell_type": "code",
   "execution_count": 18,
   "metadata": {},
   "outputs": [],
   "source": [
    "def f4(x):\n",
    "    print(\"Can you see this?\")\n",
    "    return 2*x\n",
    "    # The print below will never be executed\n",
    "    print(\"How about this?\")"
   ]
  },
  {
   "cell_type": "code",
   "execution_count": 19,
   "metadata": {},
   "outputs": [
    {
     "name": "stdout",
     "output_type": "stream",
     "text": [
      "Can you see this?\n",
      "4\n"
     ]
    }
   ],
   "source": [
    "x = 2\n",
    "y = f4(x)\n",
    "print(y)"
   ]
  },
  {
   "cell_type": "code",
   "execution_count": null,
   "metadata": {},
   "outputs": [],
   "source": [
    "def f5(val):\n",
    "    print(val)\n",
    "    return val*2"
   ]
  },
  {
   "cell_type": "code",
   "execution_count": null,
   "metadata": {},
   "outputs": [],
   "source": [
    "x1 = 2\n",
    "y1 = f5(x1)\n",
    "print(y1)"
   ]
  },
  {
   "cell_type": "code",
   "execution_count": null,
   "metadata": {},
   "outputs": [],
   "source": [
    "print(val)"
   ]
  },
  {
   "cell_type": "code",
   "execution_count": null,
   "metadata": {},
   "outputs": [],
   "source": [
    "f6 = lambda x: 2*x"
   ]
  },
  {
   "cell_type": "code",
   "execution_count": null,
   "metadata": {},
   "outputs": [],
   "source": [
    "x1 = 2\n",
    "y1 = f6(x1)\n",
    "print(y1)"
   ]
  },
  {
   "cell_type": "code",
   "execution_count": null,
   "metadata": {},
   "outputs": [],
   "source": [
    "student_A_math_grade = 85\n",
    "student_A_physics_grade = 70\n",
    "student_A_chemistry_grade = 75\n",
    "student_A_sum_grade = student_A_math_grade + student_A_physics_grade + student_A_chemistry_grade\n",
    "student_A_mean_grade = student_A_sum_grade/3"
   ]
  },
  {
   "cell_type": "code",
   "execution_count": null,
   "metadata": {},
   "outputs": [],
   "source": [
    "student_B_math_grade = 95\n",
    "student_B_physics_grade = 65\n",
    "student_B_chemistry_grade = 50\n",
    "student_B_sum_grade = student_B_math_grade + student_B_physics_grade + student_B_chemistry_grade\n",
    "student_B_mean_grade = student_B_sum_grade/3"
   ]
  },
  {
   "cell_type": "code",
   "execution_count": null,
   "metadata": {},
   "outputs": [],
   "source": [
    "def avg_grade(math_grade, phy_grade, chem_grade):\n",
    "    return (math_grade + phy_grade + chem_grade)/3"
   ]
  },
  {
   "cell_type": "code",
   "execution_count": null,
   "metadata": {},
   "outputs": [],
   "source": [
    "student_A_mean_grade = avg_grade(student_A_math_grade, student_A_physics_grade, student_A_chemistry_grade)\n",
    "student_B_mean_grade = avg_grade(student_B_math_grade, student_B_physics_grade, student_B_chemistry_grade)"
   ]
  },
  {
   "cell_type": "code",
   "execution_count": null,
   "metadata": {},
   "outputs": [],
   "source": [
    "def sum_all_grades(math_grade, phy_grade, chem_grade):\n",
    "    summed_grades = math_grade + phy_grade + chem_grade\n",
    "    return summed_grades\n",
    "def divide_grades(summed_grades, number_grades):\n",
    "    avg_grade = summed_grades/number_grades\n",
    "    return avg_grade\n",
    "def avg_grade_v2(math_grade, phy_grade, chem_grade):\n",
    "    summed_grades = sum_all_grades(math_grade, phy_grade, chem_grade)\n",
    "    number_grades = 3\n",
    "    avg_grade = divide_grades(summed_grades, number_grades)\n",
    "    return avg_grade"
   ]
  },
  {
   "cell_type": "code",
   "execution_count": null,
   "metadata": {},
   "outputs": [],
   "source": [
    "student_A_mean_grade = avg_grade_v2(student_A_math_grade, student_A_physics_grade, student_A_chemistry_grade)\n",
    "student_B_mean_grade = avg_grade_v2(student_B_math_grade, student_B_physics_grade, student_B_chemistry_grade)\n",
    "print(student_A_mean_grade)\n",
    "print(student_B_mean_grade)"
   ]
  },
  {
   "cell_type": "code",
   "execution_count": null,
   "metadata": {},
   "outputs": [],
   "source": []
  }
 ],
 "metadata": {
  "kernelspec": {
   "display_name": "Python 3",
   "language": "python",
   "name": "python3"
  },
  "language_info": {
   "codemirror_mode": {
    "name": "ipython",
    "version": 3
   },
   "file_extension": ".py",
   "mimetype": "text/x-python",
   "name": "python",
   "nbconvert_exporter": "python",
   "pygments_lexer": "ipython3",
   "version": "3.8.3"
  }
 },
 "nbformat": 4,
 "nbformat_minor": 4
}
