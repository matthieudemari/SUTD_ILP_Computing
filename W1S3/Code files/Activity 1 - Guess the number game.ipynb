{
 "cells": [
  {
   "cell_type": "markdown",
   "metadata": {},
   "source": [
    "# Activity 1 - Guess the number game"
   ]
  },
  {
   "cell_type": "markdown",
   "metadata": {},
   "source": [
    "### Tasks\n",
    "\n",
    "Let us consider two integers\n",
    "- The first one, **true_number**, corresponds to a number that the user/player should guess. This is something we would normally hide from the player, but let us pretend for now!\n",
    "- The second one, **guessed_number**, corresponds to the number guessed by the user, and is acquired via input().\n",
    "\n",
    "Both numbers will take values between 0 and 9, for simplicity.\n",
    "\n",
    "Write some code, so that Python acquires a number from the user using input, and prints the following statements with appropriate True/False boolean values printed in the blanks.\n",
    "- \"You have guessed the true number: ______\"\n",
    "- \"The true number is higher than your guess:  ______\"\n",
    "- \"The true number is lower than your guess: ______\""
   ]
  },
  {
   "cell_type": "markdown",
   "metadata": {},
   "source": [
    "### Your code below!"
   ]
  },
  {
   "cell_type": "code",
   "execution_count": null,
   "metadata": {},
   "outputs": [],
   "source": [
    "# 1. Let us choose a number to guess (for instance, 6)\n",
    "# Feel free to change it to a different value if you want!\n",
    "true_number = 6"
   ]
  },
  {
   "cell_type": "code",
   "execution_count": null,
   "metadata": {},
   "outputs": [],
   "source": [
    "# 2. Ask for user to guesss the number, acquire it by using input()\n",
    "# Remember to convert the string variable, you obtained from input(),\n",
    "# to an int variable before performing boolean operations!\n",
    "# Your turn to code below!\n",
    "guessed_number = None"
   ]
  },
  {
   "cell_type": "code",
   "execution_count": null,
   "metadata": {},
   "outputs": [],
   "source": [
    "# 3. Check if the user guessed the right number\n",
    "# Your turn to code below!\n",
    "print(None)\n",
    "\n",
    "# 4. Check if the guessed_number is striclty lower than the true_number\n",
    "# Your turn to code below!\n",
    "print(None)\n",
    "\n",
    "# 5. Check if the guessed_number is striclty higher than the true_number\n",
    "# Your turn to code below!\n",
    "print(None)"
   ]
  },
  {
   "cell_type": "code",
   "execution_count": null,
   "metadata": {},
   "outputs": [],
   "source": []
  }
 ],
 "metadata": {
  "kernelspec": {
   "display_name": "Python 3",
   "language": "python",
   "name": "python3"
  },
  "language_info": {
   "codemirror_mode": {
    "name": "ipython",
    "version": 3
   },
   "file_extension": ".py",
   "mimetype": "text/x-python",
   "name": "python",
   "nbconvert_exporter": "python",
   "pygments_lexer": "ipython3",
   "version": "3.9.6"
  }
 },
 "nbformat": 4,
 "nbformat_minor": 4
}
