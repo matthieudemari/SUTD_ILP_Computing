{
 "cells": [
  {
   "cell_type": "code",
   "execution_count": 3,
   "id": "4be8d5e5",
   "metadata": {},
   "outputs": [
    {
     "name": "stdout",
     "output_type": "stream",
     "text": [
      "[6, 7, 8, 9, 10]\n",
      "[6, 7, 8, 9, 10]\n",
      "[7, 8, 9, 10]\n",
      "[6, 7, 8, 9, 10]\n",
      "[7, 8, 9, 10]\n"
     ]
    }
   ],
   "source": [
    "l = [1, 2, 3, 4, 5, 6, 7, 8, 9, 10]\n",
    "print(l[5:10])\n",
    "print(l[5:11])\n",
    "print(l[6:11])\n",
    "print(l[5:])\n",
    "print(l[6:])"
   ]
  },
  {
   "cell_type": "code",
   "execution_count": 6,
   "id": "5a1ef7a3",
   "metadata": {},
   "outputs": [
    {
     "name": "stdout",
     "output_type": "stream",
     "text": [
      "[9, 7, 5, 3]\n",
      "[9, 7, 5, 3, 1]\n",
      "[9, 7, 5, 3, 1]\n",
      "[9, 7, 5, 3]\n",
      "[]\n"
     ]
    }
   ],
   "source": [
    "l = [1, 2, 3, 4, 5, 6, 7, 8, 9]\n",
    "print(l[-1:-9:-2])\n",
    "print(l[-1:-11:-2])\n",
    "print(l[-1:-10:-2])\n",
    "print(l[9:0:-2])\n",
    "print(l[9:-1:-2])"
   ]
  },
  {
   "cell_type": "code",
   "execution_count": null,
   "id": "b2bf9ad7",
   "metadata": {},
   "outputs": [],
   "source": []
  }
 ],
 "metadata": {
  "kernelspec": {
   "display_name": "Python 3 (ipykernel)",
   "language": "python",
   "name": "python3"
  },
  "language_info": {
   "codemirror_mode": {
    "name": "ipython",
    "version": 3
   },
   "file_extension": ".py",
   "mimetype": "text/x-python",
   "name": "python",
   "nbconvert_exporter": "python",
   "pygments_lexer": "ipython3",
   "version": "3.11.4"
  }
 },
 "nbformat": 4,
 "nbformat_minor": 5
}
