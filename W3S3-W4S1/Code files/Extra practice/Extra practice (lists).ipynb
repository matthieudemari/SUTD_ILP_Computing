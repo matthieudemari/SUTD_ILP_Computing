{
 "cells": [
  {
   "cell_type": "markdown",
   "metadata": {},
   "source": [
    "# Length\n",
    "\n",
    "Write a function, which receives a list of integers.\n",
    "\n",
    "It should return the number of elements in the list.\n",
    "\n",
    "Do so, by not using the len() function."
   ]
  },
  {
   "cell_type": "code",
   "execution_count": null,
   "metadata": {},
   "outputs": [],
   "source": []
  },
  {
   "cell_type": "markdown",
   "metadata": {},
   "source": [
    "# Membership\n",
    "\n",
    "Write a function that receives two parameters: a list of integers and an integers.\n",
    "\n",
    "It should return True, if the integer is in the list and False otherwise.\n",
    "\n",
    "You may not use the in keyword to check for membership (you can use it in a for statement though)."
   ]
  },
  {
   "cell_type": "code",
   "execution_count": null,
   "metadata": {},
   "outputs": [],
   "source": []
  },
  {
   "cell_type": "markdown",
   "metadata": {},
   "source": [
    "# Index\n",
    "\n",
    "Write a function that receives two parameters: a list of integers and an integer, present in the list.\n",
    "    \n",
    "The function returns the index of the first occurence of said integer in the list.\n",
    "\n",
    "You shall not use the index() function."
   ]
  },
  {
   "cell_type": "code",
   "execution_count": null,
   "metadata": {},
   "outputs": [],
   "source": []
  },
  {
   "cell_type": "markdown",
   "metadata": {},
   "source": [
    "# Argwhere\n",
    "\n",
    "Write a function that receives two parameters: a list of integers and an integer, present in the list.\n",
    "    \n",
    "The function returns a list of indexes where the said integer appears in the list.\n",
    "\n",
    "You shall not use the index() function."
   ]
  },
  {
   "cell_type": "code",
   "execution_count": null,
   "metadata": {},
   "outputs": [],
   "source": []
  },
  {
   "cell_type": "markdown",
   "metadata": {},
   "source": [
    "# Repetition\n",
    "\n",
    "Write a function that receives two parameters: a list of integers and a strictly positive integer n.\n",
    "    \n",
    "The function returns the list repeated n times.\n",
    "\n",
    "You shall not use the * operator."
   ]
  },
  {
   "cell_type": "code",
   "execution_count": null,
   "metadata": {},
   "outputs": [],
   "source": []
  },
  {
   "cell_type": "markdown",
   "metadata": {},
   "source": [
    "# Insert\n",
    "\n",
    "Write a function that receives three parameters: a list of integers and an integer, corresponding to an index between zero and the list length.\n",
    "    \n",
    "The function insert the given integer in the list, at the given index.\n",
    "\n",
    "You shall not use the insert() function."
   ]
  },
  {
   "cell_type": "code",
   "execution_count": null,
   "metadata": {},
   "outputs": [],
   "source": []
  },
  {
   "cell_type": "markdown",
   "metadata": {},
   "source": [
    "# Pop\n",
    "\n",
    "Write a function that receives two parameters: a list of integers and an index between 0 and the length of the list - 1.\n",
    "    \n",
    "The function returns two elements: the element of the list at the given index and list, after this element has been removed.\n",
    "\n",
    "You shall not use the del(), remove() or pop() functions."
   ]
  },
  {
   "cell_type": "code",
   "execution_count": null,
   "metadata": {},
   "outputs": [],
   "source": []
  },
  {
   "cell_type": "markdown",
   "metadata": {},
   "source": [
    "# Argmin\n",
    "\n",
    "Write a function that receives a list of integers.\n",
    "\n",
    "It returns the index of the minimal value in the list.\n",
    "\n",
    "If the minimal value appears multiple times, it shall return all indexes where it appears in a list instead."
   ]
  },
  {
   "cell_type": "code",
   "execution_count": null,
   "metadata": {},
   "outputs": [],
   "source": []
  }
 ],
 "metadata": {
  "kernelspec": {
   "display_name": "Python 3 (ipykernel)",
   "language": "python",
   "name": "python3"
  },
  "language_info": {
   "codemirror_mode": {
    "name": "ipython",
    "version": 3
   },
   "file_extension": ".py",
   "mimetype": "text/x-python",
   "name": "python",
   "nbconvert_exporter": "python",
   "pygments_lexer": "ipython3",
   "version": "3.10.5"
  }
 },
 "nbformat": 4,
 "nbformat_minor": 4
}
