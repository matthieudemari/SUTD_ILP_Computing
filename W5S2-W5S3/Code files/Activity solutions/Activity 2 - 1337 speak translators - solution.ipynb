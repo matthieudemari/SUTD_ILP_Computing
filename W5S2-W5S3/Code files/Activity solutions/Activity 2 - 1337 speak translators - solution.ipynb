{
 "cells": [
  {
   "cell_type": "markdown",
   "metadata": {},
   "source": [
    "# Activity 2 - 1337 speak translators - solution"
   ]
  },
  {
   "cell_type": "markdown",
   "metadata": {},
   "source": [
    "From: https://en.wikipedia.org/wiki/Leet\n",
    "\n",
    "**Leet (or \"1337\")**, also known as eleet or leetspeak, is a system of modified spellings used primarily on the Internet.\n",
    "\n",
    "It often uses character replacements in ways that play on the similarity of their glyphs via reflection or other resemblance.\n",
    "\n",
    "For instance, leet speak replaces:\n",
    "- the letters I, with 1,\n",
    "- the letters Z, with 2,\n",
    "- the letters E, with 3,\n",
    "- the letters A, with 4,\n",
    "- the letters S, with 5,\n",
    "- the letters T, with 7,\n",
    "- the letters B, with 8,\n",
    "- the letters O, with 0.\n",
    "\n",
    "For instance, the English sentence **\"HELLO THERE, HOW ARE YOU?\"** will write in leet speak as **\"H3LL0 7H3R3, H0W 4R3 Y0U?\"**."
   ]
  },
  {
   "cell_type": "markdown",
   "metadata": {},
   "source": [
    "### Task\n",
    "\n",
    "Write a function **eng_to_leet()**, which receives a single parameter, *eng_str*, which corresponds to a sentence in English, written in capital letters. It returns the equivalent sentence in leet speak, by modifying the letters with numbers, by following the rules defined above accordingly."
   ]
  },
  {
   "cell_type": "markdown",
   "metadata": {},
   "source": [
    "### You code below!"
   ]
  },
  {
   "cell_type": "code",
   "execution_count": 1,
   "metadata": {},
   "outputs": [],
   "source": [
    "def eng_to_leet(eng_str):\n",
    "    \n",
    "    # Initialize an empty leet string\n",
    "    leet_str = ''\n",
    "    \n",
    "    # For loop on string, element-wise\n",
    "    for char in eng_str:\n",
    "        # Check for I\n",
    "        if char == \"I\":\n",
    "            leet_str += \"1\"\n",
    "        # Check for Z\n",
    "        elif char == \"Z\":\n",
    "            leet_str += \"2\"\n",
    "        # Check for E\n",
    "        elif char == \"E\":\n",
    "            leet_str += \"3\"\n",
    "        # Check for A\n",
    "        elif char == \"A\":\n",
    "            leet_str += \"4\"\n",
    "        # Check for S\n",
    "        elif char == \"S\":\n",
    "            leet_str += \"5\"\n",
    "        # Check for T\n",
    "        elif char == \"T\":\n",
    "            leet_str += \"7\"\n",
    "        # Check for B\n",
    "        elif char == \"B\":\n",
    "            leet_str += \"8\"\n",
    "        # Check for O\n",
    "        elif char == \"O\":\n",
    "            leet_str += \"0\"\n",
    "        # Otherwise\n",
    "        else:\n",
    "            leet_str += char\n",
    "        print(leet_str)\n",
    "    return leet_str"
   ]
  },
  {
   "cell_type": "code",
   "execution_count": 2,
   "metadata": {},
   "outputs": [
    {
     "name": "stdout",
     "output_type": "stream",
     "text": [
      "H\n",
      "H3\n",
      "H3L\n",
      "H3LL\n",
      "H3LL0\n",
      "H3LL0 \n",
      "H3LL0 7\n",
      "H3LL0 7H\n",
      "H3LL0 7H3\n",
      "H3LL0 7H3R\n",
      "H3LL0 7H3R3\n",
      "H3LL0 7H3R3,\n",
      "H3LL0 7H3R3, \n",
      "H3LL0 7H3R3, H\n",
      "H3LL0 7H3R3, H0\n",
      "H3LL0 7H3R3, H0W\n",
      "H3LL0 7H3R3, H0W \n",
      "H3LL0 7H3R3, H0W 4\n",
      "H3LL0 7H3R3, H0W 4R\n",
      "H3LL0 7H3R3, H0W 4R3\n",
      "H3LL0 7H3R3, H0W 4R3 \n",
      "H3LL0 7H3R3, H0W 4R3 Y\n",
      "H3LL0 7H3R3, H0W 4R3 Y0\n",
      "H3LL0 7H3R3, H0W 4R3 Y0U\n",
      "H3LL0 7H3R3, H0W 4R3 Y0U?\n",
      "H3LL0 7H3R3, H0W 4R3 Y0U?\n"
     ]
    }
   ],
   "source": [
    "print(eng_to_leet(\"HELLO THERE, HOW ARE YOU?\"))"
   ]
  },
  {
   "cell_type": "code",
   "execution_count": 3,
   "metadata": {},
   "outputs": [],
   "source": [
    "def eng_to_leet_v2(eng_str):\n",
    "    # Initialize an empty leet string\n",
    "    leet_str = ''\n",
    "    list1 = ['O','I','Z','E','A','S','T','B']\n",
    "    list2 = ['0','1','2','3','4','5','7','8']\n",
    "    for character in eng_str:\n",
    "        if character in list1:\n",
    "            leet_str = leet_str + list2[list1.index(character)]\n",
    "        else:\n",
    "            leet_str = leet_str + character \n",
    "    return leet_str"
   ]
  },
  {
   "cell_type": "code",
   "execution_count": null,
   "metadata": {},
   "outputs": [],
   "source": [
    "def eng_to_leet_v2(eng_str):\n",
    "    \n",
    "    # Translation from eng to leet rules\n",
    "    eng_chars = [\"I\", \"Z\", \"E\", \"A\", \"S\", \"T\", \"B\", \"O\"]\n",
    "    leet_chars = [\"1\", \"2\", \"3\", \"4\", \"5\", \"7\", \"8\", \"0\"]\n",
    "    \n",
    "    # Initialize an empty leet string\n",
    "    leet_str = ''\n",
    "    \n",
    "    # Check every character one at a time in the eng_str\n",
    "    for char in eng_str:\n",
    "        new_char = char\n",
    "        for c1, c2 in zip(eng_chars, leet_chars):\n",
    "            if(char == c1):\n",
    "                new_char = c2\n",
    "                break\n",
    "        leet_str += new_char\n",
    "            \n",
    "    return leet_str"
   ]
  },
  {
   "cell_type": "code",
   "execution_count": 4,
   "metadata": {},
   "outputs": [
    {
     "name": "stdout",
     "output_type": "stream",
     "text": [
      "H3LL0 7H3R3, H0W 4R3 Y0U?\n"
     ]
    }
   ],
   "source": [
    "print(eng_to_leet_v2(\"HELLO THERE, HOW ARE YOU?\"))"
   ]
  },
  {
   "cell_type": "code",
   "execution_count": 7,
   "metadata": {},
   "outputs": [],
   "source": [
    "def eng_to_leet_v3(eng_str):\n",
    "    # Initialize an empty leet string\n",
    "    eng_str = eng_str.replace('O','0')\n",
    "    eng_str = eng_str.replace('I','1')\n",
    "    eng_str = eng_str.replace('Z','2')\n",
    "    eng_str = eng_str.replace('E','3')\n",
    "    eng_str = eng_str.replace('A','4')\n",
    "    eng_str = eng_str.replace('S','5')\n",
    "    eng_str = eng_str.replace('T','7')\n",
    "    eng_str = eng_str.replace('B','8')\n",
    "    return eng_str"
   ]
  },
  {
   "cell_type": "code",
   "execution_count": 8,
   "metadata": {},
   "outputs": [
    {
     "name": "stdout",
     "output_type": "stream",
     "text": [
      "H3LL0 7H3R3, H0W 4R3 Y0U?\n"
     ]
    }
   ],
   "source": [
    "print(eng_to_leet_v3(\"HELLO THERE, HOW ARE YOU?\"))"
   ]
  },
  {
   "cell_type": "code",
   "execution_count": 9,
   "metadata": {},
   "outputs": [],
   "source": [
    "def eng_to_leet_v4(eng_str):\n",
    "    # Initialize an empty leet string\n",
    "    list_1 = ['O','I','Z','E','A','S','T','B']\n",
    "    list_2 = ['0','1','2','3','4','5','7','8']\n",
    "    for val1, val2 in zip(list_1, list_2):\n",
    "        eng_str = eng_str.replace(val1, val2)\n",
    "    return eng_str"
   ]
  },
  {
   "cell_type": "code",
   "execution_count": 10,
   "metadata": {},
   "outputs": [
    {
     "name": "stdout",
     "output_type": "stream",
     "text": [
      "H3LL0 7H3R3, H0W 4R3 Y0U?\n"
     ]
    }
   ],
   "source": [
    "print(eng_to_leet_v4(\"HELLO THERE, HOW ARE YOU?\"))"
   ]
  },
  {
   "cell_type": "markdown",
   "metadata": {},
   "source": [
    "### Timing functions"
   ]
  },
  {
   "cell_type": "code",
   "execution_count": 11,
   "metadata": {},
   "outputs": [],
   "source": [
    "from time import time"
   ]
  },
  {
   "cell_type": "code",
   "execution_count": 12,
   "metadata": {},
   "outputs": [
    {
     "name": "stdout",
     "output_type": "stream",
     "text": [
      "0.46935176849365234\n"
     ]
    }
   ],
   "source": [
    "start = time()\n",
    "n = 100000\n",
    "for i in range(n):\n",
    "    eng_to_leet(\"HELLO THERE, HOW ARE YOU?\")\n",
    "end = time()\n",
    "print(end - start)"
   ]
  },
  {
   "cell_type": "code",
   "execution_count": 13,
   "metadata": {},
   "outputs": [
    {
     "name": "stdout",
     "output_type": "stream",
     "text": [
      "0.053380727767944336\n"
     ]
    }
   ],
   "source": [
    "start = time()\n",
    "n = 100000\n",
    "for i in range(n):\n",
    "    eng_to_leet_v2(\"HELLO THERE, HOW ARE YOU?\")\n",
    "end = time()\n",
    "print(end - start)"
   ]
  },
  {
   "cell_type": "code",
   "execution_count": 14,
   "metadata": {},
   "outputs": [
    {
     "name": "stdout",
     "output_type": "stream",
     "text": [
      "0.06239748001098633\n"
     ]
    }
   ],
   "source": [
    "start = time()\n",
    "n = 100000\n",
    "for i in range(n):\n",
    "    eng_to_leet_v3(\"HELLO THERE, HOW ARE YOU?\")\n",
    "end = time()\n",
    "print(end - start)"
   ]
  },
  {
   "cell_type": "code",
   "execution_count": 15,
   "metadata": {},
   "outputs": [
    {
     "name": "stdout",
     "output_type": "stream",
     "text": [
      "0.11585712432861328\n"
     ]
    }
   ],
   "source": [
    "start = time()\n",
    "n = 100000\n",
    "for i in range(n):\n",
    "    eng_to_leet_v4(\"HELLO THERE, HOW ARE YOU?\")\n",
    "end = time()\n",
    "print(end - start)"
   ]
  },
  {
   "cell_type": "code",
   "execution_count": null,
   "metadata": {},
   "outputs": [],
   "source": []
  }
 ],
 "metadata": {
  "kernelspec": {
   "display_name": "Python 3 (ipykernel)",
   "language": "python",
   "name": "python3"
  },
  "language_info": {
   "codemirror_mode": {
    "name": "ipython",
    "version": 3
   },
   "file_extension": ".py",
   "mimetype": "text/x-python",
   "name": "python",
   "nbconvert_exporter": "python",
   "pygments_lexer": "ipython3",
   "version": "3.11.4"
  }
 },
 "nbformat": 4,
 "nbformat_minor": 4
}
