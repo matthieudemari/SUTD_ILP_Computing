{
 "cells": [
  {
   "cell_type": "code",
   "execution_count": 1,
   "metadata": {},
   "outputs": [
    {
     "name": "stdout",
     "output_type": "stream",
     "text": [
      "This is a string.\n",
      "17\n"
     ]
    }
   ],
   "source": [
    "a_string = \"This is a string.\"\n",
    "print(a_string)\n",
    "print(len(a_string))"
   ]
  },
  {
   "cell_type": "code",
   "execution_count": 2,
   "metadata": {},
   "outputs": [
    {
     "name": "stdout",
     "output_type": "stream",
     "text": [
      "Bob was heading to the supermarket.\n",
      "As he was leaving, his wife told him: \"While you're out, pick up some eggs!\" \n",
      "He never came back. \"I'm really sad\", said the wife. \n",
      "Also, the store eventually ran out of eggs.\n",
      "\t The End.(badum tsss!)"
     ]
    }
   ],
   "source": [
    "# A terrible computer science joke\n",
    "joke1 = \"Bob was heading to the supermarket.\"\n",
    "joke2 = 'As he was leaving, his wife told him:'\n",
    "joke3 = ''' \"While you're out, pick up some eggs!\" '''\n",
    "joke4 = \"He never came back. \\\"I\\'m really sad\\\", said the wife.\"\n",
    "joke5 = \"\\nAlso, the store eventually ran out of eggs.\"\n",
    "joke6 = \"\\t The End.\"\n",
    "print(joke1)\n",
    "print(joke2 + joke3)\n",
    "print(joke4, joke5)\n",
    "print(joke6, end = \"(badum tsss!)\")"
   ]
  },
  {
   "cell_type": "code",
   "execution_count": 3,
   "metadata": {},
   "outputs": [
    {
     "name": "stdout",
     "output_type": "stream",
     "text": [
      "[1, 2, 3, 1, 2, 3, 1, 2, 3, 4, 5, 6, 7]\n"
     ]
    }
   ],
   "source": [
    "list1 = [1, 2, 3]\n",
    "list2 = [4, 5, 6, 7]\n",
    "n = 3\n",
    "new_list = list1*n + list2\n",
    "print(new_list)"
   ]
  },
  {
   "cell_type": "code",
   "execution_count": 4,
   "metadata": {},
   "outputs": [
    {
     "name": "stdout",
     "output_type": "stream",
     "text": [
      "pikapikapikachu\n"
     ]
    }
   ],
   "source": [
    "str1 = \"pika\"\n",
    "str2 = \"chu\"\n",
    "n = 3\n",
    "new_string = str1*n + str2\n",
    "print(new_string)"
   ]
  },
  {
   "cell_type": "code",
   "execution_count": 5,
   "metadata": {},
   "outputs": [
    {
     "name": "stdout",
     "output_type": "stream",
     "text": [
      "T\n",
      "g\n"
     ]
    }
   ],
   "source": [
    "# Calling/indexing a string as in lists\n",
    "a_string = \"This is a string.\"\n",
    "print(a_string[0])\n",
    "print(a_string[-2])"
   ]
  },
  {
   "cell_type": "code",
   "execution_count": 6,
   "metadata": {},
   "outputs": [
    {
     "name": "stdout",
     "output_type": "stream",
     "text": [
      "is a st\n",
      "tig\n"
     ]
    }
   ],
   "source": [
    "# Slincing a string is fine as well\n",
    "a_string = \"This is a string.\"\n",
    "print(a_string[5:12])\n",
    "print(a_string[-6:-1:2])"
   ]
  },
  {
   "cell_type": "code",
   "execution_count": 2,
   "metadata": {},
   "outputs": [
    {
     "name": "stdout",
     "output_type": "stream",
     "text": [
      "[1, 4, 11, 9]\n"
     ]
    }
   ],
   "source": [
    "# Lists are mutable and can be updated\n",
    "a_list = [1, 4, 7, 9]\n",
    "a_list[2] = 11\n",
    "print(a_list)"
   ]
  },
  {
   "cell_type": "code",
   "execution_count": 3,
   "metadata": {},
   "outputs": [
    {
     "ename": "TypeError",
     "evalue": "'str' object does not support item assignment",
     "output_type": "error",
     "traceback": [
      "\u001b[1;31m---------------------------------------------------------------------------\u001b[0m",
      "\u001b[1;31mTypeError\u001b[0m                                 Traceback (most recent call last)",
      "\u001b[1;32m<ipython-input-3-736e16edf069>\u001b[0m in \u001b[0;36m<module>\u001b[1;34m\u001b[0m\n\u001b[0;32m      2\u001b[0m \u001b[1;31m# (i.e. cannot be changed once defined)\u001b[0m\u001b[1;33m\u001b[0m\u001b[1;33m\u001b[0m\u001b[1;33m\u001b[0m\u001b[0m\n\u001b[0;32m      3\u001b[0m \u001b[0ma_string\u001b[0m \u001b[1;33m=\u001b[0m \u001b[1;34m\"Your GPA is 2\"\u001b[0m\u001b[1;33m\u001b[0m\u001b[1;33m\u001b[0m\u001b[0m\n\u001b[1;32m----> 4\u001b[1;33m \u001b[0ma_string\u001b[0m\u001b[1;33m[\u001b[0m\u001b[1;33m-\u001b[0m\u001b[1;36m1\u001b[0m\u001b[1;33m]\u001b[0m \u001b[1;33m=\u001b[0m \u001b[1;36m5\u001b[0m \u001b[1;31m# Does not work\u001b[0m\u001b[1;33m\u001b[0m\u001b[1;33m\u001b[0m\u001b[0m\n\u001b[0m",
      "\u001b[1;31mTypeError\u001b[0m: 'str' object does not support item assignment"
     ]
    }
   ],
   "source": [
    "# Strings are unmutable\n",
    "# (i.e. cannot be changed once defined)\n",
    "a_string = \"Your GPA is 2\"\n",
    "a_string[-1] = 5 # Does not work"
   ]
  },
  {
   "cell_type": "code",
   "execution_count": 4,
   "metadata": {},
   "outputs": [
    {
     "ename": "TypeError",
     "evalue": "'str' object does not support item assignment",
     "output_type": "error",
     "traceback": [
      "\u001b[1;31m---------------------------------------------------------------------------\u001b[0m",
      "\u001b[1;31mTypeError\u001b[0m                                 Traceback (most recent call last)",
      "\u001b[1;32m<ipython-input-4-a2c24ccda094>\u001b[0m in \u001b[0;36m<module>\u001b[1;34m\u001b[0m\n\u001b[0;32m      2\u001b[0m \u001b[1;31m# (i.e. cannot be changed once defined)\u001b[0m\u001b[1;33m\u001b[0m\u001b[1;33m\u001b[0m\u001b[1;33m\u001b[0m\u001b[0m\n\u001b[0;32m      3\u001b[0m \u001b[0ma_string\u001b[0m \u001b[1;33m=\u001b[0m \u001b[1;34m\"Your GPA is 2\"\u001b[0m\u001b[1;33m\u001b[0m\u001b[1;33m\u001b[0m\u001b[0m\n\u001b[1;32m----> 4\u001b[1;33m \u001b[0ma_string\u001b[0m\u001b[1;33m[\u001b[0m\u001b[1;33m-\u001b[0m\u001b[1;36m1\u001b[0m\u001b[1;33m]\u001b[0m \u001b[1;33m=\u001b[0m \u001b[1;34m\"5\"\u001b[0m \u001b[1;31m# Stop it we said\u001b[0m\u001b[1;33m\u001b[0m\u001b[1;33m\u001b[0m\u001b[0m\n\u001b[0m",
      "\u001b[1;31mTypeError\u001b[0m: 'str' object does not support item assignment"
     ]
    }
   ],
   "source": [
    "# Strings are unmutable\n",
    "# (i.e. cannot be changed once defined)\n",
    "a_string = \"Your GPA is 2\"\n",
    "a_string[-1] = \"5\" # Stop it we said"
   ]
  },
  {
   "cell_type": "code",
   "execution_count": 5,
   "metadata": {},
   "outputs": [
    {
     "name": "stdout",
     "output_type": "stream",
     "text": [
      "French cuisine is the best.\n"
     ]
    }
   ],
   "source": [
    "a_mistake = \"British cuisine is the best.\"\n",
    "fixed = a_mistake.replace(\"British\", \"French\")\n",
    "print(fixed)"
   ]
  },
  {
   "cell_type": "code",
   "execution_count": 9,
   "metadata": {},
   "outputs": [
    {
     "name": "stdout",
     "output_type": "stream",
     "text": [
      "---\n",
      "H\n",
      "---\n",
      "e\n",
      "---\n",
      "l\n",
      "---\n",
      "l\n",
      "---\n",
      "o\n"
     ]
    }
   ],
   "source": [
    "# Traversing a string\n",
    "# (index-wise)\n",
    "a_string = \"Hello\"\n",
    "for index in range(len(a_string)):\n",
    "    print(\"---\")\n",
    "    print(a_string[index])"
   ]
  },
  {
   "cell_type": "code",
   "execution_count": 10,
   "metadata": {},
   "outputs": [
    {
     "name": "stdout",
     "output_type": "stream",
     "text": [
      "---\n",
      "H\n",
      "---\n",
      "e\n",
      "---\n",
      "l\n",
      "---\n",
      "l\n",
      "---\n",
      "o\n"
     ]
    }
   ],
   "source": [
    "# Traversing a string\n",
    "# (element-wise)\n",
    "a_string = \"Hello\"\n",
    "for character in a_string:\n",
    "    print(\"---\")\n",
    "    print(character)"
   ]
  },
  {
   "cell_type": "code",
   "execution_count": 11,
   "metadata": {},
   "outputs": [
    {
     "name": "stdout",
     "output_type": "stream",
     "text": [
      "---\n",
      "0 H\n",
      "---\n",
      "1 e\n",
      "---\n",
      "2 l\n",
      "---\n",
      "3 l\n",
      "---\n",
      "4 o\n"
     ]
    }
   ],
   "source": [
    "# Traversing a string\n",
    "# (enumerate)\n",
    "a_string = \"Hello\"\n",
    "for index, character in enumerate(a_string):\n",
    "    print(\"---\")\n",
    "    print(index, character)"
   ]
  },
  {
   "cell_type": "code",
   "execution_count": 12,
   "metadata": {},
   "outputs": [
    {
     "name": "stdout",
     "output_type": "stream",
     "text": [
      "bool1:  True\n",
      "bool2:  True\n",
      "bool3:  False\n"
     ]
    }
   ],
   "source": [
    "# Membership keyword: in\n",
    "a_string = \"Pikachu\"\n",
    "bool1 = \"k\" in a_string\n",
    "print(\"bool1: \", bool1)\n",
    "bool2 = \"chu\" in a_string\n",
    "print(\"bool2: \", bool2)\n",
    "bool3 = \"swag\" in a_string\n",
    "print(\"bool3: \", bool3)"
   ]
  },
  {
   "cell_type": "code",
   "execution_count": 13,
   "metadata": {},
   "outputs": [
    {
     "name": "stdout",
     "output_type": "stream",
     "text": [
      "2\n",
      "4\n",
      "12\n",
      "-1\n"
     ]
    }
   ],
   "source": [
    "# Find method in strings\n",
    "a_string = \"Pikapikapikachu\"\n",
    "print(a_string.find(\"k\"))\n",
    "print(a_string.find(\"p\"))\n",
    "print(a_string.find(\"chu\"))\n",
    "print(a_string.find(\"swag\"))"
   ]
  },
  {
   "cell_type": "code",
   "execution_count": 14,
   "metadata": {},
   "outputs": [
    {
     "name": "stdout",
     "output_type": "stream",
     "text": [
      "bool1:  False\n",
      "bool2:  True\n",
      "bool3:  True\n",
      "bool4:  True\n"
     ]
    }
   ],
   "source": [
    "string1 = \"Matt\"\n",
    "string2 = \"Chris\"\n",
    "string3 = \"Oka\"\n",
    "string4 = \"Matt\"\n",
    "bool1 = (string1 == string2)\n",
    "print(\"bool1: \", bool1)\n",
    "bool2 = (string1 == string4)\n",
    "print(\"bool2: \", bool2)\n",
    "bool3 = (string1 > string2)\n",
    "print(\"bool3: \", bool3)\n",
    "bool4 = (string1 <= string3)\n",
    "print(\"bool4: \", bool4)"
   ]
  },
  {
   "cell_type": "code",
   "execution_count": 15,
   "metadata": {},
   "outputs": [
    {
     "name": "stdout",
     "output_type": "stream",
     "text": [
      "['A', 'B', 'C', 'D', 'E', 'F', 'G']\n",
      "['Chris', 'Matt', 'Oka']\n"
     ]
    }
   ],
   "source": [
    "# Sorting strings and lists of strings\n",
    "string1 = \"BDEFGAC\"\n",
    "print(sorted(string1))\n",
    "strings_list = [\"Matt\", \"Chris\", \"Oka\"]\n",
    "print(sorted(strings_list))"
   ]
  },
  {
   "cell_type": "code",
   "execution_count": 16,
   "metadata": {},
   "outputs": [
    {
     "name": "stdout",
     "output_type": "stream",
     "text": [
      "Your Pikachu is now level 15. Well done Pikachu!\n",
      "Your Pikachu is now level 15. Well done Pikachu!\n",
      "Your Pikachu is now level 15. Well done Pikachu!\n"
     ]
    }
   ],
   "source": [
    "# Minimal format\n",
    "print(\"Your {} is now level {}. Well done {}!\".format(\"Pikachu\", 15, \"Pikachu\"))\n",
    "# Indexed placeholders\n",
    "print(\"Your {1} is now level {0}. Well done {1}!\".format(15, \"Pikachu\"))\n",
    "# Keyword arguments\n",
    "print(\"Your {name} is now level {level}. Well done {name}!\".format(name = \"Pikachu\", level = 15))"
   ]
  },
  {
   "cell_type": "code",
   "execution_count": 7,
   "metadata": {},
   "outputs": [
    {
     "name": "stdout",
     "output_type": "stream",
     "text": [
      "Your Pikachu is now level 15.\n",
      "<class 'str'>\n"
     ]
    }
   ],
   "source": [
    "# F-strings\n",
    "name = \"Pikachu\"\n",
    "level = 15\n",
    "fstring = F\"Your {name} is now level {level}.\"\n",
    "print(fstring)\n",
    "print(type(fstring))"
   ]
  },
  {
   "cell_type": "code",
   "execution_count": 9,
   "metadata": {},
   "outputs": [
    {
     "name": "stdout",
     "output_type": "stream",
     "text": [
      "PIKAPI!\n",
      "['P', 'I', 'K', 'A', 'P', 'I', '!']\n"
     ]
    }
   ],
   "source": [
    "# String to list conversion\n",
    "so_noisy = \"PIKAPI!\"\n",
    "print(so_noisy)\n",
    "noise_as_list = list(so_noisy)\n",
    "print(noise_as_list)"
   ]
  },
  {
   "cell_type": "code",
   "execution_count": 10,
   "metadata": {},
   "outputs": [
    {
     "name": "stdout",
     "output_type": "stream",
     "text": [
      "['P', 'I', 'K', 'A', 'P', 'I', '!']\n",
      "PIKAPI!\n",
      "PPIKAIPIKAKPIKAAPIKAPPIKAIPIKA!\n"
     ]
    }
   ],
   "source": [
    "# List of strings joining\n",
    "print(noise_as_list)\n",
    "noise_as_string = ''.join(noise_as_list)\n",
    "print(noise_as_string)\n",
    "# List of strings joining\n",
    "HELL_NO = \"PIKA\".join(noise_as_list)\n",
    "print(HELL_NO)"
   ]
  },
  {
   "cell_type": "code",
   "execution_count": 19,
   "metadata": {},
   "outputs": [
    {
     "name": "stdout",
     "output_type": "stream",
     "text": [
      "PIKA PIKA PIKA? PIKAPI PIKA PIKA PI!\n",
      "['PIKA', 'PIKA', 'PIKA?', 'PIKAPI', 'PIKA', 'PIKA', 'PI!']\n",
      "02-Mar-1989\n",
      "['02', 'Mar', '1989']\n"
     ]
    }
   ],
   "source": [
    "# Splitting a string\n",
    "so_annoying = \"PIKA PIKA PIKA? PIKAPI PIKA PIKA PI!\"\n",
    "print(so_annoying)\n",
    "print(so_annoying.split())\n",
    "# Splitting a string\n",
    "my_birthday = \"02-Mar-1989\"\n",
    "print(my_birthday)\n",
    "print(my_birthday.split(\"-\"))"
   ]
  },
  {
   "cell_type": "code",
   "execution_count": 12,
   "metadata": {},
   "outputs": [
    {
     "name": "stdout",
     "output_type": "stream",
     "text": [
      "      This string is floating in spaces     \n",
      "This string is floating in spaces\n",
      "***COUGH**COUGH******\n",
      "COUGH**COUGH\n"
     ]
    }
   ],
   "source": [
    "# Stripping a string\n",
    "the_ISS = \"      This string is floating in spaces     \"\n",
    "print(the_ISS)\n",
    "print(the_ISS.strip())\n",
    "# Stripping a string\n",
    "allergic_to_stars = \"***COUGH**COUGH******\"\n",
    "print(allergic_to_stars)\n",
    "print(allergic_to_stars.strip(\"*\"))"
   ]
  },
  {
   "cell_type": "code",
   "execution_count": 22,
   "metadata": {},
   "outputs": [
    {
     "name": "stdout",
     "output_type": "stream",
     "text": [
      "True\n",
      "False\n"
     ]
    }
   ],
   "source": [
    "# The isalpha() method\n",
    "my_first_name = \"Matt\"\n",
    "my_last_name = \"De Mari\"\n",
    "print(my_first_name.isalpha())\n",
    "print(my_last_name.isalpha())"
   ]
  },
  {
   "cell_type": "code",
   "execution_count": 23,
   "metadata": {},
   "outputs": [
    {
     "name": "stdout",
     "output_type": "stream",
     "text": [
      "True\n",
      "False\n"
     ]
    }
   ],
   "source": [
    "# The isdigit() method\n",
    "my_SG_phone = \"00000000\"\n",
    "my_FR_phone = \"+33 0000000000\"\n",
    "print(my_SG_phone.isdigit())\n",
    "print(my_FR_phone.isdigit())"
   ]
  },
  {
   "cell_type": "code",
   "execution_count": 24,
   "metadata": {},
   "outputs": [
    {
     "name": "stdout",
     "output_type": "stream",
     "text": [
      "True\n",
      "False\n"
     ]
    }
   ],
   "source": [
    "# The isalnum() method\n",
    "my_age = \"31years\" # Sigh\n",
    "my_email = \"best_teacher_in_SUTD@sutd.edu.sg\"\n",
    "print(my_age.isalnum())\n",
    "print(my_email.isalnum())"
   ]
  },
  {
   "cell_type": "code",
   "execution_count": null,
   "metadata": {},
   "outputs": [],
   "source": []
  }
 ],
 "metadata": {
  "kernelspec": {
   "display_name": "Python 3",
   "language": "python",
   "name": "python3"
  },
  "language_info": {
   "codemirror_mode": {
    "name": "ipython",
    "version": 3
   },
   "file_extension": ".py",
   "mimetype": "text/x-python",
   "name": "python",
   "nbconvert_exporter": "python",
   "pygments_lexer": "ipython3",
   "version": "3.8.3"
  }
 },
 "nbformat": 4,
 "nbformat_minor": 4
}
