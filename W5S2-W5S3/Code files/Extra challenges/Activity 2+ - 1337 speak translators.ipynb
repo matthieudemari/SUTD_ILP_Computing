{
 "cells": [
  {
   "cell_type": "markdown",
   "metadata": {},
   "source": [
    "# Activity 2 - 1337 speak translators"
   ]
  },
  {
   "cell_type": "markdown",
   "metadata": {},
   "source": [
    "From: https://en.wikipedia.org/wiki/Leet\n",
    "\n",
    "**Leet (or \"1337\")**, also known as eleet or leetspeak, is a system of modified spellings used primarily on the Internet.\n",
    "\n",
    "It often uses character replacements in ways that play on the similarity of their glyphs via reflection or other resemblance.\n",
    "\n",
    "For instance, leet speak replaces:\n",
    "- the letters I, with 1,\n",
    "- the letters Z, with 2,\n",
    "- the letters E, with 3,\n",
    "- the letters A, with 4,\n",
    "- the letters S, with 5,\n",
    "- the letters T, with 7,\n",
    "- the letters B, with 8,\n",
    "- the letters O, with 0.\n",
    "\n",
    "For instance, the English sentence **\"HELLO THERE, HOW ARE YOU?\"** will write in leet speak as **\"H3LL0 7H3R3, H0W 4R3 Y0U?\"**."
   ]
  },
  {
   "cell_type": "markdown",
   "metadata": {},
   "source": [
    "### Task\n",
    "\n",
    "Write a function **leet_to_eng()**, which receives a single parameter, *leet_str*, which corresponds to a sentence in Leet Speak, written in capital letters and numbers. It returns the equivalent sentence in English, by modifying the letters with numbers, by following the rules defined above accordingly."
   ]
  },
  {
   "cell_type": "markdown",
   "metadata": {},
   "source": [
    "### You code below!"
   ]
  },
  {
   "cell_type": "code",
   "execution_count": null,
   "metadata": {},
   "outputs": [],
   "source": [
    "def leet_to_eng(leet_str):\n",
    "    return eng_str"
   ]
  },
  {
   "cell_type": "code",
   "execution_count": null,
   "metadata": {},
   "outputs": [],
   "source": [
    "# Test case 1: this should print HELLO THERE, HOW ARE YOU?\n",
    "print(leet_to_eng(\"H3LL0 7H3R3, H0W 4R3 Y0U?\"))"
   ]
  },
  {
   "cell_type": "code",
   "execution_count": null,
   "metadata": {},
   "outputs": [],
   "source": []
  }
 ],
 "metadata": {
  "kernelspec": {
   "display_name": "Python 3",
   "language": "python",
   "name": "python3"
  },
  "language_info": {
   "codemirror_mode": {
    "name": "ipython",
    "version": 3
   },
   "file_extension": ".py",
   "mimetype": "text/x-python",
   "name": "python",
   "nbconvert_exporter": "python",
   "pygments_lexer": "ipython3",
   "version": "3.8.3"
  }
 },
 "nbformat": 4,
 "nbformat_minor": 4
}
