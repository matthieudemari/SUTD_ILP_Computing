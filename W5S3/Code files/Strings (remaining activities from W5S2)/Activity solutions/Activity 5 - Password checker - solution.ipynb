{
 "cells": [
  {
   "cell_type": "markdown",
   "metadata": {},
   "source": [
    "# Activity 5 - Password checker - solution\n",
    "\n",
    "### Task\n",
    "\n",
    "Write a function **password_check()**, which receives a single parameter, *password*, consisting of a string variable.\n",
    "\n",
    "This function returns a boolean with value True if:\n",
    "- the password has at least 8 characters,\n",
    "- the password contains both letters and numbers,\n",
    "- and the password contains at least one special character (i.e. a non-number, non-letter character).\n",
    "\n",
    "Otherwise, the function returns False."
   ]
  },
  {
   "cell_type": "markdown",
   "metadata": {},
   "source": [
    "### Your code below"
   ]
  },
  {
   "cell_type": "code",
   "execution_count": null,
   "metadata": {},
   "outputs": [],
   "source": [
    "def password_check(password):\n",
    "    \n",
    "    # 1. Check for length\n",
    "    has_length = len(password) >= 8\n",
    "    \n",
    "    # 2. Check for letters and numbers and a special character\n",
    "    has_letters = False\n",
    "    has_numbers = False\n",
    "    has_special = False\n",
    "    for letter in password:\n",
    "        # Check for letters\n",
    "        if letter.isalpha():\n",
    "            has_letters = True\n",
    "        # Check for numbers\n",
    "        if letter.isdigit():\n",
    "            has_numbers = True\n",
    "        # Check for special characters\n",
    "        if not letter.isalnum():\n",
    "            has_special = True\n",
    "        # Optionnal: we can stop looking once we have seen at least a letter,\n",
    "        # a number and a special character\n",
    "        if has_numbers and has_letters and has_special:\n",
    "            break\n",
    "            \n",
    "    # 3. Combine booleans and return\n",
    "    return has_length and has_letters and has_numbers and has_special"
   ]
  },
  {
   "cell_type": "code",
   "execution_count": null,
   "metadata": {},
   "outputs": [],
   "source": [
    "def password_check_v2(password):\n",
    "    if len(password) < 8:\n",
    "        return False\n",
    "    \n",
    "    hasletter = False\n",
    "    hasnumber = False\n",
    "    hasspecial = False\n",
    "    for i in password:\n",
    "        if i.isalpha():\n",
    "            hasletter = True\n",
    "        elif i.isdigit():\n",
    "            hasnumber = True\n",
    "        elif not i.isalnum():\n",
    "            hasspecial = True\n",
    "        if(hasletter and hasnumber and hasspecial):\n",
    "            return True\n",
    "    return False"
   ]
  },
  {
   "cell_type": "code",
   "execution_count": 13,
   "metadata": {},
   "outputs": [],
   "source": [
    "def password_check_v2(password):\n",
    "    return sum([int(letter.isdigit()) for letter in password]) >= 1 and sum([int(letter.isalpha()) for letter in password]) >= 1 and sum([int(not letter.isalnum()) for letter in password]) >= 1 and len(password) >= 8"
   ]
  },
  {
   "cell_type": "markdown",
   "metadata": {},
   "source": [
    "### Expected results"
   ]
  },
  {
   "cell_type": "code",
   "execution_count": 14,
   "metadata": {},
   "outputs": [
    {
     "name": "stdout",
     "output_type": "stream",
     "text": [
      "False\n",
      "False\n",
      "False\n",
      "True\n",
      "False\n"
     ]
    }
   ],
   "source": [
    "# This should print False\n",
    "print(password_check_v2(\"Pika?7\"))\n",
    "# This should print False\n",
    "print(password_check_v2(\"Pikachuuuu\"))\n",
    "# This should print False\n",
    "print(password_check_v2(\"Pikachu999\"))\n",
    "# This should print True\n",
    "print(password_check_v2(\"P1k@chuuu\"))\n",
    "# This should print False\n",
    "print(password_check_v2(\"------------\"))"
   ]
  },
  {
   "cell_type": "code",
   "execution_count": null,
   "metadata": {},
   "outputs": [],
   "source": [
    "# This should print False\n",
    "print(password_check_v2(\"Pika?7\"))\n",
    "# This should print False\n",
    "print(password_check_v2(\"Pikachuuuu\"))\n",
    "# This should print False\n",
    "print(password_check_v2(\"Pikachu999\"))\n",
    "# This should print True\n",
    "print(password_check_v2(\"P1k@chuuu\"))\n",
    "# This should print False\n",
    "print(password_check_v2(\"------------\"))"
   ]
  },
  {
   "cell_type": "code",
   "execution_count": null,
   "metadata": {},
   "outputs": [],
   "source": []
  }
 ],
 "metadata": {
  "kernelspec": {
   "display_name": "Python 3 (ipykernel)",
   "language": "python",
   "name": "python3"
  },
  "language_info": {
   "codemirror_mode": {
    "name": "ipython",
    "version": 3
   },
   "file_extension": ".py",
   "mimetype": "text/x-python",
   "name": "python",
   "nbconvert_exporter": "python",
   "pygments_lexer": "ipython3",
   "version": "3.10.5"
  }
 },
 "nbformat": 4,
 "nbformat_minor": 4
}
