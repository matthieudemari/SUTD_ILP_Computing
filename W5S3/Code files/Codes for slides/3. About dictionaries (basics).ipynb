{
 "cells": [
  {
   "cell_type": "code",
   "execution_count": 3,
   "metadata": {},
   "outputs": [
    {
     "name": "stdout",
     "output_type": "stream",
     "text": [
      "[1, 3, 5, 7, 9]\n",
      "{0: 1, 1: 3, 2: 5, 3: 7, 4: 9}\n",
      "<class 'dict'>\n"
     ]
    }
   ],
   "source": [
    "my_list = [1, 3, 5, 7, 9]\n",
    "print(my_list)\n",
    "my_dict = {0:1, 1:3, 2:5, 3:7, 4:9}\n",
    "print(my_dict)\n",
    "print(type(my_dict))"
   ]
  },
  {
   "cell_type": "code",
   "execution_count": 5,
   "metadata": {},
   "outputs": [
    {
     "name": "stdout",
     "output_type": "stream",
     "text": [
      "1\n",
      "1\n",
      "9\n"
     ]
    },
    {
     "ename": "KeyError",
     "evalue": "-1",
     "output_type": "error",
     "traceback": [
      "\u001b[1;31m---------------------------------------------------------------------------\u001b[0m",
      "\u001b[1;31mKeyError\u001b[0m                                  Traceback (most recent call last)",
      "\u001b[1;32m<ipython-input-5-c95d094c5ce2>\u001b[0m in \u001b[0;36m<module>\u001b[1;34m\u001b[0m\n\u001b[0;32m      4\u001b[0m \u001b[0mprint\u001b[0m\u001b[1;33m(\u001b[0m\u001b[0mmy_dict\u001b[0m\u001b[1;33m[\u001b[0m\u001b[1;36m0\u001b[0m\u001b[1;33m]\u001b[0m\u001b[1;33m)\u001b[0m\u001b[1;33m\u001b[0m\u001b[1;33m\u001b[0m\u001b[0m\n\u001b[0;32m      5\u001b[0m \u001b[0mprint\u001b[0m\u001b[1;33m(\u001b[0m\u001b[0mmy_list\u001b[0m\u001b[1;33m[\u001b[0m\u001b[1;33m-\u001b[0m\u001b[1;36m1\u001b[0m\u001b[1;33m]\u001b[0m\u001b[1;33m)\u001b[0m\u001b[1;33m\u001b[0m\u001b[1;33m\u001b[0m\u001b[0m\n\u001b[1;32m----> 6\u001b[1;33m \u001b[0mprint\u001b[0m\u001b[1;33m(\u001b[0m\u001b[0mmy_dict\u001b[0m\u001b[1;33m[\u001b[0m\u001b[1;33m-\u001b[0m\u001b[1;36m1\u001b[0m\u001b[1;33m]\u001b[0m\u001b[1;33m)\u001b[0m\u001b[1;33m\u001b[0m\u001b[1;33m\u001b[0m\u001b[0m\n\u001b[0m",
      "\u001b[1;31mKeyError\u001b[0m: -1"
     ]
    }
   ],
   "source": [
    "# Dictionaries are like lists,\n",
    "# but whose indexes (a.k.a. keys)\n",
    "# could be decided by the user\n",
    "print(my_list[0])\n",
    "print(my_dict[0])\n",
    "print(my_list[-1])\n",
    "print(my_dict[-1]) # Index -1 does not exist!"
   ]
  },
  {
   "cell_type": "code",
   "execution_count": 50,
   "metadata": {},
   "outputs": [
    {
     "name": "stdout",
     "output_type": "stream",
     "text": [
      "{'Name': 'Matt', 'Phone': 65, 'Is_the_best_teacher': True}\n",
      "Matt\n",
      "65\n",
      "True\n"
     ]
    }
   ],
   "source": [
    "# For instance, we could create somthing like this\n",
    "my_dict = {\"Name\": \"Matt\", \"Phone\": 65, \"Is_the_best_teacher\": True}\n",
    "print(my_dict)\n",
    "print(my_dict[\"Name\"])\n",
    "print(my_dict[\"Phone\"])\n",
    "print(my_dict[\"Is_the_best_teacher\"])"
   ]
  },
  {
   "cell_type": "code",
   "execution_count": 42,
   "metadata": {},
   "outputs": [
    {
     "name": "stdout",
     "output_type": "stream",
     "text": [
      "{0: 11, 1: 3, 2: 5, 3: 7, 4: 9}\n",
      "{0: 11, 1: 3, 2: 5, 3: 7, 4: 9, 27: 14}\n",
      "{0: 11, 1: 3, 2: 5, 4: 9, 27: 14}\n"
     ]
    }
   ],
   "source": [
    "# Updating a dictionary\n",
    "my_dict = {0:1, 1:3, 2:5, 3:7, 4:9}\n",
    "my_dict[0] = 11\n",
    "print(my_dict)\n",
    "# Adding a new value to dictionary\n",
    "my_dict[27] = 14\n",
    "print(my_dict)\n",
    "# Removing a value from dictionary\n",
    "del(my_dict[3])\n",
    "print(my_dict)"
   ]
  },
  {
   "cell_type": "code",
   "execution_count": 46,
   "metadata": {},
   "outputs": [
    {
     "name": "stdout",
     "output_type": "stream",
     "text": [
      "3\n",
      "47\n"
     ]
    }
   ],
   "source": [
    "# The get() method\n",
    "my_dict = {0:1, 1:3, 2:5, 3:7, 4:9}\n",
    "# Attempts to do my_dict[index],\n",
    "# return value if possible.\n",
    "default = 47\n",
    "index = 1\n",
    "print(my_dict.get(index, default))\n",
    "# If index does not appear in dict, \n",
    "# return specified default value instead.\n",
    "default = 47\n",
    "index = 11\n",
    "print(my_dict.get(index, default))"
   ]
  },
  {
   "cell_type": "code",
   "execution_count": 17,
   "metadata": {},
   "outputs": [
    {
     "name": "stdout",
     "output_type": "stream",
     "text": [
      "{'Name': 'Matt', 'Phone': 65, 'Is_the_best_teacher': True}\n"
     ]
    }
   ],
   "source": [
    "# Keys could be anything, as long as they are UNMUTABLE\n",
    "my_dict = {\"Name\": \"Matt\", \"Phone\": 65, \"Is_the_best_teacher\": True}\n",
    "print(my_dict)"
   ]
  },
  {
   "cell_type": "code",
   "execution_count": 26,
   "metadata": {},
   "outputs": [
    {
     "name": "stdout",
     "output_type": "stream",
     "text": [
      "Name Matt\n",
      "Phone 65\n",
      "Is_the_best_teacher True\n"
     ]
    }
   ],
   "source": [
    "# Basically, dictionnaries combine two lists of equal length\n",
    "# One for keys/indexes, one for values\n",
    "keys_list = [\"Name\", \"Phone\", \"Is_the_best_teacher\"]\n",
    "values_list = [\"Matt\", 65, True]\n",
    "for key, value in zip(keys_list, values_list):\n",
    "    print(key, value)"
   ]
  },
  {
   "cell_type": "code",
   "execution_count": 27,
   "metadata": {},
   "outputs": [
    {
     "name": "stdout",
     "output_type": "stream",
     "text": [
      "{'Name': 'Matt', 'Phone': 65, 'Is_the_best_teacher': True}\n"
     ]
    }
   ],
   "source": [
    "# Basically, dictionnaries combine two lists of equal length\n",
    "# One for keys/indexes, one for values\n",
    "keys_list = [\"Name\", \"Phone\", \"Is_the_best_teacher\"]\n",
    "values_list = [\"Matt\", 65, True]\n",
    "# Both lists are zipped together and assembled as a dict\n",
    "my_dict = dict(zip(keys_list, values_list))\n",
    "print(my_dict)"
   ]
  },
  {
   "cell_type": "code",
   "execution_count": 33,
   "metadata": {},
   "outputs": [
    {
     "name": "stdout",
     "output_type": "stream",
     "text": [
      "['Name', 'Phone', 'Is_the_best_teacher']\n",
      "['Matt', 65, True]\n",
      "[('Name', 'Matt'), ('Phone', 65), ('Is_the_best_teacher', True)]\n"
     ]
    }
   ],
   "source": [
    "my_dict = {\"Name\": \"Matt\", \"Phone\": 65, \"Is_the_best_teacher\": True}\n",
    "# Dictionary keys, as list\n",
    "print(list(my_dict.keys()))\n",
    "# Dictionary values, as list\n",
    "print(list(my_dict.values()))\n",
    "# Dictionary keys and values, as zipped lists\n",
    "print(list(my_dict.items()))"
   ]
  },
  {
   "cell_type": "code",
   "execution_count": 38,
   "metadata": {},
   "outputs": [
    {
     "name": "stdout",
     "output_type": "stream",
     "text": [
      "Name\n",
      "Phone\n",
      "Is_the_best_teacher\n"
     ]
    }
   ],
   "source": [
    "# Traversing a dictionary key-wise\n",
    "for key in my_dict.keys():\n",
    "    print(key)"
   ]
  },
  {
   "cell_type": "code",
   "execution_count": 39,
   "metadata": {},
   "outputs": [
    {
     "name": "stdout",
     "output_type": "stream",
     "text": [
      "Matt\n",
      "65\n",
      "True\n"
     ]
    }
   ],
   "source": [
    "# Traversing a dictionary value-wise\n",
    "for value in my_dict.values():\n",
    "    print(key)"
   ]
  },
  {
   "cell_type": "code",
   "execution_count": 40,
   "metadata": {},
   "outputs": [
    {
     "name": "stdout",
     "output_type": "stream",
     "text": [
      "Name Matt\n",
      "Phone 65\n",
      "Is_the_best_teacher True\n"
     ]
    }
   ],
   "source": [
    "# Traversing a dictionary item-wise\n",
    "for key, value in my_dict.items():\n",
    "    print(key, value)"
   ]
  },
  {
   "cell_type": "code",
   "execution_count": 28,
   "metadata": {},
   "outputs": [
    {
     "ename": "TypeError",
     "evalue": "unhashable type: 'list'",
     "output_type": "error",
     "traceback": [
      "\u001b[1;31m---------------------------------------------------------------------------\u001b[0m",
      "\u001b[1;31mTypeError\u001b[0m                                 Traceback (most recent call last)",
      "\u001b[1;32m<ipython-input-28-b3b758f6c718>\u001b[0m in \u001b[0;36m<module>\u001b[1;34m\u001b[0m\n\u001b[0;32m      1\u001b[0m \u001b[1;31m# Lists are not unmutable...\u001b[0m\u001b[1;33m\u001b[0m\u001b[1;33m\u001b[0m\u001b[1;33m\u001b[0m\u001b[0m\n\u001b[0;32m      2\u001b[0m \u001b[1;31m# They cannot be used as keys.\u001b[0m\u001b[1;33m\u001b[0m\u001b[1;33m\u001b[0m\u001b[1;33m\u001b[0m\u001b[0m\n\u001b[1;32m----> 3\u001b[1;33m tictactoe = {[0, 0]: \"Empty\", \\\n\u001b[0m\u001b[0;32m      4\u001b[0m              \u001b[1;33m[\u001b[0m\u001b[1;36m0\u001b[0m\u001b[1;33m,\u001b[0m \u001b[1;36m1\u001b[0m\u001b[1;33m]\u001b[0m\u001b[1;33m:\u001b[0m \u001b[1;34m\"Circle\"\u001b[0m\u001b[1;33m,\u001b[0m\u001b[0;31m \u001b[0m\u001b[0;31m\\\u001b[0m\u001b[1;33m\u001b[0m\u001b[1;33m\u001b[0m\u001b[0m\n\u001b[0;32m      5\u001b[0m              \u001b[1;33m[\u001b[0m\u001b[1;36m0\u001b[0m\u001b[1;33m,\u001b[0m \u001b[1;36m2\u001b[0m\u001b[1;33m]\u001b[0m\u001b[1;33m:\u001b[0m \u001b[1;34m\"Circle\"\u001b[0m\u001b[1;33m,\u001b[0m\u001b[0;31m \u001b[0m\u001b[0;31m\\\u001b[0m\u001b[1;33m\u001b[0m\u001b[1;33m\u001b[0m\u001b[0m\n",
      "\u001b[1;31mTypeError\u001b[0m: unhashable type: 'list'"
     ]
    }
   ],
   "source": [
    "# Lists are not unmutable...\n",
    "# They cannot be used as keys.\n",
    "tictactoe = {[0, 0]: \"Empty\", \\\n",
    "             [0, 1]: \"Circle\", \\\n",
    "             [0, 2]: \"Circle\", \\\n",
    "             [1, 0]: \"Empty\", \\\n",
    "             [1, 1]: \"Cross\", \\\n",
    "             [1, 2]: \"Empty\", \\\n",
    "             [2, 0]: \"Empty\", \\\n",
    "             [2, 1]: \"Empty\", \\\n",
    "             [2, 2]: \"Empty\"}"
   ]
  },
  {
   "cell_type": "code",
   "execution_count": 29,
   "metadata": {},
   "outputs": [
    {
     "name": "stdout",
     "output_type": "stream",
     "text": [
      "{(0, 0): 'Empty', (0, 1): 'Circle', (0, 2): 'Circle', (1, 0): 'Empty', (1, 1): 'Cross', (1, 2): 'Empty', (2, 0): 'Empty', (2, 1): 'Empty', (2, 2): 'Empty'}\n"
     ]
    }
   ],
   "source": [
    "# Tuples are unmutable!\n",
    "tictactoe = {(0, 0): \"Empty\", \\\n",
    "             (0, 1): \"Circle\", \\\n",
    "             (0, 2): \"Circle\", \\\n",
    "             (1, 0): \"Empty\", \\\n",
    "             (1, 1): \"Cross\", \\\n",
    "             (1, 2): \"Empty\", \\\n",
    "             (2, 0): \"Empty\", \\\n",
    "             (2, 1): \"Empty\", \\\n",
    "             (2, 2): \"Empty\"}\n",
    "print(tictactoe)"
   ]
  },
  {
   "cell_type": "code",
   "execution_count": null,
   "metadata": {},
   "outputs": [],
   "source": []
  }
 ],
 "metadata": {
  "kernelspec": {
   "display_name": "Python 3",
   "language": "python",
   "name": "python3"
  },
  "language_info": {
   "codemirror_mode": {
    "name": "ipython",
    "version": 3
   },
   "file_extension": ".py",
   "mimetype": "text/x-python",
   "name": "python",
   "nbconvert_exporter": "python",
   "pygments_lexer": "ipython3",
   "version": "3.8.3"
  }
 },
 "nbformat": 4,
 "nbformat_minor": 4
}
