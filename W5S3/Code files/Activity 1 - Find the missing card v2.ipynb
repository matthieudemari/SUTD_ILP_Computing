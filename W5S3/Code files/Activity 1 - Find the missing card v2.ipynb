{
 "cells": [
  {
   "cell_type": "markdown",
   "metadata": {},
   "source": [
    "# Activity 1 - Find the missing card v2\n",
    "\n",
    "In this activity, we define a deck of cards by using a list of lists, as shown below."
   ]
  },
  {
   "cell_type": "code",
   "execution_count": null,
   "metadata": {},
   "outputs": [],
   "source": [
    "complete_deck = [['Hearts', '1'], ['Hearts', '2'], ['Hearts', '3'], ['Hearts', '4'], \\\n",
    "                 ['Hearts', '5'], ['Hearts', '6'], ['Hearts', '7'], ['Hearts', '8'], \\\n",
    "                 ['Hearts', '9'], ['Hearts', '10'], ['Hearts', 'Jack'], ['Hearts', 'Queen'], \\\n",
    "                 ['Hearts', 'King'], ['Spades', '1'], ['Spades', '2'], ['Spades', '3'], \\\n",
    "                 ['Spades', '4'], ['Spades', '5'], ['Spades', '6'], ['Spades', '7'], ['Spades', '8'], \\\n",
    "                 ['Spades', '9'], ['Spades', '10'], ['Spades', 'Jack'], ['Spades', 'Queen'], \\\n",
    "                 ['Spades', 'King'], ['Diamonds', '1'], ['Diamonds', '2'], ['Diamonds', '3'], \\\n",
    "                 ['Diamonds', '4'], ['Diamonds', '5'], ['Diamonds', '6'], ['Diamonds', '7'], \\\n",
    "                 ['Diamonds', '8'], ['Diamonds', '9'], ['Diamonds', '10'], ['Diamonds', 'Jack'], \\\n",
    "                 ['Diamonds', 'Queen'], ['Diamonds', 'King'], ['Clubs', '1'], ['Clubs', '2'], \\\n",
    "                 ['Clubs', '3'], ['Clubs', '4'], ['Clubs', '5'], ['Clubs', '6'], ['Clubs', '7'], \\\n",
    "                 ['Clubs', '8'], ['Clubs', '9'], ['Clubs', '10'], ['Clubs', 'Jack'], \\\n",
    "                 ['Clubs', 'Queen'], ['Clubs', 'King']]\n",
    "print(complete_deck)"
   ]
  },
  {
   "cell_type": "markdown",
   "metadata": {},
   "source": [
    "Each element in the deck list is a list, with two elements:\n",
    "- the first element is a string, which corresponds to the card suit,\n",
    "- the second element is a string, which corresponds to the card value."
   ]
  },
  {
   "cell_type": "markdown",
   "metadata": {},
   "source": [
    "### Task\n",
    "\n",
    "Write a function **find_missing_card()**, which receives a deck, in variable *deck*, as its sole parameter.\n",
    "\n",
    "The deck is a standard deck that has been shuffled and is missing a card.\n",
    "\n",
    "The function **find_missing_card()** should then return the one card that is missing in the deck, as a list of two elements.\n",
    "\n",
    "Note that:\n",
    "- The deck is always missing a single card.\n",
    "- The deck will contain no duplicates."
   ]
  },
  {
   "cell_type": "markdown",
   "metadata": {},
   "source": [
    "### Your code below!\n",
    "\n",
    "**Objective:** try using a dictionary to count the number of hearts, spades, diamonds, clubs in deck. The one suit with a different number of cards is going to be the suit of the missing card!"
   ]
  },
  {
   "cell_type": "code",
   "execution_count": null,
   "metadata": {},
   "outputs": [],
   "source": [
    "# For instance, getting this dictionary tells us the missing card's suit is Hearts\n",
    "suits_dict = {\"Hearts\": 12, \"Spades\": 13, \"Diamonds\": 13, \"Clubs\": 13}"
   ]
  },
  {
   "cell_type": "code",
   "execution_count": null,
   "metadata": {},
   "outputs": [],
   "source": [
    "def find_missing_card(deck):\n",
    "    \n",
    "    missing_suit = None\n",
    "    missing_value = None\n",
    "            \n",
    "    return (missing_suit, missing_value)"
   ]
  },
  {
   "cell_type": "markdown",
   "metadata": {},
   "source": [
    "### Expected results"
   ]
  },
  {
   "cell_type": "code",
   "execution_count": null,
   "metadata": {},
   "outputs": [],
   "source": [
    "deck = [['Spades', '3'], ['Hearts', '9'], ['Spades', '4'], ['Hearts', '10'], ['Clubs', 'Queen'], \\\n",
    "        ['Spades', 'Queen'], ['Spades', '8'], ['Spades', '1'], ['Diamonds', '9'], ['Diamonds', '4'], \\\n",
    "        ['Spades', '9'], ['Clubs', '3'], ['Diamonds', '3'], ['Spades', 'King'], ['Clubs', '7'], \\\n",
    "        ['Diamonds', 'Queen'], ['Hearts', '7'], ['Clubs', '1'], ['Spades', '2'], ['Hearts', '8'], \\\n",
    "        ['Diamonds', '5'], ['Clubs', '5'], ['Hearts', '1'], ['Hearts', 'Jack'], ['Diamonds', 'Jack'], \\\n",
    "        ['Hearts', 'Queen'], ['Hearts', '6'], ['Hearts', '4'], ['Clubs', '6'], ['Diamonds', 'King'], \\\n",
    "        ['Clubs', 'King'], ['Spades', 'Jack'], ['Diamonds', '2'], ['Diamonds', '8'], \\\n",
    "        ['Diamonds', '10'], ['Clubs', 'Jack'], ['Spades', '10'], ['Clubs', '10'], ['Clubs', '9'], \\\n",
    "        ['Clubs', '4'], ['Clubs', '2'], ['Hearts', '3'], ['Spades', '5'], ['Hearts', 'King'], \\\n",
    "        ['Diamonds', '6'], ['Diamonds', '7'], ['Hearts', '2'], ['Clubs', '8'], ['Spades', '6'], \\\n",
    "        ['Spades', '7'], ['Diamonds', '1']]\n",
    "# This should print ('Hearts', '5')\n",
    "missing_card = find_missing_card(deck)\n",
    "print(missing_card)"
   ]
  },
  {
   "cell_type": "code",
   "execution_count": null,
   "metadata": {},
   "outputs": [],
   "source": [
    "deck2 = [['Spades', '9'], ['Diamonds', '3'], ['Hearts', 'Jack'], ['Diamonds', '9'], ['Diamonds', '7'], \\\n",
    "         ['Diamonds', '1'], ['Clubs', '8'], ['Diamonds', '10'], ['Hearts', 'King'], ['Clubs', '1'], \\\n",
    "         ['Clubs', '4'], ['Clubs', 'King'], ['Spades', '4'], ['Clubs', '2'], ['Diamonds', '2'], \\\n",
    "         ['Clubs', '6'], ['Spades', '3'], ['Clubs', '3'], ['Clubs', '7'], ['Spades', 'King'], \\\n",
    "         ['Spades', '5'], ['Hearts', '6'], ['Diamonds', 'Queen'], ['Clubs', '10'], ['Diamonds', '8'], \\\n",
    "         ['Diamonds', '4'], ['Spades', '1'], ['Spades', '8'], ['Clubs', '5'], ['Spades', '7'], \\\n",
    "         ['Hearts', '3'], ['Spades', '6'], ['Hearts', '7'], ['Hearts', '2'], ['Clubs', 'Queen'], \\\n",
    "         ['Hearts', '5'], ['Hearts', '9'], ['Hearts', 'Queen'], ['Spades', 'Queen'], \\\n",
    "         ['Diamonds', '6'], ['Spades', '2'], ['Hearts', '1'], ['Clubs', 'Jack'], ['Hearts', '4'], \\\n",
    "         ['Diamonds', '5'], ['Spades', 'Jack'], ['Hearts', '10'], ['Hearts', '8'], \\\n",
    "         ['Diamonds', 'Jack'], ['Clubs', '9'], ['Diamonds', 'King']]\n",
    "# This should print ('Spades', '10')\n",
    "missing_card = find_missing_card(deck2)\n",
    "print(missing_card)"
   ]
  },
  {
   "cell_type": "code",
   "execution_count": null,
   "metadata": {},
   "outputs": [],
   "source": []
  }
 ],
 "metadata": {
  "kernelspec": {
   "display_name": "Python 3",
   "language": "python",
   "name": "python3"
  },
  "language_info": {
   "codemirror_mode": {
    "name": "ipython",
    "version": 3
   },
   "file_extension": ".py",
   "mimetype": "text/x-python",
   "name": "python",
   "nbconvert_exporter": "python",
   "pygments_lexer": "ipython3",
   "version": "3.9.6"
  }
 },
 "nbformat": 4,
 "nbformat_minor": 4
}
