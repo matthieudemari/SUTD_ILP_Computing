{
 "cells": [
  {
   "cell_type": "code",
   "execution_count": 2,
   "metadata": {},
   "outputs": [],
   "source": [
    "import numpy as np"
   ]
  },
  {
   "cell_type": "code",
   "execution_count": 2,
   "metadata": {},
   "outputs": [
    {
     "name": "stdout",
     "output_type": "stream",
     "text": [
      "[0 2 1 4]\n"
     ]
    }
   ],
   "source": [
    "array1 = np.array([0, 2, 1, 4])\n",
    "print(array1)"
   ]
  },
  {
   "cell_type": "code",
   "execution_count": 3,
   "metadata": {},
   "outputs": [
    {
     "name": "stdout",
     "output_type": "stream",
     "text": [
      "[0 2 1 4]\n",
      "<class 'numpy.ndarray'>\n",
      "[0, 2, 1, 4]\n",
      "<class 'list'>\n"
     ]
    }
   ],
   "source": [
    "print(array1)\n",
    "print(type(array1))\n",
    "array1_as_list = list(array1)\n",
    "print(array1_as_list)\n",
    "print(type(array1_as_list))"
   ]
  },
  {
   "cell_type": "code",
   "execution_count": 4,
   "metadata": {},
   "outputs": [
    {
     "name": "stdout",
     "output_type": "stream",
     "text": [
      "4\n",
      "(4,)\n",
      "4\n"
     ]
    }
   ],
   "source": [
    "array1 = np.array([0, 2, 1, 4])\n",
    "print(len(array1))\n",
    "print(array1.shape)\n",
    "print(array1.size)"
   ]
  },
  {
   "cell_type": "code",
   "execution_count": 5,
   "metadata": {},
   "outputs": [
    {
     "name": "stdout",
     "output_type": "stream",
     "text": [
      "[[1 2]\n",
      " [3 4]]\n",
      "2\n",
      "(2, 2)\n",
      "4\n"
     ]
    }
   ],
   "source": [
    "two_d_array = np.array([[1,2],[3,4]])\n",
    "print(two_d_array)\n",
    "print(len(two_d_array))\n",
    "print(two_d_array.shape)\n",
    "print(two_d_array.size)"
   ]
  },
  {
   "cell_type": "code",
   "execution_count": 6,
   "metadata": {},
   "outputs": [
    {
     "name": "stdout",
     "output_type": "stream",
     "text": [
      "[0 2 1 4]\n",
      "0\n",
      "2\n"
     ]
    }
   ],
   "source": [
    "array1 = np.array([0, 2, 1, 4])\n",
    "print(array1)\n",
    "print(array1[0])\n",
    "print(array1[1])"
   ]
  },
  {
   "cell_type": "code",
   "execution_count": 7,
   "metadata": {},
   "outputs": [
    {
     "name": "stdout",
     "output_type": "stream",
     "text": [
      "[[1 2]\n",
      " [3 4]]\n",
      "[1 2]\n",
      "2\n"
     ]
    }
   ],
   "source": [
    "two_d_array = np.array([[1,2],[3,4]])\n",
    "print(two_d_array)\n",
    "print(two_d_array[0])\n",
    "print(two_d_array[0][1])"
   ]
  },
  {
   "cell_type": "code",
   "execution_count": 8,
   "metadata": {},
   "outputs": [
    {
     "name": "stdout",
     "output_type": "stream",
     "text": [
      "2\n",
      "[2 4]\n",
      "[1 2]\n"
     ]
    }
   ],
   "source": [
    "print(two_d_array[0,1])\n",
    "print(two_d_array[:,1])\n",
    "print(two_d_array[0,:])"
   ]
  },
  {
   "cell_type": "code",
   "execution_count": 9,
   "metadata": {},
   "outputs": [
    {
     "name": "stdout",
     "output_type": "stream",
     "text": [
      "[0 2 1 4]\n",
      "0\n",
      "2\n",
      "1\n",
      "4\n"
     ]
    }
   ],
   "source": [
    "array1 = np.array([0, 2, 1, 4])\n",
    "print(array1)\n",
    "for element in array1:\n",
    "    print(element)"
   ]
  },
  {
   "cell_type": "code",
   "execution_count": 10,
   "metadata": {},
   "outputs": [
    {
     "name": "stdout",
     "output_type": "stream",
     "text": [
      "[1 2 3 5]\n",
      "[0 2 1 4]\n"
     ]
    }
   ],
   "source": [
    "array2 = np.array([1, 2, 3, 5])\n",
    "print(array2)\n",
    "print(array1)"
   ]
  },
  {
   "cell_type": "code",
   "execution_count": 11,
   "metadata": {},
   "outputs": [
    {
     "name": "stdout",
     "output_type": "stream",
     "text": [
      "[0 2 1 4]\n",
      "[1 2 3 5]\n",
      "[1 4 4 9]\n"
     ]
    }
   ],
   "source": [
    "array1 = np.array([0, 2, 1, 4])\n",
    "array2 = np.array([1, 2, 3, 5])\n",
    "print(array1)\n",
    "print(array2)\n",
    "sum_array = array1 + array2\n",
    "print(sum_array)"
   ]
  },
  {
   "cell_type": "code",
   "execution_count": 12,
   "metadata": {},
   "outputs": [
    {
     "name": "stdout",
     "output_type": "stream",
     "text": [
      "[0 2 1 4]\n",
      "[ 7  9  8 11]\n"
     ]
    }
   ],
   "source": [
    "array1 = np.array([0, 2, 1, 4])\n",
    "number = 7\n",
    "print(array1)\n",
    "sum_array = array1 + number\n",
    "print(sum_array)"
   ]
  },
  {
   "cell_type": "code",
   "execution_count": 13,
   "metadata": {},
   "outputs": [
    {
     "name": "stdout",
     "output_type": "stream",
     "text": [
      "[0 2 1 4]\n",
      "[1 2 3 5]\n",
      "[0 2 1 4 1 2 3 5]\n"
     ]
    }
   ],
   "source": [
    "print(array1)\n",
    "print(array2)\n",
    "conc_array = np.concatenate([array1, array2])\n",
    "print(conc_array)"
   ]
  },
  {
   "cell_type": "code",
   "execution_count": 14,
   "metadata": {},
   "outputs": [
    {
     "name": "stdout",
     "output_type": "stream",
     "text": [
      "[0 2 1 4]\n",
      "[1 2 3 5]\n",
      "[ 0  4  3 20]\n"
     ]
    }
   ],
   "source": [
    "array1 = np.array([0, 2, 1, 4])\n",
    "array2 = np.array([1, 2, 3, 5])\n",
    "print(array1)\n",
    "print(array2)\n",
    "mult_arrays = array1*array2\n",
    "print(mult_arrays)"
   ]
  },
  {
   "cell_type": "code",
   "execution_count": 15,
   "metadata": {},
   "outputs": [
    {
     "name": "stdout",
     "output_type": "stream",
     "text": [
      "[ 0  8  4 16]\n"
     ]
    }
   ],
   "source": [
    "n = 4\n",
    "mult_array_int = array1*n\n",
    "print(mult_array_int)"
   ]
  },
  {
   "cell_type": "code",
   "execution_count": 16,
   "metadata": {},
   "outputs": [
    {
     "name": "stdout",
     "output_type": "stream",
     "text": [
      "[[1 2]\n",
      " [3 4]]\n",
      "[[1 2]\n",
      " [3 4]]\n",
      "2711337376784\n",
      "2711337376784\n"
     ]
    }
   ],
   "source": [
    "two_d_array1 = np.array([[1,2],[3,4]])\n",
    "two_d_array2 = two_d_array1\n",
    "print(two_d_array1)\n",
    "print(two_d_array2)\n",
    "print(id(two_d_array1))\n",
    "print(id(two_d_array2))"
   ]
  },
  {
   "cell_type": "code",
   "execution_count": 17,
   "metadata": {},
   "outputs": [
    {
     "name": "stdout",
     "output_type": "stream",
     "text": [
      "[[17  2]\n",
      " [ 3  4]]\n",
      "[[17  2]\n",
      " [ 3  4]]\n"
     ]
    }
   ],
   "source": [
    "two_d_array1[0][0] = 17\n",
    "print(two_d_array1)\n",
    "print(two_d_array2)"
   ]
  },
  {
   "cell_type": "code",
   "execution_count": 18,
   "metadata": {},
   "outputs": [
    {
     "name": "stdout",
     "output_type": "stream",
     "text": [
      "[0 2 1 4 7]\n",
      "0\n",
      "0\n",
      "7\n",
      "4\n",
      "2.8\n",
      "2.0\n",
      "14\n"
     ]
    }
   ],
   "source": [
    "array1 = np.array([0, 2, 1, 4, 7])\n",
    "print(array1)\n",
    "min_val = np.min(array1)\n",
    "print(min_val)\n",
    "argmin_val = np.argmin(array1)\n",
    "print(argmin_val)\n",
    "max_val = np.max(array1)\n",
    "print(max_val)\n",
    "argmax_val = np.argmax(array1)\n",
    "print(argmax_val)\n",
    "mean_val = np.mean(array1)\n",
    "print(mean_val)\n",
    "median_val = np.median(array1)\n",
    "print(median_val)\n",
    "summed_val = np.sum(array1)\n",
    "print(summed_val)"
   ]
  },
  {
   "cell_type": "code",
   "execution_count": 19,
   "metadata": {},
   "outputs": [
    {
     "name": "stdout",
     "output_type": "stream",
     "text": [
      "1.0\n",
      "0.0\n",
      "3.141592653589793\n",
      "0.0\n",
      "1.0\n"
     ]
    }
   ],
   "source": [
    "print(np.cos(0))\n",
    "print(np.sin(0))\n",
    "print(np.pi)\n",
    "print(np.log(1))\n",
    "print(np.exp(0))"
   ]
  },
  {
   "cell_type": "code",
   "execution_count": 20,
   "metadata": {},
   "outputs": [
    {
     "name": "stdout",
     "output_type": "stream",
     "text": [
      "5\n",
      "6\n",
      "5\n",
      "4\n",
      "2\n",
      "5\n"
     ]
    }
   ],
   "source": [
    "# Numpy.random.choice() mimics a dice roll\n",
    "dice_roll = np.random.choice([1, 2, 3, 4, 5, 6])\n",
    "print(dice_roll)\n",
    "dice_roll = np.random.choice([1, 2, 3, 4, 5, 6])\n",
    "print(dice_roll)\n",
    "dice_roll = np.random.choice([1, 2, 3, 4, 5, 6])\n",
    "print(dice_roll)\n",
    "dice_roll = np.random.choice([1, 2, 3, 4, 5, 6])\n",
    "print(dice_roll)\n",
    "dice_roll = np.random.choice([1, 2, 3, 4, 5, 6])\n",
    "print(dice_roll)\n",
    "dice_roll = np.random.choice([1, 2, 3, 4, 5, 6])\n",
    "print(dice_roll)"
   ]
  }
 ],
 "metadata": {
  "kernelspec": {
   "display_name": "Python 3",
   "language": "python",
   "name": "python3"
  },
  "language_info": {
   "codemirror_mode": {
    "name": "ipython",
    "version": 3
   },
   "file_extension": ".py",
   "mimetype": "text/x-python",
   "name": "python",
   "nbconvert_exporter": "python",
   "pygments_lexer": "ipython3",
   "version": "3.9.6"
  }
 },
 "nbformat": 4,
 "nbformat_minor": 4
}
