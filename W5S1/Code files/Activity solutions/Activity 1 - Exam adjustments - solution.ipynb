{
 "cells": [
  {
   "cell_type": "markdown",
   "metadata": {},
   "source": [
    "# Activity 1 - Exam adjustments - solution"
   ]
  },
  {
   "cell_type": "markdown",
   "metadata": {},
   "source": [
    "For this activity, we will use the numpy library. Let us start by importing it."
   ]
  },
  {
   "cell_type": "code",
   "execution_count": 2,
   "metadata": {},
   "outputs": [],
   "source": [
    "import numpy as np"
   ]
  },
  {
   "cell_type": "markdown",
   "metadata": {},
   "source": [
    "### Problem statement\n",
    "\n",
    "Let us assume, that I have grades from my students listed in the np.array below. As you can see, the first list contains the column labels (student name, some scores), the second contains the students names and the numpy array has lines, which consist of entries regarding some of the students.\n",
    "\n",
    "For instance, Chris scored 60 points on the midterm and 80 points on the final exam, leading to an average score of 70 for the whole term."
   ]
  },
  {
   "cell_type": "code",
   "execution_count": 5,
   "metadata": {},
   "outputs": [
    {
     "name": "stdout",
     "output_type": "stream",
     "text": [
      "[[60 80 70]\n",
      " [50 80 65]\n",
      " [40 70 55]\n",
      " [60 70 65]\n",
      " [60 90 75]]\n"
     ]
    }
   ],
   "source": [
    "columns_labels_list = [\"MidTerm Score\", \"FinalExam Score\", \"Average Score\"]\n",
    "students_list = [\"Chris\", \"Oka\", \"Norman\", \"Natalie\", \"Tony\"]\n",
    "grades_table = np.array([[60, 80, 70], \\ # Chris scored 60% on MidTerm, 80% on Finals, Average is 70%\n",
    "                         [50, 80, 65], \\\n",
    "                         [40, 70, 55], \\\n",
    "                         [60, 70, 65], \\\n",
    "                         [60, 90, 75]])\n",
    "print(grades_table)"
   ]
  },
  {
   "cell_type": "markdown",
   "metadata": {},
   "source": [
    "### Task\n",
    "\n",
    "Let us assume that, as a professor, I have decided to be lenient towards my students. I realized that the midterm was a bit too difficult compared to last year. To compensate for that, I would like to increase the scores of all students on the midterm by 50%.\n",
    "\n",
    "Write a **function grade_adjustment()**, which:\n",
    "- receives a grades table, *grades_table*, as defined above,\n",
    "- *increases* the scores of all students on the midterm by *50%*,\n",
    "- *re-calculates* the *average score*, with the new adjusted midterm score,\n",
    "- and then *returns* the *updated grades table* as its sole output.\n",
    "\n",
    "**Important note:** The *maximal score* for the midterm exam is *capped* to *100*. This means that a student which score 80 points on the midterm, will not obtain 120 points after the adjustment, but only 100."
   ]
  },
  {
   "cell_type": "markdown",
   "metadata": {},
   "source": [
    "### You code below!"
   ]
  },
  {
   "cell_type": "code",
   "execution_count": 25,
   "metadata": {},
   "outputs": [],
   "source": [
    "from copy import deepcopy\n",
    "\n",
    "def grade_adjustment(grades_table):\n",
    "    \n",
    "    # Initialize a new deepcopy of grades_table\n",
    "    new_grades_table = deepcopy(grades_table)\n",
    "    \n",
    "    for index, line in enumerate(grades_table):\n",
    "        \n",
    "        print(\"---\")\n",
    "        print(index, line)\n",
    "        # Retrieve the midterm exam score\n",
    "        # (Do not forget to convert to int/float\n",
    "        # before any math operations if needed!)\n",
    "        mid_term_score = line[0]\n",
    "        \n",
    "        # Add extra points to midterm!\n",
    "        # (The score should remain below 100)\n",
    "        mid_term_score_adjusted = 1.5*mid_term_score\n",
    "        if(mid_term_score_adjusted > 100):\n",
    "            mid_term_score_adjusted = 100\n",
    "        \n",
    "        # Add new midterm score to table\n",
    "        # (Do not forget to convert it back to a string before\n",
    "        # reassigning to numpy array!)\n",
    "        new_grades_table[index, 0] = mid_term_score_adjusted\n",
    "        \n",
    "        # Retrieve the final exam score\n",
    "        # (Do not forget to convert to int/float before any math operations!)\n",
    "        final_score = line[1]\n",
    "        \n",
    "        # Compute the mean of both the final exam score and the adjusted midterm score\n",
    "        new_mean = (final_score + mid_term_score_adjusted)/2\n",
    "        \n",
    "        # Add new mean to grades table.\n",
    "        # (Do not forget to convert to string!)\n",
    "        new_grades_table[index, 2] = new_mean\n",
    "            \n",
    "    return new_grades_table"
   ]
  },
  {
   "cell_type": "code",
   "execution_count": 11,
   "metadata": {},
   "outputs": [],
   "source": [
    "from copy import deepcopy\n",
    "\n",
    "def grade_adjustment(grades_table):\n",
    "    \n",
    "    # Initialize a new deepcopy of grades_table\n",
    "    new_grades_table = deepcopy(grades_table)\n",
    "    \n",
    "    for index, line in enumerate(grades_table):\n",
    "        \n",
    "        print(\"---\")\n",
    "        print(index, line)\n",
    "        # Retrieve the midterm exam score\n",
    "        # (Do not forget to convert to int/float\n",
    "        # before any math operations if needed!)\n",
    "        mid_term_score = line[0]\n",
    "        \n",
    "        # Add extra points to midterm!\n",
    "        # (The score should remain below 100)\n",
    "        mid_term_score_adjusted = min(100, 1.5*mid_term_score)\n",
    "        \n",
    "        # Add new midterm score to table\n",
    "        # (Do not forget to convert it back to a string before\n",
    "        # reassigning to numpy array!)\n",
    "        new_grades_table[index, 0] = mid_term_score_adjusted\n",
    "        \n",
    "        # Retrieve the final exam score\n",
    "        # (Do not forget to convert to int/float before any math operations!)\n",
    "        final_score = line[1]\n",
    "        \n",
    "        # Compute the mean of both the final exam score and the adjusted midterm score\n",
    "        new_mean = (final_score + mid_term_score_adjusted)/2\n",
    "        \n",
    "        # Add new mean to grades table.\n",
    "        # (Do not forget to convert to string!)\n",
    "        new_grades_table[index, 2] = new_mean\n",
    "            \n",
    "    return new_grades_table"
   ]
  },
  {
   "cell_type": "markdown",
   "metadata": {},
   "source": [
    "### Expected results"
   ]
  },
  {
   "cell_type": "code",
   "execution_count": 26,
   "metadata": {},
   "outputs": [
    {
     "name": "stdout",
     "output_type": "stream",
     "text": [
      "---\n",
      "0 [60 80 70]\n",
      "---\n",
      "1 [50 80 65]\n",
      "---\n",
      "2 [40 70 55]\n",
      "---\n",
      "3 [60 70 65]\n",
      "---\n",
      "4 [60 90 75]\n",
      "[[90 80 85]\n",
      " [75 80 77]\n",
      " [60 70 65]\n",
      " [90 70 80]\n",
      " [90 90 90]]\n"
     ]
    }
   ],
   "source": [
    "grades_table = np.array([[60, 80, 70], \\\n",
    "                         [50, 80, 65], \\\n",
    "                         [40, 70, 55], \\\n",
    "                         [60, 70, 65], \\\n",
    "                         [60, 90, 75]])\n",
    "\n",
    "# This should print\n",
    "\"\"\"\n",
    "[[90 80 85]\n",
    " [75 80 77]\n",
    " [60 70 65]\n",
    " [90 70 80]\n",
    " [90 90 90]]\n",
    "\"\"\"\n",
    "new_grades = grade_adjustment(grades_table)\n",
    "print(new_grades)"
   ]
  },
  {
   "cell_type": "code",
   "execution_count": 27,
   "metadata": {},
   "outputs": [
    {
     "name": "stdout",
     "output_type": "stream",
     "text": [
      "---\n",
      "0 [60 80 70]\n",
      "---\n",
      "1 [50 80 65]\n",
      "---\n",
      "2 [80 70 75]\n",
      "---\n",
      "3 [90 70 80]\n",
      "---\n",
      "4 [60 90 75]\n",
      "[[ 90  80  85]\n",
      " [ 75  80  77]\n",
      " [100  70  85]\n",
      " [100  70  85]\n",
      " [ 90  90  90]]\n"
     ]
    }
   ],
   "source": [
    "grades_table = np.array([[60, 80, 70], \\\n",
    "                         [50, 80, 65], \\\n",
    "                         [80, 70, 75], \\\n",
    "                         [90, 70, 80], \\\n",
    "                         [60, 90, 75]])\n",
    "\n",
    "# This should print\n",
    "\"\"\"\n",
    "[[ 90  80  85]\n",
    " [ 75  80  77]\n",
    " [100  70  85]\n",
    " [100  70  85]\n",
    " [ 90  90  90]]\n",
    "\"\"\"\n",
    "new_grades = grade_adjustment(grades_table)\n",
    "print(new_grades)"
   ]
  },
  {
   "cell_type": "code",
   "execution_count": null,
   "metadata": {},
   "outputs": [],
   "source": []
  }
 ],
 "metadata": {
  "kernelspec": {
   "display_name": "Python 3 (ipykernel)",
   "language": "python",
   "name": "python3"
  },
  "language_info": {
   "codemirror_mode": {
    "name": "ipython",
    "version": 3
   },
   "file_extension": ".py",
   "mimetype": "text/x-python",
   "name": "python",
   "nbconvert_exporter": "python",
   "pygments_lexer": "ipython3",
   "version": "3.10.5"
  }
 },
 "nbformat": 4,
 "nbformat_minor": 4
}
