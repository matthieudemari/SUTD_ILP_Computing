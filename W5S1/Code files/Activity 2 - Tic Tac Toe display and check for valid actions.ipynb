{
 "cells": [
  {
   "cell_type": "markdown",
   "metadata": {},
   "source": [
    "# Activity 2 - Tic Tac Toe display and check for valid actions"
   ]
  },
  {
   "cell_type": "markdown",
   "metadata": {},
   "source": [
    "In this activity 2, as well as activities 3 and 4, we will import and design functions related to the game of Tic Tac Toe. I suggest taking these activities in order, as they will progressively guide toward more and more complex task, until you eventually reach a fully functional Tic Tac Toe game!"
   ]
  },
  {
   "cell_type": "markdown",
   "metadata": {},
   "source": [
    "We will use the Numpy library. Let us start by importing it."
   ]
  },
  {
   "cell_type": "code",
   "execution_count": 40,
   "metadata": {},
   "outputs": [],
   "source": [
    "import numpy as np"
   ]
  },
  {
   "cell_type": "markdown",
   "metadata": {},
   "source": [
    "Also, before we start, you might need to install the **matplotlib** library using pip (like we did for numpy/notebook in Lecture W1S1), as some Python distributions (more specifically those on Mac) do not come with matplotlib installed by default.\n",
    "\n",
    "To do so, you will have to run a **py -m pip install matplotlib** command in a console (remember to replace py with your magic keyword!)"
   ]
  },
  {
   "cell_type": "markdown",
   "metadata": {},
   "source": [
    "### Problem statement\n",
    "\n",
    "As we have seen earlier in a previous Tic Tac Toe activity, we can represent the status of a Tic Tac Toe board, by using a list of lists, or a 2D Numpy array.\n",
    "\n",
    "For convenience, we will here use a 2D Numpy array, of size $ 3 \\times 3$, whose elements take values in $ {0, 1, 2} $, where:\n",
    "- 0 means the position is empty,\n",
    "- 1 means the position is currently occupied by a circle,\n",
    "- 2 means the position is currently occupied by a cross.\n",
    "\n",
    "Below, we give an example of a board, containing circles in top center and bottom left locations, and crosses in top right, center en bottom right locations."
   ]
  },
  {
   "cell_type": "code",
   "execution_count": 41,
   "metadata": {},
   "outputs": [
    {
     "name": "stdout",
     "output_type": "stream",
     "text": [
      "[[0 1 2]\n",
      " [0 2 0]\n",
      " [1 0 2]]\n"
     ]
    }
   ],
   "source": [
    "board = np.array([[0, 1, 2], \\\n",
    "                  [0, 2, 0], \\\n",
    "                  [1, 0, 2]])\n",
    "print(board)"
   ]
  },
  {
   "cell_type": "markdown",
   "metadata": {},
   "source": [
    "### Task 1\n",
    "\n",
    "Open the file **file2.py** (either by clicking it on the Jupyter homepage tab, or by opening it in a text editor, such as notepad). As you will observe, it contains a single function **display_board()**, which is somewhat difficult to understand, as it uses a library and tools we have not discussed yet.\n",
    "\n",
    "This often occurs on large scale programming project, where a co-worker will design a function for you, using a library you do not necessarily know. And it is ok, because all you need to know is that this function will display any board you pass to it, as long as it follows the requirements defined above ($3\\times3$ Numpy array, with {0,1,2} elements).\n",
    "\n",
    "Our first task is to import the **display_board()** function, from the **file2.py** so that it can be used in this notebook and other functions we will design later on."
   ]
  },
  {
   "cell_type": "markdown",
   "metadata": {},
   "source": [
    "### You code below"
   ]
  },
  {
   "cell_type": "code",
   "execution_count": 42,
   "metadata": {},
   "outputs": [],
   "source": [
    "# Import the display_board() function, from the file2.py\n",
    "from file2 import display_board"
   ]
  },
  {
   "cell_type": "code",
   "execution_count": 45,
   "metadata": {},
   "outputs": [
    {
     "data": {
      "image/png": "[encoded data removed]",
      "text/plain": [
       "<Figure size 360x360 with 1 Axes>"
      ]
     },
     "metadata": {
      "needs_background": "light"
     },
     "output_type": "display_data"
    }
   ],
   "source": [
    "# If the import above was correctly done,\n",
    "# this cell should display a Tic Tac Toe board!\n",
    "board = np.array([[0, 1, 2], \\\n",
    "                  [0, 2, 0], \\\n",
    "                  [1, 0, 2]])\n",
    "display_board(board)"
   ]
  },
  {
   "cell_type": "markdown",
   "metadata": {},
   "source": [
    "Note that :\n",
    "- this function also display the indexes to be used for each position (top left is $ [0, 0] $, center is $ [1, 1] $, etc.)\n",
    "- this function will work with any other board you might pass to it, as long as it satisfies the formatting requirements (i.e. it is defined as a $3\\times3$ Numpy array, with {0,1,2} elements)."
   ]
  },
  {
   "cell_type": "code",
   "execution_count": 10,
   "metadata": {},
   "outputs": [
    {
     "data": {
      "image/png": "[encoded data removed]",
      "text/plain": [
       "<Figure size 360x360 with 1 Axes>"
      ]
     },
     "metadata": {
      "needs_background": "light"
     },
     "output_type": "display_data"
    }
   ],
   "source": [
    "# A different board to display\n",
    "board = np.array([[1, 1, 2], \\\n",
    "                  [0, 2, 2], \\\n",
    "                  [1, 0, 0]])\n",
    "display_board(board)"
   ]
  },
  {
   "cell_type": "markdown",
   "metadata": {},
   "source": [
    "### Task 2\n",
    "\n",
    "Time for the real task!\n",
    "\n",
    "Write a function **check_valid_coordinates()**, which:\n",
    "- receives a *board*, as a $ 3 \\times 3 $ Numpy array, as defined above; it consists of the current state of the game.\n",
    "- receives two number coordinates *x_coord* and *y_coord*; it correspond to a position where the next player would like to play.\n",
    "\n",
    "This function should\n",
    "- return a boolean *is_valid* set to False if the player entered invalid coordinates. For instance, this occurs if the location is already taken by a cross or a circle, or if the coordinates are simply not acceptable values (e.g. x_coord = 4 is not acceptable);\n",
    "- otherwise it returns a boolean *is_valid*, with value True.\n",
    "- In addition, it should let the player know he/she entered invalid coordinates, by displaying an error message \"Coordinates for given action are invalid! (You passed x_coord = ... and y_coord = ...)\" if the coordinates are invalid, with the blanks filled accordingly with the values passed to the function."
   ]
  },
  {
   "cell_type": "markdown",
   "metadata": {},
   "source": [
    "### Your code below!"
   ]
  },
  {
   "cell_type": "code",
   "execution_count": 73,
   "metadata": {},
   "outputs": [],
   "source": [
    "def check_valid_coordinates(board, x_coord, y_coord):\n",
    "    \n",
    "    # 1. Check if coordinates are acceptable\n",
    "    is_valid = None\n",
    "    \n",
    "    # 2. If coordinates are invalid, let the user know\n",
    "    if(None):\n",
    "        error_message = None\n",
    "        print(error_message)\n",
    "    \n",
    "    # 3. Return the boolean is_valid for later reuse!\n",
    "    None"
   ]
  },
  {
   "cell_type": "markdown",
   "metadata": {},
   "source": [
    "### Expected results\n",
    "\n",
    "Let us consider the board below, for all our test cases."
   ]
  },
  {
   "cell_type": "code",
   "execution_count": 74,
   "metadata": {},
   "outputs": [
    {
     "data": {
      "image/png": "[encoded data removed]",
      "text/plain": [
       "<Figure size 360x360 with 1 Axes>"
      ]
     },
     "metadata": {
      "needs_background": "light"
     },
     "output_type": "display_data"
    }
   ],
   "source": [
    "board = np.array([[0, 1, 2], \\\n",
    "                  [0, 2, 0], \\\n",
    "                  [1, 0, 2]])\n",
    "display_board(board)"
   ]
  },
  {
   "cell_type": "markdown",
   "metadata": {},
   "source": [
    "The cells below should run without errors, with the expected behavior."
   ]
  },
  {
   "cell_type": "code",
   "execution_count": 75,
   "metadata": {},
   "outputs": [
    {
     "name": "stdout",
     "output_type": "stream",
     "text": [
      "True\n"
     ]
    }
   ],
   "source": [
    "# Test case #1: The location [0, 0] is valid and should return True\n",
    "x_coord1 = 0\n",
    "y_coord1 = 0\n",
    "is_valid = check_valid_coordinates(board, x_coord1, y_coord1)\n",
    "print(is_valid)"
   ]
  },
  {
   "cell_type": "code",
   "execution_count": 76,
   "metadata": {},
   "outputs": [
    {
     "name": "stdout",
     "output_type": "stream",
     "text": [
      "True\n"
     ]
    }
   ],
   "source": [
    "# Test case #2: The location [2, 1] is valid and should return True\n",
    "x_coord2 = 2\n",
    "y_coord2 = 1\n",
    "is_valid = check_valid_coordinates(board, x_coord2, y_coord2)\n",
    "print(is_valid)"
   ]
  },
  {
   "cell_type": "code",
   "execution_count": 77,
   "metadata": {},
   "outputs": [
    {
     "name": "stdout",
     "output_type": "stream",
     "text": [
      "One of the coordinates is weird.\n",
      "False\n"
     ]
    }
   ],
   "source": [
    "# Test case #3: The location [3, 0] is invalid and should return False.\n",
    "# It should also display an error message.\n",
    "x_coord3 = 3\n",
    "y_coord3 = 0\n",
    "is_valid = check_valid_coordinates(board, x_coord3, y_coord3)\n",
    "print(is_valid)"
   ]
  },
  {
   "cell_type": "code",
   "execution_count": 78,
   "metadata": {},
   "outputs": [
    {
     "name": "stdout",
     "output_type": "stream",
     "text": [
      "One of the coordinates is weird.\n",
      "False\n"
     ]
    }
   ],
   "source": [
    "# Test case #4: The location [0, 5] is invalid and should return False.\n",
    "# It should also display an error message.\n",
    "x_coord4 = 0\n",
    "y_coord4 = 5\n",
    "is_valid = check_valid_coordinates(board, x_coord4, y_coord4)\n",
    "print(is_valid)"
   ]
  },
  {
   "cell_type": "code",
   "execution_count": 79,
   "metadata": {},
   "outputs": [
    {
     "name": "stdout",
     "output_type": "stream",
     "text": [
      "Cell is not empty.\n",
      "False\n"
     ]
    }
   ],
   "source": [
    "# Test case #5: The location [1, 1] is invalid (already taken) and should return False.\n",
    "# It should also display an error message.\n",
    "x_coord5 = 1\n",
    "y_coord5 = 1\n",
    "is_valid = check_valid_coordinates(board, x_coord5, y_coord5)\n",
    "print(is_valid)"
   ]
  },
  {
   "cell_type": "code",
   "execution_count": null,
   "metadata": {},
   "outputs": [],
   "source": []
  }
 ],
 "metadata": {
  "kernelspec": {
   "display_name": "Python 3 (ipykernel)",
   "language": "python",
   "name": "python3"
  },
  "language_info": {
   "codemirror_mode": {
    "name": "ipython",
    "version": 3
   },
   "file_extension": ".py",
   "mimetype": "text/x-python",
   "name": "python",
   "nbconvert_exporter": "python",
   "pygments_lexer": "ipython3",
   "version": "3.10.5"
  }
 },
 "nbformat": 4,
 "nbformat_minor": 4
}
