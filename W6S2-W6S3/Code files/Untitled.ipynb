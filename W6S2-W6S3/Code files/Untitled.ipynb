{
 "cells": [
  {
   "cell_type": "code",
   "execution_count": 171,
   "id": "c0e84aa7-2f4e-4250-9eb7-723acf40f126",
   "metadata": {},
   "outputs": [],
   "source": [
    "class Hero():\n",
    "    def __init__(self):\n",
    "        self.name = \"Sir Meowsalot\"\n",
    "        self.hero_class = \"Warrior\"\n",
    "        self.max_HP = 100\n",
    "        self.HP = 50\n",
    "        self.inventory = Inventory()\n",
    "    \n",
    "class Inventory():\n",
    "    def __init__(self):\n",
    "        self.list_objects = []\n",
    "        self.number_objects = 0\n",
    "        self.inventory_size = 50\n",
    "    def add_item(self, item):\n",
    "        if self.number_objects + 1 > self.inventory_size:\n",
    "            print(\"Could not add item, inventory is full!\")\n",
    "        else:\n",
    "            self.list_objects.append(item)\n",
    "            self.number_objects += 1\n",
    "    def remove_item(self, item):\n",
    "        if item not in self.list_objects:\n",
    "            print(\"Could not use item, it does not appear in inventory!\")\n",
    "        else:\n",
    "            self.list_objects.remove(item)\n",
    "            self.number_objects -= 1\n",
    "    def __str__(self):\n",
    "        s = \"[\"\n",
    "        for index, element in enumerate(self.list_objects):\n",
    "            s += str(element)\n",
    "            if(index != len(self.list_objects) - 1):\n",
    "                s += \", \"\n",
    "        s += \"]\"\n",
    "        return s\n",
    "\n",
    "class Potion():\n",
    "    def __init__(self, heal_qty):\n",
    "        self.heal_qty = heal_qty\n",
    "    def __str__(self):\n",
    "        return \"Potion({})\".format(self.heal_qty)"
   ]
  },
  {
   "cell_type": "code",
   "execution_count": 172,
   "id": "dffaa94e-2844-40c9-a000-f7023ce3262a",
   "metadata": {},
   "outputs": [],
   "source": [
    "p1 = Potion(20)\n",
    "p2 = Potion(50)\n",
    "p3 = Potion(100)"
   ]
  },
  {
   "cell_type": "code",
   "execution_count": 173,
   "id": "411e5f30-3a12-426c-b2f1-ec4d7fdd7fb8",
   "metadata": {},
   "outputs": [],
   "source": [
    "h = Hero()\n",
    "h.inventory.add_item(p1)\n",
    "h.inventory.add_item(p2)\n",
    "h.inventory.add_item(p3)"
   ]
  },
  {
   "cell_type": "code",
   "execution_count": 174,
   "id": "ff23cac4-4600-462c-8f8a-0363787d7be9",
   "metadata": {},
   "outputs": [
    {
     "name": "stdout",
     "output_type": "stream",
     "text": [
      "{'list_objects': [<__main__.Potion object at 0x0000018E68A56490>, <__main__.Potion object at 0x0000018E68A42050>, <__main__.Potion object at 0x0000018E68A815D0>], 'number_objects': 3, 'inventory_size': 50}\n"
     ]
    }
   ],
   "source": [
    "print(h.inventory.__dict__)"
   ]
  },
  {
   "cell_type": "code",
   "execution_count": 175,
   "id": "9bb1dd01-d5eb-41b8-adfd-5f3cc490fb4f",
   "metadata": {},
   "outputs": [
    {
     "name": "stdout",
     "output_type": "stream",
     "text": [
      "Potion(20)\n"
     ]
    }
   ],
   "source": [
    "print(p1)"
   ]
  },
  {
   "cell_type": "code",
   "execution_count": 176,
   "id": "c4581961-8f1e-45f5-879e-c39a3f342777",
   "metadata": {},
   "outputs": [
    {
     "name": "stdout",
     "output_type": "stream",
     "text": [
      "[Potion(20), Potion(50), Potion(100)]\n"
     ]
    }
   ],
   "source": [
    "print(h.inventory)"
   ]
  },
  {
   "cell_type": "code",
   "execution_count": 177,
   "id": "caf56115-8006-4f15-8047-b50e44816cd3",
   "metadata": {},
   "outputs": [
    {
     "name": "stdout",
     "output_type": "stream",
     "text": [
      "Potion(20)\n"
     ]
    }
   ],
   "source": [
    "print(p1)"
   ]
  },
  {
   "cell_type": "code",
   "execution_count": 178,
   "id": "ac7a38f2-bc0e-4850-9f45-8cb7a8a76220",
   "metadata": {},
   "outputs": [
    {
     "name": "stdout",
     "output_type": "stream",
     "text": [
      "Potion(20)\n"
     ]
    }
   ],
   "source": [
    "y = str(p1)\n",
    "print(y)"
   ]
  },
  {
   "cell_type": "code",
   "execution_count": 182,
   "id": "bc842e0c-8b9b-4d64-96be-7cdeadff4ee7",
   "metadata": {},
   "outputs": [
    {
     "name": "stdout",
     "output_type": "stream",
     "text": [
      "['a', 'bdjfs', 'fuhgd']\n",
      "<class 'str'>\n"
     ]
    }
   ],
   "source": [
    "l = ['a', 'bdjfs', 'fuhgd']\n",
    "z = str(l)\n",
    "print(z)\n",
    "print(type(z))"
   ]
  },
  {
   "cell_type": "code",
   "execution_count": null,
   "id": "4cfe7483-5758-44e2-8e37-0537724e4bcf",
   "metadata": {},
   "outputs": [],
   "source": []
  },
  {
   "cell_type": "code",
   "execution_count": null,
   "id": "bfba0348-e673-45a0-8a5a-8f03a52efbbc",
   "metadata": {},
   "outputs": [],
   "source": []
  }
 ],
 "metadata": {
  "kernelspec": {
   "display_name": "Python 3 (ipykernel)",
   "language": "python",
   "name": "python3"
  },
  "language_info": {
   "codemirror_mode": {
    "name": "ipython",
    "version": 3
   },
   "file_extension": ".py",
   "mimetype": "text/x-python",
   "name": "python",
   "nbconvert_exporter": "python",
   "pygments_lexer": "ipython3",
   "version": "3.11.4"
  }
 },
 "nbformat": 4,
 "nbformat_minor": 5
}
