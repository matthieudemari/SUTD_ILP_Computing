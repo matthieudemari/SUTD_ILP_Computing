{
 "cells": [
  {
   "cell_type": "markdown",
   "id": "5f343f72",
   "metadata": {},
   "source": [
    "# 2.A. Hand() object init and roll methods\n",
    "\n",
    "In this notebook, we will create a second object, called Hand(), and write its init method, as well as its initial roll method.\n",
    "\n",
    "We will reuse the Dice() object from previous notebooks and import it from the dice.py file, using the command below. We will also be importing some needed functions from numpy.\n",
    "\n",
    "Note: you may use your own version of the Dice() class if you want, just make sure it passed the test cases in the 1.X. notebooks!"
   ]
  },
  {
   "cell_type": "code",
   "execution_count": 14,
   "id": "f6e47e3c",
   "metadata": {},
   "outputs": [],
   "source": [
    "from numpy.random import choice, seed\n",
    "from dice import Dice"
   ]
  },
  {
   "cell_type": "markdown",
   "id": "a08e35e5",
   "metadata": {},
   "source": [
    "### Task 1\n",
    "\n",
    "In this notebook, we define a Hand() object, which simply consists of a combination of five Dice() objects, and will later come with its own set of methods, described in the 2.X. notebooks.\n",
    "This is another typical example of a HAS-A relationship between two objects, as the Hand() object will be reusing the Dice() object one.\n",
    "\n",
    "Write the init method for our Hand() object.\n",
    "It should:\n",
    "- create an attribute number_dice, corresponding to the number of dice that the hand contains. In our case, that will be 5.\n",
    "- create an attribute list_dice, a list, which contains self.number_dice Dice() objects.\n",
    "- call the method get_rolls() to generate an attribute dice_values, which will consist of list of the values obtained after rolling all the Dice() objects in list_dice once. For now it does nothing as get_rolls consists of a pass.\n",
    "- define an attribute maximal_rolls set to 3 and an attribute current_roll set to 1."
   ]
  },
  {
   "cell_type": "code",
   "execution_count": 33,
   "id": "a108daf6",
   "metadata": {},
   "outputs": [],
   "source": [
    "class Hand():\n",
    "    \n",
    "    def __init__(self):\n",
    "        # Create an attribute number_dice,\n",
    "        # corresponding to the number of dice that the hand contains.\n",
    "        # In our case, taht will be 5.\n",
    "        pass\n",
    "        \n",
    "        # Create an attribute list_dice, a list,\n",
    "        # which contains self.number_dice Dice() objects.\n",
    "        pass\n",
    "        \n",
    "        # Call the method get_rolls() to generate an attribute dice_values\n",
    "        # which will consist of list of the values obtained after rolling all\n",
    "        # the dice once.\n",
    "        self.get_rolls()\n",
    "        \n",
    "        # Define an attribute maximal_rolls set to 3\n",
    "        # And an attribute current_roll set to 1.\n",
    "        pass\n",
    "        \n",
    "    def get_rolls(self):\n",
    "        pass"
   ]
  },
  {
   "cell_type": "markdown",
   "id": "95be1073",
   "metadata": {},
   "source": [
    "### Test cases\n",
    "\n",
    "The following test cases should pass."
   ]
  },
  {
   "cell_type": "code",
   "execution_count": 9,
   "id": "39334a70",
   "metadata": {},
   "outputs": [
    {
     "name": "stdout",
     "output_type": "stream",
     "text": [
      "{'number_dice': 5, 'list_dice': [<dice.Dice object at 0x00000253EE5BAC80>, <dice.Dice object at 0x00000253EE5BAE30>, <dice.Dice object at 0x00000253EE5BAAA0>, <dice.Dice object at 0x00000253EE5BAD40>, <dice.Dice object at 0x00000253EE5BB010>], 'maximal_rolls': 3, 'current_roll': 1}\n"
     ]
    }
   ],
   "source": [
    "# This should print something along the lines of \n",
    "# {'number_dice': 5, \n",
    "# 'list_dice': [<__main__.Dice object at ...>,\n",
    "# <__main__.Dice object at ...>,\n",
    "# <__main__.Dice object at ...>,\n",
    "# <__main__.Dice object at ...>,\n",
    "# <__main__.Dice object at ...>],\n",
    "# 'maximal_rolls': 3, 'current_roll': 1}.\n",
    "# Note: we do not care too much about the address values in the list_dice attribute.\n",
    "seed(23)\n",
    "hand = Hand()\n",
    "print(hand.__dict__)"
   ]
  },
  {
   "cell_type": "markdown",
   "id": "c9fac8ad",
   "metadata": {},
   "source": [
    "### Task 2\n",
    "\n",
    "Let us now write a get_rolls() method, whose job is to fetch the current values of the 5 Dice() objects and assemble them in a list.\n",
    "\n",
    "It should initialize/update an attribute dice_values, which contains the five dice_value attributes contained in each of the five Dice() objects in the list_dice attribute.\n",
    "\n",
    "Note: it should not return anything!"
   ]
  },
  {
   "cell_type": "code",
   "execution_count": 41,
   "id": "5c3b1cf1",
   "metadata": {},
   "outputs": [],
   "source": [
    "class Hand():\n",
    "    \n",
    "    def __init__(self):\n",
    "        # Create an attribute number_dice,\n",
    "        # corresponding to the number of dice that the hand contains.\n",
    "        # In our case, taht will be 5.\n",
    "        self.number_dice = 5\n",
    "        \n",
    "        # Create an attribute list_dice, a list,\n",
    "        # which contains self.number_dice Dice() objects.\n",
    "        self.list_dice = [Dice() for _ in range(self.number_dice)]\n",
    "        \n",
    "        # Call the method get_rolls() to generate an attribute dice_values\n",
    "        # which will consist of list of the values obtained after rolling all\n",
    "        # the dice once.\n",
    "        self.get_rolls()\n",
    "        \n",
    "        # Define an attribute maximal_rolls set to 3\n",
    "        # And an attribute current_roll set to 1.\n",
    "        self.maximal_rolls = 3\n",
    "        self.current_roll = 1\n",
    "        \n",
    "    def get_rolls(self):\n",
    "        # This method simply initializes/updates an attribute dice_values,\n",
    "        # which contains the five dice_value attributes contained in \n",
    "        # each of the five Dice() objects in the list_dice attribute.\n",
    "        pass"
   ]
  },
  {
   "cell_type": "markdown",
   "id": "97a6538a",
   "metadata": {},
   "source": [
    "### Test cases\n",
    "\n",
    "The following test cases should pass."
   ]
  },
  {
   "cell_type": "code",
   "execution_count": 13,
   "id": "8c1446f9",
   "metadata": {},
   "outputs": [
    {
     "name": "stdout",
     "output_type": "stream",
     "text": [
      "<dice.Dice object at 0x00000253EE5B9D50>\n",
      "{'dice_value': 4, 'dice_values': [1, 2, 3, 4, 5, 6]}\n",
      "<dice.Dice object at 0x00000253EE5BB880>\n",
      "{'dice_value': 1, 'dice_values': [1, 2, 3, 4, 5, 6]}\n",
      "<dice.Dice object at 0x00000253EE5BAFE0>\n",
      "{'dice_value': 2, 'dice_values': [1, 2, 3, 4, 5, 6]}\n",
      "<dice.Dice object at 0x00000253EE5BBCA0>\n",
      "{'dice_value': 1, 'dice_values': [1, 2, 3, 4, 5, 6]}\n",
      "<dice.Dice object at 0x00000253EE5B9CF0>\n",
      "{'dice_value': 6, 'dice_values': [1, 2, 3, 4, 5, 6]}\n",
      "[4, 1, 2, 1, 6]\n"
     ]
    }
   ],
   "source": [
    "# This should print [4, 1, 2, 1, 6]\n",
    "seed(23)\n",
    "hand = Hand()\n",
    "print(hand.dice_values)"
   ]
  },
  {
   "cell_type": "code",
   "execution_count": null,
   "id": "ec1c21c9",
   "metadata": {},
   "outputs": [],
   "source": []
  }
 ],
 "metadata": {
  "kernelspec": {
   "display_name": "Python 3 (ipykernel)",
   "language": "python",
   "name": "python3"
  },
  "language_info": {
   "codemirror_mode": {
    "name": "ipython",
    "version": 3
   },
   "file_extension": ".py",
   "mimetype": "text/x-python",
   "name": "python",
   "nbconvert_exporter": "python",
   "pygments_lexer": "ipython3",
   "version": "3.10.5"
  }
 },
 "nbformat": 4,
 "nbformat_minor": 5
}
