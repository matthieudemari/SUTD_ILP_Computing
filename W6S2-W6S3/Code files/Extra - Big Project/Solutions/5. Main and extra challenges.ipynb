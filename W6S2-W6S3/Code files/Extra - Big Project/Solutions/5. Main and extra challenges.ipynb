{
 "cells": [
  {
   "cell_type": "markdown",
   "id": "0f2ae248",
   "metadata": {},
   "source": [
    "# 5. Main and extra challenges\n",
    "\n",
    "The final step is to define a main() function, which will serve as an entry point in the game.\n",
    "\n",
    "It simply reuses the objects we have defined earlier!\n",
    "\n",
    "Feel free to player around with your game and modify it if you want!"
   ]
  },
  {
   "cell_type": "code",
   "execution_count": 1,
   "id": "0a8c203d",
   "metadata": {},
   "outputs": [],
   "source": [
    "from numpy.random import choice, seed\n",
    "from dice import Dice\n",
    "from hand import Hand\n",
    "from turn import Turn\n",
    "from player import Player"
   ]
  },
  {
   "cell_type": "code",
   "execution_count": 2,
   "id": "341b9df1",
   "metadata": {},
   "outputs": [],
   "source": [
    "def main():\n",
    "    print(\"Welcome to our game of Yahtzee!\")\n",
    "    print(\"(This is a beta and might be unstable!)\")\n",
    "    max_turns = 3\n",
    "    player = Player(max_turns)\n",
    "    player.play_turns()"
   ]
  },
  {
   "cell_type": "code",
   "execution_count": 3,
   "id": "5cdf711a",
   "metadata": {},
   "outputs": [
    {
     "name": "stdout",
     "output_type": "stream",
     "text": [
      "Welcome to our game of Yahtzee!\n",
      "(This is a beta and might be unstable!)\n",
      "---------------------------------\n",
      "TURN:  1\n",
      "Hand:  [1, 4, 2, 3, 4]\n",
      "If you wish to stop and not reroll, enter nothing in this input.\n",
      "0, 2, 3\n",
      "Hand:  [3, 4, 3, 5, 4]\n",
      "If you wish to stop and not reroll, enter nothing in this input.\n",
      "3\n",
      "Hand:  [3, 4, 3, 2, 4]\n",
      "You scored 19 points on this turn\n",
      "---------------------------------\n",
      "TURN:  2\n",
      "Hand:  [2, 1, 1, 3, 3]\n",
      "If you wish to stop and not reroll, enter nothing in this input.\n",
      "0, 1, 2\n",
      "Hand:  [5, 6, 4, 3, 3]\n",
      "If you wish to stop and not reroll, enter nothing in this input.\n",
      "0, 1, 2\n",
      "Hand:  [5, 5, 5, 3, 3]\n",
      "You scored 51 points on this turn\n",
      "---------------------------------\n",
      "TURN:  3\n",
      "Hand:  [1, 4, 2, 3, 6]\n",
      "If you wish to stop and not reroll, enter nothing in this input.\n",
      "4\n",
      "Hand:  [1, 4, 2, 3, 6]\n",
      "If you wish to stop and not reroll, enter nothing in this input.\n",
      "4\n",
      "Hand:  [1, 4, 2, 3, 2]\n",
      "You scored 4 points on this turn\n",
      "---------------------------------\n",
      "\n",
      "--- End of game ---\n",
      "You scored 74 points!\n",
      "---------------------------------\n"
     ]
    }
   ],
   "source": [
    "main()"
   ]
  },
  {
   "cell_type": "markdown",
   "id": "8f248119",
   "metadata": {},
   "source": [
    "### Extras features for the game (if you are looking for a challenge!)\n",
    "\n",
    "Done early, looking for additional challenges?\n",
    "\n",
    "**1. Add a feature, which keeps on asking the user for a re-roll input, until something valid is entered.**\n",
    "\n",
    "This should prevent the game from crashing if user enters nonsense in the input() prompts. \n",
    "\n",
    "Difficulty = not difficult, but might be time consuming to cover for all mistakes\n",
    "\n",
    "**2. Implement a more advanced scoring system than the current one.**\n",
    "\n",
    "Look at https://en.wikipedia.org/wiki/Yahtzee for ideas.\n",
    "\n",
    "Difficulty = not necessarily difficult, but might be time consuming to cover for the 63pts-rule.\n",
    "\n",
    "**3. Make the game a multiplayer one with two players instead of one (both players alternate turns).**\n",
    "\n",
    "Difficulty = ok-ish, we just need to rework the main function and have a list of players than we alternate with.\n",
    "\n",
    "We cannot however use the play_turns() function of the Player class anymore as we do not want one player to take all its turns at once, but want to alternate between players instead.\n",
    "\n",
    "This might require some rework on the Player class.\n",
    "\n",
    "**4. Make a fancier display than the current prints, so the game becomes a bit more enjoyable (How about some ASCII art for Dices in the display_hand method of the Turn object?)**\n",
    "\n",
    "Difficulty = depends on how crazy you want your display to look!"
   ]
  },
  {
   "cell_type": "code",
   "execution_count": null,
   "id": "17644ac1",
   "metadata": {},
   "outputs": [],
   "source": []
  }
 ],
 "metadata": {
  "kernelspec": {
   "display_name": "Python 3",
   "language": "python",
   "name": "python3"
  },
  "language_info": {
   "codemirror_mode": {
    "name": "ipython",
    "version": 3
   },
   "file_extension": ".py",
   "mimetype": "text/x-python",
   "name": "python",
   "nbconvert_exporter": "python",
   "pygments_lexer": "ipython3",
   "version": "3.9.6"
  }
 },
 "nbformat": 4,
 "nbformat_minor": 5
}
