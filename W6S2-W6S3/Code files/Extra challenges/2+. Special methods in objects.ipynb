{
 "cells": [
  {
   "cell_type": "markdown",
   "metadata": {},
   "source": [
    "# 2+ - Special methods in objects\n",
    "\n",
    "In this second notebook, we will explore some special methods, and reuse them on our previous objects examples.\n",
    "\n",
    "On top of the programming tasks described in this notebook, ask yourself what could be the additional attributes and methods that said object could have!"
   ]
  },
  {
   "cell_type": "markdown",
   "metadata": {},
   "source": [
    "### Task 1+: Defining a print() behavior for our board, using the __ str __ special method\n",
    "\n",
    "In the previous notebook, we defined a **Board()** object, which we give below."
   ]
  },
  {
   "cell_type": "code",
   "execution_count": null,
   "metadata": {},
   "outputs": [],
   "source": [
    "class Board():\n",
    "    def __init__(self):\n",
    "        self.board_size = 3\n",
    "        self.board = [[0 for i in range(3)] for i in range(3)]\n",
    "        self.is_full = False\n",
    "        self.has_winner = False\n",
    "        self.winner = 0\n",
    "        self.circle_to_play = True\n",
    "        \n",
    "    def add_symbol(self, x, y, v):\n",
    "        # Check for valid x and y coordinates v value.\n",
    "        if x in [0, 1, 2] and y in [0, 1, 2] and v in [1, 2]:\n",
    "            # Check location of board is empty\n",
    "            if self.board[x][y] == 0:\n",
    "                self.board[x][y] = v"
   ]
  },
  {
   "cell_type": "code",
   "execution_count": null,
   "metadata": {},
   "outputs": [],
   "source": [
    "# Creating my board boject and adding values\n",
    "my_board = Board()\n",
    "my_board.add_symbol(0,0,1)\n",
    "my_board.add_symbol(1,1,2)\n",
    "my_board.add_symbol(0,1,1)\n",
    "print(my_board.board)"
   ]
  },
  {
   "cell_type": "markdown",
   "metadata": {},
   "source": [
    "Your task is to define a **__ str __** method for the class above, which will rule the behavior of Python, whenever we try to print() a Board() type object. This means that print(my_board) should have a different behavior than sumply displaying **<__ main __ .Board object at ...>** as a result.\n",
    "\n",
    "More specifically, it should display a simple representation of our board, as shown in the cell code below!"
   ]
  },
  {
   "cell_type": "code",
   "execution_count": null,
   "metadata": {},
   "outputs": [],
   "source": [
    "# For the board above, [[1, 1, 0], [0, 2, 0], [0, 0, 0]],\n",
    "# This means we should print something that looks like this,\n",
    "# whenever we try to print our Board() object!\n",
    "# o | o |\n",
    "#-----------\n",
    "#   | x |\n",
    "#-----------\n",
    "#   |   |\n",
    "\n",
    "# At the moment however, it simply displays\n",
    "# <__main__.Board object at ...>\n",
    "print(my_board)"
   ]
  },
  {
   "cell_type": "markdown",
   "metadata": {},
   "source": [
    "#### Your code below!\n",
    "\n",
    "Suggestion: start by creating a **convert_symbol()** function, which:\n",
    "- returns \"x\" if the value passed to it is 2,\n",
    "- returns \"o\" if the value passed to it is 1,\n",
    "- returns \" \" (single white space) if the value passed to it is 0.\n",
    "\n",
    "You will probably find it useful when attempting to define the string to be printed in your **__ str __** method!"
   ]
  },
  {
   "cell_type": "code",
   "execution_count": null,
   "metadata": {},
   "outputs": [],
   "source": [
    "def convert_symbol(value):\n",
    "    # Modify your code here!\n",
    "    symbol = \" \"\n",
    "    pass\n",
    "    return symbol\n",
    "\n",
    "class Board():\n",
    "    def __init__(self):\n",
    "        self.board_size = 3\n",
    "        self.board = [[0 for i in range(3)] for i in range(3)]\n",
    "        self.is_full = False\n",
    "        self.has_winner = False\n",
    "        self.winner = 0\n",
    "        self.circle_to_play = True\n",
    "        \n",
    "    def add_symbol(self, x, y, v):\n",
    "        # Check for valid x and y coordinates v value.\n",
    "        if x in [0, 1, 2] and y in [0, 1, 2] and v in [1, 2]:\n",
    "            # Check location of board is empty\n",
    "            if self.board[x][y] == 0:\n",
    "                self.board[x][y] = v\n",
    "                \n",
    "    def __str__(self):\n",
    "        printed_string = \"\"\n",
    "        # Modify your code here!\n",
    "        pass\n",
    "        return printed_string"
   ]
  },
  {
   "cell_type": "markdown",
   "metadata": {},
   "source": [
    "#### Test cases"
   ]
  },
  {
   "cell_type": "code",
   "execution_count": null,
   "metadata": {},
   "outputs": [],
   "source": [
    "# Creating my board object and adding values\n",
    "my_board = Board()\n",
    "my_board.add_symbol(0,0,1)\n",
    "my_board.add_symbol(1,1,2)\n",
    "my_board.add_symbol(0,1,1)\n",
    "# Printing our board object, should now display\n",
    "# o | o |\n",
    "#-----------\n",
    "#   | x |\n",
    "#-----------\n",
    "#   |   |\n",
    "print(my_board)"
   ]
  },
  {
   "cell_type": "markdown",
   "metadata": {},
   "source": [
    "### Task 2+: Adding a symbol with the + operator instead of the add_symbol method.\n",
    "\n",
    "In the previous notebook, we defined a method **add_symbol()** to add a symbol **v**, to our board attribute, at a location given by two coordinates **x** and **y**.\n",
    "\n",
    "This old version of the Board object is given below and called **Board_v1()**."
   ]
  },
  {
   "cell_type": "code",
   "execution_count": null,
   "metadata": {},
   "outputs": [],
   "source": [
    "class Board_v1():\n",
    "    def __init__(self):\n",
    "        self.board_size = 3\n",
    "        self.board = [[0 for i in range(3)] for i in range(3)]\n",
    "        self.is_full = False\n",
    "        self.has_winner = False\n",
    "        self.winner = 0\n",
    "        self.circle_to_play = True\n",
    "        \n",
    "    def add_symbol(self, x, y, v):\n",
    "        # Check for valid x and y coordinates v value.\n",
    "        if x in [0, 1, 2] and y in [0, 1, 2] and v in [1, 2]:\n",
    "            # Check location of board is empty\n",
    "            if self.board[x][y] == 0:\n",
    "                self.board[x][y] = v"
   ]
  },
  {
   "cell_type": "markdown",
   "metadata": {},
   "source": [
    "In this task, we will replace the **add_symbol()** method with the special method for addition, which is **__ add __** .\n",
    "Doing so, means we can update the board, by simply summing it with a list of three values **list_vals = [x,y,v]**, instead of calling the add_symbol() method.\n",
    "\n",
    "Modify the Board() object below, so that its special method **__ add __** can be used to add a symbol to the board.\n",
    "\n",
    "#### Your code below!"
   ]
  },
  {
   "cell_type": "code",
   "execution_count": null,
   "metadata": {},
   "outputs": [],
   "source": [
    "class Board():\n",
    "    def __init__(self):\n",
    "        self.board_size = 3\n",
    "        self.board = [[0 for i in range(3)] for i in range(3)]\n",
    "        self.is_full = False\n",
    "        self.has_winner = False\n",
    "        self.winner = 0\n",
    "        self.circle_to_play = True\n",
    "        \n",
    "    def __add__(self, list_vals):\n",
    "        pass"
   ]
  },
  {
   "cell_type": "markdown",
   "metadata": {},
   "source": [
    "#### Test cases"
   ]
  },
  {
   "cell_type": "code",
   "execution_count": null,
   "metadata": {},
   "outputs": [],
   "source": [
    "# This should print [[1, 0, 0], [0, 0, 0], [0, 0, 0]]\n",
    "my_board = Board()\n",
    "my_board + [0,0,1]\n",
    "print(my_board.board)"
   ]
  },
  {
   "cell_type": "code",
   "execution_count": null,
   "metadata": {},
   "outputs": [],
   "source": [
    "# This should print [[1, 0, 1], [0, 2, 0], [0, 0, 0]]\n",
    "my_board = Board()\n",
    "my_board + [0,0,1]\n",
    "my_board + [1,1,2]\n",
    "my_board + [0,2,1]\n",
    "print(my_board.board)"
   ]
  },
  {
   "cell_type": "code",
   "execution_count": null,
   "metadata": {},
   "outputs": [],
   "source": [
    "# This should print [[1, 0, 0], [0, 0, 0], [0, 0, 0]]\n",
    "# and NOT [[2, 0, 0], [0, 0, 0], [0, 0, 0]]\n",
    "my_board = Board()\n",
    "my_board + [0,0,1]\n",
    "# Invalid location, already taken!\n",
    "# Should not change the board!\n",
    "my_board + [0,0,2]\n",
    "print(my_board.board)"
   ]
  },
  {
   "cell_type": "code",
   "execution_count": null,
   "metadata": {},
   "outputs": [],
   "source": [
    "# This should print [[0, 0, 0], [0, 0, 0], [0, 0, 0]]\n",
    "my_board = Board()\n",
    "# Invalid location, y out of bounds!\n",
    "# Should not change the board!\n",
    "my_board + [0,3,1]\n",
    "# Invalid location, x out of bounds!\n",
    "# Should not change the board!\n",
    "my_board + [4,0,2]\n",
    "# Invalid value v, not 1 or 2!\n",
    "# Should not change the board!\n",
    "my_board + [1,1,3]\n",
    "print(my_board.board)"
   ]
  },
  {
   "cell_type": "code",
   "execution_count": null,
   "metadata": {},
   "outputs": [],
   "source": []
  }
 ],
 "metadata": {
  "kernelspec": {
   "display_name": "Python 3",
   "language": "python",
   "name": "python3"
  },
  "language_info": {
   "codemirror_mode": {
    "name": "ipython",
    "version": 3
   },
   "file_extension": ".py",
   "mimetype": "text/x-python",
   "name": "python",
   "nbconvert_exporter": "python",
   "pygments_lexer": "ipython3",
   "version": "3.9.6"
  }
 },
 "nbformat": 4,
 "nbformat_minor": 4
}
