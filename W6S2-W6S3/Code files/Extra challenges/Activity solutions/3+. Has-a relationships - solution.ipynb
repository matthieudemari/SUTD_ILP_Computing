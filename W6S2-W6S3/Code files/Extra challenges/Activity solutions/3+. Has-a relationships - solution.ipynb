{
 "cells": [
  {
   "cell_type": "markdown",
   "metadata": {},
   "source": [
    "# 3+. Has-a relationships - solution\n",
    "\n",
    "This third Notebook will investigate the **Has-a relationship** concept, namely the concept of using custom objects as attributes of other objects."
   ]
  },
  {
   "cell_type": "markdown",
   "metadata": {},
   "source": [
    "### Task 1+: Healing a Hero() object with potions from the Inventory() object\n",
    "\n",
    "Let us reuse our Hero() and Inventory() objects from the last task.\n",
    "\n",
    "Your task here is to write a **heal()** method for the Hero() object, which will:\n",
    "- check for Potions in the Hero inventory,\n",
    "- remove a Potion from the inventory if one was found,\n",
    "- and heal the hero, increasing its number of HP by 20.\n",
    "\n",
    "However, if no Potion is available in the Hero() inventory, then\n",
    "- it should display \"You have no potions left!\",\n",
    "- and keep the hero HP unchanged.\n",
    "\n",
    "#### Your code below!"
   ]
  },
  {
   "cell_type": "code",
   "execution_count": null,
   "metadata": {},
   "outputs": [],
   "source": [
    "class Hero():\n",
    "    def __init__(self):\n",
    "        self.name = \"Sir Meowsalot\"\n",
    "        self.hero_class = \"Warrior\"\n",
    "        self.max_HP = 100\n",
    "        self.HP = 50\n",
    "        self.inventory = Inventory()\n",
    "        \n",
    "    def heal(self):\n",
    "        if \"Potion\" in self.inventory.list_objects:\n",
    "            self.inventory.remove_item(\"Potion\")\n",
    "            self.HP = min(self.HP + 20, self.max_HP)\n",
    "        else:\n",
    "            print(\"You have no potions left!\")\n",
    "        \n",
    "    \n",
    "class Inventory():\n",
    "    def __init__(self):\n",
    "        self.list_objects = []\n",
    "        self.number_objects = 0\n",
    "        self.inventory_size = 50\n",
    "        \n",
    "    def add_item(self, item):\n",
    "        if self.number_objects + 1 > self.inventory_size:\n",
    "            print(\"Could not add item, inventory is full!\")\n",
    "        else:\n",
    "            self.list_objects.append(item)\n",
    "            self.number_objects += 1\n",
    "            \n",
    "    def remove_item(self, item):\n",
    "        if item not in self.list_objects:\n",
    "            print(\"Could use item, it does not appear in inventory!\")\n",
    "        else:\n",
    "            self.list_objects.remove(item)\n",
    "            self.number_objects -= 1"
   ]
  },
  {
   "cell_type": "markdown",
   "metadata": {},
   "source": [
    "#### Test cases"
   ]
  },
  {
   "cell_type": "code",
   "execution_count": null,
   "metadata": {},
   "outputs": [],
   "source": [
    "### 1. Creating a hero and adding some items in its inventory\n",
    "my_hero = Hero()\n",
    "my_hero.inventory.add_item(\"Potion\")\n",
    "my_hero.inventory.add_item(\"Sword\")\n",
    "my_hero.inventory.add_item(\"Potion\")\n",
    "my_hero.inventory.add_item(\"Potion\")\n",
    "# This should display 50\n",
    "print(my_hero.HP)\n",
    "# This should display {'list_objects': ['Potion', 'Sword', 'Potion', 'Potion'], \n",
    "# 'number_objects': 4, 'inventory_size': 50}\n",
    "print(my_hero.inventory.__dict__)\n",
    "\n",
    "### 2. Healing the Hero, by using a potion\n",
    "my_hero.heal()\n",
    "# This should display 70\n",
    "print(my_hero.HP)\n",
    "# This should display {'list_objects': ['Sword', 'Potion', 'Potion'], \n",
    "# 'number_objects': 3, 'inventory_size': 50}\n",
    "print(my_hero.inventory.__dict__)"
   ]
  },
  {
   "cell_type": "code",
   "execution_count": null,
   "metadata": {},
   "outputs": [],
   "source": [
    "### 1. Creating a hero and adding some items in its inventory\n",
    "my_hero = Hero()\n",
    "my_hero.inventory.add_item(\"Shield\")\n",
    "my_hero.inventory.add_item(\"Sword\")\n",
    "# This should display 50\n",
    "print(my_hero.HP)\n",
    "# This should display {'list_objects': ['Shield', 'Sword'], \n",
    "# 'number_objects': 2, 'inventory_size': 50}\n",
    "print(my_hero.inventory.__dict__)\n",
    "\n",
    "### 2. Healing the Hero, by using a potion\n",
    "# This should print \"You have no potions left!\" and not heal the Hero\n",
    "my_hero.heal()\n",
    "# This should still display 50\n",
    "print(my_hero.HP)"
   ]
  },
  {
   "cell_type": "markdown",
   "metadata": {},
   "source": [
    "### Some suggestions to continue the development of this Hero() object!\n",
    "\n",
    "**Extra challenge 1 (No overhealing):** If you feel like it, modify the heal function to prevent the hero from getting an HP value greater than the max_HP value (no overhealing)!\n",
    "\n",
    "**Extra challenge 2 (Weapons in inventory):** Can we put some Weapon() objects in our inventory and come up with a way to equip a weapon from the inventory? It should only work with Weapon objects, no Potions!\n",
    "\n",
    "**Extra challenge 3 (Different potions):** Should Potions be objects? With different healing capabilities? (e.g. Normal potions restore 20HP, High Potions restore 50, etc.).\n",
    "\n",
    "**Extra challenge 4 (Critical healing):** When using a potion, roll a 6-face dice. If it lands on 4, 5, or 6, the potion will heal for 50% more than the normal amount! (i.e. 30HP instead of 20HP).\n",
    "\n",
    "**Extra challenge 5 (Leveling system):** Implement a leveling system that will increase some attributes of the hero and maybe the inventory size as he gets stronger? (We have already defined a level_up method earlier, time to reuse it?)"
   ]
  },
  {
   "cell_type": "code",
   "execution_count": null,
   "metadata": {},
   "outputs": [],
   "source": []
  }
 ],
 "metadata": {
  "kernelspec": {
   "display_name": "Python 3 (ipykernel)",
   "language": "python",
   "name": "python3"
  },
  "language_info": {
   "codemirror_mode": {
    "name": "ipython",
    "version": 3
   },
   "file_extension": ".py",
   "mimetype": "text/x-python",
   "name": "python",
   "nbconvert_exporter": "python",
   "pygments_lexer": "ipython3",
   "version": "3.11.4"
  }
 },
 "nbformat": 4,
 "nbformat_minor": 4
}
