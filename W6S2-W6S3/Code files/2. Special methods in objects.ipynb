{
 "cells": [
  {
   "cell_type": "markdown",
   "metadata": {},
   "source": [
    "# 2. Special methods in objects\n",
    "\n",
    "In this second notebook, we will explore some special methods, and reuse them on our previous objects examples.\n",
    "\n",
    "On top of the programming tasks described in this notebook, ask yourself what could be the additional attributes and methods that said object could have!"
   ]
  },
  {
   "cell_type": "markdown",
   "metadata": {},
   "source": [
    "### Task 1: Making Pokemon() babies with our __ add __ special method!\n",
    "\n",
    "In the previous Notebook, we defined a **Pokemon()** class object, as shown below."
   ]
  },
  {
   "cell_type": "code",
   "execution_count": 20,
   "metadata": {},
   "outputs": [],
   "source": [
    "class Pokemon():\n",
    "    def __init__(self, name, types, level, HP, attack, defense):\n",
    "        self.name = name\n",
    "        self.types = types\n",
    "        self.level = level\n",
    "        self.HP = HP\n",
    "        self.attack = attack\n",
    "        self.defense = defense"
   ]
  },
  {
   "cell_type": "markdown",
   "metadata": {},
   "source": [
    "In this task, we will define the behavior for the mating of pokemons, and decide how they might make babies!\n",
    "We will implement the mating process, by using the sum operator **+** between two Pokemon() objects.\n",
    "\n",
    "It will neither have the concatenation behavior of strings/lists, neither will it have the mathematical addition behavior of numerical types like int/float. \n",
    "\n",
    "Instead, it will have a new entirely different behavior, which we will refer to as \"mating\".\n",
    "\n",
    "Two Pokemons will only mate if they have the same name attribute. We do not care about their genders or Dittos, etc. (this is left as an extra challenge!)\n",
    "\n",
    "In case of a successful mating, the result of this operation should be a third pokemon being created, with level = 1, HP = 10, attack = 5, defense = 5.\n",
    "Otherwise it simply puts a None, in the third variable, instead of creating a new pokemon.\n",
    "\n",
    "For instance, two Pikachus, mating, will produce a third Pikachu."
   ]
  },
  {
   "cell_type": "code",
   "execution_count": 21,
   "metadata": {},
   "outputs": [
    {
     "ename": "TypeError",
     "evalue": "unsupported operand type(s) for +: 'Pokemon' and 'Pokemon'",
     "output_type": "error",
     "traceback": [
      "\u001b[1;31m---------------------------------------------------------------------------\u001b[0m",
      "\u001b[1;31mTypeError\u001b[0m                                 Traceback (most recent call last)",
      "Cell \u001b[1;32mIn[21], line 20\u001b[0m\n\u001b[0;32m      8\u001b[0m pikachu2 \u001b[38;5;241m=\u001b[39m Pokemon(name \u001b[38;5;241m=\u001b[39m \u001b[38;5;124m\"\u001b[39m\u001b[38;5;124mPikachu\u001b[39m\u001b[38;5;124m\"\u001b[39m, \\\n\u001b[0;32m      9\u001b[0m                    level \u001b[38;5;241m=\u001b[39m \u001b[38;5;241m12\u001b[39m,\n\u001b[0;32m     10\u001b[0m                    types \u001b[38;5;241m=\u001b[39m [\u001b[38;5;124m\"\u001b[39m\u001b[38;5;124mElectric\u001b[39m\u001b[38;5;124m\"\u001b[39m, \u001b[38;5;28;01mNone\u001b[39;00m],\n\u001b[0;32m     11\u001b[0m                    HP \u001b[38;5;241m=\u001b[39m \u001b[38;5;241m28\u001b[39m, \\\n\u001b[0;32m     12\u001b[0m                    attack \u001b[38;5;241m=\u001b[39m \u001b[38;5;241m22\u001b[39m, \\\n\u001b[0;32m     13\u001b[0m                    defense \u001b[38;5;241m=\u001b[39m \u001b[38;5;241m16\u001b[39m)\n\u001b[0;32m     15\u001b[0m \u001b[38;5;66;03m# This should produce a third pikachu Pokemon,\u001b[39;00m\n\u001b[0;32m     16\u001b[0m \u001b[38;5;66;03m# with the following dictionary of attributes!\u001b[39;00m\n\u001b[0;32m     17\u001b[0m \u001b[38;5;66;03m# At the moment however, it only produces an error,\u001b[39;00m\n\u001b[0;32m     18\u001b[0m \u001b[38;5;66;03m# as Python does not know how to \"sum\" two Pokemons\u001b[39;00m\n\u001b[0;32m     19\u001b[0m \u001b[38;5;66;03m# with the + operation.\u001b[39;00m\n\u001b[1;32m---> 20\u001b[0m pikachu3 \u001b[38;5;241m=\u001b[39m \u001b[43mpikachu1\u001b[49m\u001b[43m \u001b[49m\u001b[38;5;241;43m+\u001b[39;49m\u001b[43m \u001b[49m\u001b[43mpikachu2\u001b[49m\n\u001b[0;32m     21\u001b[0m \u001b[38;5;28mprint\u001b[39m(pikachu3\u001b[38;5;241m.\u001b[39m\u001b[38;5;18m__dict__\u001b[39m)\n",
      "\u001b[1;31mTypeError\u001b[0m: unsupported operand type(s) for +: 'Pokemon' and 'Pokemon'"
     ]
    }
   ],
   "source": [
    "pikachu1 = Pokemon(name = \"Pikachu\", \\\n",
    "                   level = 10,\n",
    "                   types = [\"Electric\", None],\n",
    "                   HP = 25, \\\n",
    "                   attack = 20, \\\n",
    "                   defense = 15)\n",
    "\n",
    "pikachu2 = Pokemon(name = \"Pikachu\", \\\n",
    "                   level = 12,\n",
    "                   types = [\"Electric\", None],\n",
    "                   HP = 28, \\\n",
    "                   attack = 22, \\\n",
    "                   defense = 16)\n",
    "\n",
    "# This should produce a third pikachu Pokemon,\n",
    "# with the following dictionary of attributes!\n",
    "# At the moment however, it only produces an error,\n",
    "# as Python does not know how to \"sum\" two Pokemons\n",
    "# with the + operation.\n",
    "pikachu3 = pikachu1 + pikachu2\n",
    "print(pikachu3.__dict__)"
   ]
  },
  {
   "cell_type": "markdown",
   "metadata": {},
   "source": [
    "Modify the **__ add __** special method below to make the mating work!"
   ]
  },
  {
   "cell_type": "code",
   "execution_count": 30,
   "metadata": {},
   "outputs": [],
   "source": [
    "class Pokemon():\n",
    "    def __init__(self, name, types, level, HP, attack, defense):\n",
    "        self.name = name\n",
    "        self.types = types\n",
    "        self.level = level\n",
    "        self.HP = HP\n",
    "        self.attack = attack\n",
    "        self.defense = defense\n",
    "        \n",
    "    def __add__(self, other):\n",
    "        pass"
   ]
  },
  {
   "cell_type": "markdown",
   "metadata": {},
   "source": [
    "#### Test cases\n",
    "\n",
    "Mating two Pikachus works and produces a third one!"
   ]
  },
  {
   "cell_type": "code",
   "execution_count": 31,
   "metadata": {},
   "outputs": [
    {
     "name": "stdout",
     "output_type": "stream",
     "text": [
      "Mother:  {'name': 'Pikachu', 'types': ['Electric', None], 'level': 10, 'HP': 25, 'attack': 20, 'defense': 15}\n",
      "Father:  {'name': 'Pikachu', 'types': ['Electric', None], 'level': 12, 'HP': 28, 'attack': 22, 'defense': 16}\n",
      "They can make a baby!\n",
      "{'name': 'Pikachu', 'types': ['Electric', None], 'level': 1, 'HP': 10, 'attack': 5, 'defense': 5}\n"
     ]
    }
   ],
   "source": [
    "pikachu1 = Pokemon(name = \"Pikachu\", \\\n",
    "                   level = 10,\n",
    "                   types = [\"Electric\", None],\n",
    "                   HP = 25, \\\n",
    "                   attack = 20, \\\n",
    "                   defense = 15)\n",
    "\n",
    "pikachu2 = Pokemon(name = \"Pikachu\", \\\n",
    "                   level = 12,\n",
    "                   types = [\"Electric\", None],\n",
    "                   HP = 28, \\\n",
    "                   attack = 22, \\\n",
    "                   defense = 16)\n",
    "\n",
    "# This should produce a third pikachu Pokemon, with\n",
    "# the following dictionary of attributes!\n",
    "# {'name': 'Pikachu', 'types': ['Electric', None], 'level': 1,\n",
    "# 'HP': 10, 'attack': 5, 'defense': 5}\n",
    "pikachu3 = pikachu1 + pikachu2\n",
    "print(pikachu3.__dict__)"
   ]
  },
  {
   "cell_type": "markdown",
   "metadata": {},
   "source": [
    "Mating a Pikachu and a Bulbazaur should not work (!) and produces a None instead."
   ]
  },
  {
   "cell_type": "code",
   "execution_count": 32,
   "metadata": {},
   "outputs": [
    {
     "name": "stdout",
     "output_type": "stream",
     "text": [
      "Mother:  {'name': 'Pikachu', 'types': ['Electric', None], 'level': 10, 'HP': 25, 'attack': 20, 'defense': 15}\n",
      "Father:  {'name': 'Bulbazaur', 'types': ['Grass', None], 'level': 12, 'HP': 28, 'attack': 22, 'defense': 16}\n",
      "WAT U TRYING TO DO U MONSTER\n",
      "None\n"
     ]
    }
   ],
   "source": [
    "pikachu1 = Pokemon(name = \"Pikachu\", \\\n",
    "                   level = 10,\n",
    "                   types = [\"Electric\", None],\n",
    "                   HP = 25, \\\n",
    "                   attack = 20, \\\n",
    "                   defense = 15)\n",
    "\n",
    "pokemon2 = Pokemon(name = \"Bulbazaur\", \\\n",
    "                   level = 12,\n",
    "                   types = [\"Grass\", None],\n",
    "                   HP = 28, \\\n",
    "                   attack = 22, \\\n",
    "                   defense = 16)\n",
    "\n",
    "# This should produce a None instead of a new Pokemon\n",
    "nothing = pikachu1 + pokemon2\n",
    "print(nothing)"
   ]
  },
  {
   "cell_type": "code",
   "execution_count": null,
   "metadata": {},
   "outputs": [],
   "source": []
  }
 ],
 "metadata": {
  "kernelspec": {
   "display_name": "Python 3 (ipykernel)",
   "language": "python",
   "name": "python3"
  },
  "language_info": {
   "codemirror_mode": {
    "name": "ipython",
    "version": 3
   },
   "file_extension": ".py",
   "mimetype": "text/x-python",
   "name": "python",
   "nbconvert_exporter": "python",
   "pygments_lexer": "ipython3",
   "version": "3.11.4"
  }
 },
 "nbformat": 4,
 "nbformat_minor": 4
}
