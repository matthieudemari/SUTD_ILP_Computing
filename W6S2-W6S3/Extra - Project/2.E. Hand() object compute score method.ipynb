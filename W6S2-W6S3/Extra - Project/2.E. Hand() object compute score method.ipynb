{
 "cells": [
  {
   "cell_type": "markdown",
   "id": "705d8d13",
   "metadata": {},
   "source": [
    "# 2.E. Hand() object compute score method\n",
    "\n",
    "In this notebook, we will proceed with the design of our Hand() object, and implement a method, which calculates the score of a given combination of Dice() objects, following the rules of our game.\n",
    "\n",
    "We will reuse the Dice() object from previous notebooks and import it from the dice.py file, using the command below. We will also be importing some needed functions from numpy.\n",
    "\n",
    "Note: you may use your own version of the Dice() class if you want, just make sure it passed the test cases in the 1.X. notebooks!"
   ]
  },
  {
   "cell_type": "code",
   "execution_count": 1,
   "id": "f6e47e3c",
   "metadata": {},
   "outputs": [],
   "source": [
    "from numpy.random import choice, seed\n",
    "from dice import Dice"
   ]
  },
  {
   "cell_type": "markdown",
   "id": "a08e35e5",
   "metadata": {},
   "source": [
    "### Task\n",
    "\n",
    "Write the get_score method for our Hand() object.\n",
    "\n",
    "It should return the score of the combination of values in the dice_values attribute, following the rules of the game below. \n",
    "\n",
    "- If a triplet is identified, the score is 10 points, plus the sum of all five dice values.\n",
    "- If a quadruplet is identified, the score is 40 points, plus the sum of all five dice values.\n",
    "- If a yahtzee is identified, the score is 50 points, plus the sum of all five dice values.\n",
    "- If a full house is identified, the score is 25 points, plus the sum of all five dice values.\n",
    "- If a straight is identified, the score is 40 points.\n",
    "- If none of the above combinations appear, the score is 0."
   ]
  },
  {
   "cell_type": "code",
   "execution_count": 2,
   "id": "a108daf6",
   "metadata": {},
   "outputs": [],
   "source": [
    "class Hand():\n",
    "    \n",
    "    def __init__(self):\n",
    "        # Create an attribute number_dice,\n",
    "        # corresponding to the number of dice that the hand contains.\n",
    "        # In our case, taht will be 5.\n",
    "        self.number_dice = 5\n",
    "        \n",
    "        # Create an attribute list_dice,\n",
    "        # which contains self.number_dice Dice() objects.\n",
    "        self.list_dice = [Dice() for _ in range(self.number_dice)]\n",
    "        \n",
    "        # Call the method get_rolls() to generate an attribute dice_values\n",
    "        # which will consist of list of the values obtained after rolling all\n",
    "        # the dice once.\n",
    "        self.get_rolls()\n",
    "        \n",
    "        # Define an attribute maximal_rolls set to 3\n",
    "        # And an attribute current_roll set to 1.\n",
    "        self.maximal_rolls = 3\n",
    "        self.current_roll = 1\n",
    "        \n",
    "    def get_rolls(self):\n",
    "        # This method simply initializes/updates an attribute dice_values,\n",
    "        # which contains the five dice_value attributes contained in \n",
    "        # each of the five Dice() objects in the list_dice attribute.\n",
    "        self.dice_values = [dice.dice_value for dice in self.list_dice]\n",
    "        \n",
    "    \n",
    "    def reroll_list(self, dice_reroll_list):\n",
    "        # This method will reroll the dice objects in self.list_dice\n",
    "        # For instance, if dice_reroll_list = [0, 2, 4], we will reroll the\n",
    "        # first, third and fifth dice in the list_dice attribute.\n",
    "        # The non-specified indexes will not be re-rolled.\n",
    "        # It should also increment the current_roll attribute by 1.\n",
    "        \n",
    "        for i in dice_reroll_list:\n",
    "            # Reroll dice with index i.\n",
    "            # Do so for each index value in dice_list.\n",
    "            self.list_dice[i].roll()\n",
    "            \n",
    "        # Update rolls values in dice_values by calling the get_rolls() method\n",
    "        self.get_rolls()\n",
    "        \n",
    "        # Increment roll\n",
    "        self.current_roll += 1\n",
    "        \n",
    "        \n",
    "    def get_dict(self):\n",
    "        # This method returns a dictionary whose keys will be the values of dices\n",
    "        # seen in the dice_values attribute, and the matching values of the keys\n",
    "        # will correspond to the number of times said value appears in dice_values.\n",
    "        values_dict = {}\n",
    "        for value in self.dice_values:\n",
    "            if value in values_dict.keys():\n",
    "                values_dict[value] += 1\n",
    "            else:\n",
    "                values_dict[value] = 1\n",
    "        return values_dict\n",
    "    \n",
    "    \n",
    "    def has_triplet(self):\n",
    "        # This method should return True if the values in the\n",
    "        # dice_values attribute contains exactly one triplet.\n",
    "        # This means that it returns True if dice_values = [1, 1, 1, 3, 5]\n",
    "        # And False, otherwise.\n",
    "        # Note that we expect a False if dice_values = [1, 1, 1, 1, 5] or\n",
    "        # [1, 1, 2, 2, 2] or [1, 1, 1, 1, 1] or [1, 2, 3, 4, 5].\n",
    "        values_dict = self.get_dict()\n",
    "        number_of_pairs = 0\n",
    "        number_of_triplets = 0\n",
    "        for value, freq in values_dict.items():\n",
    "            if freq == 2:\n",
    "                number_of_pairs += 1\n",
    "            if freq == 3:\n",
    "                number_of_triplets += 1\n",
    "                triplet_value = value\n",
    "        decision = number_of_pairs == 0 and number_of_triplets == 1\n",
    "        return decision\n",
    "    \n",
    "    \n",
    "    def has_quadruplet(self):\n",
    "        # This method should return True if the values in the\n",
    "        # dice_values attribute contains exactly one quadruplet.\n",
    "        # This means that it returns True if dice_values = [1, 1, 1, 1, 5]\n",
    "        # And False, otherwise.\n",
    "        # Note that we expect a False if dice_values = [1, 1, 1, 1, 1] or\n",
    "        # [1, 2, 3, 4, 5].\n",
    "        values_dict = self.get_dict()\n",
    "        number_of_quadruplets = 0\n",
    "        for value, freq in values_dict.items():\n",
    "            if freq == 4:\n",
    "                number_of_quadruplets += 1\n",
    "        decision = number_of_quadruplets == 1\n",
    "        return decision\n",
    "    \n",
    "    \n",
    "    def has_yahtzee(self):\n",
    "        # This method should return True if the values in the\n",
    "        # dice_values all have identical values\n",
    "        # This means that it returns True if dice_values = [1, 1, 1, 1, 1]\n",
    "        # And False, otherwise.\n",
    "        values_dict = self.get_dict()\n",
    "        number_of_yahtzee = 0\n",
    "        for value, freq in values_dict.items():\n",
    "            if freq == 5:\n",
    "                number_of_yahtzee += 1\n",
    "        decision = number_of_yahtzee == 1\n",
    "        return decision\n",
    "    \n",
    "    def has_full(self):\n",
    "        # This method should return True if the values in the\n",
    "        # dice_values attribute contains exactly a full house.\n",
    "        # That is, exactly one triplet and one pair\n",
    "        # This means that it returns True if dice_values = [1, 1, 1, 3, 3]\n",
    "        # And False, otherwise.\n",
    "        # Note that we expect a False if dice_values = [1, 1, 1, 1, 5]\n",
    "        # or [1, 1, 1, 1, 1] or [1, 2, 3, 4, 5].\n",
    "        values_dict = self.get_dict()\n",
    "        number_of_pairs = 0\n",
    "        number_of_triplets = 0\n",
    "        for value, freq in values_dict.items():\n",
    "            if freq == 2:\n",
    "                number_of_pairs += 1\n",
    "            if freq == 3:\n",
    "                number_of_triplets += 1\n",
    "        decision = number_of_pairs == 1 and number_of_triplets == 1\n",
    "        return decision\n",
    "    \n",
    "    def has_straight(self):\n",
    "        # This method should return True if the values in the\n",
    "        # dice_values attribute contains exactly a straight.\n",
    "        # That is [1, 2, 3, 4, 5] or [2, 3, 4, 5, 6].\n",
    "        # It returns False otherwise.\n",
    "        # Note that the dice list might not be ordered.\n",
    "        values = list(sorted(self.dice_values))\n",
    "        return values == [1, 2, 3, 4, 5] or values == [2, 3, 4, 5, 6]\n",
    "    \n",
    "    \n",
    "    def get_score(self):\n",
    "        # Calculate score\n",
    "        score = None\n",
    "        return score"
   ]
  },
  {
   "cell_type": "markdown",
   "id": "57e2ac26",
   "metadata": {},
   "source": [
    "### Test cases\n",
    "\n",
    "The following test cases should pass."
   ]
  },
  {
   "cell_type": "code",
   "execution_count": 3,
   "id": "30fef2b4",
   "metadata": {},
   "outputs": [
    {
     "name": "stdout",
     "output_type": "stream",
     "text": [
      "None\n"
     ]
    }
   ],
   "source": [
    "# This should print 0\n",
    "hand = Hand()\n",
    "hand.dice_values = [5, 4, 3, 2, 5]\n",
    "score = hand.get_score()\n",
    "print(score)"
   ]
  },
  {
   "cell_type": "code",
   "execution_count": 4,
   "id": "d4146012",
   "metadata": {},
   "outputs": [
    {
     "name": "stdout",
     "output_type": "stream",
     "text": [
      "None\n"
     ]
    }
   ],
   "source": [
    "# This should print 40\n",
    "hand = Hand()\n",
    "hand.dice_values = [5, 4, 3, 2, 6]\n",
    "score = hand.get_score()\n",
    "print(score)"
   ]
  },
  {
   "cell_type": "code",
   "execution_count": 5,
   "id": "70bd4f97",
   "metadata": {},
   "outputs": [
    {
     "name": "stdout",
     "output_type": "stream",
     "text": [
      "None\n"
     ]
    }
   ],
   "source": [
    "# This should print 55\n",
    "hand = Hand()\n",
    "hand.dice_values = [1, 1, 1, 1, 1]\n",
    "score = hand.get_score()\n",
    "print(score)"
   ]
  },
  {
   "cell_type": "code",
   "execution_count": 6,
   "id": "317948be",
   "metadata": {},
   "outputs": [
    {
     "name": "stdout",
     "output_type": "stream",
     "text": [
      "None\n"
     ]
    }
   ],
   "source": [
    "# This should print 0\n",
    "hand = Hand()\n",
    "hand.dice_values = [1, 1, 3, 5, 5]\n",
    "score = hand.get_score()\n",
    "print(score)"
   ]
  },
  {
   "cell_type": "code",
   "execution_count": 7,
   "id": "7ba11528",
   "metadata": {},
   "outputs": [
    {
     "name": "stdout",
     "output_type": "stream",
     "text": [
      "None\n"
     ]
    }
   ],
   "source": [
    "# This should print 38 (typo, not 28!)\n",
    "hand = Hand()\n",
    "hand.dice_values = [1, 1, 1, 5, 5]\n",
    "score = hand.get_score()\n",
    "print(score)"
   ]
  },
  {
   "cell_type": "code",
   "execution_count": 8,
   "id": "b6686797",
   "metadata": {},
   "outputs": [
    {
     "name": "stdout",
     "output_type": "stream",
     "text": [
      "None\n"
     ]
    }
   ],
   "source": [
    "# This should print 21\n",
    "hand = Hand()\n",
    "hand.dice_values = [1, 1, 3, 1, 5]\n",
    "score = hand.get_score()\n",
    "print(score)"
   ]
  },
  {
   "cell_type": "code",
   "execution_count": 9,
   "id": "aa3edf73",
   "metadata": {},
   "outputs": [
    {
     "name": "stdout",
     "output_type": "stream",
     "text": [
      "None\n"
     ]
    }
   ],
   "source": [
    "# This should print 47\n",
    "hand = Hand()\n",
    "hand.dice_values = [1, 1, 3, 1, 1]\n",
    "score = hand.get_score()\n",
    "print(score)"
   ]
  },
  {
   "cell_type": "code",
   "execution_count": 10,
   "id": "de584c51",
   "metadata": {},
   "outputs": [
    {
     "name": "stdout",
     "output_type": "stream",
     "text": [
      "0\n"
     ]
    }
   ],
   "source": [
    "# This should print 0\n",
    "hand = Hand()\n",
    "hand.dice_values = [1, 2, 3, 5, 6]\n",
    "score = hand.get_score()\n",
    "print(score)"
   ]
  },
  {
   "cell_type": "code",
   "execution_count": null,
   "id": "a6f21144",
   "metadata": {},
   "outputs": [],
   "source": []
  }
 ],
 "metadata": {
  "kernelspec": {
   "display_name": "Python 3 (ipykernel)",
   "language": "python",
   "name": "python3"
  },
  "language_info": {
   "codemirror_mode": {
    "name": "ipython",
    "version": 3
   },
   "file_extension": ".py",
   "mimetype": "text/x-python",
   "name": "python",
   "nbconvert_exporter": "python",
   "pygments_lexer": "ipython3",
   "version": "3.10.5"
  }
 },
 "nbformat": 4,
 "nbformat_minor": 5
}
