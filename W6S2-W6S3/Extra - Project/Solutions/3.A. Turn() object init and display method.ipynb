{
 "cells": [
  {
   "cell_type": "markdown",
   "id": "705d8d13",
   "metadata": {},
   "source": [
    "# 3.A. Hand() object is hand over method\n",
    "\n",
    "In this notebook, we will create a Turn() object, which represents the turn a player can take in the game.\n",
    "\n",
    "We will reuse the Dice() and Hand() objects from previous notebooks and import it from the dice.py and hand.py files, using the command below. We will also be importing some needed functions from numpy.\n",
    "\n",
    "Note: you may use your own version of the Dice() class if you want, just make sure it passed the test cases in the 1.X. notebooks. Same thing for the Hand() object."
   ]
  },
  {
   "cell_type": "code",
   "execution_count": 1,
   "id": "f6e47e3c",
   "metadata": {},
   "outputs": [],
   "source": [
    "from numpy.random import choice, seed\n",
    "from dice import Dice\n",
    "from hand import Hand"
   ]
  },
  {
   "cell_type": "markdown",
   "id": "a08e35e5",
   "metadata": {},
   "source": [
    "### Task\n",
    "\n",
    "Write the init method for our Turn() object.\n",
    "\n",
    "It should:\n",
    "- create a Hand object and assign it to an attribute hand,\n",
    "- create an attribute end_turn, set to False for now.\n",
    "\n",
    "We will also write a display_hand method, whose purpose is simply to print the following statement\n",
    "\n",
    "\"Hand: \"\n",
    "\n",
    "Followed by the list of 5 values currently contained in the dice_values of our Hand() object in the hand attribute."
   ]
  },
  {
   "cell_type": "code",
   "execution_count": 2,
   "id": "a108daf6",
   "metadata": {},
   "outputs": [],
   "source": [
    "class Turn():\n",
    "    \n",
    "    def __init__(self):\n",
    "        \n",
    "        # Create a Hand object and assign it to an attribute hand.\n",
    "        self.hand = Hand()\n",
    "        \n",
    "        # Create an attribute end_turn, set to False for now.\n",
    "        self.end_turn = False\n",
    "        \n",
    "    \n",
    "    def display_hand(self):\n",
    "        print(\"Hand: \", self.hand.dice_values)"
   ]
  },
  {
   "cell_type": "markdown",
   "id": "57e2ac26",
   "metadata": {},
   "source": [
    "### Test cases\n",
    "\n",
    "The following test cases should pass."
   ]
  },
  {
   "cell_type": "code",
   "execution_count": 3,
   "id": "d6c08e2e",
   "metadata": {},
   "outputs": [
    {
     "name": "stdout",
     "output_type": "stream",
     "text": [
      "{'hand': <hand.Hand object at 0x000002937C17BC40>, 'end_turn': False}\n"
     ]
    }
   ],
   "source": [
    "# This should print {'hand': <__main__.Hand object at ...>,\n",
    "# 'end_turn': False}\n",
    "turn = Turn()\n",
    "print(turn.__dict__)"
   ]
  },
  {
   "cell_type": "code",
   "execution_count": 4,
   "id": "10bd1372",
   "metadata": {},
   "outputs": [
    {
     "name": "stdout",
     "output_type": "stream",
     "text": [
      "Hand:  [3, 4, 1, 6, 2]\n"
     ]
    }
   ],
   "source": [
    "# This should print Hand:  [3, 4, 1, 6, 2]\n",
    "seed(18)\n",
    "turn = Turn()\n",
    "turn.display_hand()"
   ]
  },
  {
   "cell_type": "code",
   "execution_count": null,
   "id": "a6f21144",
   "metadata": {},
   "outputs": [],
   "source": []
  }
 ],
 "metadata": {
  "kernelspec": {
   "display_name": "Python 3",
   "language": "python",
   "name": "python3"
  },
  "language_info": {
   "codemirror_mode": {
    "name": "ipython",
    "version": 3
   },
   "file_extension": ".py",
   "mimetype": "text/x-python",
   "name": "python",
   "nbconvert_exporter": "python",
   "pygments_lexer": "ipython3",
   "version": "3.9.6"
  }
 },
 "nbformat": 4,
 "nbformat_minor": 5
}
