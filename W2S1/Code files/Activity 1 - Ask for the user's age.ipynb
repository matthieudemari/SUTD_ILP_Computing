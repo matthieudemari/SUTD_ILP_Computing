{
 "cells": [
  {
   "cell_type": "markdown",
   "metadata": {},
   "source": [
    "# Activity 1 - Ask for the user's age"
   ]
  },
  {
   "cell_type": "markdown",
   "metadata": {},
   "source": [
    "### Tasks\n",
    "\n",
    "Write a function **ask_user_age()**, as described below.\n",
    "- It receives no parameters and returns no parameters.\n",
    "- It first asks for the user to input its age, and retrieves the info from the user.\n",
    "- If the age is negative (0 included), the function should print a message that reads \"Your age cannot be negative, it must be at least 1.\"\n",
    "- If the age given by the user is larger than 122 (oldest person on record, Jeanne Calment[1]), then the print should display \"I really doubt you are ___ years old...\" with the blank filled accordingly.\n",
    "- Otherwise, the function should print \"Oh, you are ___ years old? That's cool!\", with the blank filled accordingly.\n",
    "\n",
    "Do not forget to test your function, on all three possible cases, to verify it works.\n",
    "\n",
    "[1] https://en.wikipedia.org/wiki/List_of_the_verified_oldest_people"
   ]
  },
  {
   "cell_type": "markdown",
   "metadata": {},
   "source": [
    "### Your code below!"
   ]
  },
  {
   "cell_type": "code",
   "execution_count": null,
   "metadata": {},
   "outputs": [],
   "source": [
    "def ask_user_age():\n",
    "    # Someting here!\n",
    "    print(None)"
   ]
  },
  {
   "cell_type": "code",
   "execution_count": null,
   "metadata": {},
   "outputs": [],
   "source": [
    "ask_user_age()"
   ]
  },
  {
   "cell_type": "code",
   "execution_count": null,
   "metadata": {},
   "outputs": [],
   "source": [
    "ask_user_age()"
   ]
  },
  {
   "cell_type": "code",
   "execution_count": null,
   "metadata": {},
   "outputs": [],
   "source": [
    "ask_user_age()"
   ]
  },
  {
   "cell_type": "code",
   "execution_count": null,
   "metadata": {},
   "outputs": [],
   "source": []
  }
 ],
 "metadata": {
  "kernelspec": {
   "display_name": "Python 3",
   "language": "python",
   "name": "python3"
  },
  "language_info": {
   "codemirror_mode": {
    "name": "ipython",
    "version": 3
   },
   "file_extension": ".py",
   "mimetype": "text/x-python",
   "name": "python",
   "nbconvert_exporter": "python",
   "pygments_lexer": "ipython3",
   "version": "3.9.6"
  }
 },
 "nbformat": 4,
 "nbformat_minor": 4
}
