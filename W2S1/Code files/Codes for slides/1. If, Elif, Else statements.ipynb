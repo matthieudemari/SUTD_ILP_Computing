{
 "cells": [
  {
   "cell_type": "markdown",
   "metadata": {},
   "source": [
    "# If"
   ]
  },
  {
   "cell_type": "code",
   "execution_count": 1,
   "metadata": {},
   "outputs": [],
   "source": [
    "condition = True # or False value\n",
    "if(condition):\n",
    "    print(\"This will be printed if condition is set to True.\")\n",
    "    print(\"It will not print if condition is set to False.\")\n",
    "print(\"This will be printed: not indented, outside of the if statement.\")"
   ]
  },
  {
   "cell_type": "code",
   "execution_count": 2,
   "metadata": {},
   "outputs": [],
   "source": [
    "condition = False # or True value\n",
    "if(condition):\n",
    "    print(\"This will be printed if condition is set to True.\")\n",
    "    print(\"It will not print if condition is set to False.\")\n",
    "print(\"This will be printed: not indented, outside of the if statement.\")"
   ]
  },
  {
   "cell_type": "code",
   "execution_count": 3,
   "metadata": {},
   "outputs": [],
   "source": [
    "# Some booleans\n",
    "bool1 = True\n",
    "bool2 = False\n",
    "# If statement, with True boolean condition\n",
    "if(bool1):\n",
    "    print(\"1. This will be printed, because bool1 is True.\")\n",
    "# If statement, with False boolean condition\n",
    "if(bool2):\n",
    "    print(\"2. This will NOT be printed, because bool2 is False.\")"
   ]
  },
  {
   "cell_type": "code",
   "execution_count": 4,
   "metadata": {},
   "outputs": [],
   "source": [
    "# Some booleans\n",
    "bool1 = False\n",
    "# If statement, with True boolean condition, but no identation\n",
    "if(bool1):\n",
    "    print(\"1. This will NOT be printed, because bool1 is False.\")\n",
    "print(\"2. This will be printed, because it is not indented, and therefore not part of the previous if statement.\")"
   ]
  },
  {
   "cell_type": "markdown",
   "metadata": {},
   "source": [
    "# If and Elif"
   ]
  },
  {
   "cell_type": "code",
   "execution_count": 5,
   "metadata": {},
   "outputs": [],
   "source": [
    "bool1 = True # or False value\n",
    "bool2 = True # or False value\n",
    "if(bool1):\n",
    "    print(\"Do something.\")\n",
    "elif(bool2):\n",
    "    print(\"Do something else.\")"
   ]
  },
  {
   "cell_type": "code",
   "execution_count": 6,
   "metadata": {},
   "outputs": [],
   "source": [
    "# Some booleans\n",
    "bool1 = True\n",
    "bool2 = True\n",
    "# If statement, with True boolean condition\n",
    "if(bool1):\n",
    "    print(\"1. This will be printed, because bool1 is True.\")\n",
    "# Elif statement, with True boolean condition\n",
    "elif(bool2):\n",
    "    print(\"2. This will NOT be printed, because the first if block was executed.\")"
   ]
  },
  {
   "cell_type": "code",
   "execution_count": 7,
   "metadata": {},
   "outputs": [
    {
     "name": "stdout",
     "output_type": "stream",
     "text": [
      "2. This will be printed, because the first if block was not executed and bool2 is True.\n"
     ]
    }
   ],
   "source": [
    "# Some booleans\n",
    "bool1 = False\n",
    "bool2 = True\n",
    "# If statement, with False boolean condition\n",
    "if(bool1):\n",
    "    print(\"1. This will NOT be printed, because bool1 is False.\")\n",
    "# Elif statement, with True boolean condition\n",
    "elif(bool2):\n",
    "    print(\"2. This will be printed, because the first if block was not executed and bool2 is True.\")"
   ]
  },
  {
   "cell_type": "code",
   "execution_count": 8,
   "metadata": {},
   "outputs": [
    {
     "name": "stdout",
     "output_type": "stream",
     "text": [
      "2. This will be printed, because the first if block was not executed and bool2 is True.\n"
     ]
    }
   ],
   "source": [
    "# Some booleans\n",
    "bool1 = False\n",
    "bool2 = True\n",
    "bool3 = True\n",
    "# If statement, with False boolean condition\n",
    "if(bool1):\n",
    "    print(\"1. This will NOT be printed, because bool1 is False.\")\n",
    "# Elif statement, with True boolean condition\n",
    "elif(bool2):\n",
    "    print(\"2. This will be printed, because the first if block was not executed and bool2 is True.\")\n",
    "# Another elif statement, with True boolean condition\n",
    "elif(bool3):\n",
    "    print(\"3. This will NOT be printed, because the previous block was exectued.\")"
   ]
  },
  {
   "cell_type": "code",
   "execution_count": 9,
   "metadata": {},
   "outputs": [
    {
     "name": "stdout",
     "output_type": "stream",
     "text": [
      "3. This will be printed, because none of the previous blocks were executed and bool3 is True.\n"
     ]
    }
   ],
   "source": [
    "# Some booleans\n",
    "bool1 = False\n",
    "bool2 = False\n",
    "bool3 = True\n",
    "# If statement, with False boolean condition\n",
    "if(bool1):\n",
    "    print(\"1. This will NOT be printed, because bool1 is False.\")\n",
    "# Elif statement, with False boolean condition\n",
    "elif(bool2):\n",
    "    print(\"2. This will NOT be printed, because bool2 is also False.\")\n",
    "# Another elif statement, with True boolean condition\n",
    "elif(bool3):\n",
    "    print(\"3. This will be printed, because none of the previous blocks were executed and bool3 is True.\")"
   ]
  },
  {
   "cell_type": "markdown",
   "metadata": {},
   "source": [
    "# Choosing your booleans correctly"
   ]
  },
  {
   "cell_type": "code",
   "execution_count": 10,
   "metadata": {},
   "outputs": [
    {
     "ename": "NameError",
     "evalue": "name 'x' is not defined",
     "output_type": "error",
     "traceback": [
      "\u001b[1;31m---------------------------------------------------------------------------\u001b[0m",
      "\u001b[1;31mNameError\u001b[0m                                 Traceback (most recent call last)",
      "\u001b[1;32m<ipython-input-10-f0674c458e1f>\u001b[0m in \u001b[0;36m<module>\u001b[1;34m\u001b[0m\n\u001b[1;32m----> 1\u001b[1;33m \u001b[1;32mif\u001b[0m\u001b[1;33m(\u001b[0m\u001b[0mx\u001b[0m \u001b[1;33m>\u001b[0m \u001b[1;36m10\u001b[0m\u001b[1;33m)\u001b[0m\u001b[1;33m:\u001b[0m\u001b[1;33m\u001b[0m\u001b[1;33m\u001b[0m\u001b[0m\n\u001b[0m\u001b[0;32m      2\u001b[0m     \u001b[0mprint\u001b[0m\u001b[1;33m(\u001b[0m\u001b[1;34m\"Hello!\"\u001b[0m\u001b[1;33m)\u001b[0m\u001b[1;33m\u001b[0m\u001b[1;33m\u001b[0m\u001b[0m\n\u001b[0;32m      3\u001b[0m \u001b[1;32melif\u001b[0m\u001b[1;33m(\u001b[0m\u001b[0mx\u001b[0m \u001b[1;33m>\u001b[0m \u001b[1;36m12\u001b[0m\u001b[1;33m)\u001b[0m\u001b[1;33m:\u001b[0m\u001b[1;33m\u001b[0m\u001b[1;33m\u001b[0m\u001b[0m\n\u001b[0;32m      4\u001b[0m     \u001b[0mprint\u001b[0m\u001b[1;33m(\u001b[0m\u001b[1;34m\"World!\"\u001b[0m\u001b[1;33m)\u001b[0m\u001b[1;33m\u001b[0m\u001b[1;33m\u001b[0m\u001b[0m\n",
      "\u001b[1;31mNameError\u001b[0m: name 'x' is not defined"
     ]
    }
   ],
   "source": [
    "if(x > 10):\n",
    "    print(\"Hello!\")\n",
    "elif(x > 12):\n",
    "    print(\"World!\")"
   ]
  },
  {
   "cell_type": "code",
   "execution_count": 11,
   "metadata": {},
   "outputs": [],
   "source": [
    "x = 7\n",
    "if(x > 10):\n",
    "    print(\"Hello!\")\n",
    "elif(x > 12):\n",
    "    # \"World!\" will never be printed.\n",
    "    print(\"World!\")"
   ]
  },
  {
   "cell_type": "code",
   "execution_count": 12,
   "metadata": {},
   "outputs": [
    {
     "name": "stdout",
     "output_type": "stream",
     "text": [
      "Hello!\n"
     ]
    }
   ],
   "source": [
    "x = 11\n",
    "if(x > 10):\n",
    "    print(\"Hello!\")\n",
    "elif(x > 12):\n",
    "    # \"World!\" will never be printed.\n",
    "    print(\"World!\")"
   ]
  },
  {
   "cell_type": "code",
   "execution_count": 13,
   "metadata": {},
   "outputs": [
    {
     "name": "stdout",
     "output_type": "stream",
     "text": [
      "Hello!\n"
     ]
    }
   ],
   "source": [
    "x = 13\n",
    "if(x > 10):\n",
    "    print(\"Hello!\")\n",
    "elif(x > 12):\n",
    "    # \"World!\" will never be printed.\n",
    "    print(\"World!\")"
   ]
  },
  {
   "cell_type": "markdown",
   "metadata": {},
   "source": [
    "# If and else"
   ]
  },
  {
   "cell_type": "code",
   "execution_count": 14,
   "metadata": {},
   "outputs": [
    {
     "name": "stdout",
     "output_type": "stream",
     "text": [
      "1. This will be printed, because bool1 is True.\n"
     ]
    }
   ],
   "source": [
    "bool1 = True\n",
    "if(bool1):\n",
    "    print(\"1. This will be printed, because bool1 is True.\")\n",
    "else:\n",
    "    print(\"2. This will NOT be printed, because the previous block was executed.\")"
   ]
  },
  {
   "cell_type": "code",
   "execution_count": 15,
   "metadata": {},
   "outputs": [
    {
     "name": "stdout",
     "output_type": "stream",
     "text": [
      "2. This will be printed, because none of the previous blocks were executed.\n"
     ]
    }
   ],
   "source": [
    "bool1 = False\n",
    "if(bool1):\n",
    "    print(\"1. This will NOT be printed, because bool1 is False.\")\n",
    "else:\n",
    "    print(\"2. This will be printed, because none of the previous blocks were executed.\")"
   ]
  },
  {
   "cell_type": "markdown",
   "metadata": {},
   "source": [
    "# If, elif and else"
   ]
  },
  {
   "cell_type": "code",
   "execution_count": 16,
   "metadata": {},
   "outputs": [
    {
     "name": "stdout",
     "output_type": "stream",
     "text": [
      "1. This will be printed, because bool1 is True.\n"
     ]
    }
   ],
   "source": [
    "bool1 = True\n",
    "bool2 = True\n",
    "if(bool1):\n",
    "    print(\"1. This will be printed, because bool1 is True.\")\n",
    "elif(bool2):\n",
    "    print(\"2. This will NOT be printed, because the previous block was executed.\")\n",
    "else:\n",
    "    print(\"3. This will NOT be printed, because the first block was executed.\")"
   ]
  },
  {
   "cell_type": "code",
   "execution_count": 17,
   "metadata": {},
   "outputs": [
    {
     "name": "stdout",
     "output_type": "stream",
     "text": [
      "2. This will be printed, because the first block was not executed and bool2 is True.\n"
     ]
    }
   ],
   "source": [
    "bool1 = False\n",
    "bool2 = True\n",
    "if(bool1):\n",
    "    print(\"1. This will NOT be printed, because bool1 is False.\")\n",
    "elif(bool2):\n",
    "    print(\"2. This will be printed, because the first block was not executed and bool2 is True.\")\n",
    "else:\n",
    "    print(\"3. This will NOT be printed, because the second block was executed.\")"
   ]
  },
  {
   "cell_type": "code",
   "execution_count": 18,
   "metadata": {},
   "outputs": [
    {
     "name": "stdout",
     "output_type": "stream",
     "text": [
      "3. This will be printed, because none of the previous blocks were executed.\n"
     ]
    }
   ],
   "source": [
    "bool1 = False\n",
    "bool2 = False\n",
    "if(bool1):\n",
    "    print(\"1. This will NOT be printed, because bool1 is False.\")\n",
    "elif(bool2):\n",
    "    print(\"2. This will NOT be printed, because bool2 is False.\")\n",
    "else:\n",
    "    print(\"3. This will be printed, because none of the previous blocks were executed.\")"
   ]
  },
  {
   "cell_type": "markdown",
   "metadata": {},
   "source": [
    "# An example with if, elif and else"
   ]
  },
  {
   "cell_type": "code",
   "execution_count": 19,
   "metadata": {},
   "outputs": [
    {
     "name": "stdout",
     "output_type": "stream",
     "text": [
      "The number x is strictly positive.\n"
     ]
    }
   ],
   "source": [
    "# A number x\n",
    "x = 10\n",
    "# An if/elif/else statement\n",
    "if(x>0):\n",
    "    print(\"The number x is strictly positive.\")\n",
    "elif(x<0):\n",
    "    print(\"The number x is strictly negative.\")\n",
    "elif(x==0):\n",
    "    print(\"The number x is zero.\")"
   ]
  },
  {
   "cell_type": "code",
   "execution_count": 20,
   "metadata": {},
   "outputs": [
    {
     "name": "stdout",
     "output_type": "stream",
     "text": [
      "The number x is strictly positive.\n"
     ]
    }
   ],
   "source": [
    "# A number x\n",
    "x = 10\n",
    "# An if/elif/else statement\n",
    "if(x>0):\n",
    "    print(\"The number x is strictly positive.\")\n",
    "elif(x<0):\n",
    "    print(\"The number x is strictly negative.\")\n",
    "else:\n",
    "    print(\"The number x is zero.\")"
   ]
  },
  {
   "cell_type": "code",
   "execution_count": 21,
   "metadata": {},
   "outputs": [
    {
     "name": "stdout",
     "output_type": "stream",
     "text": [
      "The number x is strictly negative.\n"
     ]
    }
   ],
   "source": [
    "# A number x\n",
    "x = -5\n",
    "# An if/elif/else statement\n",
    "if(x>0):\n",
    "    print(\"The number x is strictly positive.\")\n",
    "elif(x<0):\n",
    "    print(\"The number x is strictly negative.\")\n",
    "else:\n",
    "    print(\"The number x is zero.\")"
   ]
  },
  {
   "cell_type": "code",
   "execution_count": 22,
   "metadata": {},
   "outputs": [
    {
     "name": "stdout",
     "output_type": "stream",
     "text": [
      "The number x is zero.\n"
     ]
    }
   ],
   "source": [
    "# A number x\n",
    "x = 0\n",
    "# An if/elif/else statement\n",
    "if(x>0):\n",
    "    print(\"The number x is strictly positive.\")\n",
    "elif(x<0):\n",
    "    print(\"The number x is strictly negative.\")\n",
    "else:\n",
    "    print(\"The number x is zero.\")"
   ]
  },
  {
   "cell_type": "code",
   "execution_count": null,
   "metadata": {},
   "outputs": [],
   "source": []
  }
 ],
 "metadata": {
  "kernelspec": {
   "display_name": "Python 3",
   "language": "python",
   "name": "python3"
  },
  "language_info": {
   "codemirror_mode": {
    "name": "ipython",
    "version": 3
   },
   "file_extension": ".py",
   "mimetype": "text/x-python",
   "name": "python",
   "nbconvert_exporter": "python",
   "pygments_lexer": "ipython3",
   "version": "3.8.3"
  }
 },
 "nbformat": 4,
 "nbformat_minor": 4
}
