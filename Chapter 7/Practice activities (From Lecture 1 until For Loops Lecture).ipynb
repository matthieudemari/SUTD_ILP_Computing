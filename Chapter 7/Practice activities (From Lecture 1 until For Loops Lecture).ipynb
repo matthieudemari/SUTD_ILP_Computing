{
 "cells": [
  {
   "cell_type": "markdown",
   "id": "c408a46a",
   "metadata": {},
   "source": [
    "# Practice activities (From Lecture 1 until For Loops Lecture)\n",
    "\n",
    "Below is a list of practice activities, not necessarily with ascending difficulty levels.\n",
    "\n",
    "**Some of them will come with test cases for you to try your function, but your function should work with any parameters we could deem acceptable (e.g. any list of integers, not just the one provided for demo!)**\n",
    "\n",
    "Most of these activities will therefore require you to come up with ideas to test each of your functions and make sure you have found a valid function for each activity."
   ]
  },
  {
   "cell_type": "markdown",
   "id": "b0661364",
   "metadata": {},
   "source": [
    "## 1. Can vote\n",
    "\n",
    "Write a function **old_enough()**, which receives a single parameter, **age**, a single strictly positive integer denoting the age of a given person in years.\n",
    "\n",
    "The function returns two parameters:\n",
    "- The first one is a boolean, **can_vote**\n",
    "    - it is set to True, if the person is at least 21 years old,\n",
    "    - it is set to False, if the person's age is strictly lower than 21.\n",
    "- The second one, is a variable **number**\n",
    "    - it is set to None, if the person is at least 21 years old,\n",
    "    - if the person's age is strictly lower than 21, then it consists of the number of years the person will have to wait before being allowed to vote.\n",
    "\n",
    "For instance, \n",
    "- if **age = 42**, the function should return **can_vote = True** and **number = None**,\n",
    "- if **age = 18**, the function should return **can_vote = False** and **number = 3**,\n",
    "- if **age = 21**, the function should return **can_vote = True** and **number = None**."
   ]
  },
  {
   "cell_type": "markdown",
   "id": "6f3ee154",
   "metadata": {},
   "source": [
    "### Your code below!"
   ]
  },
  {
   "cell_type": "code",
   "execution_count": null,
   "id": "093ced18",
   "metadata": {},
   "outputs": [],
   "source": [
    "def old_enough(age):\n",
    "    pass"
   ]
  },
  {
   "cell_type": "code",
   "execution_count": null,
   "id": "7c6b785b",
   "metadata": {},
   "outputs": [],
   "source": []
  },
  {
   "cell_type": "markdown",
   "id": "9ea6f88c",
   "metadata": {},
   "source": [
    "## 2. Min, max, and mean\n",
    "\n",
    "Write a function that receives a list of numbers as shown below."
   ]
  },
  {
   "cell_type": "code",
   "execution_count": null,
   "id": "e49a483f",
   "metadata": {},
   "outputs": [],
   "source": [
    "numbers_list = [1,-2,4,5,-7,8,7]"
   ]
  },
  {
   "cell_type": "markdown",
   "id": "ea33456c",
   "metadata": {},
   "source": [
    "The function should return three numbers, corresponding to the min, max and mean values in the list."
   ]
  },
  {
   "cell_type": "code",
   "execution_count": null,
   "id": "8f0ef9f4",
   "metadata": {},
   "outputs": [],
   "source": [
    "min_val = -7\n",
    "max_val = 8\n",
    "mean_val = 4.857142857142857"
   ]
  },
  {
   "cell_type": "markdown",
   "id": "6f5ea754-baf6-444c-b25b-bec5eb491d4a",
   "metadata": {},
   "source": [
    "It is safe to assume the list will always contain numbers and that no empty list will be used.\n",
    "\n",
    "But out of curiosity, what should be the values returned for the min, max and mean of an empty list?\n",
    "\n",
    "How would you fix your function to cover for the empty list case?"
   ]
  },
  {
   "cell_type": "markdown",
   "id": "1fa58512",
   "metadata": {},
   "source": [
    "### Your code below!"
   ]
  },
  {
   "cell_type": "code",
   "execution_count": null,
   "id": "f5a007bd",
   "metadata": {},
   "outputs": [],
   "source": [
    "def min_max_mean(mylist):\n",
    "    min_val = None\n",
    "    max_val = None\n",
    "    mean_val = None\n",
    "    return min_val, max_val, mean_val"
   ]
  },
  {
   "cell_type": "code",
   "execution_count": null,
   "id": "adf4df39",
   "metadata": {},
   "outputs": [],
   "source": []
  },
  {
   "cell_type": "markdown",
   "id": "1a5cfec5",
   "metadata": {},
   "source": [
    "## 3. Convert time\n",
    "\n",
    "Write a function **convert_hours()**, which receives a single parameter, **total_hours**, a single positive integer denoting a number of hours.\n",
    "\n",
    "The function returns three values, **weeks**, **days** and **hours**, corresponding to the number of weeks, days and hours in **total_hours**.\n",
    "\n",
    "For instance, \n",
    "- if **total_hours = 7**, the function should return **weeks = 0**, **days = 0** and **hours = 7**,\n",
    "- if **total_hours = 55**, the function should return **weeks = 0**, **days = 2** and **hours = 7**,\n",
    "- if **total_hours = 247**, the function should return **weeks = 1**, **days = 3** and **hours = 7**.\n",
    "\n",
    "In this activity, you mind find the operations **//** and **%** to be extremely useful!"
   ]
  },
  {
   "cell_type": "markdown",
   "id": "d7ab18b5",
   "metadata": {},
   "source": [
    "### Your code below!"
   ]
  },
  {
   "cell_type": "code",
   "execution_count": null,
   "id": "0835f46e",
   "metadata": {},
   "outputs": [],
   "source": [
    "def convert_hours(total_hours):\n",
    "    pass"
   ]
  },
  {
   "cell_type": "code",
   "execution_count": null,
   "id": "241d2749",
   "metadata": {},
   "outputs": [],
   "source": []
  },
  {
   "cell_type": "markdown",
   "id": "91226e6a",
   "metadata": {},
   "source": [
    "## 4. Leap Year\n",
    "\n",
    "Write a function **is_leap_year()**, which receives a single parameter, **year**, a single strictly positive integer denoting a year.\n",
    "\n",
    "The function returns a single boolean, **is_ly**, which is set to True if the year is a leap year and False otherwise.\n",
    "\n",
    "According to Wikipedia, a leap year is defined as follows:\n",
    "\n",
    "*Every year that is exactly divisible by four is a leap year, except for years that are exactly divisible by 100, but these centurial years are leap years if they are exactly divisible by 400. For example, the years 1700, 1800, and 1900 are not leap years, but the years 1600 and 2000 are.*\n",
    "\n",
    "This description from Wikipedia, although accurate, is clearly confusing. You might want to spend time, figuring out, on paper first, the correct if-else diagram to use for this problem based on the description above!\n",
    "\n",
    "For instance,\n",
    "- if **year = 1996**, the function should return **is_ly = True**,\n",
    "- if **year = 1997**, the function should return **is_ly = False**,\n",
    "- if **year = 1700**, the function should return **is_ly = False**,\n",
    "- if **year = 2000**, the function should return **is_ly = True**."
   ]
  },
  {
   "cell_type": "markdown",
   "id": "822a2a7d",
   "metadata": {},
   "source": [
    "### Your code below!"
   ]
  },
  {
   "cell_type": "code",
   "execution_count": null,
   "id": "df6403fa",
   "metadata": {},
   "outputs": [],
   "source": [
    "def is_leap_year(year):\n",
    "    pass"
   ]
  },
  {
   "cell_type": "code",
   "execution_count": null,
   "id": "b1693eb9",
   "metadata": {},
   "outputs": [],
   "source": [
    "print(is_leap_year(1996))\n",
    "print(is_leap_year(1997))\n",
    "print(is_leap_year(1700))\n",
    "print(is_leap_year(2000))"
   ]
  },
  {
   "cell_type": "markdown",
   "id": "790a047a",
   "metadata": {},
   "source": [
    "## 5. How many divisors\n",
    "\n",
    "Write a function **how_many_divide()**, which receives a single parameter, **number**, a single strictly positive integer denoting a number.\n",
    "\n",
    "The function returns a single integer, **counter**, which corresponds to the number of times the number can be divided by 2, while remaining integer. \n",
    "\n",
    "For instance,\n",
    "- if **number = 9**, the function should return **counter = 0**, because $ 3 = 2^0 \\times 9 $,\n",
    "- if **number = 4**, the function should return **counter = 2**, because $4 = 2^2$,\n",
    "- if **number = 12**, the function should return **counter = 2**, because $12 = 2^2 \\times 3$,\n",
    "- if **number = 64**, the function should return **counter = 6**. because $64 = 2^6$,"
   ]
  },
  {
   "cell_type": "markdown",
   "id": "a91c9011",
   "metadata": {},
   "source": [
    "### Your code below!"
   ]
  },
  {
   "cell_type": "code",
   "execution_count": null,
   "id": "7da27ff3",
   "metadata": {},
   "outputs": [],
   "source": [
    "def how_many_divide(number):\n",
    "    pass"
   ]
  },
  {
   "cell_type": "code",
   "execution_count": null,
   "id": "10c2a371",
   "metadata": {},
   "outputs": [],
   "source": []
  },
  {
   "cell_type": "markdown",
   "id": "ea947467",
   "metadata": {},
   "source": [
    "## 6. Lottery gains computation\n",
    "\n",
    "Write a function that receives two lists:\n",
    "- the first list contains six elements, which correspond to the numbers of a lottery ticket, bought by the user,\n",
    "- the second list also contains six elements, which correspond to the numbers drawn for this lottery.\n",
    "\n",
    "An example is shown below."
   ]
  },
  {
   "cell_type": "code",
   "execution_count": null,
   "id": "b24ce681",
   "metadata": {},
   "outputs": [],
   "source": [
    "ticket_numbers = [2,3,7,17,21,36]\n",
    "winning_numbers = [3,11,13,17,24,28]"
   ]
  },
  {
   "cell_type": "markdown",
   "id": "ec6eb699",
   "metadata": {},
   "source": [
    "The function should return the number of winning numbers that the ticket contains, based on the drawn numbers. In the example shown above, it should return **number = 2**."
   ]
  },
  {
   "cell_type": "markdown",
   "id": "ab29db48",
   "metadata": {},
   "source": [
    "### Your code below!"
   ]
  },
  {
   "cell_type": "code",
   "execution_count": null,
   "id": "6312c383",
   "metadata": {},
   "outputs": [],
   "source": [
    "def compute_winning_numbers(ticket_numbers, winning_numbers):\n",
    "    pass"
   ]
  },
  {
   "cell_type": "code",
   "execution_count": null,
   "id": "f9ce486a",
   "metadata": {},
   "outputs": [],
   "source": [
    "print(compute_winning_numbers(ticket_numbers, winning_numbers))"
   ]
  },
  {
   "cell_type": "markdown",
   "id": "7d1e253c",
   "metadata": {},
   "source": [
    "## 7. Is a sum of squares\n",
    "\n",
    "Write a function **is_sum_squares()**, which receives a single parameter, **number**, a strictly positive integer.\n",
    "The function returns a single boolean, **is_sq**, which is set to True if the number can be written as the sum of two squares, and False otherwise.\n",
    "\n",
    "For instance,\n",
    "- if **number = 9**, the function should return **is_sq = True**, because $ 9 = 0^2 + 3^2 $,\n",
    "- if **number = 5**, the function should return **is_sq = True**, because $ 5 = 1^2 + 2^2 $,\n",
    "- if **number = 50**, the function should return **is_sq = True**, because $ 50 = 5^2 + 5^2 $,\n",
    "- if **number = 7**, the function should return **is_sq = False**, because it cannot be written as a sum of two squares."
   ]
  },
  {
   "cell_type": "markdown",
   "id": "22fc60cb",
   "metadata": {},
   "source": [
    "### Your code below!"
   ]
  },
  {
   "cell_type": "code",
   "execution_count": null,
   "id": "c8e154cb",
   "metadata": {},
   "outputs": [],
   "source": [
    "def is_sum_squares(number):\n",
    "    pass"
   ]
  },
  {
   "cell_type": "code",
   "execution_count": null,
   "id": "4d87e64c",
   "metadata": {},
   "outputs": [],
   "source": [
    "is_sum_squares(number = 50)"
   ]
  },
  {
   "cell_type": "markdown",
   "id": "54b1c0a4",
   "metadata": {},
   "source": [
    "## 8. How many months\n",
    "\n",
    "Write a function **how_many_months()**, which receives two parameters:\n",
    "- initial_amount, a strictly positive, integer corresponding to an amount of dollars in SGD to be deposited on a bank account,\n",
    "- rate, a strictly positive float, corresponding to a monthly growing rate, in percents, for your bank account.\n",
    "\n",
    "Each month, the money currently stored on the bank account will increase by the given rate.\n",
    "For instance, if the initial money deposit is 10000 SGD (i.e. **initial_amount = 10000**), and the rate is 1% (i.e. **rate = 1.0**), then at the end of the first month, the money on the bank account will be\n",
    "\n",
    "$$ 10000 \\times (1 + 1/100) = 10100 $$\n",
    "\n",
    "At the end of the second month, the money in the bank account will be\n",
    "\n",
    "$$ 10100 \\times (1 + 1/100) = 10201 = 10000 \\times (1 + 1/100)^2 $$\n",
    "\n",
    "And so on.\n",
    "\n",
    "The function returns is single integer **months** corresponding to the number of months needed for the bank account to reach 1 million SGD.\n",
    "\n",
    "No additional money will be added to the account, except for the initial deposit.\n",
    "\n",
    "For instance, \n",
    "- if **initial_amount = 10000** and **rate = 1.0**, the function should return **months = 463**,\n",
    "- if **initial_amount = 10000** and **rate = 5.0**, the function should return **months = 95**,\n",
    "- if **initial_amount = 100000** and **rate = 5.0**, the function should return **months = 48**,\n",
    "- if **initial_amount = 1000000** and **rate = 5.0**, the function should return **months = 0**,"
   ]
  },
  {
   "cell_type": "markdown",
   "id": "64430929",
   "metadata": {},
   "source": [
    "### Your code below!"
   ]
  },
  {
   "cell_type": "code",
   "execution_count": null,
   "id": "2c0ba992",
   "metadata": {},
   "outputs": [],
   "source": [
    "def how_many_months(initial_amount, rate):\n",
    "    pass"
   ]
  },
  {
   "cell_type": "markdown",
   "id": "fe6fd264",
   "metadata": {},
   "source": [
    "## 9. Is prime\n",
    "\n",
    "Write a function **is_prime()**, which receives a single parameter, **number**, a single positive integer.\n",
    "\n",
    "The function returns a boolean **is_p** set to True, if the number is prime and False otherwise.\n",
    "\n",
    "According to Wikipedia:\n",
    "\n",
    "*A prime number is a number, which admits exactly two distinct positive divisors, 1 and the number itself.*\n",
    "\n",
    "For instance, \n",
    "- if **number = 1**, the function should return **is_p = False** (admits only one divisor, which is 1),\n",
    "- if **number = 3**, the function should return **is_p = True** (admits two divisors, which are 1 and 3),\n",
    "- if **number = 9**, the function should return **is_p = False** (admits three divisors, which are 1, 3 and 9),"
   ]
  },
  {
   "cell_type": "markdown",
   "id": "9a274990",
   "metadata": {},
   "source": [
    "### Your code below!"
   ]
  },
  {
   "cell_type": "code",
   "execution_count": null,
   "id": "c285342a",
   "metadata": {},
   "outputs": [],
   "source": [
    "def is_prime(number):\n",
    "    pass"
   ]
  },
  {
   "cell_type": "code",
   "execution_count": null,
   "id": "d29eff3b",
   "metadata": {},
   "outputs": [],
   "source": []
  }
 ],
 "metadata": {
  "kernelspec": {
   "display_name": "Python 3 (ipykernel)",
   "language": "python",
   "name": "python3"
  },
  "language_info": {
   "codemirror_mode": {
    "name": "ipython",
    "version": 3
   },
   "file_extension": ".py",
   "mimetype": "text/x-python",
   "name": "python",
   "nbconvert_exporter": "python",
   "pygments_lexer": "ipython3",
   "version": "3.13.7"
  }
 },
 "nbformat": 4,
 "nbformat_minor": 5
}
