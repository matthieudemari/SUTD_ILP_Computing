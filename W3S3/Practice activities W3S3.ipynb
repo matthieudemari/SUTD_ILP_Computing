{
 "cells": [
  {
   "cell_type": "markdown",
   "id": "c408a46a",
   "metadata": {},
   "source": [
    "# Practice activities W3S3\n",
    "\n",
    "Below is a list of practice activities, noted with difficulty levels.\n",
    "Some of them will come with test cases for you to try your function, but most of these activities will require you to come up with ideas to test your function and make sure you have found the right one."
   ]
  },
  {
   "cell_type": "markdown",
   "id": "c644d16d",
   "metadata": {},
   "source": [
    "## 1. Remove duplicates\n",
    "\n",
    "Write a function that receives a list of integers, as the one below."
   ]
  },
  {
   "cell_type": "code",
   "execution_count": null,
   "id": "49477a00",
   "metadata": {},
   "outputs": [],
   "source": [
    "integers_list = [1,2,4,5,4,8,6,7,1]"
   ]
  },
  {
   "cell_type": "markdown",
   "id": "f89e6b72",
   "metadata": {},
   "source": [
    "The function should remove all duplicates from the list and return a list consisting of the elements, with duplicates removed. In the example shown above, the expected output of the function should be as shown below."
   ]
  },
  {
   "cell_type": "code",
   "execution_count": null,
   "id": "0b1e085b",
   "metadata": {},
   "outputs": [],
   "source": [
    "result = [1,2,4,5,8,6,7]"
   ]
  },
  {
   "cell_type": "markdown",
   "id": "05ae3247",
   "metadata": {},
   "source": [
    "### Your code below!"
   ]
  },
  {
   "cell_type": "code",
   "execution_count": 10,
   "id": "a0a9eec0",
   "metadata": {},
   "outputs": [],
   "source": [
    "def remove_duplicates(integers_list):\n",
    "    pass"
   ]
  },
  {
   "cell_type": "markdown",
   "id": "3c485e43",
   "metadata": {},
   "source": [
    "## 2. Remove outliers\n",
    "\n",
    "Write a function that receives a list of integers, as the one below."
   ]
  },
  {
   "cell_type": "code",
   "execution_count": null,
   "id": "d88bfc5a",
   "metadata": {},
   "outputs": [],
   "source": [
    "integers_list = [1,2,4,5,4,8,6,7,1]"
   ]
  },
  {
   "cell_type": "markdown",
   "id": "5acd27d2",
   "metadata": {},
   "source": [
    "The function should remove all the occurrences of the minimal and maximal values from the list. The expected output for the list shown above, should then be"
   ]
  },
  {
   "cell_type": "code",
   "execution_count": null,
   "id": "9d957778",
   "metadata": {},
   "outputs": [],
   "source": [
    "result = [2,4,5,4,6,7]"
   ]
  },
  {
   "cell_type": "markdown",
   "id": "31464d4d",
   "metadata": {},
   "source": [
    "### Your code below!"
   ]
  },
  {
   "cell_type": "code",
   "execution_count": 29,
   "id": "2bdcfc10",
   "metadata": {},
   "outputs": [],
   "source": [
    "def remove_outliers(integers_list):\n",
    "    pass"
   ]
  },
  {
   "cell_type": "markdown",
   "id": "68cb413d",
   "metadata": {},
   "source": [
    "## 3. Positive and negative sublists\n",
    "\n",
    "Write a function that receives a list of integers, as the one below."
   ]
  },
  {
   "cell_type": "code",
   "execution_count": null,
   "id": "7367c4c0",
   "metadata": {},
   "outputs": [],
   "source": [
    "integers_list = [-1,2,0,4,-5,4,0,8,6,-7,1]"
   ]
  },
  {
   "cell_type": "markdown",
   "id": "0ccc33a4",
   "metadata": {},
   "source": [
    "The function should return three lists, containing all occurrences of strictly positive, strictly negative and zeros inside the given list. Some of these lists might be empty. The expected output for the list above would then be"
   ]
  },
  {
   "cell_type": "code",
   "execution_count": null,
   "id": "252a2160",
   "metadata": {},
   "outputs": [],
   "source": [
    "positives = [2,4,4,8,6,1]\n",
    "negatives = [-1,-5,-7]\n",
    "zeroes = [0,0]"
   ]
  },
  {
   "cell_type": "markdown",
   "id": "fdceb8c8",
   "metadata": {},
   "source": [
    "### Your code below!"
   ]
  },
  {
   "cell_type": "code",
   "execution_count": 47,
   "id": "76c0c654",
   "metadata": {},
   "outputs": [],
   "source": [
    "def define_subsets(integers_list):\n",
    "    pass"
   ]
  },
  {
   "cell_type": "markdown",
   "id": "3bc3c868",
   "metadata": {},
   "source": [
    "## 4. List of positive divisors\n",
    "\n",
    "Write a function that receives a single strictly positive integer number, such as the one shown below."
   ]
  },
  {
   "cell_type": "code",
   "execution_count": null,
   "id": "735ba629",
   "metadata": {},
   "outputs": [],
   "source": [
    "integer = 12"
   ]
  },
  {
   "cell_type": "markdown",
   "id": "69fba319",
   "metadata": {},
   "source": [
    "The function should return a list, which contains all the proper divisors of this number, sorted in ascending order. In the case of integer = 12 above, the expected output is then"
   ]
  },
  {
   "cell_type": "code",
   "execution_count": null,
   "id": "891d0823",
   "metadata": {},
   "outputs": [],
   "source": [
    "divisors = [1,2,3,4,6,12]"
   ]
  },
  {
   "cell_type": "markdown",
   "id": "bc1da85b",
   "metadata": {},
   "source": [
    "### Your code below!"
   ]
  },
  {
   "cell_type": "code",
   "execution_count": 90,
   "id": "36de70d8",
   "metadata": {},
   "outputs": [],
   "source": [
    "def positive_divisors(number):\n",
    "    pass"
   ]
  },
  {
   "cell_type": "markdown",
   "id": "2550d110",
   "metadata": {},
   "source": [
    "## 5. Below and above average\n",
    "\n",
    "Write a function that receives a list of integers, such as the one shown below."
   ]
  },
  {
   "cell_type": "code",
   "execution_count": null,
   "id": "e5ed9a40",
   "metadata": {},
   "outputs": [],
   "source": [
    "integers_list = [1,2,4,5,4,8,6,8]"
   ]
  },
  {
   "cell_type": "markdown",
   "id": "23795675",
   "metadata": {},
   "source": [
    "The function should return three parameters:\n",
    "- the first one is the average value of the elements in the list,\n",
    "- the second is a list containing the elements with values strictly lower than the average value,\n",
    "- and the third is a list containing the elements with values strictly higher than the average value,"
   ]
  },
  {
   "cell_type": "code",
   "execution_count": null,
   "id": "50b704af",
   "metadata": {},
   "outputs": [],
   "source": [
    "avg_value = 4.75\n",
    "lower = [1,2,4,4]\n",
    "higher = [5,8,6,8]"
   ]
  },
  {
   "cell_type": "markdown",
   "id": "8518c266",
   "metadata": {},
   "source": [
    "### Your code below!"
   ]
  },
  {
   "cell_type": "code",
   "execution_count": null,
   "id": "48d03543",
   "metadata": {},
   "outputs": [],
   "source": [
    "def below_above_avg(integers_list):\n",
    "    pass"
   ]
  },
  {
   "cell_type": "markdown",
   "id": "ea947467",
   "metadata": {},
   "source": [
    "## 6. Lottery gains computation\n",
    "\n",
    "Write a function that receives two lists:\n",
    "- the first list contains six elements, which correspond to the numbers of a lottery ticket, bought by the user,\n",
    "- the second list also contains six elements, which correspond to the numbers drawn for this lottery.\n",
    "\n",
    "An example is shown below."
   ]
  },
  {
   "cell_type": "code",
   "execution_count": null,
   "id": "b24ce681",
   "metadata": {},
   "outputs": [],
   "source": [
    "ticket_numbers = [2,3,7,17,21,36]\n",
    "winning_numbers = [3,11,13,17,24,28]"
   ]
  },
  {
   "cell_type": "markdown",
   "id": "ec6eb699",
   "metadata": {},
   "source": [
    "The function should return the number of winning numbers that the ticket contains, based on the drawn numbers. In the example shown above, it should return"
   ]
  },
  {
   "cell_type": "code",
   "execution_count": null,
   "id": "10514da4",
   "metadata": {},
   "outputs": [],
   "source": [
    "number = 2"
   ]
  },
  {
   "cell_type": "markdown",
   "id": "ab29db48",
   "metadata": {},
   "source": [
    "### Your code below!"
   ]
  },
  {
   "cell_type": "code",
   "execution_count": 95,
   "id": "6312c383",
   "metadata": {},
   "outputs": [],
   "source": [
    "def compute_winning_numbers(ticket_numbers, winning_numbers):\n",
    "    pass"
   ]
  },
  {
   "cell_type": "markdown",
   "id": "efb359d0",
   "metadata": {},
   "source": [
    "## 7. Min, max, mean and median\n",
    "\n",
    "Write a function that receives a list, as shown below."
   ]
  },
  {
   "cell_type": "code",
   "execution_count": null,
   "id": "43cb1a40",
   "metadata": {},
   "outputs": [],
   "source": [
    "numbers_list = [1,2,4,5,7,7,8]"
   ]
  },
  {
   "cell_type": "markdown",
   "id": "966c87fe",
   "metadata": {},
   "source": [
    "The function should return four numbers, corresponding to the min, max, mean and median values in the list"
   ]
  },
  {
   "cell_type": "code",
   "execution_count": null,
   "id": "9a181cf8",
   "metadata": {},
   "outputs": [],
   "source": [
    "min_val = 1\n",
    "max_val = 8\n",
    "mean_val = 4.857142857142857\n",
    "median_val = 5"
   ]
  },
  {
   "cell_type": "markdown",
   "id": "1207d212",
   "metadata": {},
   "source": [
    "### Your code below!"
   ]
  },
  {
   "cell_type": "code",
   "execution_count": null,
   "id": "00c2426a",
   "metadata": {},
   "outputs": [],
   "source": [
    "def min_max_mean_median(mylist):\n",
    "    pass"
   ]
  },
  {
   "cell_type": "markdown",
   "id": "930d964e",
   "metadata": {},
   "source": [
    "### 8. Convert time (v1)\n",
    "\n",
    "Write a function **convert_hours()**, which receives a single parameter, **total_hours**, a single positive integer denoting a number of hours.\n",
    "\n",
    "The function returns three values, **weeks**, **days** and **hours**, corresponding to the number of weeks, days and hours in **total_hours**.\n",
    "\n",
    "For instance, \n",
    "- if **total_hours = 7**, the function should return **weeks = 0**, **days = 0** and **hours = 7**,\n",
    "- if **total_hours = 55**, the function should return **weeks = 0**, **days = 2** and **hours = 7**,\n",
    "- if **total_hours = 247**, the function should return **weeks = 1**, **days = 3** and **hours = 7**,"
   ]
  },
  {
   "cell_type": "markdown",
   "id": "55c22cdf",
   "metadata": {},
   "source": [
    "### Your code below!"
   ]
  },
  {
   "cell_type": "code",
   "execution_count": null,
   "id": "4bce936b",
   "metadata": {},
   "outputs": [],
   "source": [
    "def convert_hours(total_hours):\n",
    "    pass"
   ]
  },
  {
   "cell_type": "markdown",
   "id": "8e671af4",
   "metadata": {},
   "source": [
    "### 9. Leap Year\n",
    "\n",
    "Write a function **is_leap_year()**, which receives a single parameter, **year**, a single strictly positive integer denoting a year.\n",
    "\n",
    "The function returns a single boolean, **is_ly**, which is set to True if the year is a leap year and False otherwise.\n",
    "\n",
    "According to Wikipedia, a leap year is defined as follows:\n",
    "\n",
    "*Every year that is exactly divisible by four is a leap year, except for years that are exactly divisible by 100, but these centurial years are leap years if they are exactly divisible by 400. For example, the years 1700, 1800, and 1900 are not leap years, but the years 1600 and 2000 are.*\n",
    "\n",
    "For instance,\n",
    "- if **year = 1996**, the function should return **is_ly = True**,\n",
    "- if **year = 1997**, the function should return **is_ly = False**,\n",
    "- if **year = 1700**, the function should return **is_ly = False**,\n",
    "- if **year = 2000**, the function should return **is_ly = True**."
   ]
  },
  {
   "cell_type": "markdown",
   "id": "40a9ecf4",
   "metadata": {},
   "source": [
    "### Your code below!"
   ]
  },
  {
   "cell_type": "code",
   "execution_count": null,
   "id": "f6aedb98",
   "metadata": {},
   "outputs": [],
   "source": [
    "def is_leap_year(year):\n",
    "    pass"
   ]
  },
  {
   "cell_type": "markdown",
   "id": "5c35100f",
   "metadata": {},
   "source": [
    "### 10. How many divisors\n",
    "\n",
    "Write a function **how_many_divide()**, which receives a single parameter, **number**, a single strictly positive integer denoting a number.\n",
    "\n",
    "The function returns a single integer, **counter**, which corresponds to the number of times the number can be divided by 2, while remaining integer. \n",
    "\n",
    "For instance,\n",
    "- if **number = 3**, the function should return **counter = 0**, because $ 3 = 2^0 \\times 3 $,\n",
    "- if **number = 4**, the function should return **counter = 2**, because $4 = 2^2$,\n",
    "- if **number = 12**, the function should return **counter = 2**, because $12 = 2^2 \\times 3$,\n",
    "- if **number = 64**, the function should return **counter = 6**. because $64 = 2^6$,"
   ]
  },
  {
   "cell_type": "markdown",
   "id": "53f384a9",
   "metadata": {},
   "source": [
    "### Your code below!"
   ]
  },
  {
   "cell_type": "code",
   "execution_count": null,
   "id": "248eedd9",
   "metadata": {},
   "outputs": [],
   "source": [
    "def how_many_divide(number):\n",
    "    pass"
   ]
  },
  {
   "cell_type": "markdown",
   "id": "6b2d2c96",
   "metadata": {},
   "source": [
    "### 11. Has a triplet\n",
    "\n",
    "Write a function **find_if_triplet()**, which receives a single parameter, **my_list**, a list of integers, with values in ascending order.\n",
    "\n",
    "The function returns a single boolean, **has_triplet**, which is set to True if an element of the list **my_list** appears at least three times. It returns False otherwise.\n",
    "\n",
    "For instance,\n",
    "- if **my_list = [1,1,1]**, the function should return **has_triplet = True**,\n",
    "- if **my_list = [1,2,3,3,3]**, the function should return **has_triplet = True**,\n",
    "- if **my_list = [1,2,2,2,2,3]**, the function should return **has_triplet = True**,\n",
    "- if **my_list = [1,2,2,3,4,4,5]**, the function should return **has_triplet = False**. "
   ]
  },
  {
   "cell_type": "markdown",
   "id": "0f1b4d3c",
   "metadata": {},
   "source": [
    "### Your code below!"
   ]
  },
  {
   "cell_type": "code",
   "execution_count": null,
   "id": "5432c1d7",
   "metadata": {},
   "outputs": [],
   "source": [
    "def find_if_triplet(my_list):\n",
    "    pass"
   ]
  },
  {
   "cell_type": "markdown",
   "id": "a860a5a2",
   "metadata": {},
   "source": [
    "### 12. Is a sum of squares\n",
    "\n",
    "Write a function **is_sum_squares()**, which receives a single parameter, **number**, a strictly positive integer.\n",
    "The function returns a single boolean, **is_sq**, which is set to True if the number can be written as the sum of two squares, and False otherwise.\n",
    "\n",
    "For instance,\n",
    "- if **number = 9**, the function should return **is_sq = True**, because $ 9 = 0^2 + 3^2 $,\n",
    "- if **number = 5**, the function should return **is_sq = True**, because $ 5 = 1^2 + 2^2 $,\n",
    "- if **number = 50**, the function should return **is_sq = True**, because $ 50 = 5^2 + 5^2 $,\n",
    "- if **number = 7**, the function should return **is_sq = False**, because it cannot be written as a sum of two squares."
   ]
  },
  {
   "cell_type": "markdown",
   "id": "b4ec9359",
   "metadata": {},
   "source": [
    "### Your code below!"
   ]
  },
  {
   "cell_type": "code",
   "execution_count": null,
   "id": "96913e65",
   "metadata": {},
   "outputs": [],
   "source": [
    "def is_sum_squares(number):\n",
    "    pass"
   ]
  },
  {
   "cell_type": "markdown",
   "id": "86cf31a1",
   "metadata": {},
   "source": [
    "## 13. Convert seconds\n",
    "\n",
    "Write a function **convert_seconds()**, which receives a single parameter, **total_seconds**, a single positive integer denoting a number of seconds.\n",
    "\n",
    "The function returns three values, **hours**, **minutes** and **seconds**, corresponding to the number of hours, minutes and seconds in **total_seconds**.\n",
    "\n",
    "For instance, \n",
    "- if **total_seconds = 7**, the function should return **hours = 0**, **minutes = 0** and **seconds = 7**,\n",
    "- if **total_seconds = 67**, the function should return **hours = 0**, **minutes = 1** and **seconds = 7**,\n",
    "- if **total_seconds = 3625**, the function should return **hours = 1**, **minutes = 0** and **seconds = 25**,"
   ]
  },
  {
   "cell_type": "markdown",
   "id": "943933fc",
   "metadata": {},
   "source": [
    "### Your code below!"
   ]
  },
  {
   "cell_type": "code",
   "execution_count": null,
   "id": "279ce23f",
   "metadata": {},
   "outputs": [],
   "source": [
    "def convert_seconds(total_seconds):\n",
    "    pass"
   ]
  },
  {
   "cell_type": "markdown",
   "id": "815e93f2",
   "metadata": {},
   "source": [
    "## 14. Can vote\n",
    "\n",
    "Write a function **old_enough()**, which receives a single parameter, **age**, a single strictly positive integer denoting the age of a given person in years.\n",
    "\n",
    "The function returns two parameters:\n",
    "- The first one is a boolean, **can_vote**\n",
    "    - it is set to True, if the person is at least 21 years old,\n",
    "    - it is set to False, if the person's age is strictly lower than 21.\n",
    "- The second one, is a variable **number**\n",
    "    - it is set to None, if the person is at least 21 years old,\n",
    "    - if the person's age is strictly lower than 21, then it consists of the number of years the person will have to wait before being allowed to vote.\n",
    "\n",
    "For instance, \n",
    "- if **age = 42**, the function should return **can_vote = True** and **number = None**,\n",
    "- if **age = 18**, the function should return **can_vote = False** and **number = 3**,\n",
    "- if **age = 21**, the function should return **can_vote = True** and **number = None**."
   ]
  },
  {
   "cell_type": "markdown",
   "id": "15f64dfa",
   "metadata": {},
   "source": [
    "### Your code below!"
   ]
  },
  {
   "cell_type": "code",
   "execution_count": null,
   "id": "71cf2089",
   "metadata": {},
   "outputs": [],
   "source": [
    "def old_enough(age):\n",
    "    pass"
   ]
  },
  {
   "cell_type": "markdown",
   "id": "54b1c0a4",
   "metadata": {},
   "source": [
    "## 15. How many months\n",
    "\n",
    "Write a function **how_many_months()**, which receives two parameters:\n",
    "- initial_amount, a strictly positive, integer corresponding to an amount of dollars in SGD to be deposited on a bank account,\n",
    "- rate, a strictly positive float, corresponding to a monthly growing rate, in percents, for your bank account.\n",
    "\n",
    "Each month, the money currently stored on the bank account will increase by the given rate.\n",
    "For instance, if the initial money deposit is 10000 SGD (i.e. **initial_amount = 10000**), and the rate is 1% (i.e. **rate = 1.0**), then at the end of the first month, the money on the bank account will be\n",
    "\n",
    "$$ 10000 \\times (1 + 1/100) = 10100 $$\n",
    "\n",
    "At the end of the second month, the money in the bank account will be\n",
    "\n",
    "$$ 10100 \\times (1 + 1/100) = 10201 = 10000 \\times (1 + 1/100)^2 $$\n",
    "\n",
    "And so on.\n",
    "\n",
    "The function returns is single integer **months** corresponding to the number of months needed for the bank account to reach 1 million SGD.\n",
    "\n",
    "No additional money will be added to the account, except for the initial deposit.\n",
    "\n",
    "For instance, \n",
    "- if **initial_amount = 10000** and **rate = 1.0**, the function should return **months = 463**,\n",
    "- if **initial_amount = 10000** and **rate = 5.0**, the function should return **months = 95**,\n",
    "- if **initial_amount = 100000** and **rate = 5.0**, the function should return **months = 48**,\n",
    "- if **initial_amount = 1000000** and **rate = 5.0**, the function should return **months = 0**,"
   ]
  },
  {
   "cell_type": "markdown",
   "id": "64430929",
   "metadata": {},
   "source": [
    "### Your code below!"
   ]
  },
  {
   "cell_type": "code",
   "execution_count": null,
   "id": "2c0ba992",
   "metadata": {},
   "outputs": [],
   "source": [
    "def how_many_months(initial_amount, rate):\n",
    "    pass"
   ]
  },
  {
   "cell_type": "markdown",
   "id": "811d9a0a",
   "metadata": {},
   "source": [
    "## 16. Are all consecutive\n",
    "\n",
    "Write a function **are_all_consecutive()**, which receives a single parameter, **my_list**, a non-empty list of integers, in ascending order.\n",
    "\n",
    "The function returns a single boolean, **is_cons**, set to True if all the elements in the list are consecutive and False otherwise.\n",
    "\n",
    "For instance, \n",
    "- if **my_list = [1,2,3]**, the function should return **is_cons = True**,\n",
    "- if **my_list = [7,8,9,10]**, the function should return **is_cons = True**,\n",
    "- if **my_list = [8]**, the function should return **is_cons = True**,\n",
    "- if **my_list = [1,2,2,3]**, the function should return **is_cons = False**,\n",
    "- if **my_list = [1,2,4,5]**, the function should return **is_cons = False**,"
   ]
  },
  {
   "cell_type": "markdown",
   "id": "334ee7f1",
   "metadata": {},
   "source": [
    "### Your code below!"
   ]
  },
  {
   "cell_type": "code",
   "execution_count": null,
   "id": "2b1b9c59",
   "metadata": {},
   "outputs": [],
   "source": [
    "def are_all_consecutive(my_list):\n",
    "    pass"
   ]
  },
  {
   "cell_type": "markdown",
   "id": "fe6fd264",
   "metadata": {},
   "source": [
    "## 17. Is prime\n",
    "\n",
    "Write a function **is_prime()**, which receives a single parameter, **number**, a single positive integer.\n",
    "\n",
    "The function returns a boolean **is_p** set to True, if the number is prime and False otherwise.\n",
    "\n",
    "According to Wikipedia:\n",
    "\n",
    "*A prime number is a number, which admits exactly two distinct positive divisors, 1 and the number itself.*\n",
    "\n",
    "For instance, \n",
    "- if **number = 1**, the function should return **is_p = False** (admits only one divisor, which is 1),\n",
    "- if **number = 3**, the function should return **is_p = True** (admits two divisors, which are 1 and 3),\n",
    "- if **number = 6**, the function should return **is_p = False** (admits Four divisors, which are 1, 2, 3 and 6),"
   ]
  },
  {
   "cell_type": "markdown",
   "id": "9a274990",
   "metadata": {},
   "source": [
    "### Your code below!"
   ]
  },
  {
   "cell_type": "code",
   "execution_count": null,
   "id": "c285342a",
   "metadata": {},
   "outputs": [],
   "source": [
    "def is_prime(number):\n",
    "    pass"
   ]
  },
  {
   "cell_type": "markdown",
   "id": "9cc6cb54",
   "metadata": {},
   "source": [
    "## 18. Unique counter\n",
    "\n",
    "Write a function receives a list of integers, my_list.\n",
    "\n",
    "It returns two lists.\n",
    "- The first one, in res1, contains the values in my_list, without duplicates, in ascending order.\n",
    "- The second one, in res2, contains the number of times each element in res1 appears in my_list\n",
    "\n",
    "For instance:\n",
    "- If my_list = [4,1,1,2,4,3,5,1], then the function should return res1 = [1,2,3,4,5] and res2 = [3,1,1,2,1]."
   ]
  },
  {
   "cell_type": "markdown",
   "id": "42d44ea0",
   "metadata": {},
   "source": [
    "### Your code below!"
   ]
  },
  {
   "cell_type": "code",
   "execution_count": null,
   "id": "f3d44f72",
   "metadata": {},
   "outputs": [],
   "source": []
  },
  {
   "cell_type": "markdown",
   "id": "17fffeea",
   "metadata": {},
   "source": [
    "# 19. Is sublist\n",
    "\n",
    "Write a function that receives two lists list1 and list2.\n",
    "It returns True if list2 is a sublist of list1.\n",
    "\n",
    "For instance:\n",
    "- If list1 = [1,2,3,4,5,2,4,1] and list2 = [3,4,5], it should return True.\n",
    "- If list1 = [1,2,3,4,5,2,4,1] and list2 = [4,5,6], it should return False."
   ]
  },
  {
   "cell_type": "markdown",
   "id": "61389fbf",
   "metadata": {},
   "source": [
    "### Your code below!"
   ]
  },
  {
   "cell_type": "code",
   "execution_count": null,
   "id": "5f9060b8",
   "metadata": {},
   "outputs": [],
   "source": []
  },
  {
   "cell_type": "markdown",
   "id": "84de7f2e",
   "metadata": {},
   "source": [
    "## 20. Sublists of a list (so, you want a real challenge?)\n",
    "\n",
    "### Important Note\n",
    "\n",
    "Just showing it to you for those of you who really want a really hard challenge!\n",
    "\n",
    "Try at your own risk! Beware, it is nasty!\n",
    "\n",
    "**Suggestion:** use nested for loops and/or recursion!\n",
    "\n",
    "### Problem statement\n",
    "\n",
    "Write a function that receives a list, as shown below.\n",
    "The list will have no duplicates."
   ]
  },
  {
   "cell_type": "code",
   "execution_count": null,
   "id": "1aedff05",
   "metadata": {},
   "outputs": [],
   "source": [
    "numbers_list = [1,2,4,6]"
   ]
  },
  {
   "cell_type": "markdown",
   "id": "76600ebf",
   "metadata": {},
   "source": [
    "The function should return a list of lists, containing all the possible sublists that can be created, using the values in the given list. In the example above, that is"
   ]
  },
  {
   "cell_type": "code",
   "execution_count": null,
   "id": "c4bf5a0b",
   "metadata": {},
   "outputs": [],
   "source": [
    "result = [[], \\\n",
    "          [1], [2], [4], [6], \\\n",
    "          [1, 2], [1, 4], [1, 6], [2, 4], [2, 6], [4, 6], \\\n",
    "          [1, 2, 4], [1, 2, 6], [1, 4, 6], [2, 4, 6], \\\n",
    "          [1, 2, 4, 6]]"
   ]
  },
  {
   "cell_type": "markdown",
   "id": "b881549a",
   "metadata": {},
   "source": [
    "### Your code below!"
   ]
  },
  {
   "cell_type": "code",
   "execution_count": null,
   "id": "d29eff3b",
   "metadata": {},
   "outputs": [],
   "source": []
  }
 ],
 "metadata": {
  "kernelspec": {
   "display_name": "Python 3",
   "language": "python",
   "name": "python3"
  },
  "language_info": {
   "codemirror_mode": {
    "name": "ipython",
    "version": 3
   },
   "file_extension": ".py",
   "mimetype": "text/x-python",
   "name": "python",
   "nbconvert_exporter": "python",
   "pygments_lexer": "ipython3",
   "version": "3.9.6"
  }
 },
 "nbformat": 4,
 "nbformat_minor": 5
}
