{
 "cells": [
  {
   "cell_type": "markdown",
   "id": "2c21a6e3",
   "metadata": {},
   "source": [
    "# Practice activities W3S3 - solution\n",
    "\n",
    "Below is a list of practice activities, noted with difficulty levels.\n",
    "Some of them will come with test cases for you to try your function, but most of these activities will require you to come up with ideas to test your function and make sure you have found the right one."
   ]
  },
  {
   "cell_type": "markdown",
   "id": "77910caf",
   "metadata": {},
   "source": [
    "## 1. Remove duplicates\n",
    "\n",
    "Write a function that receives a list of integers, as the one below."
   ]
  },
  {
   "cell_type": "code",
   "execution_count": 1,
   "id": "d6850bc6",
   "metadata": {},
   "outputs": [],
   "source": [
    "integers_list = [1,2,4,5,4,8,6,7,1]"
   ]
  },
  {
   "cell_type": "markdown",
   "id": "a238fdfe",
   "metadata": {},
   "source": [
    "The function should remove all duplicates from the list and return a list consisting of the elements, with duplicates removed. In the example shown above, the expected output of the function should be as shown below."
   ]
  },
  {
   "cell_type": "code",
   "execution_count": 2,
   "id": "79804af7",
   "metadata": {},
   "outputs": [],
   "source": [
    "result = [1,2,4,5,8,6,7]"
   ]
  },
  {
   "cell_type": "markdown",
   "id": "a70c23dd",
   "metadata": {},
   "source": [
    "### Your code below!"
   ]
  },
  {
   "cell_type": "code",
   "execution_count": 3,
   "id": "86bf5849",
   "metadata": {},
   "outputs": [],
   "source": [
    "def remove_duplicates(integers_list):\n",
    "    \n",
    "    new_list = []\n",
    "    \n",
    "    for element in integers_list:\n",
    "        if(element not in new_list):\n",
    "            new_list.append(element)\n",
    "            \n",
    "    return new_list"
   ]
  },
  {
   "cell_type": "code",
   "execution_count": 4,
   "id": "b94c8857",
   "metadata": {},
   "outputs": [
    {
     "name": "stdout",
     "output_type": "stream",
     "text": [
      "[1, 2, 4, 5, 8, 6, 7]\n",
      "[1]\n",
      "[]\n"
     ]
    }
   ],
   "source": [
    "print(remove_duplicates([1,2,4,5,4,8,6,7,1]))\n",
    "print(remove_duplicates([1,1,1,1,1,1,1,1,1,1,1]))\n",
    "print(remove_duplicates([]))"
   ]
  },
  {
   "cell_type": "markdown",
   "id": "12a21b4b",
   "metadata": {},
   "source": [
    "## 2. Remove outliers\n",
    "\n",
    "Write a function that receives a list of integers, as the one below."
   ]
  },
  {
   "cell_type": "code",
   "execution_count": 5,
   "id": "09456dc4",
   "metadata": {},
   "outputs": [],
   "source": [
    "integers_list = [1,2,4,5,4,8,6,7,1]"
   ]
  },
  {
   "cell_type": "markdown",
   "id": "335b9810",
   "metadata": {},
   "source": [
    "The function should remove all the occurrences of the minimal and maximal values from the list. The expected output for the list shown above, should then be"
   ]
  },
  {
   "cell_type": "code",
   "execution_count": 6,
   "id": "3ffc4158",
   "metadata": {},
   "outputs": [],
   "source": [
    "result = [2,4,5,4,6,7]"
   ]
  },
  {
   "cell_type": "markdown",
   "id": "9a26a364",
   "metadata": {},
   "source": [
    "### Your code below!"
   ]
  },
  {
   "cell_type": "code",
   "execution_count": 7,
   "id": "c60e67df",
   "metadata": {},
   "outputs": [],
   "source": [
    "def remove_outliers(integers_list):\n",
    "    \n",
    "    min_val = min(integers_list)\n",
    "    max_val = max(integers_list)\n",
    "    \n",
    "    while(min_val in integers_list):\n",
    "        integers_list.remove(min_val)\n",
    "    while(max_val in integers_list):\n",
    "        integers_list.remove(max_val)\n",
    "        \n",
    "    return integers_list"
   ]
  },
  {
   "cell_type": "code",
   "execution_count": 10,
   "id": "47069fa1",
   "metadata": {},
   "outputs": [
    {
     "name": "stdout",
     "output_type": "stream",
     "text": [
      "[2, 4, 5, 4, 6, 7]\n",
      "[]\n"
     ]
    },
    {
     "ename": "ValueError",
     "evalue": "min() arg is an empty sequence",
     "output_type": "error",
     "traceback": [
      "\u001b[1;31m---------------------------------------------------------------------------\u001b[0m",
      "\u001b[1;31mValueError\u001b[0m                                Traceback (most recent call last)",
      "\u001b[1;32m<ipython-input-10-9e8b05b64b39>\u001b[0m in \u001b[0;36m<module>\u001b[1;34m\u001b[0m\n\u001b[0;32m      1\u001b[0m \u001b[0mprint\u001b[0m\u001b[1;33m(\u001b[0m\u001b[0mremove_outliers\u001b[0m\u001b[1;33m(\u001b[0m\u001b[1;33m[\u001b[0m\u001b[1;36m1\u001b[0m\u001b[1;33m,\u001b[0m\u001b[1;36m2\u001b[0m\u001b[1;33m,\u001b[0m\u001b[1;36m4\u001b[0m\u001b[1;33m,\u001b[0m\u001b[1;36m5\u001b[0m\u001b[1;33m,\u001b[0m\u001b[1;36m4\u001b[0m\u001b[1;33m,\u001b[0m\u001b[1;36m8\u001b[0m\u001b[1;33m,\u001b[0m\u001b[1;36m6\u001b[0m\u001b[1;33m,\u001b[0m\u001b[1;36m7\u001b[0m\u001b[1;33m,\u001b[0m\u001b[1;36m1\u001b[0m\u001b[1;33m]\u001b[0m\u001b[1;33m)\u001b[0m\u001b[1;33m)\u001b[0m\u001b[1;33m\u001b[0m\u001b[1;33m\u001b[0m\u001b[0m\n\u001b[0;32m      2\u001b[0m \u001b[0mprint\u001b[0m\u001b[1;33m(\u001b[0m\u001b[0mremove_outliers\u001b[0m\u001b[1;33m(\u001b[0m\u001b[1;33m[\u001b[0m\u001b[1;36m1\u001b[0m\u001b[1;33m,\u001b[0m\u001b[1;36m1\u001b[0m\u001b[1;33m,\u001b[0m\u001b[1;36m1\u001b[0m\u001b[1;33m,\u001b[0m\u001b[1;36m1\u001b[0m\u001b[1;33m,\u001b[0m\u001b[1;36m1\u001b[0m\u001b[1;33m,\u001b[0m\u001b[1;36m1\u001b[0m\u001b[1;33m,\u001b[0m\u001b[1;36m1\u001b[0m\u001b[1;33m,\u001b[0m\u001b[1;36m1\u001b[0m\u001b[1;33m,\u001b[0m\u001b[1;36m1\u001b[0m\u001b[1;33m,\u001b[0m\u001b[1;36m1\u001b[0m\u001b[1;33m,\u001b[0m\u001b[1;36m1\u001b[0m\u001b[1;33m]\u001b[0m\u001b[1;33m)\u001b[0m\u001b[1;33m)\u001b[0m\u001b[1;33m\u001b[0m\u001b[1;33m\u001b[0m\u001b[0m\n\u001b[1;32m----> 3\u001b[1;33m \u001b[0mprint\u001b[0m\u001b[1;33m(\u001b[0m\u001b[0mremove_outliers\u001b[0m\u001b[1;33m(\u001b[0m\u001b[1;33m[\u001b[0m\u001b[1;33m]\u001b[0m\u001b[1;33m)\u001b[0m\u001b[1;33m)\u001b[0m\u001b[1;33m\u001b[0m\u001b[1;33m\u001b[0m\u001b[0m\n\u001b[0m",
      "\u001b[1;32m<ipython-input-7-a25bc056649a>\u001b[0m in \u001b[0;36mremove_outliers\u001b[1;34m(integers_list)\u001b[0m\n\u001b[0;32m      1\u001b[0m \u001b[1;32mdef\u001b[0m \u001b[0mremove_outliers\u001b[0m\u001b[1;33m(\u001b[0m\u001b[0mintegers_list\u001b[0m\u001b[1;33m)\u001b[0m\u001b[1;33m:\u001b[0m\u001b[1;33m\u001b[0m\u001b[1;33m\u001b[0m\u001b[0m\n\u001b[0;32m      2\u001b[0m \u001b[1;33m\u001b[0m\u001b[0m\n\u001b[1;32m----> 3\u001b[1;33m     \u001b[0mmin_val\u001b[0m \u001b[1;33m=\u001b[0m \u001b[0mmin\u001b[0m\u001b[1;33m(\u001b[0m\u001b[0mintegers_list\u001b[0m\u001b[1;33m)\u001b[0m\u001b[1;33m\u001b[0m\u001b[1;33m\u001b[0m\u001b[0m\n\u001b[0m\u001b[0;32m      4\u001b[0m     \u001b[0mmax_val\u001b[0m \u001b[1;33m=\u001b[0m \u001b[0mmax\u001b[0m\u001b[1;33m(\u001b[0m\u001b[0mintegers_list\u001b[0m\u001b[1;33m)\u001b[0m\u001b[1;33m\u001b[0m\u001b[1;33m\u001b[0m\u001b[0m\n\u001b[0;32m      5\u001b[0m \u001b[1;33m\u001b[0m\u001b[0m\n",
      "\u001b[1;31mValueError\u001b[0m: min() arg is an empty sequence"
     ]
    }
   ],
   "source": [
    "print(remove_outliers([1,2,4,5,4,8,6,7,1]))\n",
    "print(remove_outliers([1,1,1,1,1,1,1,1,1,1,1]))\n",
    "print(remove_outliers([]))"
   ]
  },
  {
   "cell_type": "code",
   "execution_count": 11,
   "id": "6c11f5d2",
   "metadata": {},
   "outputs": [],
   "source": [
    "def remove_outliers_v2(integers_list):\n",
    "    \n",
    "    # Cover for case of empty list\n",
    "    if(len(integers_list) == 0):\n",
    "        return []\n",
    "    \n",
    "    min_val = min(integers_list)\n",
    "    max_val = max(integers_list)\n",
    "    \n",
    "    while(min_val in integers_list):\n",
    "        integers_list.remove(min_val)\n",
    "    while(max_val in integers_list):\n",
    "        integers_list.remove(max_val)\n",
    "        \n",
    "    return integers_list"
   ]
  },
  {
   "cell_type": "code",
   "execution_count": 12,
   "id": "067fda1f",
   "metadata": {},
   "outputs": [
    {
     "name": "stdout",
     "output_type": "stream",
     "text": [
      "[2, 4, 5, 4, 6, 7]\n",
      "[]\n",
      "[]\n"
     ]
    }
   ],
   "source": [
    "print(remove_outliers_v2([1,2,4,5,4,8,6,7,1]))\n",
    "print(remove_outliers_v2([1,1,1,1,1,1,1,1,1,1,1]))\n",
    "print(remove_outliers_v2([]))"
   ]
  },
  {
   "cell_type": "markdown",
   "id": "e049cdd3",
   "metadata": {},
   "source": [
    "## 3. Positive and negative sublists\n",
    "\n",
    "Write a function that receives a list of integers, as the one below."
   ]
  },
  {
   "cell_type": "code",
   "execution_count": 13,
   "id": "7d4a7857",
   "metadata": {},
   "outputs": [],
   "source": [
    "integers_list = [-1,2,0,4,-5,4,0,8,6,-7,1]"
   ]
  },
  {
   "cell_type": "markdown",
   "id": "cb789b18",
   "metadata": {},
   "source": [
    "The function should return three lists, containing all occurrences of strictly positive, strictly negative and zeros inside the given list. Some of these lists might be empty. The expected output for the list above would then be"
   ]
  },
  {
   "cell_type": "code",
   "execution_count": 14,
   "id": "1f4a2de5",
   "metadata": {},
   "outputs": [],
   "source": [
    "positives = [2,4,4,8,6,1]\n",
    "negatives = [-1,-5,-7]\n",
    "zeroes = [0,0]"
   ]
  },
  {
   "cell_type": "markdown",
   "id": "117013dd",
   "metadata": {},
   "source": [
    "### Your code below!"
   ]
  },
  {
   "cell_type": "code",
   "execution_count": 15,
   "id": "4932ba37",
   "metadata": {},
   "outputs": [],
   "source": [
    "def define_subsets(integers_list):\n",
    "    \n",
    "    positives = []\n",
    "    negatives = []\n",
    "    zeroes = []\n",
    "    \n",
    "    for element in integers_list:\n",
    "        if(element > 0):\n",
    "            positives.append(element)\n",
    "        elif(element < 0):\n",
    "            negatives.append(element)\n",
    "        else:\n",
    "            zeroes.append(element)\n",
    "            \n",
    "    return positives, negatives, zeroes"
   ]
  },
  {
   "cell_type": "code",
   "execution_count": 16,
   "id": "65587c3b",
   "metadata": {},
   "outputs": [
    {
     "name": "stdout",
     "output_type": "stream",
     "text": [
      "([2, 4, 4, 8, 6, 1], [-1, -5, -7], [0, 0])\n"
     ]
    }
   ],
   "source": [
    "print(define_subsets([-1,2,0,4,-5,4,0,8,6,-7,1]))"
   ]
  },
  {
   "cell_type": "markdown",
   "id": "8c6ccf60",
   "metadata": {},
   "source": [
    "## 4. List of positive divisors\n",
    "\n",
    "Write a function that receives a single strictly positive integer number, such as the one shown below."
   ]
  },
  {
   "cell_type": "code",
   "execution_count": 17,
   "id": "b05f5896",
   "metadata": {},
   "outputs": [],
   "source": [
    "integer = 12"
   ]
  },
  {
   "cell_type": "markdown",
   "id": "9b5ec57d",
   "metadata": {},
   "source": [
    "The function should return a list, which contains all the proper divisors of this number, sorted in ascending order. In the case of integer = 12 above, the expected output is then"
   ]
  },
  {
   "cell_type": "code",
   "execution_count": 18,
   "id": "6f01233b",
   "metadata": {},
   "outputs": [],
   "source": [
    "divisors = [1,2,3,4,6,12]"
   ]
  },
  {
   "cell_type": "markdown",
   "id": "65ca0034",
   "metadata": {},
   "source": [
    "### Your code below!"
   ]
  },
  {
   "cell_type": "code",
   "execution_count": 19,
   "id": "bbf7a3cb",
   "metadata": {},
   "outputs": [],
   "source": [
    "def positive_divisors(number):\n",
    "    \n",
    "    divisors = []\n",
    "    \n",
    "    for value in range(1, int(number**0.5) + 1):\n",
    "        if(number % value == 0):\n",
    "            divisors.append(value)\n",
    "    \n",
    "    divisors.append(number)\n",
    "    \n",
    "    return divisors"
   ]
  },
  {
   "cell_type": "code",
   "execution_count": 20,
   "id": "9103bed8",
   "metadata": {},
   "outputs": [
    {
     "name": "stdout",
     "output_type": "stream",
     "text": [
      "[1, 2, 3, 12]\n"
     ]
    }
   ],
   "source": [
    "print(positive_divisors(12))"
   ]
  },
  {
   "cell_type": "code",
   "execution_count": 21,
   "id": "04b958cb",
   "metadata": {},
   "outputs": [
    {
     "name": "stdout",
     "output_type": "stream",
     "text": [
      "[1, 5, 25]\n"
     ]
    }
   ],
   "source": [
    "print(positive_divisors(25))"
   ]
  },
  {
   "cell_type": "code",
   "execution_count": 22,
   "id": "d14ddcc1",
   "metadata": {},
   "outputs": [],
   "source": [
    "def positive_divisors_v2(integer):\n",
    "    return [divisor for divisor in range(1, integer + 1) if integer % divisor == 0]"
   ]
  },
  {
   "cell_type": "code",
   "execution_count": 23,
   "id": "72a6de75",
   "metadata": {},
   "outputs": [
    {
     "name": "stdout",
     "output_type": "stream",
     "text": [
      "[1, 2, 3, 4, 6, 12]\n"
     ]
    }
   ],
   "source": [
    "print(positive_divisors_v2(12))"
   ]
  },
  {
   "cell_type": "code",
   "execution_count": null,
   "id": "bba43eaa",
   "metadata": {},
   "outputs": [],
   "source": [
    "def positive_divisors_v3(number):\n",
    "    \n",
    "    divisors = []\n",
    "    second_half = []\n",
    "    \n",
    "    for value in range(1, int(number**0.5) + 1):\n",
    "        print(value)\n",
    "        if(number % value == 0):\n",
    "            print(\"ok\")\n",
    "            divisors.append(value)\n",
    "            second_half.append(number//value)\n",
    "        print(divisors)\n",
    "        print(second_half)\n",
    "        \n",
    "    if(divisors[-1] == second_half[-1]):\n",
    "        divisors = divisors + second_half[:-1][::-1]\n",
    "    else:\n",
    "        divisors = divisors + second_half[::-1]\n",
    "\n",
    "    return divisors"
   ]
  },
  {
   "cell_type": "code",
   "execution_count": 23,
   "id": "63bc3def",
   "metadata": {},
   "outputs": [
    {
     "name": "stdout",
     "output_type": "stream",
     "text": [
      "[1, 2, 3, 4, 6, 12]\n"
     ]
    }
   ],
   "source": [
    "print(positive_divisors_v3(12))"
   ]
  },
  {
   "cell_type": "code",
   "execution_count": null,
   "id": "ecc8ccd8",
   "metadata": {},
   "outputs": [],
   "source": [
    "from time import time\n",
    "\n",
    "start_time = time()\n",
    "for i in range(100):\n",
    "    positive_divisors(100000)\n",
    "end_time = time()\n",
    "print(\"Time (v1): \", end_time - start_time)\n",
    "\n",
    "start_time = time()\n",
    "for i in range(100):\n",
    "    positive_divisors_v3(100000)\n",
    "end_time = time()\n",
    "print(\"Time (v2): \", end_time - start_time)"
   ]
  },
  {
   "cell_type": "markdown",
   "id": "17cd3b7a",
   "metadata": {},
   "source": [
    "## 5. Below and above average\n",
    "\n",
    "Write a function that receives a list of integers, such as the one shown below."
   ]
  },
  {
   "cell_type": "code",
   "execution_count": 24,
   "id": "12298d98",
   "metadata": {},
   "outputs": [],
   "source": [
    "integers_list = [1,2,4,5,4,8,6,8]"
   ]
  },
  {
   "cell_type": "markdown",
   "id": "f2993b06",
   "metadata": {},
   "source": [
    "The function should return three parameters:\n",
    "- the first one is the average value of the elements in the list,\n",
    "- the second is a list containing the elements with values strictly lower than the average value,\n",
    "- and the third is a list containing the elements with values strictly higher than the average value,"
   ]
  },
  {
   "cell_type": "code",
   "execution_count": 25,
   "id": "6a1679e2",
   "metadata": {},
   "outputs": [],
   "source": [
    "avg_value = 4.75\n",
    "lower = [1,2,4,4]\n",
    "higher = [5,8,6,8]"
   ]
  },
  {
   "cell_type": "markdown",
   "id": "6bc1d68c",
   "metadata": {},
   "source": [
    "### Your code below!"
   ]
  },
  {
   "cell_type": "code",
   "execution_count": 1,
   "id": "d15efdb9",
   "metadata": {},
   "outputs": [],
   "source": [
    "def below_above_avg(integers_list):\n",
    "    \n",
    "    lower = []\n",
    "    higher = []\n",
    "    \n",
    "    # Special case, empty list\n",
    "    if(len(integers_list) == 0):\n",
    "        return None, lower, higher\n",
    "    \n",
    "    avg_value = sum(integers_list)/len(integers_list)\n",
    "    \n",
    "    for element in integers_list:\n",
    "        if(element > avg_value):\n",
    "            higher.append(element)\n",
    "        elif(element < avg_value):\n",
    "            lower.append(element)\n",
    "            \n",
    "    return avg_value, lower, higher"
   ]
  },
  {
   "cell_type": "code",
   "execution_count": 2,
   "id": "9cd9c912",
   "metadata": {},
   "outputs": [
    {
     "name": "stdout",
     "output_type": "stream",
     "text": [
      "(4.75, [1, 2, 4, 4], [5, 8, 6, 8])\n"
     ]
    }
   ],
   "source": [
    "print(below_above_avg([1,2,4,5,4,8,6,8]))"
   ]
  },
  {
   "cell_type": "code",
   "execution_count": 4,
   "id": "7097ccbc",
   "metadata": {},
   "outputs": [
    {
     "name": "stdout",
     "output_type": "stream",
     "text": [
      "(1.0, [], [])\n"
     ]
    }
   ],
   "source": [
    "print(below_above_avg([1]))"
   ]
  },
  {
   "cell_type": "code",
   "execution_count": 3,
   "id": "0ab34dd5",
   "metadata": {},
   "outputs": [
    {
     "name": "stdout",
     "output_type": "stream",
     "text": [
      "(None, [], [])\n"
     ]
    }
   ],
   "source": [
    "print(below_above_avg([]))"
   ]
  },
  {
   "cell_type": "markdown",
   "id": "ad8de6ec",
   "metadata": {},
   "source": [
    "## 6. Lottery gains computation\n",
    "\n",
    "Write a function that receives two lists:\n",
    "- the first list contains six elements, which correspond to the numbers of a lottery ticket, bought by the user,\n",
    "- the second list also contains six elements, which correspond to the numbers drawn for this lottery.\n",
    "\n",
    "An example is shown below."
   ]
  },
  {
   "cell_type": "code",
   "execution_count": 28,
   "id": "ed38aff1",
   "metadata": {},
   "outputs": [],
   "source": [
    "ticket_numbers = [2,3,7,17,21,36]\n",
    "winning_numbers = [3,11,13,17,24,28]"
   ]
  },
  {
   "cell_type": "markdown",
   "id": "7683bd16",
   "metadata": {},
   "source": [
    "The function should return the number of winning numbers that the ticket contains, based on the drawn numbers. In the example shown above, it should return"
   ]
  },
  {
   "cell_type": "code",
   "execution_count": 29,
   "id": "e4b14c90",
   "metadata": {},
   "outputs": [],
   "source": [
    "number = 2"
   ]
  },
  {
   "cell_type": "markdown",
   "id": "e95ac4c5",
   "metadata": {},
   "source": [
    "### Your code below!"
   ]
  },
  {
   "cell_type": "code",
   "execution_count": 30,
   "id": "75722ad2",
   "metadata": {},
   "outputs": [],
   "source": [
    "def compute_winning_numbers(ticket_numbers, winning_numbers):\n",
    "    number = 0\n",
    "    for element in ticket_numbers:\n",
    "        if element in winning_numbers:\n",
    "            number += 1\n",
    "    return number"
   ]
  },
  {
   "cell_type": "code",
   "execution_count": 31,
   "id": "2542508c",
   "metadata": {},
   "outputs": [
    {
     "name": "stdout",
     "output_type": "stream",
     "text": [
      "2\n",
      "4\n"
     ]
    }
   ],
   "source": [
    "print(compute_winning_numbers([2,3,7,17,21,36],[3,11,13,17,24,28]))\n",
    "print(compute_winning_numbers([2,3,11,17,24,36],[3,11,13,17,24,28]))"
   ]
  },
  {
   "cell_type": "code",
   "execution_count": 5,
   "id": "2a043e81",
   "metadata": {},
   "outputs": [],
   "source": [
    "def compute_winning_numbers_v2(ticket_numbers, winning_numbers):\n",
    "    # Swapping ticket_numbers and winning_numbers,\n",
    "    # does not alter the logic of the function\n",
    "    number = 0\n",
    "    for element in winning_numbers:\n",
    "        if(element in ticket_numbers):\n",
    "            number += 1\n",
    "    return number"
   ]
  },
  {
   "cell_type": "code",
   "execution_count": 6,
   "id": "a86be26f",
   "metadata": {},
   "outputs": [
    {
     "name": "stdout",
     "output_type": "stream",
     "text": [
      "2\n",
      "4\n"
     ]
    }
   ],
   "source": [
    "print(compute_winning_numbers_v2([2,3,7,17,21,36],[3,11,13,17,24,28]))\n",
    "print(compute_winning_numbers_v2([2,3,11,17,24,36],[3,11,13,17,24,28]))"
   ]
  },
  {
   "cell_type": "markdown",
   "id": "cd6117dc",
   "metadata": {},
   "source": [
    "## 7. Min, max, mean and median\n",
    "\n",
    "Write a function that receives a list, as shown below."
   ]
  },
  {
   "cell_type": "code",
   "execution_count": 32,
   "id": "9d11eedc",
   "metadata": {},
   "outputs": [],
   "source": [
    "numbers_list = [1,2,4,5,7,7,8]"
   ]
  },
  {
   "cell_type": "markdown",
   "id": "6196f26d",
   "metadata": {},
   "source": [
    "The function should return four numbers, corresponding to the min, max, mean and median values in the list"
   ]
  },
  {
   "cell_type": "code",
   "execution_count": 33,
   "id": "251c47c7",
   "metadata": {},
   "outputs": [],
   "source": [
    "min_val = 1\n",
    "max_val = 8\n",
    "mean_val = 4.857142857142857\n",
    "median_val = 5"
   ]
  },
  {
   "cell_type": "code",
   "execution_count": 34,
   "id": "efc6071a",
   "metadata": {},
   "outputs": [],
   "source": [
    "def min_max_mean_median(mylist):\n",
    "    mylist.sort()\n",
    "    a = len(mylist)\n",
    "    print(\"Max value =\", max(mylist))\n",
    "    print(\"Min Value =\" , min(mylist))\n",
    "    mean = sum(mylist)/len(mylist)\n",
    "    print(\"Mean value =\", mean)\n",
    "    if len(mylist) %2 != 0:\n",
    "        median_value = mylist[(a//2)]\n",
    "        print(\"Median value = \", median_value)\n",
    "    else:\n",
    "        index1 = (a//2)\n",
    "        index2 = (a//2)-1\n",
    "        print(index1, index2)\n",
    "        median_value = (mylist[index1] + mylist[index2])/2\n",
    "        print(\"Median value =\", median_value)\n",
    "    return min(mylist), max(mylist), mean, median_value"
   ]
  },
  {
   "cell_type": "code",
   "execution_count": 35,
   "id": "8f65e854",
   "metadata": {},
   "outputs": [
    {
     "name": "stdout",
     "output_type": "stream",
     "text": [
      "Max value = 4\n",
      "Min Value = 1\n",
      "Mean value = 2.5\n",
      "2 1\n",
      "Median value = 2.5\n"
     ]
    },
    {
     "data": {
      "text/plain": [
       "(1, 4, 2.5, 2.5)"
      ]
     },
     "execution_count": 35,
     "metadata": {},
     "output_type": "execute_result"
    }
   ],
   "source": [
    "numbers_list = [1,2,3,4]\n",
    "min_max_mean_median(numbers_list)"
   ]
  },
  {
   "cell_type": "code",
   "execution_count": 36,
   "id": "b1d8fc4b",
   "metadata": {},
   "outputs": [
    {
     "name": "stdout",
     "output_type": "stream",
     "text": [
      "Max value = 5\n",
      "Min Value = 1\n",
      "Mean value = 3.0\n",
      "Median value =  3\n"
     ]
    },
    {
     "data": {
      "text/plain": [
       "(1, 5, 3.0, 3)"
      ]
     },
     "execution_count": 36,
     "metadata": {},
     "output_type": "execute_result"
    }
   ],
   "source": [
    "numbers_list = [1,2,3,4,5]\n",
    "min_max_mean_median(numbers_list)"
   ]
  },
  {
   "cell_type": "markdown",
   "id": "59887a5b",
   "metadata": {},
   "source": [
    "### 8. Convert time (v1)\n",
    "\n",
    "Write a function **convert_hours()**, which receives a single parameter, **total_hours**, a single positive integer denoting a number of hours.\n",
    "\n",
    "The function returns three values, **weeks**, **days** and **hours**, corresponding to the number of weeks, days and hours in **total_hours**.\n",
    "\n",
    "For instance, \n",
    "- if **total_hours = 7**, the function should return **weeks = 0**, **days = 0** and **hours = 7**,\n",
    "- if **total_hours = 55**, the function should return **weeks = 0**, **days = 2** and **hours = 7**,\n",
    "- if **total_hours = 247**, the function should return **weeks = 1**, **days = 3** and **hours = 7**,"
   ]
  },
  {
   "cell_type": "code",
   "execution_count": 37,
   "id": "4d41be07",
   "metadata": {},
   "outputs": [],
   "source": [
    "def convert_hours(total_hours):\n",
    "    weeks = total_hours//(24*7)\n",
    "    days = (total_hours  - weeks*24*7)//24\n",
    "    hours = total_hours - weeks*24*7 - days*24\n",
    "    return weeks, days, hours"
   ]
  },
  {
   "cell_type": "code",
   "execution_count": 38,
   "id": "2df566e4",
   "metadata": {},
   "outputs": [
    {
     "name": "stdout",
     "output_type": "stream",
     "text": [
      "(0, 0, 7)\n",
      "(0, 2, 7)\n",
      "(1, 3, 7)\n"
     ]
    }
   ],
   "source": [
    "print(convert_hours(7))\n",
    "print(convert_hours(55))\n",
    "print(convert_hours(247))"
   ]
  },
  {
   "cell_type": "markdown",
   "id": "07bd967b",
   "metadata": {},
   "source": [
    "### 9. Leap Year\n",
    "\n",
    "Write a function **is_leap_year()**, which receives a single parameter, **year**, a single strictly positive integer denoting a year.\n",
    "\n",
    "The function returns a single boolean, **is_ly**, which is set to True if the year is a leap year and False otherwise.\n",
    "\n",
    "According to Wikipedia, a leap year is defined as follows:\n",
    "\n",
    "*Every year that is exactly divisible by four is a leap year, except for years that are exactly divisible by 100, but these centurial years are leap years if they are exactly divisible by 400. For example, the years 1700, 1800, and 1900 are not leap years, but the years 1600 and 2000 are.*\n",
    "\n",
    "For instance,\n",
    "- if **year = 1996**, the function should return **is_ly = True**,\n",
    "- if **year = 1997**, the function should return **is_ly = False**,\n",
    "- if **year = 1700**, the function should return **is_ly = False**,\n",
    "- if **year = 2000**, the function should return **is_ly = True**."
   ]
  },
  {
   "cell_type": "code",
   "execution_count": 39,
   "id": "3b70b07b",
   "metadata": {},
   "outputs": [],
   "source": [
    "def is_leap_year(year):\n",
    "    if(not year % 4 == 0):\n",
    "        is_ly = False\n",
    "    elif(not year % 100 == 0):\n",
    "        is_ly = True\n",
    "    elif(not year % 400 == 0):\n",
    "        is_ly = False\n",
    "    else:\n",
    "        is_ly = True\n",
    "    return is_ly"
   ]
  },
  {
   "cell_type": "code",
   "execution_count": 40,
   "id": "863467c4",
   "metadata": {},
   "outputs": [
    {
     "name": "stdout",
     "output_type": "stream",
     "text": [
      "True\n",
      "False\n",
      "False\n",
      "True\n"
     ]
    }
   ],
   "source": [
    "print(is_leap_year(1996))\n",
    "print(is_leap_year(1997))\n",
    "print(is_leap_year(1700))\n",
    "print(is_leap_year(2000))"
   ]
  },
  {
   "cell_type": "markdown",
   "id": "d58f4350",
   "metadata": {},
   "source": [
    "### 10. How many divisors\n",
    "\n",
    "Write a function **how_many_divide()**, which receives a single parameter, **number**, a single strictly positive integer denoting a number.\n",
    "\n",
    "The function returns a single integer, **counter**, which corresponds to the number of times the number can be divided by 2, while remaining integer. \n",
    "\n",
    "For instance,\n",
    "- if **number = 3**, the function should return **counter = 0**, because $ 3 = 2^0 \\times 3 $,\n",
    "- if **number = 4**, the function should return **counter = 2**, because $4 = 2^2$,\n",
    "- if **number = 12**, the function should return **counter = 2**, because $12 = 2^2 \\times 3$,\n",
    "- if **number = 64**, the function should return **counter = 6**. because $64 = 2^6$,"
   ]
  },
  {
   "cell_type": "code",
   "execution_count": 41,
   "id": "3531a7bb",
   "metadata": {},
   "outputs": [],
   "source": [
    "def how_many_divide(number):\n",
    "    \n",
    "    # Other cases\n",
    "    counter = 0\n",
    "    can_divide = True\n",
    "    while(can_divide):\n",
    "        counter += 1\n",
    "        can_divide = ((number % (2**counter)) == 0)\n",
    "    return counter - 1"
   ]
  },
  {
   "cell_type": "code",
   "execution_count": 42,
   "id": "3738f511",
   "metadata": {},
   "outputs": [
    {
     "name": "stdout",
     "output_type": "stream",
     "text": [
      "0\n",
      "2\n",
      "2\n",
      "6\n"
     ]
    }
   ],
   "source": [
    "print(how_many_divide(3))\n",
    "print(how_many_divide(4))\n",
    "print(how_many_divide(12))\n",
    "print(how_many_divide(64))"
   ]
  },
  {
   "cell_type": "markdown",
   "id": "2edc9418",
   "metadata": {},
   "source": [
    "### 11. Has a triplet\n",
    "\n",
    "Write a function **find_if_triplet()**, which receives a single parameter, **my_list**, a list of integers, with values in ascending order.\n",
    "\n",
    "The function returns a single boolean, **has_triplet**, which is set to True if an element of the list **my_list** appears at least three times. It returns False otherwise.\n",
    "\n",
    "For instance,\n",
    "- if **my_list = [1,1,1]**, the function should return **has_triplet = True**,\n",
    "- if **my_list = [1,2,3,3,3]**, the function should return **has_triplet = True**,\n",
    "- if **my_list = [1,2,2,2,2,3]**, the function should return **has_triplet = True**,\n",
    "- if **my_list = [1,2,2,3,4,4,5]**, the function should return **has_triplet = False**. "
   ]
  },
  {
   "cell_type": "code",
   "execution_count": 29,
   "id": "48d0ee57",
   "metadata": {},
   "outputs": [],
   "source": [
    "def find_if_triplet(my_list):\n",
    "    for index, value in enumerate(my_list[:-2]):\n",
    "        print(index, value)\n",
    "        has_triplet = value == my_list[index + 1] and value == my_list[index + 2]\n",
    "        if(has_triplet):\n",
    "            return True\n",
    "    return False"
   ]
  },
  {
   "cell_type": "code",
   "execution_count": 30,
   "id": "cb4cd4a0",
   "metadata": {},
   "outputs": [
    {
     "name": "stdout",
     "output_type": "stream",
     "text": [
      "0 1\n",
      "1 2\n",
      "2 3\n",
      "True\n",
      "0 1\n",
      "1 2\n",
      "2 2\n",
      "3 3\n",
      "4 4\n",
      "False\n"
     ]
    }
   ],
   "source": [
    "print(find_if_triplet([1,2,3,3,3,4,4,4]))\n",
    "print(find_if_triplet([1,2,2,3,4,4,5]))"
   ]
  },
  {
   "cell_type": "code",
   "execution_count": 36,
   "id": "153799dc",
   "metadata": {},
   "outputs": [],
   "source": [
    "def is_triplet_v2(my_list):\n",
    "    \"\"\"\n",
    "    WARNING: This is probably the optimized function, but it is damn scary.\n",
    "    \"\"\"\n",
    "    index = 0\n",
    "    while index < len(my_list) - 2:\n",
    "        value = my_list[index]\n",
    "        print(\"------\")\n",
    "        print(index, value)\n",
    "        counter = 1\n",
    "        for index2, value2 in enumerate(my_list[index+1:index+3]):\n",
    "            if(value2 != value):\n",
    "                index = index + index2 + 1\n",
    "                print(\"Index to restart at: \", index)\n",
    "                break\n",
    "            else:\n",
    "                counter += 1\n",
    "                print(\"Counter: \", counter)\n",
    "        if counter == 3:\n",
    "            return True\n",
    "    return False"
   ]
  },
  {
   "cell_type": "code",
   "execution_count": 37,
   "id": "f0e6fceb",
   "metadata": {},
   "outputs": [
    {
     "name": "stdout",
     "output_type": "stream",
     "text": [
      "------\n",
      "0 1\n",
      "Index to restart at:  1\n",
      "------\n",
      "1 2\n",
      "Index to restart at:  2\n",
      "------\n",
      "2 3\n",
      "Counter:  2\n",
      "Counter:  3\n",
      "True\n",
      "------\n",
      "0 1\n",
      "Index to restart at:  1\n",
      "------\n",
      "1 2\n",
      "Counter:  2\n",
      "Index to restart at:  3\n",
      "------\n",
      "3 3\n",
      "Index to restart at:  4\n",
      "------\n",
      "4 4\n",
      "Counter:  2\n",
      "Index to restart at:  6\n",
      "False\n"
     ]
    }
   ],
   "source": [
    "print(is_triplet_v2([1,2,3,3,3,4,4,4]))\n",
    "print(is_triplet_v2([1,2,2,3,4,4,5]))"
   ]
  },
  {
   "cell_type": "markdown",
   "id": "2277c1be",
   "metadata": {},
   "source": [
    "### 12. Is a sum of squares\n",
    "\n",
    "Write a function **is_sum_squares()**, which receives a single parameter, **number**, a strictly positive integer.\n",
    "The function returns a single boolean, **is_sq**, which is set to True if the number can be written as the sum of two squares, and False otherwise.\n",
    "\n",
    "For instance,\n",
    "- if **number = 9**, the function should return **is_sq = True**, because $ 9 = 0^2 + 3^2 $,\n",
    "- if **number = 5**, the function should return **is_sq = True**, because $ 5 = 1^2 + 2^2 $,\n",
    "- if **number = 50**, the function should return **is_sq = True**, because $ 50 = 5^2 + 5^2 $,\n",
    "- if **number = 7**, the function should return **is_sq = False**, because it cannot be written as a sum of two squares."
   ]
  },
  {
   "cell_type": "code",
   "execution_count": 45,
   "id": "a1f21872",
   "metadata": {},
   "outputs": [],
   "source": [
    "def is_sum_squares(number):\n",
    "    \n",
    "    bound = number**0.5\n",
    "    # Shortcut: check if number is already a perfect square?\n",
    "    if(int(bound) == bound):\n",
    "        return True\n",
    "    else:\n",
    "        bound = int(bound)\n",
    "        \n",
    "    # Otherwise check all possible combinations\n",
    "    for number1 in range(bound + 1):\n",
    "        for number2 in range(bound + 1):\n",
    "            if(number1**2 + number2**2 == number):\n",
    "                return True\n",
    "    return False"
   ]
  },
  {
   "cell_type": "code",
   "execution_count": 46,
   "id": "16d7e9a0",
   "metadata": {},
   "outputs": [
    {
     "name": "stdout",
     "output_type": "stream",
     "text": [
      "True\n",
      "True\n",
      "True\n",
      "False\n"
     ]
    }
   ],
   "source": [
    "print(is_sum_squares(9))\n",
    "print(is_sum_squares(5))\n",
    "print(is_sum_squares(50))\n",
    "print(is_sum_squares(7))"
   ]
  },
  {
   "cell_type": "markdown",
   "id": "145462e8",
   "metadata": {},
   "source": [
    "## 13. Convert seconds\n",
    "\n",
    "Write a function **convert_seconds()**, which receives a single parameter, **total_seconds**, a single positive integer denoting a number of seconds.\n",
    "\n",
    "The function returns three values, **hours**, **minutes** and **seconds**, corresponding to the number of hours, minutes and seconds in **total_seconds**.\n",
    "\n",
    "For instance, \n",
    "- if **total_seconds = 7**, the function should return **hours = 0**, **minutes = 0** and **seconds = 7**,\n",
    "- if **total_seconds = 67**, the function should return **hours = 0**, **minutes = 1** and **seconds = 7**,\n",
    "- if **total_seconds = 3625**, the function should return **hours = 1**, **minutes = 0** and **seconds = 25**,"
   ]
  },
  {
   "cell_type": "code",
   "execution_count": 47,
   "id": "5807f046",
   "metadata": {},
   "outputs": [],
   "source": [
    "def convert_seconds(total_seconds):\n",
    "    hours = total_seconds//(60*60)\n",
    "    minutes = (total_seconds - hours*(60*60))//60\n",
    "    seconds = total_seconds - hours*60*60 - minutes*60\n",
    "    return hours, minutes, seconds"
   ]
  },
  {
   "cell_type": "code",
   "execution_count": 48,
   "id": "02ccee4f",
   "metadata": {},
   "outputs": [
    {
     "name": "stdout",
     "output_type": "stream",
     "text": [
      "(0, 0, 7)\n",
      "(0, 1, 7)\n",
      "(1, 0, 25)\n"
     ]
    }
   ],
   "source": [
    "print(convert_seconds(7))\n",
    "print(convert_seconds(67))\n",
    "print(convert_seconds(3625))"
   ]
  },
  {
   "cell_type": "markdown",
   "id": "3ce9dacb",
   "metadata": {},
   "source": [
    "## 14. Can vote\n",
    "\n",
    "Write a function **old_enough()**, which receives a single parameter, **age**, a single strictly positive integer denoting the age of a given person in years.\n",
    "\n",
    "The function returns two parameters:\n",
    "- The first one is a boolean, **can_vote**\n",
    "    - it is set to True, if the person is at least 21 years old,\n",
    "    - it is set to False, if the person's age is strictly lower than 21.\n",
    "- The second one, is a variable **number**\n",
    "    - it is set to None, if the person is at least 21 years old,\n",
    "    - if the person's age is strictly lower than 21, then it consists of the number of years the person will have to wait before being allowed to vote.\n",
    "\n",
    "For instance, \n",
    "- if **age = 42**, the function should return **can_vote = True** and **number = None**,\n",
    "- if **age = 18**, the function should return **can_vote = False** and **number = 3**,\n",
    "- if **age = 21**, the function should return **can_vote = True** and **number = None**."
   ]
  },
  {
   "cell_type": "code",
   "execution_count": 49,
   "id": "73b8b847",
   "metadata": {},
   "outputs": [],
   "source": [
    "def old_enough(age):\n",
    "    if(age>21):\n",
    "        return True, None\n",
    "    else:\n",
    "        return False, 21 - age"
   ]
  },
  {
   "cell_type": "code",
   "execution_count": 50,
   "id": "749671f6",
   "metadata": {},
   "outputs": [
    {
     "name": "stdout",
     "output_type": "stream",
     "text": [
      "(True, None)\n",
      "(False, 3)\n",
      "(False, 0)\n"
     ]
    }
   ],
   "source": [
    "print(old_enough(42))\n",
    "print(old_enough(18))\n",
    "print(old_enough(21))"
   ]
  },
  {
   "cell_type": "markdown",
   "id": "ce2c7ac2",
   "metadata": {},
   "source": [
    "## 15. How many months\n",
    "\n",
    "Write a function **how_many_months()**, which receives two parameters:\n",
    "- initial_amount, a strictly positive, integer corresponding to an amount of dollars in SGD to be deposited on a bank account,\n",
    "- rate, a strictly positive float, corresponding to a monthly growing rate, in percents, for your bank account.\n",
    "\n",
    "Each month, the money currently stored on the bank account will increase by the given rate.\n",
    "For instance, if the initial money deposit is 10000 SGD (i.e. **initial_amount = 10000**), and the rate is 1% (i.e. **rate = 1.0**), then at the end of the first month, the money on the bank account will be\n",
    "\n",
    "$$ 10000 \\times (1 + 1/100) = 10100 $$\n",
    "\n",
    "At the end of the second month, the money in the bank account will be\n",
    "\n",
    "$$ 10100 \\times (1 + 1/100) = 10201 = 10000 \\times (1 + 1/100)^2 $$\n",
    "\n",
    "And so on.\n",
    "\n",
    "The function returns is single integer **months** corresponding to the number of months needed for the bank account to reach 1 million SGD.\n",
    "\n",
    "No additional money will be added to the account, except for the initial deposit.\n",
    "\n",
    "For instance, \n",
    "- if **initial_amount = 10000** and **rate = 1.0**, the function should return **months = 463**,\n",
    "- if **initial_amount = 10000** and **rate = 5.0**, the function should return **months = 95**,\n",
    "- if **initial_amount = 100000** and **rate = 5.0**, the function should return **months = 48**,\n",
    "- if **initial_amount = 1000000** and **rate = 5.0**, the function should return **months = 0**,"
   ]
  },
  {
   "cell_type": "code",
   "execution_count": 51,
   "id": "56e89b88",
   "metadata": {},
   "outputs": [],
   "source": [
    "def how_many_months(initial_amount, rate):\n",
    "    months = 0\n",
    "    while(initial_amount<1000000):\n",
    "        months += 1\n",
    "        initial_amount *= (1+rate/100)\n",
    "    return months"
   ]
  },
  {
   "cell_type": "code",
   "execution_count": 52,
   "id": "95229e69",
   "metadata": {},
   "outputs": [
    {
     "name": "stdout",
     "output_type": "stream",
     "text": [
      "463\n",
      "95\n",
      "48\n",
      "0\n"
     ]
    }
   ],
   "source": [
    "print(how_many_months(10000, 1.0))\n",
    "print(how_many_months(10000, 5.0))\n",
    "print(how_many_months(100000, 5.0))\n",
    "print(how_many_months(1000000, 5.0))"
   ]
  },
  {
   "cell_type": "markdown",
   "id": "a42fb72a",
   "metadata": {},
   "source": [
    "## 16. Are all consecutive\n",
    "\n",
    "Write a function **are_all_consecutive()**, which receives a single parameter, **my_list**, a non-empty list of integers, in ascending order.\n",
    "\n",
    "The function returns a single boolean, **is_cons**, set to True if all the elements in the list are consecutive and False otherwise.\n",
    "\n",
    "For instance, \n",
    "- if **my_list = [1,2,3]**, the function should return **is_cons = True**,\n",
    "- if **my_list = [7,8,9,10]**, the function should return **is_cons = True**,\n",
    "- if **my_list = [8]**, the function should return **is_cons = True**,\n",
    "- if **my_list = [1,2,2,3]**, the function should return **is_cons = False**,\n",
    "- if **my_list = [1,2,4,5]**, the function should return **is_cons = False**,"
   ]
  },
  {
   "cell_type": "code",
   "execution_count": 53,
   "id": "bd832656",
   "metadata": {},
   "outputs": [],
   "source": [
    "def are_all_consecutive(my_list):\n",
    "    min_val = min(my_list)\n",
    "    len_val = len(my_list)\n",
    "    recreated_list = list(range(min_val, min_val + len_val))\n",
    "    boolean = my_list == recreated_list\n",
    "    return boolean"
   ]
  },
  {
   "cell_type": "code",
   "execution_count": 54,
   "id": "de4a6749",
   "metadata": {},
   "outputs": [
    {
     "name": "stdout",
     "output_type": "stream",
     "text": [
      "True\n"
     ]
    }
   ],
   "source": [
    "my_list = [7,8,9,10]\n",
    "print(are_all_consecutive(my_list))"
   ]
  },
  {
   "cell_type": "code",
   "execution_count": 55,
   "id": "f2685cde",
   "metadata": {},
   "outputs": [],
   "source": [
    "def are_all_consecutive_v2(my_list):\n",
    "    for index, value in enumerate(my_list[:-1]):\n",
    "        if(not value == my_list[index + 1] - 1):\n",
    "            return False\n",
    "    return True"
   ]
  },
  {
   "cell_type": "code",
   "execution_count": 56,
   "id": "0ac7af74",
   "metadata": {},
   "outputs": [
    {
     "name": "stdout",
     "output_type": "stream",
     "text": [
      "True\n"
     ]
    }
   ],
   "source": [
    "my_list = [7,8,9,10]\n",
    "print(are_all_consecutive_v2(my_list))"
   ]
  },
  {
   "cell_type": "markdown",
   "id": "4017e13e",
   "metadata": {},
   "source": [
    "## 17. Is prime\n",
    "\n",
    "Write a function **is_prime()**, which receives a single parameter, **number**, a single positive integer.\n",
    "\n",
    "The function returns a boolean **is_p** set to True, if the number is prime and False otherwise.\n",
    "\n",
    "According to Wikipedia:\n",
    "\n",
    "*A prime number is a number, which admits exactly two distinct positive divisors, 1 and the number itself.*\n",
    "\n",
    "For instance, \n",
    "- if **number = 1**, the function should return **is_p = False** (admits only one divisor, which is 1),\n",
    "- if **number = 3**, the function should return **is_p = True** (admits two divisors, which are 1 and 3),\n",
    "- if **number = 6**, the function should return **is_p = False** (admits Four divisors, which are 1, 2, 3 and 6),"
   ]
  },
  {
   "cell_type": "code",
   "execution_count": 57,
   "id": "5111a093",
   "metadata": {},
   "outputs": [],
   "source": [
    "def is_prime(number):\n",
    "    \n",
    "    # Cover for 1 as particular case\n",
    "    if number == 1:\n",
    "        return False\n",
    "    \n",
    "    # Check for all numbers in [2, number]\n",
    "    # If one is a divisor, the number is not prime\n",
    "    for divisor in range(2, int(number**0.5) + 1):\n",
    "        if(number % divisor == 0):\n",
    "            return False\n",
    "    \n",
    "    return True"
   ]
  },
  {
   "cell_type": "code",
   "execution_count": 58,
   "id": "bd4db958",
   "metadata": {},
   "outputs": [
    {
     "name": "stdout",
     "output_type": "stream",
     "text": [
      "False\n",
      "True\n",
      "False\n"
     ]
    }
   ],
   "source": [
    "print(is_prime(1))\n",
    "print(is_prime(3))\n",
    "print(is_prime(6))"
   ]
  },
  {
   "cell_type": "markdown",
   "id": "5f3c5a89",
   "metadata": {},
   "source": [
    "## 18. Unique counter\n",
    "\n",
    "Write a function receives a list of integers, my_list.\n",
    "\n",
    "It returns two lists.\n",
    "- The first one, in res1, contains the values in my_list, without duplicates, in ascending order.\n",
    "- The second one, in res2, contains the number of times each element in res1 appears in my_list\n",
    "\n",
    "For instance:\n",
    "- If my_list = [4,1,1,2,4,3,5,1], then the function should return res1 = [1,2,3,4,5] and res2 = [3,1,1,2,1]."
   ]
  },
  {
   "cell_type": "code",
   "execution_count": 13,
   "id": "b5b0d638",
   "metadata": {},
   "outputs": [],
   "source": [
    "def remove_duplicates(integers_list):\n",
    "    new_list = []\n",
    "    for element in integers_list:\n",
    "        if(element not in new_list):\n",
    "            new_list.append(element)\n",
    "    return new_list\n",
    "\n",
    "def unique_counter(my_list):\n",
    "    \n",
    "    # Remove the duplicates and keep the minimal number of elements\n",
    "    no_duplicates_list = remove_duplicates(my_list)\n",
    "    no_duplicates_list.sort()\n",
    "    \n",
    "    # Count how many times each value in my no_duplicates_list\n",
    "    # appear in the original list\n",
    "    count_list = []\n",
    "    for element in no_duplicates_list:\n",
    "        number_of_times = my_list.count(element)\n",
    "        count_list.append(number_of_times)\n",
    "    \n",
    "    return no_duplicates_list, count_list"
   ]
  },
  {
   "cell_type": "code",
   "execution_count": 14,
   "id": "19b84e4e",
   "metadata": {},
   "outputs": [
    {
     "name": "stdout",
     "output_type": "stream",
     "text": [
      "1\n",
      "[3]\n",
      "2\n",
      "[3, 1]\n",
      "3\n",
      "[3, 1, 1]\n",
      "4\n",
      "[3, 1, 1, 2]\n",
      "5\n",
      "[3, 1, 1, 2, 1]\n",
      "([1, 2, 3, 4, 5], None)\n"
     ]
    }
   ],
   "source": [
    "my_list = [4,1,1,2,4,3,5,1]\n",
    "print(unique_counter(my_list))"
   ]
  },
  {
   "cell_type": "markdown",
   "id": "dec376e1",
   "metadata": {},
   "source": [
    "# 19. Is sublist\n",
    "\n",
    "Write a function that receives two lists list1 and list2.\n",
    "It returns True if list2 is a sublist of list1.\n",
    "\n",
    "For instance:\n",
    "- If list1 = [1,2,3,4,5,2,4,1] and list2 = [3,4,5], it should return True.\n",
    "- If list1 = [1,2,3,4,5,2,4,1] and list2 = [4,5,6], it should return False."
   ]
  },
  {
   "cell_type": "code",
   "execution_count": 26,
   "id": "f2f1bdaf",
   "metadata": {},
   "outputs": [],
   "source": [
    "def is_sublist(list1, list2):\n",
    "    \n",
    "    # Check elements in list2 one at a time\n",
    "    for element in list2:\n",
    "        print(element)\n",
    "    \n",
    "        # If the element does not appear in list1, it cannot be a sublist\n",
    "        if element not in list1:\n",
    "            return False\n",
    "    \n",
    "    # If all the elements pass the test, then it is a sublist\n",
    "    return True"
   ]
  },
  {
   "cell_type": "code",
   "execution_count": 27,
   "id": "ef2deeb4",
   "metadata": {},
   "outputs": [
    {
     "name": "stdout",
     "output_type": "stream",
     "text": [
      "3\n",
      "4\n",
      "5\n",
      "True\n"
     ]
    }
   ],
   "source": [
    "list1 = [1,2,3,4,5,2,4,1]\n",
    "list2 = [3,4,5]\n",
    "print(is_sublist(list1, list2))"
   ]
  },
  {
   "cell_type": "code",
   "execution_count": 28,
   "id": "1dfa53b3",
   "metadata": {},
   "outputs": [
    {
     "name": "stdout",
     "output_type": "stream",
     "text": [
      "4\n",
      "5\n",
      "6\n",
      "False\n"
     ]
    }
   ],
   "source": [
    "list1 = [1,2,3,4,5,2,4,1]\n",
    "list2 = [4,5,6]\n",
    "print(is_sublist(list1, list2))"
   ]
  },
  {
   "cell_type": "markdown",
   "id": "ce73db70",
   "metadata": {},
   "source": [
    "## 20. Sublists of a list (so, you want a real challenge then?)\n",
    "\n",
    "### Important Note\n",
    "\n",
    "Just showing it to you for those of you who really want a really hard challenge!\n",
    "\n",
    "Try at your own risk! Beware, it is nasty!\n",
    "\n",
    "**Suggestion:** use nested for loops and/or recursion!\n",
    "\n",
    "### Problem statement\n",
    "\n",
    "Write a function that receives a list, as shown below.\n",
    "The list will have no duplicates."
   ]
  },
  {
   "cell_type": "code",
   "execution_count": 61,
   "id": "9dcea1ed",
   "metadata": {},
   "outputs": [],
   "source": [
    "numbers_list = [1,2,4,6]"
   ]
  },
  {
   "cell_type": "markdown",
   "id": "65fc2839",
   "metadata": {},
   "source": [
    "The function should return a list of lists, containing all the possible sublists that can be created, using the values in the given list. In the example above, that is"
   ]
  },
  {
   "cell_type": "code",
   "execution_count": 62,
   "id": "0ce02292",
   "metadata": {},
   "outputs": [],
   "source": [
    "result = [[], \\\n",
    "          [1], [2], [4], [6], \\\n",
    "          [1, 2], [1, 4], [1, 6], [2, 4], [2, 6], [4, 6], \\\n",
    "          [1, 2, 4], [1, 2, 6], [1, 4, 6], [2, 4, 6], \\\n",
    "          [1, 2, 4, 6]]"
   ]
  },
  {
   "cell_type": "markdown",
   "id": "ca2e49b2",
   "metadata": {},
   "source": [
    "### Your code below!"
   ]
  },
  {
   "cell_type": "code",
   "execution_count": 63,
   "id": "774708a1",
   "metadata": {},
   "outputs": [],
   "source": [
    "def compute_sublists_with_n_elements(numbers_list, n):\n",
    "    \n",
    "    sublists = []\n",
    "    \n",
    "    if(n == 0):\n",
    "        return [sublists]\n",
    "    \n",
    "    elif(n == 1):\n",
    "        for element in numbers_list:\n",
    "            sublists.append([element])\n",
    "        return sublists\n",
    "    \n",
    "    elif(n == len(numbers_list)):\n",
    "        return [numbers_list]\n",
    "    \n",
    "    else:\n",
    "        for index, element in enumerate(numbers_list):\n",
    "            \n",
    "            part1 = [element]\n",
    "            \n",
    "            if((len(numbers_list) - index) >= (n - 1)):\n",
    "                new_list = numbers_list[index + 1:]\n",
    "                part2 = compute_sublists_with_n_elements(new_list, n - 1)\n",
    "            \n",
    "                for sublist2 in part2:\n",
    "                    sublists.append(part1 + sublist2)\n",
    "                \n",
    "        return sublists"
   ]
  },
  {
   "cell_type": "code",
   "execution_count": 64,
   "id": "deb06eba",
   "metadata": {},
   "outputs": [
    {
     "name": "stdout",
     "output_type": "stream",
     "text": [
      "[[]]\n"
     ]
    }
   ],
   "source": [
    "print(compute_sublists_with_n_elements([1,2,4,6], 0))"
   ]
  },
  {
   "cell_type": "code",
   "execution_count": 65,
   "id": "320bc579",
   "metadata": {},
   "outputs": [
    {
     "name": "stdout",
     "output_type": "stream",
     "text": [
      "[[1], [2], [4], [6]]\n"
     ]
    }
   ],
   "source": [
    "print(compute_sublists_with_n_elements([1,2,4,6], 1))"
   ]
  },
  {
   "cell_type": "code",
   "execution_count": 66,
   "id": "fd68460d",
   "metadata": {},
   "outputs": [
    {
     "name": "stdout",
     "output_type": "stream",
     "text": [
      "[[1, 2], [1, 4], [1, 6], [2, 4], [2, 6], [4, 6]]\n"
     ]
    }
   ],
   "source": [
    "print(compute_sublists_with_n_elements([1,2,4,6], 2))"
   ]
  },
  {
   "cell_type": "code",
   "execution_count": 67,
   "id": "c6775bbd",
   "metadata": {},
   "outputs": [
    {
     "name": "stdout",
     "output_type": "stream",
     "text": [
      "[[1, 2, 4], [1, 2, 6], [1, 4, 6], [2, 4, 6]]\n"
     ]
    }
   ],
   "source": [
    "print(compute_sublists_with_n_elements([1,2,4,6], 3))"
   ]
  },
  {
   "cell_type": "code",
   "execution_count": 68,
   "id": "99189281",
   "metadata": {},
   "outputs": [
    {
     "name": "stdout",
     "output_type": "stream",
     "text": [
      "[[1, 2, 4, 6]]\n"
     ]
    }
   ],
   "source": [
    "out = compute_sublists_with_n_elements([1,2,4,6], 4)\n",
    "print(out)"
   ]
  },
  {
   "cell_type": "code",
   "execution_count": 69,
   "id": "b26f85e3",
   "metadata": {},
   "outputs": [],
   "source": [
    "def sublists_of_list(numbers_list):\n",
    "    \n",
    "    sublists = []\n",
    "    n = len(numbers_list)\n",
    "    \n",
    "    sublists.append([])\n",
    "    \n",
    "    for length in range(1, n + 1):\n",
    "        sublist_length = compute_sublists_with_n_elements(numbers_list, length)\n",
    "        sublists.extend(sublist_length)\n",
    "    \n",
    "    return sublists"
   ]
  },
  {
   "cell_type": "code",
   "execution_count": 70,
   "id": "04035c6a",
   "metadata": {},
   "outputs": [
    {
     "name": "stdout",
     "output_type": "stream",
     "text": [
      "[[], [1], [2], [4], [6], [1, 2], [1, 4], [1, 6], [2, 4], [2, 6], [4, 6], [1, 2, 4], [1, 2, 6], [1, 4, 6], [2, 4, 6], [1, 2, 4, 6]]\n"
     ]
    }
   ],
   "source": [
    "print(sublists_of_list([1,2,4,6]))"
   ]
  },
  {
   "cell_type": "code",
   "execution_count": 71,
   "id": "e0c4f03b",
   "metadata": {
    "scrolled": true
   },
   "outputs": [
    {
     "name": "stdout",
     "output_type": "stream",
     "text": [
      "[[], [1], [2], [4], [6], [7], [1, 2], [1, 4], [1, 6], [1, 7], [2, 4], [2, 6], [2, 7], [4, 6], [4, 7], [6, 7], [1, 2, 4], [1, 2, 6], [1, 2, 7], [1, 4, 6], [1, 4, 7], [1, 6, 7], [2, 4, 6], [2, 4, 7], [2, 6, 7], [4, 6, 7], [1, 2, 4, 6], [1, 2, 4, 7], [1, 2, 6, 7], [1, 4, 6, 7], [2, 4, 6, 7], [1, 2, 4, 6, 7]]\n"
     ]
    }
   ],
   "source": [
    "print(sublists_of_list([1,2,4,6,7]))"
   ]
  },
  {
   "cell_type": "code",
   "execution_count": null,
   "id": "8b597188",
   "metadata": {},
   "outputs": [],
   "source": []
  }
 ],
 "metadata": {
  "kernelspec": {
   "display_name": "Python 3",
   "language": "python",
   "name": "python3"
  },
  "language_info": {
   "codemirror_mode": {
    "name": "ipython",
    "version": 3
   },
   "file_extension": ".py",
   "mimetype": "text/x-python",
   "name": "python",
   "nbconvert_exporter": "python",
   "pygments_lexer": "ipython3",
   "version": "3.9.6"
  }
 },
 "nbformat": 4,
 "nbformat_minor": 5
}
