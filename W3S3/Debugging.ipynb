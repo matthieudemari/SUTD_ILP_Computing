{
 "cells": [
  {
   "cell_type": "markdown",
   "id": "561c1f87",
   "metadata": {},
   "source": [
    "## Can we check that two lists contain the same elements (maybe in a different order)?\n",
    "\n",
    "Sure, here an example below."
   ]
  },
  {
   "cell_type": "code",
   "execution_count": 8,
   "id": "c5059089",
   "metadata": {},
   "outputs": [
    {
     "name": "stdout",
     "output_type": "stream",
     "text": [
      "False\n"
     ]
    }
   ],
   "source": [
    "l1 = [1, 2, 3, 'a']\n",
    "l2 = [3, 2, 1, 'a', [1, 4, 6]]\n",
    "\n",
    "boolean = True\n",
    "for element in l1:\n",
    "    if element in l2:\n",
    "        l2.remove(element)\n",
    "    else:\n",
    "        boolean = False\n",
    "if len(l2) != 0:\n",
    "    boolean = False\n",
    "    \n",
    "print(boolean)"
   ]
  },
  {
   "cell_type": "code",
   "execution_count": 9,
   "id": "c83d92db",
   "metadata": {},
   "outputs": [
    {
     "name": "stdout",
     "output_type": "stream",
     "text": [
      "True\n"
     ]
    }
   ],
   "source": [
    "l1 = [1, 2, 3, 'a']\n",
    "l2 = [3, 2, 1, 'a']\n",
    "\n",
    "boolean = True\n",
    "for element in l1:\n",
    "    if element in l2:\n",
    "        l2.remove(element)\n",
    "    else:\n",
    "        boolean = False\n",
    "if len(l2) != 0:\n",
    "    boolean = False\n",
    "    \n",
    "print(boolean)"
   ]
  },
  {
   "cell_type": "code",
   "execution_count": 10,
   "id": "cec18c88",
   "metadata": {},
   "outputs": [
    {
     "name": "stdout",
     "output_type": "stream",
     "text": [
      "False\n"
     ]
    }
   ],
   "source": [
    "l1 = [1, 2, 4, 'a']\n",
    "l2 = [3, 2, 1, 'a']\n",
    "\n",
    "boolean = True\n",
    "for element in l1:\n",
    "    if element in l2:\n",
    "        l2.remove(element)\n",
    "    else:\n",
    "        boolean = False\n",
    "if len(l2) != 0:\n",
    "    boolean = False\n",
    "    \n",
    "print(boolean)"
   ]
  },
  {
   "cell_type": "markdown",
   "id": "e474dc08",
   "metadata": {},
   "source": [
    "### Is it possible for a function to return multiple variables/lists?\n",
    "\n",
    "Yes, but we have to be careful to have the proper number of \"receiving\" variables when performing the function call (either have the correct number of elements returned by the function, or just one)"
   ]
  },
  {
   "cell_type": "code",
   "execution_count": 14,
   "id": "11422cc4",
   "metadata": {},
   "outputs": [
    {
     "name": "stdout",
     "output_type": "stream",
     "text": [
      "13\n",
      "30\n",
      "[10, 3]\n"
     ]
    }
   ],
   "source": [
    "def f(x, y):\n",
    "    return x + y, x*y, [x,y]\n",
    "\n",
    "x1 = 10\n",
    "x2 = 3\n",
    "\n",
    "y1, y2, y3 = f(x1, x2)\n",
    "print(y1)\n",
    "print(y2)\n",
    "print(y3)"
   ]
  },
  {
   "cell_type": "code",
   "execution_count": 17,
   "id": "09d33cf5",
   "metadata": {},
   "outputs": [
    {
     "name": "stdout",
     "output_type": "stream",
     "text": [
      "(13, 30, [10, 3])\n"
     ]
    }
   ],
   "source": [
    "out = f(x1, x2)\n",
    "print(out)"
   ]
  },
  {
   "cell_type": "code",
   "execution_count": 18,
   "id": "e3024c77",
   "metadata": {},
   "outputs": [
    {
     "ename": "ValueError",
     "evalue": "too many values to unpack (expected 2)",
     "output_type": "error",
     "traceback": [
      "\u001b[1;31m---------------------------------------------------------------------------\u001b[0m",
      "\u001b[1;31mValueError\u001b[0m                                Traceback (most recent call last)",
      "\u001b[1;32m<ipython-input-18-541725644a6b>\u001b[0m in \u001b[0;36m<module>\u001b[1;34m\u001b[0m\n\u001b[1;32m----> 1\u001b[1;33m \u001b[0mout\u001b[0m\u001b[1;33m,\u001b[0m \u001b[0mout2\u001b[0m \u001b[1;33m=\u001b[0m \u001b[0mf\u001b[0m\u001b[1;33m(\u001b[0m\u001b[0mx1\u001b[0m\u001b[1;33m,\u001b[0m \u001b[0mx2\u001b[0m\u001b[1;33m)\u001b[0m\u001b[1;33m\u001b[0m\u001b[1;33m\u001b[0m\u001b[0m\n\u001b[0m\u001b[0;32m      2\u001b[0m \u001b[0mprint\u001b[0m\u001b[1;33m(\u001b[0m\u001b[0mout\u001b[0m\u001b[1;33m)\u001b[0m\u001b[1;33m\u001b[0m\u001b[1;33m\u001b[0m\u001b[0m\n\u001b[0;32m      3\u001b[0m \u001b[0mprint\u001b[0m\u001b[1;33m(\u001b[0m\u001b[0mout2\u001b[0m\u001b[1;33m)\u001b[0m\u001b[1;33m\u001b[0m\u001b[1;33m\u001b[0m\u001b[0m\n",
      "\u001b[1;31mValueError\u001b[0m: too many values to unpack (expected 2)"
     ]
    }
   ],
   "source": [
    "out, out2 = f(x1, x2)\n",
    "print(out)\n",
    "print(out2)"
   ]
  },
  {
   "cell_type": "markdown",
   "id": "258d18f8",
   "metadata": {},
   "source": [
    "## After returning more than 1 variable, is there a way to call just 1 variable\n",
    "\n",
    "Yes, either use the _ variable name to indicate you are not interested in the second one (common way to do this among programmers) or use a bracket notation after the function call to indicate the variable you are interested in"
   ]
  },
  {
   "cell_type": "code",
   "execution_count": 20,
   "id": "c05abae3",
   "metadata": {},
   "outputs": [
    {
     "name": "stdout",
     "output_type": "stream",
     "text": [
      "13\n",
      "30\n"
     ]
    }
   ],
   "source": [
    "def f(x, y):\n",
    "    return x + y, x*y\n",
    "\n",
    "x1 = 10\n",
    "x2 = 3\n",
    "\n",
    "y1, _ = f(x1, x2)\n",
    "print(y1)\n",
    "print(_)"
   ]
  },
  {
   "cell_type": "code",
   "execution_count": 21,
   "id": "a888137c",
   "metadata": {},
   "outputs": [
    {
     "name": "stdout",
     "output_type": "stream",
     "text": [
      "13\n"
     ]
    }
   ],
   "source": [
    "def f(x, y):\n",
    "    return x + y, x*y\n",
    "\n",
    "x1 = 10\n",
    "x2 = 3\n",
    "\n",
    "y1 = f(x1, x2)[0]\n",
    "print(y1)"
   ]
  },
  {
   "cell_type": "markdown",
   "id": "72ecc739",
   "metadata": {},
   "source": [
    "## Can you suggest something for the string distance and palindrome activities in the extra practice from W3S1-2?\n",
    "\n",
    "Convert a string to a list to get a list of characters.\n",
    "Then operate from here."
   ]
  },
  {
   "cell_type": "code",
   "execution_count": 22,
   "id": "a1c5a32f",
   "metadata": {},
   "outputs": [
    {
     "name": "stdout",
     "output_type": "stream",
     "text": [
      "['H', 'e', 'l', 'l', 'o']\n"
     ]
    }
   ],
   "source": [
    "a = \"Hello\"\n",
    "b = list(a)\n",
    "print(b)"
   ]
  },
  {
   "cell_type": "markdown",
   "id": "37eb5bea",
   "metadata": {},
   "source": [
    "## I have no clue what the recursion might be for A20 of W3S3\n",
    "\n",
    "You can generate the sublists of three elements by combining the sublists of 1 elements and the sublists of 2 elements in a certain way.\n",
    "\n",
    "Kind of shown below."
   ]
  },
  {
   "cell_type": "code",
   "execution_count": null,
   "id": "c48829f2",
   "metadata": {},
   "outputs": [],
   "source": [
    "# List of all 1-size possibilities\n",
    "[[1], [2], [4], [6]]\n",
    "\n",
    "# List of all 2-size possibilities\n",
    "[[1, 2], [1, 4], [1, 6], [2, 4], [2, 6], [4, 6]]\n",
    "\n",
    "# List of all 3-size possibilities\n",
    "[[1] + [2, 4], [1] + [2, 6], [1] + [4, 6], [2] + [4, 6]]"
   ]
  },
  {
   "cell_type": "markdown",
   "id": "549672c7",
   "metadata": {},
   "source": [
    "Then, we probably have a recursive formula for computing the sublists of n elements bu using the sublists of n-1 elements and the sublists of 1 element...\n",
    "\n",
    "Something along the lines of a Fibonacci"
   ]
  },
  {
   "cell_type": "code",
   "execution_count": 87,
   "id": "be1ef833",
   "metadata": {},
   "outputs": [
    {
     "ename": "SyntaxError",
     "evalue": "cannot assign to function call (<ipython-input-87-6af0cbf8a5fc>, line 2)",
     "output_type": "error",
     "traceback": [
      "\u001b[1;36m  File \u001b[1;32m\"<ipython-input-87-6af0cbf8a5fc>\"\u001b[1;36m, line \u001b[1;32m2\u001b[0m\n\u001b[1;33m    F(n) = F(n - 1) + F(n - 2)\u001b[0m\n\u001b[1;37m    ^\u001b[0m\n\u001b[1;31mSyntaxError\u001b[0m\u001b[1;31m:\u001b[0m cannot assign to function call\n"
     ]
    }
   ],
   "source": [
    "# Fibonacci was\n",
    "F(n) = F(n - 1) + F(n - 2)\n",
    "\n",
    "# Ours seem to be\n",
    "L(3) = L(1) + L(2)\n",
    "L(4) = L(1) + L(3)\n",
    "L(n) = L(1) + L(n - 1)\n",
    "# But the + operation is not exactly a mathematical addition like in Fibonacci...\n",
    "# It is something else...?"
   ]
  }
 ],
 "metadata": {
  "kernelspec": {
   "display_name": "Python 3",
   "language": "python",
   "name": "python3"
  },
  "language_info": {
   "codemirror_mode": {
    "name": "ipython",
    "version": 3
   },
   "file_extension": ".py",
   "mimetype": "text/x-python",
   "name": "python",
   "nbconvert_exporter": "python",
   "pygments_lexer": "ipython3",
   "version": "3.9.6"
  }
 },
 "nbformat": 4,
 "nbformat_minor": 5
}
