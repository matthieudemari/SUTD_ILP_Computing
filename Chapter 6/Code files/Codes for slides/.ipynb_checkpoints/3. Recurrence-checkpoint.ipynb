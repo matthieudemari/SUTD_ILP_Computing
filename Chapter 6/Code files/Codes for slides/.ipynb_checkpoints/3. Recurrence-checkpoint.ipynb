{
 "cells": [
  {
   "cell_type": "code",
   "execution_count": 12,
   "metadata": {},
   "outputs": [],
   "source": [
    "def factorial_fun_for(n):\n",
    "    result = 1\n",
    "    for i in range(1, n + 1):\n",
    "        result *= i\n",
    "    return result"
   ]
  },
  {
   "cell_type": "code",
   "execution_count": 13,
   "metadata": {},
   "outputs": [
    {
     "name": "stdout",
     "output_type": "stream",
     "text": [
      "1\n"
     ]
    }
   ],
   "source": [
    "print(factorial_fun_for(1))"
   ]
  },
  {
   "cell_type": "code",
   "execution_count": 14,
   "metadata": {},
   "outputs": [
    {
     "name": "stdout",
     "output_type": "stream",
     "text": [
      "6\n"
     ]
    }
   ],
   "source": [
    "print(factorial_fun_for(3))"
   ]
  },
  {
   "cell_type": "code",
   "execution_count": 15,
   "metadata": {
    "scrolled": true
   },
   "outputs": [
    {
     "name": "stdout",
     "output_type": "stream",
     "text": [
      "120\n"
     ]
    }
   ],
   "source": [
    "print(factorial_fun_for(5))"
   ]
  },
  {
   "cell_type": "code",
   "execution_count": 16,
   "metadata": {},
   "outputs": [],
   "source": [
    "def factorial_fun_rec(n):\n",
    "    if n == 1:\n",
    "        value = 1\n",
    "    else:\n",
    "        value = n*factorial_fun_rec(n - 1)\n",
    "    return value"
   ]
  },
  {
   "cell_type": "code",
   "execution_count": 17,
   "metadata": {},
   "outputs": [
    {
     "name": "stdout",
     "output_type": "stream",
     "text": [
      "1\n"
     ]
    }
   ],
   "source": [
    "print(factorial_fun_rec(1))"
   ]
  },
  {
   "cell_type": "code",
   "execution_count": 18,
   "metadata": {},
   "outputs": [
    {
     "name": "stdout",
     "output_type": "stream",
     "text": [
      "6\n"
     ]
    }
   ],
   "source": [
    "print(factorial_fun_rec(3))"
   ]
  },
  {
   "cell_type": "code",
   "execution_count": 19,
   "metadata": {
    "scrolled": false
   },
   "outputs": [
    {
     "name": "stdout",
     "output_type": "stream",
     "text": [
      "120\n"
     ]
    }
   ],
   "source": [
    "print(factorial_fun_rec(5))"
   ]
  },
  {
   "cell_type": "code",
   "execution_count": 8,
   "metadata": {},
   "outputs": [],
   "source": [
    "def factorial_fun_rec(n):\n",
    "    print(\"Function called, with n = {}\".format(n))\n",
    "    if n == 1:\n",
    "        value = 1\n",
    "    else:\n",
    "        value = n*factorial_fun_rec(n - 1)\n",
    "    print(\"Function completed, with n = {}, and return value = {}\".format(n, value))\n",
    "    return value"
   ]
  },
  {
   "cell_type": "code",
   "execution_count": 9,
   "metadata": {},
   "outputs": [
    {
     "name": "stdout",
     "output_type": "stream",
     "text": [
      "Function called, with n = 1\n",
      "Function completed, with n = 1, and return value = 1\n",
      "1\n"
     ]
    }
   ],
   "source": [
    "print(factorial_fun_rec(1))"
   ]
  },
  {
   "cell_type": "code",
   "execution_count": 10,
   "metadata": {},
   "outputs": [
    {
     "name": "stdout",
     "output_type": "stream",
     "text": [
      "Function called, with n = 3\n",
      "Function called, with n = 2\n",
      "Function called, with n = 1\n",
      "Function completed, with n = 1, and return value = 1\n",
      "Function completed, with n = 2, and return value = 2\n",
      "Function completed, with n = 3, and return value = 6\n",
      "6\n"
     ]
    }
   ],
   "source": [
    "print(factorial_fun_rec(3))"
   ]
  },
  {
   "cell_type": "code",
   "execution_count": 11,
   "metadata": {
    "scrolled": false
   },
   "outputs": [
    {
     "name": "stdout",
     "output_type": "stream",
     "text": [
      "Function called, with n = 5\n",
      "Function called, with n = 4\n",
      "Function called, with n = 3\n",
      "Function called, with n = 2\n",
      "Function called, with n = 1\n",
      "Function completed, with n = 1, and return value = 1\n",
      "Function completed, with n = 2, and return value = 2\n",
      "Function completed, with n = 3, and return value = 6\n",
      "Function completed, with n = 4, and return value = 24\n",
      "Function completed, with n = 5, and return value = 120\n",
      "120\n"
     ]
    }
   ],
   "source": [
    "print(factorial_fun_rec(5))"
   ]
  },
  {
   "cell_type": "code",
   "execution_count": null,
   "metadata": {},
   "outputs": [],
   "source": []
  },
  {
   "cell_type": "code",
   "execution_count": null,
   "metadata": {},
   "outputs": [],
   "source": []
  }
 ],
 "metadata": {
  "kernelspec": {
   "display_name": "Python 3",
   "language": "python",
   "name": "python3"
  },
  "language_info": {
   "codemirror_mode": {
    "name": "ipython",
    "version": 3
   },
   "file_extension": ".py",
   "mimetype": "text/x-python",
   "name": "python",
   "nbconvert_exporter": "python",
   "pygments_lexer": "ipython3",
   "version": "3.8.3"
  }
 },
 "nbformat": 4,
 "nbformat_minor": 4
}
