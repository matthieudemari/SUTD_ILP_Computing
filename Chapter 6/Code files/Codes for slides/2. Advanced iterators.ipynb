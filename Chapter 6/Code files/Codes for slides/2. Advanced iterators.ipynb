{
 "cells": [
  {
   "cell_type": "code",
   "execution_count": 1,
   "metadata": {},
   "outputs": [
    {
     "name": "stdout",
     "output_type": "stream",
     "text": [
      "-----\n",
      "0\n",
      "2\n",
      "-----\n",
      "1\n",
      "7\n",
      "-----\n",
      "2\n",
      "8\n",
      "-----\n",
      "3\n",
      "4\n",
      "-----\n",
      "4\n",
      "9\n"
     ]
    }
   ],
   "source": [
    "my_list = [2, 7, 8, 4, 9]\n",
    "for index, value in enumerate(my_list):\n",
    "    # Separator\n",
    "    print(\"-----\")\n",
    "    # Print index and value iteration variables\n",
    "    # on each loop iteration\n",
    "    print(index)\n",
    "    print(value)"
   ]
  },
  {
   "cell_type": "code",
   "execution_count": 2,
   "metadata": {},
   "outputs": [
    {
     "name": "stdout",
     "output_type": "stream",
     "text": [
      "-----\n",
      "2\n",
      "Apple\n",
      "-----\n",
      "7\n",
      "Banana\n",
      "-----\n",
      "8\n",
      "Pineapple\n",
      "-----\n",
      "4\n",
      "Peach\n"
     ]
    }
   ],
   "source": [
    "my_list = [2, 7, 8, 4]\n",
    "my_list2 = [\"Apple\", \"Banana\", \"Pineapple\", \"Peach\"]\n",
    "for number, fruit in zip(my_list, my_list2):\n",
    "    # Separator\n",
    "    print(\"-----\")\n",
    "    # Print index and value iteration variables\n",
    "    # on each loop iteration\n",
    "    print(number)\n",
    "    print(fruit)"
   ]
  },
  {
   "cell_type": "code",
   "execution_count": 8,
   "metadata": {},
   "outputs": [
    {
     "name": "stdout",
     "output_type": "stream",
     "text": [
      "-----\n",
      "2\n",
      "Apple\n",
      "-----\n",
      "2\n",
      "Banana\n",
      "-----\n",
      "7\n",
      "Apple\n",
      "-----\n",
      "7\n",
      "Banana\n",
      "-----\n",
      "8\n",
      "Apple\n",
      "-----\n",
      "8\n",
      "Banana\n"
     ]
    }
   ],
   "source": [
    "my_list = [2, 7, 8]\n",
    "my_list2 = [\"Apple\", \"Banana\"]\n",
    "for number in my_list:\n",
    "    for fruit in my_list2:\n",
    "        # Separator\n",
    "        print(\"-----\")\n",
    "        # Print index and value iteration variables\n",
    "        # on each loop iteration\n",
    "        print(number)\n",
    "        print(fruit)"
   ]
  },
  {
   "cell_type": "code",
   "execution_count": 4,
   "metadata": {},
   "outputs": [
    {
     "name": "stdout",
     "output_type": "stream",
     "text": [
      "-----\n",
      "1\n",
      "-----\n",
      "2\n",
      "-----\n",
      "3\n",
      "Breaking for loop\n"
     ]
    }
   ],
   "source": [
    "my_list = [1, 2, 3, 4, 5]\n",
    "for value in my_list:\n",
    "    # Separator\n",
    "    print(\"-----\")\n",
    "    # Print iteration variable value\n",
    "    print(value)\n",
    "    # Break if\n",
    "    if(value == 3):\n",
    "        print(\"Breaking for loop\")\n",
    "        break"
   ]
  },
  {
   "cell_type": "code",
   "execution_count": 5,
   "metadata": {},
   "outputs": [
    {
     "name": "stdout",
     "output_type": "stream",
     "text": [
      "-----\n",
      "1\n",
      "-----\n",
      "2\n",
      "-----\n",
      "Skipping instruction in for loop\n",
      "-----\n",
      "4\n",
      "-----\n",
      "5\n"
     ]
    }
   ],
   "source": [
    "my_list = [1, 2, 3, 4, 5]\n",
    "for value in my_list:\n",
    "    # Separator\n",
    "    print(\"-----\")\n",
    "    # Continue if\n",
    "    if(value == 3):\n",
    "        print(\"Skipping instructions in for loop\")\n",
    "        continue\n",
    "    # Print iteration variable value\n",
    "    print(value)"
   ]
  },
  {
   "cell_type": "code",
   "execution_count": 6,
   "metadata": {},
   "outputs": [
    {
     "name": "stdout",
     "output_type": "stream",
     "text": [
      "-----\n",
      "1\n",
      "-----\n",
      "2\n",
      "-----\n",
      "3\n",
      "-----\n",
      "4\n",
      "-----\n",
      "5\n",
      "We're done!\n"
     ]
    }
   ],
   "source": [
    "my_list = [1, 2, 3, 4, 5]\n",
    "for value in my_list:\n",
    "    # Separator\n",
    "    print(\"-----\")\n",
    "    # Print iteration variable value\n",
    "    print(value)\n",
    "else:\n",
    "    # Instruction to execute, once the for loop ends\n",
    "    print(\"We're done!\")"
   ]
  },
  {
   "cell_type": "code",
   "execution_count": 9,
   "metadata": {},
   "outputs": [
    {
     "name": "stdout",
     "output_type": "stream",
     "text": [
      "-----\n",
      "1\n",
      "-----\n",
      "2\n",
      "-----\n"
     ]
    }
   ],
   "source": [
    "my_list = [1, 2, 3, 4, 5]\n",
    "for value in my_list:\n",
    "    # Separator\n",
    "    print(\"-----\")\n",
    "    # If break\n",
    "    if(value == 3):\n",
    "        break\n",
    "    # Print iteration variable value\n",
    "    print(value)\n",
    "else:\n",
    "    # Instruction to execute, once the for loop ends\n",
    "    print(\"We're done!\")"
   ]
  },
  {
   "cell_type": "code",
   "execution_count": 1,
   "metadata": {},
   "outputs": [
    {
     "name": "stdout",
     "output_type": "stream",
     "text": [
      "(2, 'a')\n",
      "<class 'tuple'>\n",
      "0 2 a\n",
      "(4, 'b')\n",
      "<class 'tuple'>\n",
      "1 4 b\n",
      "(7, 'c')\n",
      "<class 'tuple'>\n",
      "2 7 c\n",
      "(8, 'd')\n",
      "<class 'tuple'>\n",
      "3 8 d\n"
     ]
    }
   ],
   "source": [
    "my_list = [2, 4, 7, 8]\n",
    "my_list2 = ['a', 'b', 'c', 'd']\n",
    "for index, values in enumerate(zip(my_list, my_list2)):\n",
    "    print(values)\n",
    "    print(type(values))\n",
    "    number, letter = values\n",
    "    print(index, number, letter)"
   ]
  },
  {
   "cell_type": "code",
   "execution_count": null,
   "metadata": {},
   "outputs": [],
   "source": []
  }
 ],
 "metadata": {
  "kernelspec": {
   "display_name": "Python 3",
   "language": "python",
   "name": "python3"
  },
  "language_info": {
   "codemirror_mode": {
    "name": "ipython",
    "version": 3
   },
   "file_extension": ".py",
   "mimetype": "text/x-python",
   "name": "python",
   "nbconvert_exporter": "python",
   "pygments_lexer": "ipython3",
   "version": "3.8.3"
  }
 },
 "nbformat": 4,
 "nbformat_minor": 4
}
