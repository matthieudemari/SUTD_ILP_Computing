{
 "cells": [
  {
   "cell_type": "markdown",
   "metadata": {},
   "source": [
    "# Activity 3 - Best equipment finder v2"
   ]
  },
  {
   "cell_type": "markdown",
   "metadata": {},
   "source": [
    "Let us define an inventory list, below, which contains a list of weapons that our character has acquired during gameplay."
   ]
  },
  {
   "cell_type": "code",
   "execution_count": null,
   "metadata": {},
   "outputs": [],
   "source": [
    "inventory = [\"Dull Sword\", \"Wooden Branch\", \"Master Sword\", \"Iron Sword\", \"Silver Sword\"]"
   ]
  },
  {
   "cell_type": "markdown",
   "metadata": {},
   "source": [
    "Let us also consider we have been given a second list, which contains the attack points for each weapon currently in inventory, in order:"
   ]
  },
  {
   "cell_type": "code",
   "execution_count": null,
   "metadata": {},
   "outputs": [],
   "source": [
    "weapon_stats = [1, 1, 10, 5, 8]"
   ]
  },
  {
   "cell_type": "markdown",
   "metadata": {},
   "source": [
    "### Task\n",
    "\n",
    "Write a function **maximal_attack_points_v2()**, which\n",
    "- receives the *inventory* list as its first parameter,\n",
    "- receives the *weapon_stats* list as its second parameter,\n",
    "- returns as its first parameter, the maximal attack points we would have if we were to equip the best weapon currently in inventory,\n",
    "- and returns as second parameter, the name of the best weapon, which should be equipped."
   ]
  },
  {
   "cell_type": "markdown",
   "metadata": {},
   "source": [
    "### Note\n",
    "\n",
    "As in Activity 2, let us try to design our function, **without** using the max() function from Python!"
   ]
  },
  {
   "cell_type": "markdown",
   "metadata": {},
   "source": [
    "### Your code below!"
   ]
  },
  {
   "cell_type": "code",
   "execution_count": null,
   "metadata": {},
   "outputs": [],
   "source": [
    "def maximal_attack_points_v2(inventory, weapon_stats):\n",
    "    # Once for loop is complete, return maximum_value\n",
    "    return maximum_value, maximum_weapon"
   ]
  },
  {
   "cell_type": "markdown",
   "metadata": {},
   "source": [
    "### Expected results"
   ]
  },
  {
   "cell_type": "code",
   "execution_count": null,
   "metadata": {
    "scrolled": true
   },
   "outputs": [],
   "source": [
    "inventory = [\"Dull Sword\", \"Wooden Branch\", \"Master Sword\", \"Iron Sword\", \"Silver Sword\"]\n",
    "weapon_stats = [1, 1, 10, 5, 8]\n",
    "maximum_value, best_weapon = maximal_attack_points_v2(inventory, weapon_stats)\n",
    "\n",
    "# This should print 10, as the maximal attack value is 10.\n",
    "print(maximum_value)\n",
    "# This should print \"Master Sword\", as this is the weapon with the maximal value.\n",
    "print(best_weapon)"
   ]
  },
  {
   "cell_type": "code",
   "execution_count": null,
   "metadata": {},
   "outputs": [],
   "source": [
    "# If your hero has no weapons yet (i.e. the weapon_stats2 is empty), it should still work\n",
    "inventory2 = []\n",
    "weapon_stats2 = []\n",
    "maximum_value, best_weapon = maximal_attack_points_v2(inventory2, weapon_stats2)\n",
    "\n",
    "# This should print zero, as weapon_stats2 is empty.\n",
    "print(maximum_value)\n",
    "# This should print None, as our inventory is empty.\n",
    "print(best_weapon)"
   ]
  },
  {
   "cell_type": "code",
   "execution_count": null,
   "metadata": {},
   "outputs": [],
   "source": [
    "# If your hero has an inventory of a different size, it should still work.\n",
    "# And it should still work, even if the maximal value appears twice.\n",
    "inventory3 = [\"Big Stone\", \"Wooden Branch\", \"Dull Sword\", \"Silver Sword\", \"Iron Sword\", \"Silver Sword\"]\n",
    "weapon_stats3 = [1, 1, 2, 22, 17, 22]\n",
    "maximum_value, best_weapon = maximal_attack_points_v2(inventory3, weapon_stats3)\n",
    "# This should print 22.\n",
    "print(maximum_value)\n",
    "# This should print Silver Sword.\n",
    "print(best_weapon)"
   ]
  },
  {
   "cell_type": "code",
   "execution_count": null,
   "metadata": {},
   "outputs": [],
   "source": []
  },
  {
   "cell_type": "code",
   "execution_count": null,
   "metadata": {},
   "outputs": [],
   "source": []
  }
 ],
 "metadata": {
  "kernelspec": {
   "display_name": "Python 3 (ipykernel)",
   "language": "python",
   "name": "python3"
  },
  "language_info": {
   "codemirror_mode": {
    "name": "ipython",
    "version": 3
   },
   "file_extension": ".py",
   "mimetype": "text/x-python",
   "name": "python",
   "nbconvert_exporter": "python",
   "pygments_lexer": "ipython3",
   "version": "3.12.5"
  }
 },
 "nbformat": 4,
 "nbformat_minor": 4
}
