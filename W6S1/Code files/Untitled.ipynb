{
 "cells": [
  {
   "cell_type": "code",
   "execution_count": null,
   "id": "828aba6c-e994-4692-a3d0-f85f0a064767",
   "metadata": {},
   "outputs": [
    {
     "name": "stdout",
     "output_type": "stream",
     "text": [
      " | | \n",
      "-----\n",
      " | | \n",
      "-----\n",
      " | | \n",
      "-----\n"
     ]
    },
    {
     "name": "stdin",
     "output_type": "stream",
     "text": [
      "Enter your move (row and column separated by space):  1\n"
     ]
    },
    {
     "name": "stdout",
     "output_type": "stream",
     "text": [
      "Invalid input. Try again.\n"
     ]
    },
    {
     "name": "stdin",
     "output_type": "stream",
     "text": [
      "Enter your move (row and column separated by space):  1\n"
     ]
    },
    {
     "name": "stdout",
     "output_type": "stream",
     "text": [
      "Invalid input. Try again.\n"
     ]
    }
   ],
   "source": [
    "def print_board(board):\n",
    "    for row in board:\n",
    "        print(\"|\".join(row))\n",
    "        print(\"-\" * 5)\n",
    "\n",
    "def is_winner(board, player):\n",
    "    for i in range(3):\n",
    "        if all([cell == player for cell in board[i]]) or \\\n",
    "           all([board[j][i] == player for j in range(3)]):\n",
    "            return True\n",
    "    if board[0][0] == player and board[1][1] == player and board[2][2] == player:\n",
    "        return True\n",
    "    if board[0][2] == player and board[1][1] == player and board[2][0] == player:\n",
    "        return True\n",
    "    return False\n",
    "\n",
    "def get_empty_positions(board):\n",
    "    positions = []\n",
    "    for i in range(3):\n",
    "        for j in range(3):\n",
    "            if board[i][j] == ' ':\n",
    "                positions.append((i, j))\n",
    "    return positions\n",
    "\n",
    "def minimax(board, depth, is_maximizing):\n",
    "    if is_winner(board, 'X'):\n",
    "        return 10 - depth\n",
    "    if is_winner(board, 'O'):\n",
    "        return depth - 10\n",
    "    if not get_empty_positions(board):\n",
    "        return 0\n",
    "\n",
    "    if is_maximizing:\n",
    "        max_eval = float('-inf')\n",
    "        for (i, j) in get_empty_positions(board):\n",
    "            board[i][j] = 'X'\n",
    "            eval = minimax(board, depth+1, False)\n",
    "            board[i][j] = ' '\n",
    "            max_eval = max(max_eval, eval)\n",
    "        return max_eval\n",
    "    else:\n",
    "        min_eval = float('inf')\n",
    "        for (i, j) in get_empty_positions(board):\n",
    "            board[i][j] = 'O'\n",
    "            eval = minimax(board, depth+1, True)\n",
    "            board[i][j] = ' '\n",
    "            min_eval = min(min_eval, eval)\n",
    "        return min_eval\n",
    "\n",
    "def ai_move(board):\n",
    "    best_score = float('-inf')\n",
    "    best_move = None\n",
    "    for (i, j) in get_empty_positions(board):\n",
    "        board[i][j] = 'X'\n",
    "        score = minimax(board, 0, False)\n",
    "        board[i][j] = ' '\n",
    "        if score > best_score:\n",
    "            best_score = score\n",
    "            best_move = (i, j)\n",
    "    return best_move\n",
    "\n",
    "def main():\n",
    "    board = [[' ' for _ in range(3)] for _ in range(3)]\n",
    "    print_board(board)\n",
    "\n",
    "    while True:\n",
    "        if not get_empty_positions(board):\n",
    "            print(\"It's a draw!\")\n",
    "            break\n",
    "\n",
    "        # Human's move\n",
    "        while True:\n",
    "            try:\n",
    "                move = input(\"Enter your move (row and column separated by space): \")\n",
    "                row, col = map(int, move.split())\n",
    "                if board[row][col] == ' ':\n",
    "                    board[row][col] = 'O'\n",
    "                    break\n",
    "                else:\n",
    "                    print(\"Invalid move. Try again.\")\n",
    "            except:\n",
    "                print(\"Invalid input. Try again.\")\n",
    "\n",
    "        print_board(board)\n",
    "        if is_winner(board, 'O'):\n",
    "            print(\"You win!\")\n",
    "            break\n",
    "\n",
    "        if not get_empty_positions(board):\n",
    "            print(\"It's a draw!\")\n",
    "            break\n",
    "\n",
    "        # AI's move\n",
    "        print(\"AI is thinking...\")\n",
    "        move = ai_move(board)\n",
    "        board[move[0]][move[1]] = 'X'\n",
    "        print_board(board)\n",
    "\n",
    "        if is_winner(board, 'X'):\n",
    "            print(\"AI wins!\")\n",
    "            break\n",
    "\n",
    "main()\n"
   ]
  },
  {
   "cell_type": "code",
   "execution_count": null,
   "id": "a9015edd-7fa2-4644-b250-3b0535162a97",
   "metadata": {},
   "outputs": [],
   "source": []
  }
 ],
 "metadata": {
  "kernelspec": {
   "display_name": "Python 3 (ipykernel)",
   "language": "python",
   "name": "python3"
  },
  "language_info": {
   "codemirror_mode": {
    "name": "ipython",
    "version": 3
   },
   "file_extension": ".py",
   "mimetype": "text/x-python",
   "name": "python",
   "nbconvert_exporter": "python",
   "pygments_lexer": "ipython3",
   "version": "3.11.4"
  }
 },
 "nbformat": 4,
 "nbformat_minor": 5
}
