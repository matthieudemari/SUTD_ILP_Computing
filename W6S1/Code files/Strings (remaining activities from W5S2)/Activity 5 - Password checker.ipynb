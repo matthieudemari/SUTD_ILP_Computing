{
 "cells": [
  {
   "cell_type": "markdown",
   "metadata": {},
   "source": [
    "# Activity 5 - Password checker\n",
    "\n",
    "### Task\n",
    "\n",
    "Write a function **password_check()**, which receives a single parameter, *password*, consisting of a string variable.\n",
    "\n",
    "This function returns a boolean with value True if:\n",
    "- the password has at least 8 characters,\n",
    "- the password contains both letters and numbers,\n",
    "- and the password contains at least one special character (i.e. a non-number, non-letter character).\n",
    "\n",
    "Otherwise, the function returns False."
   ]
  },
  {
   "cell_type": "markdown",
   "metadata": {},
   "source": [
    "### Your code below"
   ]
  },
  {
   "cell_type": "code",
   "execution_count": 11,
   "metadata": {},
   "outputs": [],
   "source": [
    "def password_check(password):\n",
    "    return None"
   ]
  },
  {
   "cell_type": "markdown",
   "metadata": {},
   "source": [
    "### Expected results"
   ]
  },
  {
   "cell_type": "code",
   "execution_count": 10,
   "metadata": {},
   "outputs": [
    {
     "name": "stdout",
     "output_type": "stream",
     "text": [
      "----\n",
      "6\n",
      "----\n",
      "8\n",
      "----\n",
      "1\n",
      "----\n",
      "9\n",
      "----\n",
      "8\n",
      "----\n",
      "7\n",
      "----\n",
      "1\n",
      "----\n",
      "P\n",
      "True\n"
     ]
    }
   ],
   "source": [
    "# This should print False\n",
    "print(password_check(\"6819871Pika?7\"))"
   ]
  },
  {
   "cell_type": "code",
   "execution_count": 8,
   "metadata": {},
   "outputs": [
    {
     "name": "stdout",
     "output_type": "stream",
     "text": [
      "----\n",
      "P\n",
      "False\n",
      "----\n",
      "P\n",
      "False\n",
      "----\n",
      "P\n",
      "False\n",
      "----\n",
      "P\n",
      "True\n",
      "----\n",
      "-\n",
      "----\n",
      "-\n",
      "----\n",
      "-\n",
      "----\n",
      "-\n",
      "----\n",
      "-\n",
      "----\n",
      "-\n",
      "----\n",
      "-\n",
      "----\n",
      "-\n",
      "----\n",
      "-\n",
      "----\n",
      "-\n",
      "----\n",
      "-\n",
      "----\n",
      "-\n",
      "False\n"
     ]
    }
   ],
   "source": [
    "# This should print False\n",
    "print(password_check(\"Pikachuuuu\"))\n",
    "# This should print False\n",
    "print(password_check(\"Pikachu999\"))\n",
    "# This should print True\n",
    "print(password_check(\"P1k@chuuu\"))\n",
    "# This should print False\n",
    "print(password_check(\"------------\"))"
   ]
  },
  {
   "cell_type": "code",
   "execution_count": null,
   "metadata": {},
   "outputs": [],
   "source": []
  }
 ],
 "metadata": {
  "kernelspec": {
   "display_name": "Python 3 (ipykernel)",
   "language": "python",
   "name": "python3"
  },
  "language_info": {
   "codemirror_mode": {
    "name": "ipython",
    "version": 3
   },
   "file_extension": ".py",
   "mimetype": "text/x-python",
   "name": "python",
   "nbconvert_exporter": "python",
   "pygments_lexer": "ipython3",
   "version": "3.10.5"
  }
 },
 "nbformat": 4,
 "nbformat_minor": 4
}
