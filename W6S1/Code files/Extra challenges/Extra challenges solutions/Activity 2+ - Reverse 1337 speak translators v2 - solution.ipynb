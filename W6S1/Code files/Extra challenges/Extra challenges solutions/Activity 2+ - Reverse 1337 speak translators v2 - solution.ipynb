{
 "cells": [
  {
   "cell_type": "markdown",
   "metadata": {},
   "source": [
    "# Activity 2+ - Reverse 1337 speak translators v2 - solution"
   ]
  },
  {
   "cell_type": "markdown",
   "metadata": {},
   "source": [
    "From: https://en.wikipedia.org/wiki/Leet\n",
    "\n",
    "**Leet (or \"1337\")**, also known as eleet or leetspeak, is a system of modified spellings used primarily on the Internet.\n",
    "\n",
    "It often uses character replacements in ways that play on the similarity of their glyphs via reflection or other resemblance.\n",
    "\n",
    "For instance, leet speak replaces:\n",
    "- the letters I, with 1,\n",
    "- the letters Z, with 2,\n",
    "- the letters E, with 3,\n",
    "- the letters A, with 4,\n",
    "- the letters S, with 5,\n",
    "- the letters T, with 7,\n",
    "- the letters B, with 8,\n",
    "- the letters O, with 0.\n",
    "\n",
    "For instance, the English sentence **\"HELLO THERE, HOW ARE YOU?\"** will write in leet speak as **\"H3LL0 7H3R3, H0W 4R3 Y0U?\"**."
   ]
  },
  {
   "cell_type": "markdown",
   "metadata": {},
   "source": [
    "### Improvements for v2\n",
    "\n",
    "You now know about dictionaries.\n",
    "\n",
    "We will use a translation dictionary, defined below, whose keys are English characters and whose values are the numbers which should replace the said letter, when we translate English sentences into leet speak.\n",
    "\n",
    "This translation dictionary should help you simplify your function drastically."
   ]
  },
  {
   "cell_type": "code",
   "execution_count": 1,
   "metadata": {},
   "outputs": [],
   "source": [
    "eng_leet_dict = {'I': '1', 'Z': '2', 'E': '3', 'A': '4', \\\n",
    "                 'S': '5', 'T': '7', 'B': '8', 'O': '0'}"
   ]
  },
  {
   "cell_type": "markdown",
   "metadata": {},
   "source": [
    "### Task\n",
    "\n",
    "Your objective is to write a second version of the function **leet_to_eng_v2()**, which receives two parameters:\n",
    "- the first one is *leet_str*, which corresponds to a sentence in English, written in capital letters,\n",
    "- the second one is the translation dictionary *eng_leet_dict*, defined above.\n",
    "\n",
    "The function returns the equivalent sentence in English language, modifying the numbers with letters, by following the rules defined above accordingly."
   ]
  },
  {
   "cell_type": "markdown",
   "metadata": {},
   "source": [
    "### Your code below!\n",
    "\n",
    "The translation dictionary should help you simplify your function drastically."
   ]
  },
  {
   "cell_type": "code",
   "execution_count": 3,
   "metadata": {},
   "outputs": [],
   "source": [
    "def leet_to_eng_v2(leet_str, eng_leet_dict):\n",
    "    \n",
    "    # Initialize an empty eng_str string\n",
    "    eng_str = ''\n",
    "    \n",
    "    # Reverse dictionary\n",
    "    leet_eng_dict = dict(zip(eng_leet_dict.values(), eng_leet_dict.keys()))\n",
    "    \n",
    "    # For loop on string, element-wise\n",
    "    for char in leet_str:\n",
    "        eng_str += leet_eng_dict.get(char, char)\n",
    "            \n",
    "    return eng_str"
   ]
  },
  {
   "cell_type": "markdown",
   "metadata": {},
   "source": [
    "### Expected results"
   ]
  },
  {
   "cell_type": "code",
   "execution_count": 4,
   "metadata": {},
   "outputs": [
    {
     "name": "stdout",
     "output_type": "stream",
     "text": [
      "HELLO THERE, HOW ARE YOU?\n"
     ]
    }
   ],
   "source": [
    "eng_leet_dict = {'I': '1', 'Z': '2', 'E': '3', 'A': '4', \\\n",
    "                 'S': '5', 'T': '7', 'B': '8', 'O': '0'}\n",
    "leet_str = \"H3LL0 7H3R3, H0W 4R3 Y0U?\"\n",
    "# This should print HELLO THERE, HOW ARE YOU?\n",
    "print(leet_to_eng_v2(leet_str, eng_leet_dict))"
   ]
  },
  {
   "cell_type": "code",
   "execution_count": null,
   "metadata": {},
   "outputs": [],
   "source": []
  }
 ],
 "metadata": {
  "kernelspec": {
   "display_name": "Python 3",
   "language": "python",
   "name": "python3"
  },
  "language_info": {
   "codemirror_mode": {
    "name": "ipython",
    "version": 3
   },
   "file_extension": ".py",
   "mimetype": "text/x-python",
   "name": "python",
   "nbconvert_exporter": "python",
   "pygments_lexer": "ipython3",
   "version": "3.8.3"
  }
 },
 "nbformat": 4,
 "nbformat_minor": 4
}
