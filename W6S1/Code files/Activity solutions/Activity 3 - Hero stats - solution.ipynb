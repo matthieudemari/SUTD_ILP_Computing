{
 "cells": [
  {
   "cell_type": "markdown",
   "metadata": {},
   "source": [
    "# Activity 3 - Hero stats - solution"
   ]
  },
  {
   "cell_type": "markdown",
   "metadata": {},
   "source": [
    "### Task\n",
    "\n",
    "Write a function **create_hero()**, which receives three parameters:\n",
    "- **str_pts:** an int corresponding to the strength points of the hero,\n",
    "- **agi_pts:** an int corresponding to the agility points of the hero,\n",
    "- **int_pts:** an int corresponding to the intelligence points of the hero.\n",
    "\n",
    "It returns a dictionary containing the following keys and values:\n",
    "- **str_pts:** an int corresponding to the strength points of the hero,\n",
    "- **agi_pts:** an int corresponding to the agility points of the hero,\n",
    "- **int_pts:** an int corresponding to the intelligence points of the hero,\n",
    "- **HP_pts:** an int corresponding to the lifepoints of the hero, which is 10 points, plus 10 times the number of strength points,\n",
    "- **MP_pts:** an int corresponding to the magic points (MP) of the hero, which is 5 times the number of intelligence points,\n",
    "- **atk_pts:** an int corresponding to the attack points of the hero, which is the sum of the strength, agility and intelligence points.\n",
    "\n",
    "**Note:** In OOP, such a function, which creates an object and its dictionary, based on a few variables, is called a constructor for the object."
   ]
  },
  {
   "cell_type": "markdown",
   "metadata": {},
   "source": [
    "### Your code below!"
   ]
  },
  {
   "cell_type": "code",
   "execution_count": 7,
   "metadata": {},
   "outputs": [],
   "source": [
    "def create_hero(str_pts, agi_pts, int_pts):\n",
    "    # Create dictionary (it is empty right now)\n",
    "    hero_dict = {'str_pts': str_pts, \\\n",
    "                 'agi_pts': agi_pts, \\\n",
    "                 'int_pts': int_pts, \\\n",
    "                 'HP_pts': 10 + 10*str_pts, \\\n",
    "                 'MP_pts': 5*int_pts, \\\n",
    "                 'atk_pts': str_pts + agi_pts + int_pts}\n",
    "    \n",
    "    return hero_dict"
   ]
  },
  {
   "cell_type": "code",
   "execution_count": 2,
   "metadata": {},
   "outputs": [],
   "source": [
    "def create_hero(str_pts, agi_pts, int_pts):\n",
    "    \n",
    "    # Create dictionary and add first values\n",
    "    hero_dict = {\"str_pts\": str_pts, \\\n",
    "                 \"agi_pts\": agi_pts, \\\n",
    "                 \"int_pts\": int_pts}\n",
    "    \n",
    "    # Add HP_pts key\n",
    "    hero_dict[\"HP_pts\"] = 10 + 10*hero_dict[\"str_pts\"]\n",
    "    \n",
    "    # Add MP_pts key\n",
    "    hero_dict[\"MP_pts\"] = 5*hero_dict[\"int_pts\"]\n",
    "    \n",
    "    # Add atk_pts key\n",
    "    hero_dict[\"atk_pts\"] = hero_dict[\"str_pts\"] + hero_dict[\"agi_pts\"] + hero_dict[\"int_pts\"]\n",
    "    \n",
    "    return hero_dict"
   ]
  },
  {
   "cell_type": "markdown",
   "metadata": {},
   "source": [
    "### Expected results"
   ]
  },
  {
   "cell_type": "code",
   "execution_count": 8,
   "metadata": {},
   "outputs": [
    {
     "name": "stdout",
     "output_type": "stream",
     "text": [
      "{'str_pts': 10, 'agi_pts': 5, 'int_pts': 7, 'HP_pts': 110, 'MP_pts': 35, 'atk_pts': 22, 'test': 10}\n"
     ]
    }
   ],
   "source": [
    "str_pts = 10\n",
    "agi_pts = 5\n",
    "int_pts = 7\n",
    "warrior = create_hero(str_pts, agi_pts, int_pts)\n",
    "# This should print {'str_pts': 10, 'agi_pts': 5, 'int_pts': 7, 'HP_pts': 110, 'MP_pts': 35, 'atk_pts': 22}\n",
    "print(warrior)"
   ]
  },
  {
   "cell_type": "code",
   "execution_count": 3,
   "metadata": {},
   "outputs": [
    {
     "name": "stdout",
     "output_type": "stream",
     "text": [
      "{'str_pts': 5, 'agi_pts': 3, 'int_pts': 10, 'HP_pts': 60, 'MP_pts': 50, 'atk_pts': 18}\n"
     ]
    }
   ],
   "source": [
    "str_pts = 5\n",
    "agi_pts = 3\n",
    "int_pts = 10\n",
    "mage = create_hero(str_pts, agi_pts, int_pts)\n",
    "# This should print {'str_pts': 5, 'agi_pts': 3, 'int_pts': 10, 'HP_pts': 60, 'MP_pts': 50, 'atk_pts': 18}\n",
    "print(mage)"
   ]
  },
  {
   "cell_type": "code",
   "execution_count": null,
   "metadata": {},
   "outputs": [],
   "source": []
  },
  {
   "cell_type": "code",
   "execution_count": null,
   "metadata": {},
   "outputs": [],
   "source": []
  }
 ],
 "metadata": {
  "kernelspec": {
   "display_name": "Python 3 (ipykernel)",
   "language": "python",
   "name": "python3"
  },
  "language_info": {
   "codemirror_mode": {
    "name": "ipython",
    "version": 3
   },
   "file_extension": ".py",
   "mimetype": "text/x-python",
   "name": "python",
   "nbconvert_exporter": "python",
   "pygments_lexer": "ipython3",
   "version": "3.11.4"
  }
 },
 "nbformat": 4,
 "nbformat_minor": 4
}
