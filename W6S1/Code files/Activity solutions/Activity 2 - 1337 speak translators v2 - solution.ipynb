{
 "cells": [
  {
   "cell_type": "markdown",
   "metadata": {},
   "source": [
    "# Activity 2 - 1337 speak translators v2 - solution"
   ]
  },
  {
   "cell_type": "markdown",
   "metadata": {},
   "source": [
    "From: https://en.wikipedia.org/wiki/Leet\n",
    "\n",
    "**Leet (or \"1337\")**, also known as eleet or leetspeak, is a system of modified spellings used primarily on the Internet.\n",
    "\n",
    "It often uses character replacements in ways that play on the similarity of their glyphs via reflection or other resemblance.\n",
    "\n",
    "For instance, leet speak replaces:\n",
    "- the letters I, with 1,\n",
    "- the letters Z, with 2,\n",
    "- the letters E, with 3,\n",
    "- the letters A, with 4,\n",
    "- the letters S, with 5,\n",
    "- the letters T, with 7,\n",
    "- the letters B, with 8,\n",
    "- the letters O, with 0.\n",
    "\n",
    "For instance, the English sentence **\"HELLO THERE, HOW ARE YOU?\"** will write in leet speak as **\"H3LL0 7H3R3, H0W 4R3 Y0U?\"**."
   ]
  },
  {
   "cell_type": "markdown",
   "metadata": {},
   "source": [
    "### Improvements for v2\n",
    "\n",
    "You now know about dictionaries.\n",
    "\n",
    "We will use a translation dictionary, defined below, whose keys are english characters and whose values are the numbers which should replace the said letter, when we translate english sentences into leet speak.\n",
    "\n",
    "This translation dictionary should help you simplify your function drastically."
   ]
  },
  {
   "cell_type": "code",
   "execution_count": null,
   "metadata": {},
   "outputs": [],
   "source": [
    "eng_leet_dict = {'I': '1', 'Z': '2', 'E': '3', 'A': '4', \\\n",
    "                 'S': '5', 'T': '7', 'B': '8', 'O': '0'}"
   ]
  },
  {
   "cell_type": "markdown",
   "metadata": {},
   "source": [
    "### Task\n",
    "\n",
    "Your objective is to write a second version of the function **eng_to_leet_v2()**, which receives two parameters:\n",
    "- the first one is *eng_str*, which corresponds to a sentence in English, written in capital letters,\n",
    "- the second one is the translation dictionary *eng_leet_dict*, defined above.\n",
    "\n",
    "The function returns the equivalent sentence in leet speak, modifying the letters with numbers, by following the rules defined above accordingly.\n",
    "\n",
    "As a reminder, below is the first version, which was not using a translation dictionary."
   ]
  },
  {
   "cell_type": "code",
   "execution_count": null,
   "metadata": {},
   "outputs": [],
   "source": [
    "def eng_to_leet_v1(eng_str):\n",
    "    \n",
    "    # Initialize an empty leet string\n",
    "    leet_str = ''\n",
    "    \n",
    "    # For loop on string, element-wise\n",
    "    for char in eng_str:\n",
    "        # Check for I\n",
    "        if char == \"I\":\n",
    "            leet_str += \"1\"\n",
    "        # Check for Z\n",
    "        elif char == \"Z\":\n",
    "            leet_str += \"2\"\n",
    "        # Check for E\n",
    "        elif char == \"E\":\n",
    "            leet_str += \"3\"\n",
    "        # Check for A\n",
    "        elif char == \"A\":\n",
    "            leet_str += \"4\"\n",
    "        # Check for S\n",
    "        elif char == \"S\":\n",
    "            leet_str += \"5\"\n",
    "        # Check for T\n",
    "        elif char == \"T\":\n",
    "            leet_str += \"7\"\n",
    "        # Check for B\n",
    "        elif char == \"B\":\n",
    "            leet_str += \"8\"\n",
    "        # Check for O\n",
    "        elif char == \"O\":\n",
    "            leet_str += \"0\"\n",
    "        # Otherwise\n",
    "        else:\n",
    "            leet_str += char\n",
    "            \n",
    "    return leet_str"
   ]
  },
  {
   "cell_type": "markdown",
   "metadata": {},
   "source": [
    "### Hint (Reminder on get())\n",
    "\n",
    "What is happening is the cells below?\n",
    "\n",
    "Could that be useful?"
   ]
  },
  {
   "cell_type": "code",
   "execution_count": null,
   "metadata": {},
   "outputs": [],
   "source": [
    "eng_leet_dict = {'I': '1', 'Z': '2', 'E': '3', 'A': '4', \\\n",
    "                 'S': '5', 'T': '7', 'B': '8', 'O': '0'}\n",
    "letter = \"E\"\n",
    "new_letter = eng_leet_dict.get(letter, letter)\n",
    "print(new_letter)"
   ]
  },
  {
   "cell_type": "code",
   "execution_count": null,
   "metadata": {},
   "outputs": [],
   "source": [
    "eng_leet_dict = {'I': '1', 'Z': '2', 'E': '3', 'A': '4', \\\n",
    "                 'S': '5', 'T': '7', 'B': '8', 'O': '0'}\n",
    "letter = \"X\"\n",
    "new_letter = eng_leet_dict.get(letter, letter)\n",
    "print(new_letter)"
   ]
  },
  {
   "cell_type": "markdown",
   "metadata": {},
   "source": [
    "### Your code below!\n",
    "\n",
    "The translation dictionary should help you simplify your function drastically."
   ]
  },
  {
   "cell_type": "code",
   "execution_count": null,
   "metadata": {},
   "outputs": [],
   "source": [
    "def eng_to_leet_v2(eng_str, eng_leet_dict):\n",
    "    \n",
    "    # Initialize an empty leet string\n",
    "    leet_str = ''\n",
    "    \n",
    "    # For loop on string, element-wise\n",
    "    for char in eng_str:\n",
    "        if(char in eng_leet_dict.keys()):\n",
    "            leet_str += eng_leet_dict[char]\n",
    "        else:\n",
    "            leet_str += char\n",
    "            \n",
    "    return leet_str"
   ]
  },
  {
   "cell_type": "code",
   "execution_count": null,
   "metadata": {},
   "outputs": [],
   "source": [
    "def eng_to_leet_v2(eng_str, eng_leet_dict):\n",
    "    \n",
    "    # Initialize an empty leet string\n",
    "    leet_str = ''\n",
    "    \n",
    "    # For loop on string, element-wise\n",
    "    for char in eng_str:\n",
    "        leet_str += eng_leet_dict.get(char, char)\n",
    "            \n",
    "    return leet_str"
   ]
  },
  {
   "cell_type": "code",
   "execution_count": 1,
   "metadata": {},
   "outputs": [],
   "source": [
    "def eng_to_leet_v2(eng_str, eng_leet_dict):     \n",
    "    # Pythonic loop version\n",
    "    return ''.join([eng_leet_dict.get(char, char) for char in eng_str])"
   ]
  },
  {
   "cell_type": "markdown",
   "metadata": {},
   "source": [
    "### Expected results"
   ]
  },
  {
   "cell_type": "code",
   "execution_count": 2,
   "metadata": {},
   "outputs": [
    {
     "name": "stdout",
     "output_type": "stream",
     "text": [
      "H3LL0 7H3R3, H0W 4R3 Y0U?\n"
     ]
    }
   ],
   "source": [
    "eng_leet_dict = {'I': '1', 'Z': '2', 'E': '3', 'A': '4', \\\n",
    "                 'S': '5', 'T': '7', 'B': '8', 'O': '0'}\n",
    "eng_str = \"HELLO THERE, HOW ARE YOU?\"\n",
    "# This should print H3LL0 7H3R3, H0W 4R3 Y0U?\n",
    "print(eng_to_leet_v2(eng_str, eng_leet_dict))"
   ]
  },
  {
   "cell_type": "code",
   "execution_count": null,
   "metadata": {},
   "outputs": [],
   "source": []
  }
 ],
 "metadata": {
  "kernelspec": {
   "display_name": "Python 3 (ipykernel)",
   "language": "python",
   "name": "python3"
  },
  "language_info": {
   "codemirror_mode": {
    "name": "ipython",
    "version": 3
   },
   "file_extension": ".py",
   "mimetype": "text/x-python",
   "name": "python",
   "nbconvert_exporter": "python",
   "pygments_lexer": "ipython3",
   "version": "3.11.4"
  }
 },
 "nbformat": 4,
 "nbformat_minor": 4
}
