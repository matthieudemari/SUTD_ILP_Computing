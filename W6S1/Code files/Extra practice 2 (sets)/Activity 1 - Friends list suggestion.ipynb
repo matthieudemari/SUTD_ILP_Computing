{
 "cells": [
  {
   "cell_type": "markdown",
   "metadata": {},
   "source": [
    "# Activity - Friends list suggestion\n",
    "\n",
    "Let us consider three friends: Matt, Sergey and Chris.\n",
    "\n",
    "These three persons have a list of friends, defined as sets below."
   ]
  },
  {
   "cell_type": "code",
   "execution_count": null,
   "metadata": {},
   "outputs": [],
   "source": [
    "matt_friends_set = {\"Oka\", \"Sergey\", \"Chris\"}\n",
    "sergey_friends_set = {\"Chris\", \"Sergey\", \"Norman\", \"Tony\"}\n",
    "chris_friends_set = {\"Norman\", \"Sergey\", \"Natalie\"}"
   ]
  },
  {
   "cell_type": "markdown",
   "metadata": {},
   "source": [
    "Your objective is to write a function, **suggest_friends()**, which will receive all three lists as its parameters, and will suggest friends for the first person (here, Matt).\n",
    "\n",
    "The function should suggest a friend, if and only if:\n",
    "- Matt is not already friend with this person,\n",
    "- Both Sergey and Chris are friends with this person. "
   ]
  },
  {
   "cell_type": "markdown",
   "metadata": {},
   "source": [
    "### Your code below!\n",
    "\n",
    "Ideally, your function should be a single line function, with only a return statement, as the *single_line_function()* shown below."
   ]
  },
  {
   "cell_type": "code",
   "execution_count": null,
   "metadata": {},
   "outputs": [],
   "source": [
    "def single_line_function(x):\n",
    "    return 2*x + 1"
   ]
  },
  {
   "cell_type": "code",
   "execution_count": null,
   "metadata": {},
   "outputs": [],
   "source": [
    "def suggest_friends(matt_friends_set, sergey_friends_set, chris_friends_set):\n",
    "    return None"
   ]
  },
  {
   "cell_type": "markdown",
   "metadata": {},
   "source": [
    "### Expected results"
   ]
  },
  {
   "cell_type": "code",
   "execution_count": null,
   "metadata": {},
   "outputs": [],
   "source": [
    "matt_friends_set = {\"Oka\", \"Sergey\", \"Chris\"}\n",
    "sergey_friends_set = {\"Chris\", \"Sergey\", \"Norman\", \"Tony\"}\n",
    "chris_friends_set = {\"Norman\", \"Sergey\", \"Natalie\"}\n",
    "suggested_friends_set = suggest_friends(matt_friends_set, sergey_friends_set, chris_friends_set)\n",
    "# This should print {'Norman'}\n",
    "print(suggested_friends_set)"
   ]
  },
  {
   "cell_type": "code",
   "execution_count": null,
   "metadata": {},
   "outputs": [],
   "source": [
    "matt_friends_set = {\"Oka\", \"Sergey\", \"Chris\"}\n",
    "sergey_friends_set = {\"Chris\", \"Sergey\", \"Norman\", \"Tony\"}\n",
    "chris_friends_set = {\"Norman\", \"Sergey\", \"Natalie\", \"Tony\"}\n",
    "suggested_friends_set = suggest_friends(matt_friends_set, sergey_friends_set, chris_friends_set)\n",
    "# This should print {'Norman', 'Tony'}\n",
    "print(suggested_friends_set)"
   ]
  },
  {
   "cell_type": "code",
   "execution_count": null,
   "metadata": {},
   "outputs": [],
   "source": []
  }
 ],
 "metadata": {
  "kernelspec": {
   "display_name": "Python 3",
   "language": "python",
   "name": "python3"
  },
  "language_info": {
   "codemirror_mode": {
    "name": "ipython",
    "version": 3
   },
   "file_extension": ".py",
   "mimetype": "text/x-python",
   "name": "python",
   "nbconvert_exporter": "python",
   "pygments_lexer": "ipython3",
   "version": "3.8.3"
  }
 },
 "nbformat": 4,
 "nbformat_minor": 4
}
