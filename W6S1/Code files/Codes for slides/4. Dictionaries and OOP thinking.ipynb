{
 "cells": [
  {
   "cell_type": "code",
   "execution_count": 34,
   "metadata": {},
   "outputs": [
    {
     "name": "stdout",
     "output_type": "stream",
     "text": [
      "{'Name': 'Charmander', 'Type': 'Fire', 'Level': 5, 'HP': 19, 'Attack': 25, 'Defense': 12}\n"
     ]
    }
   ],
   "source": [
    "# Everything can be defined as an object,\n",
    "# i.e. a collection a keys and values.\n",
    "pokemon1 = {\"Name\": \"Charmander\", \\\n",
    "            \"Type\": \"Fire\", \\\n",
    "            \"Level\": 5, \\\n",
    "            \"HP\": 19, \\\n",
    "            \"Attack\": 25, \\\n",
    "            \"Defense\": 12}\n",
    "print(pokemon1)"
   ]
  },
  {
   "cell_type": "code",
   "execution_count": 35,
   "metadata": {},
   "outputs": [
    {
     "name": "stdout",
     "output_type": "stream",
     "text": [
      "{'Name': 'Squirtle', 'Type': 'Water', 'Level': 5, 'HP': 21, 'Attack': 22, 'Defense': 17}\n"
     ]
    }
   ],
   "source": [
    "pokemon2 = {\"Name\": \"Squirtle\", \\\n",
    "            \"Type\": \"Water\",\n",
    "            \"Level\": 5, \\\n",
    "            \"HP\": 21, \\\n",
    "            \"Attack\": 22, \\\n",
    "            \"Defense\": 17}\n",
    "print(pokemon2)"
   ]
  },
  {
   "cell_type": "code",
   "execution_count": 36,
   "metadata": {},
   "outputs": [
    {
     "name": "stdout",
     "output_type": "stream",
     "text": [
      "{('Water', 'Fire'): 2, ('Water', 'Water'): 0.5, ('Water', 'Grass'): 0.5, ('Fire', 'Fire'): 0.5, ('Fire', 'Water'): 0.5, ('Fire', 'Grass'): 2, ('Grass', 'Fire'): 0.5, ('Grass', 'Water'): 2, ('Grass', 'Grass'): 0.5}\n"
     ]
    }
   ],
   "source": [
    "types_table = {(\"Water\", \"Fire\"): 2, \\\n",
    "               (\"Water\", \"Water\"): 0.5, \\\n",
    "               (\"Water\", \"Grass\"): 0.5, \\\n",
    "               (\"Fire\", \"Fire\"): 0.5, \\\n",
    "               (\"Fire\", \"Water\"): 0.5, \\\n",
    "               (\"Fire\", \"Grass\"): 2, \\\n",
    "               (\"Grass\", \"Fire\"): 0.5, \\\n",
    "               (\"Grass\", \"Water\"): 2, \\\n",
    "               (\"Grass\", \"Grass\"): 0.5}\n",
    "print(types_table)"
   ]
  },
  {
   "cell_type": "code",
   "execution_count": 37,
   "metadata": {},
   "outputs": [],
   "source": [
    "def attack(pokemon1, pokemon2, types_table):\n",
    "    # Retrieve attack points from pokemon1\n",
    "    atk_pts_p1 = pokemon1[\"Attack\"]\n",
    "    print(\"atk_pts_p1: \", atk_pts_p1)\n",
    "    # Retrieve defense points from pokemon2\n",
    "    defense_p2 = pokemon2[\"Defense\"]\n",
    "    print(\"defense_p2: \", defense_p2)\n",
    "    # Retrieve type from pokemon1\n",
    "    type_p1 = pokemon1[\"Type\"]\n",
    "    print(\"type_p1: \", type_p1)\n",
    "    # Retrieve type from pokemon2\n",
    "    type_p2 = pokemon2[\"Type\"]\n",
    "    print(\"type_p2: \", type_p2)\n",
    "    # Retrieve multiplying factor\n",
    "    mult_fac = types_table[(type_p1, type_p2)]\n",
    "    print(\"mult_fac: \", mult_fac)\n",
    "    # Damage is (atk - def)*mult_fac\n",
    "    dmg = (atk_pts_p1 - defense_p2)*mult_fac\n",
    "    print(\"dmg: \", dmg)\n",
    "    # Update HP of pokemon2 by inflicting damage\n",
    "    print(\"Previous HP (p2): \", pokemon2[\"HP\"])\n",
    "    pokemon2[\"HP\"] = pokemon2[\"HP\"] - dmg\n",
    "    print(\"New HP (p2): \", pokemon2[\"HP\"])\n",
    "    return pokemon2"
   ]
  },
  {
   "cell_type": "code",
   "execution_count": 38,
   "metadata": {},
   "outputs": [
    {
     "name": "stdout",
     "output_type": "stream",
     "text": [
      "atk_pts_p1:  25\n",
      "defense_p2:  17\n",
      "type_p1:  Fire\n",
      "type_p2:  Water\n",
      "mult_fac:  0.5\n",
      "dmg:  4.0\n",
      "Previous HP (p2):  21\n",
      "New HP (p2):  17.0\n",
      "{'Name': 'Squirtle', 'Type': 'Water', 'Level': 5, 'HP': 17.0, 'Attack': 22, 'Defense': 17}\n"
     ]
    }
   ],
   "source": [
    "# Pokemon1 attacks pokemon2\n",
    "pokemon2 = attack(pokemon1, pokemon2, types_table)\n",
    "# Print updated pokemon2\n",
    "print(pokemon2)"
   ]
  },
  {
   "cell_type": "code",
   "execution_count": null,
   "metadata": {},
   "outputs": [],
   "source": []
  }
 ],
 "metadata": {
  "kernelspec": {
   "display_name": "Python 3",
   "language": "python",
   "name": "python3"
  },
  "language_info": {
   "codemirror_mode": {
    "name": "ipython",
    "version": 3
   },
   "file_extension": ".py",
   "mimetype": "text/x-python",
   "name": "python",
   "nbconvert_exporter": "python",
   "pygments_lexer": "ipython3",
   "version": "3.8.3"
  }
 },
 "nbformat": 4,
 "nbformat_minor": 4
}
