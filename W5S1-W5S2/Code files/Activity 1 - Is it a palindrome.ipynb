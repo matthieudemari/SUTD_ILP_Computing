{
 "cells": [
  {
   "cell_type": "markdown",
   "metadata": {},
   "source": [
    "# Activity 1 - Is it a palindrome\n",
    "\n",
    "From: https://en.wikipedia.org/wiki/Palindrome\n",
    "\n",
    "A **palindrome** is a word, number, phrase, or other sequence of characters which reads the same backward as forward, such as **madam**, **racecar**.\n",
    "\n",
    "There are also **numeric palindromes**, including date/time stamps using short digits **11/11/11 11:11** and long digits **02/02/2020**.\n",
    "\n",
    "**Sentence-length palindromes** may be written when allowances are made for adjustments to capital letters, punctuation, and word dividers, such as **\"A man, a plan, a canal, Panama!\"**."
   ]
  },
  {
   "cell_type": "markdown",
   "metadata": {},
   "source": [
    "### Task\n",
    "\n",
    "Write a function **is_palindrome()**, which receives a single word, in a string variable **word** as its sole input parameter. It should return **True** if the string in question is a palindrome; and **False** otherwise."
   ]
  },
  {
   "cell_type": "markdown",
   "metadata": {},
   "source": [
    "### Your code below!"
   ]
  },
  {
   "cell_type": "code",
   "execution_count": 1,
   "metadata": {},
   "outputs": [],
   "source": [
    "def is_palindrome(word):\n",
    "    return None"
   ]
  },
  {
   "cell_type": "markdown",
   "metadata": {},
   "source": [
    "### Expected results"
   ]
  },
  {
   "cell_type": "code",
   "execution_count": 2,
   "metadata": {},
   "outputs": [
    {
     "name": "stdout",
     "output_type": "stream",
     "text": [
      "girafarig\n",
      "True\n",
      "True\n",
      "uhcakip\n",
      "False\n",
      "False\n",
      "kadok\n",
      "False\n",
      "False\n"
     ]
    }
   ],
   "source": [
    "# This should print True\n",
    "print(is_palindrome(\"girafarig\"))\n",
    "# This should print False\n",
    "print(is_palindrome(\"pikachu\"))"
   ]
  },
  {
   "cell_type": "code",
   "execution_count": null,
   "metadata": {},
   "outputs": [],
   "source": []
  }
 ],
 "metadata": {
  "kernelspec": {
   "display_name": "Python 3 (ipykernel)",
   "language": "python",
   "name": "python3"
  },
  "language_info": {
   "codemirror_mode": {
    "name": "ipython",
    "version": 3
   },
   "file_extension": ".py",
   "mimetype": "text/x-python",
   "name": "python",
   "nbconvert_exporter": "python",
   "pygments_lexer": "ipython3",
   "version": "3.10.5"
  }
 },
 "nbformat": 4,
 "nbformat_minor": 4
}
