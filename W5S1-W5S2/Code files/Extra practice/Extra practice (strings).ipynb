{
 "cells": [
  {
   "cell_type": "markdown",
   "metadata": {},
   "source": [
    "# Length\n",
    "\n",
    "Write a program that ask the user to input a word and returns the number of letters in the word.\n",
    "\n",
    "You may not use the len() function."
   ]
  },
  {
   "cell_type": "code",
   "execution_count": null,
   "metadata": {},
   "outputs": [],
   "source": [
    "def my_len(string):\n",
    "    return number_of_characters"
   ]
  },
  {
   "cell_type": "markdown",
   "metadata": {},
   "source": [
    "# In\n",
    "\n",
    "Write a function that receives a word and a letter, as strings.\n",
    "\n",
    "It should return True is the letter appears in the word and False otherwise.\n",
    "\n",
    "You may not use the in keyword (unless you use it in a for statement as in for char in word)."
   ]
  },
  {
   "cell_type": "code",
   "execution_count": null,
   "metadata": {},
   "outputs": [],
   "source": []
  },
  {
   "cell_type": "markdown",
   "metadata": {},
   "source": [
    "# Find\n",
    "\n",
    "Write a function that receives a word and a letter, as strings.\n",
    "\n",
    "It should return a list of indexes at which the letter appears in the word.\n",
    "\n",
    "If the letter does not appear, it returns None.\n",
    "\n",
    "You may not use the find() function."
   ]
  },
  {
   "cell_type": "code",
   "execution_count": null,
   "metadata": {},
   "outputs": [],
   "source": []
  },
  {
   "cell_type": "markdown",
   "metadata": {},
   "source": [
    "# Isdigit\n",
    "\n",
    "Write a function that receives a string.\n",
    "\n",
    "It returns True if all characters are digits and False otherwise.\n",
    "\n",
    "You may not use the isdigit(), isalpha() and isalnum() functions."
   ]
  },
  {
   "cell_type": "code",
   "execution_count": null,
   "metadata": {},
   "outputs": [],
   "source": []
  },
  {
   "cell_type": "markdown",
   "metadata": {},
   "source": [
    "# Replace all\n",
    "\n",
    "Write a function that receives the strings s1, s2 and s3.\n",
    "\n",
    "It shall replace all the occurences of s2 in s1 with s3.\n",
    "\n",
    "You may not use the replace() function."
   ]
  },
  {
   "cell_type": "code",
   "execution_count": null,
   "metadata": {},
   "outputs": [],
   "source": []
  },
  {
   "cell_type": "markdown",
   "metadata": {},
   "source": [
    "# Sum digits\n",
    "\n",
    "Write a function that receives an integer.\n",
    "\n",
    "It returns the sum of its digits."
   ]
  },
  {
   "cell_type": "code",
   "execution_count": null,
   "metadata": {},
   "outputs": [],
   "source": []
  },
  {
   "cell_type": "markdown",
   "metadata": {},
   "source": [
    "# Is it lowercase\n",
    "\n",
    "Write a function that receives a string and returns True if all letters are lowercase, and False otherwise."
   ]
  },
  {
   "cell_type": "code",
   "execution_count": null,
   "metadata": {},
   "outputs": [],
   "source": []
  }
 ],
 "metadata": {
  "kernelspec": {
   "display_name": "Python 3",
   "language": "python",
   "name": "python3"
  },
  "language_info": {
   "codemirror_mode": {
    "name": "ipython",
    "version": 3
   },
   "file_extension": ".py",
   "mimetype": "text/x-python",
   "name": "python",
   "nbconvert_exporter": "python",
   "pygments_lexer": "ipython3",
   "version": "3.9.6"
  }
 },
 "nbformat": 4,
 "nbformat_minor": 4
}
