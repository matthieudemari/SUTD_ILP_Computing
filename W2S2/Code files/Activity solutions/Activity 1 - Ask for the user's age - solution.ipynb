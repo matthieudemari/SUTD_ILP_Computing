{
 "cells": [
  {
   "cell_type": "markdown",
   "metadata": {},
   "source": [
    "# Activity 1 - Ask for the user's age - solution"
   ]
  },
  {
   "cell_type": "markdown",
   "metadata": {},
   "source": [
    "### Tasks\n",
    "\n",
    "Write a function **ask_user_age()**, as described below.\n",
    "- It receives no parameters and returns no parameters.\n",
    "- It first asks for the user to input its age, and retrieves the info from the user.\n",
    "- If the age is negative (0 included), the function should print a message that reads \"Your age cannot be negative, it must be at least 1.\"\n",
    "- If the age given by the user is larger than 122 (oldest person on record, Jeanne Calment[1]), then the print should display \"I really doubt you are ___ years old...\" with the blank filled accordingly.\n",
    "- Otherwise, the function should print \"Oh, you are ___ years old? That's cool!\", with the blank filled accordingly.\n",
    "\n",
    "Do not forget to test your function, on all three possible cases, to verify it works.\n",
    "\n",
    "[1] https://en.wikipedia.org/wiki/List_of_the_verified_oldest_people"
   ]
  },
  {
   "cell_type": "markdown",
   "metadata": {},
   "source": [
    "### Your code below!"
   ]
  },
  {
   "cell_type": "code",
   "execution_count": 5,
   "metadata": {},
   "outputs": [],
   "source": [
    "def ask_user_age():\n",
    "    \n",
    "    # Ask for user's age via input()\n",
    "    # Do not forget to convert to int!\n",
    "    user_age = int(input(\"What is your age? (integer number expected): \"))\n",
    "    \n",
    "    # Display message accordingly\n",
    "    if(user_age <= 0):\n",
    "        print(\"Your age cannot be negative, it must be at least 1.\")\n",
    "    elif(user_age > 122):\n",
    "        print(\"I really doubt you are {} years old...\".format(user_age))\n",
    "    elif(user_age > 0 and user_age <= 122):\n",
    "        print(\"Oh, you are {} years old? That's cool!\".format(user_age))"
   ]
  },
  {
   "cell_type": "code",
   "execution_count": 2,
   "metadata": {},
   "outputs": [],
   "source": [
    "def ask_user_age():\n",
    "    \n",
    "    # Ask for user's age via input()\n",
    "    # Do not forget to convert to int!\n",
    "    user_age = int(input(\"What is your age? (integer number expected): \"))\n",
    "    \n",
    "    # Display message accordingly\n",
    "    if(user_age <= 0):\n",
    "        print(\"Your age cannot be negative, it must be at least 1.\")\n",
    "    elif(user_age > 122):\n",
    "        print(\"I really doubt you are {} years old...\".format(user_age))\n",
    "    else:\n",
    "        print(\"Oh, you are {} years old? That's cool!\".format(user_age))"
   ]
  },
  {
   "cell_type": "code",
   "execution_count": 6,
   "metadata": {},
   "outputs": [
    {
     "name": "stdout",
     "output_type": "stream",
     "text": [
      "What is your age? (integer number expected): -65\n",
      "Your age cannot be negative, it must be at least 1.\n"
     ]
    }
   ],
   "source": [
    "ask_user_age()"
   ]
  },
  {
   "cell_type": "code",
   "execution_count": 7,
   "metadata": {},
   "outputs": [
    {
     "name": "stdout",
     "output_type": "stream",
     "text": [
      "What is your age? (integer number expected): 51671614\n",
      "I really doubt you are 51671614 years old...\n"
     ]
    }
   ],
   "source": [
    "ask_user_age()"
   ]
  },
  {
   "cell_type": "code",
   "execution_count": 8,
   "metadata": {},
   "outputs": [
    {
     "name": "stdout",
     "output_type": "stream",
     "text": [
      "What is your age? (integer number expected): 31\n",
      "Oh, you are 31 years old? That's cool!\n"
     ]
    }
   ],
   "source": [
    "ask_user_age()"
   ]
  },
  {
   "cell_type": "code",
   "execution_count": null,
   "metadata": {},
   "outputs": [],
   "source": []
  }
 ],
 "metadata": {
  "kernelspec": {
   "display_name": "Python 3 (ipykernel)",
   "language": "python",
   "name": "python3"
  },
  "language_info": {
   "codemirror_mode": {
    "name": "ipython",
    "version": 3
   },
   "file_extension": ".py",
   "mimetype": "text/x-python",
   "name": "python",
   "nbconvert_exporter": "python",
   "pygments_lexer": "ipython3",
   "version": "3.10.5"
  }
 },
 "nbformat": 4,
 "nbformat_minor": 4
}
