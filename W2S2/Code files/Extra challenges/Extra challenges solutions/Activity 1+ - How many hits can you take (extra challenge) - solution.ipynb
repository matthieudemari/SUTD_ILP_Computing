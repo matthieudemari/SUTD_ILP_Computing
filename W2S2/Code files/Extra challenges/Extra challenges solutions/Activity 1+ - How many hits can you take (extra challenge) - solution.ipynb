{
 "cells": [
  {
   "cell_type": "markdown",
   "metadata": {},
   "source": [
    "# Activity 1+ - How many hits can you take (extra challenge) - solution"
   ]
  },
  {
   "cell_type": "markdown",
   "metadata": {},
   "source": [
    "### Tasks\n",
    "\n",
    "Your main character currently has a number of lifepoints, defined with the variable *lifepoints_number*.\n",
    "\n",
    "Your mentor in the game gives you the following challenge: he will hit you, for a given number of times $ n $.\n",
    "- The first hit will make you lose one lifepoint,\n",
    "- the second, two lifepoints,\n",
    "- the third, three lifepoints,\n",
    "- and so on.\n",
    "- If you take too many hits and your lifepoints fall below zero, you fail the challenge.\n",
    "- Assuming you survive after all $ n $ hits (i.e. your lifepoints are still strictly positive after all $ n $ hits), he will give you $ n^2 $ coins.\n",
    "\n",
    "Write a function **maximal_coins_number()**, which\n",
    "- receives your current number of lifepoints, i.e. the variable *lifepoints_number*,\n",
    "- and returns the maximal number of coins you can hope to obtain from the challenge\n",
    "- as well the number of lifepoints that will be remaining after all $ n $ hits were delivered."
   ]
  },
  {
   "cell_type": "markdown",
   "metadata": {},
   "source": [
    "### Extra challenge requirements:\n",
    "- **No if/while:** you should not use an **if** or a **while** statement in your function *maximal_coins_number()*.\n",
    "\n",
    "**Hint:** The following result may help... For any number $ n $, integer, strictly positive, we have:\n",
    "\n",
    "$$ 1 + 2 + ... + n = \\frac{n(n+1)}{2} $$"
   ]
  },
  {
   "cell_type": "markdown",
   "metadata": {},
   "source": [
    "### The intuition\n",
    "\n",
    "Let us denote the number of lifepoints as l.\n",
    "\n",
    "Basically, we want to find the largest value of $ n $ such that:\n",
    "\n",
    "$$ \\frac{n(n+1)}{2} < l $$\n",
    "\n",
    "Or in other words $ n $ such that:\n",
    "\n",
    "$$ n^2 + n < 2l$$\n",
    "\n",
    "This requires to solve a quadratic equation, which only admits one positive root, $ n_1 $, defined as:\n",
    "\n",
    "$$ n_1 = \\frac{-1 + \\sqrt{1 + 8l}}{2} $$\n",
    "\n",
    "And the floor-rounded value of $ n_1 $, which can be obtained by converting $ n_1 $ into an int(), will give the maximal number of hits you can take before your lifepoints falling below zero.\n",
    "\n",
    "Once we have this quantity, the rest is easy!"
   ]
  },
  {
   "cell_type": "markdown",
   "metadata": {},
   "source": [
    "### Your code below!"
   ]
  },
  {
   "cell_type": "code",
   "execution_count": 1,
   "metadata": {},
   "outputs": [],
   "source": [
    "def maximal_coins_number(lifepoints_number):\n",
    "    #maximal_number_of_hits = int((-1 + ((1 + 8*lifepoints_number)**(0.5)))/2)\n",
    "    maximal_number_of_hits = int((-1 + ((8*lifepoints_number)**(0.5)))/2)\n",
    "    number_of_coins = maximal_number_of_hits*maximal_number_of_hits\n",
    "    remaining_lifepoints_number = int(lifepoints_number - maximal_number_of_hits*(maximal_number_of_hits + 1)/2)\n",
    "    return number_of_coins, remaining_lifepoints_number"
   ]
  },
  {
   "cell_type": "markdown",
   "metadata": {},
   "source": [
    "### Expected results\n",
    "\n",
    "If your function has been correctly designed, the following test cases should work."
   ]
  },
  {
   "cell_type": "code",
   "execution_count": 2,
   "metadata": {},
   "outputs": [
    {
     "name": "stdout",
     "output_type": "stream",
     "text": [
      "0\n",
      "1\n"
     ]
    }
   ],
   "source": [
    "# If lifepoints are 1, you cannot take any hits, so 0 coins, and your lifetotal remain 1.\n",
    "number_of_coins, remaining_lifepoints_number = maximal_coins_number(lifepoints_number = 1)\n",
    "print(number_of_coins)\n",
    "print(remaining_lifepoints_number)"
   ]
  },
  {
   "cell_type": "code",
   "execution_count": 3,
   "metadata": {},
   "outputs": [
    {
     "name": "stdout",
     "output_type": "stream",
     "text": [
      "16\n",
      "1\n"
     ]
    }
   ],
   "source": [
    "# If lifepoints are 11, you can take 4 hits, so 16 coins, and your lifetotal remaining after all hits is 1.\n",
    "number_of_coins, remaining_lifepoints_number = maximal_coins_number(lifepoints_number = 11)\n",
    "print(number_of_coins)\n",
    "print(remaining_lifepoints_number)"
   ]
  },
  {
   "cell_type": "code",
   "execution_count": 4,
   "metadata": {},
   "outputs": [
    {
     "name": "stdout",
     "output_type": "stream",
     "text": [
      "1936\n",
      "10\n"
     ]
    }
   ],
   "source": [
    "# If lifepoints are 1000, you can take 44 hits, so 1936 coins, and your lifetotal remaining after all hits is 10.\n",
    "number_of_coins, remaining_lifepoints_number = maximal_coins_number(lifepoints_number = 1000)\n",
    "print(number_of_coins)\n",
    "print(remaining_lifepoints_number)"
   ]
  },
  {
   "cell_type": "code",
   "execution_count": null,
   "metadata": {},
   "outputs": [],
   "source": []
  }
 ],
 "metadata": {
  "kernelspec": {
   "display_name": "Python 3",
   "language": "python",
   "name": "python3"
  },
  "language_info": {
   "codemirror_mode": {
    "name": "ipython",
    "version": 3
   },
   "file_extension": ".py",
   "mimetype": "text/x-python",
   "name": "python",
   "nbconvert_exporter": "python",
   "pygments_lexer": "ipython3",
   "version": "3.9.6"
  }
 },
 "nbformat": 4,
 "nbformat_minor": 4
}
