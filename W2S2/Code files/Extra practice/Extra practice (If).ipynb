{
 "cells": [
  {
   "cell_type": "markdown",
   "metadata": {},
   "source": [
    "# 1. Vowel or Consonant\n",
    "\n",
    "Write a program that asks the user a enter a letter.\n",
    "\n",
    "The program should then display either \"The letter is a vowel.\" or \"The letter is a consonant.\""
   ]
  },
  {
   "cell_type": "code",
   "execution_count": null,
   "metadata": {},
   "outputs": [],
   "source": []
  },
  {
   "cell_type": "markdown",
   "metadata": {},
   "source": [
    "# 2. Name that shape\n",
    "\n",
    "Write a program that asks the user a enter an integer number between 3 and 10.\n",
    "\n",
    "The program should then display the name of the geometrical polygon which has this number of sides. "
   ]
  },
  {
   "cell_type": "code",
   "execution_count": null,
   "metadata": {},
   "outputs": [],
   "source": []
  },
  {
   "cell_type": "markdown",
   "metadata": {},
   "source": [
    "# 3. Month name and days in month\n",
    "\n",
    "Write a program that asks the user to input a month name.\n",
    "\n",
    "It should then display an integer corresponding to the number of days in said month.\n",
    "\n",
    "You can ignore leap years for February and display 28."
   ]
  },
  {
   "cell_type": "code",
   "execution_count": null,
   "metadata": {},
   "outputs": [],
   "source": []
  }
 ],
 "metadata": {
  "kernelspec": {
   "display_name": "Python 3",
   "language": "python",
   "name": "python3"
  },
  "language_info": {
   "codemirror_mode": {
    "name": "ipython",
    "version": 3
   },
   "file_extension": ".py",
   "mimetype": "text/x-python",
   "name": "python",
   "nbconvert_exporter": "python",
   "pygments_lexer": "ipython3",
   "version": "3.9.6"
  }
 },
 "nbformat": 4,
 "nbformat_minor": 4
}
