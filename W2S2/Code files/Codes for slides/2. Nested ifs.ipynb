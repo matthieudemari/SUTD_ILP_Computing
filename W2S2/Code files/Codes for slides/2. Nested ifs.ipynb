{
 "cells": [
  {
   "cell_type": "markdown",
   "metadata": {},
   "source": [
    "# A simple nested if (if inside another if)"
   ]
  },
  {
   "cell_type": "code",
   "execution_count": 1,
   "metadata": {},
   "outputs": [
    {
     "name": "stdout",
     "output_type": "stream",
     "text": [
      "The number x is positive.\n",
      "In fact, the number x is STRICTLY positive.\n"
     ]
    }
   ],
   "source": [
    "x = 5\n",
    "if(x>=0):\n",
    "    print(\"The number x is positive.\")\n",
    "    if(x>0):\n",
    "        print(\"In fact, the number x is STRICTLY positive.\")"
   ]
  },
  {
   "cell_type": "code",
   "execution_count": 2,
   "metadata": {},
   "outputs": [
    {
     "name": "stdout",
     "output_type": "stream",
     "text": [
      "The number x is positive.\n"
     ]
    }
   ],
   "source": [
    "x = 0\n",
    "if(x>=0):\n",
    "    print(\"The number x is positive.\")\n",
    "    if(x>0):\n",
    "        print(\"In fact, the number x is STRICTLY positive.\")"
   ]
  },
  {
   "cell_type": "code",
   "execution_count": 3,
   "metadata": {},
   "outputs": [
    {
     "name": "stdout",
     "output_type": "stream",
     "text": [
      "The number x is NOT positive.\n"
     ]
    }
   ],
   "source": [
    "x = -2\n",
    "if(x>=0):\n",
    "    print(\"The number x is positive.\")\n",
    "    if(x>0):\n",
    "        print(\"In fact, the number x is STRICTLY positive.\")\n",
    "else:\n",
    "    print(\"The number x is NOT positive.\")"
   ]
  },
  {
   "cell_type": "markdown",
   "metadata": {},
   "source": [
    "# Nested if example"
   ]
  },
  {
   "cell_type": "code",
   "execution_count": 4,
   "metadata": {},
   "outputs": [
    {
     "name": "stdout",
     "output_type": "stream",
     "text": [
      "The number x is positive.\n",
      "In fact, the number x is STRICTLY positive.\n"
     ]
    }
   ],
   "source": [
    "x = 3\n",
    "if(x>=0):\n",
    "    print(\"The number x is positive.\")\n",
    "    if(x>0):\n",
    "        print(\"In fact, the number x is STRICTLY positive.\")\n",
    "else:\n",
    "    print((\"The number x is negative.\"))\n",
    "    if(x<0):\n",
    "        print(\"In fact, the number x is STRICTLY negative.\")"
   ]
  },
  {
   "cell_type": "code",
   "execution_count": 5,
   "metadata": {},
   "outputs": [
    {
     "name": "stdout",
     "output_type": "stream",
     "text": [
      "The number x is negative.\n",
      "In fact, the number x is STRICTLY negative.\n"
     ]
    }
   ],
   "source": [
    "x = -2\n",
    "if(x>=0):\n",
    "    print(\"The number x is positive.\")\n",
    "    if(x>0):\n",
    "        print(\"In fact, the number x is STRICTLY positive.\")\n",
    "else:\n",
    "    print((\"The number x is negative.\"))\n",
    "    if(x<0):\n",
    "        print(\"In fact, the number x is STRICTLY negative.\")"
   ]
  },
  {
   "cell_type": "code",
   "execution_count": 6,
   "metadata": {},
   "outputs": [
    {
     "name": "stdout",
     "output_type": "stream",
     "text": [
      "The number x is positive.\n"
     ]
    }
   ],
   "source": [
    "x = 0\n",
    "if(x>=0):\n",
    "    print(\"The number x is positive.\")\n",
    "    if(x>0):\n",
    "        print(\"In fact, the number x is STRICTLY positive.\")\n",
    "else:\n",
    "    print((\"The number x is negative.\"))\n",
    "    if(x<0):\n",
    "        print(\"In fact, the number x is STRICTLY negative.\")"
   ]
  },
  {
   "cell_type": "code",
   "execution_count": 7,
   "metadata": {},
   "outputs": [
    {
     "name": "stdout",
     "output_type": "stream",
     "text": [
      "The number x is zero.\n"
     ]
    }
   ],
   "source": [
    "x = 0\n",
    "if(x==0):\n",
    "    print(\"The number x is zero.\")\n",
    "elif(x>=0):\n",
    "    print(\"The number x is positive.\")\n",
    "    if(x>0):\n",
    "        print(\"In fact, the number x is STRICTLY positive.\")\n",
    "else:\n",
    "    print((\"The number x is negative.\"))\n",
    "    if(x<0):\n",
    "        print(\"In fact, the number x is STRICTLY negative.\")"
   ]
  },
  {
   "cell_type": "code",
   "execution_count": 8,
   "metadata": {},
   "outputs": [
    {
     "name": "stdout",
     "output_type": "stream",
     "text": [
      "The number x is negative.\n",
      "In fact, the number x is STRICTLY negative.\n"
     ]
    }
   ],
   "source": [
    "x = -3\n",
    "if(x==0):\n",
    "    print(\"The number x is zero.\")\n",
    "elif(x>=0):\n",
    "    print(\"The number x is positive.\")\n",
    "    if(x>0):\n",
    "        print(\"In fact, the number x is STRICTLY positive.\")\n",
    "else:\n",
    "    print((\"The number x is negative.\"))\n",
    "    if(x<0):\n",
    "        print(\"In fact, the number x is STRICTLY negative.\")"
   ]
  },
  {
   "cell_type": "code",
   "execution_count": 9,
   "metadata": {},
   "outputs": [
    {
     "name": "stdout",
     "output_type": "stream",
     "text": [
      "The number x is positive.\n",
      "In fact, the number x is STRICTLY positive.\n"
     ]
    }
   ],
   "source": [
    "x = 5\n",
    "if(x==0):\n",
    "    print(\"The number x is zero.\")\n",
    "elif(x>=0):\n",
    "    print(\"The number x is positive.\")\n",
    "    if(x>0):\n",
    "        print(\"In fact, the number x is STRICTLY positive.\")\n",
    "else:\n",
    "    print((\"The number x is negative.\"))\n",
    "    if(x<0):\n",
    "        print(\"In fact, the number x is STRICTLY negative.\")"
   ]
  },
  {
   "cell_type": "code",
   "execution_count": 10,
   "metadata": {},
   "outputs": [
    {
     "name": "stdout",
     "output_type": "stream",
     "text": [
      "The number x is non-zero and positive.\n",
      "In fact, the number x is STRICTLY positive.\n"
     ]
    }
   ],
   "source": [
    "x = 5\n",
    "if(x==0):\n",
    "    print(\"The number x is zero.\")\n",
    "if(x != 0 and x>=0):\n",
    "    print(\"The number x is non-zero and positive.\")\n",
    "if(x>0):\n",
    "    print(\"In fact, the number x is STRICTLY positive.\")\n",
    "if(x != 0 and x<=0):\n",
    "    print((\"The number x is non-zero and negative.\"))\n",
    "if(x<0):\n",
    "    print(\"In fact, the number x is STRICTLY negative.\")"
   ]
  },
  {
   "cell_type": "code",
   "execution_count": null,
   "metadata": {},
   "outputs": [],
   "source": []
  }
 ],
 "metadata": {
  "kernelspec": {
   "display_name": "Python 3",
   "language": "python",
   "name": "python3"
  },
  "language_info": {
   "codemirror_mode": {
    "name": "ipython",
    "version": 3
   },
   "file_extension": ".py",
   "mimetype": "text/x-python",
   "name": "python",
   "nbconvert_exporter": "python",
   "pygments_lexer": "ipython3",
   "version": "3.8.3"
  }
 },
 "nbformat": 4,
 "nbformat_minor": 4
}
