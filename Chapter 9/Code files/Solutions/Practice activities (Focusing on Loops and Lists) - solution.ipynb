{
 "cells": [
  {
   "cell_type": "markdown",
   "id": "2c21a6e3",
   "metadata": {},
   "source": [
    "# Practice activities (Focusing on Loops and Lists) - solution\n",
    "\n",
    "Below is a list of practice activities, noted with difficulty levels.\n",
    "\n",
    "**Some of them will come with test cases for you to try your function, but your function should work with any input we could deem acceptable (e.g. any list of integers, not just the one provided for demo!)**\n",
    "\n",
    "Most of these activities will therefore require you to come up with ideas to test your function and make sure you have found the right one."
   ]
  },
  {
   "cell_type": "markdown",
   "id": "5f69432e",
   "metadata": {},
   "source": [
    "## 1. Positive and negative sublists\n",
    "\n",
    "Write a function that receives a list of integers, as the one below."
   ]
  },
  {
   "cell_type": "code",
   "execution_count": null,
   "id": "2ee00227",
   "metadata": {},
   "outputs": [],
   "source": [
    "integers_list = [-1,2,0,4,-5,4,0,8,6,-7,1]"
   ]
  },
  {
   "cell_type": "markdown",
   "id": "d5e191fa",
   "metadata": {},
   "source": [
    "The function should return three lists, containing all occurrences of strictly positive, strictly negative and zeros inside the given list. Some of these lists might be empty. The expected output for the list above would then be"
   ]
  },
  {
   "cell_type": "code",
   "execution_count": null,
   "id": "00af8292",
   "metadata": {},
   "outputs": [],
   "source": [
    "positives = [2,4,4,8,6,1]\n",
    "negatives = [-1,-5,-7]\n",
    "zeroes = [0,0]"
   ]
  },
  {
   "cell_type": "markdown",
   "id": "6b8beb88",
   "metadata": {},
   "source": [
    "### Your code below!"
   ]
  },
  {
   "cell_type": "code",
   "execution_count": null,
   "id": "728bdf93",
   "metadata": {},
   "outputs": [],
   "source": [
    "def define_subsets(integers_list):\n",
    "    \n",
    "    positives = []\n",
    "    negatives = []\n",
    "    zeroes = []\n",
    "    \n",
    "    for element in integers_list:\n",
    "        if(element > 0):\n",
    "            positives.append(element)\n",
    "        elif(element < 0):\n",
    "            negatives.append(element)\n",
    "        else:\n",
    "            zeroes.append(element)\n",
    "            \n",
    "    return positives, negatives, zeroes"
   ]
  },
  {
   "cell_type": "code",
   "execution_count": null,
   "id": "0b7852c9",
   "metadata": {},
   "outputs": [],
   "source": [
    "print(define_subsets([-1,2,0,4,-5,4,0,8,6,-7,1]))"
   ]
  },
  {
   "cell_type": "markdown",
   "id": "9da9ec77",
   "metadata": {},
   "source": [
    "## 2. Below and above average\n",
    "\n",
    "Write a function that receives a list of integers, such as the one shown below."
   ]
  },
  {
   "cell_type": "code",
   "execution_count": null,
   "id": "8206c3b2",
   "metadata": {},
   "outputs": [],
   "source": [
    "integers_list = [1,2,4,5,4,8,6,8]"
   ]
  },
  {
   "cell_type": "markdown",
   "id": "fdcf4425",
   "metadata": {},
   "source": [
    "The function should return three parameters:\n",
    "- the first one is the average value of the elements in the list,\n",
    "- the second is a list containing the elements with values strictly lower than the average value,\n",
    "- and the third is a list containing the elements with values strictly higher than the average value,"
   ]
  },
  {
   "cell_type": "code",
   "execution_count": null,
   "id": "2a725d28",
   "metadata": {},
   "outputs": [],
   "source": [
    "avg_value = 4.75\n",
    "lower = [1,2,4,4]\n",
    "higher = [5,8,6,8]"
   ]
  },
  {
   "cell_type": "markdown",
   "id": "2bd4d200",
   "metadata": {},
   "source": [
    "### Your code below!"
   ]
  },
  {
   "cell_type": "code",
   "execution_count": null,
   "id": "6d7683b3",
   "metadata": {},
   "outputs": [],
   "source": [
    "def below_above_avg(integers_list):\n",
    "    \n",
    "    lower = []\n",
    "    higher = []\n",
    "    \n",
    "    # Special case, empty list\n",
    "    if(len(integers_list) == 0):\n",
    "        return None, lower, higher\n",
    "    \n",
    "    avg_value = sum(integers_list)/len(integers_list)\n",
    "    \n",
    "    for element in integers_list:\n",
    "        if(element > avg_value):\n",
    "            higher.append(element)\n",
    "        elif(element < avg_value):\n",
    "            lower.append(element)\n",
    "            \n",
    "    return avg_value, lower, higher"
   ]
  },
  {
   "cell_type": "code",
   "execution_count": null,
   "id": "8e01d30b",
   "metadata": {},
   "outputs": [],
   "source": [
    "print(below_above_avg([1,2,4,5,4,8,6,8]))"
   ]
  },
  {
   "cell_type": "code",
   "execution_count": null,
   "id": "e63b341a",
   "metadata": {},
   "outputs": [],
   "source": [
    "print(below_above_avg([1]))"
   ]
  },
  {
   "cell_type": "code",
   "execution_count": null,
   "id": "53535bc3",
   "metadata": {
    "scrolled": true
   },
   "outputs": [],
   "source": [
    "print(below_above_avg([]))"
   ]
  },
  {
   "cell_type": "markdown",
   "id": "84eaa0d8",
   "metadata": {},
   "source": [
    "## 3. List of positive divisors\n",
    "\n",
    "Write a function that receives a single strictly positive integer number, such as the one shown below."
   ]
  },
  {
   "cell_type": "code",
   "execution_count": null,
   "id": "6f175d40",
   "metadata": {},
   "outputs": [],
   "source": [
    "integer = 12"
   ]
  },
  {
   "cell_type": "markdown",
   "id": "51c73b5a",
   "metadata": {},
   "source": [
    "The function should return a list, which contains all the proper divisors of this number, sorted in ascending order. In the case of integer = 12 above, the expected output is then"
   ]
  },
  {
   "cell_type": "code",
   "execution_count": null,
   "id": "844126ff",
   "metadata": {},
   "outputs": [],
   "source": [
    "divisors = [1,2,3,4,6,12]"
   ]
  },
  {
   "cell_type": "markdown",
   "id": "e086c671",
   "metadata": {},
   "source": [
    "### Your code below!"
   ]
  },
  {
   "cell_type": "code",
   "execution_count": null,
   "id": "6f113862",
   "metadata": {},
   "outputs": [],
   "source": [
    "def positive_divisors(number):\n",
    "    divisors = []\n",
    "    \n",
    "    for element in range(1, number + 1):\n",
    "        if(number % element == 0):\n",
    "            divisors.append(element)\n",
    "            \n",
    "    return divisors"
   ]
  },
  {
   "cell_type": "code",
   "execution_count": null,
   "id": "785102f2",
   "metadata": {},
   "outputs": [],
   "source": [
    "def positive_divisors(number):\n",
    "    \n",
    "    divisors = []\n",
    "    \n",
    "    for value in range(1, int(number**0.5) + 1):\n",
    "        if(number % value == 0):\n",
    "            divisors.append(value)\n",
    "    \n",
    "    divisors.append(number)\n",
    "    \n",
    "    return divisors"
   ]
  },
  {
   "cell_type": "code",
   "execution_count": null,
   "id": "a52788e1",
   "metadata": {},
   "outputs": [],
   "source": [
    "print(positive_divisors(12))"
   ]
  },
  {
   "cell_type": "code",
   "execution_count": null,
   "id": "54dfe492",
   "metadata": {},
   "outputs": [],
   "source": [
    "print(positive_divisors(25))"
   ]
  },
  {
   "cell_type": "code",
   "execution_count": null,
   "id": "87fa7d03",
   "metadata": {},
   "outputs": [],
   "source": [
    "def positive_divisors_v2(integer):\n",
    "    return [divisor for divisor in range(1, integer + 1) if integer % divisor == 0]"
   ]
  },
  {
   "cell_type": "code",
   "execution_count": null,
   "id": "133aa317",
   "metadata": {},
   "outputs": [],
   "source": [
    "print(positive_divisors_v2(12))"
   ]
  },
  {
   "cell_type": "code",
   "execution_count": null,
   "id": "d89d2d1a",
   "metadata": {},
   "outputs": [],
   "source": [
    "def positive_divisors_v3(number):\n",
    "    \n",
    "    divisors = []\n",
    "    second_half = []\n",
    "    \n",
    "    for value in range(1, int(number**0.5) + 1):\n",
    "        print(value)\n",
    "        if(number % value == 0):\n",
    "            print(\"ok\")\n",
    "            divisors.append(value)\n",
    "            second_half.append(number//value)\n",
    "        print(divisors)\n",
    "        print(second_half)\n",
    "        \n",
    "    if(divisors[-1] == second_half[-1]):\n",
    "        divisors = divisors + second_half[:-1][::-1]\n",
    "    else:\n",
    "        divisors = divisors + second_half[::-1]\n",
    "\n",
    "    return divisors"
   ]
  },
  {
   "cell_type": "code",
   "execution_count": null,
   "id": "779e656b",
   "metadata": {},
   "outputs": [],
   "source": [
    "def positive_divisors(number):\n",
    "    # Pythonic loop version of the function\n",
    "    return [i for i in range(1, number+1) if (number%i == 0)]"
   ]
  },
  {
   "cell_type": "code",
   "execution_count": null,
   "id": "fb717ebe",
   "metadata": {},
   "outputs": [],
   "source": [
    "def positive_divisors(number):\n",
    "    # Pythonic loop version of the function\n",
    "    list1 = [i for i in range(1, int(number**0.5)+1) if (number%i == 0)]\n",
    "    list2 = [number//i for i in list1]\n",
    "    return list1 + list2[::-1]"
   ]
  },
  {
   "cell_type": "markdown",
   "id": "7f59b20a",
   "metadata": {},
   "source": [
    "## 4. Remove outliers\n",
    "\n",
    "Write a function that receives a list of integers, as the one below."
   ]
  },
  {
   "cell_type": "code",
   "execution_count": null,
   "id": "d0bb91cb",
   "metadata": {},
   "outputs": [],
   "source": [
    "integers_list = [1,2,4,5,4,8,6,7,1]"
   ]
  },
  {
   "cell_type": "markdown",
   "id": "7864b36d",
   "metadata": {},
   "source": [
    "The function should remove all the occurrences of the minimal and maximal values from the list. The expected output for the list shown above, should then be"
   ]
  },
  {
   "cell_type": "code",
   "execution_count": null,
   "id": "cb31a6d5",
   "metadata": {},
   "outputs": [],
   "source": [
    "result = [2,4,5,4,6,7]"
   ]
  },
  {
   "cell_type": "markdown",
   "id": "c763a9f9",
   "metadata": {},
   "source": [
    "### Your code below!"
   ]
  },
  {
   "cell_type": "code",
   "execution_count": null,
   "id": "e296070b",
   "metadata": {},
   "outputs": [],
   "source": [
    "def remove_outliers(integers_list):\n",
    "    \n",
    "    min_val = min(integers_list)\n",
    "    max_val = max(integers_list)\n",
    "    \n",
    "    while(min_val in integers_list):\n",
    "        integers_list.remove(min_val)\n",
    "    while(max_val in integers_list):\n",
    "        integers_list.remove(max_val)\n",
    "        \n",
    "    return integers_list"
   ]
  },
  {
   "cell_type": "code",
   "execution_count": null,
   "id": "8262f50c",
   "metadata": {},
   "outputs": [],
   "source": [
    "def remove_outliers(integers_list):\n",
    "    result = []\n",
    "    min_val = min(integers_list)\n",
    "    max_val = max(integers_list)\n",
    "    for element in integers_list:\n",
    "        if(element != min_val and element != max_val):\n",
    "            result.append(element)\n",
    "    return result"
   ]
  },
  {
   "cell_type": "code",
   "execution_count": null,
   "id": "629037c8",
   "metadata": {},
   "outputs": [],
   "source": [
    "def remove_duplicates(integers_list):\n",
    "    minval = min(integers_list)\n",
    "    maxval = max(integers_list)\n",
    "    for i in range(integers_list.count(maxval)):\n",
    "        integers_list.remove(maxval)\n",
    "    for i in range(integers_list.count(minval)):\n",
    "        integers_list.remove(minval)\n",
    "    return integers_list"
   ]
  },
  {
   "cell_type": "code",
   "execution_count": null,
   "id": "bc54a843",
   "metadata": {},
   "outputs": [],
   "source": [
    "print(remove_outliers([1,2,4,5,4,8,6,7,1]))\n",
    "print(remove_outliers([1,1,1,1,1,1,1,1,1,1,1]))\n",
    "print(remove_outliers([]))"
   ]
  },
  {
   "cell_type": "code",
   "execution_count": null,
   "id": "9075ba7d",
   "metadata": {},
   "outputs": [],
   "source": [
    "def remove_outliers_v2(integers_list):\n",
    "    \n",
    "    # Cover for case of empty list\n",
    "    if(len(integers_list) == 0):\n",
    "        return []\n",
    "    \n",
    "    min_val = min(integers_list)\n",
    "    max_val = max(integers_list)\n",
    "    \n",
    "    while(min_val in integers_list):\n",
    "        integers_list.remove(min_val)\n",
    "    while(max_val in integers_list):\n",
    "        integers_list.remove(max_val)\n",
    "        \n",
    "    return integers_list"
   ]
  },
  {
   "cell_type": "code",
   "execution_count": null,
   "id": "c00fbd47",
   "metadata": {},
   "outputs": [],
   "source": [
    "def remove_duplicates_v2(integers_list):\n",
    "    \n",
    "    # Cover for case of empty list\n",
    "    if(len(integers_list) == 0):\n",
    "        return []\n",
    "    \n",
    "    minval = min(integers_list)\n",
    "    maxval = max(integers_list)\n",
    "    for i in range(integers_list.count(maxval)):\n",
    "        integers_list.remove(maxval)\n",
    "    for i in range(integers_list.count(minval)):\n",
    "        integers_list.remove(minval)\n",
    "    return integers_list"
   ]
  },
  {
   "cell_type": "code",
   "execution_count": null,
   "id": "9d7e3341",
   "metadata": {
    "scrolled": true
   },
   "outputs": [],
   "source": [
    "print(remove_outliers_v2([1,2,4,5,4,8,6,7,1]))\n",
    "print(remove_outliers_v2([1,1,1,1,1,1,1,1,1,1,1]))\n",
    "print(remove_outliers_v2([]))"
   ]
  },
  {
   "cell_type": "markdown",
   "id": "77910caf",
   "metadata": {},
   "source": [
    "## 5. Remove duplicates\n",
    "\n",
    "Write a function that receives a list of integers, as the one below."
   ]
  },
  {
   "cell_type": "code",
   "execution_count": null,
   "id": "d6850bc6",
   "metadata": {},
   "outputs": [],
   "source": [
    "integers_list = [1,2,4,5,4,8,6,7,1]"
   ]
  },
  {
   "cell_type": "markdown",
   "id": "a238fdfe",
   "metadata": {},
   "source": [
    "The function should remove all duplicates from the list and return a list consisting of the elements, with duplicates removed. In the example shown above, the expected output of the function should be as shown below. As a note, the first occurence of the duplicate value should stay, and the others should be removed.\n",
    "\n",
    "**Hint:** Although the activity is called \"remove duplicates\", it might be simpler to create a second list that starts empty and decide what to add as elements. In fact, working with a single list and deciding what to remove might be more difficult!"
   ]
  },
  {
   "cell_type": "code",
   "execution_count": null,
   "id": "79804af7",
   "metadata": {},
   "outputs": [],
   "source": [
    "result = [1,2,4,5,8,6,7] # And not [2,5,4,8,6,7,1]!"
   ]
  },
  {
   "cell_type": "markdown",
   "id": "a70c23dd",
   "metadata": {},
   "source": [
    "### Your code below!"
   ]
  },
  {
   "cell_type": "code",
   "execution_count": null,
   "id": "86bf5849",
   "metadata": {},
   "outputs": [],
   "source": [
    "def remove_duplicates(integers_list):\n",
    "    \n",
    "    new_list = []\n",
    "    \n",
    "    for element in integers_list:\n",
    "        if(element not in new_list):\n",
    "            new_list.append(element)\n",
    "            \n",
    "    return new_list"
   ]
  },
  {
   "cell_type": "code",
   "execution_count": null,
   "id": "b94c8857",
   "metadata": {},
   "outputs": [],
   "source": [
    "print(remove_duplicates([1,2,4,5,4,8,6,7,1]))\n",
    "print(remove_duplicates([1,1,1,1,1,1,1,1,1,1,1]))\n",
    "print(remove_duplicates([]))"
   ]
  },
  {
   "cell_type": "markdown",
   "id": "5cefb08c",
   "metadata": {},
   "source": [
    "## 6. Unique counter\n",
    "\n",
    "Write a function receives a list of integers, my_list.\n",
    "\n",
    "It returns two lists.\n",
    "- The first one, in res1, contains the values in my_list, without duplicates, in ascending order.\n",
    "- The second one, in res2, contains the number of times each element in res1 appears in my_list\n",
    "\n",
    "For instance:\n",
    "- If my_list = [4,1,1,2,4,3,5,1], then the function should return res1 = [1,2,3,4,5] and res2 = [3,1,1,2,1]."
   ]
  },
  {
   "cell_type": "code",
   "execution_count": null,
   "id": "a2e87e14",
   "metadata": {},
   "outputs": [],
   "source": [
    "def remove_duplicates(integers_list):\n",
    "    new_list = []\n",
    "    for element in integers_list:\n",
    "        if(element not in new_list):\n",
    "            new_list.append(element)\n",
    "    return new_list\n",
    "\n",
    "def unique_counter(my_list):\n",
    "    \n",
    "    # Remove the duplicates and keep the minimal number of elements\n",
    "    no_duplicates_list = remove_duplicates(my_list)\n",
    "    # Sort this list with no duplicates in ascending order\n",
    "    no_duplicates_list.sort()\n",
    "    \n",
    "    # Count how many times each value in my no_duplicates_list\n",
    "    # appears in the original list\n",
    "    count_list = []\n",
    "    for element in no_duplicates_list:\n",
    "        number_of_times = my_list.count(element)\n",
    "        count_list.append(number_of_times)\n",
    "    \n",
    "    return no_duplicates_list, count_list"
   ]
  },
  {
   "cell_type": "code",
   "execution_count": null,
   "id": "b336e2cc-f987-4c06-95f7-9ccffd4739e1",
   "metadata": {},
   "outputs": [],
   "source": [
    "def f(my_list):\n",
    "    res1 = []\n",
    "    res2 = []\n",
    "    # Figure out how to create res1\n",
    "    for element in my_list:\n",
    "        if(element not in res1):\n",
    "            res1.append(element)\n",
    "            res2.append(0)\n",
    "    res1.sort()\n",
    "\n",
    "    # Figure out how to create res2\n",
    "    for element in my_list:\n",
    "        # Find the positional value of the element in res1\n",
    "        pos = res1.index(element)\n",
    "        res2[pos] += 1\n",
    "        print(\"------------\")\n",
    "        print(element, res1, pos, res2)\n",
    "        \n",
    "    return res1, res2"
   ]
  },
  {
   "cell_type": "code",
   "execution_count": null,
   "id": "4cc7b3d1",
   "metadata": {
    "scrolled": true
   },
   "outputs": [],
   "source": [
    "my_list = [4,1,1,2,4,3,5,1]\n",
    "print(unique_counter(my_list))"
   ]
  },
  {
   "cell_type": "markdown",
   "id": "e651410f",
   "metadata": {},
   "source": [
    "## 7. Are all consecutive\n",
    "\n",
    "Write a function **are_all_consecutive()**, which receives a single parameter, **my_list**, a non-empty list of integers, in ascending order.\n",
    "\n",
    "The function returns a single boolean, **is_cons**, set to True if all the elements in the list are consecutive and False otherwise.\n",
    "\n",
    "For instance, \n",
    "- if **my_list = [1,2,3]**, the function should return **is_cons = True**,\n",
    "- if **my_list = [7,8,9,10]**, the function should return **is_cons = True**,\n",
    "- if **my_list = [8]**, the function should return **is_cons = True**,\n",
    "- if **my_list = [1,2,2,3]**, the function should return **is_cons = False**,\n",
    "- if **my_list = [1,2,4,5]**, the function should return **is_cons = False**,"
   ]
  },
  {
   "cell_type": "code",
   "execution_count": null,
   "id": "678ac2d4",
   "metadata": {},
   "outputs": [],
   "source": [
    "def are_all_consecutive(my_list):\n",
    "    min_val = min(my_list)\n",
    "    len_val = len(my_list)\n",
    "    recreated_list = list(range(min_val, min_val + len_val))\n",
    "    boolean = my_list == recreated_list\n",
    "    return boolean"
   ]
  },
  {
   "cell_type": "code",
   "execution_count": null,
   "id": "c356ac12",
   "metadata": {},
   "outputs": [],
   "source": [
    "my_list = [7,8,9,10]\n",
    "print(are_all_consecutive(my_list))"
   ]
  },
  {
   "cell_type": "code",
   "execution_count": null,
   "id": "8787b39d",
   "metadata": {},
   "outputs": [],
   "source": [
    "def are_all_consecutive_v2(my_list):\n",
    "    for index, value in enumerate(my_list[:-1]):\n",
    "        if(not value == my_list[index + 1] - 1):\n",
    "            return False\n",
    "    return True"
   ]
  },
  {
   "cell_type": "code",
   "execution_count": null,
   "id": "e05362b4",
   "metadata": {},
   "outputs": [],
   "source": [
    "my_list = [7,8,9,10]\n",
    "print(are_all_consecutive_v2(my_list))"
   ]
  },
  {
   "cell_type": "markdown",
   "id": "2edc9418",
   "metadata": {},
   "source": [
    "## 8. Has a triplet\n",
    "\n",
    "Write a function **find_if_triplet()**, which receives a single parameter, **my_list**, a list of integers, with values in ascending order.\n",
    "\n",
    "The function returns a single boolean, **has_triplet**, which is set to True if an element of the list **my_list** appears at least three times. It returns False otherwise.\n",
    "\n",
    "For instance,\n",
    "- if **my_list = [1,1,1]**, the function should return **has_triplet = True**,\n",
    "- if **my_list = [1,2,3,3,3]**, the function should return **has_triplet = True**,\n",
    "- if **my_list = [1,2,2,2,2,3]**, the function should return **has_triplet = True**,\n",
    "- if **my_list = [1,2,2,3,4,4,5]**, the function should return **has_triplet = False**. "
   ]
  },
  {
   "cell_type": "code",
   "execution_count": null,
   "id": "48d0ee57",
   "metadata": {},
   "outputs": [],
   "source": [
    "def find_if_triplet(my_list):\n",
    "    for index, value in enumerate(my_list[:-2]):\n",
    "        print(index, value)\n",
    "        has_triplet = value == my_list[index + 1] and value == my_list[index + 2]\n",
    "        if(has_triplet):\n",
    "            return True\n",
    "    return False"
   ]
  },
  {
   "cell_type": "code",
   "execution_count": null,
   "id": "cb4cd4a0",
   "metadata": {},
   "outputs": [],
   "source": [
    "print(find_if_triplet([1,2,3,3,3,4,4,4]))\n",
    "print(find_if_triplet([1,2,2,3,4,4,5]))"
   ]
  },
  {
   "cell_type": "code",
   "execution_count": null,
   "id": "153799dc",
   "metadata": {},
   "outputs": [],
   "source": [
    "def is_triplet_v2(my_list):\n",
    "    \"\"\"\n",
    "    WARNING: This is probably the optimized function, but it is damn scary.\n",
    "    \"\"\"\n",
    "    index = 0\n",
    "    while index < len(my_list) - 2:\n",
    "        value = my_list[index]\n",
    "        print(\"------\")\n",
    "        print(index, value)\n",
    "        counter = 1\n",
    "        for index2, value2 in enumerate(my_list[index+1:index+3]):\n",
    "            if(value2 != value):\n",
    "                index = index + index2 + 1\n",
    "                print(\"Index to restart at: \", index)\n",
    "                break\n",
    "            else:\n",
    "                counter += 1\n",
    "                print(\"Counter: \", counter)\n",
    "        if counter == 3:\n",
    "            return True\n",
    "    return False"
   ]
  },
  {
   "cell_type": "code",
   "execution_count": null,
   "id": "f0e6fceb",
   "metadata": {},
   "outputs": [],
   "source": [
    "print(is_triplet_v2([1,2,3,3,3,4,4,4]))\n",
    "print(is_triplet_v2([1,2,2,3,4,4,5]))"
   ]
  },
  {
   "cell_type": "markdown",
   "id": "dec376e1",
   "metadata": {},
   "source": [
    "# 9. Is sublist\n",
    "\n",
    "Write a function that receives two lists list1 and list2.\n",
    "It returns True if all the elements of list2 are in list1, or in other words, if list2 is a sublist of list1. Order matters!\n",
    "\n",
    "For instance:\n",
    "- If list1 = [1,2,3,4,5,2,4,1] and list2 = [3,4,5], it should return True.\n",
    "- If list1 = [1,2,3,4,5,2,4,1] and list2 = [4,5,6], it should return False.\n",
    "- If list1 = [1,2,3,4,5,2,4,1] and list2 = [2,3,5], it should return False."
   ]
  },
  {
   "cell_type": "code",
   "execution_count": null,
   "id": "f2f1bdaf",
   "metadata": {},
   "outputs": [],
   "source": [
    "def is_sublist(list1, list2):\n",
    "    \n",
    "    # Check elements in list2 one at a time\n",
    "    for element in list2:\n",
    "        print(element)\n",
    "    \n",
    "        # If the element does not appear in list1, it cannot be a sublist\n",
    "        if element not in list1:\n",
    "            return False\n",
    "    \n",
    "    # If all the elements pass the test, then it is a sublist\n",
    "    return True"
   ]
  },
  {
   "cell_type": "code",
   "execution_count": null,
   "id": "ef2deeb4",
   "metadata": {},
   "outputs": [],
   "source": [
    "list1 = [1,2,3,4,5,2,4,1]\n",
    "list2 = [3,4,5]\n",
    "print(is_sublist(list1, list2))"
   ]
  },
  {
   "cell_type": "code",
   "execution_count": null,
   "id": "1dfa53b3",
   "metadata": {},
   "outputs": [],
   "source": [
    "list1 = [1,2,3,4,5,2,4,1]\n",
    "list2 = [4,5,6]\n",
    "print(is_sublist(list1, list2))"
   ]
  },
  {
   "cell_type": "markdown",
   "id": "ce73db70",
   "metadata": {},
   "source": [
    "## 10Hard. Sublists of a list (so, you want a real challenge then?)\n",
    "\n",
    "### Important Note\n",
    "\n",
    "Just showing it to you for those of you who really want a really hard challenge!\n",
    "\n",
    "Try at your own risk! Beware, it is nasty!\n",
    "\n",
    "**Suggestion:** use nested for loops and/or recursion!\n",
    "\n",
    "### Problem statement\n",
    "\n",
    "Write a function that receives a list, as shown below.\n",
    "The list will have values sorted in ascending order and no duplicates."
   ]
  },
  {
   "cell_type": "code",
   "execution_count": null,
   "id": "9dcea1ed",
   "metadata": {},
   "outputs": [],
   "source": [
    "numbers_list = [1,2,4,6]"
   ]
  },
  {
   "cell_type": "markdown",
   "id": "65fc2839",
   "metadata": {},
   "source": [
    "The function should return a list of lists, containing all the possible sublists that can be created, using the values in the given list. In the example above, that is"
   ]
  },
  {
   "cell_type": "code",
   "execution_count": null,
   "id": "0ce02292",
   "metadata": {},
   "outputs": [],
   "source": [
    "result = [[], \\\n",
    "          [1], [2], [4], [6], \\\n",
    "          [1, 2], [1, 4], [1, 6], [2, 4], [2, 6], [4, 6], \\\n",
    "          [1, 2, 4], [1, 2, 6], [1, 4, 6], [2, 4, 6], \\\n",
    "          [1, 2, 4, 6]]"
   ]
  },
  {
   "cell_type": "markdown",
   "id": "ca2e49b2",
   "metadata": {},
   "source": [
    "### Your code below!"
   ]
  },
  {
   "cell_type": "code",
   "execution_count": null,
   "id": "774708a1",
   "metadata": {},
   "outputs": [],
   "source": [
    "def compute_sublists_with_n_elements(numbers_list, n):\n",
    "    \n",
    "    sublists = []\n",
    "    \n",
    "    if(n == 0):\n",
    "        return [sublists]\n",
    "    \n",
    "    elif(n == 1):\n",
    "        for element in numbers_list:\n",
    "            sublists.append([element])\n",
    "        return sublists\n",
    "    \n",
    "    elif(n == len(numbers_list)):\n",
    "        return [numbers_list]\n",
    "    \n",
    "    else:\n",
    "        for index, element in enumerate(numbers_list):\n",
    "            \n",
    "            part1 = [element]\n",
    "            \n",
    "            if((len(numbers_list) - index) >= (n - 1)):\n",
    "                new_list = numbers_list[index + 1:]\n",
    "                part2 = compute_sublists_with_n_elements(new_list, n - 1)\n",
    "            \n",
    "                for sublist2 in part2:\n",
    "                    sublists.append(part1 + sublist2)\n",
    "                \n",
    "        return sublists"
   ]
  },
  {
   "cell_type": "code",
   "execution_count": null,
   "id": "deb06eba",
   "metadata": {},
   "outputs": [],
   "source": [
    "print(compute_sublists_with_n_elements([1,2,4,6], 0))"
   ]
  },
  {
   "cell_type": "code",
   "execution_count": null,
   "id": "320bc579",
   "metadata": {},
   "outputs": [],
   "source": [
    "print(compute_sublists_with_n_elements([1,2,4,6], 1))"
   ]
  },
  {
   "cell_type": "code",
   "execution_count": null,
   "id": "fd68460d",
   "metadata": {},
   "outputs": [],
   "source": [
    "print(compute_sublists_with_n_elements([1,2,4,6], 2))"
   ]
  },
  {
   "cell_type": "code",
   "execution_count": null,
   "id": "c6775bbd",
   "metadata": {},
   "outputs": [],
   "source": [
    "print(compute_sublists_with_n_elements([1,2,4,6], 3))"
   ]
  },
  {
   "cell_type": "code",
   "execution_count": null,
   "id": "99189281",
   "metadata": {},
   "outputs": [],
   "source": [
    "out = compute_sublists_with_n_elements([1,2,4,6], 4)\n",
    "print(out)"
   ]
  },
  {
   "cell_type": "code",
   "execution_count": null,
   "id": "b26f85e3",
   "metadata": {},
   "outputs": [],
   "source": [
    "def sublists_of_list(numbers_list):\n",
    "    \n",
    "    sublists = []\n",
    "    n = len(numbers_list)\n",
    "    \n",
    "    sublists.append([])\n",
    "    \n",
    "    for length in range(1, n + 1):\n",
    "        sublist_length = compute_sublists_with_n_elements(numbers_list, length)\n",
    "        sublists.extend(sublist_length)\n",
    "    \n",
    "    return sublists"
   ]
  },
  {
   "cell_type": "code",
   "execution_count": null,
   "id": "04035c6a",
   "metadata": {},
   "outputs": [],
   "source": [
    "print(sublists_of_list([1,2,4,6]))"
   ]
  },
  {
   "cell_type": "code",
   "execution_count": null,
   "id": "e0c4f03b",
   "metadata": {
    "scrolled": true
   },
   "outputs": [],
   "source": [
    "print(sublists_of_list([1,2,4,6,7]))"
   ]
  },
  {
   "cell_type": "code",
   "execution_count": null,
   "id": "8b597188",
   "metadata": {},
   "outputs": [],
   "source": []
  }
 ],
 "metadata": {
  "kernelspec": {
   "display_name": "Python 3 (ipykernel)",
   "language": "python",
   "name": "python3"
  },
  "language_info": {
   "codemirror_mode": {
    "name": "ipython",
    "version": 3
   },
   "file_extension": ".py",
   "mimetype": "text/x-python",
   "name": "python",
   "nbconvert_exporter": "python",
   "pygments_lexer": "ipython3",
   "version": "3.13.1"
  }
 },
 "nbformat": 4,
 "nbformat_minor": 5
}
