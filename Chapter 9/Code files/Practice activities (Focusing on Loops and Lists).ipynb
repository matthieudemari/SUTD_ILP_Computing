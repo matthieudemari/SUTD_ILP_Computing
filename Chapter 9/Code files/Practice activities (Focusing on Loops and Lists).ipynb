{
 "cells": [
  {
   "cell_type": "markdown",
   "id": "c408a46a",
   "metadata": {},
   "source": [
    "# Practice activities (Focusing on Loops and Lists)\n",
    "\n",
    "Below is a list of practice activities, noted with difficulty levels.\n",
    "\n",
    "**Some of them will come with test cases for you to try your function, but your function should work with any input we could deem acceptable (e.g. any list of integers, not just the one provided for demo!)**\n",
    "\n",
    "Most of these activities will therefore require you to come up with ideas to test your function and make sure you have found the right one."
   ]
  },
  {
   "cell_type": "markdown",
   "id": "e71cc88a",
   "metadata": {},
   "source": [
    "## 1. Positive and negative sublists\n",
    "\n",
    "Write a function that receives a list of integers, as the one below."
   ]
  },
  {
   "cell_type": "code",
   "execution_count": null,
   "id": "4ed144e3",
   "metadata": {},
   "outputs": [],
   "source": [
    "integers_list = [-1,2,0,4,-5,4,0,8,6,-7,1]"
   ]
  },
  {
   "cell_type": "markdown",
   "id": "db962809",
   "metadata": {},
   "source": [
    "The function should return three lists, containing all occurrences of strictly positive, strictly negative and zeros inside the given list. Some of these lists might be empty. The expected output for the list above would then be"
   ]
  },
  {
   "cell_type": "code",
   "execution_count": null,
   "id": "3c1a6017",
   "metadata": {},
   "outputs": [],
   "source": [
    "positives = [2,4,4,8,6,1]\n",
    "negatives = [-1,-5,-7]\n",
    "zeroes = [0,0]"
   ]
  },
  {
   "cell_type": "markdown",
   "id": "fcad1662",
   "metadata": {},
   "source": [
    "### Your code below!"
   ]
  },
  {
   "cell_type": "code",
   "execution_count": null,
   "id": "268f990e",
   "metadata": {},
   "outputs": [],
   "source": [
    "def define_subsets(integers_list):\n",
    "    pass"
   ]
  },
  {
   "cell_type": "code",
   "execution_count": null,
   "id": "4614b91a",
   "metadata": {},
   "outputs": [],
   "source": [
    "integers_list = [-1,2,0,4,-5,4,0,8,6,-7,1]\n",
    "print(define_subsets(integers_list))"
   ]
  },
  {
   "cell_type": "code",
   "execution_count": null,
   "id": "682a537e",
   "metadata": {},
   "outputs": [],
   "source": [
    "integers_list = []\n",
    "print(define_subsets(integers_list))"
   ]
  },
  {
   "cell_type": "markdown",
   "id": "12bd7a2c",
   "metadata": {},
   "source": [
    "## 2. Below and above average\n",
    "\n",
    "Write a function that receives a list of integers, such as the one shown below."
   ]
  },
  {
   "cell_type": "code",
   "execution_count": null,
   "id": "5541e5a0",
   "metadata": {},
   "outputs": [],
   "source": [
    "integers_list = [1,2,4,5,4,8,6,8]"
   ]
  },
  {
   "cell_type": "markdown",
   "id": "7728c85b",
   "metadata": {},
   "source": [
    "The function should return three parameters:\n",
    "- the first one is the average value of the elements in the list,\n",
    "- the second is a list containing the elements with values strictly lower than the average value,\n",
    "- and the third is a list containing the elements with values strictly higher than the average value,"
   ]
  },
  {
   "cell_type": "code",
   "execution_count": null,
   "id": "30470008",
   "metadata": {},
   "outputs": [],
   "source": [
    "avg_value = 4.75\n",
    "lower = [1,2,4,4]\n",
    "higher = [5,8,6,8]"
   ]
  },
  {
   "cell_type": "markdown",
   "id": "169ffdee",
   "metadata": {},
   "source": [
    "### Your code below!"
   ]
  },
  {
   "cell_type": "code",
   "execution_count": null,
   "id": "e742bf32",
   "metadata": {},
   "outputs": [],
   "source": [
    "def below_above_avg(integers_list):\n",
    "    pass"
   ]
  },
  {
   "cell_type": "code",
   "execution_count": null,
   "id": "7d407280",
   "metadata": {},
   "outputs": [],
   "source": [
    "integers_list = [1,2,4,5,4,8,6,8]\n",
    "print(below_above_avg(integers_list))"
   ]
  },
  {
   "cell_type": "code",
   "execution_count": null,
   "id": "e37b2eb5",
   "metadata": {},
   "outputs": [],
   "source": [
    "integers_list = []\n",
    "print(below_above_avg(integers_list))"
   ]
  },
  {
   "cell_type": "markdown",
   "id": "46b9f2f5",
   "metadata": {},
   "source": [
    "## 3. List of positive divisors\n",
    "\n",
    "Write a function that receives a single strictly positive integer number, such as the one shown below."
   ]
  },
  {
   "cell_type": "code",
   "execution_count": null,
   "id": "6519477c",
   "metadata": {},
   "outputs": [],
   "source": [
    "integer = 12"
   ]
  },
  {
   "cell_type": "markdown",
   "id": "4821c4bb",
   "metadata": {},
   "source": [
    "The function should return a list, which contains all the proper divisors of this number, sorted in ascending order. In the case of integer = 12 above, the expected output is then"
   ]
  },
  {
   "cell_type": "code",
   "execution_count": null,
   "id": "94af4f8b",
   "metadata": {},
   "outputs": [],
   "source": [
    "divisors = [1,2,3,4,6,12]"
   ]
  },
  {
   "cell_type": "markdown",
   "id": "bbac1ffe",
   "metadata": {},
   "source": [
    "### Your code below!"
   ]
  },
  {
   "cell_type": "code",
   "execution_count": 20,
   "id": "af63f871",
   "metadata": {},
   "outputs": [],
   "source": [
    "def positive_divisors(number):\n",
    "    pass"
   ]
  },
  {
   "cell_type": "code",
   "execution_count": 21,
   "id": "d52a30ec",
   "metadata": {},
   "outputs": [
    {
     "name": "stdout",
     "output_type": "stream",
     "text": [
      "[1, 36, 2, 18, 3, 12, 4, 9, 6, 6]\n"
     ]
    }
   ],
   "source": [
    "print(positive_divisors(number = 36))"
   ]
  },
  {
   "cell_type": "markdown",
   "id": "7744b8d8",
   "metadata": {},
   "source": [
    "## 4. Remove outliers\n",
    "\n",
    "Write a function that receives a list of integers, as the one below."
   ]
  },
  {
   "cell_type": "code",
   "execution_count": null,
   "id": "f5756c2a",
   "metadata": {},
   "outputs": [],
   "source": [
    "integers_list = [1,2,4,5,4,8,6,7,1]"
   ]
  },
  {
   "cell_type": "markdown",
   "id": "0333c0f1",
   "metadata": {},
   "source": [
    "The function should remove all the occurrences of the minimal and maximal values from the list. The expected output for the list shown above, should then be"
   ]
  },
  {
   "cell_type": "code",
   "execution_count": null,
   "id": "522bd98f",
   "metadata": {},
   "outputs": [],
   "source": [
    "result = [2,4,5,4,6,7]"
   ]
  },
  {
   "cell_type": "markdown",
   "id": "071f4967",
   "metadata": {},
   "source": [
    "### Your code below!"
   ]
  },
  {
   "cell_type": "code",
   "execution_count": null,
   "id": "67c42e2b",
   "metadata": {},
   "outputs": [],
   "source": [
    "def remove_outliers(integers_list):\n",
    "    pass"
   ]
  },
  {
   "cell_type": "code",
   "execution_count": null,
   "id": "3b36f55f-4a27-4e10-898a-42c2b181cbba",
   "metadata": {},
   "outputs": [],
   "source": [
    "print(remove_outliers([1,2,4,5,4,8,6,7,1]))"
   ]
  },
  {
   "cell_type": "markdown",
   "id": "c644d16d",
   "metadata": {},
   "source": [
    "## 5. Remove duplicates\n",
    "\n",
    "Write a function that receives a list of integers, as the one below."
   ]
  },
  {
   "cell_type": "code",
   "execution_count": null,
   "id": "49477a00",
   "metadata": {},
   "outputs": [],
   "source": [
    "integers_list = [1,2,4,5,4,8,6,7,1]"
   ]
  },
  {
   "cell_type": "markdown",
   "id": "f89e6b72",
   "metadata": {},
   "source": [
    "The function should remove all duplicates from the list and return a list consisting of the elements, with duplicates removed. In the example shown above, the expected output of the function should be as shown below. As a note, the first occurence of the duplicate value should stay, and the others should be removed.\n",
    "\n",
    "**Hint:** Although the activity is called \"remove duplicates\", it might be simpler to create a second list that starts empty and decide what to add as elements. In fact, working with a single list and deciding what to remove might be more difficult!"
   ]
  },
  {
   "cell_type": "code",
   "execution_count": null,
   "id": "0b1e085b",
   "metadata": {},
   "outputs": [],
   "source": [
    "result = [1,2,4,5,8,6,7] # And not [2,5,4,8,6,7,1]!"
   ]
  },
  {
   "cell_type": "markdown",
   "id": "05ae3247",
   "metadata": {},
   "source": [
    "### Your code below!"
   ]
  },
  {
   "cell_type": "code",
   "execution_count": null,
   "id": "a0a9eec0",
   "metadata": {},
   "outputs": [],
   "source": [
    "def remove_duplicates(integers_list):\n",
    "    pass"
   ]
  },
  {
   "cell_type": "code",
   "execution_count": null,
   "id": "d552a1da",
   "metadata": {},
   "outputs": [],
   "source": [
    "print(remove_duplicates(integers_list))"
   ]
  },
  {
   "cell_type": "markdown",
   "id": "f6b9adfb",
   "metadata": {},
   "source": [
    "## 6. Unique counter\n",
    "\n",
    "Write a function receives a list of integers, my_list.\n",
    "\n",
    "It returns two lists.\n",
    "- The first one, in res1, contains the values in my_list, without duplicates, in ascending order.\n",
    "- The second one, in res2, contains the number of times each element in res1 appears in my_list\n",
    "\n",
    "For instance:\n",
    "- If my_list = [4,1,1,2,4,3,5,1], then the function should return res1 = [1,2,3,4,5] and res2 = [3,1,1,2,1]."
   ]
  },
  {
   "cell_type": "markdown",
   "id": "8213e822",
   "metadata": {},
   "source": [
    "### Your code below!"
   ]
  },
  {
   "cell_type": "code",
   "execution_count": 8,
   "id": "df1f97ac",
   "metadata": {},
   "outputs": [
    {
     "ename": "IndexError",
     "evalue": "list index out of range",
     "output_type": "error",
     "traceback": [
      "\u001b[1;31m---------------------------------------------------------------------------\u001b[0m",
      "\u001b[1;31mIndexError\u001b[0m                                Traceback (most recent call last)",
      "Cell \u001b[1;32mIn[8], line 25\u001b[0m\n\u001b[0;32m     21\u001b[0m         res2[pos] \u001b[38;5;241m+\u001b[39m\u001b[38;5;241m=\u001b[39m \u001b[38;5;241m1\u001b[39m\n\u001b[0;32m     23\u001b[0m     \u001b[38;5;28;01mreturn\u001b[39;00m res1, res2\n\u001b[1;32m---> 25\u001b[0m \u001b[38;5;28mprint\u001b[39m(\u001b[43mf\u001b[49m\u001b[43m(\u001b[49m\u001b[43m[\u001b[49m\u001b[38;5;241;43m4\u001b[39;49m\u001b[43m,\u001b[49m\u001b[38;5;241;43m1\u001b[39;49m\u001b[43m,\u001b[49m\u001b[38;5;241;43m1\u001b[39;49m\u001b[43m,\u001b[49m\u001b[38;5;241;43m2\u001b[39;49m\u001b[43m,\u001b[49m\u001b[38;5;241;43m4\u001b[39;49m\u001b[43m,\u001b[49m\u001b[38;5;241;43m3\u001b[39;49m\u001b[43m,\u001b[49m\u001b[38;5;241;43m5\u001b[39;49m\u001b[43m,\u001b[49m\u001b[38;5;241;43m1\u001b[39;49m\u001b[43m]\u001b[49m\u001b[43m)\u001b[49m) \u001b[38;5;66;03m# res1 = [1,2,3,4,5] and res2 = [3,1,1,2,1].\u001b[39;00m\n",
      "Cell \u001b[1;32mIn[8], line 21\u001b[0m, in \u001b[0;36mf\u001b[1;34m(my_list)\u001b[0m\n\u001b[0;32m     19\u001b[0m     \u001b[38;5;66;03m# Find the positional value of the element in res1\u001b[39;00m\n\u001b[0;32m     20\u001b[0m     pos \u001b[38;5;241m=\u001b[39m res1\u001b[38;5;241m.\u001b[39mindex(element)\n\u001b[1;32m---> 21\u001b[0m     \u001b[43mres2\u001b[49m\u001b[43m[\u001b[49m\u001b[43mpos\u001b[49m\u001b[43m]\u001b[49m \u001b[38;5;241m+\u001b[39m\u001b[38;5;241m=\u001b[39m \u001b[38;5;241m1\u001b[39m\n\u001b[0;32m     23\u001b[0m \u001b[38;5;28;01mreturn\u001b[39;00m res1, res2\n",
      "\u001b[1;31mIndexError\u001b[0m: list index out of range"
     ]
    }
   ],
   "source": []
  },
  {
   "cell_type": "markdown",
   "id": "7b2c00a8",
   "metadata": {},
   "source": [
    "## 7. Are all consecutive\n",
    "\n",
    "Write a function **are_all_consecutive()**, which receives a single parameter, **my_list**, a non-empty list of integers, in ascending order.\n",
    "\n",
    "The function returns a single boolean, **is_cons**, set to True if all the elements in the list are consecutive and False otherwise.\n",
    "\n",
    "For instance, \n",
    "- if **my_list = [1,2,3]**, the function should return **is_cons = True**,\n",
    "- if **my_list = [7,8,9,10]**, the function should return **is_cons = True**,\n",
    "- if **my_list = [8]**, the function should return **is_cons = True**,\n",
    "- if **my_list = [1,2,2,3]**, the function should return **is_cons = False**,\n",
    "- if **my_list = [1,2,4,5]**, the function should return **is_cons = False**,"
   ]
  },
  {
   "cell_type": "markdown",
   "id": "5d99fde1",
   "metadata": {},
   "source": [
    "### Your code below!"
   ]
  },
  {
   "cell_type": "code",
   "execution_count": 20,
   "id": "d9693d85-1841-43b3-a072-85e5c1950879",
   "metadata": {},
   "outputs": [
    {
     "name": "stdout",
     "output_type": "stream",
     "text": [
      "False\n",
      "True\n"
     ]
    }
   ],
   "source": []
  },
  {
   "cell_type": "markdown",
   "id": "6b2d2c96",
   "metadata": {},
   "source": [
    "## 8. Has a triplet\n",
    "\n",
    "Write a function **find_if_triplet()**, which receives a single parameter, **my_list**, a list of integers, with **values in ascending order**.\n",
    "\n",
    "The function returns a single boolean, **has_triplet**, which is set to True if an element of the list **my_list** appears at least three times. It returns False otherwise.\n",
    "\n",
    "For instance,\n",
    "- if **my_list = [1,1,1]**, the function should return **has_triplet = True**,\n",
    "- if **my_list = [1,2,3,3,3]**, the function should return **has_triplet = True**,\n",
    "- if **my_list = [1,2,2,2,2,3]**, the function should return **has_triplet = True**,\n",
    "- if **my_list = [1,2,2,3,4,4,5]**, the function should return **has_triplet = False**. "
   ]
  },
  {
   "cell_type": "markdown",
   "id": "0f1b4d3c",
   "metadata": {},
   "source": [
    "### Your code below!"
   ]
  },
  {
   "cell_type": "code",
   "execution_count": null,
   "id": "5432c1d7",
   "metadata": {},
   "outputs": [],
   "source": [
    "def find_if_triplet(my_list):\n",
    "    pass"
   ]
  },
  {
   "cell_type": "markdown",
   "id": "17fffeea",
   "metadata": {},
   "source": [
    "# 9. Is sublist\n",
    "\n",
    "Write a function that receives two lists list1 and list2.\n",
    "It returns True if all the elements of list2 are in list1, or in other words, if list2 is a sublist of list1. Order matters!\n",
    "\n",
    "For instance:\n",
    "- If list1 = [1,2,3,4,5,2,4,1] and list2 = [3,4,5], it should return True.\n",
    "- If list1 = [1,2,3,4,5,2,4,1] and list2 = [4,5,6], it should return False.\n",
    "- If list1 = [1,2,3,4,5,2,4,1] and list2 = [2,3,5], it should return False."
   ]
  },
  {
   "cell_type": "markdown",
   "id": "61389fbf",
   "metadata": {},
   "source": [
    "### Your code below!"
   ]
  },
  {
   "cell_type": "code",
   "execution_count": null,
   "id": "5f9060b8",
   "metadata": {},
   "outputs": [],
   "source": []
  },
  {
   "cell_type": "markdown",
   "id": "84de7f2e",
   "metadata": {},
   "source": [
    "## 10 Hard. Sublists of a list (so, you want a real challenge?)\n",
    "\n",
    "### Important Note\n",
    "\n",
    "Just showing it to you for those of you who really want a really hard challenge!\n",
    "\n",
    "Try at your own risk! Beware, it is nasty!\n",
    "\n",
    "**Suggestion:** use nested for loops and, if you feel like it, recursion!\n",
    "\n",
    "### Problem statement\n",
    "\n",
    "Write a function that receives a list, as shown below.\n",
    "The list will have values sorted in ascending order and no duplicates."
   ]
  },
  {
   "cell_type": "code",
   "execution_count": null,
   "id": "1aedff05",
   "metadata": {},
   "outputs": [],
   "source": [
    "numbers_list = [1,2,4,6]"
   ]
  },
  {
   "cell_type": "markdown",
   "id": "76600ebf",
   "metadata": {},
   "source": [
    "The function should return a list of lists, containing all the possible sublists that can be created, using the values in the given list. In the example above, that is"
   ]
  },
  {
   "cell_type": "code",
   "execution_count": null,
   "id": "c4bf5a0b",
   "metadata": {},
   "outputs": [],
   "source": [
    "result = [[], \\\n",
    "          [1], [2], [4], [6], \\\n",
    "          [1, 2], [1, 4], [1, 6], [2, 4], [2, 6], [4, 6], \\\n",
    "          [1, 2, 4], [1, 2, 6], [1, 4, 6], [2, 4, 6], \\\n",
    "          [1, 2, 4, 6]]"
   ]
  },
  {
   "cell_type": "markdown",
   "id": "b881549a",
   "metadata": {},
   "source": [
    "### Your code below!"
   ]
  },
  {
   "cell_type": "code",
   "execution_count": null,
   "id": "e144c9a1-4469-491b-a1fb-62a936c1e80c",
   "metadata": {},
   "outputs": [],
   "source": []
  }
 ],
 "metadata": {
  "kernelspec": {
   "display_name": "Python 3 (ipykernel)",
   "language": "python",
   "name": "python3"
  },
  "language_info": {
   "codemirror_mode": {
    "name": "ipython",
    "version": 3
   },
   "file_extension": ".py",
   "mimetype": "text/x-python",
   "name": "python",
   "nbconvert_exporter": "python",
   "pygments_lexer": "ipython3",
   "version": "3.13.1"
  }
 },
 "nbformat": 4,
 "nbformat_minor": 5
}
