{
 "cells": [
  {
   "cell_type": "markdown",
   "id": "b3149a63-2b16-4b1e-8d08-a408fe0827ea",
   "metadata": {},
   "source": [
    "# Extra challenge (angry version)!\n",
    "\n",
    "Finished all problem sets and Lab Pre-Reading? Looking for an angry challenge to keep you busy?\n",
    "\n",
    "### Instructions\n",
    "\n",
    "Write a function **f()** that receives a list of integers, which are always sorted in ascending order, without any duplicates.\n",
    "\n",
    "For instance [1, 2, 4, 6] is a valid list. The list [1, 4, 2, 6] is not a valid list (not sorted in ascending order), and [1, 2, 2, 4, 6] is not (has duplicates).\n",
    "\n",
    "The function should return, as a result, a list of all the possible sublists of elements, in ascending order.\n",
    "\n",
    "You may use subfunctions to break down the operations in the function **f()**, if it helps you to make the code cleaner.\n",
    "\n",
    "### Test case (only one is given, but not the only one?)\n",
    "\n",
    "If the list given to **f()** is [1, 2, 4, 6], then it should return, as a result the following list of list, with the elements in that order:\n",
    "\n",
    "[[], [1], [2], [4], [6], [1, 2], [1, 4], [1, 6], [2, 4], [2, 6], [4, 6], [1, 2, 4], [1, 2, 6], [1, 4, 6], [2, 4, 6], [1, 2, 4, 6]]\n",
    "\n",
    "### Reward\n",
    "\n",
    "First three ones to get it right, get a Kinder Bueno next lecture.\n",
    "\n",
    "Important note #1: No chatGPT, no concepts not discussed in lectures (e.g. itertools and stuff)\n",
    "\n",
    "Important note #2: if function looks disgusting, I reserve the right to refuse the prize.\n",
    "\n",
    "### Some hints?\n",
    "\n",
    "<details>\n",
    "  <summary>Click here for hint #1</summary>\n",
    "  Hint #1: 1, 4, 6, 4, 1 might be an interesting pattern here, but why?\n",
    "</details>\n",
    "\n",
    "<details>\n",
    "  <summary>Click here for hint #2</summary>\n",
    "  Hint #2: Why am I bringing this activity up only today, after the recursion lecture?\n",
    "</details>\n",
    "\n",
    "<details>\n",
    "  <summary>Click here for hint #3</summary>\n",
    "  Hint #3: The recursion should allow you to create all the lists of three elements, using the lists of two elements and the lists of one element, combining them in a certain way. And probably longer lists after that.\n",
    "</details>\n"
   ]
  },
  {
   "cell_type": "code",
   "execution_count": null,
   "id": "fb4013e9-f21b-4bc5-a026-df6939ad7328",
   "metadata": {},
   "outputs": [],
   "source": []
  }
 ],
 "metadata": {
  "kernelspec": {
   "display_name": "Python 3 (ipykernel)",
   "language": "python",
   "name": "python3"
  },
  "language_info": {
   "codemirror_mode": {
    "name": "ipython",
    "version": 3
   },
   "file_extension": ".py",
   "mimetype": "text/x-python",
   "name": "python",
   "nbconvert_exporter": "python",
   "pygments_lexer": "ipython3",
   "version": "3.12.5"
  }
 },
 "nbformat": 4,
 "nbformat_minor": 5
}
