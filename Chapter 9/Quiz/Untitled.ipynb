{
 "cells": [
  {
   "cell_type": "code",
   "execution_count": 3,
   "id": "2bb5904f-16b3-4c72-8a01-5b99268e35da",
   "metadata": {},
   "outputs": [
    {
     "name": "stdout",
     "output_type": "stream",
     "text": [
      "True\n",
      "False\n"
     ]
    }
   ],
   "source": [
    "def f(x):\n",
    "    if(len(x) <= 1):\n",
    "        return True\n",
    "    elif(x[0] != x[-1]):\n",
    "        return False\n",
    "    else:\n",
    "        return f(x[1:-1])\n",
    "# What will be printed?\n",
    "# This list contains the word girafarig\n",
    "print(f([\"g\",\"i\",\"r\",\"a\",\"f\",\"a\",\"r\",\"i\",\"g\"))\n",
    "# This list contains the word pikachu\n",
    "print(f([\"p\",\"i\",\"k\",\"a\",\"c\",\"h\",\"u\"]))"
   ]
  },
  {
   "cell_type": "code",
   "execution_count": 5,
   "id": "a13b0e15-56cf-42e6-ae44-7c71c76079df",
   "metadata": {},
   "outputs": [
    {
     "name": "stdout",
     "output_type": "stream",
     "text": [
      "6\n"
     ]
    }
   ],
   "source": [
    "def f(n):\n",
    "    if n == 0:\n",
    "        return 0\n",
    "    return n % 10 + f(n // 10)\n",
    "# What will be printed?\n",
    "print(f(123))"
   ]
  },
  {
   "cell_type": "code",
   "execution_count": 6,
   "id": "92bb7a59-6f08-497a-9c44-afc7ed609849",
   "metadata": {},
   "outputs": [],
   "source": [
    "def fibonacci_v1(n):\n",
    "    if n == 1 or n == 2:\n",
    "        return 1\n",
    "    return fibonacci_v1(n - 1) + fibonacci_v1(n - 2)\n",
    "\n",
    "from functools import lru_cache\n",
    "@lru_cache\n",
    "def fibonacci_v2(n):\n",
    "    if n == 1 or n == 2:\n",
    "        return 1\n",
    "    return fibonacci_v2(n - 1) + fibonacci_v2(n - 2)"
   ]
  },
  {
   "cell_type": "code",
   "execution_count": null,
   "id": "abd0dfd1-e821-4b9c-a1de-cb22b072ba25",
   "metadata": {},
   "outputs": [],
   "source": [
    "# What to put in each blank\n",
    "# to make the recursion happen?\n",
    "def sum_list(lst):\n",
    "    # Base case\n",
    "    if ___A___:   \n",
    "        return 0\n",
    "    # Recursion case\n",
    "    return lst[0] + ___B___"
   ]
  },
  {
   "cell_type": "code",
   "execution_count": 10,
   "id": "0d3b6075-38aa-4496-bbb3-bb16a605ad1a",
   "metadata": {},
   "outputs": [
    {
     "name": "stdout",
     "output_type": "stream",
     "text": [
      "11\n"
     ]
    }
   ],
   "source": [
    "# What to put in each blank\n",
    "# to make the recursion happen?\n",
    "def sum_list(lst):\n",
    "    # Base case\n",
    "    if len(lst) == 0:   \n",
    "        return 0\n",
    "    # Recursion case\n",
    "    return lst[0] + sum_list(lst[1:])\n",
    "\n",
    "print(sum_list([1, 7, 3]))"
   ]
  },
  {
   "cell_type": "code",
   "execution_count": null,
   "id": "4fc76c5f-6c14-4208-93d7-72b924027537",
   "metadata": {},
   "outputs": [],
   "source": []
  }
 ],
 "metadata": {
  "kernelspec": {
   "display_name": "Python 3 (ipykernel)",
   "language": "python",
   "name": "python3"
  },
  "language_info": {
   "codemirror_mode": {
    "name": "ipython",
    "version": 3
   },
   "file_extension": ".py",
   "mimetype": "text/x-python",
   "name": "python",
   "nbconvert_exporter": "python",
   "pygments_lexer": "ipython3",
   "version": "3.13.1"
  }
 },
 "nbformat": 4,
 "nbformat_minor": 5
}
