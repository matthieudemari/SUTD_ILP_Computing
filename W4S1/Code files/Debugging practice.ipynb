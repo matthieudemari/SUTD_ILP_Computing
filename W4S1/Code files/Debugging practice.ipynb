{
 "cells": [
  {
   "cell_type": "markdown",
   "metadata": {},
   "source": [
    "# Debugging practice"
   ]
  },
  {
   "cell_type": "markdown",
   "metadata": {},
   "source": [
    "### 1"
   ]
  },
  {
   "cell_type": "code",
   "execution_count": null,
   "metadata": {},
   "outputs": [],
   "source": [
    "# Add 1 to all numbers in list_numbers\n",
    "list_numbers = [\"0\", \"1\", \"2\", \"3\"]\n",
    "add_1_list = []\n",
    "for number in list_numbers:\n",
    "    val = number + 1\n",
    "    add_1_list.append(val)\n",
    "print(add_1_list)"
   ]
  },
  {
   "cell_type": "markdown",
   "metadata": {},
   "source": [
    "### 2"
   ]
  },
  {
   "cell_type": "code",
   "execution_count": null,
   "metadata": {},
   "outputs": [],
   "source": [
    "def function(list):\n",
    "    for i in list:\n",
    "        if(i % 2 == 0):\n",
    "            list.remove(i)\n",
    "    return list\n",
    "\n",
    "mylist2=[2,2,2,3,4,5,6,6,9]\n",
    "function(mylist2)\n",
    "print(mylist2)\n"
   ]
  },
  {
   "cell_type": "code",
   "execution_count": null,
   "metadata": {},
   "outputs": [],
   "source": [
    "# Remove all even numbers from my_list\n",
    "my_list = [1,2,4,4,5,6]\n",
    "for i in range(len(my_list)):\n",
    "    if(my_list[i] % 2 == 0):\n",
    "        del my_list[i]\n",
    "    print(i, my_list)\n",
    "print(my_list)"
   ]
  },
  {
   "cell_type": "markdown",
   "metadata": {},
   "source": [
    "### 3"
   ]
  },
  {
   "cell_type": "code",
   "execution_count": null,
   "metadata": {},
   "outputs": [],
   "source": [
    "# Ask user for name and create custom welcome message\n",
    "def my_function():\n",
    "    name = input(\"What is your name?: \")\n",
    "    welcome_message = \"Hello {} and welcome to SUTD.\".format(name)\n",
    "    return welcome_message\n",
    "\n",
    "# Function does not work?!\n",
    "print(my_function)"
   ]
  },
  {
   "cell_type": "markdown",
   "metadata": {},
   "source": [
    "### 4"
   ]
  },
  {
   "cell_type": "code",
   "execution_count": null,
   "metadata": {},
   "outputs": [],
   "source": [
    "# Find if value appears in my_list\n",
    "def find_value_in_list(my_list, value):\n",
    "    found = False\n",
    "    for value in my_list:\n",
    "        if value == value:\n",
    "            return True\n",
    "    return False\n",
    "\n",
    "my_list = [1,3,5,7,9]\n",
    "value = 4\n",
    "# 4 is not in my_list, why does it return True?\n",
    "print(find_value_in_list(my_list, value))"
   ]
  },
  {
   "cell_type": "markdown",
   "metadata": {},
   "source": [
    "### 5 (ignore it for now, very challenging, try the other activities first!)"
   ]
  },
  {
   "cell_type": "code",
   "execution_count": null,
   "metadata": {},
   "outputs": [],
   "source": [
    "# List sorting refers to the concept of sorting elements of a list in ascending order\n",
    "my_list = [2,7,9,1,4,5]\n",
    "print(sorted(my_list))"
   ]
  },
  {
   "cell_type": "code",
   "execution_count": null,
   "metadata": {
    "scrolled": true
   },
   "outputs": [],
   "source": [
    "# Our custom list sorting procedure has an infinite loop, why?\n",
    "# How to fix it?\n",
    "def list_sorting(my_list):\n",
    "    changed_value = True\n",
    "    while(changed_value):\n",
    "        for index, value in enumerate(my_list[:-1]):\n",
    "            if value > my_list[index + 1]:\n",
    "                my_list[index], my_list[index + 1] = my_list[index + 1], my_list[index]\n",
    "                changed_value = True\n",
    "    return my_list\n",
    "print(list_sorting(my_list))"
   ]
  },
  {
   "cell_type": "markdown",
   "metadata": {},
   "source": [
    "### 6"
   ]
  },
  {
   "cell_type": "code",
   "execution_count": null,
   "metadata": {},
   "outputs": [],
   "source": [
    "# Multiply a given number by 10\n",
    "def multiply_by_10(number):\n",
    "    10_times_number = 10*number\n",
    "    return 10_times_number\n",
    "\n",
    "number = 5\n",
    "print(multiply_by_10(number))"
   ]
  },
  {
   "cell_type": "markdown",
   "metadata": {},
   "source": [
    "### 7"
   ]
  },
  {
   "cell_type": "code",
   "execution_count": null,
   "metadata": {},
   "outputs": [],
   "source": [
    "# Check for valid rank name\n",
    "def is_valid_rank(user_rank):\n",
    "    if(user_rank == \"Soldier\" or user_rank == \"Captain\" or user_rank == \"General\"):\n",
    "        return True\n",
    "    else:\n",
    "    return False\n",
    "\n",
    "user_rank = \"Major\"\n",
    "print(is_valid_rank(user_rank))"
   ]
  },
  {
   "cell_type": "markdown",
   "metadata": {},
   "source": [
    "### 8"
   ]
  },
  {
   "cell_type": "code",
   "execution_count": null,
   "metadata": {},
   "outputs": [],
   "source": [
    "# Check for valid rank name\n",
    "# If soldier, check for first or second class\n",
    "def is_valid_rank(user_rank, user_class):\n",
    "    if(user_rank == \"Soldier\"):\n",
    "        print(\"Soldier rank detected, checking for class.\")    \n",
    "            if(user_class == \"First\" or user_class == \"Second\"):\n",
    "                return True\n",
    "    elif(user_rank == \"Captain\" or user_rank == \"General\"):\n",
    "        return True\n",
    "    else:\n",
    "            return False\n",
    "\n",
    "user_rank = \"Soldier\"\n",
    "user_class = \"First\"\n",
    "print(is_valid_rank(user_rank, user_class))"
   ]
  },
  {
   "cell_type": "markdown",
   "metadata": {},
   "source": [
    "### 9"
   ]
  },
  {
   "cell_type": "code",
   "execution_count": null,
   "metadata": {},
   "outputs": [],
   "source": [
    "# Sum all numbers in a given list\n",
    "def sum_elements_list(my_list):\n",
    "    sum_value = 0\n",
    "    for element in my_list\n",
    "        sum_value += element\n",
    "    return sum_value\n",
    "\n",
    "my_list = [1,2,3,4]\n",
    "print(sum_elements_list(my_list))"
   ]
  },
  {
   "cell_type": "markdown",
   "metadata": {},
   "source": [
    "### 10"
   ]
  },
  {
   "cell_type": "code",
   "execution_count": null,
   "metadata": {},
   "outputs": [],
   "source": [
    "# Add 1 to each number in list\n",
    "def add_1_to_list(my_list):\n",
    "    for value in my_list:\n",
    "        new_value = value + 1\n",
    "        new_list.append(new_value)\n",
    "    return new_list\n",
    "\n",
    "my_list = [1,2,3,4]\n",
    "print(add_1_to_list(my_list))"
   ]
  },
  {
   "cell_type": "code",
   "execution_count": null,
   "metadata": {},
   "outputs": [],
   "source": [
    "# Add 1 to each number in list\n",
    "def add_1_to_list(my_list):\n",
    "    for value in my_list:\n",
    "        new_value = value + 1\n",
    "        new_list.append(new_value)\n",
    "    return new_list\n",
    "\n",
    "my_list = [1,2,3,4]\n",
    "print(add_1_to_list(my_list))"
   ]
  },
  {
   "cell_type": "markdown",
   "metadata": {},
   "source": [
    "### 11"
   ]
  },
  {
   "cell_type": "code",
   "execution_count": null,
   "metadata": {},
   "outputs": [],
   "source": [
    "# Sorting numerical values with sorted\n",
    "# It only works on lists though.\n",
    "my_list = [4,8,9,5,7]\n",
    "print(sorted(my_list))"
   ]
  },
  {
   "cell_type": "code",
   "execution_count": null,
   "metadata": {},
   "outputs": [],
   "source": [
    "# Converting a string to a list, give a list of all characters\n",
    "number = \"153284\"\n",
    "print(sorted(number))"
   ]
  },
  {
   "cell_type": "code",
   "execution_count": null,
   "metadata": {},
   "outputs": [],
   "source": [
    "# Sorting digits in number using sorted\n",
    "def sort_digits_number(number):\n",
    "    return sorted(number)\n",
    "\n",
    "number = \"153284\"\n",
    "print(sort_digits_number(number))\n",
    "# Modify the function above to obtain the\n",
    "# string below as a result instead of a list of digits!\n",
    "result = \"123458\""
   ]
  },
  {
   "cell_type": "markdown",
   "metadata": {},
   "source": [
    "### 12"
   ]
  },
  {
   "cell_type": "code",
   "execution_count": null,
   "metadata": {},
   "outputs": [],
   "source": [
    "# Add a number to all the numbers in a list\n",
    "def add_number_to_list(my_list, number):\n",
    "    new_list = []\n",
    "    for element in my_list:\n",
    "        new_list.append(element + number)\n",
    "    return new_list\n",
    "\n",
    "my_list = [1,2,3,4]\n",
    "number = 5\n",
    "print(add_number_to_list())"
   ]
  },
  {
   "cell_type": "markdown",
   "metadata": {},
   "source": [
    "### 13"
   ]
  },
  {
   "cell_type": "code",
   "execution_count": null,
   "metadata": {},
   "outputs": [],
   "source": [
    "# Check if dead or alive\n",
    "def check_status(status):\n",
    "    if(status == \"Dead\" or \"Alive\"):\n",
    "        return True\n",
    "    else:\n",
    "        return False\n",
    "\n",
    "# Why is it True?!\n",
    "status = \"Half-dead\"\n",
    "print(check_status(status))"
   ]
  },
  {
   "cell_type": "markdown",
   "metadata": {},
   "source": [
    "### 14"
   ]
  },
  {
   "cell_type": "code",
   "execution_count": null,
   "metadata": {},
   "outputs": [],
   "source": [
    "def counting_to(number):\n",
    "    x = 0\n",
    "    While(x < number):\n",
    "        x += 1\n",
    "        print(x)\n",
    "\n",
    "number = 10\n",
    "counting_to(number)"
   ]
  },
  {
   "cell_type": "markdown",
   "metadata": {},
   "source": [
    "### 15"
   ]
  },
  {
   "cell_type": "code",
   "execution_count": null,
   "metadata": {},
   "outputs": [],
   "source": [
    "# Grade to letter conversion\n",
    "def grade_convert(grade):\n",
    "    if grade >= 50:\n",
    "        return \"D\"\n",
    "    elif grade >= 65:\n",
    "        return \"C\"\n",
    "    elif grade >= 80:\n",
    "        return \"B\"\n",
    "    elif grade >= 90:\n",
    "        return \"A\"\n",
    "    else:\n",
    "        return \"E\"\n",
    "\n",
    "# Why D?\n",
    "grade = 95\n",
    "print(grade_convert(grade))"
   ]
  },
  {
   "cell_type": "markdown",
   "metadata": {},
   "source": [
    "### 16"
   ]
  },
  {
   "cell_type": "code",
   "execution_count": null,
   "metadata": {},
   "outputs": [],
   "source": [
    "# Guess the number\n",
    "def guess_number(number, hidden_number):\n",
    "    if(number = hidden_number):\n",
    "        print(\"You won!\")\n",
    "    else:\n",
    "        print(\"Try again with a different number!\")"
   ]
  },
  {
   "cell_type": "markdown",
   "metadata": {},
   "source": [
    "### 17"
   ]
  },
  {
   "cell_type": "code",
   "execution_count": null,
   "metadata": {},
   "outputs": [],
   "source": [
    "# Guess the number\n",
    "pi = 3.14\n",
    "def compute_area(radius):\n",
    "    area = pi*radius*radius\n",
    "    return area\n",
    "        \n",
    "# It works but is it really a good design?\n",
    "radius = 10\n",
    "print(compute_area(radius))"
   ]
  },
  {
   "cell_type": "markdown",
   "metadata": {},
   "source": [
    "### 18"
   ]
  },
  {
   "cell_type": "code",
   "execution_count": null,
   "metadata": {},
   "outputs": [],
   "source": [
    "# Guess the number\n",
    "def guess_number(number, hidden_number):\n",
    "    if(number == hidden_number):\n",
    "        print(True)\n",
    "    else:\n",
    "        print(False)\n",
    "        \n",
    "# Why does an extra None appear?\n",
    "print(guess_number(4, 6))"
   ]
  },
  {
   "cell_type": "markdown",
   "metadata": {},
   "source": [
    "### 19"
   ]
  },
  {
   "cell_type": "code",
   "execution_count": null,
   "metadata": {},
   "outputs": [],
   "source": [
    "# Get first two elements\n",
    "def return_first_two_element(my_list):\n",
    "    return my_list[1], my_list[2]\n",
    "\n",
    "# Why not correct?\n",
    "my_list = [5,7,9,8,4]\n",
    "first, second = return_first_two_element(my_list)\n",
    "print(first)\n",
    "print(second)"
   ]
  },
  {
   "cell_type": "markdown",
   "metadata": {},
   "source": [
    "### 20\n",
    "\n",
    "Vladimir designed the following code and asked you to debug it.\n",
    "\n",
    "We're not quite sure what he was trying to do, but let's try our best to make his code work!"
   ]
  },
  {
   "cell_type": "code",
   "execution_count": null,
   "metadata": {},
   "outputs": [],
   "source": [
    "# Vladimir’s wrong program\n",
    "def Vladimirs_function():\n",
    "    str = input(\"Please enter your name: \")\n",
    "    age = input(\"Please enter your age: \")\n",
    "    ListVlad = [] \n",
    "    k=0\n",
    "    while k < len(str)\n",
    "        ListVlad.append(k*age)\n",
    "        if int(sum(ListVlad)/len(ListVlad))%3 = 0:\n",
    "            print(\"Your name and \" + str(age) + \" made you lose!\")\n",
    "            else:\n",
    "            print(\"You win \" + ListVlad[k] + \" dollars.\")\n",
    "\n",
    "# Testing\n",
    "Vladimirs_function()"
   ]
  },
  {
   "cell_type": "code",
   "execution_count": null,
   "metadata": {},
   "outputs": [],
   "source": []
  }
 ],
 "metadata": {
  "kernelspec": {
   "display_name": "Python 3",
   "language": "python",
   "name": "python3"
  },
  "language_info": {
   "codemirror_mode": {
    "name": "ipython",
    "version": 3
   },
   "file_extension": ".py",
   "mimetype": "text/x-python",
   "name": "python",
   "nbconvert_exporter": "python",
   "pygments_lexer": "ipython3",
   "version": "3.9.6"
  }
 },
 "nbformat": 4,
 "nbformat_minor": 4
}
