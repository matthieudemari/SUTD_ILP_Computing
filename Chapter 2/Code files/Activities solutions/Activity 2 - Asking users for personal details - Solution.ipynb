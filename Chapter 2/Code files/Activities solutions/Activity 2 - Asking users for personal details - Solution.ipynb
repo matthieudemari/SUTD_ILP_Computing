{
 "cells": [
  {
   "cell_type": "markdown",
   "metadata": {},
   "source": [
    "# Activity 2 - Asking users for personal details - Solution"
   ]
  },
  {
   "cell_type": "markdown",
   "metadata": {},
   "source": [
    "### Tasks\n",
    "\n",
    "Write a Python script that explicitly asks the user for its name and its birth year.\n",
    "\n",
    "Later on, the script should display a message, reading:\n",
    "\n",
    "Your name is ... and your age is either ... or ...!, with blanks filled accordingly, reusing the user inputs.\n",
    "\n",
    "You may use the template below."
   ]
  },
  {
   "cell_type": "markdown",
   "metadata": {},
   "source": [
    "### You code below!"
   ]
  },
  {
   "cell_type": "code",
   "execution_count": 2,
   "metadata": {},
   "outputs": [
    {
     "name": "stdin",
     "output_type": "stream",
     "text": [
      "What is your name?  jdsodgh\n",
      "What is your birth year?  1989\n"
     ]
    },
    {
     "name": "stdout",
     "output_type": "stream",
     "text": [
      "Your name is jdsodgh and your age is either 36 or 35!\n",
      "Man, you're really old.\n"
     ]
    }
   ],
   "source": [
    "# 1. Ask user for his/her name.\n",
    "user_name = input(\"What is your name? \")\n",
    "\n",
    "# 2. Ask user for his/her birth year.\n",
    "user_birth_year = int(input(\"What is your birth year? \"))\n",
    "\n",
    "# 3. Compute the two possible ages the person could be.\n",
    "# (Change current year value if needed!)\n",
    "current_year = 2025\n",
    "age1 = current_year - user_birth_year\n",
    "age2 = age1 - 1\n",
    "\n",
    "# 4. Create and format message to be displayed.\n",
    "message = \"Your name is {} and your age is either {} or {}!\".format(user_name, age1, age2)\n",
    "mean_message = \"Man, you're really old.\"\n",
    "\n",
    "# 5. Print the message!\n",
    "print(message)\n",
    "print(mean_message)"
   ]
  },
  {
   "cell_type": "code",
   "execution_count": null,
   "metadata": {},
   "outputs": [],
   "source": []
  }
 ],
 "metadata": {
  "kernelspec": {
   "display_name": "Python 3 (ipykernel)",
   "language": "python",
   "name": "python3"
  },
  "language_info": {
   "codemirror_mode": {
    "name": "ipython",
    "version": 3
   },
   "file_extension": ".py",
   "mimetype": "text/x-python",
   "name": "python",
   "nbconvert_exporter": "python",
   "pygments_lexer": "ipython3",
   "version": "3.13.1"
  }
 },
 "nbformat": 4,
 "nbformat_minor": 4
}
