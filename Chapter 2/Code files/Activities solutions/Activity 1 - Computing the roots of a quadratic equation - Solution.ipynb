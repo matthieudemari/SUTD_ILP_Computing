{
 "cells": [
  {
   "cell_type": "markdown",
   "metadata": {},
   "source": [
    "# Activity 1 - Computing the roots of a quadratic equation - Solution"
   ]
  },
  {
   "cell_type": "markdown",
   "metadata": {},
   "source": [
    "### Problem statement\n",
    "\n",
    "Consider the following quadratic equation\n",
    "\n",
    "$$ a x^2 + b x + c = 0 $$\n",
    "\n",
    "In this activity, the coefficients $ a $, $ b $, $ c $ will have the following values $ a = 2 $, $ b = -2 $ and $ c = -24 $."
   ]
  },
  {
   "cell_type": "markdown",
   "metadata": {},
   "source": [
    "### Tasks\n",
    "\n",
    "1. Assign the values of a, b, c to variables\n",
    "\n",
    "2. & 3. Compute the discriminant $ delta $ and print it on screen to check it is strictly positive.\n",
    "\n",
    "4. & 5. Compute the roots $ x1 $ and $ x2 $ and print them on screen."
   ]
  },
  {
   "cell_type": "markdown",
   "metadata": {},
   "source": [
    "### Reminder\n",
    "\n",
    "As a reminder, the discriminant $ delta $ for a quadratic equation is defined as\n",
    "\n",
    "$$ delta  = b^2 - 4 a c $$\n",
    "\n",
    "**When the discriminant is strictly positive**, the roots $ x1 $ and $ x2 $ are defined as\n",
    "\n",
    "$$ x1 = \\frac{-b + \\sqrt{delta}}{2 a} $$\n",
    "\n",
    "$$ x2 = \\frac{-b - \\sqrt{delta}}{2 a} $$"
   ]
  },
  {
   "cell_type": "markdown",
   "metadata": {},
   "source": [
    "### Expected solutions\n",
    "\n",
    "If your code is correct, it should compute and print a value of $ delta = 196 $.\n",
    "\n",
    "The two roots you should compute and print will have the values $ x1 = 4.0 $ and $ x2 = -3.0 $."
   ]
  },
  {
   "cell_type": "markdown",
   "metadata": {},
   "source": [
    "### Note\n",
    "\n",
    "The square root of a number $ x $ is strictly equivalent to the number $ x $ being exponentiated to $ 0.5 $"
   ]
  },
  {
   "cell_type": "code",
   "execution_count": 2,
   "metadata": {},
   "outputs": [
    {
     "name": "stdout",
     "output_type": "stream",
     "text": [
      "4.0\n",
      "4.0\n"
     ]
    }
   ],
   "source": [
    "from numpy import sqrt\n",
    "x = 16\n",
    "print(x**0.5)\n",
    "print(sqrt(x))"
   ]
  },
  {
   "cell_type": "markdown",
   "metadata": {},
   "source": [
    "### You code below!"
   ]
  },
  {
   "cell_type": "code",
   "execution_count": 2,
   "metadata": {},
   "outputs": [
    {
     "name": "stdout",
     "output_type": "stream",
     "text": [
      "393\n",
      "5.706056900399752\n",
      "-4.206056900399752\n"
     ]
    }
   ],
   "source": [
    "# 1. Define the coefficients (a,b,c) of the quadratic equation\n",
    "a = 2\n",
    "b = -2\n",
    "c = -24\n",
    "\n",
    "# 2. Compute the discriminant delta\n",
    "delta = b**2 - 4*a*c\n",
    "#delta = b*b - 4*a*c\n",
    "\n",
    "# 3.Print delta to check it is strictly positive\n",
    "print(delta)\n",
    "\n",
    "# 4. Compute the two roots (x1, x2)\n",
    "x1 = (-b + delta**0.5)/2/a\n",
    "x2 = (-b - delta**0.5)/(2*a)\n",
    "\n",
    "# 5. Print the value of the roots x1 and x2 you just calculated!\n",
    "print(x1)\n",
    "print(x2)"
   ]
  },
  {
   "cell_type": "code",
   "execution_count": null,
   "metadata": {},
   "outputs": [],
   "source": []
  }
 ],
 "metadata": {
  "kernelspec": {
   "display_name": "Python 3 (ipykernel)",
   "language": "python",
   "name": "python3"
  },
  "language_info": {
   "codemirror_mode": {
    "name": "ipython",
    "version": 3
   },
   "file_extension": ".py",
   "mimetype": "text/x-python",
   "name": "python",
   "nbconvert_exporter": "python",
   "pygments_lexer": "ipython3",
   "version": "3.12.5"
  }
 },
 "nbformat": 4,
 "nbformat_minor": 4
}
