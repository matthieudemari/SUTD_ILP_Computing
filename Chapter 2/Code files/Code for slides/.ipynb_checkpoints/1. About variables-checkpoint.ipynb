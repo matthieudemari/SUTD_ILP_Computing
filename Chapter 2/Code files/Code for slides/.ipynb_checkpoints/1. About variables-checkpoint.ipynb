{
 "cells": [
  {
   "cell_type": "markdown",
   "metadata": {},
   "source": [
    "# A notebook about variables\n",
    "\n",
    "### Variables names\n",
    "\n",
    "Choose variable names that help the reader (or even you, when you come back months later) to understand what is going on."
   ]
  },
  {
   "cell_type": "code",
   "execution_count": 1,
   "metadata": {},
   "outputs": [],
   "source": [
    "# A variable name that is not explicit (what does x stand for?)\n",
    "x = 10\n",
    "\n",
    "# A variable name that is more explicit\n",
    "radius = 10\n",
    "\n",
    "# A variable name that is, maybe, a bit too explicit?\n",
    "the_wonderful_birth_year_of_your_lovely_instructor = 1989"
   ]
  },
  {
   "cell_type": "markdown",
   "metadata": {},
   "source": [
    "Variables names consist of any combination of letters, digits and underscore (_) symbol, but they cannot start with a digit"
   ]
  },
  {
   "cell_type": "code",
   "execution_count": 2,
   "metadata": {},
   "outputs": [],
   "source": [
    "# This is okay as a variable name\n",
    "a_1st_VaRiAbLe = 1"
   ]
  },
  {
   "cell_type": "code",
   "execution_count": 3,
   "metadata": {},
   "outputs": [
    {
     "ename": "SyntaxError",
     "evalue": "invalid syntax (<ipython-input-3-f01f45c0ae38>, line 2)",
     "output_type": "error",
     "traceback": [
      "\u001b[1;36m  File \u001b[1;32m\"<ipython-input-3-f01f45c0ae38>\"\u001b[1;36m, line \u001b[1;32m2\u001b[0m\n\u001b[1;33m    2nd_variable = 2\u001b[0m\n\u001b[1;37m     ^\u001b[0m\n\u001b[1;31mSyntaxError\u001b[0m\u001b[1;31m:\u001b[0m invalid syntax\n"
     ]
    }
   ],
   "source": [
    "# Variables cannot start with a digit\n",
    "2nd_variable = 2"
   ]
  },
  {
   "cell_type": "code",
   "execution_count": 9,
   "metadata": {},
   "outputs": [],
   "source": [
    "# But they can start with an underscore (_)\n",
    "_third_variable = 3"
   ]
  },
  {
   "cell_type": "code",
   "execution_count": 10,
   "metadata": {},
   "outputs": [
    {
     "name": "stdout",
     "output_type": "stream",
     "text": [
      "4\n"
     ]
    }
   ],
   "source": [
    "# In fact, a single underscore is also a valid name!\n",
    "_ = 4\n",
    "print(_)"
   ]
  },
  {
   "cell_type": "code",
   "execution_count": 11,
   "metadata": {},
   "outputs": [
    {
     "ename": "SyntaxError",
     "evalue": "invalid syntax (<ipython-input-11-fbc30d68dfc0>, line 3)",
     "output_type": "error",
     "traceback": [
      "\u001b[1;36m  File \u001b[1;32m\"<ipython-input-11-fbc30d68dfc0>\"\u001b[1;36m, line \u001b[1;32m3\u001b[0m\n\u001b[1;33m    v@r!aBl€ = 5\u001b[0m\n\u001b[1;37m       ^\u001b[0m\n\u001b[1;31mSyntaxError\u001b[0m\u001b[1;31m:\u001b[0m invalid syntax\n"
     ]
    }
   ],
   "source": [
    "# Variables cannot use special symbols, other than the underscore symbol (_)\n",
    "v@r!aBl€ = 5"
   ]
  },
  {
   "cell_type": "code",
   "execution_count": 12,
   "metadata": {},
   "outputs": [
    {
     "ename": "SyntaxError",
     "evalue": "invalid syntax (<ipython-input-12-4526a1d99ee1>, line 2)",
     "output_type": "error",
     "traceback": [
      "\u001b[1;36m  File \u001b[1;32m\"<ipython-input-12-4526a1d99ee1>\"\u001b[1;36m, line \u001b[1;32m2\u001b[0m\n\u001b[1;33m    import = 6\u001b[0m\n\u001b[1;37m           ^\u001b[0m\n\u001b[1;31mSyntaxError\u001b[0m\u001b[1;31m:\u001b[0m invalid syntax\n"
     ]
    }
   ],
   "source": [
    "# Cannot use keywords as variable names\n",
    "import = 6"
   ]
  },
  {
   "cell_type": "markdown",
   "metadata": {},
   "source": [
    "### Multiple assignments"
   ]
  },
  {
   "cell_type": "code",
   "execution_count": 13,
   "metadata": {},
   "outputs": [
    {
     "name": "stdout",
     "output_type": "stream",
     "text": [
      "10\n",
      "10\n",
      "10\n"
     ]
    }
   ],
   "source": [
    "# A multiple assignment\n",
    "var1 = var2 = var3 = 10\n",
    "print(var1)\n",
    "print(var2)\n",
    "print(var3)"
   ]
  },
  {
   "cell_type": "code",
   "execution_count": 14,
   "metadata": {},
   "outputs": [
    {
     "name": "stdout",
     "output_type": "stream",
     "text": [
      "8\n",
      "Some text\n"
     ]
    }
   ],
   "source": [
    "# Another multiple assignment\n",
    "var4, var5 = 8, \"Some text\"\n",
    "print(var4)\n",
    "print(var5)"
   ]
  },
  {
   "cell_type": "markdown",
   "metadata": {},
   "source": [
    "### Variable types"
   ]
  },
  {
   "cell_type": "code",
   "execution_count": 15,
   "metadata": {},
   "outputs": [],
   "source": [
    "# A few variables\n",
    "radius = 10\n",
    "pi = 3.14\n",
    "message = \"Hello World!\""
   ]
  },
  {
   "cell_type": "code",
   "execution_count": 16,
   "metadata": {},
   "outputs": [
    {
     "name": "stdout",
     "output_type": "stream",
     "text": [
      "<class 'int'>\n"
     ]
    }
   ],
   "source": [
    "# Integer (int) type/class\n",
    "print(type(radius))"
   ]
  },
  {
   "cell_type": "code",
   "execution_count": 17,
   "metadata": {},
   "outputs": [
    {
     "name": "stdout",
     "output_type": "stream",
     "text": [
      "<class 'float'>\n"
     ]
    }
   ],
   "source": [
    "# Floating point number (float) type/class\n",
    "print(type(pi))"
   ]
  },
  {
   "cell_type": "code",
   "execution_count": 18,
   "metadata": {},
   "outputs": [
    {
     "name": "stdout",
     "output_type": "stream",
     "text": [
      "<class 'str'>\n"
     ]
    }
   ],
   "source": [
    "# Text string (str) type/class\n",
    "print(type(message))"
   ]
  },
  {
   "cell_type": "markdown",
   "metadata": {},
   "source": [
    "### Variable IDs"
   ]
  },
  {
   "cell_type": "code",
   "execution_count": 19,
   "metadata": {},
   "outputs": [],
   "source": [
    "# A few variables\n",
    "radius = 10\n",
    "pi = 3.14\n",
    "message = \"Hello World!\""
   ]
  },
  {
   "cell_type": "code",
   "execution_count": 20,
   "metadata": {},
   "outputs": [
    {
     "name": "stdout",
     "output_type": "stream",
     "text": [
      "140721979856832\n"
     ]
    }
   ],
   "source": [
    "# ID of variable\n",
    "print(id(radius))"
   ]
  },
  {
   "cell_type": "code",
   "execution_count": 21,
   "metadata": {},
   "outputs": [
    {
     "name": "stdout",
     "output_type": "stream",
     "text": [
      "2130559523984\n"
     ]
    }
   ],
   "source": [
    "# ID of variable\n",
    "print(id(pi))"
   ]
  },
  {
   "cell_type": "code",
   "execution_count": 22,
   "metadata": {},
   "outputs": [
    {
     "name": "stdout",
     "output_type": "stream",
     "text": [
      "2130560571568\n"
     ]
    }
   ],
   "source": [
    "# ID of variable\n",
    "print(id(message))"
   ]
  },
  {
   "cell_type": "markdown",
   "metadata": {},
   "source": [
    "### Variables conversion"
   ]
  },
  {
   "cell_type": "code",
   "execution_count": 23,
   "metadata": {},
   "outputs": [
    {
     "name": "stdout",
     "output_type": "stream",
     "text": [
      "1024\n",
      "<class 'int'>\n",
      "1024\n",
      "<class 'str'>\n"
     ]
    }
   ],
   "source": [
    "# int to str conversion\n",
    "a_number_as_int = 1024\n",
    "same_number_as_string = str(a_number_as_int)\n",
    "print(a_number_as_int)\n",
    "print(type(a_number_as_int))\n",
    "print(same_number_as_string)\n",
    "print(type(same_number_as_string))"
   ]
  },
  {
   "cell_type": "code",
   "execution_count": 24,
   "metadata": {},
   "outputs": [
    {
     "name": "stdout",
     "output_type": "stream",
     "text": [
      "1.5\n",
      "<class 'float'>\n",
      "1.5\n",
      "<class 'str'>\n"
     ]
    }
   ],
   "source": [
    "# float to str conversion\n",
    "a_number_as_float = 1.5\n",
    "same_number_as_string = str(a_number_as_float)\n",
    "print(a_number_as_float)\n",
    "print(type(a_number_as_float))\n",
    "print(same_number_as_string)\n",
    "print(type(same_number_as_string))"
   ]
  },
  {
   "cell_type": "code",
   "execution_count": 25,
   "metadata": {},
   "outputs": [
    {
     "name": "stdout",
     "output_type": "stream",
     "text": [
      "1024\n",
      "<class 'str'>\n",
      "1024\n",
      "<class 'int'>\n",
      "1024.0\n",
      "<class 'float'>\n"
     ]
    }
   ],
   "source": [
    "# str to int/float conversion\n",
    "number_as_string = \"1024\"\n",
    "same_number_as_int = int(number_as_string)\n",
    "same_number_as_float = float(number_as_string)\n",
    "print(number_as_string)\n",
    "print(type(number_as_string))\n",
    "print(same_number_as_int)\n",
    "print(type(same_number_as_int))\n",
    "print(same_number_as_float)\n",
    "print(type(same_number_as_float))"
   ]
  },
  {
   "cell_type": "code",
   "execution_count": 2,
   "metadata": {},
   "outputs": [
    {
     "name": "stdout",
     "output_type": "stream",
     "text": [
      "1.5\n",
      "<class 'str'>\n",
      "1.5\n",
      "<class 'float'>\n"
     ]
    }
   ],
   "source": [
    "# str to float conversion (decimal point in string)\n",
    "number_as_string = \"1.5\"\n",
    "same_number_as_float = float(number_as_string)\n",
    "print(number_as_string)\n",
    "print(type(number_as_string))\n",
    "print(same_number_as_float)\n",
    "print(type(same_number_as_float))"
   ]
  },
  {
   "cell_type": "code",
   "execution_count": 27,
   "metadata": {},
   "outputs": [
    {
     "ename": "ValueError",
     "evalue": "invalid literal for int() with base 10: '1.5'",
     "output_type": "error",
     "traceback": [
      "\u001b[1;31m---------------------------------------------------------------------------\u001b[0m",
      "\u001b[1;31mValueError\u001b[0m                                Traceback (most recent call last)",
      "\u001b[1;32m<ipython-input-27-dc9c39dc6e81>\u001b[0m in \u001b[0;36m<module>\u001b[1;34m\u001b[0m\n\u001b[1;32m----> 1\u001b[1;33m \u001b[0msame_number_as_int\u001b[0m \u001b[1;33m=\u001b[0m \u001b[0mint\u001b[0m\u001b[1;33m(\u001b[0m\u001b[0mnumber_as_string\u001b[0m\u001b[1;33m)\u001b[0m\u001b[1;33m\u001b[0m\u001b[1;33m\u001b[0m\u001b[0m\n\u001b[0m",
      "\u001b[1;31mValueError\u001b[0m: invalid literal for int() with base 10: '1.5'"
     ]
    }
   ],
   "source": [
    "# str to int conversion (decimal point in string)\n",
    "same_number_as_int = int(number_as_string)"
   ]
  },
  {
   "cell_type": "code",
   "execution_count": 28,
   "metadata": {},
   "outputs": [
    {
     "name": "stdout",
     "output_type": "stream",
     "text": [
      "12.0\n"
     ]
    }
   ],
   "source": [
    "# int to float conversion\n",
    "an_int_number = 12\n",
    "int_to_float_number = float(an_int_number)\n",
    "print(int_to_float_number)"
   ]
  },
  {
   "cell_type": "code",
   "execution_count": 29,
   "metadata": {},
   "outputs": [
    {
     "name": "stdout",
     "output_type": "stream",
     "text": [
      "1\n"
     ]
    }
   ],
   "source": [
    "# float to int conversion\n",
    "a_float_number = 1.8\n",
    "float_to_int_number = int(a_float_number)\n",
    "print(float_to_int_number)"
   ]
  },
  {
   "cell_type": "code",
   "execution_count": null,
   "metadata": {},
   "outputs": [],
   "source": []
  }
 ],
 "metadata": {
  "kernelspec": {
   "display_name": "Python 3 (ipykernel)",
   "language": "python",
   "name": "python3"
  },
  "language_info": {
   "codemirror_mode": {
    "name": "ipython",
    "version": 3
   },
   "file_extension": ".py",
   "mimetype": "text/x-python",
   "name": "python",
   "nbconvert_exporter": "python",
   "pygments_lexer": "ipython3",
   "version": "3.12.0"
  }
 },
 "nbformat": 4,
 "nbformat_minor": 4
}
