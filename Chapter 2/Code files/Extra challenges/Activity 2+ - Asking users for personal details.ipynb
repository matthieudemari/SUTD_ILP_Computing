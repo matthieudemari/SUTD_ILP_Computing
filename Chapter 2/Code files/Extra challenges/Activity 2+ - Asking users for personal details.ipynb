{
 "cells": [
  {
   "cell_type": "markdown",
   "metadata": {},
   "source": [
    "# Activity 2+ - Asking users for personal details"
   ]
  },
  {
   "cell_type": "markdown",
   "metadata": {
    "jp-MarkdownHeadingCollapsed": true
   },
   "source": [
    "### Tasks\n",
    "\n",
    "Write a Python script that explicitly asks the user for their birth year, birth month and birth day.\n",
    "\n",
    "We will be using a numeric notation for month (1 = January, 2 = February, etc.)\n",
    "\n",
    "Your script should eventually display a message that reads \"You are ... years old.\", with the blank filled accordingly with the user's age.\n",
    "\n",
    "Feel free to adjust the current_year, current_month and current_day variables to today's date!"
   ]
  },
  {
   "cell_type": "markdown",
   "metadata": {},
   "source": [
    "### You code below!"
   ]
  },
  {
   "cell_type": "code",
   "execution_count": null,
   "metadata": {},
   "outputs": [],
   "source": [
    "# 1. Ask user for his/her birth year, birth month and birth day.\n",
    "\n",
    "\n",
    "# 2. Compute the two possible ages the person could be.\n",
    "# (Change current year value if needed!)\n",
    "current_year = 2025\n",
    "current_month = 3\n",
    "current_day = 12\n",
    "age = ...\n",
    "\n",
    "# 3. Create and format the message to be displayed later on.\n",
    "\n",
    "\n",
    "# 4. Print the message for the user!\n"
   ]
  },
  {
   "cell_type": "code",
   "execution_count": null,
   "metadata": {},
   "outputs": [],
   "source": []
  }
 ],
 "metadata": {
  "kernelspec": {
   "display_name": "Python 3 (ipykernel)",
   "language": "python",
   "name": "python3"
  },
  "language_info": {
   "codemirror_mode": {
    "name": "ipython",
    "version": 3
   },
   "file_extension": ".py",
   "mimetype": "text/x-python",
   "name": "python",
   "nbconvert_exporter": "python",
   "pygments_lexer": "ipython3",
   "version": "3.13.1"
  }
 },
 "nbformat": 4,
 "nbformat_minor": 4
}
