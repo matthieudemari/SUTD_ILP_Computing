{
 "cells": [
  {
   "cell_type": "markdown",
   "metadata": {},
   "source": [
    "# Activity 2 - Asking users for personal details"
   ]
  },
  {
   "cell_type": "markdown",
   "metadata": {
    "jp-MarkdownHeadingCollapsed": true
   },
   "source": [
    "### Tasks\n",
    "\n",
    "Write a Python script that explicitly asks the user for its name and its birth year.\n",
    "\n",
    "Later on, the script should display a message, reading:\n",
    "\n",
    "Your name is ... and your age is either ... or ...!, with blanks filled accordingly, reusing the user inputs."
   ]
  },
  {
   "cell_type": "markdown",
   "metadata": {},
   "source": [
    "### You code below!"
   ]
  },
  {
   "cell_type": "code",
   "execution_count": null,
   "metadata": {},
   "outputs": [],
   "source": [
    "# 1. Ask user for his/her name.\n",
    "\n",
    "\n",
    "# 2. Ask user for his/her age.\n",
    "\n",
    "\n",
    "# 3. Compute the two possible ages the person could be.\n",
    "# (Change current year value if needed!)\n",
    "current_year = 2025\n",
    "age1 = ...\n",
    "age2 = ...\n",
    "\n",
    "# 4. Create and format the message to be displayed later on.\n",
    "\n",
    "\n",
    "# 5. Print the message for the user!\n"
   ]
  },
  {
   "cell_type": "code",
   "execution_count": 4,
   "metadata": {},
   "outputs": [
    {
     "name": "stdout",
     "output_type": "stream",
     "text": [
      "My name is isjhdfonndg\n"
     ]
    }
   ],
   "source": [
    "name = \"isjhdfonndg\"\n",
    "print(\"My name is {}\".format(name))"
   ]
  },
  {
   "cell_type": "code",
   "execution_count": 6,
   "metadata": {},
   "outputs": [
    {
     "name": "stdout",
     "output_type": "stream",
     "text": [
      "0\n",
      "1\n"
     ]
    }
   ],
   "source": [
    "today_month = 3\n",
    "birth_month = 7\n",
    "print((today_month-birth_month)//12 + 1) # Add 0 because not yet had birthday in 2025\n",
    "today_month = 7\n",
    "birth_month = 3\n",
    "print((today_month-birth_month)//12 + 1) # Add 1 because had birthday in 2025"
   ]
  },
  {
   "cell_type": "code",
   "execution_count": null,
   "metadata": {},
   "outputs": [],
   "source": []
  }
 ],
 "metadata": {
  "kernelspec": {
   "display_name": "Python 3 (ipykernel)",
   "language": "python",
   "name": "python3"
  },
  "language_info": {
   "codemirror_mode": {
    "name": "ipython",
    "version": 3
   },
   "file_extension": ".py",
   "mimetype": "text/x-python",
   "name": "python",
   "nbconvert_exporter": "python",
   "pygments_lexer": "ipython3",
   "version": "3.13.1"
  }
 },
 "nbformat": 4,
 "nbformat_minor": 4
}
