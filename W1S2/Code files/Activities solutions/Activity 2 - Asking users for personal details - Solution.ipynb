{
 "cells": [
  {
   "cell_type": "markdown",
   "metadata": {},
   "source": [
    "# Activity 2 - Asking users for personal details - Solution"
   ]
  },
  {
   "cell_type": "markdown",
   "metadata": {},
   "source": [
    "### Tasks\n",
    "\n",
    "Write a Python script that explicitly asks the user for its name and its age.\n",
    "\n",
    "Later on, the script should display a message, reading:\n",
    "\n",
    "Your name is ... and your age is ...!, with blanks filled accordingly, reusing the user inputs."
   ]
  },
  {
   "cell_type": "markdown",
   "metadata": {},
   "source": [
    "### You code below!"
   ]
  },
  {
   "cell_type": "code",
   "execution_count": null,
   "metadata": {},
   "outputs": [],
   "source": [
    "# 1. Ask user for his/her name\n",
    "user_name = input(\"What is your name? \")\n",
    "\n",
    "# 2. Ask user for his/her age\n",
    "user_age = int(input(\"What is your age? \"))\n",
    "\n",
    "# 3. Create and format message to be displayed\n",
    "message = \"Your name is {}, and your age is {}.\".format(user_name, user_age)\n",
    "# mean_message = \"Man, you're really old.\"\n",
    "\n",
    "# 4. Print the message!\n",
    "print(message)\n",
    "# print(mean_message)"
   ]
  },
  {
   "cell_type": "code",
   "execution_count": null,
   "metadata": {},
   "outputs": [],
   "source": []
  }
 ],
 "metadata": {
  "kernelspec": {
   "display_name": "Python 3 (ipykernel)",
   "language": "python",
   "name": "python3"
  },
  "language_info": {
   "codemirror_mode": {
    "name": "ipython",
    "version": 3
   },
   "file_extension": ".py",
   "mimetype": "text/x-python",
   "name": "python",
   "nbconvert_exporter": "python",
   "pygments_lexer": "ipython3",
   "version": "3.11.4"
  }
 },
 "nbformat": 4,
 "nbformat_minor": 4
}
