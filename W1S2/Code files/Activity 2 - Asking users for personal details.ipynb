{
 "cells": [
  {
   "cell_type": "markdown",
   "metadata": {},
   "source": [
    "# Activity 2 - Asking users for personal details"
   ]
  },
  {
   "cell_type": "markdown",
   "metadata": {},
   "source": [
    "### Tasks\n",
    "\n",
    "Write a Python script that explicitly asks the user for its name and its age.\n",
    "\n",
    "Later on, the scripts should display a message, reading\n",
    "\n",
    "Your name is ...... and your age is ...!, with blanks filled accordingly!"
   ]
  },
  {
   "cell_type": "markdown",
   "metadata": {},
   "source": [
    "### You code below!"
   ]
  },
  {
   "cell_type": "code",
   "execution_count": 4,
   "metadata": {},
   "outputs": [
    {
     "name": "stdout",
     "output_type": "stream",
     "text": [
      "Name?: omghmodfg\n",
      "Age?: -645214\n",
      "Hello omghmodfg, you are -645214 yo.\n"
     ]
    }
   ],
   "source": [
    "# 1. Ask user for his/her name\n",
    "\n",
    "\n",
    "# 2. Ask user for his/her age\n",
    "\n",
    "\n",
    "# 3. Create and format the message to be displayed later on.\n",
    "\n",
    "\n",
    "# 4. Print the message for the user!\n"
   ]
  },
  {
   "cell_type": "code",
   "execution_count": null,
   "metadata": {},
   "outputs": [],
   "source": []
  },
  {
   "cell_type": "code",
   "execution_count": null,
   "metadata": {},
   "outputs": [],
   "source": []
  }
 ],
 "metadata": {
  "kernelspec": {
   "display_name": "Python 3",
   "language": "python",
   "name": "python3"
  },
  "language_info": {
   "codemirror_mode": {
    "name": "ipython",
    "version": 3
   },
   "file_extension": ".py",
   "mimetype": "text/x-python",
   "name": "python",
   "nbconvert_exporter": "python",
   "pygments_lexer": "ipython3",
   "version": "3.9.6"
  }
 },
 "nbformat": 4,
 "nbformat_minor": 4
}
