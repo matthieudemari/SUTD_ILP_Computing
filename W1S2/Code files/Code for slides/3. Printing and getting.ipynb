{
 "cells": [
  {
   "cell_type": "markdown",
   "metadata": {},
   "source": [
    "# About printing and getting"
   ]
  },
  {
   "cell_type": "markdown",
   "metadata": {},
   "source": [
    "### A few more functionalities of the print function"
   ]
  },
  {
   "cell_type": "code",
   "execution_count": 14,
   "metadata": {},
   "outputs": [
    {
     "name": "stdout",
     "output_type": "stream",
     "text": [
      "10 8\n"
     ]
    }
   ],
   "source": [
    "# Some values\n",
    "a = 10\n",
    "b = 8\n",
    "print(a, b)"
   ]
  },
  {
   "cell_type": "code",
   "execution_count": 17,
   "metadata": {},
   "outputs": [
    {
     "name": "stdout",
     "output_type": "stream",
     "text": [
      "The values of (a,b,c) are: 10 8 4\n"
     ]
    }
   ],
   "source": [
    "# Some more values\n",
    "a = 10\n",
    "b = 8\n",
    "c = 4\n",
    "message = \"The values of (a,b,c) are:\"\n",
    "print(message, a, b, c)"
   ]
  },
  {
   "cell_type": "markdown",
   "metadata": {},
   "source": [
    "### Inserting a variable in a string"
   ]
  },
  {
   "cell_type": "code",
   "execution_count": 25,
   "metadata": {},
   "outputs": [
    {
     "name": "stdout",
     "output_type": "stream",
     "text": [
      "The values of (a,b,c) are: 10, 8, and 4\n"
     ]
    }
   ],
   "source": [
    "a = 10\n",
    "b = 8\n",
    "c = 4\n",
    "message = \"The values of (a,b,c) are: {}, {}, and {}\".format(a, b, c)\n",
    "print(message)"
   ]
  },
  {
   "cell_type": "markdown",
   "metadata": {},
   "source": [
    "### Getting values from the user"
   ]
  },
  {
   "cell_type": "code",
   "execution_count": 30,
   "metadata": {},
   "outputs": [
    {
     "name": "stdout",
     "output_type": "stream",
     "text": [
      "Please enter a number and press enter: 10\n",
      "The number you entered is 10.\n"
     ]
    }
   ],
   "source": [
    "message = \"Please enter a number and press enter: \"\n",
    "user_value = input(message)\n",
    "second_message = \"The number you entered is {}.\".format(user_value)\n",
    "print(second_message)"
   ]
  },
  {
   "cell_type": "code",
   "execution_count": 31,
   "metadata": {},
   "outputs": [
    {
     "name": "stdout",
     "output_type": "stream",
     "text": [
      "Please enter a number and press enter: 5\n",
      "The number you entered is 5. Its doubled value is 55.\n"
     ]
    }
   ],
   "source": [
    "message = \"Please enter a number and press enter: \"\n",
    "user_value = input(message)\n",
    "doubled_value = 2*user_value\n",
    "second_message = \"The number you entered is {}. Its doubled value is {}.\".format(user_value, doubled_value)\n",
    "print(second_message)"
   ]
  },
  {
   "cell_type": "code",
   "execution_count": 32,
   "metadata": {},
   "outputs": [
    {
     "name": "stdout",
     "output_type": "stream",
     "text": [
      "<class 'str'>\n"
     ]
    }
   ],
   "source": [
    "print(type(user_value))"
   ]
  },
  {
   "cell_type": "code",
   "execution_count": 16,
   "metadata": {},
   "outputs": [
    {
     "name": "stdout",
     "output_type": "stream",
     "text": [
      "55\n",
      "<class 'str'>\n"
     ]
    }
   ],
   "source": [
    "a = '5'\n",
    "b = 2\n",
    "c = a*b\n",
    "print(c)\n",
    "print(type(c))"
   ]
  },
  {
   "cell_type": "code",
   "execution_count": 34,
   "metadata": {},
   "outputs": [
    {
     "name": "stdout",
     "output_type": "stream",
     "text": [
      "Please enter a number and press enter: 4\n",
      "The number you entered is 4.0. Its doubled value is 8.0.\n"
     ]
    }
   ],
   "source": [
    "message = \"Please enter a number and press enter: \"\n",
    "user_value = input(message)\n",
    "user_value_as_float = float(user_value)\n",
    "doubled_value = 2*user_value_as_float\n",
    "second_message = \"The number you entered is {}. Its doubled value is {}.\".format(user_value_as_float, doubled_value)\n",
    "print(second_message)"
   ]
  },
  {
   "cell_type": "code",
   "execution_count": null,
   "metadata": {},
   "outputs": [],
   "source": []
  }
 ],
 "metadata": {
  "kernelspec": {
   "display_name": "Python 3",
   "language": "python",
   "name": "python3"
  },
  "language_info": {
   "codemirror_mode": {
    "name": "ipython",
    "version": 3
   },
   "file_extension": ".py",
   "mimetype": "text/x-python",
   "name": "python",
   "nbconvert_exporter": "python",
   "pygments_lexer": "ipython3",
   "version": "3.8.3"
  }
 },
 "nbformat": 4,
 "nbformat_minor": 4
}
