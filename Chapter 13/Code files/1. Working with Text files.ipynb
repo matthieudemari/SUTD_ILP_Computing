{
 "cells": [
  {
   "cell_type": "code",
   "execution_count": 11,
   "id": "83d59389-955b-49b4-9cdb-bbd9baeb1f8e",
   "metadata": {},
   "outputs": [
    {
     "name": "stdout",
     "output_type": "stream",
     "text": [
      "s: Matthieu DE MARI\n",
      "matthieu_demari@sutd.du.sg\n",
      "French\n",
      "Level 35\n",
      "Length of s: 59\n"
     ]
    }
   ],
   "source": [
    "# Reading the entire file with read(), storing it in s\n",
    "with open(\"./my_file.txt\", \"r\") as f:\n",
    "    s = f.read()\n",
    "    print(\"s:\", s)\n",
    "    print(\"Length of s:\", len(s))\n",
    "    f.close()"
   ]
  },
  {
   "cell_type": "code",
   "execution_count": 13,
   "id": "6a028c79-863c-4a60-b562-cd7f66fdf176",
   "metadata": {},
   "outputs": [
    {
     "name": "stdout",
     "output_type": "stream",
     "text": [
      "s1: Matthieu\n",
      "Length of s1: 8\n",
      "s2:  DE\n",
      "Length of s2: 3\n",
      "s3:  MARI\n",
      "matthieu_demari@sutd.du.sg\n",
      "French\n",
      "Level 35\n",
      "Length of s3: 48\n"
     ]
    }
   ],
   "source": [
    "# Reading the a few characters at a time in file with read(n), \n",
    "# storing it in s1, s2, etc.\n",
    "with open(\"./my_file.txt\", \"r\") as f:\n",
    "    # Read the first 8 characters\n",
    "    s1 = f.read(8)\n",
    "    print(\"s1:\", s1)\n",
    "    print(\"Length of s1:\", len(s1))\n",
    "    # Read three more characters\n",
    "    s2 = f.read(3)\n",
    "    print(\"s2:\", s2)\n",
    "    print(\"Length of s2:\", len(s2))\n",
    "    # Read the rest of the characters\n",
    "    s3 = f.read()\n",
    "    print(\"s3:\", s3)\n",
    "    print(\"Length of s3:\", len(s3))\n",
    "    f.close()"
   ]
  },
  {
   "cell_type": "code",
   "execution_count": 15,
   "id": "634aa2e1-f737-43f6-b9c5-f527a9a9c872",
   "metadata": {},
   "outputs": [
    {
     "name": "stdout",
     "output_type": "stream",
     "text": [
      "l: ['Matthieu DE MARI\\n', 'matthieu_demari@sutd.du.sg\\n', 'French\\n', 'Level 35']\n",
      "Length of s: 4\n"
     ]
    }
   ],
   "source": [
    "# It is also possible to use readlines()\n",
    "# Stores all lines as strings, in a list.\n",
    "# Note that each line will end with the end-of-line \n",
    "# character \\n, except for the last line.\n",
    "with open(\"./my_file.txt\", \"r\") as f:\n",
    "    l = f.readlines()\n",
    "    print(\"l:\", l)\n",
    "    print(\"Length of s:\", len(l))\n",
    "    f.close()"
   ]
  },
  {
   "cell_type": "code",
   "execution_count": 16,
   "id": "b9a3072c-9073-451e-a167-8c1fdf613eaf",
   "metadata": {},
   "outputs": [
    {
     "name": "stdout",
     "output_type": "stream",
     "text": [
      "------\n",
      "line: Matthieu DE MARI\n",
      "\n",
      "Length of line: 17\n",
      "------\n",
      "line: matthieu_demari@sutd.du.sg\n",
      "\n",
      "Length of line: 27\n",
      "------\n",
      "line: French\n",
      "\n",
      "Length of line: 7\n",
      "------\n",
      "line: Level 35\n",
      "Length of line: 8\n"
     ]
    }
   ],
   "source": [
    "# A file handle can be used as a generator \n",
    "# in a for loop.\n",
    "# It will give the lines, one at a time.\n",
    "with open(\"./my_file.txt\", \"r\") as f:\n",
    "    for line in f:\n",
    "        print(\"------\")\n",
    "        print(\"line:\", line)\n",
    "        print(\"Length of line:\", len(line))\n",
    "    f.close() "
   ]
  },
  {
   "cell_type": "code",
   "execution_count": 19,
   "id": "dfbcee30-0901-4c11-af79-6d594612160a",
   "metadata": {},
   "outputs": [],
   "source": [
    "# Writing several lines to a file with write()\n",
    "# Can open the file manually, erase its content,\n",
    "# and run the code to confirm it works!\n",
    "s1 = \"NPC: Hello there adventurer!\\n\"\n",
    "s2 = \"Hero: What is going on good sir?\\n\"\n",
    "s3 = \"NPC: I lost my daugther! Please help me find her.\\n\"\n",
    "s4 = \"NPC: I saw her going towards the volcano area.\\n\"\n",
    "s5 = \"Hero: You are the worst parent I have ever met.\"\n",
    "with open(\"./dialog.txt\", \"w\") as f:\n",
    "    f.write(s1)\n",
    "    f.write(s2)\n",
    "    f.write(s3)\n",
    "    f.write(s4)\n",
    "    f.write(s5)\n",
    "    f.close()"
   ]
  },
  {
   "cell_type": "code",
   "execution_count": 20,
   "id": "90fa2aeb-3eff-413a-9237-93bdc865e182",
   "metadata": {},
   "outputs": [],
   "source": [
    "# Writing several lines to a file with writelines()\n",
    "# Can open the file manually, erase its content,\n",
    "# and run the code to confirm it works!\n",
    "s1 = \"NPC: Hello there adventurer!\\n\"\n",
    "s2 = \"Hero: What is going on good sir?\\n\"\n",
    "s3 = \"NPC: I lost my daugther! Please help me find her.\\n\"\n",
    "s4 = \"NPC: I saw her going towards the volcano area.\\n\"\n",
    "s5 = \"Hero: You are the worst parent I have ever met.\"\n",
    "l = [s1, s2, s3, s4, s5]\n",
    "with open(\"./dialog.txt\", \"w\") as f:\n",
    "    f.writelines(l)\n",
    "    f.close()"
   ]
  },
  {
   "cell_type": "code",
   "execution_count": null,
   "id": "3ccade71-4c48-44b4-98e1-4b5e8a81c6b3",
   "metadata": {},
   "outputs": [],
   "source": []
  }
 ],
 "metadata": {
  "kernelspec": {
   "display_name": "Python 3 (ipykernel)",
   "language": "python",
   "name": "python3"
  },
  "language_info": {
   "codemirror_mode": {
    "name": "ipython",
    "version": 3
   },
   "file_extension": ".py",
   "mimetype": "text/x-python",
   "name": "python",
   "nbconvert_exporter": "python",
   "pygments_lexer": "ipython3",
   "version": "3.12.5"
  }
 },
 "nbformat": 4,
 "nbformat_minor": 5
}
