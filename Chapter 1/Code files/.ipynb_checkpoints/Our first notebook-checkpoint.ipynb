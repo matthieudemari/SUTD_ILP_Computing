{
 "cells": [
  {
   "cell_type": "markdown",
   "metadata": {},
   "source": [
    "# Our first notebook\n",
    "\n",
    "Featuring the most important function of all programming languages, print(), and simple memory assignments using numbers and/or basic operations."
   ]
  },
  {
   "cell_type": "code",
   "execution_count": null,
   "metadata": {},
   "outputs": [],
   "source": [
    "# Any line that starts with # is a comment.\n",
    "# It is only used by humans to describe what is going on in the program.\n",
    "# Computers will simply ignore these lines.\n",
    "# The line below will display (or print) \"Hello World!\" on screen!\n",
    "print(\"Hello World!\")"
   ]
  },
  {
   "cell_type": "code",
   "execution_count": null,
   "metadata": {},
   "outputs": [],
   "source": [
    "# Here, we create a variable named x, and assign it the value 7.\n",
    "# It will be stored in memory for later reuse.\n",
    "x = 7\n",
    "\n",
    "# A typical reuse might be to retrieve the value in memory for variable x and display it.\n",
    "print(x)"
   ]
  },
  {
   "cell_type": "code",
   "execution_count": null,
   "metadata": {},
   "outputs": [],
   "source": [
    "# Here, we create a variable named x, and assign it a value \n",
    "# which is the result of the operation 10 + 3.\n",
    "x = 10 + 3\n",
    "\n",
    "# We can verify its value has been updated by printing x again.\n",
    "print(x)"
   ]
  },
  {
   "cell_type": "code",
   "execution_count": null,
   "metadata": {},
   "outputs": [],
   "source": [
    "# Later on, we may also reuse the value of x to create a new variable y,\n",
    "# and have its value be the result of another operation.\n",
    "y = x*2\n",
    "\n",
    "# Let us now, retrieve the value in memory for variable y and display it.\n",
    "print(y)"
   ]
  },
  {
   "cell_type": "code",
   "execution_count": null,
   "metadata": {},
   "outputs": [],
   "source": []
  }
 ],
 "metadata": {
  "kernelspec": {
   "display_name": "Python 3 (ipykernel)",
   "language": "python",
   "name": "python3"
  },
  "language_info": {
   "codemirror_mode": {
    "name": "ipython",
    "version": 3
   },
   "file_extension": ".py",
   "mimetype": "text/x-python",
   "name": "python",
   "nbconvert_exporter": "python",
   "pygments_lexer": "ipython3",
   "version": "3.10.5"
  }
 },
 "nbformat": 4,
 "nbformat_minor": 4
}
