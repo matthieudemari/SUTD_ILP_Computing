{
 "cells": [
  {
   "cell_type": "code",
   "execution_count": 1,
   "id": "3b34cb0a-4336-4890-b4ef-49ada917d63b",
   "metadata": {},
   "outputs": [
    {
     "name": "stdout",
     "output_type": "stream",
     "text": [
      "3\n",
      "3\n"
     ]
    }
   ],
   "source": [
    "a, b, c = 3, 5, True\n",
    "# A simple if statement\n",
    "if(c):\n",
    "    var = a\n",
    "else:\n",
    "    var = b\n",
    "print(var)\n",
    "# Its ternary equivalent\n",
    "var = a if c else b\n",
    "print(var)"
   ]
  },
  {
   "cell_type": "code",
   "execution_count": 2,
   "id": "9eda62a8-152e-4034-a56a-25401d4533de",
   "metadata": {},
   "outputs": [
    {
     "name": "stdout",
     "output_type": "stream",
     "text": [
      "5\n",
      "5\n"
     ]
    }
   ],
   "source": [
    "a, b, c = 3, 5, False\n",
    "# A simple if statement\n",
    "if(c):\n",
    "    var = a\n",
    "else:\n",
    "    var = b\n",
    "print(var)\n",
    "# Its ternary equivalent\n",
    "var = a if c else b\n",
    "print(var)"
   ]
  },
  {
   "cell_type": "code",
   "execution_count": 3,
   "id": "38f6db40-db81-4d40-9d96-7e84f4ddf620",
   "metadata": {},
   "outputs": [
    {
     "name": "stdin",
     "output_type": "stream",
     "text": [
      "Enter a number:  5\n"
     ]
    },
    {
     "name": "stdout",
     "output_type": "stream",
     "text": [
      "Positive number\n"
     ]
    }
   ],
   "source": [
    "# No need to worry about this code.\n",
    "# Just using it for illustration.\n",
    "try:\n",
    "    user_input = int(input(\"Enter a number: \"))\n",
    "    if user_input > 0:\n",
    "        print(\"Positive number\")\n",
    "    elif user_input < 0:\n",
    "        print(\"Negative number\")\n",
    "    else:\n",
    "        print(\"Zero\")\n",
    "except ValueError:\n",
    "    print(\"That's not a valid number!\")"
   ]
  }
 ],
 "metadata": {
  "kernelspec": {
   "display_name": "Python 3 (ipykernel)",
   "language": "python",
   "name": "python3"
  },
  "language_info": {
   "codemirror_mode": {
    "name": "ipython",
    "version": 3
   },
   "file_extension": ".py",
   "mimetype": "text/x-python",
   "name": "python",
   "nbconvert_exporter": "python",
   "pygments_lexer": "ipython3",
   "version": "3.12.0"
  }
 },
 "nbformat": 4,
 "nbformat_minor": 5
}
