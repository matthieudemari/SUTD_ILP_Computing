{
 "cells": [
  {
   "cell_type": "markdown",
   "metadata": {},
   "source": [
    "# Activity 2 - Strength to lifepoints"
   ]
  },
  {
   "cell_type": "markdown",
   "metadata": {},
   "source": [
    "### Tasks\n",
    "\n",
    "In several games, the main character might have attributes such as strength points and lifepoints (or hitpoints, HP). In some games, the stronger the hero is, the more lifepoints it is going to get. In this exercise, we investigate how to convert strength points into lifepoints.\n",
    "\n",
    "Write a function **strength_to_lifepoints()**, according to the following requirements.\n",
    "- This function receives a single parameter, *strength_points*, which corresponds to the number of strength points our main character has, and - for simplicity - will only take integer values.\n",
    "- This function returns a single output, *lifepoints*, which corresponds to the number of lifepoints our main character will have, based on its strength points.\n",
    "- Our main character has a base number of 50 lifepoints (that means it has 50 lifepoints, by default, if its strength is zero).\n",
    "- For each strength point, our hero will gain 10 extra lifepoints.\n",
    "- If the main character has at least 50 strength points, it gains a one-time bonus of 100 lifepoints, on top of the lifepoints it already has.\n",
    "- Finally, if the main character has at least 100 **strength** points, it gains another one-time bonus of 50% extra lifepoints, on top of all the lifepoints it already has."
   ]
  },
  {
   "cell_type": "markdown",
   "metadata": {},
   "source": [
    "### Your code below!"
   ]
  },
  {
   "cell_type": "code",
   "execution_count": null,
   "metadata": {},
   "outputs": [],
   "source": [
    "def strength_to_lifepoints(strength_points):\n",
    "    lifepoints = None\n",
    "    return lifepoints"
   ]
  },
  {
   "cell_type": "markdown",
   "metadata": {},
   "source": [
    "### Expected results\n",
    "\n",
    "If your function has been correctly designed, the following test cases should work."
   ]
  },
  {
   "cell_type": "code",
   "execution_count": null,
   "metadata": {},
   "outputs": [],
   "source": [
    "# This should print 300\n",
    "print(strength_to_lifepoints(25))"
   ]
  },
  {
   "cell_type": "code",
   "execution_count": null,
   "metadata": {},
   "outputs": [],
   "source": [
    "# This should print 750\n",
    "print(strength_to_lifepoints(60))"
   ]
  },
  {
   "cell_type": "code",
   "execution_count": null,
   "metadata": {},
   "outputs": [],
   "source": [
    "# This should print 1875 (it is okay if it has a float format)\n",
    "print(strength_to_lifepoints(110))"
   ]
  },
  {
   "cell_type": "code",
   "execution_count": null,
   "metadata": {},
   "outputs": [],
   "source": []
  }
 ],
 "metadata": {
  "kernelspec": {
   "display_name": "Python 3 (ipykernel)",
   "language": "python",
   "name": "python3"
  },
  "language_info": {
   "codemirror_mode": {
    "name": "ipython",
    "version": 3
   },
   "file_extension": ".py",
   "mimetype": "text/x-python",
   "name": "python",
   "nbconvert_exporter": "python",
   "pygments_lexer": "ipython3",
   "version": "3.13.1"
  }
 },
 "nbformat": 4,
 "nbformat_minor": 4
}
