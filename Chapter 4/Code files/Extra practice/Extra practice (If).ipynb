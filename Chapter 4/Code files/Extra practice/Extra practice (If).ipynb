{
 "cells": [
  {
   "cell_type": "markdown",
   "metadata": {},
   "source": [
    "# 1. Vowel or Consonant\n",
    "\n",
    "Write a program that asks the user a enter a single letter.\n",
    "\n",
    "The program should then display either \"The character is a vowel.\" or \"The character is a consonant.\"\n",
    "\n",
    "Note: We will assume the user is well-behaved and will not enter more than one letter in the text prompt.\n",
    "\n",
    "Optional: Amend the code so that it covers for the \"The character is a digit.\" case.\n",
    "\n",
    "Optional 2: Amend the code so that it covers for the \"The character is a neither a letter nor a digit.\" case."
   ]
  },
  {
   "cell_type": "code",
   "execution_count": null,
   "metadata": {},
   "outputs": [],
   "source": []
  },
  {
   "cell_type": "markdown",
   "metadata": {},
   "source": [
    "# 2. Name that shape\n",
    "\n",
    "Write a program that asks the user a enter an integer number between 3 and 10.\n",
    "\n",
    "The program should then display the name of the geometrical polygon which has this number of sides. "
   ]
  },
  {
   "cell_type": "code",
   "execution_count": null,
   "metadata": {},
   "outputs": [],
   "source": []
  },
  {
   "cell_type": "markdown",
   "metadata": {},
   "source": [
    "# 3. Month name and days in month\n",
    "\n",
    "Write a program that asks the user to input a month name.\n",
    "\n",
    "It should then display an integer corresponding to the number of days in said month.\n",
    "\n",
    "You can ignore leap years for February and display 28."
   ]
  },
  {
   "cell_type": "code",
   "execution_count": null,
   "metadata": {},
   "outputs": [],
   "source": []
  },
  {
   "cell_type": "markdown",
   "metadata": {},
   "source": [
    "# 4. Color mixing\n",
    "\n",
    "Write a program that asks the user to enter to colors among the following three possibilities: \"red\", \"blue\", \"yellow\". It should then return the result of mixing these two colors, e.g. if the user enters \"blue\" and \"yellow\", it should return \"green\".\n",
    "\n",
    "Optional: If the user enters the same color twice, we should return None instead and print and error message inviting the user to enter two different colors the next time.\n",
    "\n",
    "Optional 2: The function should probably refuse to work and print an informative error message if any other color than the three allowed colors is entered."
   ]
  },
  {
   "cell_type": "code",
   "execution_count": null,
   "metadata": {},
   "outputs": [],
   "source": []
  },
  {
   "cell_type": "code",
   "execution_count": null,
   "metadata": {},
   "outputs": [],
   "source": []
  }
 ],
 "metadata": {
  "kernelspec": {
   "display_name": "Python 3 (ipykernel)",
   "language": "python",
   "name": "python3"
  },
  "language_info": {
   "codemirror_mode": {
    "name": "ipython",
    "version": 3
   },
   "file_extension": ".py",
   "mimetype": "text/x-python",
   "name": "python",
   "nbconvert_exporter": "python",
   "pygments_lexer": "ipython3",
   "version": "3.11.4"
  }
 },
 "nbformat": 4,
 "nbformat_minor": 4
}
