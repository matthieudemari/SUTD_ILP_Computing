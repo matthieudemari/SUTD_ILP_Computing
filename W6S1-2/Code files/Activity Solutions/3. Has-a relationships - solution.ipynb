{
 "cells": [
  {
   "cell_type": "markdown",
   "metadata": {},
   "source": [
    "# 3. Has-a relationships - solution\n",
    "\n",
    "This third Notebook will investigate the **Has-a relationship** concept, namely the concept of using custom objects as attributes of other objects."
   ]
  },
  {
   "cell_type": "markdown",
   "metadata": {},
   "source": [
    "### Task 1: Creating a Hero() object with an Inventory() object\n",
    "\n",
    "Let us reuse our Hero() object.\n",
    "\n",
    "Your task here is threefold.\n",
    "\n",
    "First, you need to write a custom Inventory() class with three attributes:\n",
    "- list_objects, which is defined, by default as an empty list,\n",
    "- number_objects, which is used for counting the number of objects currently in inventory,\n",
    "- inventory_size, which corresponds to the maximum number of objects in the inventory and should be set to 50.\n",
    "- Then, amend your Hero() object, so that one of its attributes, called inventory, will be an Inventory() object.\n",
    "\n",
    "Second, write a add_item() method for your Inventory class:\n",
    "- It adds a given item, in variable item to the Inventory object, by appending it to the list in the list_objects attribute.\n",
    "- It also increments the value of the number_objects attribute by 1 to reflect the addition of an item.\n",
    "- It should however only add the item in question if the inventory is not already full (that is number_objects < inventory_size). Otherwise, it will display \"Could not add item, inventory is full!\" and leave the inventory attributes unchanged.\n",
    "\n",
    "Third, write a remove_item() method for your Inventory class:\n",
    "- It removes a given item, in variable item from the Inventory object, by removing it from the list in the list_objects attribute.\n",
    "- It also decrements the value of the number_objects attribute by 1 to reflect the removal of an item.\n",
    "- It should however only remove the item in question if it appears in the inventory. Otherwise, it will display \"Could use item, it does not appear in inventory!\" and leave the inventory attributes unchanged.\n",
    "\n",
    "#### Your code below!"
   ]
  },
  {
   "cell_type": "code",
   "execution_count": null,
   "metadata": {},
   "outputs": [],
   "source": [
    "class Hero():\n",
    "    def __init__(self):\n",
    "        self.name = \"Sir Meowsalot\"\n",
    "        self.hero_class = \"Warrior\"\n",
    "        self.max_HP = 100\n",
    "        self.HP = 50\n",
    "        self.inventory = Inventory()\n",
    "        \n",
    "    \n",
    "class Inventory():\n",
    "    def __init__(self):\n",
    "        self.list_objects = []\n",
    "        self.number_objects = 0\n",
    "        self.inventory_size = 50\n",
    "        \n",
    "    def add_item(self, item):\n",
    "        if self.number_objects + 1 > self.inventory_size:\n",
    "            print(\"Could not add item, inventory is full!\")\n",
    "        else:\n",
    "            self.list_objects.append(item)\n",
    "            self.number_objects += 1\n",
    "            \n",
    "    def remove_item(self, item):\n",
    "        if item not in self.list_objects:\n",
    "            print(\"Could use item, it does not appear in inventory!\")\n",
    "        else:\n",
    "            self.list_objects.remove(item)\n",
    "            self.number_objects -= 1"
   ]
  },
  {
   "cell_type": "markdown",
   "metadata": {},
   "source": [
    "#### Test cases"
   ]
  },
  {
   "cell_type": "code",
   "execution_count": null,
   "metadata": {},
   "outputs": [],
   "source": [
    "my_hero = Hero()\n",
    "# This should display {'name': 'Sir Meowsalot', 'hero_class': 'Warrior',\n",
    "# 'max_HP': 100, 'HP': 50, 'inventory': <__main__.Inventory object at 0x0000016D014A7610>}\n",
    "print(my_hero.__dict__)\n",
    "# This should display {'list_objects': [], 'number_objects': 0, 'inventory_size': 50}\n",
    "print(my_hero.inventory.__dict__)"
   ]
  },
  {
   "cell_type": "code",
   "execution_count": null,
   "metadata": {},
   "outputs": [],
   "source": [
    "my_hero = Hero()\n",
    "my_hero.inventory.add_item(\"Potion\")\n",
    "my_hero.inventory.add_item(\"Sword\")\n",
    "my_hero.inventory.add_item(\"Potion\")\n",
    "my_hero.inventory.add_item(\"Potion\")\n",
    "# This should display {'name': 'Sir Meowsalot', 'hero_class': 'Warrior',\n",
    "# 'max_HP': 100, 'HP': 50, 'inventory': <__main__.Inventory object at 0x0000016D014A7610>}\n",
    "print(my_hero.__dict__)\n",
    "# This should display {'list_objects': ['Potion', 'Sword', 'Potion', 'Potion'], \n",
    "# 'number_objects': 4, 'inventory_size': 50}\n",
    "print(my_hero.inventory.__dict__)"
   ]
  },
  {
   "cell_type": "code",
   "execution_count": null,
   "metadata": {},
   "outputs": [],
   "source": [
    "my_hero = Hero()\n",
    "my_hero.inventory.add_item(\"Potion\")\n",
    "my_hero.inventory.add_item(\"Sword\")\n",
    "my_hero.inventory.add_item(\"Potion\")\n",
    "my_hero.inventory.remove_item(\"Potion\")\n",
    "# This should display {'name': 'Sir Meowsalot', 'hero_class': 'Warrior',\n",
    "# 'max_HP': 100, 'HP': 50, 'inventory': <__main__.Inventory object at 0x0000016D014A7610>}\n",
    "print(my_hero.__dict__)\n",
    "# This should display {'list_objects': ['Sword', 'Potion'],\n",
    "# 'number_objects': 2, 'inventory_size': 50}\n",
    "print(my_hero.inventory.__dict__)"
   ]
  },
  {
   "cell_type": "code",
   "execution_count": null,
   "metadata": {},
   "outputs": [],
   "source": [
    "my_hero = Hero()\n",
    "my_hero.inventory.add_item(\"Potion\")\n",
    "my_hero.inventory.add_item(\"Sword\")\n",
    "my_hero.inventory.add_item(\"Potion\")\n",
    "# This should display an error message!\n",
    "my_hero.inventory.remove_item(\"Shield\")"
   ]
  },
  {
   "cell_type": "code",
   "execution_count": null,
   "metadata": {},
   "outputs": [],
   "source": [
    "my_hero = Hero()\n",
    "for i in range(50):\n",
    "    my_hero.inventory.add_item(\"Potion\")\n",
    "# This should display \"Could not add item, inventory is full!\"\n",
    "my_hero.inventory.add_item(\"Sword\")\n",
    "# This should display {'list_objects': ['Potion', 'Potion', 'Potion',\n",
    "# 'Potion', 'Potion', 'Potion', 'Potion', 'Potion', 'Potion', 'Potion',\n",
    "# 'Potion', 'Potion', 'Potion', 'Potion', 'Potion', 'Potion', 'Potion',\n",
    "# 'Potion', 'Potion', 'Potion', 'Potion', 'Potion', 'Potion', 'Potion',\n",
    "# 'Potion', 'Potion', 'Potion', 'Potion', 'Potion', 'Potion', 'Potion',\n",
    "# 'Potion', 'Potion', 'Potion', 'Potion', 'Potion', 'Potion', 'Potion',\n",
    "# 'Potion', 'Potion', 'Potion', 'Potion', 'Potion', 'Potion', 'Potion',\n",
    "# 'Potion', 'Potion', 'Potion', 'Potion', 'Potion'], 'number_objects': 50, 'inventory_size': 50}\n",
    "print(my_hero.inventory.__dict__)"
   ]
  },
  {
   "cell_type": "code",
   "execution_count": null,
   "metadata": {},
   "outputs": [],
   "source": []
  }
 ],
 "metadata": {
  "kernelspec": {
   "display_name": "Python 3",
   "language": "python",
   "name": "python3"
  },
  "language_info": {
   "codemirror_mode": {
    "name": "ipython",
    "version": 3
   },
   "file_extension": ".py",
   "mimetype": "text/x-python",
   "name": "python",
   "nbconvert_exporter": "python",
   "pygments_lexer": "ipython3",
   "version": "3.9.6"
  }
 },
 "nbformat": 4,
 "nbformat_minor": 4
}
