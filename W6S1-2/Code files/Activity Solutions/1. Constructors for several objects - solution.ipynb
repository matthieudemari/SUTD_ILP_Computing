{
 "cells": [
  {
   "cell_type": "markdown",
   "metadata": {},
   "source": [
    "# 1. Constructors for several objects - solution\n",
    "\n",
    "In this first notebook, we will explore some objects, inspired from video games and games in general.\n",
    "\n",
    "On top of the programming tasks described in this notebook, ask yourself what could be the additional attributes and methods that said object could have.\n",
    "\n",
    "### Task 1: a simple Pokemon() class\n",
    "\n",
    "Recall the example from the previous lecture on pokemons using dictionaries.\n",
    "We described our Charmander pokemon, with a dictionnary, as detailed below."
   ]
  },
  {
   "cell_type": "code",
   "execution_count": 1,
   "metadata": {},
   "outputs": [
    {
     "name": "stdout",
     "output_type": "stream",
     "text": [
      "{'Name': 'Charmander', 'Type': ['Fire', None], 'Level': 5, 'HP': 19, 'Attack': 25, 'Defense': 12}\n"
     ]
    }
   ],
   "source": [
    "pokemon = {\"Name\": \"Charmander\", \\\n",
    "           \"Type\": [\"Fire\", None], \\\n",
    "           \"Level\": 5, \\\n",
    "           \"HP\": 19, \\\n",
    "           \"Attack\": 25, \\\n",
    "           \"Defense\": 12}\n",
    "print(pokemon)"
   ]
  },
  {
   "cell_type": "markdown",
   "metadata": {},
   "source": [
    "In this first task, let us create a custom class object, of type **Pokemon()**, instead of using this inconvenient dictionary representation.\n",
    "\n",
    "Our class should have an initializer method, which expects the attributes:\n",
    "- **name**, which contains the name of the pokemon, and is defined a string.\n",
    "- **types**, which is a list of two strings, corresponding to the elemental types of the pokemon. Its second element can be None if the pokemon only has one type.\n",
    "- **level**, which denotes the current level of said pokemon, and is defined as a strictly positive integer.\n",
    "- **HP**, which denotes the hitpoints of the pokemon, and is defined as a strictly positive integer. \n",
    "- **attack**, which denotes the attack points of the pokemon, and is defined as a strictly positive integer.\n",
    "- **defense**, which denotes the defense points of the pokemon, and is defined as a strictly positive integer.\n",
    "\n",
    "No additional attributes or methods are expected for this object at the moment, but you may add some of your choice and test them if you feel like it!\n",
    "\n",
    "#### Your code below!"
   ]
  },
  {
   "cell_type": "code",
   "execution_count": 4,
   "metadata": {},
   "outputs": [],
   "source": [
    "class Pokemon():\n",
    "    def __init__(self, name, types, level, HP, attack, defense):\n",
    "        self.name = name\n",
    "        self.types = types\n",
    "        self.level = level\n",
    "        self.HP = HP\n",
    "        self.attack = attack\n",
    "        self.defense = defense"
   ]
  },
  {
   "cell_type": "markdown",
   "metadata": {},
   "source": [
    "#### Test cases"
   ]
  },
  {
   "cell_type": "code",
   "execution_count": 5,
   "metadata": {},
   "outputs": [
    {
     "name": "stdout",
     "output_type": "stream",
     "text": [
      "This is a Pokemon with name Charmander\n"
     ]
    }
   ],
   "source": [
    "# This should print\n",
    "# {'name': 'Charmander', 'types': ['Fire', None], \n",
    "# 'level': 5, 'HP': 19, 'attack': 25, 'defense': 12}\n",
    "pokemon1 = Pokemon(name = \"Charmander\", \\\n",
    "                   types = [\"Fire\", None], \\\n",
    "                   level = 5, \\\n",
    "                   HP = 19, \\\n",
    "                   attack = 25, \\\n",
    "                   defense = 12)\n",
    "print(pokemon1)"
   ]
  },
  {
   "cell_type": "code",
   "execution_count": 4,
   "metadata": {},
   "outputs": [
    {
     "name": "stdout",
     "output_type": "stream",
     "text": [
      "{'name': 'Venusaur', 'types': ['Grass', 'Poison'], 'level': 55, 'HP': 215, 'attack': 185, 'defense': 217}\n"
     ]
    }
   ],
   "source": [
    "# This should print\n",
    "# {'name': 'Venusaur', 'types': ['Grass', 'Poison'],\n",
    "# 'level': 55, 'HP': 215, 'attack': 185, 'defense': 217}\n",
    "pokemon2 = Pokemon(name = \"Venusaur\", \\\n",
    "                   types = [\"Grass\", \"Poison\"], \\\n",
    "                   level = 55, \\\n",
    "                   HP = 215, \\\n",
    "                   attack = 185, \\\n",
    "                   defense = 217)\n",
    "print(pokemon2.__dict__)"
   ]
  },
  {
   "cell_type": "markdown",
   "metadata": {},
   "source": [
    "## Task 2: add a level_up method\n",
    "\n",
    "Your next task is to modify the class you have constructed in task 1, to add a method, which will allow a pokemon to level up.\n",
    "\n",
    "The method, called **level_up()**, should modify the attributes of the Pokemon accordingly.\n",
    "- It should raise the value of the level attribute by 1,\n",
    "- It should raise the value of attack and defense by 1,\n",
    "- It should increase the number of HPs by 5% (rounding down to the closest integer if needed).\n",
    "\n",
    "Modify the Pokemon class, given below to add such a method.\n",
    "\n",
    "#### Your code below!"
   ]
  },
  {
   "cell_type": "code",
   "execution_count": 6,
   "metadata": {},
   "outputs": [],
   "source": [
    "class Pokemon():\n",
    "    def __init__(self, name, types, level, HP, attack, defense):\n",
    "        self.name = name\n",
    "        self.types = types\n",
    "        self.level = level\n",
    "        self.HP = HP\n",
    "        self.attack = attack\n",
    "        self.defense = defense\n",
    "    \n",
    "    def level_up(self):\n",
    "        self.level += 1\n",
    "        self.attack += 1\n",
    "        self.defense += 1\n",
    "        self.HP = int(self.HP*1.05)"
   ]
  },
  {
   "cell_type": "markdown",
   "metadata": {},
   "source": [
    "#### Test cases"
   ]
  },
  {
   "cell_type": "code",
   "execution_count": 9,
   "metadata": {},
   "outputs": [
    {
     "name": "stdout",
     "output_type": "stream",
     "text": [
      "{'name': 'Charmander', 'types': ['Fire', None], 'level': 12, 'HP': 54, 'attack': 32, 'defense': 19}\n"
     ]
    }
   ],
   "source": [
    "pokemon1 = Pokemon(name = \"Charmander\", \\\n",
    "                   types = [\"Fire\", None], \\\n",
    "                   level = 5, \\\n",
    "                   HP = 40, \\\n",
    "                   attack = 25, \\\n",
    "                   defense = 12)\n",
    "# This should print\n",
    "# {'name': 'Charmander', 'types': ['Fire', None], \n",
    "# 'level': 6, 'HP': 42, 'attack': 26, 'defense': 13}\n",
    "pokemon1.level_up()\n",
    "print(pokemon1.__dict__)"
   ]
  },
  {
   "cell_type": "code",
   "execution_count": null,
   "metadata": {},
   "outputs": [],
   "source": []
  }
 ],
 "metadata": {
  "kernelspec": {
   "display_name": "Python 3",
   "language": "python",
   "name": "python3"
  },
  "language_info": {
   "codemirror_mode": {
    "name": "ipython",
    "version": 3
   },
   "file_extension": ".py",
   "mimetype": "text/x-python",
   "name": "python",
   "nbconvert_exporter": "python",
   "pygments_lexer": "ipython3",
   "version": "3.9.6"
  }
 },
 "nbformat": 4,
 "nbformat_minor": 4
}
