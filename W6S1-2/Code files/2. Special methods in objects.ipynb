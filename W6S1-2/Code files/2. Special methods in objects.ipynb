{
 "cells": [
  {
   "cell_type": "markdown",
   "metadata": {},
   "source": [
    "# 2. Special methods in objects\n",
    "\n",
    "In this second notebook, we will explore some special methods, and reuse them on our previous objects examples.\n",
    "\n",
    "On top of the programming tasks described in this notebook, ask yourself what could be the additional attributes and methods that said object could have!"
   ]
  },
  {
   "cell_type": "markdown",
   "metadata": {},
   "source": [
    "### Task 1: Making Pokemon() babies with our __ add __ special method!\n",
    "\n",
    "In the previous Notebook, we defined a **Pokemon()** class object, as shown below."
   ]
  },
  {
   "cell_type": "code",
   "execution_count": null,
   "metadata": {},
   "outputs": [],
   "source": [
    "class Pokemon():\n",
    "    def __init__(self, name, types, level, HP, attack, defense):\n",
    "        self.name = name\n",
    "        self.types = types\n",
    "        self.level = level\n",
    "        self.HP = HP\n",
    "        self.attack = attack\n",
    "        self.defense = defense"
   ]
  },
  {
   "cell_type": "markdown",
   "metadata": {},
   "source": [
    "In this task, we will define the behavior for the mating of pokemons, and decide how they might make babies!\n",
    "We will implement the mating process, by using the sum operator **+** between two Pokemon()objects.\n",
    "\n",
    "It will neither have the concatenation behavior of strings/lists, neither will it have the mathematical addition behavior of numerical types like int/float. \n",
    "\n",
    "Instead, it will have a new entirely different behavior, which we will refer to as \"mating\".\n",
    "\n",
    "Two Pokemons will only mate if the have the same name attribute. We do not care about their genders or Dittos, etc. (this is left as an extra challenge!)\n",
    "\n",
    "In case of a successful mating, the result of this operation should be a third pokemon being created, with level = 1, HP = 10, attack = 5, defense = 5.\n",
    "Otherwise it simply puts a None, in the third variable, instead of creating a new pokemon.\n",
    "\n",
    "For instance, two Pikachus, mating, will produce a third Pikachu."
   ]
  },
  {
   "cell_type": "code",
   "execution_count": null,
   "metadata": {},
   "outputs": [],
   "source": [
    "pikachu1 = Pokemon(name = \"Pikachu\", \\\n",
    "                   level = 10,\n",
    "                   types = [\"Electric\", None],\n",
    "                   HP = 25, \\\n",
    "                   attack = 20, \\\n",
    "                   defense = 15)\n",
    "\n",
    "pikachu2 = Pokemon(name = \"Pikachu\", \\\n",
    "                   level = 12,\n",
    "                   types = [\"Electric\", None],\n",
    "                   HP = 28, \\\n",
    "                   attack = 22, \\\n",
    "                   defense = 16)\n",
    "\n",
    "# This should produce a third pikachu Pokemon,\n",
    "# with the following dictionary of attributes!\n",
    "# At the moment however, it only produces an error,\n",
    "# as Python does not know how to \"sum\" two Pokemons\n",
    "# with the + operation.\n",
    "pikachu3 = pikachu1 + pikachu2\n",
    "print(pikachu3.__dict__)"
   ]
  },
  {
   "cell_type": "markdown",
   "metadata": {},
   "source": [
    "Modify the **__ add __** special method below to make the mating work!"
   ]
  },
  {
   "cell_type": "code",
   "execution_count": null,
   "metadata": {},
   "outputs": [],
   "source": [
    "class Pokemon():\n",
    "    def __init__(self, name, types, level, HP, attack, defense):\n",
    "        self.name = name\n",
    "        self.types = types\n",
    "        self.level = level\n",
    "        self.HP = HP\n",
    "        self.attack = attack\n",
    "        self.defense = defense\n",
    "        \n",
    "    def __add__(self, other):\n",
    "        pass"
   ]
  },
  {
   "cell_type": "markdown",
   "metadata": {},
   "source": [
    "#### Test cases\n",
    "\n",
    "Mating two Pikachus works and produces a third one!"
   ]
  },
  {
   "cell_type": "code",
   "execution_count": null,
   "metadata": {},
   "outputs": [],
   "source": [
    "pikachu1 = Pokemon(name = \"Pikachu\", \\\n",
    "                   level = 10,\n",
    "                   types = [\"Electric\", None],\n",
    "                   HP = 25, \\\n",
    "                   attack = 20, \\\n",
    "                   defense = 15)\n",
    "\n",
    "pikachu2 = Pokemon(name = \"Pikachu\", \\\n",
    "                   level = 12,\n",
    "                   types = [\"Electric\", None],\n",
    "                   HP = 28, \\\n",
    "                   attack = 22, \\\n",
    "                   defense = 16)\n",
    "\n",
    "# This should produce a third pikachu Pokemon, with\n",
    "# the following dictionary of attributes!\n",
    "# {'name': 'Pikachu', 'types': ['Electric', None], 'level': 1,\n",
    "# 'HP': 10, 'attack': 5, 'defense': 5}\n",
    "pikachu3 = pikachu1 + pikachu2\n",
    "print(pikachu3.__dict__)"
   ]
  },
  {
   "cell_type": "markdown",
   "metadata": {},
   "source": [
    "Mating a Pikachu and a Bulbazaur should not work (!) and produces a None instead."
   ]
  },
  {
   "cell_type": "code",
   "execution_count": null,
   "metadata": {},
   "outputs": [],
   "source": [
    "pikachu1 = Pokemon(name = \"Pikachu\", \\\n",
    "                   level = 10,\n",
    "                   types = [\"Electric\", None],\n",
    "                   HP = 25, \\\n",
    "                   attack = 20, \\\n",
    "                   defense = 15)\n",
    "\n",
    "pokemon2 = Pokemon(name = \"Bulbazaur\", \\\n",
    "                   level = 12,\n",
    "                   types = [\"Grass\", None],\n",
    "                   HP = 28, \\\n",
    "                   attack = 22, \\\n",
    "                   defense = 16)\n",
    "\n",
    "# This should produce a None instead of a new Pokemon\n",
    "pikachu3 = pikachu1 + pokemon2\n",
    "print(pikachu3)"
   ]
  },
  {
   "cell_type": "code",
   "execution_count": null,
   "metadata": {},
   "outputs": [],
   "source": []
  }
 ],
 "metadata": {
  "kernelspec": {
   "display_name": "Python 3",
   "language": "python",
   "name": "python3"
  },
  "language_info": {
   "codemirror_mode": {
    "name": "ipython",
    "version": 3
   },
   "file_extension": ".py",
   "mimetype": "text/x-python",
   "name": "python",
   "nbconvert_exporter": "python",
   "pygments_lexer": "ipython3",
   "version": "3.9.6"
  }
 },
 "nbformat": 4,
 "nbformat_minor": 4
}
