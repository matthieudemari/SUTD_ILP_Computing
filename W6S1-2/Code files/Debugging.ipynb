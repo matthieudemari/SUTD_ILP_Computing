{
 "cells": [
  {
   "cell_type": "code",
   "execution_count": 5,
   "id": "949ebe8a",
   "metadata": {},
   "outputs": [],
   "source": [
    "class Hero():\n",
    "    def __init__(self):\n",
    "        self.equiped_weapon = None\n",
    "        self.attack = 0\n",
    "    def equip_weapon(self, weapon):\n",
    "        self.equiped_weapon = weapon\n",
    "        self.attack = weapon.attack"
   ]
  },
  {
   "cell_type": "code",
   "execution_count": 28,
   "id": "a15a61a6",
   "metadata": {},
   "outputs": [],
   "source": [
    "class Weapon:\n",
    "    def __init__(self, name, attack):\n",
    "        self.name = name\n",
    "        self.attack = attack\n",
    "        print(\"I have created a weapon\")"
   ]
  },
  {
   "cell_type": "code",
   "execution_count": 29,
   "id": "f525b7f1",
   "metadata": {},
   "outputs": [],
   "source": [
    "class Sword(Weapon):\n",
    "    def __init__(self, name, attack):\n",
    "        Weapon.__init__(self, name, attack)\n",
    "        self.ranged = False\n",
    "    def slash(self):\n",
    "        print(\"Slash!\")"
   ]
  },
  {
   "cell_type": "code",
   "execution_count": 30,
   "id": "532714c6",
   "metadata": {},
   "outputs": [],
   "source": [
    "class Staff(Weapon):\n",
    "    def __init__(self, name, attack):\n",
    "        Weapon.__init__(self, name, attack)\n",
    "        self.ranged = True\n",
    "    def cast(self):\n",
    "        print(\"PEW!\")"
   ]
  },
  {
   "cell_type": "code",
   "execution_count": 31,
   "id": "d1a0f330",
   "metadata": {},
   "outputs": [
    {
     "name": "stdout",
     "output_type": "stream",
     "text": [
      "{'equiped_weapon': None, 'attack': 0}\n"
     ]
    }
   ],
   "source": [
    "hero = Hero()\n",
    "print(hero.__dict__)"
   ]
  },
  {
   "cell_type": "code",
   "execution_count": 32,
   "id": "e625ecdb",
   "metadata": {},
   "outputs": [
    {
     "name": "stdout",
     "output_type": "stream",
     "text": [
      "I have created a weapon\n",
      "{'name': 'My beautiful sword', 'attack': 10, 'ranged': False}\n"
     ]
    }
   ],
   "source": [
    "sword = Sword(\"My beautiful sword\", 10)\n",
    "print(sword.__dict__)"
   ]
  },
  {
   "cell_type": "code",
   "execution_count": 11,
   "id": "9cf6a292",
   "metadata": {},
   "outputs": [
    {
     "name": "stdout",
     "output_type": "stream",
     "text": [
      "{'name': 'My ugly staff', 'attack': 1, 'ranged': True}\n"
     ]
    }
   ],
   "source": [
    "staff = Staff(\"My ugly staff\", 1)\n",
    "print(staff.__dict__)"
   ]
  },
  {
   "cell_type": "code",
   "execution_count": 15,
   "id": "0bfdd597",
   "metadata": {},
   "outputs": [
    {
     "name": "stdout",
     "output_type": "stream",
     "text": [
      "{'equiped_weapon': <__main__.Staff object at 0x0000027C1B62F520>, 'attack': 1}\n"
     ]
    }
   ],
   "source": [
    "hero.equip_weapon(staff)\n",
    "print(hero.__dict__)"
   ]
  },
  {
   "cell_type": "code",
   "execution_count": 17,
   "id": "dbfe42dd",
   "metadata": {},
   "outputs": [
    {
     "ename": "AttributeError",
     "evalue": "'Staff' object has no attribute 'slash'",
     "output_type": "error",
     "traceback": [
      "\u001b[1;31m---------------------------------------------------------------------------\u001b[0m",
      "\u001b[1;31mAttributeError\u001b[0m                            Traceback (most recent call last)",
      "\u001b[1;32m<ipython-input-17-99677ebecaa7>\u001b[0m in \u001b[0;36m<module>\u001b[1;34m\u001b[0m\n\u001b[1;32m----> 1\u001b[1;33m \u001b[0mhero\u001b[0m\u001b[1;33m.\u001b[0m\u001b[0mequiped_weapon\u001b[0m\u001b[1;33m.\u001b[0m\u001b[0mslash\u001b[0m\u001b[1;33m(\u001b[0m\u001b[1;33m)\u001b[0m\u001b[1;33m\u001b[0m\u001b[1;33m\u001b[0m\u001b[0m\n\u001b[0m",
      "\u001b[1;31mAttributeError\u001b[0m: 'Staff' object has no attribute 'slash'"
     ]
    }
   ],
   "source": [
    "hero.equiped_weapon.slash()"
   ]
  },
  {
   "cell_type": "code",
   "execution_count": 16,
   "id": "03c3659b",
   "metadata": {},
   "outputs": [
    {
     "name": "stdout",
     "output_type": "stream",
     "text": [
      "PEW!\n"
     ]
    }
   ],
   "source": [
    "hero.equiped_weapon.cast()"
   ]
  }
 ],
 "metadata": {
  "kernelspec": {
   "display_name": "Python 3",
   "language": "python",
   "name": "python3"
  },
  "language_info": {
   "codemirror_mode": {
    "name": "ipython",
    "version": 3
   },
   "file_extension": ".py",
   "mimetype": "text/x-python",
   "name": "python",
   "nbconvert_exporter": "python",
   "pygments_lexer": "ipython3",
   "version": "3.9.6"
  }
 },
 "nbformat": 4,
 "nbformat_minor": 5
}
