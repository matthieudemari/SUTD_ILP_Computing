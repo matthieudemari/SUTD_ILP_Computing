{
 "cells": [
  {
   "cell_type": "markdown",
   "id": "df858484",
   "metadata": {},
   "source": [
    "# 5.C. Extra Challenge - Dice() object balance testing (part 2)\n",
    "\n",
    "In this notebook, we will continue with the design of our Dice() object, and write a testing method, to ensure the randomness is balanced.\n",
    "\n",
    "Let us start by importing functions from numpy."
   ]
  },
  {
   "cell_type": "code",
   "execution_count": 2,
   "id": "47c4aa23",
   "metadata": {},
   "outputs": [],
   "source": [
    "from numpy.random import choice, seed"
   ]
  },
  {
   "cell_type": "markdown",
   "id": "83848457",
   "metadata": {},
   "source": [
    "### Task\n",
    "\n",
    "Write a balance_test() method for our Dice() object.\n",
    "\n",
    "It should:\n",
    "- roll the dice n = 10000 times,\n",
    "- count the number of times each value (1, 2, 3, 4, 5 and 6) has appeared in the n = 10000 rolls,\n",
    "- return a dictionary, which contains the values 1, 2, 3, 4, 5 and 6 as keys, and a percentage as the value matching each key (the percentage in question will simply consists of the number of time each value has appeared among the 10000 rerolls, divided by 10000, and maybe multiplied by 100 to get a % value)\n",
    "- also return a reference value, corresponding to the percentage that each face is supposed to show up, if the dice was to be perfectly balanced. \n",
    "\n",
    "Note: remember we have a test_rolls method which can be used to roll a dice n = 10000 times!"
   ]
  },
  {
   "cell_type": "code",
   "execution_count": 11,
   "id": "08b1753c",
   "metadata": {},
   "outputs": [],
   "source": [
    "class Dice():\n",
    "    \n",
    "    def __init__(self):\n",
    "        # Create an attribute dice_value,\n",
    "        # which will contain an integer between 1 and 6.\n",
    "        # This will correspond to the face value,\n",
    "        # obtained on the last roll of the dice.\n",
    "        # At the beginning, initialize it as 1.\n",
    "        self.dice_value = 1\n",
    "        \n",
    "        # Create an attribute dice_values,\n",
    "        # which will contain a list will all the integers between 1 and 6.\n",
    "        # This will correspond to the face values,\n",
    "        # that the dice can take.\n",
    "        self.dice_values = [i for i  in range(1, 7)]\n",
    "        \n",
    "        # Roll the dice for the first time, by calling the roll method!\n",
    "        self.roll()\n",
    "        \n",
    "        \n",
    "    def roll(self):\n",
    "        # This method should change the attribute dice_value,\n",
    "        # to a random value chosen among the integers in the\n",
    "        # dice_values attribute.\n",
    "        # You may use the choice function from numpy.random,\n",
    "        # as demonstrated earlier.\n",
    "        self.dice_value = choice(self.dice_values)\n",
    "        \n",
    "        \n",
    "    def test_rolls(self, n):\n",
    "        # This method expects an integer value n (strictly positive)\n",
    "        # abd should return a list of the values taken by the dice\n",
    "        # after n successive rolls.\n",
    "        list_values = []\n",
    "        for _ in range(n):\n",
    "            self.roll()\n",
    "            list_values.append(self.dice_value)\n",
    "        return list_values\n",
    "    \n",
    "    \n",
    "    def balance_test(self):\n",
    "        # Roll 10000 times and get list of rolls.\n",
    "        list_values = self.test_rolls(10000)\n",
    "\n",
    "        # Calculate reference value\n",
    "        reference = 100/6\n",
    "        \n",
    "        # Break down results into a dictionnary\n",
    "        balance_results = {}\n",
    "        for dice_value in self.dice_values:\n",
    "            freq = list_values.count(dice_value)/100\n",
    "            balance_results[dice_value] = freq\n",
    "        \n",
    "        return reference, balance_results"
   ]
  },
  {
   "cell_type": "markdown",
   "id": "2d88a306",
   "metadata": {},
   "source": [
    "### Test cases\n",
    "\n",
    "The following test cases should pass."
   ]
  },
  {
   "cell_type": "code",
   "execution_count": 12,
   "id": "ae2ae44a",
   "metadata": {},
   "outputs": [
    {
     "name": "stdout",
     "output_type": "stream",
     "text": [
      "{1: 16.9}\n",
      "{1: 16.9, 2: 16.52}\n",
      "{1: 16.9, 2: 16.52, 3: 16.48}\n",
      "{1: 16.9, 2: 16.52, 3: 16.48, 4: 16.84}\n",
      "{1: 16.9, 2: 16.52, 3: 16.48, 4: 16.84, 5: 16.69}\n",
      "{1: 16.9, 2: 16.52, 3: 16.48, 4: 16.84, 5: 16.69, 6: 16.57}\n",
      "16.666666666666668 {1: 16.9, 2: 16.52, 3: 16.48, 4: 16.84, 5: 16.69, 6: 16.57}\n"
     ]
    }
   ],
   "source": [
    "# This should print 16.666666666666664 \n",
    "# and {1: 16.9, 2: 16.52, 3: 16.48, 4: 16.84, 5: 16.69, 6: 16.57}\n",
    "seed(9)\n",
    "dice = Dice()\n",
    "reference, balance_results = dice.balance_test()\n",
    "print(reference, balance_results)"
   ]
  },
  {
   "cell_type": "code",
   "execution_count": null,
   "id": "a6f21144",
   "metadata": {},
   "outputs": [],
   "source": []
  }
 ],
 "metadata": {
  "kernelspec": {
   "display_name": "Python 3",
   "language": "python",
   "name": "python3"
  },
  "language_info": {
   "codemirror_mode": {
    "name": "ipython",
    "version": 3
   },
   "file_extension": ".py",
   "mimetype": "text/x-python",
   "name": "python",
   "nbconvert_exporter": "python",
   "pygments_lexer": "ipython3",
   "version": "3.9.6"
  }
 },
 "nbformat": 4,
 "nbformat_minor": 5
}
