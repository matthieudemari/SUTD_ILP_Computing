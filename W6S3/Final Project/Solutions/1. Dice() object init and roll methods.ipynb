{
 "cells": [
  {
   "cell_type": "markdown",
   "id": "df858484",
   "metadata": {},
   "source": [
    "# 1. Dice() object init and roll methods\n",
    "\n",
    "In this first notebook, we will create a Dice() object, and write its init method.\n",
    "We will also write its first custom method, the roll() one!\n",
    "\n",
    "Let us start by importing some needed functions from numpy."
   ]
  },
  {
   "cell_type": "code",
   "execution_count": 1,
   "id": "eb3ff341",
   "metadata": {},
   "outputs": [],
   "source": [
    "from numpy.random import choice, seed"
   ]
  },
  {
   "cell_type": "markdown",
   "id": "caee6f0a",
   "metadata": {},
   "source": [
    "### Task 1\n",
    "\n",
    "Write the init method for our Dice() object below. It should:\n",
    "- Create an attribute dice_value, which will contain an integer between 1 and 6. This will correspond to the face value, obtained on the last roll of the dice. At the beginning, initialize it as 1.\n",
    "- Create an attribute dice_values,which will contain a list will all the integers between 1 and 6. This will correspond to the face values that the dice can take.\n",
    "- Roll the dice for the first time, by calling the roll() method! At the moment it will do nothing as it only contains a pass."
   ]
  },
  {
   "cell_type": "code",
   "execution_count": 2,
   "id": "08b1753c",
   "metadata": {},
   "outputs": [],
   "source": [
    "class Dice():\n",
    "    \n",
    "    def __init__(self):\n",
    "        # Create an attribute dice_value,\n",
    "        # which will contain an integer between 1 and 6.\n",
    "        # This will correspond to the face value,\n",
    "        # obtained on the last roll of the dice.\n",
    "        # At the beginning, initialize it as 1.\n",
    "        self.dice_value = 1\n",
    "        \n",
    "        # Create an attribute dice_values,\n",
    "        # which will contain a list will all the integers between 1 and 6.\n",
    "        # This will correspond to the face values\n",
    "        # that the dice can take.\n",
    "        self.dice_values = [i for i  in range(1, 7)]\n",
    "        \n",
    "        # Roll the dice for the first time, by calling the roll method!\n",
    "        self.roll()\n",
    "        \n",
    "        \n",
    "    def roll(self):\n",
    "        # This method should change the attribute dice_value,\n",
    "        # to a random value chosen among the integers in the\n",
    "        # dice_values attribute.\n",
    "        # You may use the choice function from numpy.random,\n",
    "        # as demonstrated earlier.\n",
    "        self.dice_value = choice(self.dice_values)"
   ]
  },
  {
   "cell_type": "markdown",
   "id": "8a294cf2",
   "metadata": {},
   "source": [
    "### Test cases\n",
    "\n",
    "The following test cases should pass."
   ]
  },
  {
   "cell_type": "code",
   "execution_count": 3,
   "id": "90ea9519",
   "metadata": {},
   "outputs": [
    {
     "name": "stdout",
     "output_type": "stream",
     "text": [
      "{'dice_value': 2, 'dice_values': [1, 2, 3, 4, 5, 6]}\n"
     ]
    }
   ],
   "source": [
    "# This should print {'dice_value': 2, 'dice_values': [1, 2, 3, 4, 5, 6]}\n",
    "seed(11)\n",
    "dice = Dice()\n",
    "print(dice.__dict__)"
   ]
  },
  {
   "cell_type": "markdown",
   "id": "a59f16f6",
   "metadata": {},
   "source": [
    "### Task 2\n",
    "\n",
    "Our second task is to write a roll() method for our Dice class.\n",
    "\n",
    "When called, it should:\n",
    "- change the dice_value attribute to a value, randomly selected among the ones stored in the dice_values attribute.\n",
    "- not return anything.\n",
    "\n",
    "This random roll of a dice can be easily implemented using the choice() function from the numpy.random library, which we imported earlier.\n",
    "\n",
    "Have a look at the cell below for an implementation example."
   ]
  },
  {
   "cell_type": "code",
   "execution_count": 4,
   "id": "6baa0fd8",
   "metadata": {},
   "outputs": [
    {
     "name": "stdout",
     "output_type": "stream",
     "text": [
      "1 0 1 1\n"
     ]
    }
   ],
   "source": [
    "# This is a simple head (0) or tails (1) implementation.\n",
    "# Executing this cell will have 4 independant rolls,\n",
    "# with values randomly chosen among the possible ones, i.e. 0 and 1.\n",
    "possible_values = [0, 1]\n",
    "roll1 = choice(possible_values)\n",
    "roll2 = choice(possible_values)\n",
    "roll3 = choice(possible_values)\n",
    "roll4 = choice(possible_values)\n",
    "print(roll1, roll2, roll3, roll4)"
   ]
  },
  {
   "cell_type": "markdown",
   "id": "dc740ece",
   "metadata": {},
   "source": [
    "Reusing this idea behind the choice method, you may now implement a roll method, which changes the value of our dice by randomly choosing one among the possible values the dice can take (that is 1, 2, 3, 4, 5 and 6)."
   ]
  },
  {
   "cell_type": "code",
   "execution_count": 5,
   "id": "12f0ab60",
   "metadata": {},
   "outputs": [],
   "source": [
    "class Dice():\n",
    "    \n",
    "    def __init__(self):\n",
    "        # Create an attribute dice_value,\n",
    "        # which will contain an integer between 1 and 6.\n",
    "        # This will correspond to the face value,\n",
    "        # obtained on the last roll of the dice.\n",
    "        # At the beginning, initialize it as 1.\n",
    "        self.dice_value = 1\n",
    "        \n",
    "        # Create an attribute dice_values,\n",
    "        # which will contain a list will all the integers between 1 and 6.\n",
    "        # This will correspond to the face values\n",
    "        # that the dice can take.\n",
    "        self.dice_values = [i for i  in range(1, 7)]\n",
    "        \n",
    "        # Roll the dice for the first time, by calling the roll method!\n",
    "        self.roll()\n",
    "        \n",
    "        \n",
    "    def roll(self):\n",
    "        # This method should change the attribute dice_value,\n",
    "        # to a random value chosen among the integers in the\n",
    "        # dice_values attribute.\n",
    "        # You may use the choice function from numpy.random,\n",
    "        # as demonstrated earlier.\n",
    "        self.dice_value = choice(self.dice_values)"
   ]
  },
  {
   "cell_type": "markdown",
   "id": "21e0099f",
   "metadata": {},
   "source": [
    "### Test cases\n",
    "\n",
    "The following test cases should pass."
   ]
  },
  {
   "cell_type": "code",
   "execution_count": 6,
   "id": "6e9c8c09",
   "metadata": {},
   "outputs": [
    {
     "name": "stdout",
     "output_type": "stream",
     "text": [
      "5\n"
     ]
    }
   ],
   "source": [
    "# This should print 5\n",
    "seed(42)\n",
    "dice = Dice()\n",
    "dice.roll()\n",
    "print(dice.dice_value)"
   ]
  },
  {
   "cell_type": "code",
   "execution_count": 7,
   "id": "d5f4818a",
   "metadata": {},
   "outputs": [
    {
     "name": "stdout",
     "output_type": "stream",
     "text": [
      "1\n"
     ]
    }
   ],
   "source": [
    "# This should print 1\n",
    "seed(11)\n",
    "dice = Dice()\n",
    "dice.roll()\n",
    "print(dice.dice_value)"
   ]
  },
  {
   "cell_type": "code",
   "execution_count": 8,
   "id": "74ea84f2",
   "metadata": {},
   "outputs": [
    {
     "name": "stdout",
     "output_type": "stream",
     "text": [
      "2\n"
     ]
    }
   ],
   "source": [
    "# This should print 2\n",
    "seed(17)\n",
    "dice = Dice()\n",
    "dice.roll()\n",
    "print(dice.dice_value)"
   ]
  },
  {
   "cell_type": "code",
   "execution_count": null,
   "id": "db2670b3",
   "metadata": {},
   "outputs": [],
   "source": []
  }
 ],
 "metadata": {
  "kernelspec": {
   "display_name": "Python 3",
   "language": "python",
   "name": "python3"
  },
  "language_info": {
   "codemirror_mode": {
    "name": "ipython",
    "version": 3
   },
   "file_extension": ".py",
   "mimetype": "text/x-python",
   "name": "python",
   "nbconvert_exporter": "python",
   "pygments_lexer": "ipython3",
   "version": "3.9.6"
  }
 },
 "nbformat": 4,
 "nbformat_minor": 5
}
