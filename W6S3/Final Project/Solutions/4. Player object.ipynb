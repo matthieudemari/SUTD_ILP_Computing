{
 "cells": [
  {
   "cell_type": "markdown",
   "id": "4fbdf369",
   "metadata": {},
   "source": [
    "# 4. Player object\n",
    "\n",
    "In this last notebook, we will create and design a final object, called Player().\n",
    "\n",
    "It will have an init method and a play_turns() method.\n",
    "\n",
    "We will reuse the Dice(), Hand() and Turn() objects from previous notebooks by importing them from their respective files, using the command below. We will also be importing some needed functions from numpy."
   ]
  },
  {
   "cell_type": "code",
   "execution_count": null,
   "id": "f1c1c3dc",
   "metadata": {},
   "outputs": [],
   "source": [
    "from numpy.random import choice, seed\n",
    "from dice import Dice\n",
    "from hand import Hand\n",
    "from turn import Turn"
   ]
  },
  {
   "cell_type": "markdown",
   "id": "64b631df",
   "metadata": {},
   "source": [
    "### Task 1\n",
    "\n",
    "Write the init method for our Player() object.\n",
    "\n",
    "It should:\n",
    "- Create an attribute current_turn, with value 0 for now\n",
    "- Create an attribute max_turns, using the value passed to init\n",
    "- Create an attribute list_scores, which starts as an empty list.\n",
    "- Create an attribute total_score, which starts as 0.\n",
    "- Create an attribute player_done, set to False for now."
   ]
  },
  {
   "cell_type": "code",
   "execution_count": null,
   "id": "8651d886",
   "metadata": {},
   "outputs": [],
   "source": [
    "class Player():\n",
    "    \n",
    "    def __init__(self, max_turns):\n",
    "        \n",
    "        # Create an attribute current_turn, with value 0 for now\n",
    "        self.current_turn = 0\n",
    "        \n",
    "        # Create an attribute max_turns, using the value passed to init\n",
    "        self.max_turns = max_turns\n",
    "        \n",
    "        # Create an attribute list_scores, which starts as an empty list.\n",
    "        self.list_scores = []\n",
    "        \n",
    "        # Create an attribute total_score, which starts as 0.\n",
    "        self.total_score = 0\n",
    "        \n",
    "        # Create an attribute player_done, set to False for now.\n",
    "        self.player_done = False"
   ]
  },
  {
   "cell_type": "markdown",
   "id": "9a2ecfb1",
   "metadata": {},
   "source": [
    "### Test cases\n",
    "\n",
    "The following test cases should pass."
   ]
  },
  {
   "cell_type": "code",
   "execution_count": null,
   "id": "ad6d41d8",
   "metadata": {},
   "outputs": [],
   "source": [
    "# This should print {'current_turn': 0, 'max_turns': 3, 'list_scores': [],\n",
    "# 'total_score': 0, 'player_done': False}\n",
    "max_turns = 3\n",
    "player = Player(max_turns)\n",
    "print(player.__dict__)"
   ]
  },
  {
   "cell_type": "markdown",
   "id": "92d75521",
   "metadata": {},
   "source": [
    "### Task 2\n",
    "\n",
    "Write the play_turns method for our Player() object.\n",
    "\n",
    "It should:\n",
    "- Keep on playing turns, while the player is not done playing all turns (which will be tracked with the player_done attribute, suddenly becoming True at the end of the game).\n",
    "- On each turn, increment turn counter in current_turn attribute\n",
    "-  Display separator for turns, which is simply the given print below.\n",
    "\n",
    "print(\"---------------------------------\")\n",
    "\n",
    "print(\"TURN: \", self.current_turn)\n",
    "            \n",
    "- Create a turn object, reusing our turn object from earlier.\n",
    "- Play the turn and get score at the end of the turn, using the play_turn method as in Notebook 3.D.\n",
    "- Add score of turn to the list_scores attribute for the player\n",
    "- Check if player has completed all turns and update player_done attribute (this happens when the value of the attribute in current_turn matches the value of the attribute max_turns).\n",
    "- After player is done playing, sum scores in list_scores and update total_score attribute.\n",
    "- Give the user a final display, as given below!\n",
    "\n",
    "print(\"---------------------------------\\n\")\n",
    "\n",
    "print(\"--- End of game ---\")\n",
    "\n",
    "print(\"You scored {} points!\".format(self.total_score))\n",
    "\n",
    "print(\"---------------------------------\")"
   ]
  },
  {
   "cell_type": "code",
   "execution_count": null,
   "id": "1ea773d2",
   "metadata": {},
   "outputs": [],
   "source": [
    "class Player():\n",
    "    \n",
    "    def __init__(self, max_turns):\n",
    "        \n",
    "        # Create an attribute current_turn, with value 0 for now\n",
    "        self.current_turn = 0\n",
    "        \n",
    "        # Create an attribute max_turns, using the value passed to init\n",
    "        self.max_turns = max_turns\n",
    "        \n",
    "        # Create an attribute list_scores, which starts as an empty list.\n",
    "        self.list_scores = []\n",
    "        \n",
    "        # Create an attribute total_score, which starts as 0.\n",
    "        self.total_score = 0\n",
    "        \n",
    "        # Create an attribute player_done, set to False for now.\n",
    "        self.player_done = False\n",
    "        \n",
    "        \n",
    "    def play_turns(self):\n",
    "        \n",
    "        # While the player is not done, keep on playing turns\n",
    "        while(not self.player_done):\n",
    "            # Increment turn counter in current_turn attribute\n",
    "            self.current_turn += 1\n",
    "            \n",
    "            # Display separator for turns\n",
    "            print(\"---------------------------------\")\n",
    "            print(\"TURN: \", self.current_turn)\n",
    "            \n",
    "            # Create a turn object\n",
    "            turn = Turn()\n",
    "            \n",
    "            # Play the turn and get score at the end of the turn\n",
    "            score = turn.play_turn()\n",
    "            \n",
    "            # Add score of turn to the list_scores for the player\n",
    "            self.list_scores.append(score)\n",
    "            \n",
    "            # Check if player has completed all turns\n",
    "            # and update player_done attribute\n",
    "            self.player_done = self.current_turn == self.max_turns\n",
    "            \n",
    "        # After player is done sum score in list_scores\n",
    "        # and update total_score attribute.\n",
    "        self.total_score = sum(self.list_scores)\n",
    "        \n",
    "        # Final display\n",
    "        print(\"---------------------------------\\n\")\n",
    "        print(\"--- End of game ---\")\n",
    "        print(\"You scored {} points!\".format(self.total_score))\n",
    "        print(\"---------------------------------\")"
   ]
  },
  {
   "cell_type": "markdown",
   "id": "42cfca32",
   "metadata": {},
   "source": [
    "### Test cases\n",
    "\n",
    "The following test cases should pass."
   ]
  },
  {
   "cell_type": "code",
   "execution_count": null,
   "id": "9d4b2fec",
   "metadata": {},
   "outputs": [],
   "source": [
    "# Try playing three turns!\n",
    "# (It is up to you to see if the function has the expected behavior!)\n",
    "max_turns = 3\n",
    "player = Player(max_turns)\n",
    "player.play_turns()"
   ]
  },
  {
   "cell_type": "code",
   "execution_count": null,
   "id": "05a91a94",
   "metadata": {},
   "outputs": [],
   "source": []
  }
 ],
 "metadata": {
  "kernelspec": {
   "display_name": "Python 3",
   "language": "python",
   "name": "python3"
  },
  "language_info": {
   "codemirror_mode": {
    "name": "ipython",
    "version": 3
   },
   "file_extension": ".py",
   "mimetype": "text/x-python",
   "name": "python",
   "nbconvert_exporter": "python",
   "pygments_lexer": "ipython3",
   "version": "3.9.6"
  }
 },
 "nbformat": 4,
 "nbformat_minor": 5
}
