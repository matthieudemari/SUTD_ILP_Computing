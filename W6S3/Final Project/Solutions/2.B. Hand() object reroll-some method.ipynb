{
 "cells": [
  {
   "cell_type": "markdown",
   "id": "705d8d13",
   "metadata": {},
   "source": [
    "# 2.B. Hand() object reroll-some method\n",
    "\n",
    "In this notebook, we will proceed with the design of our Hand() object, and implement a partial reroll method.\n",
    "\n",
    "We will reuse the Dice() object from previous notebooks and import it from the dice.py file, using the command below. We will also be importing some needed functions from numpy.\n",
    "\n",
    "Note: you may use your own version of the Dice() class if you want, just make sure it passed the test cases in the 1.X. notebooks!"
   ]
  },
  {
   "cell_type": "code",
   "execution_count": 3,
   "id": "f6e47e3c",
   "metadata": {},
   "outputs": [],
   "source": [
    "from numpy.random import choice, seed\n",
    "from dice import Dice"
   ]
  },
  {
   "cell_type": "markdown",
   "id": "a08e35e5",
   "metadata": {},
   "source": [
    "### Task\n",
    "\n",
    "Write the reroll_list method for our Hand() object.\n",
    "It should\n",
    "- receive a list of up to five values, as a sublist of [0, 1, 2, 3, 4], for instance, it could be [0, 1, 3].\n",
    "- reroll the Dice() objects in the list_dice attribute, corresponding to Dice() objects with indexes 0, 1, and 3 in our example.\n",
    "- update the dice_values, by reusing our get_rolls method from earlier.\n",
    "- increment the value of the current_roll attribute to indicate we have used a reroll."
   ]
  },
  {
   "cell_type": "code",
   "execution_count": 4,
   "id": "a108daf6",
   "metadata": {},
   "outputs": [],
   "source": [
    "class Hand():\n",
    "    \n",
    "    def __init__(self):\n",
    "        # Create an attribute number_dice,\n",
    "        # corresponding to the number of dice that the hand contains.\n",
    "        # In our case, taht will be 5.\n",
    "        self.number_dice = 5\n",
    "        \n",
    "        # Create an attribute list_dice,\n",
    "        # which contains self.number_dice Dice() objects.\n",
    "        self.list_dice = [Dice() for _ in range(self.number_dice)]\n",
    "        \n",
    "        # Call the method get_rolls() to generate an attribute dice_values\n",
    "        # which will consist of list of the values obtained after rolling all\n",
    "        # the dice once.\n",
    "        self.get_rolls()\n",
    "        \n",
    "        # Define an attribute maximal_rolls set to 3\n",
    "        # And an attribute current_roll set to 1.\n",
    "        self.maximal_rolls = 3\n",
    "        self.current_roll = 1\n",
    "        \n",
    "    def get_rolls(self):\n",
    "        # This method simply initializes/updates an attribute dice_values,\n",
    "        # which contains the five dice_value attributes contained in \n",
    "        # each of the five Dice() objects in the list_dice attribute.\n",
    "        self.dice_values = [dice.dice_value for dice in self.list_dice]\n",
    "        \n",
    "    \n",
    "    def reroll_list(self, dice_reroll_list):\n",
    "        # This method will reroll the dice objects in self.list_dice\n",
    "        # For instance, if dice_reroll_list = [0, 2, 4], we will reroll the\n",
    "        # first, third and fifth dice in the list_dice attribute.\n",
    "        # The non-specified indexes will not be re-rolled.\n",
    "        # It should also increment the current_roll attribute by 1.\n",
    "        \n",
    "        for i in dice_reroll_list:\n",
    "            # Reroll dice with index i.\n",
    "            # Do so for each index value in dice_list.\n",
    "            self.list_dice[i].roll()\n",
    "            \n",
    "        # Update rolls values in dice_values by calling the get_rolls() method\n",
    "        self.get_rolls()\n",
    "        \n",
    "        # Increment roll\n",
    "        self.current_roll += 1"
   ]
  },
  {
   "cell_type": "markdown",
   "id": "57e2ac26",
   "metadata": {},
   "source": [
    "### Test cases\n",
    "\n",
    "The following test cases should pass."
   ]
  },
  {
   "cell_type": "code",
   "execution_count": 5,
   "id": "d0af74a0",
   "metadata": {},
   "outputs": [
    {
     "name": "stdout",
     "output_type": "stream",
     "text": [
      "[4, 1, 2, 1, 6]\n",
      "[5, 4, 3, 2, 4]\n",
      "2\n"
     ]
    }
   ],
   "source": [
    "# This should print [4, 1, 2, 1, 6]\n",
    "# [5, 4, 3, 2, 4] and 2.\n",
    "seed(23)\n",
    "hand = Hand()\n",
    "print(hand.dice_values)\n",
    "hand.reroll_list([0, 1, 2, 3, 4])\n",
    "print(hand.dice_values)\n",
    "print(hand.current_roll)"
   ]
  },
  {
   "cell_type": "code",
   "execution_count": 6,
   "id": "29850740",
   "metadata": {},
   "outputs": [
    {
     "name": "stdout",
     "output_type": "stream",
     "text": [
      "[2, 2, 1, 6, 5]\n",
      "[2, 2, 2, 1, 2]\n",
      "3\n"
     ]
    }
   ],
   "source": [
    "# This should print [2, 2, 1, 6, 5]\n",
    "# [2, 2, 2, 1, 2] and 3.\n",
    "seed(17)\n",
    "hand = Hand()\n",
    "print(hand.dice_values)\n",
    "hand.reroll_list([0, 2, 4])\n",
    "hand.reroll_list([0, 2, 3])\n",
    "print(hand.dice_values)\n",
    "print(hand.current_roll)"
   ]
  },
  {
   "cell_type": "code",
   "execution_count": null,
   "id": "a6f21144",
   "metadata": {},
   "outputs": [],
   "source": []
  }
 ],
 "metadata": {
  "kernelspec": {
   "display_name": "Python 3",
   "language": "python",
   "name": "python3"
  },
  "language_info": {
   "codemirror_mode": {
    "name": "ipython",
    "version": 3
   },
   "file_extension": ".py",
   "mimetype": "text/x-python",
   "name": "python",
   "nbconvert_exporter": "python",
   "pygments_lexer": "ipython3",
   "version": "3.9.6"
  }
 },
 "nbformat": 4,
 "nbformat_minor": 5
}
