{
 "cells": [
  {
   "cell_type": "markdown",
   "id": "705d8d13",
   "metadata": {},
   "source": [
    "# 3.B. Turn() object go for reroll method\n",
    "\n",
    "In this notebook, we will proceed with the design of our Turn() object, which represents the turn a player can take in the game.\n",
    "\n",
    "We will reuse the Dice() and Hand objects from previous notebooks and import it from the dice.py and hand.py files, using the command below. We will also be importing some needed functions from numpy.\n",
    "\n",
    "Note: you may use your own version of the Dice() class if you want, just make sure it passed the test cases in the 1.X. notebooks. Same thing for the Hand() object."
   ]
  },
  {
   "cell_type": "code",
   "execution_count": 3,
   "id": "f6e47e3c",
   "metadata": {},
   "outputs": [],
   "source": [
    "from numpy.random import choice, seed\n",
    "from dice import Dice\n",
    "from hand import Hand"
   ]
  },
  {
   "cell_type": "markdown",
   "id": "a08e35e5",
   "metadata": {},
   "source": [
    "### Task\n",
    "\n",
    "We have added a method get_reroll_list, which asks the user for which dice it wants to reroll, in the form of an input(). It produces a list dice_reroll_list as a result, which can be used for reroll later.\n",
    "\n",
    "Try the cell below to see the method in action."
   ]
  },
  {
   "cell_type": "code",
   "execution_count": 5,
   "id": "00ccf306",
   "metadata": {},
   "outputs": [],
   "source": [
    "class Turn():\n",
    "    \n",
    "    def __init__(self):\n",
    "        \n",
    "        # Create a Hand object and assign it to an attribute hand.\n",
    "        self.hand = Hand()\n",
    "        \n",
    "        # Create an attribute end_turn, set to False for now.\n",
    "        self.end_turn = False\n",
    "        \n",
    "    \n",
    "    def display_hand(self):\n",
    "        print(\"Hand: \", self.hand.dice_values)\n",
    "        \n",
    "    \n",
    "    def get_reroll_list(self):\n",
    "        # Write a function, which asks the user for which dice it wants to reroll,\n",
    "        # in the form of an input().\n",
    "        # It produces a list dice_reroll_list as a result.\n",
    "        # Input\n",
    "        self.display_hand()\n",
    "        message = \"Write the dice indexes you wish to reroll, separate with commas.\"\n",
    "        message += \"\\nFor instance 0, 1, 3.\\n\"\n",
    "        message = \"If you wish to stop and not reroll, enter nothing in this input.\\n\"\n",
    "        user_input = input(message)\n",
    "        if user_input == \"\":\n",
    "            # If no input, return empty list.\n",
    "            return []\n",
    "        else:\n",
    "            # Otherwise, separate entries with split and create list.\n",
    "            user_input = user_input.split(\",\")\n",
    "            dice_reroll_list = []\n",
    "            for entry in user_input:\n",
    "                dice_reroll_list.append(int(entry.strip()))\n",
    "            return dice_reroll_list"
   ]
  },
  {
   "cell_type": "code",
   "execution_count": 6,
   "id": "a60c1355",
   "metadata": {},
   "outputs": [
    {
     "name": "stdout",
     "output_type": "stream",
     "text": [
      "Hand:  [5, 2, 5, 5, 6]\n",
      "If you wish to stop and not reroll, enter nothing in this input.\n",
      "0, 1, 3\n",
      "[0, 1, 3]\n"
     ]
    }
   ],
   "source": [
    "# Try typing \"0, 1, 3\" in the prompt to see you obtain [0, 1, 3]\n",
    "# in the dice_reroll_list produced as a result\n",
    "turn = Turn()\n",
    "dice_reroll_list = turn.get_reroll_list()\n",
    "print(dice_reroll_list)"
   ]
  },
  {
   "cell_type": "code",
   "execution_count": 7,
   "id": "9908fe08",
   "metadata": {},
   "outputs": [
    {
     "name": "stdout",
     "output_type": "stream",
     "text": [
      "Hand:  [6, 6, 2, 1, 1]\n",
      "If you wish to stop and not reroll, enter nothing in this input.\n",
      "\n",
      "[]\n"
     ]
    }
   ],
   "source": [
    "# Note that if you leave the prompt empty, you obtain an empty list as a result.\n",
    "# Try it out!\n",
    "turn = Turn()\n",
    "dice_reroll_list = turn.get_reroll_list()\n",
    "print(dice_reroll_list)"
   ]
  },
  {
   "cell_type": "markdown",
   "id": "5ec69f3d",
   "metadata": {},
   "source": [
    "Your task will be to reuse this method to reroll certain dice in the hand attribute of your Turn() object.\n",
    "\n",
    "We will be reusing many methods from the previous Hand() method, so follow these instructions carefully.\n",
    "\n",
    "- The method should first ask user for reroll list, with the get_reroll_list method. Seek inspiration from the cells above on how to use this method.\n",
    "- If dice_reroll_list is an empty list, this means the user does not want to reroll. In this setting, stop and set attribute end_turn to True.\n",
    "- Otherwise, reroll and then update the end_turn attribute by checking if the user has exhausted all its attempts with the is_over method from the Hand() object in the attribute. Then update the end_turn attribute by checking if the user has exhausted all its attempts with the is_over method on our hand attribute."
   ]
  },
  {
   "cell_type": "code",
   "execution_count": 9,
   "id": "a108daf6",
   "metadata": {},
   "outputs": [],
   "source": [
    "class Turn():\n",
    "    \n",
    "    def __init__(self):\n",
    "        \n",
    "        # Create a Hand object and assign it to an attribute hand.\n",
    "        self.hand = Hand()\n",
    "        \n",
    "        # Create an attribute end_turn, set to False for now.\n",
    "        self.end_turn = False\n",
    "        \n",
    "    \n",
    "    def display_hand(self):\n",
    "        print(\"Hand: \", self.hand.dice_values)\n",
    "        \n",
    "    \n",
    "    def get_reroll_list(self):\n",
    "        \n",
    "        # Write a function, which asks the user for which dice it wants to reroll,\n",
    "        # in the form of an input().\n",
    "        # It produces a list dice_reroll_list as a result.\n",
    "        # Input\n",
    "        self.display_hand()\n",
    "        message = \"Write the dice indexes you wish to reroll, separate with commas.\"\n",
    "        message += \"\\nFor instance 0, 1, 3.\\n\"\n",
    "        message = \"If you wish to stop and not reroll, enter nothing in this input.\\n\"\n",
    "        user_input = input(message)\n",
    "        if user_input == \"\":\n",
    "            # If no input, return empty list.\n",
    "            return []\n",
    "        else:\n",
    "            # Otherwise, separate entries with split and create list.\n",
    "            user_input = user_input.split(\",\")\n",
    "            dice_reroll_list = []\n",
    "            for entry in user_input:\n",
    "                dice_reroll_list.append(int(entry.strip()))\n",
    "            return dice_reroll_list\n",
    "        \n",
    "        \n",
    "    def go_for_reroll(self):\n",
    "        \n",
    "        # Ask user for reroll list, with the get_reroll_list method.\n",
    "        dice_reroll_list = self.get_reroll_list()\n",
    "        \n",
    "        # If reroll list is empty, stop and set attribute end_turn to True.\n",
    "        if dice_reroll_list == []:\n",
    "            self.end_turn = True\n",
    "        else:\n",
    "            # Otherwise, reroll using the reroll_list method from Hand()\n",
    "            # on our hand attribute.\n",
    "            self.hand.reroll_list(dice_reroll_list)\n",
    "            # Then update the end_turn attribute by checking\n",
    "            # if the user has exhausted all its attempts with the is_over method\n",
    "            # from the Hand() object in the attribute.\n",
    "            self.end_turn = self.hand.is_over()"
   ]
  },
  {
   "cell_type": "markdown",
   "id": "57e2ac26",
   "metadata": {},
   "source": [
    "### Test cases\n",
    "\n",
    "The following test cases should pass."
   ]
  },
  {
   "cell_type": "code",
   "execution_count": 10,
   "id": "d6c08e2e",
   "metadata": {},
   "outputs": [
    {
     "name": "stdout",
     "output_type": "stream",
     "text": [
      "Hand:  [6, 5, 5, 1, 5]\n",
      "If you wish to stop and not reroll, enter nothing in this input.\n",
      "0, 3\n",
      "[4, 5, 5, 5, 5]\n"
     ]
    }
   ],
   "source": [
    "# This should (probably?) print\n",
    "'''\n",
    "Current hand:  [6, 5, 5, 1, 5]\n",
    "If you wish to stop and not reroll, enter nothing in this input.\n",
    "0, 3\n",
    "[4, 5, 5, 5, 5]\n",
    "'''\n",
    "# if you type 0, 3 in the input() prompt.\n",
    "seed(22)\n",
    "turn = Turn()\n",
    "turn.go_for_reroll()\n",
    "print(turn.hand.dice_values)"
   ]
  },
  {
   "cell_type": "code",
   "execution_count": 13,
   "id": "1e525a7c",
   "metadata": {},
   "outputs": [
    {
     "name": "stdout",
     "output_type": "stream",
     "text": [
      "Hand:  [6, 5, 5, 1, 5]\n",
      "If you wish to stop and not reroll, enter nothing in this input.\n",
      "0, 3\n",
      "Hand:  [4, 5, 5, 5, 5]\n",
      "If you wish to stop and not reroll, enter nothing in this input.\n",
      "0\n"
     ]
    }
   ],
   "source": [
    "# This should (probably?) print\n",
    "'''\n",
    "Hand:  [6, 5, 5, 1, 5]\n",
    "If you wish to stop and not reroll, enter nothing in this input.\n",
    "0, 3\n",
    "Hand:  [4, 5, 5, 5, 5]\n",
    "If you wish to stop and not reroll, enter nothing in this input.\n",
    "0\n",
    "'''\n",
    "# If you type 0, 3 in the first input() prompt and 0 in the second one.\n",
    "seed(22)\n",
    "turn = Turn()\n",
    "turn.go_for_reroll()\n",
    "turn.go_for_reroll()"
   ]
  },
  {
   "cell_type": "code",
   "execution_count": null,
   "id": "a6f21144",
   "metadata": {},
   "outputs": [],
   "source": []
  }
 ],
 "metadata": {
  "kernelspec": {
   "display_name": "Python 3",
   "language": "python",
   "name": "python3"
  },
  "language_info": {
   "codemirror_mode": {
    "name": "ipython",
    "version": 3
   },
   "file_extension": ".py",
   "mimetype": "text/x-python",
   "name": "python",
   "nbconvert_exporter": "python",
   "pygments_lexer": "ipython3",
   "version": "3.9.6"
  }
 },
 "nbformat": 4,
 "nbformat_minor": 5
}
