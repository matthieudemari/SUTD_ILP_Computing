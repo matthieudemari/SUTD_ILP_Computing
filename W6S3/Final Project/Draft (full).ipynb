{
 "cells": [
  {
   "cell_type": "code",
   "execution_count": 16,
   "id": "f6e47e3c",
   "metadata": {},
   "outputs": [],
   "source": [
    "from numpy.random import choice, seed"
   ]
  },
  {
   "cell_type": "markdown",
   "id": "df858484",
   "metadata": {},
   "source": [
    "### Part 1 - Creating a Dice object"
   ]
  },
  {
   "cell_type": "code",
   "execution_count": 77,
   "id": "08b1753c",
   "metadata": {},
   "outputs": [],
   "source": [
    "class Dice():\n",
    "    \n",
    "    def __init__(self):\n",
    "        # Create an attribute dice_value,\n",
    "        # which will contain an integer between 1 and 6.\n",
    "        # This will correspond to the face value,\n",
    "        # obtained on the last roll of the dice.\n",
    "        # At the beginning, initialize it as 1.\n",
    "        self.dice_value = 1\n",
    "        \n",
    "        # Create an attribute dice_values,\n",
    "        # which will contain a list will all the integers between 1 and 6.\n",
    "        # This will correspond to the face values,\n",
    "        # that the dice can take.\n",
    "        self.dice_values = [i for i  in range(1, 7)]\n",
    "        \n",
    "        # Roll the dice for the first time, by calling the roll method!\n",
    "        self.roll()\n",
    "        \n",
    "        \n",
    "    def roll(self):\n",
    "        # This method should change the attribute dice_value,\n",
    "        # to a random value chosen among the integers in the\n",
    "        # dice_values attribute.\n",
    "        # You may use the choice function from numpy.random,\n",
    "        # as demonstrated earlier.\n",
    "        self.dice_value = choice(self.dice_values)\n",
    "        \n",
    "        \n",
    "    def test_rolls(self, n):\n",
    "        # This method expects an integer value n (strictly positive)\n",
    "        # abd should return a list of the values taken by the dice\n",
    "        # after n successive rolls.\n",
    "        list_values = []\n",
    "        for _ in range(n):\n",
    "            self.roll()\n",
    "            list_values.append(self.dice_value)\n",
    "        return list_values\n",
    "    \n",
    "    \n",
    "    def balance_test(self):\n",
    "        n = 10000\n",
    "        list_values = self.test_rolls(n)\n",
    "        reference = 1/6*100\n",
    "        balance_results = {i:100*list_values.count(i)/n \\\n",
    "                           for i in self.dice_values}\n",
    "        return reference, balance_results"
   ]
  },
  {
   "cell_type": "code",
   "execution_count": 85,
   "id": "90ea9519",
   "metadata": {},
   "outputs": [
    {
     "name": "stdout",
     "output_type": "stream",
     "text": [
      "{'dice_value': 2, 'dice_values': [1, 2, 3, 4, 5, 6]}\n"
     ]
    }
   ],
   "source": [
    "# This should print {'dice_value': 2, 'dice_values': [1, 2, 3, 4, 5, 6]}\n",
    "dice = Dice()\n",
    "print(dice.__dict__)"
   ]
  },
  {
   "cell_type": "code",
   "execution_count": 78,
   "id": "6e9c8c09",
   "metadata": {},
   "outputs": [
    {
     "name": "stdout",
     "output_type": "stream",
     "text": [
      "5\n"
     ]
    }
   ],
   "source": [
    "# This should print 4\n",
    "seed(42)\n",
    "dice = Dice()\n",
    "dice.roll()\n",
    "print(dice.dice_value)"
   ]
  },
  {
   "cell_type": "code",
   "execution_count": 79,
   "id": "d5f4818a",
   "metadata": {},
   "outputs": [
    {
     "name": "stdout",
     "output_type": "stream",
     "text": [
      "1\n"
     ]
    }
   ],
   "source": [
    "# This should print 2\n",
    "seed(11)\n",
    "dice = Dice()\n",
    "dice.roll()\n",
    "print(dice.dice_value)"
   ]
  },
  {
   "cell_type": "code",
   "execution_count": 80,
   "id": "74ea84f2",
   "metadata": {},
   "outputs": [
    {
     "name": "stdout",
     "output_type": "stream",
     "text": [
      "5\n"
     ]
    }
   ],
   "source": [
    "# This should print 6\n",
    "seed(22)\n",
    "dice = Dice()\n",
    "dice.roll()\n",
    "print(dice.dice_value)"
   ]
  },
  {
   "cell_type": "code",
   "execution_count": 81,
   "id": "405186f2",
   "metadata": {},
   "outputs": [
    {
     "name": "stdout",
     "output_type": "stream",
     "text": [
      "[1, 2, 4, 6, 3, 1, 5, 3, 6, 2]\n"
     ]
    }
   ],
   "source": [
    "# This should print [1, 2, 4, 6, 3, 1, 5, 3, 6, 2]\n",
    "seed(26)\n",
    "dice = Dice()\n",
    "n = 10\n",
    "list_values = dice.test_rolls(n)\n",
    "print(list_values)"
   ]
  },
  {
   "cell_type": "code",
   "execution_count": 82,
   "id": "ae2ae44a",
   "metadata": {},
   "outputs": [
    {
     "name": "stdout",
     "output_type": "stream",
     "text": [
      "16.666666666666664 {1: 16.9, 2: 16.52, 3: 16.48, 4: 16.84, 5: 16.69, 6: 16.57}\n"
     ]
    }
   ],
   "source": [
    "# This should print 16.666666666666664 \n",
    "# and {1: 16.9, 2: 16.52, 3: 16.48, 4: 16.84, 5: 16.69, 6: 16.57}\n",
    "seed(9)\n",
    "dice = Dice()\n",
    "reference, balance_results = dice.balance_test()\n",
    "print(reference, balance_results)"
   ]
  },
  {
   "cell_type": "markdown",
   "id": "a08e35e5",
   "metadata": {},
   "source": [
    "### Part 2 - Creating a Hand object"
   ]
  },
  {
   "cell_type": "code",
   "execution_count": 499,
   "id": "a108daf6",
   "metadata": {},
   "outputs": [],
   "source": [
    "class Hand():\n",
    "    \n",
    "    def __init__(self):\n",
    "        # Create an attribute number_dice,\n",
    "        # corresponding to the number of dice that the hand contains.\n",
    "        # In our case, taht will be 5.\n",
    "        self.number_dice = 5\n",
    "        \n",
    "        # Create an attribute list_dice,\n",
    "        # which contains self.number_dice Dice() objects.\n",
    "        self.list_dice = [Dice() for _ in range(self.number_dice)]\n",
    "        \n",
    "        # Call the method get_rolls() to generate an attribute dice_values\n",
    "        # which will consist of list of the values obtained after rolling all\n",
    "        # the dice once.\n",
    "        self.get_rolls()\n",
    "        \n",
    "        # Define an attribute maximal_rolls set to 3\n",
    "        # And an attribute current_roll set to 1.\n",
    "        self.maximal_rolls = 3\n",
    "        self.current_roll = 1\n",
    "        \n",
    "    def get_rolls(self):\n",
    "        # This method simply initializes/updates an attribute dice_values,\n",
    "        # which contains the five dice_value attributes contained in \n",
    "        # each of the five Dice() objects in the list_dice attribute.\n",
    "        self.dice_values = [dice.dice_value for dice in self.list_dice]\n",
    "        \n",
    "    \n",
    "    def reroll_list(self, dice_reroll_list):\n",
    "        # This method will reroll the dice objects in self.list_dice\n",
    "        # For instance, if dice_reroll_list = [0, 2, 4], we will reroll the\n",
    "        # first, third and fifth dice in the list_dice attribute.\n",
    "        # The non-specified indexes will not be re-rolled.\n",
    "        # It should also increment the current_roll attribute by 1.\n",
    "        \n",
    "        for i in dice_reroll_list:\n",
    "            # Reroll dice with index i.\n",
    "            # Do so for each index value in dice_list.\n",
    "            self.list_dice[i].roll()\n",
    "            \n",
    "        # Update rolls values in dice_values by calling the get_rolls() method\n",
    "        self.get_rolls()\n",
    "        \n",
    "        # Increment roll\n",
    "        self.current_roll += 1\n",
    "        \n",
    "        \n",
    "    def get_dict(self):\n",
    "        # This method returns a dictionary whose keys will be the values of dices\n",
    "        # seen in the dice_values attribute, and the matching values of the keys\n",
    "        # will correspond to the number of times said value appears in dice_values.\n",
    "        values_dict = {}\n",
    "        for value in self.dice_values:\n",
    "            if value in values_dict.keys():\n",
    "                values_dict[value] += 1\n",
    "            else:\n",
    "                values_dict[value] = 1\n",
    "        return values_dict\n",
    "    \n",
    "    \n",
    "    def has_single_pair(self):\n",
    "        # This method should return True if the values in the\n",
    "        # dice_values attribute contains a single pair.\n",
    "        # This means that it returns True if dice_values = [1, 1, 3, 4, 5]\n",
    "        # And False, otherwise.\n",
    "        # Note that we expect a False if dice_values = [1, 1, 2, 2, 4] or\n",
    "        # [1, 1, 2, 2, 2] or [1, 1, 1, 2, 4] or [1, 2, 3, 4, 5].\n",
    "        # It should also return te value of the pair in question.\n",
    "        # In the case of [1, 1, 3, 4, 5], it should therefore return 1.\n",
    "        # If the boolean from before is False, it returns None instead.\n",
    "        values_dict = self.get_dict()\n",
    "        number_of_pairs = 0\n",
    "        number_of_triplets = 0\n",
    "        for value, freq in values_dict.items():\n",
    "            if freq == 2:\n",
    "                number_of_pairs += 1\n",
    "                pair_value = value\n",
    "            if freq == 3:\n",
    "                number_of_triplets += 1\n",
    "        decision = number_of_pairs == 1 and number_of_triplets == 0\n",
    "        pair_value = pair_value if decision else None \n",
    "        return decision, pair_value\n",
    "    \n",
    "    \n",
    "    def has_two_pairs(self):\n",
    "        # This method should return True if the values in the\n",
    "        # dice_values attribute contains exactly two pairs.\n",
    "        # This means that it returns True if dice_values = [1, 1, 3, 3, 5]\n",
    "        # And False, otherwise.\n",
    "        # Note that we expect a False if dice_values = [1, 1, 1, 1, 5] or\n",
    "        # [1, 1, 2, 2, 2] or [1, 1, 1, 1, 1] or [1, 2, 3, 4, 5].\n",
    "        # It should also return te values of the pairs in question in a list.\n",
    "        # In the case of [1, 1, 3, 3, 5], it should therefore return [1, 3].\n",
    "        # If the boolean from before is False, it returns None instead.\n",
    "        values_dict = self.get_dict()\n",
    "        number_of_pairs = 0\n",
    "        pair_values = []\n",
    "        for value, freq in values_dict.items():\n",
    "            if freq == 2:\n",
    "                number_of_pairs += 1\n",
    "                pair_values.append(value)\n",
    "        decision = number_of_pairs == 2\n",
    "        pair_values = pair_values if decision else None\n",
    "        return decision, pair_values\n",
    "    \n",
    "    def has_triplet(self):\n",
    "        # This method should return True if the values in the\n",
    "        # dice_values attribute contains exactly one triplet.\n",
    "        # This means that it returns True if dice_values = [1, 1, 1, 3, 5]\n",
    "        # And False, otherwise.\n",
    "        # Note that we expect a False if dice_values = [1, 1, 1, 1, 5] or\n",
    "        # [1, 1, 2, 2, 2] or [1, 1, 1, 1, 1] or [1, 2, 3, 4, 5].\n",
    "        values_dict = self.get_dict()\n",
    "        number_of_pairs = 0\n",
    "        number_of_triplets = 0\n",
    "        for value, freq in values_dict.items():\n",
    "            if freq == 2:\n",
    "                number_of_pairs += 1\n",
    "            if freq == 3:\n",
    "                number_of_triplets += 1\n",
    "                triplet_value = value\n",
    "        decision = number_of_pairs == 0 and number_of_triplets == 1\n",
    "        return decision\n",
    "    \n",
    "    \n",
    "    def has_quadruplet(self):\n",
    "        # This method should return True if the values in the\n",
    "        # dice_values attribute contains exactly one quadruplet.\n",
    "        # This means that it returns True if dice_values = [1, 1, 1, 1, 5]\n",
    "        # And False, otherwise.\n",
    "        # Note that we expect a False if dice_values = [1, 1, 1, 1, 1] or\n",
    "        # [1, 2, 3, 4, 5].\n",
    "        values_dict = self.get_dict()\n",
    "        number_of_quadruplets = 0\n",
    "        for value, freq in values_dict.items():\n",
    "            if freq == 4:\n",
    "                number_of_quadruplets += 1\n",
    "        decision = number_of_quadruplets == 1\n",
    "        return decision\n",
    "    \n",
    "    \n",
    "    def has_yahtzee(self):\n",
    "        # This method should return True if the values in the\n",
    "        # dice_values all have identical values\n",
    "        # This means that it returns True if dice_values = [1, 1, 1, 1, 1]\n",
    "        # And False, otherwise.\n",
    "        values_dict = self.get_dict()\n",
    "        number_of_yahtzee = 0\n",
    "        for value, freq in values_dict.items():\n",
    "            if freq == 5:\n",
    "                number_of_yahtzee += 1\n",
    "        decision = number_of_yahtzee == 1\n",
    "        return decision\n",
    "    \n",
    "    def has_full(self):\n",
    "        # This method should return True if the values in the\n",
    "        # dice_values attribute contains exactly a full house.\n",
    "        # That is, exactly one triplet and one pair\n",
    "        # This means that it returns True if dice_values = [1, 1, 1, 3, 3]\n",
    "        # And False, otherwise.\n",
    "        # Note that we expect a False if dice_values = [1, 1, 1, 1, 5]\n",
    "        # or [1, 1, 1, 1, 1] or [1, 2, 3, 4, 5].\n",
    "        values_dict = self.get_dict()\n",
    "        number_of_pairs = 0\n",
    "        number_of_triplets = 0\n",
    "        for value, freq in values_dict.items():\n",
    "            if freq == 2:\n",
    "                number_of_pairs += 1\n",
    "            if freq == 3:\n",
    "                number_of_triplets += 1\n",
    "        decision = number_of_pairs == 1 and number_of_triplets == 1\n",
    "        return decision\n",
    "    \n",
    "    def has_straight(self):\n",
    "        # This method should return True if the values in the\n",
    "        # dice_values attribute contains exactly a straight.\n",
    "        # That is [1, 2, 3, 4, 5] or [2, 3, 4, 5, 6].\n",
    "        # It returns False otherwise.\n",
    "        # Note that the dice list might not be ordered.\n",
    "        values = list(sorted(self.dice_values))\n",
    "        return values == [1, 2, 3, 4, 5] or values == [2, 3, 4, 5, 6]\n",
    "    \n",
    "    \n",
    "    def get_score(self):\n",
    "        \n",
    "        # Define a list of possible scores.\n",
    "        # We will append score calculations\n",
    "        # based on whether or not combinations appear.\n",
    "        # Later we will get the score for said hand,\n",
    "        # by looking for the maximal value among valid combinations.\n",
    "        possible_scores = []\n",
    "        \n",
    "        # Single pair\n",
    "        decision, value = self.has_single_pair()\n",
    "        if decision:\n",
    "            possible_scores.append(2*value)\n",
    "        \n",
    "        # Two pairs\n",
    "        decision, value = self.has_two_pairs()\n",
    "        if decision:\n",
    "            possible_scores.append(5 + 2*value[0] + 2*value[1])\n",
    "        \n",
    "        # Triplet\n",
    "        decision = self.has_triplet()\n",
    "        if decision:\n",
    "            possible_scores.append(10 + sum(self.dice_values))\n",
    "        \n",
    "        # Quadruplet\n",
    "        decision = self.has_quadruplet()\n",
    "        if decision:\n",
    "            possible_scores.append(40 + sum(self.dice_values))\n",
    "        \n",
    "        # Yahtzee\n",
    "        decision = self.has_yahtzee()\n",
    "        if decision:\n",
    "            possible_scores.append(50 + sum(self.dice_values))\n",
    "        \n",
    "        # Full\n",
    "        decision = self.has_full()\n",
    "        if decision:\n",
    "            possible_scores.append(30 + sum(self.dice_values))\n",
    "        \n",
    "        # Straight\n",
    "        decision = self.has_straight()\n",
    "        if decision:\n",
    "            possible_scores.append(40)\n",
    "        \n",
    "        # Nothing\n",
    "        possible_scores.append(0)\n",
    "        \n",
    "        # Find maximal score\n",
    "        score = max(possible_scores)\n",
    "        return score\n",
    "    \n",
    "    \n",
    "    def is_over(self):\n",
    "        # This method should return True if the current_roll\n",
    "        # is equal to the maximal_rolls, indicating the user has used\n",
    "        # all his/her chances of rerolling.\n",
    "        # It returns False otherwise\n",
    "        return self.current_roll == self.maximal_rolls "
   ]
  },
  {
   "cell_type": "code",
   "execution_count": 441,
   "id": "39334a70",
   "metadata": {},
   "outputs": [
    {
     "name": "stdout",
     "output_type": "stream",
     "text": [
      "{'number_dice': 5, 'list_dice': [<__main__.Dice object at 0x00000251D04327C0>, <__main__.Dice object at 0x00000251D04328E0>, <__main__.Dice object at 0x00000251D0432CD0>, <__main__.Dice object at 0x00000251D0432D90>, <__main__.Dice object at 0x00000251D0432460>], 'dice_values': [4, 1, 2, 1, 6], 'maximal_rolls': 3, 'current_roll': 1}\n"
     ]
    }
   ],
   "source": [
    "# This should print something along the lines of \n",
    "# {'number_dice': 5, \n",
    "# 'list_dice': [<__main__.Dice object at ...>,\n",
    "# <__main__.Dice object at ...>,\n",
    "# <__main__.Dice object at ...>,\n",
    "# <__main__.Dice object at ...>,\n",
    "# <__main__.Dice object at ...>],\n",
    "# 'dice_values': [4, 1, 2, 1, 6]}.\n",
    "# Note: we do not care too much about the address values in the list_dice attribute.\n",
    "seed(23)\n",
    "hand = Hand()\n",
    "print(hand.__dict__)"
   ]
  },
  {
   "cell_type": "code",
   "execution_count": 476,
   "id": "8c1446f9",
   "metadata": {},
   "outputs": [
    {
     "name": "stdout",
     "output_type": "stream",
     "text": [
      "[4, 1, 2, 1, 6]\n",
      "[5, 4, 3, 2, 4]\n",
      "2\n"
     ]
    }
   ],
   "source": [
    "# This should print [4, 1, 2, 1, 6]\n",
    "# [5, 4, 3, 2, 4] and 2.\n",
    "seed(23)\n",
    "hand = Hand()\n",
    "print(hand.dice_values)\n",
    "hand.reroll_list([0, 1, 2, 3, 4])\n",
    "print(hand.dice_values)\n",
    "print(hand.current_roll)"
   ]
  },
  {
   "cell_type": "code",
   "execution_count": 477,
   "id": "29850740",
   "metadata": {},
   "outputs": [
    {
     "name": "stdout",
     "output_type": "stream",
     "text": [
      "[2, 2, 1, 6, 5]\n",
      "[2, 2, 2, 1, 2]\n",
      "3\n"
     ]
    }
   ],
   "source": [
    "# This should print [2, 2, 1, 6, 5]\n",
    "# [2, 2, 2, 1, 2] and 3.\n",
    "seed(17)\n",
    "hand = Hand()\n",
    "print(hand.dice_values)\n",
    "hand.reroll_list([0, 2, 4])\n",
    "hand.reroll_list([0, 2, 3])\n",
    "print(hand.dice_values)\n",
    "print(hand.current_roll)"
   ]
  },
  {
   "cell_type": "code",
   "execution_count": 478,
   "id": "42c24b35",
   "metadata": {},
   "outputs": [
    {
     "name": "stdout",
     "output_type": "stream",
     "text": [
      "[2, 2, 1, 6, 5]\n",
      "{2: 2, 1: 1, 6: 1, 5: 1}\n"
     ]
    }
   ],
   "source": [
    "# This should print [2, 2, 1, 6, 5]\n",
    "# and {2: 2, 1: 1, 6: 1, 5: 1}.\n",
    "seed(17)\n",
    "hand = Hand()\n",
    "print(hand.dice_values)\n",
    "values_dict = hand.get_dict()\n",
    "print(values_dict)"
   ]
  },
  {
   "cell_type": "code",
   "execution_count": 445,
   "id": "a955b0b3",
   "metadata": {},
   "outputs": [
    {
     "name": "stdout",
     "output_type": "stream",
     "text": [
      "True 1\n"
     ]
    }
   ],
   "source": [
    "# This should print True and 1\n",
    "hand = Hand()\n",
    "hand.dice_values = [1, 1, 2, 3, 4]\n",
    "decision, pair_value = hand.has_single_pair()\n",
    "print(decision, pair_value)"
   ]
  },
  {
   "cell_type": "code",
   "execution_count": 446,
   "id": "bd3c3946",
   "metadata": {},
   "outputs": [
    {
     "name": "stdout",
     "output_type": "stream",
     "text": [
      "False None\n"
     ]
    }
   ],
   "source": [
    "# This should print False and None\n",
    "hand = Hand()\n",
    "hand.dice_values = [1, 1, 2, 2, 4]\n",
    "decision, pair_value = hand.has_single_pair()\n",
    "print(decision, pair_value)"
   ]
  },
  {
   "cell_type": "code",
   "execution_count": 447,
   "id": "d36c5939",
   "metadata": {},
   "outputs": [
    {
     "name": "stdout",
     "output_type": "stream",
     "text": [
      "False None\n"
     ]
    }
   ],
   "source": [
    "# This should print False and None\n",
    "hand = Hand()\n",
    "hand.dice_values = [1, 1, 2, 2, 2]\n",
    "decision, pair_value = hand.has_single_pair()\n",
    "print(decision, pair_value)"
   ]
  },
  {
   "cell_type": "code",
   "execution_count": 448,
   "id": "fea8b807",
   "metadata": {},
   "outputs": [
    {
     "name": "stdout",
     "output_type": "stream",
     "text": [
      "False None\n"
     ]
    }
   ],
   "source": [
    "# This should print False and None\n",
    "hand = Hand()\n",
    "hand.dice_values = [1, 2, 3, 5, 6]\n",
    "decision, pair_value = hand.has_single_pair()\n",
    "print(decision, pair_value)"
   ]
  },
  {
   "cell_type": "code",
   "execution_count": 449,
   "id": "931a2a57",
   "metadata": {},
   "outputs": [
    {
     "name": "stdout",
     "output_type": "stream",
     "text": [
      "True [1, 3]\n"
     ]
    }
   ],
   "source": [
    "# This should print True and [1, 3]\n",
    "hand = Hand()\n",
    "hand.dice_values = [1, 1, 3, 3, 4]\n",
    "decision, pair_value = hand.has_two_pairs()\n",
    "print(decision, pair_value)"
   ]
  },
  {
   "cell_type": "code",
   "execution_count": 450,
   "id": "3d8d2b63",
   "metadata": {},
   "outputs": [
    {
     "name": "stdout",
     "output_type": "stream",
     "text": [
      "False None\n"
     ]
    }
   ],
   "source": [
    "# This should print False and None\n",
    "hand = Hand()\n",
    "hand.dice_values = [1, 1, 3, 3, 3]\n",
    "decision, pair_value = hand.has_two_pairs()\n",
    "print(decision, pair_value)"
   ]
  },
  {
   "cell_type": "code",
   "execution_count": 451,
   "id": "7f3dd72b",
   "metadata": {},
   "outputs": [
    {
     "name": "stdout",
     "output_type": "stream",
     "text": [
      "False None\n"
     ]
    }
   ],
   "source": [
    "# This should print False and None\n",
    "hand = Hand()\n",
    "hand.dice_values = [1, 1, 1, 1, 5]\n",
    "decision, pair_value = hand.has_two_pairs()\n",
    "print(decision, pair_value)"
   ]
  },
  {
   "cell_type": "code",
   "execution_count": 452,
   "id": "bf490a33",
   "metadata": {},
   "outputs": [
    {
     "name": "stdout",
     "output_type": "stream",
     "text": [
      "False None\n"
     ]
    }
   ],
   "source": [
    "# This should print False and None\n",
    "hand = Hand()\n",
    "hand.dice_values = [1, 1, 1, 1, 1]\n",
    "decision, pair_value = hand.has_two_pairs()\n",
    "print(decision, pair_value)"
   ]
  },
  {
   "cell_type": "code",
   "execution_count": 453,
   "id": "9d73ca0d",
   "metadata": {},
   "outputs": [
    {
     "name": "stdout",
     "output_type": "stream",
     "text": [
      "False None\n"
     ]
    }
   ],
   "source": [
    "# This should print False and None\n",
    "hand = Hand()\n",
    "hand.dice_values = [1, 2, 4, 5, 6]\n",
    "decision, pair_value = hand.has_two_pairs()\n",
    "print(decision, pair_value)"
   ]
  },
  {
   "cell_type": "code",
   "execution_count": 454,
   "id": "9ebfc082",
   "metadata": {},
   "outputs": [
    {
     "name": "stdout",
     "output_type": "stream",
     "text": [
      "True\n"
     ]
    }
   ],
   "source": [
    "# This should print True\n",
    "hand = Hand()\n",
    "hand.dice_values = [2, 2, 2, 5, 6]\n",
    "decision = hand.has_triplet()\n",
    "print(decision)"
   ]
  },
  {
   "cell_type": "code",
   "execution_count": 455,
   "id": "b62cfd9c",
   "metadata": {},
   "outputs": [
    {
     "name": "stdout",
     "output_type": "stream",
     "text": [
      "False\n"
     ]
    }
   ],
   "source": [
    "# This should print False\n",
    "hand = Hand()\n",
    "hand.dice_values = [1, 1, 1, 2, 2]\n",
    "decision = hand.has_triplet()\n",
    "print(decision)"
   ]
  },
  {
   "cell_type": "code",
   "execution_count": 456,
   "id": "2233bfa5",
   "metadata": {},
   "outputs": [
    {
     "name": "stdout",
     "output_type": "stream",
     "text": [
      "False\n"
     ]
    }
   ],
   "source": [
    "# This should print False\n",
    "hand = Hand()\n",
    "hand.dice_values = [1, 1, 1, 1, 2]\n",
    "decision = hand.has_triplet()\n",
    "print(decision)"
   ]
  },
  {
   "cell_type": "code",
   "execution_count": 457,
   "id": "c08c9d21",
   "metadata": {},
   "outputs": [
    {
     "name": "stdout",
     "output_type": "stream",
     "text": [
      "False\n"
     ]
    }
   ],
   "source": [
    "# This should print False\n",
    "hand = Hand()\n",
    "hand.dice_values = [1, 1, 1, 1, 1]\n",
    "decision = hand.has_triplet()\n",
    "print(decision)"
   ]
  },
  {
   "cell_type": "code",
   "execution_count": 458,
   "id": "6767a892",
   "metadata": {},
   "outputs": [
    {
     "name": "stdout",
     "output_type": "stream",
     "text": [
      "False\n"
     ]
    }
   ],
   "source": [
    "# This should print False\n",
    "hand = Hand()\n",
    "hand.dice_values = [1, 2, 4, 4, 5]\n",
    "decision = hand.has_triplet()\n",
    "print(decision)"
   ]
  },
  {
   "cell_type": "code",
   "execution_count": 459,
   "id": "e558ce0d",
   "metadata": {},
   "outputs": [
    {
     "name": "stdout",
     "output_type": "stream",
     "text": [
      "True\n"
     ]
    }
   ],
   "source": [
    "# This should print True\n",
    "hand = Hand()\n",
    "hand.dice_values = [3, 3, 3, 3, 5]\n",
    "decision = hand.has_quadruplet()\n",
    "print(decision)"
   ]
  },
  {
   "cell_type": "code",
   "execution_count": 460,
   "id": "b44b9fa0",
   "metadata": {},
   "outputs": [
    {
     "name": "stdout",
     "output_type": "stream",
     "text": [
      "False\n"
     ]
    }
   ],
   "source": [
    "# This should print False\n",
    "hand = Hand()\n",
    "hand.dice_values = [1, 2, 4, 4, 5]\n",
    "decision = hand.has_quadruplet()\n",
    "print(decision)"
   ]
  },
  {
   "cell_type": "code",
   "execution_count": 461,
   "id": "e2967f06",
   "metadata": {},
   "outputs": [
    {
     "name": "stdout",
     "output_type": "stream",
     "text": [
      "False\n"
     ]
    }
   ],
   "source": [
    "# This should print False\n",
    "hand = Hand()\n",
    "hand.dice_values = [5, 5, 5, 5, 5]\n",
    "decision = hand.has_quadruplet()\n",
    "print(decision)"
   ]
  },
  {
   "cell_type": "code",
   "execution_count": 462,
   "id": "50c31eb3",
   "metadata": {},
   "outputs": [
    {
     "name": "stdout",
     "output_type": "stream",
     "text": [
      "True\n"
     ]
    }
   ],
   "source": [
    "# This should print True\n",
    "hand = Hand()\n",
    "hand.dice_values = [5, 5, 5, 5, 5]\n",
    "decision = hand.has_yahtzee()\n",
    "print(decision)"
   ]
  },
  {
   "cell_type": "code",
   "execution_count": 463,
   "id": "402916c2",
   "metadata": {},
   "outputs": [
    {
     "name": "stdout",
     "output_type": "stream",
     "text": [
      "False\n"
     ]
    }
   ],
   "source": [
    "# This should print False\n",
    "hand = Hand()\n",
    "hand.dice_values = [5, 5, 5, 5, 6]\n",
    "decision = hand.has_yahtzee()\n",
    "print(decision)"
   ]
  },
  {
   "cell_type": "code",
   "execution_count": 464,
   "id": "e6f98447",
   "metadata": {},
   "outputs": [
    {
     "name": "stdout",
     "output_type": "stream",
     "text": [
      "True\n"
     ]
    }
   ],
   "source": [
    "# This should print True\n",
    "hand = Hand()\n",
    "hand.dice_values = [5, 5, 5, 6, 6]\n",
    "decision = hand.has_full()\n",
    "print(decision)"
   ]
  },
  {
   "cell_type": "code",
   "execution_count": 465,
   "id": "6bcf8217",
   "metadata": {},
   "outputs": [
    {
     "name": "stdout",
     "output_type": "stream",
     "text": [
      "False\n"
     ]
    }
   ],
   "source": [
    "# This should print False\n",
    "hand = Hand()\n",
    "hand.dice_values = [5, 5, 5, 5, 6]\n",
    "decision = hand.has_full()\n",
    "print(decision)"
   ]
  },
  {
   "cell_type": "code",
   "execution_count": 466,
   "id": "b1a3e1b1",
   "metadata": {},
   "outputs": [
    {
     "name": "stdout",
     "output_type": "stream",
     "text": [
      "False\n"
     ]
    }
   ],
   "source": [
    "# This should print False\n",
    "hand = Hand()\n",
    "hand.dice_values = [5, 5, 5, 5, 5]\n",
    "decision = hand.has_full()\n",
    "print(decision)"
   ]
  },
  {
   "cell_type": "code",
   "execution_count": 467,
   "id": "cccffa29",
   "metadata": {},
   "outputs": [
    {
     "name": "stdout",
     "output_type": "stream",
     "text": [
      "False\n"
     ]
    }
   ],
   "source": [
    "# This should print False and None\n",
    "hand = Hand()\n",
    "hand.dice_values = [5, 4, 3, 2, 5]\n",
    "decision = hand.has_full()\n",
    "print(decision)"
   ]
  },
  {
   "cell_type": "code",
   "execution_count": 468,
   "id": "5389dae5",
   "metadata": {},
   "outputs": [
    {
     "name": "stdout",
     "output_type": "stream",
     "text": [
      "True\n"
     ]
    }
   ],
   "source": [
    "# This should print True\n",
    "hand = Hand()\n",
    "hand.dice_values = [5, 4, 3, 1, 2]\n",
    "decision = hand.has_straight()\n",
    "print(decision)"
   ]
  },
  {
   "cell_type": "code",
   "execution_count": 469,
   "id": "45ea4c98",
   "metadata": {},
   "outputs": [
    {
     "name": "stdout",
     "output_type": "stream",
     "text": [
      "True\n"
     ]
    }
   ],
   "source": [
    "# This should print True\n",
    "hand = Hand()\n",
    "hand.dice_values = [5, 4, 3, 2, 6]\n",
    "decision = hand.has_straight()\n",
    "print(decision)"
   ]
  },
  {
   "cell_type": "code",
   "execution_count": 470,
   "id": "6ba90db2",
   "metadata": {},
   "outputs": [
    {
     "name": "stdout",
     "output_type": "stream",
     "text": [
      "False\n"
     ]
    }
   ],
   "source": [
    "# This should print False\n",
    "hand = Hand()\n",
    "hand.dice_values = [5, 4, 3, 2, 5]\n",
    "decision = hand.has_straight()\n",
    "print(decision)"
   ]
  },
  {
   "cell_type": "code",
   "execution_count": 471,
   "id": "30fef2b4",
   "metadata": {},
   "outputs": [
    {
     "name": "stdout",
     "output_type": "stream",
     "text": [
      "10\n"
     ]
    }
   ],
   "source": [
    "# This should print 10\n",
    "hand = Hand()\n",
    "hand.dice_values = [5, 4, 3, 2, 5]\n",
    "score = hand.get_score()\n",
    "print(score)"
   ]
  },
  {
   "cell_type": "code",
   "execution_count": 472,
   "id": "d4146012",
   "metadata": {},
   "outputs": [
    {
     "name": "stdout",
     "output_type": "stream",
     "text": [
      "40\n"
     ]
    }
   ],
   "source": [
    "# This should print 40\n",
    "hand = Hand()\n",
    "hand.dice_values = [5, 4, 3, 2, 6]\n",
    "score = hand.get_score()\n",
    "print(score)"
   ]
  },
  {
   "cell_type": "code",
   "execution_count": 429,
   "id": "70bd4f97",
   "metadata": {},
   "outputs": [
    {
     "name": "stdout",
     "output_type": "stream",
     "text": [
      "55\n"
     ]
    }
   ],
   "source": [
    "# This should print 55\n",
    "hand = Hand()\n",
    "hand.dice_values = [1, 1, 1, 1, 1]\n",
    "score = hand.get_score()\n",
    "print(score)"
   ]
  },
  {
   "cell_type": "code",
   "execution_count": 431,
   "id": "317948be",
   "metadata": {},
   "outputs": [
    {
     "name": "stdout",
     "output_type": "stream",
     "text": [
      "17\n"
     ]
    }
   ],
   "source": [
    "# This should print 17\n",
    "hand = Hand()\n",
    "hand.dice_values = [1, 1, 3, 5, 5]\n",
    "score = hand.get_score()\n",
    "print(score)"
   ]
  },
  {
   "cell_type": "code",
   "execution_count": 433,
   "id": "7ba11528",
   "metadata": {},
   "outputs": [
    {
     "name": "stdout",
     "output_type": "stream",
     "text": [
      "43\n"
     ]
    }
   ],
   "source": [
    "# This should print 43\n",
    "hand = Hand()\n",
    "hand.dice_values = [1, 1, 1, 5, 5]\n",
    "score = hand.get_score()\n",
    "print(score)"
   ]
  },
  {
   "cell_type": "code",
   "execution_count": 435,
   "id": "b6686797",
   "metadata": {},
   "outputs": [
    {
     "name": "stdout",
     "output_type": "stream",
     "text": [
      "21\n"
     ]
    }
   ],
   "source": [
    "# This should print 21\n",
    "hand = Hand()\n",
    "hand.dice_values = [1, 1, 3, 1, 5]\n",
    "score = hand.get_score()\n",
    "print(score)"
   ]
  },
  {
   "cell_type": "code",
   "execution_count": 437,
   "id": "aa3edf73",
   "metadata": {},
   "outputs": [
    {
     "name": "stdout",
     "output_type": "stream",
     "text": [
      "47\n"
     ]
    }
   ],
   "source": [
    "# This should print 47\n",
    "hand = Hand()\n",
    "hand.dice_values = [1, 1, 3, 1, 1]\n",
    "score = hand.get_score()\n",
    "print(score)"
   ]
  },
  {
   "cell_type": "code",
   "execution_count": 439,
   "id": "de584c51",
   "metadata": {},
   "outputs": [
    {
     "name": "stdout",
     "output_type": "stream",
     "text": [
      "0\n"
     ]
    }
   ],
   "source": [
    "# This should print 0\n",
    "hand = Hand()\n",
    "hand.dice_values = [1, 2, 3, 5, 6]\n",
    "score = hand.get_score()\n",
    "print(score)"
   ]
  },
  {
   "cell_type": "code",
   "execution_count": 502,
   "id": "d6c08e2e",
   "metadata": {},
   "outputs": [
    {
     "name": "stdout",
     "output_type": "stream",
     "text": [
      "False\n"
     ]
    }
   ],
   "source": [
    "# This should print False\n",
    "hand = Hand()\n",
    "decision = hand.is_over()\n",
    "print(decision)"
   ]
  },
  {
   "cell_type": "code",
   "execution_count": 503,
   "id": "10bd1372",
   "metadata": {},
   "outputs": [
    {
     "name": "stdout",
     "output_type": "stream",
     "text": [
      "False\n"
     ]
    }
   ],
   "source": [
    "# This should print False\n",
    "hand = Hand()\n",
    "hand.current_roll = 2\n",
    "decision = hand.is_over()\n",
    "print(decision)"
   ]
  },
  {
   "cell_type": "code",
   "execution_count": 504,
   "id": "a81d630a",
   "metadata": {},
   "outputs": [
    {
     "name": "stdout",
     "output_type": "stream",
     "text": [
      "True\n"
     ]
    }
   ],
   "source": [
    "# This should print True\n",
    "hand = Hand()\n",
    "hand.current_roll = 3\n",
    "decision = hand.is_over()\n",
    "print(decision)"
   ]
  },
  {
   "cell_type": "markdown",
   "id": "5d37f98a",
   "metadata": {},
   "source": [
    "### Part 3 - Creating a Turn object"
   ]
  },
  {
   "cell_type": "code",
   "execution_count": 576,
   "id": "63aa7a6c",
   "metadata": {},
   "outputs": [],
   "source": [
    "class Turn():\n",
    "    \n",
    "    def __init__(self):\n",
    "        \n",
    "        # Create a Hand object and assign it to an atribute hand.\n",
    "        self.hand = Hand()\n",
    "        \n",
    "        # Create an attribute end_turn, set to False for now.\n",
    "        self.end_turn = False\n",
    "        \n",
    "    \n",
    "    def display_hand(self):\n",
    "        print(\"Hand: \", self.hand.dice_values)\n",
    "        \n",
    "    \n",
    "    def get_reroll_list(self):\n",
    "        \n",
    "        # Write a function, which asks the user for which dice it wants to reroll,\n",
    "        # in the form of an input().\n",
    "        # It produces a list dice_reroll_list as a result.\n",
    "        # Input\n",
    "        self.display_hand()\n",
    "        message = \"Write the dice indexes you wish to reroll, separate with commas.\"\n",
    "        message += \"\\nFor instance 0, 1, 3.\\n\"\n",
    "        message = \"If you wish to stop and not reroll, enter nothing in this input.\\n\"\n",
    "        user_input = input(message)\n",
    "        if user_input == \"\":\n",
    "            # If no input, return empty list.\n",
    "            return []\n",
    "        else:\n",
    "            # Otherwise, separate entries with split and create list.\n",
    "            user_input = user_input.split(\",\")\n",
    "            dice_reroll_list = []\n",
    "            for entry in user_input:\n",
    "                dice_reroll_list.append(int(entry.strip()))\n",
    "            return dice_reroll_list\n",
    "        \n",
    "        \n",
    "    def go_for_reroll(self):\n",
    "        \n",
    "        # Ask user for reroll list, with the get_reroll_list method.\n",
    "        dice_reroll_list = self.get_reroll_list()\n",
    "        \n",
    "        # If reroll list is empty, stop and set attribute end_turn to True.\n",
    "        if dice_reroll_list == []:\n",
    "            self.end_turn = True\n",
    "        else:\n",
    "            # Otherwise, reroll and then update the end_turn attribute by checking\n",
    "            # if the user has exhausted all its attempts with the is_over method\n",
    "            # from the Hand() object in the attribute.\n",
    "            self.hand.reroll_list(dice_reroll_list)\n",
    "            self.end_turn = self.hand.is_over()\n",
    "            \n",
    "            \n",
    "    def get_score(self):\n",
    "        # Reuse the get_score() method from the hand attribute\n",
    "        # to get score at the end of turn\n",
    "        self.display_hand()\n",
    "        return self.hand.get_score()\n",
    "    \n",
    "    \n",
    "    def play_turn(self):\n",
    "        \n",
    "        # While the user wants to play, keep on asking for rerolls\n",
    "        while(not self.end_turn):\n",
    "            self.go_for_reroll()\n",
    "        \n",
    "        # After we are done, get the score of the turn, display and return\n",
    "        score = self.get_score()\n",
    "        print(\"You scored {} points on this turn\".format(score))\n",
    "        return score"
   ]
  },
  {
   "cell_type": "code",
   "execution_count": 577,
   "id": "bec212a8",
   "metadata": {},
   "outputs": [
    {
     "name": "stdout",
     "output_type": "stream",
     "text": [
      "{'hand': <__main__.Hand object at 0x00000251D12813D0>, 'end_turn': False}\n"
     ]
    }
   ],
   "source": [
    "# This should print {'hand': <__main__.Hand object at ...>,\n",
    "# 'end_turn': False}\n",
    "turn = Turn()\n",
    "print(turn.__dict__)"
   ]
  },
  {
   "cell_type": "code",
   "execution_count": 578,
   "id": "88783928",
   "metadata": {},
   "outputs": [
    {
     "name": "stdout",
     "output_type": "stream",
     "text": [
      "Hand:  [3, 4, 1, 6, 2]\n"
     ]
    }
   ],
   "source": [
    "# This should print Hand:  [3, 4, 1, 6, 2]\n",
    "seed(18)\n",
    "turn = Turn()\n",
    "turn.display_hand()"
   ]
  },
  {
   "cell_type": "code",
   "execution_count": 579,
   "id": "bb0378dd",
   "metadata": {},
   "outputs": [
    {
     "name": "stdout",
     "output_type": "stream",
     "text": [
      "Hand:  [3, 3, 1, 1, 3]\n",
      "If you wish to stop and not reroll, enter nothing in this input.\n",
      "\n",
      "[]\n"
     ]
    }
   ],
   "source": [
    "# Test your function manually and check it produces the expected lists\n",
    "turn = Turn()\n",
    "dice_reroll_list = turn.get_reroll_list()\n",
    "print(dice_reroll_list)"
   ]
  },
  {
   "cell_type": "code",
   "execution_count": 580,
   "id": "5612965c",
   "metadata": {},
   "outputs": [
    {
     "name": "stdout",
     "output_type": "stream",
     "text": [
      "Hand:  [6, 5, 5, 1, 5]\n",
      "If you wish to stop and not reroll, enter nothing in this input.\n",
      "\n",
      "[6, 5, 5, 1, 5]\n"
     ]
    }
   ],
   "source": [
    "# This should (probably?) print\n",
    "'''\n",
    "Current hand:  [6, 5, 5, 1, 5]\n",
    "If you wish to stop and not reroll, enter nothing in this input.\n",
    "0, 3\n",
    "[4, 5, 5, 5, 5]\n",
    "'''\n",
    "# if you type 0, 3 in the input() prompt.\n",
    "seed(22)\n",
    "turn = Turn()\n",
    "turn.go_for_reroll()\n",
    "print(turn.hand.dice_values)"
   ]
  },
  {
   "cell_type": "code",
   "execution_count": 581,
   "id": "34a11bea",
   "metadata": {},
   "outputs": [
    {
     "name": "stdout",
     "output_type": "stream",
     "text": [
      "Hand:  [6, 5, 5, 1, 5]\n",
      "32\n"
     ]
    }
   ],
   "source": [
    "# This should print 32\n",
    "seed(22)\n",
    "turn = Turn()\n",
    "score = turn.get_score()\n",
    "print(score)"
   ]
  },
  {
   "cell_type": "code",
   "execution_count": 582,
   "id": "ffb7a3d8",
   "metadata": {},
   "outputs": [
    {
     "name": "stdout",
     "output_type": "stream",
     "text": [
      "Hand:  [6, 5, 5, 1, 5]\n"
     ]
    },
    {
     "ename": "KeyboardInterrupt",
     "evalue": "Interrupted by user",
     "output_type": "error",
     "traceback": [
      "\u001b[1;31m---------------------------------------------------------------------------\u001b[0m",
      "\u001b[1;31mKeyboardInterrupt\u001b[0m                         Traceback (most recent call last)",
      "\u001b[1;32m<ipython-input-582-39bdbdef8b86>\u001b[0m in \u001b[0;36m<module>\u001b[1;34m\u001b[0m\n\u001b[0;32m     13\u001b[0m \u001b[0mseed\u001b[0m\u001b[1;33m(\u001b[0m\u001b[1;36m22\u001b[0m\u001b[1;33m)\u001b[0m\u001b[1;33m\u001b[0m\u001b[1;33m\u001b[0m\u001b[0m\n\u001b[0;32m     14\u001b[0m \u001b[0mturn\u001b[0m \u001b[1;33m=\u001b[0m \u001b[0mTurn\u001b[0m\u001b[1;33m(\u001b[0m\u001b[1;33m)\u001b[0m\u001b[1;33m\u001b[0m\u001b[1;33m\u001b[0m\u001b[0m\n\u001b[1;32m---> 15\u001b[1;33m \u001b[0mscore\u001b[0m \u001b[1;33m=\u001b[0m \u001b[0mturn\u001b[0m\u001b[1;33m.\u001b[0m\u001b[0mplay_turn\u001b[0m\u001b[1;33m(\u001b[0m\u001b[1;33m)\u001b[0m\u001b[1;33m\u001b[0m\u001b[1;33m\u001b[0m\u001b[0m\n\u001b[0m\u001b[0;32m     16\u001b[0m \u001b[0mprint\u001b[0m\u001b[1;33m(\u001b[0m\u001b[0mscore\u001b[0m\u001b[1;33m)\u001b[0m\u001b[1;33m\u001b[0m\u001b[1;33m\u001b[0m\u001b[0m\n",
      "\u001b[1;32m<ipython-input-576-e5d1c9badd49>\u001b[0m in \u001b[0;36mplay_turn\u001b[1;34m(self)\u001b[0m\n\u001b[0;32m     64\u001b[0m         \u001b[1;31m# While the user wants to play, keep on asking for rerolls\u001b[0m\u001b[1;33m\u001b[0m\u001b[1;33m\u001b[0m\u001b[1;33m\u001b[0m\u001b[0m\n\u001b[0;32m     65\u001b[0m         \u001b[1;32mwhile\u001b[0m\u001b[1;33m(\u001b[0m\u001b[1;32mnot\u001b[0m \u001b[0mself\u001b[0m\u001b[1;33m.\u001b[0m\u001b[0mend_turn\u001b[0m\u001b[1;33m)\u001b[0m\u001b[1;33m:\u001b[0m\u001b[1;33m\u001b[0m\u001b[1;33m\u001b[0m\u001b[0m\n\u001b[1;32m---> 66\u001b[1;33m             \u001b[0mself\u001b[0m\u001b[1;33m.\u001b[0m\u001b[0mgo_for_reroll\u001b[0m\u001b[1;33m(\u001b[0m\u001b[1;33m)\u001b[0m\u001b[1;33m\u001b[0m\u001b[1;33m\u001b[0m\u001b[0m\n\u001b[0m\u001b[0;32m     67\u001b[0m \u001b[1;33m\u001b[0m\u001b[0m\n\u001b[0;32m     68\u001b[0m         \u001b[1;31m# After we are done, get the score of the turn, display and return\u001b[0m\u001b[1;33m\u001b[0m\u001b[1;33m\u001b[0m\u001b[1;33m\u001b[0m\u001b[0m\n",
      "\u001b[1;32m<ipython-input-576-e5d1c9badd49>\u001b[0m in \u001b[0;36mgo_for_reroll\u001b[1;34m(self)\u001b[0m\n\u001b[0;32m     40\u001b[0m \u001b[1;33m\u001b[0m\u001b[0m\n\u001b[0;32m     41\u001b[0m         \u001b[1;31m# Ask user for reroll list, with the get_reroll_list method.\u001b[0m\u001b[1;33m\u001b[0m\u001b[1;33m\u001b[0m\u001b[1;33m\u001b[0m\u001b[0m\n\u001b[1;32m---> 42\u001b[1;33m         \u001b[0mdice_reroll_list\u001b[0m \u001b[1;33m=\u001b[0m \u001b[0mself\u001b[0m\u001b[1;33m.\u001b[0m\u001b[0mget_reroll_list\u001b[0m\u001b[1;33m(\u001b[0m\u001b[1;33m)\u001b[0m\u001b[1;33m\u001b[0m\u001b[1;33m\u001b[0m\u001b[0m\n\u001b[0m\u001b[0;32m     43\u001b[0m \u001b[1;33m\u001b[0m\u001b[0m\n\u001b[0;32m     44\u001b[0m         \u001b[1;31m# If reroll list is empty, stop and set attribute end_turn to True.\u001b[0m\u001b[1;33m\u001b[0m\u001b[1;33m\u001b[0m\u001b[1;33m\u001b[0m\u001b[0m\n",
      "\u001b[1;32m<ipython-input-576-e5d1c9badd49>\u001b[0m in \u001b[0;36mget_reroll_list\u001b[1;34m(self)\u001b[0m\n\u001b[0;32m     24\u001b[0m         \u001b[0mmessage\u001b[0m \u001b[1;33m+=\u001b[0m \u001b[1;34m\"\\nFor instance 0, 1, 3.\\n\"\u001b[0m\u001b[1;33m\u001b[0m\u001b[1;33m\u001b[0m\u001b[0m\n\u001b[0;32m     25\u001b[0m         \u001b[0mmessage\u001b[0m \u001b[1;33m=\u001b[0m \u001b[1;34m\"If you wish to stop and not reroll, enter nothing in this input.\\n\"\u001b[0m\u001b[1;33m\u001b[0m\u001b[1;33m\u001b[0m\u001b[0m\n\u001b[1;32m---> 26\u001b[1;33m         \u001b[0muser_input\u001b[0m \u001b[1;33m=\u001b[0m \u001b[0minput\u001b[0m\u001b[1;33m(\u001b[0m\u001b[0mmessage\u001b[0m\u001b[1;33m)\u001b[0m\u001b[1;33m\u001b[0m\u001b[1;33m\u001b[0m\u001b[0m\n\u001b[0m\u001b[0;32m     27\u001b[0m         \u001b[1;32mif\u001b[0m \u001b[0muser_input\u001b[0m \u001b[1;33m==\u001b[0m \u001b[1;34m\"\"\u001b[0m\u001b[1;33m:\u001b[0m\u001b[1;33m\u001b[0m\u001b[1;33m\u001b[0m\u001b[0m\n\u001b[0;32m     28\u001b[0m             \u001b[1;31m# If no input, return empty list.\u001b[0m\u001b[1;33m\u001b[0m\u001b[1;33m\u001b[0m\u001b[1;33m\u001b[0m\u001b[0m\n",
      "\u001b[1;32m~\\AppData\\Local\\Programs\\Python\\Python39\\lib\\site-packages\\ipykernel\\kernelbase.py\u001b[0m in \u001b[0;36mraw_input\u001b[1;34m(self, prompt)\u001b[0m\n\u001b[0;32m    846\u001b[0m                 \u001b[1;34m\"raw_input was called, but this frontend does not support input requests.\"\u001b[0m\u001b[1;33m\u001b[0m\u001b[1;33m\u001b[0m\u001b[0m\n\u001b[0;32m    847\u001b[0m             )\n\u001b[1;32m--> 848\u001b[1;33m         return self._input_request(str(prompt),\n\u001b[0m\u001b[0;32m    849\u001b[0m             \u001b[0mself\u001b[0m\u001b[1;33m.\u001b[0m\u001b[0m_parent_ident\u001b[0m\u001b[1;33m,\u001b[0m\u001b[1;33m\u001b[0m\u001b[1;33m\u001b[0m\u001b[0m\n\u001b[0;32m    850\u001b[0m             \u001b[0mself\u001b[0m\u001b[1;33m.\u001b[0m\u001b[0m_parent_header\u001b[0m\u001b[1;33m,\u001b[0m\u001b[1;33m\u001b[0m\u001b[1;33m\u001b[0m\u001b[0m\n",
      "\u001b[1;32m~\\AppData\\Local\\Programs\\Python\\Python39\\lib\\site-packages\\ipykernel\\kernelbase.py\u001b[0m in \u001b[0;36m_input_request\u001b[1;34m(self, prompt, ident, parent, password)\u001b[0m\n\u001b[0;32m    890\u001b[0m             \u001b[1;32mexcept\u001b[0m \u001b[0mKeyboardInterrupt\u001b[0m\u001b[1;33m:\u001b[0m\u001b[1;33m\u001b[0m\u001b[1;33m\u001b[0m\u001b[0m\n\u001b[0;32m    891\u001b[0m                 \u001b[1;31m# re-raise KeyboardInterrupt, to truncate traceback\u001b[0m\u001b[1;33m\u001b[0m\u001b[1;33m\u001b[0m\u001b[1;33m\u001b[0m\u001b[0m\n\u001b[1;32m--> 892\u001b[1;33m                 \u001b[1;32mraise\u001b[0m \u001b[0mKeyboardInterrupt\u001b[0m\u001b[1;33m(\u001b[0m\u001b[1;34m\"Interrupted by user\"\u001b[0m\u001b[1;33m)\u001b[0m \u001b[1;32mfrom\u001b[0m \u001b[1;32mNone\u001b[0m\u001b[1;33m\u001b[0m\u001b[1;33m\u001b[0m\u001b[0m\n\u001b[0m\u001b[0;32m    893\u001b[0m             \u001b[1;32mexcept\u001b[0m \u001b[0mException\u001b[0m \u001b[1;32mas\u001b[0m \u001b[0me\u001b[0m\u001b[1;33m:\u001b[0m\u001b[1;33m\u001b[0m\u001b[1;33m\u001b[0m\u001b[0m\n\u001b[0;32m    894\u001b[0m                 \u001b[0mself\u001b[0m\u001b[1;33m.\u001b[0m\u001b[0mlog\u001b[0m\u001b[1;33m.\u001b[0m\u001b[0mwarning\u001b[0m\u001b[1;33m(\u001b[0m\u001b[1;34m\"Invalid Message:\"\u001b[0m\u001b[1;33m,\u001b[0m \u001b[0mexc_info\u001b[0m\u001b[1;33m=\u001b[0m\u001b[1;32mTrue\u001b[0m\u001b[1;33m)\u001b[0m\u001b[1;33m\u001b[0m\u001b[1;33m\u001b[0m\u001b[0m\n",
      "\u001b[1;31mKeyboardInterrupt\u001b[0m: Interrupted by user"
     ]
    }
   ],
   "source": [
    "# This should (probably?) print\n",
    "'''\n",
    "Hand:  [6, 5, 5, 1, 5]\n",
    "If you wish to stop and not reroll, enter nothing in this input.\n",
    "0, 3\n",
    "Hand:  [4, 5, 5, 5, 5]\n",
    "If you wish to stop and not reroll, enter nothing in this input.\n",
    "0\n",
    "Hand:  [1, 5, 5, 5, 5]\n",
    "61\n",
    "'''\n",
    "# If you type 0, 3 in the first input() prompt and 0 in the second one.\n",
    "seed(22)\n",
    "turn = Turn()\n",
    "score = turn.play_turn()\n",
    "print(score)"
   ]
  },
  {
   "cell_type": "markdown",
   "id": "2ac31bcf",
   "metadata": {},
   "source": [
    "### Part 4 - Creating a Player object"
   ]
  },
  {
   "cell_type": "code",
   "execution_count": 586,
   "id": "12e53f18",
   "metadata": {},
   "outputs": [],
   "source": [
    "class Player():\n",
    "    \n",
    "    def __init__(self, max_turns):\n",
    "        \n",
    "        # Create an attribute current_turn, with value 0 for now\n",
    "        self.current_turn = 0\n",
    "        \n",
    "        # Create an attribute max_turns, using the value passed to init\n",
    "        self.max_turns = max_turns\n",
    "        \n",
    "        # Create an attribute list_scores, which starts as an empty list.\n",
    "        self.list_scores = []\n",
    "        \n",
    "        # Create an attribute total_score, which starts as 0.\n",
    "        self.total_score = 0\n",
    "        \n",
    "        # Create an attribute player_done, set to False for now.\n",
    "        self.player_done = False\n",
    "        \n",
    "        \n",
    "    def play_turns(self):\n",
    "        \n",
    "        #While the player is not done, keep on playing turns\n",
    "        while(not self.player_done):\n",
    "            # Increment turn counter in current_turn attribute\n",
    "            self.current_turn += 1\n",
    "            \n",
    "            # Display separator for turns\n",
    "            print(\"---------------------------------\")\n",
    "            print(\"TURN: \", self.current_turn)\n",
    "            \n",
    "            # Create a turn object\n",
    "            turn = Turn()\n",
    "            \n",
    "            # Play the turn and get score at the end of the turn\n",
    "            score = turn.play_turn()\n",
    "            \n",
    "            # Add score of turn to the list_scores for the player\n",
    "            self.list_scores.append(score)\n",
    "            \n",
    "            # Check if player has completed all turns\n",
    "            # and update player_done attribute\n",
    "            self.player_done = self.current_turn == self.max_turns\n",
    "            \n",
    "        # After player is done sum score in list_scores\n",
    "        # and update total_score attribute.\n",
    "        self.total_score = sum(self.list_scores)\n",
    "        \n",
    "        # Final display\n",
    "        print(\"---------------------------------\\n\")\n",
    "        print(\"--- End of game ---\")\n",
    "        print(\"You scored {} points!\".format(self.total_score))\n",
    "        print(\"---------------------------------\")"
   ]
  },
  {
   "cell_type": "code",
   "execution_count": 587,
   "id": "bf2a4ee6",
   "metadata": {},
   "outputs": [
    {
     "name": "stdout",
     "output_type": "stream",
     "text": [
      "{'current_turn': 0, 'max_turns': 3, 'list_scores': [], 'total_score': 0, 'player_done': False}\n"
     ]
    }
   ],
   "source": [
    "# This should print {'current_turn': 0, 'max_turns': 3, 'list_scores': [],\n",
    "# 'total_score': 0, 'player_done': False}\n",
    "max_turns = 3\n",
    "player = Player(max_turns)\n",
    "print(player.__dict__)"
   ]
  },
  {
   "cell_type": "code",
   "execution_count": null,
   "id": "d03c07b8",
   "metadata": {},
   "outputs": [],
   "source": [
    "# Try playing three turns!\n",
    "max_turns = 3\n",
    "player = Player(max_turns)\n",
    "player.play_turns()"
   ]
  },
  {
   "cell_type": "markdown",
   "id": "1e081596",
   "metadata": {},
   "source": [
    "### Part 5 - Main"
   ]
  },
  {
   "cell_type": "code",
   "execution_count": 591,
   "id": "643f1c86",
   "metadata": {},
   "outputs": [],
   "source": [
    "def main():\n",
    "    print(\"Welcome to our game of Yahtzee!\")\n",
    "    print(\"(This is a beta and might be unstable!)\")\n",
    "    max_turns = 3\n",
    "    player = Player(max_turns)\n",
    "    player.play_turns()"
   ]
  },
  {
   "cell_type": "code",
   "execution_count": 592,
   "id": "b798b715",
   "metadata": {},
   "outputs": [
    {
     "name": "stdout",
     "output_type": "stream",
     "text": [
      "Welcome to our game of Yahtzee!\n",
      "(This is a beta and might be unstable!)\n",
      "---------------------------------\n",
      "TURN:  1\n",
      "Hand:  [4, 4, 5, 5, 1]\n"
     ]
    },
    {
     "ename": "KeyboardInterrupt",
     "evalue": "Interrupted by user",
     "output_type": "error",
     "traceback": [
      "\u001b[1;31m---------------------------------------------------------------------------\u001b[0m",
      "\u001b[1;31mKeyboardInterrupt\u001b[0m                         Traceback (most recent call last)",
      "\u001b[1;32m<ipython-input-592-263240bbee7e>\u001b[0m in \u001b[0;36m<module>\u001b[1;34m\u001b[0m\n\u001b[1;32m----> 1\u001b[1;33m \u001b[0mmain\u001b[0m\u001b[1;33m(\u001b[0m\u001b[1;33m)\u001b[0m\u001b[1;33m\u001b[0m\u001b[1;33m\u001b[0m\u001b[0m\n\u001b[0m",
      "\u001b[1;32m<ipython-input-591-babac4bfbafd>\u001b[0m in \u001b[0;36mmain\u001b[1;34m()\u001b[0m\n\u001b[0;32m      4\u001b[0m     \u001b[0mmax_turns\u001b[0m \u001b[1;33m=\u001b[0m \u001b[1;36m3\u001b[0m\u001b[1;33m\u001b[0m\u001b[1;33m\u001b[0m\u001b[0m\n\u001b[0;32m      5\u001b[0m     \u001b[0mplayer\u001b[0m \u001b[1;33m=\u001b[0m \u001b[0mPlayer\u001b[0m\u001b[1;33m(\u001b[0m\u001b[0mmax_turns\u001b[0m\u001b[1;33m)\u001b[0m\u001b[1;33m\u001b[0m\u001b[1;33m\u001b[0m\u001b[0m\n\u001b[1;32m----> 6\u001b[1;33m     \u001b[0mplayer\u001b[0m\u001b[1;33m.\u001b[0m\u001b[0mplay_turns\u001b[0m\u001b[1;33m(\u001b[0m\u001b[1;33m)\u001b[0m\u001b[1;33m\u001b[0m\u001b[1;33m\u001b[0m\u001b[0m\n\u001b[0m",
      "\u001b[1;32m<ipython-input-586-16caa18c2127>\u001b[0m in \u001b[0;36mplay_turns\u001b[1;34m(self)\u001b[0m\n\u001b[0;32m     34\u001b[0m \u001b[1;33m\u001b[0m\u001b[0m\n\u001b[0;32m     35\u001b[0m             \u001b[1;31m# Play the turn and get score at the end of the turn\u001b[0m\u001b[1;33m\u001b[0m\u001b[1;33m\u001b[0m\u001b[1;33m\u001b[0m\u001b[0m\n\u001b[1;32m---> 36\u001b[1;33m             \u001b[0mscore\u001b[0m \u001b[1;33m=\u001b[0m \u001b[0mturn\u001b[0m\u001b[1;33m.\u001b[0m\u001b[0mplay_turn\u001b[0m\u001b[1;33m(\u001b[0m\u001b[1;33m)\u001b[0m\u001b[1;33m\u001b[0m\u001b[1;33m\u001b[0m\u001b[0m\n\u001b[0m\u001b[0;32m     37\u001b[0m \u001b[1;33m\u001b[0m\u001b[0m\n\u001b[0;32m     38\u001b[0m             \u001b[1;31m# Add score of turn to the list_scores for the player\u001b[0m\u001b[1;33m\u001b[0m\u001b[1;33m\u001b[0m\u001b[1;33m\u001b[0m\u001b[0m\n",
      "\u001b[1;32m<ipython-input-576-e5d1c9badd49>\u001b[0m in \u001b[0;36mplay_turn\u001b[1;34m(self)\u001b[0m\n\u001b[0;32m     64\u001b[0m         \u001b[1;31m# While the user wants to play, keep on asking for rerolls\u001b[0m\u001b[1;33m\u001b[0m\u001b[1;33m\u001b[0m\u001b[1;33m\u001b[0m\u001b[0m\n\u001b[0;32m     65\u001b[0m         \u001b[1;32mwhile\u001b[0m\u001b[1;33m(\u001b[0m\u001b[1;32mnot\u001b[0m \u001b[0mself\u001b[0m\u001b[1;33m.\u001b[0m\u001b[0mend_turn\u001b[0m\u001b[1;33m)\u001b[0m\u001b[1;33m:\u001b[0m\u001b[1;33m\u001b[0m\u001b[1;33m\u001b[0m\u001b[0m\n\u001b[1;32m---> 66\u001b[1;33m             \u001b[0mself\u001b[0m\u001b[1;33m.\u001b[0m\u001b[0mgo_for_reroll\u001b[0m\u001b[1;33m(\u001b[0m\u001b[1;33m)\u001b[0m\u001b[1;33m\u001b[0m\u001b[1;33m\u001b[0m\u001b[0m\n\u001b[0m\u001b[0;32m     67\u001b[0m \u001b[1;33m\u001b[0m\u001b[0m\n\u001b[0;32m     68\u001b[0m         \u001b[1;31m# After we are done, get the score of the turn, display and return\u001b[0m\u001b[1;33m\u001b[0m\u001b[1;33m\u001b[0m\u001b[1;33m\u001b[0m\u001b[0m\n",
      "\u001b[1;32m<ipython-input-576-e5d1c9badd49>\u001b[0m in \u001b[0;36mgo_for_reroll\u001b[1;34m(self)\u001b[0m\n\u001b[0;32m     40\u001b[0m \u001b[1;33m\u001b[0m\u001b[0m\n\u001b[0;32m     41\u001b[0m         \u001b[1;31m# Ask user for reroll list, with the get_reroll_list method.\u001b[0m\u001b[1;33m\u001b[0m\u001b[1;33m\u001b[0m\u001b[1;33m\u001b[0m\u001b[0m\n\u001b[1;32m---> 42\u001b[1;33m         \u001b[0mdice_reroll_list\u001b[0m \u001b[1;33m=\u001b[0m \u001b[0mself\u001b[0m\u001b[1;33m.\u001b[0m\u001b[0mget_reroll_list\u001b[0m\u001b[1;33m(\u001b[0m\u001b[1;33m)\u001b[0m\u001b[1;33m\u001b[0m\u001b[1;33m\u001b[0m\u001b[0m\n\u001b[0m\u001b[0;32m     43\u001b[0m \u001b[1;33m\u001b[0m\u001b[0m\n\u001b[0;32m     44\u001b[0m         \u001b[1;31m# If reroll list is empty, stop and set attribute end_turn to True.\u001b[0m\u001b[1;33m\u001b[0m\u001b[1;33m\u001b[0m\u001b[1;33m\u001b[0m\u001b[0m\n",
      "\u001b[1;32m<ipython-input-576-e5d1c9badd49>\u001b[0m in \u001b[0;36mget_reroll_list\u001b[1;34m(self)\u001b[0m\n\u001b[0;32m     24\u001b[0m         \u001b[0mmessage\u001b[0m \u001b[1;33m+=\u001b[0m \u001b[1;34m\"\\nFor instance 0, 1, 3.\\n\"\u001b[0m\u001b[1;33m\u001b[0m\u001b[1;33m\u001b[0m\u001b[0m\n\u001b[0;32m     25\u001b[0m         \u001b[0mmessage\u001b[0m \u001b[1;33m=\u001b[0m \u001b[1;34m\"If you wish to stop and not reroll, enter nothing in this input.\\n\"\u001b[0m\u001b[1;33m\u001b[0m\u001b[1;33m\u001b[0m\u001b[0m\n\u001b[1;32m---> 26\u001b[1;33m         \u001b[0muser_input\u001b[0m \u001b[1;33m=\u001b[0m \u001b[0minput\u001b[0m\u001b[1;33m(\u001b[0m\u001b[0mmessage\u001b[0m\u001b[1;33m)\u001b[0m\u001b[1;33m\u001b[0m\u001b[1;33m\u001b[0m\u001b[0m\n\u001b[0m\u001b[0;32m     27\u001b[0m         \u001b[1;32mif\u001b[0m \u001b[0muser_input\u001b[0m \u001b[1;33m==\u001b[0m \u001b[1;34m\"\"\u001b[0m\u001b[1;33m:\u001b[0m\u001b[1;33m\u001b[0m\u001b[1;33m\u001b[0m\u001b[0m\n\u001b[0;32m     28\u001b[0m             \u001b[1;31m# If no input, return empty list.\u001b[0m\u001b[1;33m\u001b[0m\u001b[1;33m\u001b[0m\u001b[1;33m\u001b[0m\u001b[0m\n",
      "\u001b[1;32m~\\AppData\\Local\\Programs\\Python\\Python39\\lib\\site-packages\\ipykernel\\kernelbase.py\u001b[0m in \u001b[0;36mraw_input\u001b[1;34m(self, prompt)\u001b[0m\n\u001b[0;32m    846\u001b[0m                 \u001b[1;34m\"raw_input was called, but this frontend does not support input requests.\"\u001b[0m\u001b[1;33m\u001b[0m\u001b[1;33m\u001b[0m\u001b[0m\n\u001b[0;32m    847\u001b[0m             )\n\u001b[1;32m--> 848\u001b[1;33m         return self._input_request(str(prompt),\n\u001b[0m\u001b[0;32m    849\u001b[0m             \u001b[0mself\u001b[0m\u001b[1;33m.\u001b[0m\u001b[0m_parent_ident\u001b[0m\u001b[1;33m,\u001b[0m\u001b[1;33m\u001b[0m\u001b[1;33m\u001b[0m\u001b[0m\n\u001b[0;32m    850\u001b[0m             \u001b[0mself\u001b[0m\u001b[1;33m.\u001b[0m\u001b[0m_parent_header\u001b[0m\u001b[1;33m,\u001b[0m\u001b[1;33m\u001b[0m\u001b[1;33m\u001b[0m\u001b[0m\n",
      "\u001b[1;32m~\\AppData\\Local\\Programs\\Python\\Python39\\lib\\site-packages\\ipykernel\\kernelbase.py\u001b[0m in \u001b[0;36m_input_request\u001b[1;34m(self, prompt, ident, parent, password)\u001b[0m\n\u001b[0;32m    890\u001b[0m             \u001b[1;32mexcept\u001b[0m \u001b[0mKeyboardInterrupt\u001b[0m\u001b[1;33m:\u001b[0m\u001b[1;33m\u001b[0m\u001b[1;33m\u001b[0m\u001b[0m\n\u001b[0;32m    891\u001b[0m                 \u001b[1;31m# re-raise KeyboardInterrupt, to truncate traceback\u001b[0m\u001b[1;33m\u001b[0m\u001b[1;33m\u001b[0m\u001b[1;33m\u001b[0m\u001b[0m\n\u001b[1;32m--> 892\u001b[1;33m                 \u001b[1;32mraise\u001b[0m \u001b[0mKeyboardInterrupt\u001b[0m\u001b[1;33m(\u001b[0m\u001b[1;34m\"Interrupted by user\"\u001b[0m\u001b[1;33m)\u001b[0m \u001b[1;32mfrom\u001b[0m \u001b[1;32mNone\u001b[0m\u001b[1;33m\u001b[0m\u001b[1;33m\u001b[0m\u001b[0m\n\u001b[0m\u001b[0;32m    893\u001b[0m             \u001b[1;32mexcept\u001b[0m \u001b[0mException\u001b[0m \u001b[1;32mas\u001b[0m \u001b[0me\u001b[0m\u001b[1;33m:\u001b[0m\u001b[1;33m\u001b[0m\u001b[1;33m\u001b[0m\u001b[0m\n\u001b[0;32m    894\u001b[0m                 \u001b[0mself\u001b[0m\u001b[1;33m.\u001b[0m\u001b[0mlog\u001b[0m\u001b[1;33m.\u001b[0m\u001b[0mwarning\u001b[0m\u001b[1;33m(\u001b[0m\u001b[1;34m\"Invalid Message:\"\u001b[0m\u001b[1;33m,\u001b[0m \u001b[0mexc_info\u001b[0m\u001b[1;33m=\u001b[0m\u001b[1;32mTrue\u001b[0m\u001b[1;33m)\u001b[0m\u001b[1;33m\u001b[0m\u001b[1;33m\u001b[0m\u001b[0m\n",
      "\u001b[1;31mKeyboardInterrupt\u001b[0m: Interrupted by user"
     ]
    }
   ],
   "source": [
    "main()"
   ]
  },
  {
   "cell_type": "markdown",
   "id": "6e15e687",
   "metadata": {},
   "source": [
    "### Extras features for the game (if you are looking for a challenge!)\n",
    "\n",
    "Done early, looking for additional challenges?\n",
    "\n",
    "**1. Add a feature, which keeps on asking the user for a re-roll input, until something valid is entered.**\n",
    "\n",
    "This should prevent the game from crashing if user enters nonsense in the input() prompts. \n",
    "\n",
    "Difficulty = not difficult, but might be time consuming to cover for all mistakes\n",
    "\n",
    "**2. Implement a more advanced scoring system than the current one.**\n",
    "\n",
    "Look at https://en.wikipedia.org/wiki/Yahtzee for ideas.\n",
    "\n",
    "Difficulty = not necessarily difficult, but might be time consuming to cover for the 63pts-rule.\n",
    "\n",
    "**3. Make the game a multiplayer one with two players instead of one (both players alternate turns).**\n",
    "\n",
    "Difficulty = ok-ish, we just need to rework the main function and have a list of players than we alternate with.\n",
    "\n",
    "We cannot however use the play_turns() function of the Player class anymore as we do not want one player to take all its turns at once, but want to alternate between players instead.\n",
    "\n",
    "This might require some rework on the Player class.\n",
    "\n",
    "**4. Make a fancier display than the current prints, so the game becomes a bit more enjoyable (How about some ASCII art for Dices in the display_hand method of the Turn object?)**\n",
    "\n",
    "Difficulty = depends on how crazy you want your display to look!"
   ]
  },
  {
   "cell_type": "code",
   "execution_count": null,
   "id": "a6f21144",
   "metadata": {},
   "outputs": [],
   "source": []
  }
 ],
 "metadata": {
  "kernelspec": {
   "display_name": "Python 3",
   "language": "python",
   "name": "python3"
  },
  "language_info": {
   "codemirror_mode": {
    "name": "ipython",
    "version": 3
   },
   "file_extension": ".py",
   "mimetype": "text/x-python",
   "name": "python",
   "nbconvert_exporter": "python",
   "pygments_lexer": "ipython3",
   "version": "3.9.6"
  }
 },
 "nbformat": 4,
 "nbformat_minor": 5
}
