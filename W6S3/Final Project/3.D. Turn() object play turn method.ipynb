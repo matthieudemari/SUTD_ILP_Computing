{
 "cells": [
  {
   "cell_type": "markdown",
   "id": "705d8d13",
   "metadata": {},
   "source": [
    "# 3.D. Turn() object play turn method\n",
    "\n",
    "In this notebook, we will proceed with the design of our Turn() object, which represents the turn a player can take in the game.\n",
    "\n",
    "We will reuse the Dice() and Hand objects from previous notebooks and import it from the dice.py and hand.py files, using the command below. We will also be importing some needed functions from numpy.\n",
    "\n",
    "Note: you may use your own version of the Dice() class if you want, just make sure it passed the test cases in the 1.X. notebooks. Same thing for the Hand() object."
   ]
  },
  {
   "cell_type": "code",
   "execution_count": 2,
   "id": "f6e47e3c",
   "metadata": {},
   "outputs": [],
   "source": [
    "from numpy.random import choice, seed\n",
    "from dice import Dice\n",
    "from hand import Hand"
   ]
  },
  {
   "cell_type": "markdown",
   "id": "a08e35e5",
   "metadata": {},
   "source": [
    "### Task\n",
    "\n",
    "Our final job on this Turn object is to write a play_turn() method, which will:\n",
    "- Keep on asking for rerolls, while the user wants to keep on rolling, using the go_for_reroll method from earlier,\n",
    "- It will stop asking for rerolls once the end_turn attribute swaps to True, when the user enters an empty prompt or has exhausted both rerolls attempts (which happens automatically, thanks to our other methods!)\n",
    "- It then returns the score for said turn by reusing the get_score() method from earlier!"
   ]
  },
  {
   "cell_type": "code",
   "execution_count": 3,
   "id": "86a8d47f",
   "metadata": {},
   "outputs": [],
   "source": [
    "class Turn():\n",
    "    \n",
    "    def __init__(self):\n",
    "        \n",
    "        # Create a Hand object and assign it to an atribute hand.\n",
    "        self.hand = Hand()\n",
    "        \n",
    "        # Create an attribute end_turn, set to False for now.\n",
    "        self.end_turn = False\n",
    "        \n",
    "    \n",
    "    def display_hand(self):\n",
    "        print(\"Hand: \", self.hand.dice_values)\n",
    "        \n",
    "    \n",
    "    def get_reroll_list(self):\n",
    "        \n",
    "        # Write a function, which asks the user for which dice it wants to reroll,\n",
    "        # in the form of an input().\n",
    "        # It produces a list dice_reroll_list as a result.\n",
    "        # Input\n",
    "        self.display_hand()\n",
    "        message = \"Write the dice indexes you wish to reroll, separate with commas.\"\n",
    "        message += \"\\nFor instance 0, 1, 3.\\n\"\n",
    "        message = \"If you wish to stop and not reroll, enter nothing in this input.\\n\"\n",
    "        user_input = input(message)\n",
    "        if user_input == \"\":\n",
    "            # If no input, return empty list.\n",
    "            return []\n",
    "        else:\n",
    "            # Otherwise, separate entries with split and create list.\n",
    "            user_input = user_input.split(\",\")\n",
    "            dice_reroll_list = []\n",
    "            for entry in user_input:\n",
    "                dice_reroll_list.append(int(entry.strip()))\n",
    "            return dice_reroll_list\n",
    "        \n",
    "        \n",
    "    def go_for_reroll(self):\n",
    "        \n",
    "        # Ask user for reroll list, with the get_reroll_list method.\n",
    "        dice_reroll_list = self.get_reroll_list()\n",
    "        \n",
    "        # If reroll list is empty, stop and set attribute end_turn to True.\n",
    "        if dice_reroll_list == []:\n",
    "            self.end_turn = True\n",
    "        else:\n",
    "            # Otherwise, reroll and then update the end_turn attribute by checking\n",
    "            # if the user has exhausted all its attempts with the is_over method\n",
    "            # from the Hand() object in the attribute.\n",
    "            self.hand.reroll_list(dice_reroll_list)\n",
    "            self.end_turn = self.hand.is_over()\n",
    "            \n",
    "            \n",
    "    def get_score(self):\n",
    "        # Reuse the get_score() method from the hand attribute\n",
    "        # to get score at the end of turn\n",
    "        self.display_hand()\n",
    "        return self.hand.get_score()\n",
    "    \n",
    "    \n",
    "    def play_turn(self):\n",
    "        \n",
    "        # While the user wants to play, keep on asking for rerolls\n",
    "        pass\n",
    "        # After we are done, get the score of the turn, display and return\n",
    "        score = None\n",
    "        return score"
   ]
  },
  {
   "cell_type": "markdown",
   "id": "57e2ac26",
   "metadata": {},
   "source": [
    "### Test cases\n",
    "\n",
    "The following test cases should pass."
   ]
  },
  {
   "cell_type": "code",
   "execution_count": 4,
   "id": "d6c08e2e",
   "metadata": {},
   "outputs": [
    {
     "name": "stdout",
     "output_type": "stream",
     "text": [
      "Hand:  [6, 5, 5, 1, 5]\n",
      "If you wish to stop and not reroll, enter nothing in this input.\n",
      "0, 3\n",
      "Hand:  [4, 5, 5, 5, 5]\n",
      "If you wish to stop and not reroll, enter nothing in this input.\n",
      "0\n",
      "Hand:  [1, 5, 5, 5, 5]\n",
      "You scored 61 points on this turn\n",
      "61\n"
     ]
    }
   ],
   "source": [
    "# This should (probably?) print\n",
    "'''\n",
    "Hand:  [6, 5, 5, 1, 5]\n",
    "If you wish to stop and not reroll, enter nothing in this input.\n",
    "0, 3\n",
    "Hand:  [4, 5, 5, 5, 5]\n",
    "If you wish to stop and not reroll, enter nothing in this input.\n",
    "0\n",
    "Hand:  [1, 5, 5, 5, 5]\n",
    "61\n",
    "'''\n",
    "# If you type 0, 3 in the first input() prompt and 0 in the second one.\n",
    "seed(22)\n",
    "turn = Turn()\n",
    "score = turn.play_turn()\n",
    "print(score)"
   ]
  },
  {
   "cell_type": "code",
   "execution_count": null,
   "id": "a6f21144",
   "metadata": {},
   "outputs": [],
   "source": []
  }
 ],
 "metadata": {
  "kernelspec": {
   "display_name": "Python 3",
   "language": "python",
   "name": "python3"
  },
  "language_info": {
   "codemirror_mode": {
    "name": "ipython",
    "version": 3
   },
   "file_extension": ".py",
   "mimetype": "text/x-python",
   "name": "python",
   "nbconvert_exporter": "python",
   "pygments_lexer": "ipython3",
   "version": "3.9.6"
  }
 },
 "nbformat": 4,
 "nbformat_minor": 5
}
