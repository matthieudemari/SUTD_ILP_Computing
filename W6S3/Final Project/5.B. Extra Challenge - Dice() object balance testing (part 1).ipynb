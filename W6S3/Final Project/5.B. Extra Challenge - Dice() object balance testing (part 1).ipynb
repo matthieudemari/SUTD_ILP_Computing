{
 "cells": [
  {
   "cell_type": "markdown",
   "id": "df858484",
   "metadata": {},
   "source": [
    "# 5.B. Extra Challenge - Dice() object balance testing (part 1)\n",
    "\n",
    "In this notebook, we will continue with the design of our Dice() object, and write a testing method, to ensure the randomness is balanced.\n",
    "\n",
    "Let us start by importing functions from numpy."
   ]
  },
  {
   "cell_type": "code",
   "execution_count": 3,
   "id": "47c4aa23",
   "metadata": {},
   "outputs": [],
   "source": [
    "from numpy.random import choice, seed"
   ]
  },
  {
   "cell_type": "markdown",
   "id": "83848457",
   "metadata": {},
   "source": [
    "### Task\n",
    "\n",
    "Write a test_rolls() method for our Dice() object.\n",
    "\n",
    "It should:\n",
    "- expect an integer n as a parameter. The value n corresponds to the number of times the Dice() object will be re-rolled.\n",
    "- return a list of values, list_values, of length n, with the values of all n rerolls listed in it.\n",
    "\n",
    "Note: remember that the roll() method returns nothing, it just updates the dice_value attribute with a new value when called!"
   ]
  },
  {
   "cell_type": "code",
   "execution_count": 16,
   "id": "08b1753c",
   "metadata": {},
   "outputs": [],
   "source": [
    "class Dice():\n",
    "    \n",
    "    def __init__(self):\n",
    "        # Create an attribute dice_value,\n",
    "        # which will contain an integer between 1 and 6.\n",
    "        # This will correspond to the face value,\n",
    "        # obtained on the last roll of the dice.\n",
    "        # At the beginning, initialize it as 1.\n",
    "        self.dice_value = 1\n",
    "        \n",
    "        # Create an attribute dice_values,\n",
    "        # which will contain a list will all the integers between 1 and 6.\n",
    "        # This will correspond to the face values,\n",
    "        # that the dice can take.\n",
    "        self.dice_values = [i for i  in range(1, 7)]\n",
    "        \n",
    "        # Roll the dice for the first time, by calling the roll method!\n",
    "        self.roll()\n",
    "        \n",
    "        \n",
    "    def roll(self):\n",
    "        # This method should change the attribute dice_value,\n",
    "        # to a random value chosen among the integers in the\n",
    "        # dice_values attribute.\n",
    "        # You may use the choice function from numpy.random,\n",
    "        # as demonstrated earlier.\n",
    "        self.dice_value = choice(self.dice_values)\n",
    "        \n",
    "        \n",
    "    def test_rolls(self, n):\n",
    "        # This method expects an integer value n (strictly positive)\n",
    "        # and should return a list of the values taken by the dice\n",
    "        # after n successive rolls.\n",
    "        pass"
   ]
  },
  {
   "cell_type": "markdown",
   "id": "2d88a306",
   "metadata": {},
   "source": [
    "### Test cases\n",
    "\n",
    "The following test cases should pass."
   ]
  },
  {
   "cell_type": "code",
   "execution_count": 17,
   "id": "405186f2",
   "metadata": {},
   "outputs": [
    {
     "name": "stdout",
     "output_type": "stream",
     "text": [
      "[1, 2, 4, 6, 3, 1, 5, 3, 6, 2]\n"
     ]
    }
   ],
   "source": [
    "# This should print [1, 2, 4, 6, 3, 1, 5, 3, 6, 2]\n",
    "seed(26)\n",
    "dice = Dice()\n",
    "n = 10\n",
    "list_values = dice.test_rolls(n)\n",
    "print(list_values)"
   ]
  },
  {
   "cell_type": "code",
   "execution_count": null,
   "id": "a6f21144",
   "metadata": {},
   "outputs": [],
   "source": []
  }
 ],
 "metadata": {
  "kernelspec": {
   "display_name": "Python 3",
   "language": "python",
   "name": "python3"
  },
  "language_info": {
   "codemirror_mode": {
    "name": "ipython",
    "version": 3
   },
   "file_extension": ".py",
   "mimetype": "text/x-python",
   "name": "python",
   "nbconvert_exporter": "python",
   "pygments_lexer": "ipython3",
   "version": "3.9.6"
  }
 },
 "nbformat": 4,
 "nbformat_minor": 5
}
