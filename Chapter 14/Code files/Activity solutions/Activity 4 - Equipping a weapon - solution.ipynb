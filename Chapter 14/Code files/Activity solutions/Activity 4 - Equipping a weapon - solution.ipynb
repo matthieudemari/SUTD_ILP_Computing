{
 "cells": [
  {
   "cell_type": "markdown",
   "metadata": {},
   "source": [
    "# Activity 4 - Equipping a weapon - solution\n",
    "\n",
    "Let us consider the hero defined below as an object, with its own dictionary.\n",
    "\n",
    "Note how no attack points and equipped weapon have yet been defined."
   ]
  },
  {
   "cell_type": "code",
   "execution_count": 1,
   "metadata": {},
   "outputs": [],
   "source": [
    "hero_dict = {'str_pts': 10, 'equipped_weapon': None, 'atk_pts': None}"
   ]
  },
  {
   "cell_type": "markdown",
   "metadata": {},
   "source": [
    "We can also define weapons objects, as dictionaries as well.\n",
    "\n",
    "Below we have defined two weapon objects: a sword and a bow."
   ]
  },
  {
   "cell_type": "code",
   "execution_count": 2,
   "metadata": {},
   "outputs": [],
   "source": [
    "sword = {\"weapon_name\": \"Sword of Blazing Justice\", \\\n",
    "         \"weapon_atk\": 10}"
   ]
  },
  {
   "cell_type": "code",
   "execution_count": 3,
   "metadata": {},
   "outputs": [],
   "source": [
    "bow = {\"weapon_name\": \"Bow of Impeccable Accuracy\", \\\n",
    "       \"weapon_atk\": 8}"
   ]
  },
  {
   "cell_type": "markdown",
   "metadata": {},
   "source": [
    "Write a function **equip_weapon()**, which receives two dictionaries:\n",
    "- The first one is a hero dictionary,\n",
    "- The second one is a weapon dictionary (either the sword or bow).\n",
    "\n",
    "It will return the hero dictionary, whose keys, 'equipped_weapon' and 'atk_pts', have been updated.\n",
    "- The value assigned to the 'equipped_weapon' of the hero dictionary, will be the dictionary corresponding to the equipped weapon.\n",
    "- The value assigned to the 'atk_pts' of the hero dictionary, will consist of the hero strength points (in 'str_pts'), plus the weapon attack points (in the weapon dictionary, key 'weapon_atk').\n",
    "\n",
    "**Note:** in practice, this OOP consist defines a **'has-a' relationship**, because one of the attributes of the hero object is a weapon object."
   ]
  },
  {
   "cell_type": "code",
   "execution_count": 5,
   "metadata": {},
   "outputs": [],
   "source": [
    "def equip_weapon(hero_dict, weapon_dict):\n",
    "    \n",
    "    # Right now the function does nothing and returns the hero_dict, unmodified.\n",
    "    # Change it!\n",
    "    \n",
    "    if weapon_dict == None:\n",
    "        hero_dict['equipped_weapon'] = None\n",
    "        hero_dict['atk_pts'] = None\n",
    "    else:\n",
    "        hero_dict['equipped_weapon'] = weapon_dict\n",
    "        hero_dict['atk_pts'] = hero_dict['str_pts'] + weapon_dict['weapon_atk']\n",
    "    return hero_dict"
   ]
  },
  {
   "cell_type": "markdown",
   "metadata": {},
   "source": [
    "### Expected results"
   ]
  },
  {
   "cell_type": "code",
   "execution_count": 6,
   "metadata": {},
   "outputs": [
    {
     "name": "stdout",
     "output_type": "stream",
     "text": [
      "{'str_pts': 10, 'equipped_weapon': {'weapon_name': 'Sword of Blazing Justice', 'weapon_atk': 10}, 'atk_pts': 20}\n"
     ]
    }
   ],
   "source": [
    "hero_dict = equip_weapon(hero_dict, weapon_dict = sword)\n",
    "# This should print \n",
    "# {'str_pts': 10, \\\n",
    "# 'equipped_weapon': {'weapon_name': 'Sword of Blazing Justice', 'weapon_atk': 10}, \\\n",
    "# 'atk_pts': 20}\n",
    "print(hero_dict)"
   ]
  },
  {
   "cell_type": "code",
   "execution_count": 7,
   "metadata": {},
   "outputs": [
    {
     "name": "stdout",
     "output_type": "stream",
     "text": [
      "{'str_pts': 10, 'equipped_weapon': {'weapon_name': 'Bow of Impeccable Accuracy', 'weapon_atk': 8}, 'atk_pts': 18}\n"
     ]
    }
   ],
   "source": [
    "hero_dict = equip_weapon(hero_dict, weapon_dict = bow)\n",
    "# This should print \n",
    "# {'str_pts': 10, \\\n",
    "# 'equipped_weapon': {'weapon_name': 'Bow of Impeccable Accuracy', 'weapon_atk': 8}, \\\n",
    "# 'atk_pts': 18}\n",
    "print(hero_dict)"
   ]
  },
  {
   "cell_type": "code",
   "execution_count": 8,
   "metadata": {},
   "outputs": [
    {
     "name": "stdout",
     "output_type": "stream",
     "text": [
      "{'str_pts': 10, 'equipped_weapon': None, 'atk_pts': None}\n"
     ]
    }
   ],
   "source": [
    "hero_dict = equip_weapon(hero_dict, weapon_dict = None)\n",
    "# This should print \n",
    "# {'str_pts': 10, \\\n",
    "# 'equipped_weapon': None, \\\n",
    "# 'atk_pts': None}\n",
    "print(hero_dict)"
   ]
  }
 ],
 "metadata": {
  "kernelspec": {
   "display_name": "Python 3 (ipykernel)",
   "language": "python",
   "name": "python3"
  },
  "language_info": {
   "codemirror_mode": {
    "name": "ipython",
    "version": 3
   },
   "file_extension": ".py",
   "mimetype": "text/x-python",
   "name": "python",
   "nbconvert_exporter": "python",
   "pygments_lexer": "ipython3",
   "version": "3.11.4"
  }
 },
 "nbformat": 4,
 "nbformat_minor": 4
}
