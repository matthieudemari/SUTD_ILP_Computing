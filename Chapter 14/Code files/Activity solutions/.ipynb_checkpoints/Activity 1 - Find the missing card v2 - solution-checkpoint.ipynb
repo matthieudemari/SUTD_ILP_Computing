{
 "cells": [
  {
   "cell_type": "markdown",
   "metadata": {},
   "source": [
    "# Activity 1 - Find the missing card v2 - solution\n",
    "\n",
    "In this activity, we define a deck of cards by using a list of lists, as shown below."
   ]
  },
  {
   "cell_type": "code",
   "execution_count": 1,
   "metadata": {},
   "outputs": [
    {
     "name": "stdout",
     "output_type": "stream",
     "text": [
      "[['Hearts', '1'], ['Hearts', '2'], ['Hearts', '3'], ['Hearts', '4'], ['Hearts', '5'], ['Hearts', '6'], ['Hearts', '7'], ['Hearts', '8'], ['Hearts', '9'], ['Hearts', '10'], ['Hearts', 'Jack'], ['Hearts', 'Queen'], ['Hearts', 'King'], ['Spades', '1'], ['Spades', '2'], ['Spades', '3'], ['Spades', '4'], ['Spades', '5'], ['Spades', '6'], ['Spades', '7'], ['Spades', '8'], ['Spades', '9'], ['Spades', '10'], ['Spades', 'Jack'], ['Spades', 'Queen'], ['Spades', 'King'], ['Diamonds', '1'], ['Diamonds', '2'], ['Diamonds', '3'], ['Diamonds', '4'], ['Diamonds', '5'], ['Diamonds', '6'], ['Diamonds', '7'], ['Diamonds', '8'], ['Diamonds', '9'], ['Diamonds', '10'], ['Diamonds', 'Jack'], ['Diamonds', 'Queen'], ['Diamonds', 'King'], ['Clubs', '1'], ['Clubs', '2'], ['Clubs', '3'], ['Clubs', '4'], ['Clubs', '5'], ['Clubs', '6'], ['Clubs', '7'], ['Clubs', '8'], ['Clubs', '9'], ['Clubs', '10'], ['Clubs', 'Jack'], ['Clubs', 'Queen'], ['Clubs', 'King']]\n"
     ]
    }
   ],
   "source": [
    "complete_deck = [['Hearts', '1'], ['Hearts', '2'], ['Hearts', '3'], ['Hearts', '4'], \\\n",
    "                 ['Hearts', '5'], ['Hearts', '6'], ['Hearts', '7'], ['Hearts', '8'], \\\n",
    "                 ['Hearts', '9'], ['Hearts', '10'], ['Hearts', 'Jack'], ['Hearts', 'Queen'], \\\n",
    "                 ['Hearts', 'King'], ['Spades', '1'], ['Spades', '2'], ['Spades', '3'], \\\n",
    "                 ['Spades', '4'], ['Spades', '5'], ['Spades', '6'], ['Spades', '7'], ['Spades', '8'], \\\n",
    "                 ['Spades', '9'], ['Spades', '10'], ['Spades', 'Jack'], ['Spades', 'Queen'], \\\n",
    "                 ['Spades', 'King'], ['Diamonds', '1'], ['Diamonds', '2'], ['Diamonds', '3'], \\\n",
    "                 ['Diamonds', '4'], ['Diamonds', '5'], ['Diamonds', '6'], ['Diamonds', '7'], \\\n",
    "                 ['Diamonds', '8'], ['Diamonds', '9'], ['Diamonds', '10'], ['Diamonds', 'Jack'], \\\n",
    "                 ['Diamonds', 'Queen'], ['Diamonds', 'King'], ['Clubs', '1'], ['Clubs', '2'], \\\n",
    "                 ['Clubs', '3'], ['Clubs', '4'], ['Clubs', '5'], ['Clubs', '6'], ['Clubs', '7'], \\\n",
    "                 ['Clubs', '8'], ['Clubs', '9'], ['Clubs', '10'], ['Clubs', 'Jack'], \\\n",
    "                 ['Clubs', 'Queen'], ['Clubs', 'King']]\n",
    "print(complete_deck)"
   ]
  },
  {
   "cell_type": "markdown",
   "metadata": {},
   "source": [
    "Each element in the deck list is a tuple, with two elements:\n",
    "- the first element is a string, which corresponds to the card suit,\n",
    "- the second element is a string, which corresponds to the card value."
   ]
  },
  {
   "cell_type": "markdown",
   "metadata": {},
   "source": [
    "### Task\n",
    "\n",
    "Write a function **find_missing_card()**, which receives a deck, in variable *deck*, as its sole parameter.\n",
    "\n",
    "The deck is a standard deck that has been shuffled and is missing a card.\n",
    "\n",
    "The function **find_missing_card()** should then return the one card that is missing in the deck, as a tuple.\n",
    "\n",
    "Note that:\n",
    "- The deck is always missing a single card.\n",
    "- The deck will contain no duplicates."
   ]
  },
  {
   "cell_type": "markdown",
   "metadata": {},
   "source": [
    "### Your code below!\n",
    "\n",
    "**Hint:** try using a dictionary to count the number of hearts, spades, diamonds, clubs in deck. The one suit with a different number of cards is going to be the suit of the missing card!"
   ]
  },
  {
   "cell_type": "code",
   "execution_count": 2,
   "metadata": {},
   "outputs": [],
   "source": [
    "# Getting this dictionary tells us the missing card's suit is Hearts\n",
    "suits_dict = {\"Hearts\": 12, \"Spades\": 13, \"Diamonds\": 13, \"Clubs\": 13}"
   ]
  },
  {
   "cell_type": "code",
   "execution_count": 3,
   "metadata": {},
   "outputs": [],
   "source": [
    "def find_missing_card(deck):\n",
    "    \n",
    "    # Initialize the dictionaries used for counting\n",
    "    suits_dict = {\"Hearts\": 0, \"Spades\": 0, \"Diamonds\": 0, \"Clubs\": 0}\n",
    "    values_dict = {'1': 0, \\\n",
    "                   '2': 0, \\\n",
    "                   '3': 0, \\\n",
    "                   '4': 0, \\\n",
    "                   '5': 0, \\\n",
    "                   '6': 0, \\\n",
    "                   '7': 0, \\\n",
    "                   '8': 0, \\\n",
    "                   '9': 0, \\\n",
    "                   '10': 0, \\\n",
    "                   'Jack': 0, \\\n",
    "                   'Queen': 0, \\\n",
    "                   'King': 0}\n",
    "    \n",
    "    # Browse through the deck and count suits and values\n",
    "    for card in deck:\n",
    "        suit = card[0]\n",
    "        suits_dict[suit] += 1\n",
    "        value = card[1]\n",
    "        values_dict[value] += 1\n",
    "    \n",
    "    # Check if an entry in the dictionary suits_dict has a different value\n",
    "    missing_suit = None\n",
    "    for key, value in suits_dict.items():\n",
    "        if value == 12:\n",
    "            missing_suit = key\n",
    "            break\n",
    "    \n",
    "    missing_value = None\n",
    "    for key, value in values_dict.items():\n",
    "        if value == 3:\n",
    "            missing_value = key\n",
    "            break\n",
    "            \n",
    "    return (missing_suit, missing_value)"
   ]
  },
  {
   "cell_type": "code",
   "execution_count": 8,
   "metadata": {},
   "outputs": [],
   "source": [
    "def find_missing_card(deck):\n",
    "    \n",
    "    # Initialize an empty dictionary suits_dict,\n",
    "    # which we will use to count the number of cards of each suit\n",
    "    suits_dict = {}\n",
    "    \n",
    "    # Initialize an empty dictionary suits_dict,\n",
    "    # which we will use to count the number of cards of each suit\n",
    "    values_dict = {}\n",
    "    \n",
    "    # Browse through the deck and count suits and values\n",
    "    for card in deck:\n",
    "        suit = card[0]\n",
    "        if suit not in suits_dict.keys():\n",
    "            suits_dict[suit] = 1\n",
    "        else:\n",
    "            suits_dict[suit] += 1\n",
    "        value = card[1]\n",
    "        if value not in values_dict.keys():\n",
    "            values_dict[value] = 1\n",
    "        else:\n",
    "            values_dict[value] += 1\n",
    "    \n",
    "    # Check if an entry in the dictionary suits_dict has a different value\n",
    "    missing_suit = None\n",
    "    for key, value in suits_dict.items():\n",
    "        if value == 12:\n",
    "            missing_suit = key\n",
    "            break\n",
    "    \n",
    "    missing_value = None\n",
    "    for key, value in values_dict.items():\n",
    "        if value == 3:\n",
    "            missing_value = key\n",
    "            break\n",
    "            \n",
    "    return (missing_suit, missing_value)"
   ]
  },
  {
   "cell_type": "code",
   "execution_count": 1,
   "metadata": {},
   "outputs": [],
   "source": [
    "# Make some subfunctions\n",
    "def count_suits(deck):\n",
    "    # Get count of suits in a dictionary\n",
    "    suits_dict = {}\n",
    "    for card in deck:\n",
    "        suit = card[0]\n",
    "        # If first time seeing this suit, add entry to dictionary with value 1, \n",
    "        # Otherwise increase it by one.\n",
    "        if(suit not in suits_dict.keys()):\n",
    "            suits_dict[suit] = 1\n",
    "        else:\n",
    "            suits_dict[suit] += 1\n",
    "    return suits_dict\n",
    "    \n",
    "def count_values(deck):\n",
    "    # Get count of values in a dictionary\n",
    "    values_dict = {}\n",
    "    for card in deck:\n",
    "        value = card[1]\n",
    "        if(value not in values_dict.keys()):\n",
    "            values_dict[value] = 1\n",
    "        else:\n",
    "            values_dict[value] += 1\n",
    "    return values_dict\n",
    "\n",
    "def find_missing_suit(suits_dict):\n",
    "    for suit, count in suits_dict.items():\n",
    "        if count == 12:\n",
    "            missing_suit = suit\n",
    "            break\n",
    "    return missing_suit\n",
    "\n",
    "def find_missing_value(values_dict):\n",
    "    for value, count in values_dict.items():\n",
    "        if count == 3:\n",
    "            missing_value = value\n",
    "            break\n",
    "    return missing_value\n",
    "\n",
    "def find_missing_card(deck):\n",
    "    # Get count of suits in a dictionary\n",
    "    suits_dict = count_suits(deck)\n",
    "    # Get count of values in a dictionary\n",
    "    values_dict = count_values(deck)\n",
    "    # Find identity of missing card (suit)\n",
    "    missing_suit = find_missing_suit(suits_dict)\n",
    "    # Find identity of missing card (value)\n",
    "    missing_value = find_missing_value(values_dict)\n",
    "    # Return\n",
    "    return missing_suit, missing_value"
   ]
  },
  {
   "cell_type": "markdown",
   "metadata": {},
   "source": [
    "### Expected results"
   ]
  },
  {
   "cell_type": "code",
   "execution_count": 2,
   "metadata": {},
   "outputs": [
    {
     "name": "stdout",
     "output_type": "stream",
     "text": [
      "('Hearts', '5')\n"
     ]
    }
   ],
   "source": [
    "deck = [['Spades', '3'], ['Hearts', '9'], ['Spades', '4'], ['Hearts', '10'], ['Clubs', 'Queen'], \\\n",
    "        ['Spades', 'Queen'], ['Spades', '8'], ['Spades', '1'], ['Diamonds', '9'], ['Diamonds', '4'], \\\n",
    "        ['Spades', '9'], ['Clubs', '3'], ['Diamonds', '3'], ['Spades', 'King'], ['Clubs', '7'], \\\n",
    "        ['Diamonds', 'Queen'], ['Hearts', '7'], ['Clubs', '1'], ['Spades', '2'], ['Hearts', '8'], \\\n",
    "        ['Diamonds', '5'], ['Clubs', '5'], ['Hearts', '1'], ['Hearts', 'Jack'], ['Diamonds', 'Jack'], \\\n",
    "        ['Hearts', 'Queen'], ['Hearts', '6'], ['Hearts', '4'], ['Clubs', '6'], ['Diamonds', 'King'], \\\n",
    "        ['Clubs', 'King'], ['Spades', 'Jack'], ['Diamonds', '2'], ['Diamonds', '8'], \\\n",
    "        ['Diamonds', '10'], ['Clubs', 'Jack'], ['Spades', '10'], ['Clubs', '10'], ['Clubs', '9'], \\\n",
    "        ['Clubs', '4'], ['Clubs', '2'], ['Hearts', '3'], ['Spades', '5'], ['Hearts', 'King'], \\\n",
    "        ['Diamonds', '6'], ['Diamonds', '7'], ['Hearts', '2'], ['Clubs', '8'], ['Spades', '6'], \\\n",
    "        ['Spades', '7'], ['Diamonds', '1']]\n",
    "# This should print ('Hearts', '5')\n",
    "missing_card = find_missing_card(deck)\n",
    "print(missing_card)"
   ]
  },
  {
   "cell_type": "code",
   "execution_count": 3,
   "metadata": {},
   "outputs": [
    {
     "name": "stdout",
     "output_type": "stream",
     "text": [
      "('Spades', '10')\n"
     ]
    }
   ],
   "source": [
    "deck2 = [['Spades', '9'], ['Diamonds', '3'], ['Hearts', 'Jack'], ['Diamonds', '9'], ['Diamonds', '7'], \\\n",
    "         ['Diamonds', '1'], ['Clubs', '8'], ['Diamonds', '10'], ['Hearts', 'King'], ['Clubs', '1'], \\\n",
    "         ['Clubs', '4'], ['Clubs', 'King'], ['Spades', '4'], ['Clubs', '2'], ['Diamonds', '2'], \\\n",
    "         ['Clubs', '6'], ['Spades', '3'], ['Clubs', '3'], ['Clubs', '7'], ['Spades', 'King'], \\\n",
    "         ['Spades', '5'], ['Hearts', '6'], ['Diamonds', 'Queen'], ['Clubs', '10'], ['Diamonds', '8'], \\\n",
    "         ['Diamonds', '4'], ['Spades', '1'], ['Spades', '8'], ['Clubs', '5'], ['Spades', '7'], \\\n",
    "         ['Hearts', '3'], ['Spades', '6'], ['Hearts', '7'], ['Hearts', '2'], ['Clubs', 'Queen'], \\\n",
    "         ['Hearts', '5'], ['Hearts', '9'], ['Hearts', 'Queen'], ['Spades', 'Queen'], \\\n",
    "         ['Diamonds', '6'], ['Spades', '2'], ['Hearts', '1'], ['Clubs', 'Jack'], ['Hearts', '4'], \\\n",
    "         ['Diamonds', '5'], ['Spades', 'Jack'], ['Hearts', '10'], ['Hearts', '8'], \\\n",
    "         ['Diamonds', 'Jack'], ['Clubs', '9'], ['Diamonds', 'King']]\n",
    "# This should print ('Spades', '10')\n",
    "missing_card = find_missing_card(deck2)\n",
    "print(missing_card)"
   ]
  },
  {
   "cell_type": "code",
   "execution_count": null,
   "metadata": {},
   "outputs": [],
   "source": []
  }
 ],
 "metadata": {
  "kernelspec": {
   "display_name": "Python 3 (ipykernel)",
   "language": "python",
   "name": "python3"
  },
  "language_info": {
   "codemirror_mode": {
    "name": "ipython",
    "version": 3
   },
   "file_extension": ".py",
   "mimetype": "text/x-python",
   "name": "python",
   "nbconvert_exporter": "python",
   "pygments_lexer": "ipython3",
   "version": "3.12.5"
  }
 },
 "nbformat": 4,
 "nbformat_minor": 4
}
