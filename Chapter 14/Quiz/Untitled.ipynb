{
 "cells": [
  {
   "cell_type": "code",
   "execution_count": 2,
   "id": "139a7520-e6ec-4026-8f01-91e429fac9f2",
   "metadata": {},
   "outputs": [
    {
     "name": "stdout",
     "output_type": "stream",
     "text": [
      "{'name': 'Matt', 'email': 'matt@gmail.com'}\n"
     ]
    }
   ],
   "source": [
    "d = {\"name\": \"Matt\", \"age\": 21}\n",
    "d[\"email\"] = \"matt@gmail.com\"\n",
    "del(d[\"age\"])\n",
    "print(d)"
   ]
  },
  {
   "cell_type": "code",
   "execution_count": 3,
   "id": "90680b57-d45d-4407-88ae-5811f5b0a8d1",
   "metadata": {},
   "outputs": [
    {
     "name": "stdout",
     "output_type": "stream",
     "text": [
      "['gaming', 'running', 'climbing']\n"
     ]
    }
   ],
   "source": [
    "d = {\"name\": \"Matt\", \"hobbies\": [\"gaming\", \"running\"]}\n",
    "d2 = ???\n",
    "d[\"hobbies\"].append(\"climbing\")\n",
    "print(d2[\"hobbies\"])"
   ]
  },
  {
   "cell_type": "code",
   "execution_count": 4,
   "id": "4afb90fd-903d-42ae-ae65-68ab462113fe",
   "metadata": {},
   "outputs": [
    {
     "name": "stdout",
     "output_type": "stream",
     "text": [
      "['gaming', 'running', 'climbing']\n"
     ]
    }
   ],
   "source": [
    "d = {\"name\": \"Matt\", \"hobbies\": [\"gaming\", \"running\"]}\n",
    "d2 = d.copy()\n",
    "d[\"hobbies\"].append(\"climbing\")\n",
    "print(d2[\"hobbies\"])"
   ]
  },
  {
   "cell_type": "code",
   "execution_count": 5,
   "id": "a1cdb282-f4f5-4b3c-8132-ca433a630ddc",
   "metadata": {},
   "outputs": [
    {
     "name": "stdout",
     "output_type": "stream",
     "text": [
      "['gaming', 'running']\n"
     ]
    }
   ],
   "source": [
    "from copy import deepcopy\n",
    "d = {\"name\": \"Matt\", \"hobbies\": [\"gaming\", \"running\"]}\n",
    "d2 = ???\n",
    "d[\"hobbies\"].append(\"climbing\")\n",
    "print(d2[\"hobbies\"])"
   ]
  },
  {
   "cell_type": "code",
   "execution_count": 10,
   "id": "0a4c7ba6-d446-4e7e-996c-71cef4d5e74e",
   "metadata": {},
   "outputs": [
    {
     "ename": "KeyError",
     "evalue": "slice(None, None, None)",
     "output_type": "error",
     "traceback": [
      "\u001b[1;31m---------------------------------------------------------------------------\u001b[0m",
      "\u001b[1;31mKeyError\u001b[0m                                  Traceback (most recent call last)",
      "Cell \u001b[1;32mIn[10], line 3\u001b[0m\n\u001b[0;32m      1\u001b[0m \u001b[38;5;28;01mfrom\u001b[39;00m \u001b[38;5;21;01mcopy\u001b[39;00m \u001b[38;5;28;01mimport\u001b[39;00m deepcopy\n\u001b[0;32m      2\u001b[0m d \u001b[38;5;241m=\u001b[39m {\u001b[38;5;124m\"\u001b[39m\u001b[38;5;124mname\u001b[39m\u001b[38;5;124m\"\u001b[39m: \u001b[38;5;124m\"\u001b[39m\u001b[38;5;124mMatt\u001b[39m\u001b[38;5;124m\"\u001b[39m, \u001b[38;5;124m\"\u001b[39m\u001b[38;5;124mhobbies\u001b[39m\u001b[38;5;124m\"\u001b[39m: [\u001b[38;5;124m\"\u001b[39m\u001b[38;5;124mgaming\u001b[39m\u001b[38;5;124m\"\u001b[39m, \u001b[38;5;124m\"\u001b[39m\u001b[38;5;124mrunning\u001b[39m\u001b[38;5;124m\"\u001b[39m]}\n\u001b[1;32m----> 3\u001b[0m d2 \u001b[38;5;241m=\u001b[39m \u001b[43md\u001b[49m\u001b[43m[\u001b[49m\u001b[43m:\u001b[49m\u001b[43m]\u001b[49m\n\u001b[0;32m      4\u001b[0m d[\u001b[38;5;124m\"\u001b[39m\u001b[38;5;124mhobbies\u001b[39m\u001b[38;5;124m\"\u001b[39m]\u001b[38;5;241m.\u001b[39mappend(\u001b[38;5;124m\"\u001b[39m\u001b[38;5;124mclimbing\u001b[39m\u001b[38;5;124m\"\u001b[39m)\n\u001b[0;32m      5\u001b[0m \u001b[38;5;28mprint\u001b[39m(d2[\u001b[38;5;124m\"\u001b[39m\u001b[38;5;124mhobbies\u001b[39m\u001b[38;5;124m\"\u001b[39m])\n",
      "\u001b[1;31mKeyError\u001b[0m: slice(None, None, None)"
     ]
    }
   ],
   "source": [
    "from copy import deepcopy\n",
    "d = {\"name\": \"Matt\", \"hobbies\": [\"gaming\", \"running\"]}\n",
    "d2 = d[:]\n",
    "d[\"hobbies\"].append(\"climbing\")\n",
    "print(d2[\"hobbies\"])"
   ]
  },
  {
   "cell_type": "code",
   "execution_count": 6,
   "id": "34c48820-07cb-4421-a44e-7ca6942fa6ee",
   "metadata": {},
   "outputs": [
    {
     "ename": "AttributeError",
     "evalue": "'dict' object has no attribute 'has_key'",
     "output_type": "error",
     "traceback": [
      "\u001b[1;31m---------------------------------------------------------------------------\u001b[0m",
      "\u001b[1;31mAttributeError\u001b[0m                            Traceback (most recent call last)",
      "Cell \u001b[1;32mIn[6], line 5\u001b[0m\n\u001b[0;32m      3\u001b[0m \u001b[38;5;124m'\u001b[39m\u001b[38;5;124mname\u001b[39m\u001b[38;5;124m'\u001b[39m \u001b[38;5;129;01min\u001b[39;00m d\u001b[38;5;241m.\u001b[39mvalues()\n\u001b[0;32m      4\u001b[0m \u001b[38;5;124m'\u001b[39m\u001b[38;5;124mname\u001b[39m\u001b[38;5;124m'\u001b[39m \u001b[38;5;129;01min\u001b[39;00m d\u001b[38;5;241m.\u001b[39mitems()\n\u001b[1;32m----> 5\u001b[0m \u001b[43mmy_dict\u001b[49m\u001b[38;5;241;43m.\u001b[39;49m\u001b[43mhas_key\u001b[49m(\u001b[38;5;124m'\u001b[39m\u001b[38;5;124mname\u001b[39m\u001b[38;5;124m'\u001b[39m)\n",
      "\u001b[1;31mAttributeError\u001b[0m: 'dict' object has no attribute 'has_key'"
     ]
    }
   ],
   "source": [
    "Which of the following checks if the key 'name' exists in the dictionary d?\n",
    "'name' in d\n",
    "'name' in d.values()\n",
    "'name' in d.items()\n",
    "my_dict.has_key('name')"
   ]
  },
  {
   "cell_type": "code",
   "execution_count": 9,
   "id": "97c4b866-b6a1-47dc-8256-66f21a1db93c",
   "metadata": {},
   "outputs": [
    {
     "name": "stdout",
     "output_type": "stream",
     "text": [
      "345Y G4M3\n"
     ]
    }
   ],
   "source": [
    "leet_code = {\"O\":\"0\", \"I\":\"1\", \"Z\":\"2\", \"E\":\"3\", \"A\":\"4\", \"S\":\"5\", \"T\":\"7\"}\n",
    "s = \"EASY GAME\"\n",
    "s2 = \"\"\n",
    "for c in s:\n",
    "    s2 += leet_code.get(c, c)\n",
    "print(s2)"
   ]
  },
  {
   "cell_type": "code",
   "execution_count": 16,
   "id": "54415295-7e65-475a-9059-19955088cead",
   "metadata": {},
   "outputs": [
    {
     "name": "stdout",
     "output_type": "stream",
     "text": [
      "gaming\n"
     ]
    },
    {
     "ename": "KeyError",
     "evalue": "('hobbies', 1)",
     "output_type": "error",
     "traceback": [
      "\u001b[1;31m---------------------------------------------------------------------------\u001b[0m",
      "\u001b[1;31mKeyError\u001b[0m                                  Traceback (most recent call last)",
      "Cell \u001b[1;32mIn[16], line 5\u001b[0m\n\u001b[0;32m      3\u001b[0m \u001b[38;5;66;03m#print(d[\"hobbies\"][0])\u001b[39;00m\n\u001b[0;32m      4\u001b[0m \u001b[38;5;28mprint\u001b[39m(d[\u001b[38;5;124m\"\u001b[39m\u001b[38;5;124mhobbies\u001b[39m\u001b[38;5;124m\"\u001b[39m][\u001b[38;5;241m1\u001b[39m])\n\u001b[1;32m----> 5\u001b[0m \u001b[38;5;28mprint\u001b[39m(\u001b[43md\u001b[49m\u001b[43m[\u001b[49m\u001b[38;5;124;43m\"\u001b[39;49m\u001b[38;5;124;43mhobbies\u001b[39;49m\u001b[38;5;124;43m\"\u001b[39;49m\u001b[43m,\u001b[49m\u001b[43m \u001b[49m\u001b[38;5;241;43m1\u001b[39;49m\u001b[43m]\u001b[49m)\n\u001b[0;32m      6\u001b[0m \u001b[38;5;28mprint\u001b[39m(d[(\u001b[38;5;124m\"\u001b[39m\u001b[38;5;124mhobbies\u001b[39m\u001b[38;5;124m\"\u001b[39m, \u001b[38;5;241m1\u001b[39m)])\n",
      "\u001b[1;31mKeyError\u001b[0m: ('hobbies', 1)"
     ]
    }
   ],
   "source": [
    "d = {\"name\": \"Matt\", \"hobbies\": {1: \"gaming\", 2:\"running\"}}\n",
    "print(d[\"hobbies\"][0])      # A\n",
    "print(d[\"hobbies\"][1])      # B\n",
    "print(d[\"hobbies\", 1])      # C\n",
    "print(d[(\"hobbies\", 1)])    # D"
   ]
  },
  {
   "cell_type": "code",
   "execution_count": null,
   "id": "be5d1dd7-6ecc-4dc5-8e7b-51c44e752164",
   "metadata": {},
   "outputs": [],
   "source": []
  }
 ],
 "metadata": {
  "kernelspec": {
   "display_name": "Python 3 (ipykernel)",
   "language": "python",
   "name": "python3"
  },
  "language_info": {
   "codemirror_mode": {
    "name": "ipython",
    "version": 3
   },
   "file_extension": ".py",
   "mimetype": "text/x-python",
   "name": "python",
   "nbconvert_exporter": "python",
   "pygments_lexer": "ipython3",
   "version": "3.12.5"
  }
 },
 "nbformat": 4,
 "nbformat_minor": 5
}
