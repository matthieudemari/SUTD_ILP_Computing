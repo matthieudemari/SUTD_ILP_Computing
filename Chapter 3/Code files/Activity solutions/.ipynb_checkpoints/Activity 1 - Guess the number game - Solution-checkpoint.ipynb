{
 "cells": [
  {
   "cell_type": "markdown",
   "metadata": {},
   "source": [
    "# Activity 1 - Guess the number game - Solution"
   ]
  },
  {
   "cell_type": "markdown",
   "metadata": {},
   "source": [
    "### Tasks\n",
    "\n",
    "Let us consider two integers\n",
    "- The first one, **true_number**, corresponds to a number that the user/player should guess. This is something we would normally hide from the player, but let us pretend for now!\n",
    "- The second one, **guessed_number**, corresponds to the number guessed by the user, and is acquired via input().\n",
    "\n",
    "Both numbers will take integer values between 0 and 9, for simplicity.\n",
    "\n",
    "Write some code, so that Python acquires a number from the user using input(), and prints the following statements with appropriate True/False boolean values printed in the blanks.\n",
    "- \"You have guessed the true number: ______\"\n",
    "- \"The true number is stricly higher than your guess:  ______\"\n",
    "- \"The true number has the same parity (odd/even) than your guess: ______\"\n",
    "\n",
    "Do not use the if keyword just yet! (We have not yet introduced it!)"
   ]
  },
  {
   "cell_type": "markdown",
   "metadata": {},
   "source": [
    "### Your code below!"
   ]
  },
  {
   "cell_type": "code",
   "execution_count": 1,
   "metadata": {},
   "outputs": [],
   "source": [
    "# 1. Choose a number to guess (for instance, 6)\n",
    "true_number = 6"
   ]
  },
  {
   "cell_type": "code",
   "execution_count": 2,
   "metadata": {
    "scrolled": true
   },
   "outputs": [
    {
     "name": "stdin",
     "output_type": "stream",
     "text": [
      "Type your guess (integer between 0 and 9):  4\n"
     ]
    }
   ],
   "source": [
    "# 2. Ask for user to guesss the number\n",
    "guessed_number = int(input(\"Type your guess (integer between 0 and 9): \"))"
   ]
  },
  {
   "cell_type": "code",
   "execution_count": 3,
   "metadata": {},
   "outputs": [
    {
     "name": "stdout",
     "output_type": "stream",
     "text": [
      "6 4\n"
     ]
    }
   ],
   "source": [
    "print(true_number, guessed_number)"
   ]
  },
  {
   "cell_type": "code",
   "execution_count": 4,
   "metadata": {},
   "outputs": [
    {
     "name": "stdout",
     "output_type": "stream",
     "text": [
      "You have guessed the true number: False\n",
      "You have guessed the true number: False\n",
      "The true number is strictly higher than your guess: True\n",
      "The true number has the same parity (odd/even) than your guess: True\n"
     ]
    }
   ],
   "source": [
    "# 3. Check if the user guessed the right number\n",
    "right_number_bool = (true_number == guessed_number)\n",
    "print(\"You have guessed the true number:\", right_number_bool)\n",
    "# Could have also used\n",
    "print(\"You have guessed the true number: {}\".format(right_number_bool))\n",
    "\n",
    "# 4. Check if the guessed_number is striclty higher than the true_number\n",
    "higher_number_bool = (true_number > guessed_number)\n",
    "# Could also use\n",
    "higher_number_bool = (guessed_number < true_number)\n",
    "print(\"The true number is strictly higher than your guess:\", higher_number_bool)\n",
    "\n",
    "# 5. Check if the guessed_number has the same parity (odd/even) than the true_number\n",
    "# Your turn to code below!\n",
    "parity_bool = (true_number%2 == guessed_number%2)\n",
    "# Could also use\n",
    "parity_bool = ((true_number-guessed_number)%2 == 0)\n",
    "print(\"The true number has the same parity (odd/even) than your guess:\", parity_bool)"
   ]
  },
  {
   "cell_type": "code",
   "execution_count": null,
   "metadata": {},
   "outputs": [],
   "source": []
  }
 ],
 "metadata": {
  "kernelspec": {
   "display_name": "Python 3 (ipykernel)",
   "language": "python",
   "name": "python3"
  },
  "language_info": {
   "codemirror_mode": {
    "name": "ipython",
    "version": 3
   },
   "file_extension": ".py",
   "mimetype": "text/x-python",
   "name": "python",
   "nbconvert_exporter": "python",
   "pygments_lexer": "ipython3",
   "version": "3.13.1"
  }
 },
 "nbformat": 4,
 "nbformat_minor": 4
}
