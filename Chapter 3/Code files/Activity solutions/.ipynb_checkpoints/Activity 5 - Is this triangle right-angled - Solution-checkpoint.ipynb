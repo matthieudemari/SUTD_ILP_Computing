{
 "cells": [
  {
   "cell_type": "markdown",
   "metadata": {},
   "source": [
    "# Activity 5 - Is this triangle right-angled - Solution"
   ]
  },
  {
   "cell_type": "markdown",
   "metadata": {},
   "source": [
    "### Problem statement\n",
    "\n",
    "Consider a triangle with three sides, expected to have positive values and denoted **a**, **b** and **c**. For the sake of simplicity, we will assume that **c** is the largest distance among all three values.\n",
    "\n",
    "As you know from mathematics, a triangle is right-angled if and only if, the Pythagorean property holds, that is\n",
    "\n",
    "$$ a^2 + b^2 = c^2 $$"
   ]
  },
  {
   "cell_type": "markdown",
   "metadata": {},
   "source": [
    "### Tasks\n",
    "\n",
    "Write a function, is_triangle_rightangled(), which receives all three values a, b, c as inputs and returns a boolean set to True if the triangle is indeed right-angled and False otherwise.\n",
    "\n",
    "If the values **(a,b,c)** passed are such that **c** is not the largest side, then the function should return False.\n",
    "\n",
    "### Note\n",
    "\n",
    "It is a convention in programming that functions named is_something(), usually return a boolean, letting you know if a certain condition is met or not. These functions are typically refered to as boolean functions."
   ]
  },
  {
   "cell_type": "markdown",
   "metadata": {},
   "source": [
    "### Your code below!"
   ]
  },
  {
   "cell_type": "code",
   "execution_count": null,
   "metadata": {
    "ExecuteTime": {
     "end_time": "2020-07-02T04:15:16.136288Z",
     "start_time": "2020-07-02T04:15:16.131303Z"
    }
   },
   "outputs": [],
   "source": [
    "# Define your function is_triangle_rectangular() as described above.\n",
    "def is_triangle_rightangled(a, b, c):\n",
    "    return a**2 + b**2 == c**2 and a >= 0 and b >= 0 and c >= 0 and c >= a and c >= b"
   ]
  },
  {
   "cell_type": "code",
   "execution_count": null,
   "metadata": {
    "ExecuteTime": {
     "end_time": "2020-07-02T04:15:16.136288Z",
     "start_time": "2020-07-02T04:15:16.131303Z"
    }
   },
   "outputs": [],
   "source": [
    "# Define your function is_triangle_rectangular() as described above.\n",
    "def is_triangle_rightangled(a, b, c):\n",
    "    return a**2 + b**2 == c**2 and c >= a >= 0 and c >= b >= 0"
   ]
  },
  {
   "cell_type": "markdown",
   "metadata": {},
   "source": [
    "### Expected solutions\n",
    "\n",
    "If your function has been correctly designed, the following test cases should work."
   ]
  },
  {
   "cell_type": "code",
   "execution_count": null,
   "metadata": {
    "ExecuteTime": {
     "end_time": "2020-07-02T04:15:16.146298Z",
     "start_time": "2020-07-02T04:15:16.138284Z"
    },
    "scrolled": true
   },
   "outputs": [],
   "source": [
    "# This should return True\n",
    "print(is_triangle_rightangled(a = 3, b = 4, c = 5))"
   ]
  },
  {
   "cell_type": "code",
   "execution_count": null,
   "metadata": {
    "ExecuteTime": {
     "end_time": "2020-07-02T04:15:16.146298Z",
     "start_time": "2020-07-02T04:15:16.138284Z"
    }
   },
   "outputs": [],
   "source": [
    "# This should return False\n",
    "print(is_triangle_rightangled(a = 4, b = 4, c = 6))"
   ]
  },
  {
   "cell_type": "code",
   "execution_count": null,
   "metadata": {
    "ExecuteTime": {
     "end_time": "2020-07-02T04:15:16.146298Z",
     "start_time": "2020-07-02T04:15:16.138284Z"
    }
   },
   "outputs": [],
   "source": [
    "# This should return False\n",
    "print(is_triangle_rightangled(a = 3, b = 5, c = 4))"
   ]
  },
  {
   "cell_type": "code",
   "execution_count": null,
   "metadata": {
    "ExecuteTime": {
     "end_time": "2020-07-02T04:15:16.146298Z",
     "start_time": "2020-07-02T04:15:16.138284Z"
    }
   },
   "outputs": [],
   "source": [
    "# This should return True\n",
    "print(is_triangle_rightangled(a = 0, b = 0, c = 0))"
   ]
  },
  {
   "cell_type": "code",
   "execution_count": null,
   "metadata": {},
   "outputs": [],
   "source": [
    "# This should return False\n",
    "print(is_triangle_rightangled(a = -3, b = -4, c = -5))"
   ]
  }
 ],
 "metadata": {
  "kernelspec": {
   "display_name": "Python 3 (ipykernel)",
   "language": "python",
   "name": "python3"
  },
  "language_info": {
   "codemirror_mode": {
    "name": "ipython",
    "version": 3
   },
   "file_extension": ".py",
   "mimetype": "text/x-python",
   "name": "python",
   "nbconvert_exporter": "python",
   "pygments_lexer": "ipython3",
   "version": "3.13.1"
  }
 },
 "nbformat": 4,
 "nbformat_minor": 4
}
