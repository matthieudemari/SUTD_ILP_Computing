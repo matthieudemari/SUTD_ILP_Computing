{
 "cells": [
  {
   "cell_type": "code",
   "execution_count": 1,
   "metadata": {},
   "outputs": [],
   "source": [
    "def f(x):\n",
    "    y = 2*x\n",
    "    return y"
   ]
  },
  {
   "cell_type": "code",
   "execution_count": 2,
   "metadata": {},
   "outputs": [
    {
     "name": "stdout",
     "output_type": "stream",
     "text": [
      "4\n"
     ]
    }
   ],
   "source": [
    "x1 = 2\n",
    "y1 = f(x1)\n",
    "print(y1)"
   ]
  },
  {
   "cell_type": "code",
   "execution_count": 3,
   "metadata": {},
   "outputs": [],
   "source": [
    "def f2(val1, val2):\n",
    "    sum_val = val1 + val2\n",
    "    mult_val = val1*val2\n",
    "    return sum_val, mult_val"
   ]
  },
  {
   "cell_type": "code",
   "execution_count": 4,
   "metadata": {},
   "outputs": [
    {
     "name": "stdout",
     "output_type": "stream",
     "text": [
      "5\n",
      "6\n"
     ]
    }
   ],
   "source": [
    "x1 = 2\n",
    "x2 = 3\n",
    "y1, y2 = f2(val1 = x1, val2 = x2)\n",
    "print(y1)\n",
    "print(y2)"
   ]
  },
  {
   "cell_type": "code",
   "execution_count": 5,
   "metadata": {},
   "outputs": [
    {
     "name": "stdout",
     "output_type": "stream",
     "text": [
      "5\n",
      "6\n"
     ]
    }
   ],
   "source": [
    "x1 = 2\n",
    "x2 = 3\n",
    "y1, y2 = f2(x1, x2)\n",
    "print(y1)\n",
    "print(y2)"
   ]
  },
  {
   "cell_type": "code",
   "execution_count": 6,
   "metadata": {},
   "outputs": [
    {
     "name": "stdout",
     "output_type": "stream",
     "text": [
      "Hello\n"
     ]
    }
   ],
   "source": [
    "output = print(\"Hello\")"
   ]
  },
  {
   "cell_type": "code",
   "execution_count": 7,
   "metadata": {},
   "outputs": [
    {
     "name": "stdout",
     "output_type": "stream",
     "text": [
      "None\n"
     ]
    }
   ],
   "source": [
    "print(output)"
   ]
  },
  {
   "cell_type": "code",
   "execution_count": 8,
   "metadata": {},
   "outputs": [],
   "source": [
    "def say_hello():\n",
    "    print(\"Hello!\")"
   ]
  },
  {
   "cell_type": "code",
   "execution_count": 9,
   "metadata": {},
   "outputs": [
    {
     "name": "stdout",
     "output_type": "stream",
     "text": [
      "Hello!\n"
     ]
    }
   ],
   "source": [
    "output = say_hello()"
   ]
  },
  {
   "cell_type": "code",
   "execution_count": 10,
   "metadata": {},
   "outputs": [
    {
     "name": "stdout",
     "output_type": "stream",
     "text": [
      "None\n"
     ]
    }
   ],
   "source": [
    "print(output)"
   ]
  },
  {
   "cell_type": "code",
   "execution_count": 11,
   "metadata": {},
   "outputs": [],
   "source": [
    "def f4(x):\n",
    "    print(\"Can you see this?\")\n",
    "    return 2*x\n",
    "    # The print below will never be executed\n",
    "    print(\"How about this?\")"
   ]
  },
  {
   "cell_type": "code",
   "execution_count": 12,
   "metadata": {},
   "outputs": [
    {
     "name": "stdout",
     "output_type": "stream",
     "text": [
      "Can you see this?\n",
      "4\n"
     ]
    }
   ],
   "source": [
    "x = 2\n",
    "y = f4(x)\n",
    "print(y)"
   ]
  },
  {
   "cell_type": "code",
   "execution_count": 13,
   "metadata": {},
   "outputs": [],
   "source": [
    "def f5(val):\n",
    "    print(val)\n",
    "    return val*2"
   ]
  },
  {
   "cell_type": "code",
   "execution_count": 14,
   "metadata": {},
   "outputs": [
    {
     "name": "stdout",
     "output_type": "stream",
     "text": [
      "2\n",
      "4\n"
     ]
    }
   ],
   "source": [
    "x1 = 2\n",
    "y1 = f5(x1)\n",
    "print(y1)"
   ]
  },
  {
   "cell_type": "code",
   "execution_count": 15,
   "metadata": {},
   "outputs": [
    {
     "ename": "NameError",
     "evalue": "name 'val' is not defined",
     "output_type": "error",
     "traceback": [
      "\u001b[1;31m---------------------------------------------------------------------------\u001b[0m",
      "\u001b[1;31mNameError\u001b[0m                                 Traceback (most recent call last)",
      "Cell \u001b[1;32mIn[15], line 1\u001b[0m\n\u001b[1;32m----> 1\u001b[0m \u001b[38;5;28mprint\u001b[39m(\u001b[43mval\u001b[49m)\n",
      "\u001b[1;31mNameError\u001b[0m: name 'val' is not defined"
     ]
    }
   ],
   "source": [
    "print(val)"
   ]
  },
  {
   "cell_type": "code",
   "execution_count": 16,
   "metadata": {},
   "outputs": [
    {
     "name": "stdout",
     "output_type": "stream",
     "text": [
      "50\n"
     ]
    }
   ],
   "source": [
    "# Here, a is a global variable\n",
    "a = 10\n",
    "def f6(x):\n",
    "    # Function f6 requires a, but it was not listed as inputs required by the function\n",
    "    # Python will save the day by fetching the global variable a\n",
    "    # (Serious malpractice, will not work in many other languages!)\n",
    "    return a*x\n",
    "print(f6(5))"
   ]
  },
  {
   "cell_type": "code",
   "execution_count": null,
   "metadata": {},
   "outputs": [],
   "source": [
    "f7 = lambda x: 2*x"
   ]
  },
  {
   "cell_type": "code",
   "execution_count": null,
   "metadata": {},
   "outputs": [],
   "source": [
    "x1 = 2\n",
    "y1 = f7(x1)\n",
    "print(y1)"
   ]
  },
  {
   "cell_type": "code",
   "execution_count": null,
   "metadata": {},
   "outputs": [],
   "source": [
    "student_A_math_grade = 85\n",
    "student_A_physics_grade = 70\n",
    "student_A_chemistry_grade = 75\n",
    "student_A_sum_grade = student_A_math_grade + student_A_physics_grade + student_A_chemistry_grade\n",
    "student_A_mean_grade = student_A_sum_grade/3"
   ]
  },
  {
   "cell_type": "code",
   "execution_count": null,
   "metadata": {},
   "outputs": [],
   "source": [
    "student_B_math_grade = 95\n",
    "student_B_physics_grade = 65\n",
    "student_B_chemistry_grade = 50\n",
    "student_B_sum_grade = student_B_math_grade + student_B_physics_grade + student_B_chemistry_grade\n",
    "student_B_mean_grade = student_B_sum_grade/3"
   ]
  },
  {
   "cell_type": "code",
   "execution_count": null,
   "metadata": {},
   "outputs": [],
   "source": [
    "def avg_grade(math_grade, phy_grade, chem_grade):\n",
    "    return (math_grade + phy_grade + chem_grade)/3"
   ]
  },
  {
   "cell_type": "code",
   "execution_count": null,
   "metadata": {},
   "outputs": [],
   "source": [
    "student_A_mean_grade = avg_grade(student_A_math_grade, student_A_physics_grade, student_A_chemistry_grade)\n",
    "student_B_mean_grade = avg_grade(student_B_math_grade, student_B_physics_grade, student_B_chemistry_grade)"
   ]
  },
  {
   "cell_type": "code",
   "execution_count": null,
   "metadata": {},
   "outputs": [],
   "source": [
    "def sum_all_grades(math_grade, phy_grade, chem_grade):\n",
    "    summed_grades = math_grade + phy_grade + chem_grade\n",
    "    return summed_grades\n",
    "def divide_grades(summed_grades, number_grades):\n",
    "    avg_grade = summed_grades/number_grades\n",
    "    return avg_grade\n",
    "def avg_grade_v2(math_grade, phy_grade, chem_grade):\n",
    "    summed_grades = sum_all_grades(math_grade, phy_grade, chem_grade)\n",
    "    number_grades = 3\n",
    "    avg_grade = divide_grades(summed_grades, number_grades)\n",
    "    return avg_grade"
   ]
  },
  {
   "cell_type": "code",
   "execution_count": null,
   "metadata": {},
   "outputs": [],
   "source": [
    "student_A_mean_grade = avg_grade_v2(student_A_math_grade, student_A_physics_grade, student_A_chemistry_grade)\n",
    "student_B_mean_grade = avg_grade_v2(student_B_math_grade, student_B_physics_grade, student_B_chemistry_grade)\n",
    "print(student_A_mean_grade)\n",
    "print(student_B_mean_grade)"
   ]
  },
  {
   "cell_type": "code",
   "execution_count": null,
   "metadata": {},
   "outputs": [],
   "source": []
  }
 ],
 "metadata": {
  "kernelspec": {
   "display_name": "Python 3 (ipykernel)",
   "language": "python",
   "name": "python3"
  },
  "language_info": {
   "codemirror_mode": {
    "name": "ipython",
    "version": 3
   },
   "file_extension": ".py",
   "mimetype": "text/x-python",
   "name": "python",
   "nbconvert_exporter": "python",
   "pygments_lexer": "ipython3",
   "version": "3.12.5"
  }
 },
 "nbformat": 4,
 "nbformat_minor": 4
}
