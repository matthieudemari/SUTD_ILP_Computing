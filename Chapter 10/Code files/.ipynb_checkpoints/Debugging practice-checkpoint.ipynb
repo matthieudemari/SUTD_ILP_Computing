{
 "cells": [
  {
   "cell_type": "markdown",
   "metadata": {},
   "source": [
    "# Debugging practice"
   ]
  },
  {
   "cell_type": "markdown",
   "metadata": {},
   "source": [
    "### 1"
   ]
  },
  {
   "cell_type": "code",
   "execution_count": 1,
   "metadata": {},
   "outputs": [
    {
     "ename": "TypeError",
     "evalue": "can only concatenate str (not \"int\") to str",
     "output_type": "error",
     "traceback": [
      "\u001b[1;31m---------------------------------------------------------------------------\u001b[0m",
      "\u001b[1;31mTypeError\u001b[0m                                 Traceback (most recent call last)",
      "Cell \u001b[1;32mIn[1], line 5\u001b[0m\n\u001b[0;32m      3\u001b[0m add_1_list \u001b[38;5;241m=\u001b[39m []\n\u001b[0;32m      4\u001b[0m \u001b[38;5;28;01mfor\u001b[39;00m number \u001b[38;5;129;01min\u001b[39;00m list_numbers:\n\u001b[1;32m----> 5\u001b[0m     val \u001b[38;5;241m=\u001b[39m \u001b[43mnumber\u001b[49m\u001b[43m \u001b[49m\u001b[38;5;241;43m+\u001b[39;49m\u001b[43m \u001b[49m\u001b[38;5;241;43m1\u001b[39;49m\n\u001b[0;32m      6\u001b[0m     add_1_list\u001b[38;5;241m.\u001b[39mappend(val)\n\u001b[0;32m      7\u001b[0m \u001b[38;5;28mprint\u001b[39m(add_1_list)\n",
      "\u001b[1;31mTypeError\u001b[0m: can only concatenate str (not \"int\") to str"
     ]
    }
   ],
   "source": [
    "# Add 1 to all numbers in list_numbers\n",
    "list_numbers = [\"0\", \"1\", \"2\", \"3\"]\n",
    "add_1_list = []\n",
    "for number in list_numbers:\n",
    "    val = number + 1\n",
    "    add_1_list.append(val)\n",
    "print(add_1_list)"
   ]
  },
  {
   "cell_type": "code",
   "execution_count": 3,
   "metadata": {},
   "outputs": [
    {
     "name": "stdout",
     "output_type": "stream",
     "text": [
      "['1', '2', '3', '4']\n"
     ]
    }
   ],
   "source": [
    "# Add 1 to all numbers in list_numbers\n",
    "# A possible fix below, but can you figure out different ways to fix the function?\n",
    "list_numbers = [\"0\", \"1\", \"2\", \"3\"]\n",
    "add_1_list = []\n",
    "for number in list_numbers:\n",
    "    val = int(number) + 1\n",
    "    add_1_list.append(str(val))\n",
    "print(add_1_list)"
   ]
  },
  {
   "cell_type": "markdown",
   "metadata": {},
   "source": [
    "### 2"
   ]
  },
  {
   "cell_type": "code",
   "execution_count": 2,
   "metadata": {},
   "outputs": [
    {
     "name": "stdout",
     "output_type": "stream",
     "text": [
      "-------------------------\n",
      "2\n",
      "-------------------------\n",
      "2\n",
      "-------------------------\n",
      "4\n",
      "-------------------------\n",
      "6\n",
      "-------------------------\n",
      "9\n",
      "[2, 3, 5, 6, 9]\n"
     ]
    }
   ],
   "source": [
    "def function(list):\n",
    "    # This function should remove all even values from the list, but it does not?\n",
    "    for i in list:\n",
    "        print(\"-------------------------\")\n",
    "        print(i)\n",
    "        if(i % 2 == 0):\n",
    "            list.remove(i)\n",
    "    return list\n",
    "\n",
    "mylist2=[2,2,2,3,4,5,6,6,9]\n",
    "function(mylist2)\n",
    "print(mylist2)"
   ]
  },
  {
   "cell_type": "markdown",
   "metadata": {},
   "source": [
    "### 3"
   ]
  },
  {
   "cell_type": "code",
   "execution_count": 5,
   "metadata": {},
   "outputs": [
    {
     "name": "stdout",
     "output_type": "stream",
     "text": [
      "<function my_function at 0x0000029BAA3BBCE0>\n"
     ]
    }
   ],
   "source": [
    "# Ask user for name and create custom welcome message\n",
    "def my_function():\n",
    "    name = input(\"What is your name?: \")\n",
    "    welcome_message = \"Hello {} and welcome to SUTD.\".format(name)\n",
    "    return welcome_message\n",
    "\n",
    "# Function does not work?!\n",
    "print(my_function)"
   ]
  },
  {
   "cell_type": "markdown",
   "metadata": {},
   "source": [
    "### 4"
   ]
  },
  {
   "cell_type": "code",
   "execution_count": 6,
   "metadata": {},
   "outputs": [
    {
     "name": "stdout",
     "output_type": "stream",
     "text": [
      "True\n"
     ]
    }
   ],
   "source": [
    "# Find if value appears in my_list\n",
    "def find_value_in_list(my_list, value):\n",
    "    found = False\n",
    "    for value in my_list:\n",
    "        if value == value:\n",
    "            return True\n",
    "    return False\n",
    "\n",
    "my_list = [1,3,5,7,9]\n",
    "value = 4\n",
    "# 4 is not in my_list, why does it return True?\n",
    "print(find_value_in_list(my_list, value))"
   ]
  },
  {
   "cell_type": "markdown",
   "metadata": {},
   "source": [
    "### 5 (ignore it for now, very challenging, try the other activities first!)"
   ]
  },
  {
   "cell_type": "code",
   "execution_count": null,
   "metadata": {},
   "outputs": [],
   "source": [
    "# List sorting refers to the concept of sorting elements of a list in ascending order\n",
    "my_list = [2,7,9,1,4,5]\n",
    "print(sorted(my_list))"
   ]
  },
  {
   "cell_type": "code",
   "execution_count": null,
   "metadata": {
    "scrolled": true
   },
   "outputs": [],
   "source": [
    "# Our custom list sorting procedure has an infinite loop, why?\n",
    "# How to fix it?\n",
    "def list_sorting(my_list):\n",
    "    changed_value = True\n",
    "    while(changed_value):\n",
    "        for index, value in enumerate(my_list[:-1]):\n",
    "            if value > my_list[index + 1]:\n",
    "                my_list[index], my_list[index + 1] = my_list[index + 1], my_list[index]\n",
    "                changed_value = True\n",
    "    return my_list\n",
    "print(list_sorting(my_list))"
   ]
  },
  {
   "cell_type": "markdown",
   "metadata": {},
   "source": [
    "### 6"
   ]
  },
  {
   "cell_type": "code",
   "execution_count": 7,
   "metadata": {},
   "outputs": [
    {
     "ename": "SyntaxError",
     "evalue": "invalid decimal literal (1610637889.py, line 3)",
     "output_type": "error",
     "traceback": [
      "\u001b[1;36m  Cell \u001b[1;32mIn[7], line 3\u001b[1;36m\u001b[0m\n\u001b[1;33m    10_times_number = 10*number\u001b[0m\n\u001b[1;37m      ^\u001b[0m\n\u001b[1;31mSyntaxError\u001b[0m\u001b[1;31m:\u001b[0m invalid decimal literal\n"
     ]
    }
   ],
   "source": [
    "# Multiply a given number by 10\n",
    "def multiply_by_10(number):\n",
    "    10_times_number = 10*number\n",
    "    return 10_times_number\n",
    "\n",
    "number = 5\n",
    "print(multiply_by_10(number))"
   ]
  },
  {
   "cell_type": "markdown",
   "metadata": {},
   "source": [
    "### 7"
   ]
  },
  {
   "cell_type": "code",
   "execution_count": 8,
   "metadata": {},
   "outputs": [
    {
     "ename": "IndentationError",
     "evalue": "expected an indented block after 'else' statement on line 5 (4052998470.py, line 6)",
     "output_type": "error",
     "traceback": [
      "\u001b[1;36m  Cell \u001b[1;32mIn[8], line 6\u001b[1;36m\u001b[0m\n\u001b[1;33m    return False\u001b[0m\n\u001b[1;37m    ^\u001b[0m\n\u001b[1;31mIndentationError\u001b[0m\u001b[1;31m:\u001b[0m expected an indented block after 'else' statement on line 5\n"
     ]
    }
   ],
   "source": [
    "# Check for valid rank name\n",
    "def is_valid_rank(user_rank):\n",
    "    if(user_rank == \"Soldier\" or user_rank == \"Captain\" or user_rank == \"General\"):\n",
    "        return True\n",
    "    else:\n",
    "    return False\n",
    "\n",
    "user_rank = \"Major\"\n",
    "print(is_valid_rank(user_rank))"
   ]
  },
  {
   "cell_type": "markdown",
   "metadata": {},
   "source": [
    "### 8"
   ]
  },
  {
   "cell_type": "code",
   "execution_count": 9,
   "metadata": {},
   "outputs": [
    {
     "ename": "IndentationError",
     "evalue": "unexpected indent (2590807889.py, line 6)",
     "output_type": "error",
     "traceback": [
      "\u001b[1;36m  Cell \u001b[1;32mIn[9], line 6\u001b[1;36m\u001b[0m\n\u001b[1;33m    if(user_class == \"First\" or user_class == \"Second\"):\u001b[0m\n\u001b[1;37m    ^\u001b[0m\n\u001b[1;31mIndentationError\u001b[0m\u001b[1;31m:\u001b[0m unexpected indent\n"
     ]
    }
   ],
   "source": [
    "# Check for valid rank name\n",
    "# If soldier, check for first or second class\n",
    "def is_valid_rank(user_rank, user_class):\n",
    "    if(user_rank == \"Soldier\"):\n",
    "        print(\"Soldier rank detected, checking for class.\")    \n",
    "            if(user_class == \"First\" or user_class == \"Second\"):\n",
    "                return True\n",
    "    elif(user_rank == \"Captain\" or user_rank == \"General\"):\n",
    "        return True\n",
    "    else:\n",
    "            return False\n",
    "\n",
    "user_rank = \"Soldier\"\n",
    "user_class = \"First\"\n",
    "print(is_valid_rank(user_rank, user_class))"
   ]
  },
  {
   "cell_type": "markdown",
   "metadata": {},
   "source": [
    "### 9"
   ]
  },
  {
   "cell_type": "code",
   "execution_count": 10,
   "metadata": {},
   "outputs": [
    {
     "ename": "SyntaxError",
     "evalue": "expected ':' (1748219577.py, line 4)",
     "output_type": "error",
     "traceback": [
      "\u001b[1;36m  Cell \u001b[1;32mIn[10], line 4\u001b[1;36m\u001b[0m\n\u001b[1;33m    for element in my_list\u001b[0m\n\u001b[1;37m                          ^\u001b[0m\n\u001b[1;31mSyntaxError\u001b[0m\u001b[1;31m:\u001b[0m expected ':'\n"
     ]
    }
   ],
   "source": [
    "# Sum all numbers in a given list\n",
    "def sum_elements_list(my_list):\n",
    "    sum_value = 0\n",
    "    for element in my_list\n",
    "        sum_value += element\n",
    "    return sum_value\n",
    "\n",
    "my_list = [1,2,3,4]\n",
    "print(sum_elements_list(my_list))"
   ]
  },
  {
   "cell_type": "markdown",
   "metadata": {},
   "source": [
    "### 10"
   ]
  },
  {
   "cell_type": "code",
   "execution_count": 11,
   "metadata": {},
   "outputs": [
    {
     "ename": "NameError",
     "evalue": "name 'new_list' is not defined",
     "output_type": "error",
     "traceback": [
      "\u001b[1;31m---------------------------------------------------------------------------\u001b[0m",
      "\u001b[1;31mNameError\u001b[0m                                 Traceback (most recent call last)",
      "Cell \u001b[1;32mIn[11], line 9\u001b[0m\n\u001b[0;32m      6\u001b[0m     \u001b[38;5;28;01mreturn\u001b[39;00m new_list\n\u001b[0;32m      8\u001b[0m my_list \u001b[38;5;241m=\u001b[39m [\u001b[38;5;241m1\u001b[39m,\u001b[38;5;241m2\u001b[39m,\u001b[38;5;241m3\u001b[39m,\u001b[38;5;241m4\u001b[39m]\n\u001b[1;32m----> 9\u001b[0m \u001b[38;5;28mprint\u001b[39m(\u001b[43madd_1_to_list\u001b[49m\u001b[43m(\u001b[49m\u001b[43mmy_list\u001b[49m\u001b[43m)\u001b[49m)\n",
      "Cell \u001b[1;32mIn[11], line 5\u001b[0m, in \u001b[0;36madd_1_to_list\u001b[1;34m(my_list)\u001b[0m\n\u001b[0;32m      3\u001b[0m \u001b[38;5;28;01mfor\u001b[39;00m value \u001b[38;5;129;01min\u001b[39;00m my_list:\n\u001b[0;32m      4\u001b[0m     new_value \u001b[38;5;241m=\u001b[39m value \u001b[38;5;241m+\u001b[39m \u001b[38;5;241m1\u001b[39m\n\u001b[1;32m----> 5\u001b[0m     \u001b[43mnew_list\u001b[49m\u001b[38;5;241m.\u001b[39mappend(new_value)\n\u001b[0;32m      6\u001b[0m \u001b[38;5;28;01mreturn\u001b[39;00m new_list\n",
      "\u001b[1;31mNameError\u001b[0m: name 'new_list' is not defined"
     ]
    }
   ],
   "source": [
    "# Add 1 to each number in list\n",
    "def add_1_to_list(my_list):\n",
    "    for value in my_list:\n",
    "        new_value = value + 1\n",
    "        new_list.append(new_value)\n",
    "    return new_list\n",
    "\n",
    "my_list = [1,2,3,4]\n",
    "print(add_1_to_list(my_list))"
   ]
  },
  {
   "cell_type": "markdown",
   "metadata": {},
   "source": [
    "### 11"
   ]
  },
  {
   "cell_type": "code",
   "execution_count": null,
   "metadata": {},
   "outputs": [],
   "source": [
    "# Sorting numerical values with sorted\n",
    "# It only works on lists though.\n",
    "my_list = [4,8,9,5,7]\n",
    "print(sorted(my_list))"
   ]
  },
  {
   "cell_type": "code",
   "execution_count": null,
   "metadata": {},
   "outputs": [],
   "source": [
    "# Converting a string to a list, give a list of all characters\n",
    "number = \"153284\"\n",
    "print(sorted(number))"
   ]
  },
  {
   "cell_type": "code",
   "execution_count": null,
   "metadata": {},
   "outputs": [],
   "source": [
    "# Sorting digits in number using sorted\n",
    "def sort_digits_number(number):\n",
    "    return sorted(number)\n",
    "\n",
    "number = \"153284\"\n",
    "print(sort_digits_number(number))\n",
    "# Modify the function above to obtain the\n",
    "# string below as a result instead of a list of digits as strings!\n",
    "result = \"123458\""
   ]
  },
  {
   "cell_type": "markdown",
   "metadata": {},
   "source": [
    "### 12"
   ]
  },
  {
   "cell_type": "code",
   "execution_count": null,
   "metadata": {},
   "outputs": [],
   "source": [
    "# Add a number to all the numbers in a list\n",
    "def add_number_to_list(my_list, number):\n",
    "    new_list = []\n",
    "    for element in my_list:\n",
    "        new_list.append(element + number)\n",
    "    return new_list\n",
    "\n",
    "my_list = [1,2,3,4]\n",
    "number = 5\n",
    "print(add_number_to_list())"
   ]
  },
  {
   "cell_type": "markdown",
   "metadata": {},
   "source": [
    "### 13"
   ]
  },
  {
   "cell_type": "code",
   "execution_count": null,
   "metadata": {},
   "outputs": [],
   "source": [
    "# Check if dead or alive\n",
    "def check_status(status):\n",
    "    if(status == \"Dead\" or \"Alive\"):\n",
    "        return True\n",
    "    else:\n",
    "        return False\n",
    "\n",
    "# Why is it True?!\n",
    "status = \"Half-dead\"\n",
    "print(check_status(status))"
   ]
  },
  {
   "cell_type": "markdown",
   "metadata": {},
   "source": [
    "### 14"
   ]
  },
  {
   "cell_type": "code",
   "execution_count": null,
   "metadata": {},
   "outputs": [],
   "source": [
    "def counting_to(number):\n",
    "    x = 0\n",
    "    While(x < number):\n",
    "        x += 1\n",
    "        print(x)\n",
    "\n",
    "number = 10\n",
    "counting_to(number)"
   ]
  },
  {
   "cell_type": "markdown",
   "metadata": {},
   "source": [
    "### 15"
   ]
  },
  {
   "cell_type": "code",
   "execution_count": null,
   "metadata": {},
   "outputs": [],
   "source": [
    "# Grade to letter conversion\n",
    "def grade_convert(grade):\n",
    "    if grade >= 50:\n",
    "        return \"D\"\n",
    "    elif grade >= 65:\n",
    "        return \"C\"\n",
    "    elif grade >= 80:\n",
    "        return \"B\"\n",
    "    elif grade >= 90:\n",
    "        return \"A\"\n",
    "    else:\n",
    "        return \"E\"\n",
    "\n",
    "# Why D?\n",
    "grade = 95\n",
    "print(grade_convert(grade))"
   ]
  },
  {
   "cell_type": "markdown",
   "metadata": {},
   "source": [
    "### 16"
   ]
  },
  {
   "cell_type": "code",
   "execution_count": null,
   "metadata": {},
   "outputs": [],
   "source": [
    "# Guess the number\n",
    "def guess_number(number, hidden_number):\n",
    "    if(number = hidden_number):\n",
    "        print(\"You won!\")\n",
    "    else:\n",
    "        print(\"Try again with a different number!\")"
   ]
  },
  {
   "cell_type": "markdown",
   "metadata": {},
   "source": [
    "### 17"
   ]
  },
  {
   "cell_type": "code",
   "execution_count": null,
   "metadata": {},
   "outputs": [],
   "source": [
    "# Guess the number\n",
    "pi = 3.14\n",
    "def compute_area(radius):\n",
    "    area = pi*radius*radius\n",
    "    return area\n",
    "        \n",
    "# It works but is it really a good design?\n",
    "radius = 10\n",
    "print(compute_area(radius))"
   ]
  },
  {
   "cell_type": "markdown",
   "metadata": {},
   "source": [
    "### 18"
   ]
  },
  {
   "cell_type": "code",
   "execution_count": null,
   "metadata": {},
   "outputs": [],
   "source": [
    "# Guess the number\n",
    "def guess_number(number, hidden_number):\n",
    "    if(number == hidden_number):\n",
    "        print(True)\n",
    "    else:\n",
    "        print(False)\n",
    "        \n",
    "# Why does an extra None appear?\n",
    "print(guess_number(4, 6))"
   ]
  },
  {
   "cell_type": "markdown",
   "metadata": {},
   "source": [
    "### 19"
   ]
  },
  {
   "cell_type": "code",
   "execution_count": null,
   "metadata": {},
   "outputs": [],
   "source": [
    "# Get first two elements\n",
    "def return_first_two_element(my_list):\n",
    "    return my_list[1], my_list[2]\n",
    "\n",
    "# Why not correct?\n",
    "my_list = [5,7,9,8,4]\n",
    "first, second = return_first_two_element(my_list)\n",
    "print(first)\n",
    "print(second)"
   ]
  },
  {
   "cell_type": "markdown",
   "metadata": {},
   "source": [
    "### 20\n",
    "\n",
    "Vladimir designed the following code and asked you to debug it.\n",
    "\n",
    "We're not quite sure what he was trying to do, but let's try our best to make his code work!"
   ]
  },
  {
   "cell_type": "code",
   "execution_count": null,
   "metadata": {},
   "outputs": [],
   "source": [
    "# Vladimir’s wrong program\n",
    "def Vladimirs_function():\n",
    "    str = input(\"Please enter your name: \")\n",
    "    age = input(\"Please enter your age: \")\n",
    "    ListVlad = [] \n",
    "    k=0\n",
    "    while k < len(str)\n",
    "        ListVlad.append(k*age)\n",
    "        if int(sum(ListVlad)/len(ListVlad))%3 = 0:\n",
    "            print(\"Your name and \" + str(age) + \" made you lose!\")\n",
    "            else:\n",
    "            print(\"You win \" + ListVlad[k] + \" dollars.\")\n",
    "\n",
    "# Testing\n",
    "Vladimirs_function()"
   ]
  },
  {
   "cell_type": "code",
   "execution_count": null,
   "metadata": {},
   "outputs": [],
   "source": []
  }
 ],
 "metadata": {
  "kernelspec": {
   "display_name": "Python 3 (ipykernel)",
   "language": "python",
   "name": "python3"
  },
  "language_info": {
   "codemirror_mode": {
    "name": "ipython",
    "version": 3
   },
   "file_extension": ".py",
   "mimetype": "text/x-python",
   "name": "python",
   "nbconvert_exporter": "python",
   "pygments_lexer": "ipython3",
   "version": "3.13.1"
  }
 },
 "nbformat": 4,
 "nbformat_minor": 4
}
