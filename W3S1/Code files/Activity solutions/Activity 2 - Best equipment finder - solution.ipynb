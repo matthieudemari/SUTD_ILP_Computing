{
 "cells": [
  {
   "cell_type": "markdown",
   "metadata": {},
   "source": [
    "# Activity 2 - Best equipment finder - solution"
   ]
  },
  {
   "cell_type": "markdown",
   "metadata": {},
   "source": [
    "Let us define an inventory list, below, which contains a list of weapons that our character has acquired during gameplay."
   ]
  },
  {
   "cell_type": "code",
   "execution_count": null,
   "metadata": {},
   "outputs": [],
   "source": [
    "inventory = [\"Dull Sword\", \"Wooden Branch\", \"Master Sword\", \"Iron Sword\", \"Silver Sword\"]"
   ]
  },
  {
   "cell_type": "markdown",
   "metadata": {},
   "source": [
    "Let us also consider we have been given a second list, which contains the attack points for each weapon currently in inventory, in order:"
   ]
  },
  {
   "cell_type": "code",
   "execution_count": 1,
   "metadata": {},
   "outputs": [],
   "source": [
    "weapon_stats = [1, 1, 10, 5, 8]"
   ]
  },
  {
   "cell_type": "markdown",
   "metadata": {},
   "source": [
    "### Task\n",
    "\n",
    "Write a function **maximal_attack_points()**, which\n",
    "- receives the *weapon_stats* list as its only parameter,\n",
    "- and returns the maximal attack points we would have if we were to equip the best weapon currently in inventory."
   ]
  },
  {
   "cell_type": "markdown",
   "metadata": {},
   "source": [
    "### Note\n",
    "\n",
    "In practice, this is something easily done with the *max()* function in Python, as shown below."
   ]
  },
  {
   "cell_type": "code",
   "execution_count": null,
   "metadata": {},
   "outputs": [],
   "source": [
    "print(max(weapon_stats))"
   ]
  },
  {
   "cell_type": "markdown",
   "metadata": {},
   "source": [
    "However, let us try to design our function, **without** using the *max()* function from Python!"
   ]
  },
  {
   "cell_type": "markdown",
   "metadata": {},
   "source": [
    "### Your code below!"
   ]
  },
  {
   "cell_type": "code",
   "execution_count": 2,
   "metadata": {},
   "outputs": [],
   "source": [
    "def maximal_attack_points(weapon_stats):\n",
    "    # Initialize current maximum candidate to zero.\n",
    "    maximum_value = 0\n",
    "    for weapon_attack_points in weapon_stats:\n",
    "        # If it is larger than the current maximal value, it becomes the new maximum.\n",
    "        if weapon_attack_points > maximum_value:\n",
    "            maximum_value = weapon_attack_points\n",
    "    # Once for loop is complete, return maximum_value \n",
    "    return maximum_value"
   ]
  },
  {
   "cell_type": "markdown",
   "metadata": {},
   "source": [
    "### Expected results"
   ]
  },
  {
   "cell_type": "code",
   "execution_count": 3,
   "metadata": {},
   "outputs": [
    {
     "name": "stdout",
     "output_type": "stream",
     "text": [
      "10\n"
     ]
    }
   ],
   "source": [
    "# This should print 10, as the maximal attack value is 10.\n",
    "weapon_stats = [1, 1, 10, 5, 8]\n",
    "print(maximal_attack_points(weapon_stats))"
   ]
  },
  {
   "cell_type": "code",
   "execution_count": 4,
   "metadata": {},
   "outputs": [
    {
     "name": "stdout",
     "output_type": "stream",
     "text": [
      "0\n"
     ]
    }
   ],
   "source": [
    "# If your hero has no weapons yet (i.e. the weapon_stats2 is empty), the returned attack value should be 0.\n",
    "weapon_stats2 = []\n",
    "# This should print zero, as weapon_stats2 is empty.\n",
    "print(maximal_attack_points(weapon_stats2))"
   ]
  },
  {
   "cell_type": "code",
   "execution_count": 5,
   "metadata": {},
   "outputs": [
    {
     "name": "stdout",
     "output_type": "stream",
     "text": [
      "22\n"
     ]
    }
   ],
   "source": [
    "# If your hero has an inventory of a different size, it should still work.\n",
    "# And it should still work, even if the maximal value appears twice.\n",
    "weapon_stats3 = [1, 1, 2, 4, 18, 22, 17, 22, 19, 14]\n",
    "# This should print 22.\n",
    "print(maximal_attack_points(weapon_stats3))"
   ]
  },
  {
   "cell_type": "code",
   "execution_count": null,
   "metadata": {},
   "outputs": [],
   "source": []
  }
 ],
 "metadata": {
  "kernelspec": {
   "display_name": "Python 3",
   "language": "python",
   "name": "python3"
  },
  "language_info": {
   "codemirror_mode": {
    "name": "ipython",
    "version": 3
   },
   "file_extension": ".py",
   "mimetype": "text/x-python",
   "name": "python",
   "nbconvert_exporter": "python",
   "pygments_lexer": "ipython3",
   "version": "3.9.6"
  }
 },
 "nbformat": 4,
 "nbformat_minor": 4
}
