{
 "cells": [
  {
   "cell_type": "markdown",
   "metadata": {},
   "source": [
    "# Activity 3 - Best equipment finder v2 - solution"
   ]
  },
  {
   "cell_type": "markdown",
   "metadata": {},
   "source": [
    "Let us define an inventory list, below, which contains a list of weapons that our character has acquired during gameplay."
   ]
  },
  {
   "cell_type": "code",
   "execution_count": 8,
   "metadata": {},
   "outputs": [],
   "source": [
    "inventory = [\"Dull Sword\", \"Wooden Branch\", \"Master Sword\", \"Iron Sword\", \"Silver Sword\"]"
   ]
  },
  {
   "cell_type": "markdown",
   "metadata": {},
   "source": [
    "Let us also consider we have been given a second list, which contains the attack points for each weapon currently in inventory, in order:"
   ]
  },
  {
   "cell_type": "code",
   "execution_count": 9,
   "metadata": {},
   "outputs": [],
   "source": [
    "weapon_stats = [1, 1, 10, 5, 8]"
   ]
  },
  {
   "cell_type": "markdown",
   "metadata": {},
   "source": [
    "### Task\n",
    "\n",
    "Write a function **maximal_attack_points_v2()**, which\n",
    "- receives the *inventory* list as its first parameter,\n",
    "- receives the *weapon_stats* list as its second parameter,\n",
    "- returns as its first parameter, the maximal attack points we would have if we were to equip the best weapon currently in inventory,\n",
    "- and returns as second parameter, the name of the best weapon, which should be equipped."
   ]
  },
  {
   "cell_type": "markdown",
   "metadata": {},
   "source": [
    "### Note\n",
    "\n",
    "As in Activity 2, let us try to design our function, **without** using the max() function from Python!"
   ]
  },
  {
   "cell_type": "markdown",
   "metadata": {},
   "source": [
    "### Your code below!"
   ]
  },
  {
   "cell_type": "code",
   "execution_count": 3,
   "metadata": {},
   "outputs": [],
   "source": [
    "def maximal_attack_points_v2(inventory, weapon_stats):\n",
    "    # Initialize current maximum candidate to zero.\n",
    "    maximum_value = 0\n",
    "    # Initialize best weapon as None (currently not defined).\n",
    "    best_weapon = None\n",
    "    for weapon, weapon_attack_points in zip(inventory, weapon_stats):\n",
    "        # If it is larger than the current maximal value,\n",
    "        # it becomes the new best weapon and maximum to beat.\n",
    "        if weapon_attack_points > maximum_value:\n",
    "            maximum_value = weapon_attack_points\n",
    "            best_weapon = weapon\n",
    "    # Once for loop is complete, return maximum_value and best_weapon\n",
    "    return maximum_value, best_weapon"
   ]
  },
  {
   "cell_type": "markdown",
   "metadata": {},
   "source": [
    "### Expected results"
   ]
  },
  {
   "cell_type": "code",
   "execution_count": 35,
   "metadata": {},
   "outputs": [
    {
     "name": "stdout",
     "output_type": "stream",
     "text": [
      "10\n",
      "Wooden Branch\n"
     ]
    }
   ],
   "source": [
    "inventory = [\"Dull Sword\", \"Wooden Branch\", \"Master Sword\", \"Iron Sword\", \"Silver Sword\"]\n",
    "weapon_stats = [1, 1, 10, 5, 8]\n",
    "maximum_value, best_weapon = maximal_attack_points_v2(inventory, weapon_stats)\n",
    "\n",
    "# This should print 10, as the maximal attack value is 10.\n",
    "print(maximum_value)\n",
    "# This should print \"Master Sword\", as this is the weapon with the maximal value.\n",
    "print(best_weapon)"
   ]
  },
  {
   "cell_type": "code",
   "execution_count": 36,
   "metadata": {},
   "outputs": [
    {
     "ename": "ValueError",
     "evalue": "0 is not in list",
     "output_type": "error",
     "traceback": [
      "\u001b[1;31m---------------------------------------------------------------------------\u001b[0m",
      "\u001b[1;31mValueError\u001b[0m                                Traceback (most recent call last)",
      "\u001b[1;32m<ipython-input-36-53d97785e09a>\u001b[0m in \u001b[0;36m<module>\u001b[1;34m\u001b[0m\n\u001b[0;32m      2\u001b[0m \u001b[0minventory2\u001b[0m \u001b[1;33m=\u001b[0m \u001b[1;33m[\u001b[0m\u001b[1;33m]\u001b[0m\u001b[1;33m\u001b[0m\u001b[1;33m\u001b[0m\u001b[0m\n\u001b[0;32m      3\u001b[0m \u001b[0mweapon_stats2\u001b[0m \u001b[1;33m=\u001b[0m \u001b[1;33m[\u001b[0m\u001b[1;33m]\u001b[0m\u001b[1;33m\u001b[0m\u001b[1;33m\u001b[0m\u001b[0m\n\u001b[1;32m----> 4\u001b[1;33m \u001b[0mmaximum_value\u001b[0m\u001b[1;33m,\u001b[0m \u001b[0mbest_weapon\u001b[0m \u001b[1;33m=\u001b[0m \u001b[0mmaximal_attack_points_v2\u001b[0m\u001b[1;33m(\u001b[0m\u001b[0minventory2\u001b[0m\u001b[1;33m,\u001b[0m \u001b[0mweapon_stats2\u001b[0m\u001b[1;33m)\u001b[0m\u001b[1;33m\u001b[0m\u001b[1;33m\u001b[0m\u001b[0m\n\u001b[0m\u001b[0;32m      5\u001b[0m \u001b[1;33m\u001b[0m\u001b[0m\n\u001b[0;32m      6\u001b[0m \u001b[1;31m# This should print zero, as weapon_stats2 is empty.\u001b[0m\u001b[1;33m\u001b[0m\u001b[1;33m\u001b[0m\u001b[1;33m\u001b[0m\u001b[0m\n",
      "\u001b[1;32m<ipython-input-34-5b4daf62c03d>\u001b[0m in \u001b[0;36mmaximal_attack_points_v2\u001b[1;34m(inventory, weapon_stats)\u001b[0m\n\u001b[0;32m      1\u001b[0m \u001b[1;32mdef\u001b[0m \u001b[0mmaximal_attack_points_v2\u001b[0m\u001b[1;33m(\u001b[0m\u001b[0minventory\u001b[0m\u001b[1;33m,\u001b[0m \u001b[0mweapon_stats\u001b[0m\u001b[1;33m)\u001b[0m\u001b[1;33m:\u001b[0m\u001b[1;33m\u001b[0m\u001b[1;33m\u001b[0m\u001b[0m\n\u001b[0;32m      2\u001b[0m     \u001b[0minv2\u001b[0m \u001b[1;33m=\u001b[0m \u001b[1;33m[\u001b[0m\u001b[1;32mNone\u001b[0m\u001b[1;33m]\u001b[0m \u001b[1;33m+\u001b[0m \u001b[0minventory\u001b[0m\u001b[1;33m\u001b[0m\u001b[1;33m\u001b[0m\u001b[0m\n\u001b[1;32m----> 3\u001b[1;33m     \u001b[1;32mreturn\u001b[0m \u001b[0mmax\u001b[0m\u001b[1;33m(\u001b[0m\u001b[1;33m[\u001b[0m\u001b[1;36m0\u001b[0m\u001b[1;33m]\u001b[0m \u001b[1;33m+\u001b[0m \u001b[0mweapon_stats\u001b[0m\u001b[1;33m)\u001b[0m\u001b[1;33m,\u001b[0m \u001b[0minv2\u001b[0m\u001b[1;33m[\u001b[0m\u001b[0mweapon_stats\u001b[0m\u001b[1;33m.\u001b[0m\u001b[0mindex\u001b[0m\u001b[1;33m(\u001b[0m\u001b[0mmax\u001b[0m\u001b[1;33m(\u001b[0m\u001b[1;33m[\u001b[0m\u001b[1;36m0\u001b[0m\u001b[1;33m]\u001b[0m \u001b[1;33m+\u001b[0m \u001b[0mweapon_stats\u001b[0m\u001b[1;33m)\u001b[0m\u001b[1;33m)\u001b[0m\u001b[1;33m]\u001b[0m\u001b[1;33m\u001b[0m\u001b[1;33m\u001b[0m\u001b[0m\n\u001b[0m",
      "\u001b[1;31mValueError\u001b[0m: 0 is not in list"
     ]
    }
   ],
   "source": [
    "# If your hero has no weapons yet (i.e. the weapon_stats2 is empty), it should still work\n",
    "inventory2 = []\n",
    "weapon_stats2 = []\n",
    "maximum_value, best_weapon = maximal_attack_points_v2(inventory2, weapon_stats2)\n",
    "\n",
    "# This should print zero, as weapon_stats2 is empty.\n",
    "print(maximum_value)\n",
    "# This should print None, as our inventory is empty.\n",
    "print(best_weapon)"
   ]
  },
  {
   "cell_type": "code",
   "execution_count": 37,
   "metadata": {},
   "outputs": [
    {
     "name": "stdout",
     "output_type": "stream",
     "text": [
      "22\n",
      "Dull Sword\n"
     ]
    }
   ],
   "source": [
    "# If your hero has an inventory of a different size, it should still work.\n",
    "# And it should still work, even if the maximal value appears twice.\n",
    "inventory3 = [\"Big Stone\", \"Wooden Branch\", \"Dull Sword\", \"Silver Sword\", \"Iron Sword\", \"Silver Sword\"]\n",
    "weapon_stats3 = [1, 1, 2, 22, 17, 22]\n",
    "maximum_value, best_weapon = maximal_attack_points_v2(inventory3, weapon_stats3)\n",
    "# This should print 22.\n",
    "print(maximum_value)\n",
    "# This should print Silver Sword.\n",
    "print(best_weapon)"
   ]
  },
  {
   "cell_type": "code",
   "execution_count": null,
   "metadata": {},
   "outputs": [],
   "source": []
  }
 ],
 "metadata": {
  "kernelspec": {
   "display_name": "Python 3",
   "language": "python",
   "name": "python3"
  },
  "language_info": {
   "codemirror_mode": {
    "name": "ipython",
    "version": 3
   },
   "file_extension": ".py",
   "mimetype": "text/x-python",
   "name": "python",
   "nbconvert_exporter": "python",
   "pygments_lexer": "ipython3",
   "version": "3.9.6"
  }
 },
 "nbformat": 4,
 "nbformat_minor": 4
}
