{
 "cells": [
  {
   "cell_type": "markdown",
   "metadata": {},
   "source": [
    "# Activity 4+ - Create password from a sentence\n",
    "\n",
    "### Task\n",
    "\n",
    "Modify the function **generate_password()** from activity 4, so that it takes into account special characters and adds them in place.\n",
    "\n",
    "For instance, the passphrase \"What is better? To be born good or to overcome your evil nature through great effort?\" should give the password W4i2b6?T2b2b4g4o2t2o8y4e4n6t7g5e6?. (Notice how we have added ? symbols here)"
   ]
  },
  {
   "cell_type": "code",
   "execution_count": 6,
   "metadata": {},
   "outputs": [],
   "source": [
    "def generate_password(passphrase):\n",
    "    password = None\n",
    "    return password"
   ]
  },
  {
   "cell_type": "code",
   "execution_count": 7,
   "metadata": {},
   "outputs": [
    {
     "name": "stdout",
     "output_type": "stream",
     "text": [
      "W4i2b6?T2b2b4g4o2t2o8y4e4n6t7g5e6?\n"
     ]
    }
   ],
   "source": [
    "# Test case : \"What is better? To be born good or to overcome your evil nature through great effort?\"\n",
    "passphrase = \"What is better? To be born good or to overcome your evil nature through great effort?\"\n",
    "password = generate_password(passphrase)\n",
    "# This should print W4i2b6?T2b2b4g4o2t2o8y4e4n6t7g5e6?\n",
    "print(password)"
   ]
  },
  {
   "cell_type": "code",
   "execution_count": null,
   "metadata": {},
   "outputs": [],
   "source": []
  }
 ],
 "metadata": {
  "kernelspec": {
   "display_name": "Python 3",
   "language": "python",
   "name": "python3"
  },
  "language_info": {
   "codemirror_mode": {
    "name": "ipython",
    "version": 3
   },
   "file_extension": ".py",
   "mimetype": "text/x-python",
   "name": "python",
   "nbconvert_exporter": "python",
   "pygments_lexer": "ipython3",
   "version": "3.8.3"
  }
 },
 "nbformat": 4,
 "nbformat_minor": 4
}
