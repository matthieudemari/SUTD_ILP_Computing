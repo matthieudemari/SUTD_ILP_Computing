{
 "cells": [
  {
   "cell_type": "code",
   "execution_count": 12,
   "id": "24cf3813",
   "metadata": {},
   "outputs": [
    {
     "ename": "SyntaxError",
     "evalue": "invalid syntax (<ipython-input-12-6bb329ea4724>, line 1)",
     "output_type": "error",
     "traceback": [
      "\u001b[1;36m  File \u001b[1;32m\"<ipython-input-12-6bb329ea4724>\"\u001b[1;36m, line \u001b[1;32m1\u001b[0m\n\u001b[1;33m    she_said = \"And then she said: \"Hello\"\"\u001b[0m\n\u001b[1;37m                                    ^\u001b[0m\n\u001b[1;31mSyntaxError\u001b[0m\u001b[1;31m:\u001b[0m invalid syntax\n"
     ]
    }
   ],
   "source": [
    "she_said = \"And then she said: \"Hello\"\""
   ]
  },
  {
   "cell_type": "code",
   "execution_count": 13,
   "id": "fda82e6b",
   "metadata": {},
   "outputs": [
    {
     "name": "stdout",
     "output_type": "stream",
     "text": [
      "And then she said: \"Hello\"\n"
     ]
    }
   ],
   "source": [
    "she_said = \"And then she said: \\\"Hello\\\"\"\n",
    "print(she_said)"
   ]
  },
  {
   "cell_type": "code",
   "execution_count": 14,
   "id": "b796a6a3",
   "metadata": {},
   "outputs": [
    {
     "name": "stdout",
     "output_type": "stream",
     "text": [
      "And then she said: \"Hello\"\n"
     ]
    }
   ],
   "source": [
    "she_said = 'And then she said: \"Hello\"'\n",
    "print(she_said)"
   ]
  },
  {
   "cell_type": "code",
   "execution_count": 15,
   "id": "ebbedb6a",
   "metadata": {},
   "outputs": [
    {
     "ename": "SyntaxError",
     "evalue": "invalid syntax (<ipython-input-15-d00b263e5179>, line 1)",
     "output_type": "error",
     "traceback": [
      "\u001b[1;36m  File \u001b[1;32m\"<ipython-input-15-d00b263e5179>\"\u001b[1;36m, line \u001b[1;32m1\u001b[0m\n\u001b[1;33m    she_said = 'And then she said: \"I'm happy\"'\u001b[0m\n\u001b[1;37m                                      ^\u001b[0m\n\u001b[1;31mSyntaxError\u001b[0m\u001b[1;31m:\u001b[0m invalid syntax\n"
     ]
    }
   ],
   "source": [
    "she_said = 'And then she said: \"I'm happy\"'\n",
    "print(she_said)"
   ]
  },
  {
   "cell_type": "code",
   "execution_count": 17,
   "id": "0d3dcf74",
   "metadata": {},
   "outputs": [
    {
     "name": "stdout",
     "output_type": "stream",
     "text": [
      "And then she said: \"I'm happy\"\n"
     ]
    }
   ],
   "source": [
    "she_said = 'And then she said: \"I\\'m happy\"'\n",
    "print(she_said)"
   ]
  },
  {
   "cell_type": "code",
   "execution_count": 18,
   "id": "56cafa05",
   "metadata": {},
   "outputs": [
    {
     "name": "stdout",
     "output_type": "stream",
     "text": [
      "And then she said: \"I'm happy\"\n"
     ]
    }
   ],
   "source": [
    "she_said = '''And then she said: \"I'm happy\"'''\n",
    "print(she_said)"
   ]
  },
  {
   "cell_type": "code",
   "execution_count": 20,
   "id": "e00a1c27",
   "metadata": {},
   "outputs": [
    {
     "name": "stdout",
     "output_type": "stream",
     "text": [
      "And then she said: \"I'm happy\".\n"
     ]
    }
   ],
   "source": [
    "she_said = \"\"\"And then she said: \"I'm happy\".\"\"\"\n",
    "print(she_said)"
   ]
  },
  {
   "cell_type": "code",
   "execution_count": 22,
   "id": "16593a45",
   "metadata": {},
   "outputs": [
    {
     "name": "stdout",
     "output_type": "stream",
     "text": [
      "And then \tshe said: \n",
      "\"I'm happy\".\n"
     ]
    }
   ],
   "source": [
    "she_said = \"\"\"And then \\tshe said: \\n\"I'm happy\".\"\"\"\n",
    "print(she_said)"
   ]
  },
  {
   "cell_type": "code",
   "execution_count": 3,
   "id": "c5dd9862",
   "metadata": {},
   "outputs": [
    {
     "name": "stdout",
     "output_type": "stream",
     "text": [
      "['o', 'l', 'l', 'e', 'H']\n"
     ]
    }
   ],
   "source": [
    "a = \"Hello\"\n",
    "b = reversed(a)\n",
    "print(list(b))"
   ]
  },
  {
   "cell_type": "code",
   "execution_count": 4,
   "id": "b763e04e",
   "metadata": {},
   "outputs": [
    {
     "name": "stdout",
     "output_type": "stream",
     "text": [
      "I 1\n",
      "Z 2\n",
      "E 3\n"
     ]
    }
   ],
   "source": [
    "a = ['I', 'Z', 'E']\n",
    "b = ['1', '2', '3']\n",
    "for letter, number in zip(a,b):\n",
    "    print(letter, number)"
   ]
  },
  {
   "cell_type": "code",
   "execution_count": null,
   "id": "0c3f2f53",
   "metadata": {},
   "outputs": [],
   "source": []
  }
 ],
 "metadata": {
  "kernelspec": {
   "display_name": "Python 3",
   "language": "python",
   "name": "python3"
  },
  "language_info": {
   "codemirror_mode": {
    "name": "ipython",
    "version": 3
   },
   "file_extension": ".py",
   "mimetype": "text/x-python",
   "name": "python",
   "nbconvert_exporter": "python",
   "pygments_lexer": "ipython3",
   "version": "3.9.6"
  }
 },
 "nbformat": 4,
 "nbformat_minor": 5
}
