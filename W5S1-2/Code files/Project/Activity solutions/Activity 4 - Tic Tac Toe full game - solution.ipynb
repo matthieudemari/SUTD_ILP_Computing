{
 "cells": [
  {
   "cell_type": "markdown",
   "metadata": {},
   "source": [
    "# Activity 4 - Tic Tac Toe full game - solution"
   ]
  },
  {
   "cell_type": "markdown",
   "metadata": {},
   "source": [
    "In this activity 4, we will import and design functions related to the game of Tic Tac Toe. I suggest taking these activities in order, as they will progressively guide toward more and more complex task, until you eventually reach a fully functional Tic Tac Toe game!\n",
    "\n",
    "This is the final activity, where we assemble all the pieces and functions we have designed earlier to obtain a fully functional tic tac toe game!"
   ]
  },
  {
   "cell_type": "markdown",
   "metadata": {},
   "source": [
    "We will use the Numpy library, let us start by importing it."
   ]
  },
  {
   "cell_type": "code",
   "execution_count": null,
   "metadata": {},
   "outputs": [],
   "source": [
    "import numpy as np"
   ]
  },
  {
   "cell_type": "markdown",
   "metadata": {},
   "source": [
    "### Problem statement\n",
    "\n",
    "As we have seen earlier in a previous Tic Tac Toe activity, we can represent the status of a Tic Tac Toe board, by using a list of lists, or a 2D Numpy array.\n",
    "\n",
    "For convenience, we will here use a 2D Numpy array, of size $ 3 \\times 3$, whose elements take values in $ {0, 1, 2} $, where:\n",
    "- 0 means the position is empty,\n",
    "- 1 means the position is currently occupied by a circle,\n",
    "- 2 means the position is currently occupied by a cross.\n",
    "\n",
    "Below, we give an example of a board, containing circles in top center and bottom left locations, and crosses in top right, center en bottom right locations."
   ]
  },
  {
   "cell_type": "code",
   "execution_count": null,
   "metadata": {},
   "outputs": [],
   "source": [
    "board = np.array([[0, 1, 2], \\\n",
    "                  [0, 2, 0], \\\n",
    "                  [1, 0, 2]])"
   ]
  },
  {
   "cell_type": "markdown",
   "metadata": {},
   "source": [
    "### Task 1\n",
    "\n",
    "Open the file **file4.py** (either by clicking it on the Jupyter homepage tab, or by opening it in a text editor, such as notepad). As you will observe, it now contains both the **display_board()**, **check_valid_coordinates()** and **take_action()** functions from Activity 3.\n",
    "\n",
    "It also contains the function **is_over()**, which checks if the board admits a winner and if so returns the winning player index. This is a function you have designed in a previous week activity, which I have brought back.\n",
    "\n",
    "What you need to know about this function **is_over()**:\n",
    "- it receives a board, as a 2D Numpy array, of size $ 3 \\times 3$, whose elements take values in $ {0, 1, 2} $,\n",
    "- it returns **1** if the **circles have won**,\n",
    "- it returns **2** if the **crosses have won**,\n",
    "- it returns **0** if **there is no clear winner yet**, and **there are empty cells left in the board**,\n",
    "- it returns **-1** if the **board is full and there is no winner**.\n",
    "\n",
    "Our first task is to import the **display_board()**, **check_valid_coordinates()**, **take_action()** and **is_over()** functions, from the **file4.py** so that it can be used in this notebook and other functions we will design later on."
   ]
  },
  {
   "cell_type": "code",
   "execution_count": null,
   "metadata": {},
   "outputs": [],
   "source": [
    "# Import the display_board(), check_valid_coordinates(), take_action() \n",
    "# and is_over() functions, from the file4.py\n",
    "from file4 import display_board, check_valid_coordinates, take_action, is_over"
   ]
  },
  {
   "cell_type": "code",
   "execution_count": null,
   "metadata": {},
   "outputs": [],
   "source": [
    "# This should run without errors if the import worked\n",
    "# - Testing display_board() function\n",
    "display_board(board)\n",
    "# - Testing check_valid_coordinates() function\n",
    "x_coord1 = 0\n",
    "y_coord1 = 0\n",
    "is_valid = check_valid_coordinates(board, x_coord1, y_coord1)\n",
    "# - Testing take_action() function\n",
    "is_circle = True\n",
    "take_action(board, x_coord1, y_coord1, is_circle)\n",
    "# - Testing is_over() function\n",
    "value = is_over(board)"
   ]
  },
  {
   "cell_type": "markdown",
   "metadata": {},
   "source": [
    "### THE FINAL TASK!\n",
    "\n",
    "Time for the **FINAL TASK** of this Tic Tac Toe project!\n",
    "\n",
    "Write a function **tictactoe()**, which:\n",
    "- receives and returns no parameters,\n",
    "- follows the steps defined below, and reuses the previously imported functions in the process.\n",
    "\n",
    "This function should\n",
    "1. Initialize an empty board, as a $ 3 \\times 3 $ 2D Numpy array, filled with zeroes.\n",
    "2. Display a message \"Game just started!\", and display the empty board.\n",
    "3. While the game is not over (i.e. there is no winner and there are playable actions left), it should \n",
    "    - ask the user for coordinates to play using two input() calls (one for the x coordinate, one of the y coordinate),\n",
    "    - it should then check if the coordinates are valid (using the **check_valid_coordinates()** function), for the current board state,\n",
    "    - if the coordinates are valid, it should add the action of the player at the given coordinates and update the board, using the take_action() function. The output of the take_action() function give the new board state after the player's action was added to the board. If the player did not input the correct coordinates, it should lose its turn.\n",
    "\n",
    "Once circles are done playing their turn, it should become crosses' turn to play, and vice versa.\n",
    "\n",
    "4. When the end is reached (a player won, or no more action left to play), the function should:\n",
    "    - display \"It's a draw!\" if no players have won,\n",
    "    - display \"Player ... won!\", where the blanks are filled accordingly (Player 1 has circles, player 2 has crosses.)\n",
    "\n",
    "**Note:** Player 1 (circles) should be the first to play."
   ]
  },
  {
   "cell_type": "markdown",
   "metadata": {},
   "source": [
    "### Your code below!"
   ]
  },
  {
   "cell_type": "code",
   "execution_count": null,
   "metadata": {},
   "outputs": [],
   "source": [
    "from copy import deepcopy\n",
    "\n",
    "def tictactoe():\n",
    "    \n",
    "    # 1. Initialize an empty board\n",
    "    board = np.array([[0, 0, 0], \\\n",
    "                      [0, 0, 0], \\\n",
    "                      [0, 0, 0]])\n",
    "    \n",
    "    # Printing the empty board\n",
    "    print(\"Game just started!\")\n",
    "    display_board(board)\n",
    "    \n",
    "    # 2. Initialize is_circle to True, to indicate that circles play first\n",
    "    is_circle = True\n",
    "    \n",
    "    # While there is no winner, play!\n",
    "    while(is_over(board) == 0):\n",
    "        \n",
    "        # 3. Ask for user input, and do so until the player enters valid coordinates\n",
    "        # Input x and y coordinates\n",
    "        print(\"---\")\n",
    "        x_coord = int(input(\"Enter x coordinates: \"))\n",
    "        y_coord = int(input(\"Enter y coordinates: \"))\n",
    "        \n",
    "        # 4. Apply player action\n",
    "        board = take_action(board, x_coord, y_coord, is_circle)\n",
    "        \n",
    "        # 5. Change player\n",
    "        # - If it was circle's turn (is_circle = True),\n",
    "        # next turn is crosses (is_circle = False), and vice versa.\n",
    "        is_circle = not is_circle\n",
    "    \n",
    "    # Display who won!\n",
    "    print(\"---\")\n",
    "    if(is_over(board) == -1):\n",
    "        print(\"It's a draw!\")\n",
    "    else:\n",
    "        print(\"Player {} won!\".format(is_over(board)))"
   ]
  },
  {
   "cell_type": "markdown",
   "metadata": {},
   "source": [
    "### Let us try it out, and make sure it behaves as it should."
   ]
  },
  {
   "cell_type": "code",
   "execution_count": null,
   "metadata": {
    "scrolled": false
   },
   "outputs": [],
   "source": [
    "tictactoe()"
   ]
  },
  {
   "cell_type": "markdown",
   "metadata": {},
   "source": [
    "### Extra challenges\n",
    "\n",
    "Once you have a prototype that works, try improving it by asking the user for input coordinates **until the player enters valid ones**. \n",
    "\n",
    "The player should not lose its turn if the coordinates are invalid. Instead, the game should prompt the player to enter new coordinates.\n",
    "\n",
    "You can also add more details to the game if you want to, e.g.\n",
    "- Implement a best-of-three instead of a single round.\n",
    "- Circles will start 50% of the time.\n",
    "- Ask the users if they want to play again, instead of re-executing the cell every time.\n",
    "- Etc."
   ]
  },
  {
   "cell_type": "code",
   "execution_count": null,
   "metadata": {},
   "outputs": [],
   "source": [
    "from copy import deepcopy\n",
    "\n",
    "def tictactoe_v2():\n",
    "    \n",
    "    # 1. Initialize an empty board\n",
    "    board = np.array([[0, 0, 0], \\\n",
    "                      [0, 0, 0], \\\n",
    "                      [0, 0, 0]])\n",
    "    \n",
    "    # Printing the empty board\n",
    "    print(\"Game just started!\")\n",
    "    display_board(board)\n",
    "    \n",
    "    # 2. Initialize is_circle to True, to indicate that circles play first\n",
    "    is_circle = True\n",
    "    \n",
    "    # While there is no winner, play!\n",
    "    while(is_over(board) == 0):\n",
    "        \n",
    "        # 3. Ask for user input, and do so until the player enters valid coordinates\n",
    "        while(True):\n",
    "            # Input x and y coordinates\n",
    "            print(\"---\")\n",
    "            x_coord = int(input(\"Enter x coordinates: \"))\n",
    "            y_coord = int(input(\"Enter x coordinates: \"))\n",
    "            # Check if coordinates are valid\n",
    "            is_valid = check_valid_coordinates(board, x_coord, y_coord)\n",
    "            # If valid, break the second while loop\n",
    "            if(is_valid):\n",
    "                break\n",
    "        \n",
    "        # 4. Apply player action\n",
    "        board = take_action(board, x_coord, y_coord, is_circle)\n",
    "        \n",
    "        # 5. Change player\n",
    "        # - If it was circle's turn (is_circle = True),\n",
    "        # next turn is crosses (is_circle = False), and vice versa.\n",
    "        is_circle = not is_circle\n",
    "    \n",
    "    # Display who won!\n",
    "    print(\"---\")\n",
    "    if is_over(board) == -1:\n",
    "        print(\"It's a draw!\")\n",
    "    else:\n",
    "        print(\"Player {} won!\".format(is_over(board)))"
   ]
  },
  {
   "cell_type": "code",
   "execution_count": null,
   "metadata": {},
   "outputs": [],
   "source": [
    "tictactoe_v2()"
   ]
  },
  {
   "cell_type": "markdown",
   "metadata": {},
   "source": [
    "### Extra challenge (hard): AI\n",
    "\n",
    "Have player 2 be the computer and code the behavior of a simple opponent AI.\n",
    "\n",
    "The AI should:\n",
    "- play a winning move if there is any,\n",
    "- if not, prevent the player from winning if the player has any winning move on the next turn,\n",
    "- if not, play the central square if free,\n",
    "- if not, play a random move among the available ones.\n",
    "\n",
    "A random can be simply created with the choice function from the numpy.random library, as shown below."
   ]
  },
  {
   "cell_type": "code",
   "execution_count": null,
   "metadata": {},
   "outputs": [],
   "source": [
    "from numpy.random import choice\n",
    "\n",
    "# Let us assume the locations (0, 0), (1, 2), (2, 1) and (2, 2) are currently free.\n",
    "available_locations = [[0, 0], [1, 2], [2, 1], [2, 2]]\n",
    "\n",
    "# You can randomly choose one, as shown below.\n",
    "# Try it multiple times to see it's random\n",
    "random_action = available_locations[int(choice(len(available_locations), 1))]\n",
    "print(random_action)\n",
    "random_action = available_locations[int(choice(len(available_locations), 1))]\n",
    "print(random_action)\n",
    "random_action = available_locations[int(choice(len(available_locations), 1))]\n",
    "print(random_action)\n",
    "random_action = available_locations[int(choice(len(available_locations), 1))]\n",
    "print(random_action)\n",
    "random_action = available_locations[int(choice(len(available_locations), 1))]\n",
    "print(random_action)\n",
    "random_action = available_locations[int(choice(len(available_locations), 1))]\n",
    "print(random_action)\n",
    "random_action = available_locations[int(choice(len(available_locations), 1))]\n",
    "print(random_action)\n",
    "random_action = available_locations[int(choice(len(available_locations), 1))]\n",
    "print(random_action)"
   ]
  }
 ],
 "metadata": {
  "kernelspec": {
   "display_name": "Python 3",
   "language": "python",
   "name": "python3"
  },
  "language_info": {
   "codemirror_mode": {
    "name": "ipython",
    "version": 3
   },
   "file_extension": ".py",
   "mimetype": "text/x-python",
   "name": "python",
   "nbconvert_exporter": "python",
   "pygments_lexer": "ipython3",
   "version": "3.9.6"
  }
 },
 "nbformat": 4,
 "nbformat_minor": 4
}
