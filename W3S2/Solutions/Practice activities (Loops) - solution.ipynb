{
 "cells": [
  {
   "cell_type": "markdown",
   "id": "2c21a6e3",
   "metadata": {},
   "source": [
    "# Practice activities (Loops) - solution\n",
    "\n",
    "Below is a list of practice activities, not necessarily with ascending difficulty levels.\n",
    "\n",
    "**Some of them will come with test cases for you to try your function, but your function should work with any parameters we could deem acceptable (e.g. any list of integers, not just the one provided for demo!)**\n",
    "\n",
    "Most of these activities will therefore require you to come up with ideas to test your function and make sure you have found the right one."
   ]
  },
  {
   "cell_type": "markdown",
   "id": "9d765495",
   "metadata": {},
   "source": [
    "## 1. Can vote\n",
    "\n",
    "Write a function **old_enough()**, which receives a single parameter, **age**, a single strictly positive integer denoting the age of a given person in years.\n",
    "\n",
    "The function returns two parameters:\n",
    "- The first one is a boolean, **can_vote**\n",
    "    - it is set to True, if the person is at least 21 years old,\n",
    "    - it is set to False, if the person's age is strictly lower than 21.\n",
    "- The second one, is a variable **number**\n",
    "    - it is set to None, if the person is at least 21 years old,\n",
    "    - if the person's age is strictly lower than 21, then it consists of the number of years the person will have to wait before being allowed to vote.\n",
    "\n",
    "For instance, \n",
    "- if **age = 42**, the function should return **can_vote = True** and **number = None**,\n",
    "- if **age = 18**, the function should return **can_vote = False** and **number = 3**,\n",
    "- if **age = 21**, the function should return **can_vote = True** and **number = None**."
   ]
  },
  {
   "cell_type": "code",
   "execution_count": null,
   "id": "cd13a66a",
   "metadata": {},
   "outputs": [],
   "source": [
    "def old_enough(age):\n",
    "    if(age >= 21):\n",
    "        boolean_val = True\n",
    "        diff_val = None\n",
    "    else:\n",
    "        boolean_val = False\n",
    "        diff_val = 21 - age\n",
    "    return boolean_val, diff_val"
   ]
  },
  {
   "cell_type": "code",
   "execution_count": null,
   "id": "f7913d09",
   "metadata": {},
   "outputs": [],
   "source": [
    "def old_enough(age):\n",
    "    if(age>=21):\n",
    "        return True, None\n",
    "    else:\n",
    "        return False, 21 - age"
   ]
  },
  {
   "cell_type": "code",
   "execution_count": null,
   "id": "43969b1d",
   "metadata": {},
   "outputs": [],
   "source": [
    "def old_enough(age):\n",
    "    boolean_val = age>=21\n",
    "    # The notation a if b else c is called a ternary operator.\n",
    "    # It will result in a if the boolean condition b is True.\n",
    "    # It will otherwise result in c.\n",
    "    diff_val = (21 - age) if (age<21) else None\n",
    "    return boolean_val, diff_val"
   ]
  },
  {
   "cell_type": "code",
   "execution_count": null,
   "id": "ccf38e6d",
   "metadata": {},
   "outputs": [],
   "source": [
    "def old_enough(age):\n",
    "    # The notation a if b else c is called a ternary operator.\n",
    "    # It will result in a if the boolean condition b is True.\n",
    "    # It will otherwise result in c.\n",
    "    return age>=21, (21 - age) if (age<21) else None"
   ]
  },
  {
   "cell_type": "code",
   "execution_count": null,
   "id": "ae0f3390",
   "metadata": {
    "scrolled": true
   },
   "outputs": [],
   "source": [
    "print(old_enough(42))\n",
    "print(old_enough(18))\n",
    "print(old_enough(21))"
   ]
  },
  {
   "cell_type": "markdown",
   "id": "85e42ceb",
   "metadata": {},
   "source": [
    "## 2. Min, max and mean\n",
    "\n",
    "Write a function that receives a list of numbers as shown below."
   ]
  },
  {
   "cell_type": "code",
   "execution_count": null,
   "id": "6f609bdb",
   "metadata": {},
   "outputs": [],
   "source": [
    "numbers_list = [1,2,4,5,7,8,7]"
   ]
  },
  {
   "cell_type": "markdown",
   "id": "da4b1b58",
   "metadata": {},
   "source": [
    "The function should return three numbers, corresponding to the min, max and mean values in the list."
   ]
  },
  {
   "cell_type": "code",
   "execution_count": null,
   "id": "243d47c2",
   "metadata": {},
   "outputs": [],
   "source": [
    "min_val = 1\n",
    "max_val = 8\n",
    "mean_val = 4.857142857142857"
   ]
  },
  {
   "cell_type": "code",
   "execution_count": null,
   "id": "98482d6e",
   "metadata": {},
   "outputs": [],
   "source": [
    "def min_max_mean(mylist):\n",
    "    # Using built in function to compute min and max of a list\n",
    "    print(\"Max value =\", max(mylist))\n",
    "    print(\"Min Value =\" , min(mylist))\n",
    "    \n",
    "    # Using a for loop to sum elements in list and count number of elements in list\n",
    "    total = 0\n",
    "    count = 0\n",
    "    for i in mylist:\n",
    "        total += i\n",
    "        count += 1\n",
    "    mean = total/count\n",
    "    print(\"Mean value =\", mean)\n",
    "    \n",
    "    return min(mylist), max(mylist), mean"
   ]
  },
  {
   "cell_type": "code",
   "execution_count": null,
   "id": "28e5934e",
   "metadata": {},
   "outputs": [],
   "source": [
    "def min_max_mean(mylist):\n",
    "    print(\"Max value =\", max(mylist))\n",
    "    print(\"Min Value =\" , min(mylist))\n",
    "    \n",
    "    # Length of a list is the number of elements in the list\n",
    "    a = len(mylist)\n",
    "    # Sum is a built-in function that will sum all elements in the list\n",
    "    mean = sum(mylist)/len(mylist)\n",
    "    print(\"Mean value =\", mean)\n",
    "    \n",
    "    return min(mylist), max(mylist), mean"
   ]
  },
  {
   "cell_type": "code",
   "execution_count": null,
   "id": "a2118bbb",
   "metadata": {},
   "outputs": [],
   "source": [
    "def min_max_mean(mylist):\n",
    "    # Making a function that uses a for loop to check min and max here requires\n",
    "    # a bit more work than what we have done in W3S1 activity 2\n",
    "    # Because there could be negative numbers in the list\n",
    "    # (therefore assigning 0 as the first value for max value is impossible!)\n",
    "    min_val = None\n",
    "    max_val = None\n",
    "    total = 0\n",
    "    number = 0\n",
    "    mean_val = None\n",
    "    for element in mylist:\n",
    "        if(min_val == None or min_val > element):\n",
    "            min_val = element\n",
    "        if(max_val == None or max_val < element):\n",
    "            max_val = element\n",
    "        total += element\n",
    "        number += 1\n",
    "        mean_val = total/number\n",
    "    return min_val, max_val, mean_val"
   ]
  },
  {
   "cell_type": "code",
   "execution_count": null,
   "id": "6f072974",
   "metadata": {},
   "outputs": [],
   "source": [
    "numbers_list = []\n",
    "print(min_max_mean(numbers_list))"
   ]
  },
  {
   "cell_type": "code",
   "execution_count": null,
   "id": "831cc4dc",
   "metadata": {},
   "outputs": [],
   "source": [
    "numbers_list = [1,2,3,4,5]\n",
    "print(min_max_mean(numbers_list))"
   ]
  },
  {
   "cell_type": "code",
   "execution_count": null,
   "id": "113be40a",
   "metadata": {},
   "outputs": [],
   "source": [
    "# By the way, does your function work if the list is empty?\n",
    "# What should it produce in terms of values?\n",
    "numbers_list = []\n",
    "print(min_max_mean(numbers_list))"
   ]
  },
  {
   "cell_type": "markdown",
   "id": "feb2f720",
   "metadata": {},
   "source": [
    "## 3. Convert time\n",
    "\n",
    "Write a function **convert_hours()**, which receives a single parameter, **total_hours**, a single positive integer denoting a number of hours.\n",
    "\n",
    "The function returns three values, **weeks**, **days** and **hours**, corresponding to the number of weeks, days and hours in **total_hours**.\n",
    "\n",
    "For instance, \n",
    "- if **total_hours = 7**, the function should return **weeks = 0**, **days = 0** and **hours = 7**,\n",
    "- if **total_hours = 55**, the function should return **weeks = 0**, **days = 2** and **hours = 7**,\n",
    "- if **total_hours = 247**, the function should return **weeks = 1**, **days = 3** and **hours = 7**,"
   ]
  },
  {
   "cell_type": "code",
   "execution_count": null,
   "id": "002279d5",
   "metadata": {},
   "outputs": [],
   "source": [
    "def convert_hours(total_hours):\n",
    "    # You can either use the direct mathematical formula\n",
    "    # (a bit tedious to figure it out, but possible)\n",
    "    weeks = total_hours//(24*7)\n",
    "    days = (total_hours  - weeks*24*7)//24\n",
    "    hours = total_hours - weeks*24*7 - days*24\n",
    "    return weeks, days, hours"
   ]
  },
  {
   "cell_type": "code",
   "execution_count": null,
   "id": "2e062ef5",
   "metadata": {},
   "outputs": [],
   "source": [
    "def convert_hours(total_hours):\n",
    "    # Or use a while loop that will remove 24 from the total of hours,\n",
    "    # until this value falls below 24.\n",
    "    # Whenever it does, increment the number of days by 1.\n",
    "    weeks = 0\n",
    "    days = 0\n",
    "    hours = total_hours\n",
    "    while(hours >= 24):\n",
    "        hours -= 24\n",
    "        days += 1\n",
    "    # Then do the same thing with days and 7\n",
    "    while(days>= 7):\n",
    "        days -= 7\n",
    "        weeks += 1\n",
    "    return weeks, days, hours"
   ]
  },
  {
   "cell_type": "code",
   "execution_count": null,
   "id": "b71510df",
   "metadata": {},
   "outputs": [],
   "source": [
    "def convert_hours(total_hours):\n",
    "    # Or use a while loop that will remove 24 from the total of hours,\n",
    "    # until this value falls below 24.\n",
    "    # Whenever it does, increment the number of days by 1.\n",
    "    # Also, whenever days reaches 7, reset it to 0 and increment weeks by 1.\n",
    "    weeks = 0\n",
    "    days = 0\n",
    "    hours = total_hours\n",
    "    while(hours >= 24):\n",
    "        hours -= 24\n",
    "        days += 1\n",
    "        if(days>= 7):\n",
    "            weeks += 1\n",
    "            days = 0\n",
    "    return weeks, days, hours"
   ]
  },
  {
   "cell_type": "code",
   "execution_count": null,
   "id": "2210dcfd",
   "metadata": {
    "scrolled": true
   },
   "outputs": [],
   "source": [
    "print(convert_hours(7))\n",
    "print(convert_hours(55))\n",
    "print(convert_hours(247))"
   ]
  },
  {
   "cell_type": "markdown",
   "id": "b75e09dc",
   "metadata": {},
   "source": [
    "## 4. Leap Year\n",
    "\n",
    "Write a function **is_leap_year()**, which receives a single parameter, **year**, a single strictly positive integer denoting a year.\n",
    "\n",
    "The function returns a single boolean, **is_ly**, which is set to True if the year is a leap year and False otherwise.\n",
    "\n",
    "According to Wikipedia, a leap year is defined as follows:\n",
    "\n",
    "*Every year that is exactly divisible by four is a leap year, except for years that are exactly divisible by 100, but these centurial years are leap years if they are exactly divisible by 400. For example, the years 1700, 1800, and 1900 are not leap years, but the years 1600 and 2000 are.*\n",
    "\n",
    "For instance,\n",
    "- if **year = 1996**, the function should return **is_ly = True**,\n",
    "- if **year = 1997**, the function should return **is_ly = False**,\n",
    "- if **year = 1700**, the function should return **is_ly = False**,\n",
    "- if **year = 2000**, the function should return **is_ly = True**."
   ]
  },
  {
   "cell_type": "code",
   "execution_count": null,
   "id": "ad1b2491",
   "metadata": {},
   "outputs": [],
   "source": [
    "def is_leap_year(year):\n",
    "    if(year % 4 == 0):\n",
    "        if(year % 100 == 0):\n",
    "            if(year % 400 == 0):\n",
    "                is_ly = True\n",
    "            else:\n",
    "                is_ly = False\n",
    "        else:\n",
    "            is_ly = True\n",
    "    else:\n",
    "        is_ly = False\n",
    "    return is_ly"
   ]
  },
  {
   "cell_type": "code",
   "execution_count": null,
   "id": "38492608",
   "metadata": {},
   "outputs": [],
   "source": [
    "def is_leap_year(year):\n",
    "    if(not year % 4 == 0):\n",
    "        is_ly = False\n",
    "    elif(not year % 100 == 0):\n",
    "        is_ly = True\n",
    "    elif(not year % 400 == 0):\n",
    "        is_ly = False\n",
    "    else:\n",
    "        is_ly = True\n",
    "    return is_ly"
   ]
  },
  {
   "cell_type": "code",
   "execution_count": null,
   "id": "e35fed2c",
   "metadata": {},
   "outputs": [],
   "source": [
    "def is_leap_year(year):\n",
    "    # Year n a leap year if you fall in one of the two configurations below:\n",
    "    # - n is a multiple of 4 and not a multiple of 100,\n",
    "    # - or n is a multiple of 400.\n",
    "    return (year % 4 == 0 and not year % 100 == 0) or (year % 400 == 0)"
   ]
  },
  {
   "cell_type": "code",
   "execution_count": null,
   "id": "0dc01c53",
   "metadata": {
    "scrolled": true
   },
   "outputs": [],
   "source": [
    "print(is_leap_year(1996))\n",
    "print(is_leap_year(1997))\n",
    "print(is_leap_year(1700))\n",
    "print(is_leap_year(2000))"
   ]
  },
  {
   "cell_type": "markdown",
   "id": "48a4d42c",
   "metadata": {},
   "source": [
    "## 5. How many divisors\n",
    "\n",
    "Write a function **how_many_divide()**, which receives a single parameter, **number**, a single strictly positive integer denoting a number.\n",
    "\n",
    "The function returns a single integer, **counter**, which corresponds to the number of times the number can be divided by 2, while remaining integer. \n",
    "\n",
    "For instance,\n",
    "- if **number = 3**, the function should return **counter = 0**, because $ 3 = 2^0 \\times 9 $,\n",
    "- if **number = 4**, the function should return **counter = 2**, because $4 = 2^2$,\n",
    "- if **number = 12**, the function should return **counter = 2**, because $12 = 2^2 \\times 3$,\n",
    "- if **number = 64**, the function should return **counter = 6**. because $64 = 2^6$,"
   ]
  },
  {
   "cell_type": "code",
   "execution_count": null,
   "id": "99f89e7f",
   "metadata": {},
   "outputs": [],
   "source": [
    "def how_many_divide(number):\n",
    "    \n",
    "    # Other cases\n",
    "    counter = 0\n",
    "    can_divide = True\n",
    "    while(can_divide):\n",
    "        counter += 1\n",
    "        can_divide = ((number % (2**counter)) == 0)\n",
    "    return counter - 1"
   ]
  },
  {
   "cell_type": "code",
   "execution_count": null,
   "id": "e72108a4",
   "metadata": {
    "scrolled": true
   },
   "outputs": [],
   "source": [
    "print(how_many_divide(3))\n",
    "print(how_many_divide(4))\n",
    "print(how_many_divide(12))\n",
    "print(how_many_divide(64))"
   ]
  },
  {
   "cell_type": "markdown",
   "id": "ad8de6ec",
   "metadata": {},
   "source": [
    "## 6. Lottery gains computation\n",
    "\n",
    "Write a function that receives two lists:\n",
    "- the first list contains six elements, which correspond to the numbers of a lottery ticket, bought by the user,\n",
    "- the second list also contains six elements, which correspond to the numbers drawn for this lottery.\n",
    "\n",
    "An example is shown below."
   ]
  },
  {
   "cell_type": "code",
   "execution_count": null,
   "id": "ed38aff1",
   "metadata": {},
   "outputs": [],
   "source": [
    "ticket_numbers = [2,3,7,17,21,36]\n",
    "winning_numbers = [3,11,13,17,24,28]"
   ]
  },
  {
   "cell_type": "markdown",
   "id": "7683bd16",
   "metadata": {},
   "source": [
    "The function should return the number of winning numbers that the ticket contains, based on the drawn numbers. In the example shown above, it should return **number = 2**."
   ]
  },
  {
   "cell_type": "markdown",
   "id": "e95ac4c5",
   "metadata": {},
   "source": [
    "### Your code below!"
   ]
  },
  {
   "cell_type": "code",
   "execution_count": null,
   "id": "6fd462e4",
   "metadata": {},
   "outputs": [],
   "source": [
    "def compute_winning_numbers(ticket_numbers, winning_numbers):\n",
    "    number = 0\n",
    "    for element in ticket_numbers:\n",
    "        for element2 in winning_numbers:\n",
    "            if(element == element2):\n",
    "                number += 1\n",
    "    return number"
   ]
  },
  {
   "cell_type": "code",
   "execution_count": null,
   "id": "39a3d367",
   "metadata": {},
   "outputs": [],
   "source": [
    "def compute_winning_numbers(ticket_numbers, winning_numbers):\n",
    "    number = 0\n",
    "    for element in ticket_numbers:\n",
    "        if(element in winning_numbers):\n",
    "            number += 1\n",
    "    return number"
   ]
  },
  {
   "cell_type": "code",
   "execution_count": null,
   "id": "2542508c",
   "metadata": {},
   "outputs": [],
   "source": [
    "print(compute_winning_numbers([2,3,7,17,21,36],[3,11,13,17,24,28]))\n",
    "print(compute_winning_numbers([2,3,11,17,24,36],[3,11,13,17,24,28]))"
   ]
  },
  {
   "cell_type": "code",
   "execution_count": null,
   "id": "2a043e81",
   "metadata": {},
   "outputs": [],
   "source": [
    "def compute_winning_numbers_v2(ticket_numbers, winning_numbers):\n",
    "    # Swapping ticket_numbers and winning_numbers,\n",
    "    # does not alter the logic of the function\n",
    "    number = 0\n",
    "    for element in winning_numbers:\n",
    "        if(element in ticket_numbers):\n",
    "            number += 1\n",
    "    return number"
   ]
  },
  {
   "cell_type": "code",
   "execution_count": null,
   "id": "a86be26f",
   "metadata": {},
   "outputs": [],
   "source": [
    "print(compute_winning_numbers_v2([2,3,7,17,21,36],[3,11,13,17,24,28]))\n",
    "print(compute_winning_numbers_v2([2,3,11,17,24,36],[3,11,13,17,24,28]))"
   ]
  },
  {
   "cell_type": "markdown",
   "id": "e37f92fe",
   "metadata": {},
   "source": [
    "## 7. Is a sum of squares\n",
    "\n",
    "Write a function **is_sum_squares()**, which receives a single parameter, **number**, a strictly positive integer.\n",
    "The function returns a single boolean, **is_sq**, which is set to True if the number can be written as the sum of two squares, and False otherwise.\n",
    "\n",
    "For instance,\n",
    "- if **number = 9**, the function should return **is_sq = True**, because $ 9 = 0^2 + 3^2 $,\n",
    "- if **number = 5**, the function should return **is_sq = True**, because $ 5 = 1^2 + 2^2 $,\n",
    "- if **number = 50**, the function should return **is_sq = True**, because $ 50 = 5^2 + 5^2 $,\n",
    "- if **number = 7**, the function should return **is_sq = False**, because it cannot be written as a sum of two squares."
   ]
  },
  {
   "cell_type": "code",
   "execution_count": null,
   "id": "2537b5d8",
   "metadata": {},
   "outputs": [],
   "source": [
    "def is_sum_squares(number):\n",
    "    \n",
    "    bound = number**0.5\n",
    "    # Shortcut: check if number is already a perfect square?\n",
    "    if(int(bound) == bound):\n",
    "        return True\n",
    "    else:\n",
    "        bound = int(bound)\n",
    "        \n",
    "    # Otherwise check all possible combinations\n",
    "    for number1 in range(bound + 1):\n",
    "        for number2 in range(bound + 1):\n",
    "            if(number1**2 + number2**2 == number):\n",
    "                return True\n",
    "    return False"
   ]
  },
  {
   "cell_type": "code",
   "execution_count": null,
   "id": "8e326122",
   "metadata": {},
   "outputs": [],
   "source": [
    "def is_sum_squares(number):\n",
    "    \n",
    "    bound = number**0.5\n",
    "    # Shortcut: check if number is already a perfect square?\n",
    "    if(int(bound) == bound):\n",
    "        return True\n",
    "    else:\n",
    "        bound = int(bound)\n",
    "        \n",
    "    # Otherwise check all possible combinations\n",
    "    for number1 in range(bound + 1):\n",
    "        # Check if whatever is left after removing number1 squared is a perfect square?\n",
    "            if(int((number - number1**2)**0.5) == (number - number1**2)**0.5):\n",
    "                return True\n",
    "    return False"
   ]
  },
  {
   "cell_type": "code",
   "execution_count": null,
   "id": "3ca145ca",
   "metadata": {
    "scrolled": true
   },
   "outputs": [],
   "source": [
    "print(is_sum_squares(9))\n",
    "print(is_sum_squares(5))\n",
    "print(is_sum_squares(50))\n",
    "print(is_sum_squares(7))"
   ]
  },
  {
   "cell_type": "markdown",
   "id": "ce2c7ac2",
   "metadata": {},
   "source": [
    "## 8. How many months\n",
    "\n",
    "Write a function **how_many_months()**, which receives two parameters:\n",
    "- initial_amount, a strictly positive, integer corresponding to an amount of dollars in SGD to be deposited on a bank account,\n",
    "- rate, a strictly positive float, corresponding to a monthly growing rate, in percents, for your bank account.\n",
    "\n",
    "Each month, the money currently stored on the bank account will increase by the given rate.\n",
    "For instance, if the initial money deposit is 10000 SGD (i.e. **initial_amount = 10000**), and the rate is 1% (i.e. **rate = 1.0**), then at the end of the first month, the money on the bank account will be\n",
    "\n",
    "$$ 10000 \\times (1 + 1/100) = 10100 $$\n",
    "\n",
    "At the end of the second month, the money in the bank account will be\n",
    "\n",
    "$$ 10100 \\times (1 + 1/100) = 10201 = 10000 \\times (1 + 1/100)^2 $$\n",
    "\n",
    "And so on.\n",
    "\n",
    "The function returns is single integer **months** corresponding to the number of months needed for the bank account to reach 1 million SGD.\n",
    "\n",
    "No additional money will be added to the account, except for the initial deposit.\n",
    "\n",
    "For instance, \n",
    "- if **initial_amount = 10000** and **rate = 1.0**, the function should return **months = 463**,\n",
    "- if **initial_amount = 10000** and **rate = 5.0**, the function should return **months = 95**,\n",
    "- if **initial_amount = 100000** and **rate = 5.0**, the function should return **months = 48**,\n",
    "- if **initial_amount = 1000000** and **rate = 5.0**, the function should return **months = 0**,"
   ]
  },
  {
   "cell_type": "code",
   "execution_count": null,
   "id": "56e89b88",
   "metadata": {},
   "outputs": [],
   "source": [
    "def how_many_months(initial_amount, rate):\n",
    "    months = 0\n",
    "    while(initial_amount<1000000):\n",
    "        months += 1\n",
    "        initial_amount *= (1+rate/100)\n",
    "    return months"
   ]
  },
  {
   "cell_type": "code",
   "execution_count": null,
   "id": "95229e69",
   "metadata": {},
   "outputs": [],
   "source": [
    "print(how_many_months(10000, 1.0))\n",
    "print(how_many_months(10000, 5.0))\n",
    "print(how_many_months(100000, 5.0))\n",
    "print(how_many_months(1000000, 5.0))"
   ]
  },
  {
   "cell_type": "markdown",
   "id": "4017e13e",
   "metadata": {},
   "source": [
    "## 9. Is prime\n",
    "\n",
    "Write a function **is_prime()**, which receives a single parameter, **number**, a single positive integer.\n",
    "\n",
    "The function returns a boolean **is_p** set to True, if the number is prime and False otherwise.\n",
    "\n",
    "According to Wikipedia:\n",
    "\n",
    "*A prime number is a number, which admits exactly two distinct positive divisors, 1 and the number itself.*\n",
    "\n",
    "For instance, \n",
    "- if **number = 1**, the function should return **is_p = False** (admits only one divisor, which is 1),\n",
    "- if **number = 3**, the function should return **is_p = True** (admits two divisors, which are 1 and 3),\n",
    "- if **number = 9**, the function should return **is_p = False** (admits three divisors, which are 1, 3 and 9),"
   ]
  },
  {
   "cell_type": "code",
   "execution_count": null,
   "id": "5111a093",
   "metadata": {},
   "outputs": [],
   "source": [
    "def is_prime(number):\n",
    "    \n",
    "    # Cover for 1 as particular case\n",
    "    if number == 1:\n",
    "        return False\n",
    "    \n",
    "    # Check for all numbers in [2, number]\n",
    "    # If one is a divisor, the number is not prime\n",
    "    for divisor in range(2, int(number**0.5) + 1):\n",
    "        if(number % divisor == 0):\n",
    "            return False\n",
    "    \n",
    "    return True"
   ]
  },
  {
   "cell_type": "code",
   "execution_count": null,
   "id": "bd4db958",
   "metadata": {},
   "outputs": [],
   "source": [
    "print(is_prime(1))\n",
    "print(is_prime(3))\n",
    "print(is_prime(6))"
   ]
  },
  {
   "cell_type": "code",
   "execution_count": null,
   "id": "8b597188",
   "metadata": {},
   "outputs": [],
   "source": []
  }
 ],
 "metadata": {
  "kernelspec": {
   "display_name": "Python 3 (ipykernel)",
   "language": "python",
   "name": "python3"
  },
  "language_info": {
   "codemirror_mode": {
    "name": "ipython",
    "version": 3
   },
   "file_extension": ".py",
   "mimetype": "text/x-python",
   "name": "python",
   "nbconvert_exporter": "python",
   "pygments_lexer": "ipython3",
   "version": "3.11.4"
  }
 },
 "nbformat": 4,
 "nbformat_minor": 5
}
