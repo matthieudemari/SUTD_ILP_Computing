{
 "cells": [
  {
   "cell_type": "markdown",
   "id": "2c21a6e3",
   "metadata": {},
   "source": [
    "# Practice activities (Loops) - solution\n",
    "\n",
    "Below is a list of practice activities, noted with difficulty levels.\n",
    "\n",
    "**Some of them will come with test cases for you to try your function, but you function should work with any input we could deem acceptable (e.g. any list of integers, not just the one provided for demo!)**\n",
    "\n",
    "Most of these activities will therefore require you to come up with ideas to test your function and make sure you have found the right one."
   ]
  },
  {
   "cell_type": "markdown",
   "id": "9d765495",
   "metadata": {},
   "source": [
    "## 1. Can vote\n",
    "\n",
    "Write a function **old_enough()**, which receives a single parameter, **age**, a single strictly positive integer denoting the age of a given person in years.\n",
    "\n",
    "The function returns two parameters:\n",
    "- The first one is a boolean, **can_vote**\n",
    "    - it is set to True, if the person is at least 21 years old,\n",
    "    - it is set to False, if the person's age is strictly lower than 21.\n",
    "- The second one, is a variable **number**\n",
    "    - it is set to None, if the person is at least 21 years old,\n",
    "    - if the person's age is strictly lower than 21, then it consists of the number of years the person will have to wait before being allowed to vote.\n",
    "\n",
    "For instance, \n",
    "- if **age = 42**, the function should return **can_vote = True** and **number = None**,\n",
    "- if **age = 18**, the function should return **can_vote = False** and **number = 3**,\n",
    "- if **age = 21**, the function should return **can_vote = True** and **number = None**."
   ]
  },
  {
   "cell_type": "code",
   "execution_count": 1,
   "id": "f7913d09",
   "metadata": {},
   "outputs": [],
   "source": [
    "def old_enough(age):\n",
    "    if(age>21):\n",
    "        return True, None\n",
    "    else:\n",
    "        return False, 21 - age"
   ]
  },
  {
   "cell_type": "code",
   "execution_count": 2,
   "id": "ae0f3390",
   "metadata": {
    "scrolled": true
   },
   "outputs": [
    {
     "name": "stdout",
     "output_type": "stream",
     "text": [
      "(True, None)\n",
      "(False, 3)\n",
      "(False, 0)\n"
     ]
    }
   ],
   "source": [
    "print(old_enough(42))\n",
    "print(old_enough(18))\n",
    "print(old_enough(21))"
   ]
  },
  {
   "cell_type": "markdown",
   "id": "85e42ceb",
   "metadata": {},
   "source": [
    "## 2. Min, max and mean\n",
    "\n",
    "Write a function that receives a list, with numbers sorted in ascending order, as shown below."
   ]
  },
  {
   "cell_type": "code",
   "execution_count": 3,
   "id": "6f609bdb",
   "metadata": {},
   "outputs": [],
   "source": [
    "numbers_list = [1,2,4,5,7,7,8]"
   ]
  },
  {
   "cell_type": "markdown",
   "id": "da4b1b58",
   "metadata": {},
   "source": [
    "The function should return four numbers, corresponding to the min, max and mean values in the list."
   ]
  },
  {
   "cell_type": "code",
   "execution_count": 4,
   "id": "243d47c2",
   "metadata": {},
   "outputs": [],
   "source": [
    "min_val = 1\n",
    "max_val = 8\n",
    "mean_val = 4.857142857142857"
   ]
  },
  {
   "cell_type": "code",
   "execution_count": 5,
   "id": "98482d6e",
   "metadata": {},
   "outputs": [],
   "source": [
    "def min_max_mean_median(mylist):\n",
    "    print(\"Max value =\", max(mylist))\n",
    "    print(\"Min Value =\" , min(mylist))\n",
    "    total = 0\n",
    "    count = 0\n",
    "    for i in mylist:\n",
    "        total += i\n",
    "        count += 1\n",
    "    mean = total/count\n",
    "    print(\"Mean value =\", mean)\n",
    "    return min(mylist), max(mylist), mean"
   ]
  },
  {
   "cell_type": "code",
   "execution_count": 6,
   "id": "28e5934e",
   "metadata": {},
   "outputs": [],
   "source": [
    "def min_max_mean_median(mylist):\n",
    "    a = len(mylist)\n",
    "    print(\"Max value =\", max(mylist))\n",
    "    print(\"Min Value =\" , min(mylist))\n",
    "    mean = sum(mylist)/len(mylist)\n",
    "    print(\"Mean value =\", mean)\n",
    "    return min(mylist), max(mylist), mean"
   ]
  },
  {
   "cell_type": "code",
   "execution_count": 7,
   "id": "6f072974",
   "metadata": {},
   "outputs": [
    {
     "name": "stdout",
     "output_type": "stream",
     "text": [
      "Max value = 4\n",
      "Min Value = 1\n",
      "Mean value = 2.5\n"
     ]
    },
    {
     "data": {
      "text/plain": [
       "(1, 4, 2.5)"
      ]
     },
     "execution_count": 7,
     "metadata": {},
     "output_type": "execute_result"
    }
   ],
   "source": [
    "numbers_list = [1,2,3,4]\n",
    "min_max_mean_median(numbers_list)"
   ]
  },
  {
   "cell_type": "code",
   "execution_count": 8,
   "id": "831cc4dc",
   "metadata": {},
   "outputs": [
    {
     "name": "stdout",
     "output_type": "stream",
     "text": [
      "Max value = 5\n",
      "Min Value = 1\n",
      "Mean value = 3.0\n"
     ]
    },
    {
     "data": {
      "text/plain": [
       "(1, 5, 3.0)"
      ]
     },
     "execution_count": 8,
     "metadata": {},
     "output_type": "execute_result"
    }
   ],
   "source": [
    "numbers_list = [1,2,3,4,5]\n",
    "min_max_mean_median(numbers_list)"
   ]
  },
  {
   "cell_type": "markdown",
   "id": "feb2f720",
   "metadata": {},
   "source": [
    "## 3. Convert time\n",
    "\n",
    "Write a function **convert_hours()**, which receives a single parameter, **total_hours**, a single positive integer denoting a number of hours.\n",
    "\n",
    "The function returns three values, **weeks**, **days** and **hours**, corresponding to the number of weeks, days and hours in **total_hours**.\n",
    "\n",
    "For instance, \n",
    "- if **total_hours = 7**, the function should return **weeks = 0**, **days = 0** and **hours = 7**,\n",
    "- if **total_hours = 55**, the function should return **weeks = 0**, **days = 2** and **hours = 7**,\n",
    "- if **total_hours = 247**, the function should return **weeks = 1**, **days = 3** and **hours = 7**,"
   ]
  },
  {
   "cell_type": "code",
   "execution_count": 9,
   "id": "002279d5",
   "metadata": {},
   "outputs": [],
   "source": [
    "def convert_hours(total_hours):\n",
    "    weeks = total_hours//(24*7)\n",
    "    days = (total_hours  - weeks*24*7)//24\n",
    "    hours = total_hours - weeks*24*7 - days*24\n",
    "    return weeks, days, hours"
   ]
  },
  {
   "cell_type": "code",
   "execution_count": 10,
   "id": "2210dcfd",
   "metadata": {
    "scrolled": true
   },
   "outputs": [
    {
     "name": "stdout",
     "output_type": "stream",
     "text": [
      "(0, 0, 7)\n",
      "(0, 2, 7)\n",
      "(1, 3, 7)\n"
     ]
    }
   ],
   "source": [
    "print(convert_hours(7))\n",
    "print(convert_hours(55))\n",
    "print(convert_hours(247))"
   ]
  },
  {
   "cell_type": "markdown",
   "id": "b75e09dc",
   "metadata": {},
   "source": [
    "## 4. Leap Year\n",
    "\n",
    "Write a function **is_leap_year()**, which receives a single parameter, **year**, a single strictly positive integer denoting a year.\n",
    "\n",
    "The function returns a single boolean, **is_ly**, which is set to True if the year is a leap year and False otherwise.\n",
    "\n",
    "According to Wikipedia, a leap year is defined as follows:\n",
    "\n",
    "*Every year that is exactly divisible by four is a leap year, except for years that are exactly divisible by 100, but these centurial years are leap years if they are exactly divisible by 400. For example, the years 1700, 1800, and 1900 are not leap years, but the years 1600 and 2000 are.*\n",
    "\n",
    "For instance,\n",
    "- if **year = 1996**, the function should return **is_ly = True**,\n",
    "- if **year = 1997**, the function should return **is_ly = False**,\n",
    "- if **year = 1700**, the function should return **is_ly = False**,\n",
    "- if **year = 2000**, the function should return **is_ly = True**."
   ]
  },
  {
   "cell_type": "code",
   "execution_count": 11,
   "id": "ad1b2491",
   "metadata": {},
   "outputs": [],
   "source": [
    "def is_leap_year(year):\n",
    "    if(not year % 4 == 0):\n",
    "        is_ly = False\n",
    "    elif(not year % 100 == 0):\n",
    "        is_ly = True\n",
    "    elif(not year % 400 == 0):\n",
    "        is_ly = False\n",
    "    else:\n",
    "        is_ly = True\n",
    "    return is_ly"
   ]
  },
  {
   "cell_type": "code",
   "execution_count": 12,
   "id": "0dc01c53",
   "metadata": {
    "scrolled": true
   },
   "outputs": [
    {
     "name": "stdout",
     "output_type": "stream",
     "text": [
      "True\n",
      "False\n",
      "False\n",
      "True\n"
     ]
    }
   ],
   "source": [
    "print(is_leap_year(1996))\n",
    "print(is_leap_year(1997))\n",
    "print(is_leap_year(1700))\n",
    "print(is_leap_year(2000))"
   ]
  },
  {
   "cell_type": "markdown",
   "id": "48a4d42c",
   "metadata": {},
   "source": [
    "## 5. How many divisors\n",
    "\n",
    "Write a function **how_many_divide()**, which receives a single parameter, **number**, a single strictly positive integer denoting a number.\n",
    "\n",
    "The function returns a single integer, **counter**, which corresponds to the number of times the number can be divided by 2, while remaining integer. \n",
    "\n",
    "For instance,\n",
    "- if **number = 3**, the function should return **counter = 0**, because $ 3 = 2^0 \\times 3 $,\n",
    "- if **number = 4**, the function should return **counter = 2**, because $4 = 2^2$,\n",
    "- if **number = 12**, the function should return **counter = 2**, because $12 = 2^2 \\times 3$,\n",
    "- if **number = 64**, the function should return **counter = 6**. because $64 = 2^6$,"
   ]
  },
  {
   "cell_type": "code",
   "execution_count": 13,
   "id": "99f89e7f",
   "metadata": {},
   "outputs": [],
   "source": [
    "def how_many_divide(number):\n",
    "    \n",
    "    # Other cases\n",
    "    counter = 0\n",
    "    can_divide = True\n",
    "    while(can_divide):\n",
    "        counter += 1\n",
    "        can_divide = ((number % (2**counter)) == 0)\n",
    "    return counter - 1"
   ]
  },
  {
   "cell_type": "code",
   "execution_count": 14,
   "id": "e72108a4",
   "metadata": {
    "scrolled": true
   },
   "outputs": [
    {
     "name": "stdout",
     "output_type": "stream",
     "text": [
      "0\n",
      "2\n",
      "2\n",
      "6\n"
     ]
    }
   ],
   "source": [
    "print(how_many_divide(3))\n",
    "print(how_many_divide(4))\n",
    "print(how_many_divide(12))\n",
    "print(how_many_divide(64))"
   ]
  },
  {
   "cell_type": "markdown",
   "id": "ad8de6ec",
   "metadata": {},
   "source": [
    "## 6. Lottery gains computation\n",
    "\n",
    "Write a function that receives two lists:\n",
    "- the first list contains six elements, which correspond to the numbers of a lottery ticket, bought by the user,\n",
    "- the second list also contains six elements, which correspond to the numbers drawn for this lottery.\n",
    "\n",
    "An example is shown below."
   ]
  },
  {
   "cell_type": "code",
   "execution_count": 15,
   "id": "ed38aff1",
   "metadata": {},
   "outputs": [],
   "source": [
    "ticket_numbers = [2,3,7,17,21,36]\n",
    "winning_numbers = [3,11,13,17,24,28]"
   ]
  },
  {
   "cell_type": "markdown",
   "id": "7683bd16",
   "metadata": {},
   "source": [
    "The function should return the number of winning numbers that the ticket contains, based on the drawn numbers. In the example shown above, it should return"
   ]
  },
  {
   "cell_type": "code",
   "execution_count": 16,
   "id": "e4b14c90",
   "metadata": {},
   "outputs": [],
   "source": [
    "number = 2"
   ]
  },
  {
   "cell_type": "markdown",
   "id": "e95ac4c5",
   "metadata": {},
   "source": [
    "### Your code below!"
   ]
  },
  {
   "cell_type": "code",
   "execution_count": 17,
   "id": "75722ad2",
   "metadata": {},
   "outputs": [],
   "source": [
    "def compute_winning_numbers(ticket_numbers, winning_numbers):\n",
    "    number = 0\n",
    "    for element in ticket_numbers:\n",
    "        if element in winning_numbers:\n",
    "            number += 1\n",
    "    return number"
   ]
  },
  {
   "cell_type": "code",
   "execution_count": 18,
   "id": "2542508c",
   "metadata": {},
   "outputs": [
    {
     "name": "stdout",
     "output_type": "stream",
     "text": [
      "2\n",
      "4\n"
     ]
    }
   ],
   "source": [
    "print(compute_winning_numbers([2,3,7,17,21,36],[3,11,13,17,24,28]))\n",
    "print(compute_winning_numbers([2,3,11,17,24,36],[3,11,13,17,24,28]))"
   ]
  },
  {
   "cell_type": "code",
   "execution_count": 19,
   "id": "2a043e81",
   "metadata": {},
   "outputs": [],
   "source": [
    "def compute_winning_numbers_v2(ticket_numbers, winning_numbers):\n",
    "    # Swapping ticket_numbers and winning_numbers,\n",
    "    # does not alter the logic of the function\n",
    "    number = 0\n",
    "    for element in winning_numbers:\n",
    "        if(element in ticket_numbers):\n",
    "            number += 1\n",
    "    return number"
   ]
  },
  {
   "cell_type": "code",
   "execution_count": 20,
   "id": "a86be26f",
   "metadata": {},
   "outputs": [
    {
     "name": "stdout",
     "output_type": "stream",
     "text": [
      "2\n",
      "4\n"
     ]
    }
   ],
   "source": [
    "print(compute_winning_numbers_v2([2,3,7,17,21,36],[3,11,13,17,24,28]))\n",
    "print(compute_winning_numbers_v2([2,3,11,17,24,36],[3,11,13,17,24,28]))"
   ]
  },
  {
   "cell_type": "markdown",
   "id": "e37f92fe",
   "metadata": {},
   "source": [
    "## 7. Is a sum of squares\n",
    "\n",
    "Write a function **is_sum_squares()**, which receives a single parameter, **number**, a strictly positive integer.\n",
    "The function returns a single boolean, **is_sq**, which is set to True if the number can be written as the sum of two squares, and False otherwise.\n",
    "\n",
    "For instance,\n",
    "- if **number = 9**, the function should return **is_sq = True**, because $ 9 = 0^2 + 3^2 $,\n",
    "- if **number = 5**, the function should return **is_sq = True**, because $ 5 = 1^2 + 2^2 $,\n",
    "- if **number = 50**, the function should return **is_sq = True**, because $ 50 = 5^2 + 5^2 $,\n",
    "- if **number = 7**, the function should return **is_sq = False**, because it cannot be written as a sum of two squares."
   ]
  },
  {
   "cell_type": "code",
   "execution_count": 21,
   "id": "2537b5d8",
   "metadata": {},
   "outputs": [],
   "source": [
    "def is_sum_squares(number):\n",
    "    \n",
    "    bound = number**0.5\n",
    "    # Shortcut: check if number is already a perfect square?\n",
    "    if(int(bound) == bound):\n",
    "        return True\n",
    "    else:\n",
    "        bound = int(bound)\n",
    "        \n",
    "    # Otherwise check all possible combinations\n",
    "    for number1 in range(bound + 1):\n",
    "        for number2 in range(bound + 1):\n",
    "            if(number1**2 + number2**2 == number):\n",
    "                return True\n",
    "    return False"
   ]
  },
  {
   "cell_type": "code",
   "execution_count": 22,
   "id": "3ca145ca",
   "metadata": {
    "scrolled": true
   },
   "outputs": [
    {
     "name": "stdout",
     "output_type": "stream",
     "text": [
      "True\n",
      "True\n",
      "True\n",
      "False\n"
     ]
    }
   ],
   "source": [
    "print(is_sum_squares(9))\n",
    "print(is_sum_squares(5))\n",
    "print(is_sum_squares(50))\n",
    "print(is_sum_squares(7))"
   ]
  },
  {
   "cell_type": "markdown",
   "id": "ce2c7ac2",
   "metadata": {},
   "source": [
    "## 8. How many months\n",
    "\n",
    "Write a function **how_many_months()**, which receives two parameters:\n",
    "- initial_amount, a strictly positive, integer corresponding to an amount of dollars in SGD to be deposited on a bank account,\n",
    "- rate, a strictly positive float, corresponding to a monthly growing rate, in percents, for your bank account.\n",
    "\n",
    "Each month, the money currently stored on the bank account will increase by the given rate.\n",
    "For instance, if the initial money deposit is 10000 SGD (i.e. **initial_amount = 10000**), and the rate is 1% (i.e. **rate = 1.0**), then at the end of the first month, the money on the bank account will be\n",
    "\n",
    "$$ 10000 \\times (1 + 1/100) = 10100 $$\n",
    "\n",
    "At the end of the second month, the money in the bank account will be\n",
    "\n",
    "$$ 10100 \\times (1 + 1/100) = 10201 = 10000 \\times (1 + 1/100)^2 $$\n",
    "\n",
    "And so on.\n",
    "\n",
    "The function returns is single integer **months** corresponding to the number of months needed for the bank account to reach 1 million SGD.\n",
    "\n",
    "No additional money will be added to the account, except for the initial deposit.\n",
    "\n",
    "For instance, \n",
    "- if **initial_amount = 10000** and **rate = 1.0**, the function should return **months = 463**,\n",
    "- if **initial_amount = 10000** and **rate = 5.0**, the function should return **months = 95**,\n",
    "- if **initial_amount = 100000** and **rate = 5.0**, the function should return **months = 48**,\n",
    "- if **initial_amount = 1000000** and **rate = 5.0**, the function should return **months = 0**,"
   ]
  },
  {
   "cell_type": "code",
   "execution_count": 23,
   "id": "56e89b88",
   "metadata": {},
   "outputs": [],
   "source": [
    "def how_many_months(initial_amount, rate):\n",
    "    months = 0\n",
    "    while(initial_amount<1000000):\n",
    "        months += 1\n",
    "        initial_amount *= (1+rate/100)\n",
    "    return months"
   ]
  },
  {
   "cell_type": "code",
   "execution_count": 24,
   "id": "95229e69",
   "metadata": {},
   "outputs": [
    {
     "name": "stdout",
     "output_type": "stream",
     "text": [
      "463\n",
      "95\n",
      "48\n",
      "0\n"
     ]
    }
   ],
   "source": [
    "print(how_many_months(10000, 1.0))\n",
    "print(how_many_months(10000, 5.0))\n",
    "print(how_many_months(100000, 5.0))\n",
    "print(how_many_months(1000000, 5.0))"
   ]
  },
  {
   "cell_type": "markdown",
   "id": "4017e13e",
   "metadata": {},
   "source": [
    "## 9. Is prime\n",
    "\n",
    "Write a function **is_prime()**, which receives a single parameter, **number**, a single positive integer.\n",
    "\n",
    "The function returns a boolean **is_p** set to True, if the number is prime and False otherwise.\n",
    "\n",
    "According to Wikipedia:\n",
    "\n",
    "*A prime number is a number, which admits exactly two distinct positive divisors, 1 and the number itself.*\n",
    "\n",
    "For instance, \n",
    "- if **number = 1**, the function should return **is_p = False** (admits only one divisor, which is 1),\n",
    "- if **number = 3**, the function should return **is_p = True** (admits two divisors, which are 1 and 3),\n",
    "- if **number = 9**, the function should return **is_p = False** (admits three divisors, which are 1, 3 and 9),"
   ]
  },
  {
   "cell_type": "code",
   "execution_count": 25,
   "id": "5111a093",
   "metadata": {},
   "outputs": [],
   "source": [
    "def is_prime(number):\n",
    "    \n",
    "    # Cover for 1 as particular case\n",
    "    if number == 1:\n",
    "        return False\n",
    "    \n",
    "    # Check for all numbers in [2, number]\n",
    "    # If one is a divisor, the number is not prime\n",
    "    for divisor in range(2, int(number**0.5) + 1):\n",
    "        if(number % divisor == 0):\n",
    "            return False\n",
    "    \n",
    "    return True"
   ]
  },
  {
   "cell_type": "code",
   "execution_count": 26,
   "id": "bd4db958",
   "metadata": {},
   "outputs": [
    {
     "name": "stdout",
     "output_type": "stream",
     "text": [
      "False\n",
      "True\n",
      "False\n"
     ]
    }
   ],
   "source": [
    "print(is_prime(1))\n",
    "print(is_prime(3))\n",
    "print(is_prime(6))"
   ]
  },
  {
   "cell_type": "code",
   "execution_count": null,
   "id": "8b597188",
   "metadata": {},
   "outputs": [],
   "source": []
  }
 ],
 "metadata": {
  "kernelspec": {
   "display_name": "Python 3 (ipykernel)",
   "language": "python",
   "name": "python3"
  },
  "language_info": {
   "codemirror_mode": {
    "name": "ipython",
    "version": 3
   },
   "file_extension": ".py",
   "mimetype": "text/x-python",
   "name": "python",
   "nbconvert_exporter": "python",
   "pygments_lexer": "ipython3",
   "version": "3.11.4"
  }
 },
 "nbformat": 4,
 "nbformat_minor": 5
}
