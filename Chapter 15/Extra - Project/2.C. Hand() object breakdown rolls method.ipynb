{
 "cells": [
  {
   "cell_type": "markdown",
   "id": "705d8d13",
   "metadata": {},
   "source": [
    "# 2.C. Hand() object breakdown rolls method\n",
    "\n",
    "In this notebook, we will proceed with the design of our Hand() object, and implement a breakdown method for our rolls, called get_dict.\n",
    "\n",
    "We will reuse the Dice() object from previous notebooks and import it from the dice.py file, using the command below. We will also be importing some needed functions from numpy.\n",
    "\n",
    "Note: you may use your own version of the Dice() class if you want, just make sure it passed the test cases in the 1.X. notebooks!"
   ]
  },
  {
   "cell_type": "code",
   "execution_count": 3,
   "id": "f6e47e3c",
   "metadata": {},
   "outputs": [],
   "source": [
    "from numpy.random import choice, seed\n",
    "from dice import Dice"
   ]
  },
  {
   "cell_type": "markdown",
   "id": "a08e35e5",
   "metadata": {},
   "source": [
    "### Task\n",
    "\n",
    "Write the get_dict method for our Hand() object.\n",
    "It should\n",
    "- return a dictionary, breaking down the current values in the five Dice() objects.\n",
    "- the keys of said dictionary will be the values observed on the Dice() objects and the values assigned to the keys will be the number of times said value appeared among the five Dice() objects.\n",
    "- for instance, if the dice values, in the dice_values attribute, are currently [2, 2, 1, 6, 5], it should then return the following dictionary {2: 2, 1: 1, 6: 1, 5: 1}"
   ]
  },
  {
   "cell_type": "code",
   "execution_count": 23,
   "id": "a108daf6",
   "metadata": {},
   "outputs": [],
   "source": [
    "class Hand():\n",
    "    \n",
    "    def __init__(self):\n",
    "        # Create an attribute number_dice,\n",
    "        # corresponding to the number of dice that the hand contains.\n",
    "        # In our case, taht will be 5.\n",
    "        self.number_dice = 5\n",
    "        \n",
    "        # Create an attribute list_dice,\n",
    "        # which contains self.number_dice Dice() objects.\n",
    "        self.list_dice = [Dice() for _ in range(self.number_dice)]\n",
    "        \n",
    "        # Call the method get_rolls() to generate an attribute dice_values\n",
    "        # which will consist of list of the values obtained after rolling all\n",
    "        # the dice once.\n",
    "        self.get_rolls()\n",
    "        \n",
    "        # Define an attribute maximal_rolls set to 3\n",
    "        # And an attribute current_roll set to 1.\n",
    "        self.maximal_rolls = 3\n",
    "        self.current_roll = 1\n",
    "        \n",
    "    def get_rolls(self):\n",
    "        # This method simply initializes/updates an attribute dice_values,\n",
    "        # which contains the five dice_value attributes contained in \n",
    "        # each of the five Dice() objects in the list_dice attribute.\n",
    "        self.dice_values = [dice.dice_value for dice in self.list_dice]\n",
    "        \n",
    "    \n",
    "    def reroll_list(self, dice_reroll_list):\n",
    "        # This method will reroll the dice objects in self.list_dice\n",
    "        # For instance, if dice_reroll_list = [0, 2, 4], we will reroll the\n",
    "        # first, third and fifth dice in the list_dice attribute.\n",
    "        # The non-specified indexes will not be re-rolled.\n",
    "        # It should also increment the current_roll attribute by 1.\n",
    "        \n",
    "        for i in dice_reroll_list:\n",
    "            # Reroll dice with index i.\n",
    "            # Do so for each index value in dice_list.\n",
    "            self.list_dice[i].roll()\n",
    "            \n",
    "        # Update rolls values in dice_values by calling the get_rolls() method\n",
    "        self.get_rolls()\n",
    "        \n",
    "        # Increment roll\n",
    "        self.current_roll += 1\n",
    "        \n",
    "        \n",
    "    def get_dict(self):\n",
    "        # This method returns a dictionary whose keys will be the values of dices\n",
    "        # seen in the dice_values attribute, and the matching values of the keys\n",
    "        # will correspond to the number of times said value appears in dice_values.\n",
    "        pass"
   ]
  },
  {
   "cell_type": "markdown",
   "id": "57e2ac26",
   "metadata": {},
   "source": [
    "### Test cases\n",
    "\n",
    "The following test cases should pass."
   ]
  },
  {
   "cell_type": "code",
   "execution_count": 24,
   "id": "42c24b35",
   "metadata": {},
   "outputs": [
    {
     "name": "stdout",
     "output_type": "stream",
     "text": [
      "[2, 2, 1, 6, 5]\n",
      "{2: 2, 1: 1, 6: 1, 5: 1}\n"
     ]
    }
   ],
   "source": [
    "# This should print [2, 2, 1, 6, 5]\n",
    "# and {2: 2, 1: 1, 6: 1, 5: 1}.\n",
    "seed(17)\n",
    "hand = Hand()\n",
    "print(hand.dice_values)\n",
    "values_dict = hand.get_dict()\n",
    "print(values_dict)"
   ]
  },
  {
   "cell_type": "code",
   "execution_count": null,
   "id": "a148a2c5",
   "metadata": {},
   "outputs": [],
   "source": []
  }
 ],
 "metadata": {
  "kernelspec": {
   "display_name": "Python 3 (ipykernel)",
   "language": "python",
   "name": "python3"
  },
  "language_info": {
   "codemirror_mode": {
    "name": "ipython",
    "version": 3
   },
   "file_extension": ".py",
   "mimetype": "text/x-python",
   "name": "python",
   "nbconvert_exporter": "python",
   "pygments_lexer": "ipython3",
   "version": "3.10.5"
  }
 },
 "nbformat": 4,
 "nbformat_minor": 5
}
