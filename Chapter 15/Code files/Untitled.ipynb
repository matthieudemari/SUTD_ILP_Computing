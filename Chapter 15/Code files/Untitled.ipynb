{
 "cells": [
  {
   "cell_type": "code",
   "execution_count": 10,
   "id": "4cfe7483-5758-44e2-8e37-0537724e4bcf",
   "metadata": {},
   "outputs": [],
   "source": [
    "class Hero:\n",
    "    name = \"Sir Meowsalot\"\n",
    "    job = \"Warrior\"\n",
    "    lifepoints = 100\n",
    "\n",
    "    def __call__(self):\n",
    "        return \"hello\""
   ]
  },
  {
   "cell_type": "code",
   "execution_count": 11,
   "id": "bfba0348-e673-45a0-8a5a-8f03a52efbbc",
   "metadata": {},
   "outputs": [],
   "source": [
    "h = Hero()"
   ]
  },
  {
   "cell_type": "code",
   "execution_count": 13,
   "id": "8365eb49-928a-4f23-93e0-5a185e601f1c",
   "metadata": {},
   "outputs": [
    {
     "name": "stdout",
     "output_type": "stream",
     "text": [
      "hello\n"
     ]
    }
   ],
   "source": [
    "y = h()\n",
    "print(y)"
   ]
  },
  {
   "cell_type": "code",
   "execution_count": 14,
   "id": "e01be767-e25c-41c3-bc7f-02655d46f9b2",
   "metadata": {},
   "outputs": [],
   "source": [
    "def f(x):\n",
    "    return 2*x"
   ]
  },
  {
   "cell_type": "code",
   "execution_count": 15,
   "id": "7236cfd3-6b90-48ab-9fdf-ce3ad049000f",
   "metadata": {},
   "outputs": [
    {
     "name": "stdout",
     "output_type": "stream",
     "text": [
      "8\n"
     ]
    }
   ],
   "source": [
    "print(f(4))"
   ]
  },
  {
   "cell_type": "code",
   "execution_count": 16,
   "id": "c6c9f9c2-20b9-4cd9-9eb5-2284a9c9dbae",
   "metadata": {},
   "outputs": [],
   "source": [
    "class Function:\n",
    "\n",
    "    def __call__(self, x):\n",
    "        return 2*x"
   ]
  },
  {
   "cell_type": "code",
   "execution_count": 17,
   "id": "f59012ce-f290-4c94-9d82-832535549974",
   "metadata": {},
   "outputs": [],
   "source": [
    "f = Function()"
   ]
  },
  {
   "cell_type": "code",
   "execution_count": 18,
   "id": "d387f10d-d520-496c-9308-370b346e01cc",
   "metadata": {},
   "outputs": [
    {
     "name": "stdout",
     "output_type": "stream",
     "text": [
      "8\n"
     ]
    }
   ],
   "source": [
    "print(f(4))"
   ]
  },
  {
   "cell_type": "code",
   "execution_count": 19,
   "id": "24c4bef2-781f-44f7-851d-5f6855b2ae16",
   "metadata": {},
   "outputs": [],
   "source": [
    "def h(f, g, x):\n",
    "    return f(x) + g(x)"
   ]
  },
  {
   "cell_type": "code",
   "execution_count": 20,
   "id": "b79b9cb5-2e5c-4ec6-92ad-5cf6af06c94d",
   "metadata": {},
   "outputs": [
    {
     "name": "stdout",
     "output_type": "stream",
     "text": [
      "2.0\n"
     ]
    }
   ],
   "source": [
    "from numpy import cos, exp\n",
    "print(h(f = cos, g = exp, x = 0))"
   ]
  },
  {
   "cell_type": "code",
   "execution_count": null,
   "id": "9200fdce-e3dc-4ed0-a982-fd7cc942d136",
   "metadata": {},
   "outputs": [],
   "source": []
  }
 ],
 "metadata": {
  "kernelspec": {
   "display_name": "Python 3 (ipykernel)",
   "language": "python",
   "name": "python3"
  },
  "language_info": {
   "codemirror_mode": {
    "name": "ipython",
    "version": 3
   },
   "file_extension": ".py",
   "mimetype": "text/x-python",
   "name": "python",
   "nbconvert_exporter": "python",
   "pygments_lexer": "ipython3",
   "version": "3.13.1"
  }
 },
 "nbformat": 4,
 "nbformat_minor": 5
}
