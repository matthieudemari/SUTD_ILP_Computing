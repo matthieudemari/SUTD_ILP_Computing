{
 "cells": [
  {
   "cell_type": "markdown",
   "metadata": {},
   "source": [
    "# 4. Is-a relationships - solution\n",
    "\n",
    "This fourth and last Notebook will investigate the Is-a relationship concept, namely the concept of reusing custom items to define new ones, sharing similar attributes/methods."
   ]
  },
  {
   "cell_type": "markdown",
   "metadata": {},
   "source": [
    "### Task 1: Pikachus are Pokemons\n",
    "\n",
    "In this task, we will reuse the Pokemon objects from earlier, as shown below."
   ]
  },
  {
   "cell_type": "code",
   "execution_count": 1,
   "metadata": {},
   "outputs": [],
   "source": [
    "class Pokemon():\n",
    "    def __init__(self, name, types, level, HP, attack, defense):\n",
    "        self.name = name\n",
    "        self.types = types\n",
    "        self.level = level\n",
    "        self.HP = HP\n",
    "        self.attack = attack\n",
    "        self.defense = defense\n",
    "    def yell(self):\n",
    "        print(\"{}!\".format(self.name))"
   ]
  },
  {
   "cell_type": "markdown",
   "metadata": {},
   "source": [
    "Our objective is to define a Pikachu object, as a shortcut for creating Pokemons, with names Pikachu, etc.\n",
    "\n",
    "Our Pikachu custom object will therefore be a child class of the Pokemon one, as shown below.\n",
    "\n",
    "Your task is to write the constructor method for the Pikachu object. This constructor will only require four attributes (level, HP, attack and defense), ad Pikachus objects will always be Pokemons with name = \"Pikachu\" and types = $ [\"Electric\", None] $ attributes.\n",
    "\n",
    "Your subclass Pikachu should reuse the __ init __ method of the Pokemon one, with well-chosen values."
   ]
  },
  {
   "cell_type": "code",
   "execution_count": 2,
   "metadata": {},
   "outputs": [],
   "source": [
    "class Pikachu(Pokemon):\n",
    "    def __init__(self, level, HP, attack, defense):\n",
    "        Pokemon.__init__(self, name = \"Pikachu\", types = [\"Electric\", None], \\\n",
    "                         level = level, HP = HP, attack = attack, defense = defense)\n",
    "    \n",
    "    def thunder_shock(self):\n",
    "        print(\"Pikachu used Thunder Shock!\")"
   ]
  },
  {
   "cell_type": "markdown",
   "metadata": {},
   "source": [
    "#### Test cases\n",
    "\n",
    "This should now allow you to create Pikachus in much simpler way!"
   ]
  },
  {
   "cell_type": "code",
   "execution_count": 3,
   "metadata": {},
   "outputs": [
    {
     "name": "stdout",
     "output_type": "stream",
     "text": [
      "{'name': 'Pikachu', 'types': ['Electric', None], 'level': 5, 'HP': 25, 'attack': 20, 'defense': 12}\n"
     ]
    }
   ],
   "source": [
    "pikachu = Pikachu(level = 5, HP = 25, attack = 20, defense = 12)\n",
    "# This should display\n",
    "print(pikachu.__dict__)"
   ]
  },
  {
   "cell_type": "code",
   "execution_count": 4,
   "metadata": {},
   "outputs": [
    {
     "name": "stdout",
     "output_type": "stream",
     "text": [
      "Pikachu!\n"
     ]
    }
   ],
   "source": [
    "# This should work, as it will reuse the yell method from the generic \n",
    "# Pokemon class, resulting in a Pikachu! being shown on screen\n",
    "pikachu.yell()"
   ]
  },
  {
   "cell_type": "code",
   "execution_count": 5,
   "metadata": {},
   "outputs": [
    {
     "name": "stdout",
     "output_type": "stream",
     "text": [
      "Pikachu used Thunder Shock!\n"
     ]
    }
   ],
   "source": [
    "# You can also define attacks that only Pikachus will have using methods!\n",
    "pikachu.thunder_shock()"
   ]
  },
  {
   "cell_type": "code",
   "execution_count": 6,
   "metadata": {},
   "outputs": [
    {
     "name": "stdout",
     "output_type": "stream",
     "text": [
      "Bulbazaur!\n"
     ]
    },
    {
     "ename": "AttributeError",
     "evalue": "'Pokemon' object has no attribute 'thunder_shock'",
     "output_type": "error",
     "traceback": [
      "\u001b[1;31m---------------------------------------------------------------------------\u001b[0m",
      "\u001b[1;31mAttributeError\u001b[0m                            Traceback (most recent call last)",
      "\u001b[1;32m<ipython-input-6-76a8b0aa1270>\u001b[0m in \u001b[0;36m<module>\u001b[1;34m\u001b[0m\n\u001b[0;32m     13\u001b[0m \u001b[1;31m# and cannot use the thunder_shock() attack method!\u001b[0m\u001b[1;33m\u001b[0m\u001b[1;33m\u001b[0m\u001b[1;33m\u001b[0m\u001b[0m\n\u001b[0;32m     14\u001b[0m \u001b[1;31m# (Error message should be: 'Pokemon' object has no attribute 'thunder_shock')\u001b[0m\u001b[1;33m\u001b[0m\u001b[1;33m\u001b[0m\u001b[1;33m\u001b[0m\u001b[0m\n\u001b[1;32m---> 15\u001b[1;33m \u001b[0mpokemon2\u001b[0m\u001b[1;33m.\u001b[0m\u001b[0mthunder_shock\u001b[0m\u001b[1;33m(\u001b[0m\u001b[1;33m)\u001b[0m\u001b[1;33m\u001b[0m\u001b[1;33m\u001b[0m\u001b[0m\n\u001b[0m",
      "\u001b[1;31mAttributeError\u001b[0m: 'Pokemon' object has no attribute 'thunder_shock'"
     ]
    }
   ],
   "source": [
    "# Other pokemons will not be able to use this attack!\n",
    "pokemon2 = Pokemon(name = \"Bulbazaur\", \\\n",
    "                   level = 12,\n",
    "                   types = [\"Grass\", None],\n",
    "                   HP = 28, \\\n",
    "                   attack = 22, \\\n",
    "                   defense = 16)\n",
    "\n",
    "# This action should work and should display Bulbazaur! on screen\n",
    "pokemon2.yell()\n",
    "\n",
    "# This will produce an error, as Bulbazaur is not a Pikachu\n",
    "# and cannot use the thunder_shock() attack method!\n",
    "# (Error message should be: 'Pokemon' object has no attribute 'thunder_shock')\n",
    "pokemon2.thunder_shock()"
   ]
  },
  {
   "cell_type": "code",
   "execution_count": null,
   "metadata": {},
   "outputs": [],
   "source": []
  }
 ],
 "metadata": {
  "kernelspec": {
   "display_name": "Python 3",
   "language": "python",
   "name": "python3"
  },
  "language_info": {
   "codemirror_mode": {
    "name": "ipython",
    "version": 3
   },
   "file_extension": ".py",
   "mimetype": "text/x-python",
   "name": "python",
   "nbconvert_exporter": "python",
   "pygments_lexer": "ipython3",
   "version": "3.9.6"
  }
 },
 "nbformat": 4,
 "nbformat_minor": 4
}
