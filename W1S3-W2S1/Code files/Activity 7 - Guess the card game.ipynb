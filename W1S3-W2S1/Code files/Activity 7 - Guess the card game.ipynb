{
 "cells": [
  {
   "cell_type": "markdown",
   "metadata": {},
   "source": [
    "# Activity 7 - Guess the card game"
   ]
  },
  {
   "cell_type": "markdown",
   "metadata": {},
   "source": [
    "### Problem statement\n",
    "\n",
    "We can define any card in a deck, by using two integers.\n",
    "- The first integer **suit_integer** takes the following values: 1 (for hearts), 2 (for diamonds), 3 (for spades), 4 (for clubs).\n",
    "- The second integer **value_integer** takes the following values: 1 (for ace), 2 (for 2), 3 (for 3), ..., 10 (for 10), 11 (for jack), 12 (for queen), 13 (for king).\n",
    "\n",
    "In this configuration, the **queen of hearts** is defined as the combination of two variables **suit_integer = 1 and value_integer = 12**.\n",
    "\n",
    "\n",
    "Let us consider two cards\n",
    "- The first card, defined with the variables **hidden_suit and hidden_value**, corresponds to the card that the user/player must guess. (This is something we would normally hide from the player, but let us pretend for now!)\n",
    "- The second card, defined with the variables **guessed_suit and guessed_value**, corresponds to the card guessed by the user, and these values must be acquired via input()."
   ]
  },
  {
   "cell_type": "markdown",
   "metadata": {},
   "source": [
    "### Tasks\n",
    "\n",
    "Write a function **guess_the_card()**, which\n",
    "1. Receives hidden_suit, hidden_value as the function inputs/parameters.\n",
    "2. Acquires guessed_suit, guessed_value from the user, using input() twice.\n",
    "3. Prints the following statements with appropriate True/False boolean values printed in the blanks.\n",
    "    - \"Your guess is the same as the hidden card: ______.\"\n",
    "    - \"You have correctly guessed the hidden card value or the hidden card suit: ______.\"\n",
    "    - \"The hidden card value is lower than the one you guessed: ______.\"\n",
    "    \n",
    "If it helps, you may choose to break down this big function into several subfunctions, which you will be designing and testing independently, as we did in activity 3!"
   ]
  },
  {
   "cell_type": "markdown",
   "metadata": {},
   "source": [
    "### Your code below!"
   ]
  },
  {
   "cell_type": "code",
   "execution_count": null,
   "metadata": {},
   "outputs": [],
   "source": [
    "# Write you function below!\n",
    "def guess_the_card(hidden_suit, hidden_value):\n",
    "    \n",
    "    # Acquire user input\n",
    "    guessed_suit = None\n",
    "    guessed_value = None\n",
    "    \n",
    "    # Print (same card)\n",
    "    print(None)\n",
    "    \n",
    "    # Print (same suit or value)\n",
    "    print(None)\n",
    "    \n",
    "    # Print (lower value)\n",
    "    print(None)"
   ]
  },
  {
   "cell_type": "code",
   "execution_count": null,
   "metadata": {},
   "outputs": [],
   "source": [
    "# Let's try it, to check if it works properly!\n",
    "# (test cases not given, figure some test cases out!)\n",
    "guess_the_card(hidden_suit = 1, hidden_value = 12)"
   ]
  },
  {
   "cell_type": "code",
   "execution_count": null,
   "metadata": {},
   "outputs": [],
   "source": []
  }
 ],
 "metadata": {
  "kernelspec": {
   "display_name": "Python 3 (ipykernel)",
   "language": "python",
   "name": "python3"
  },
  "language_info": {
   "codemirror_mode": {
    "name": "ipython",
    "version": 3
   },
   "file_extension": ".py",
   "mimetype": "text/x-python",
   "name": "python",
   "nbconvert_exporter": "python",
   "pygments_lexer": "ipython3",
   "version": "3.11.4"
  }
 },
 "nbformat": 4,
 "nbformat_minor": 4
}
