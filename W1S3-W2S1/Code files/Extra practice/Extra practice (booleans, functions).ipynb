{
 "cells": [
  {
   "cell_type": "markdown",
   "metadata": {},
   "source": [
    "# Extra practice (booleans, functions)\n",
    "\n",
    "In each activity below, we are asking you to write a **function** that will perform certain actions. We are however not providing any test cases, meaning that you will have to come up with your own ones to assess that your funcion behaves correctly!"
   ]
  },
  {
   "cell_type": "markdown",
   "metadata": {},
   "source": [
    "# 1. Area of a room\n",
    "\n",
    "Write a program that asks the user to enter the width and length of a room in meters and returns the area of the rectangular room in square meters.\n",
    "\n",
    "Optional: The function returns a second argument that is the perimeter of the room."
   ]
  },
  {
   "cell_type": "code",
   "execution_count": null,
   "metadata": {},
   "outputs": [],
   "source": []
  },
  {
   "cell_type": "markdown",
   "metadata": {},
   "source": [
    "# 2. How much money\n",
    "\n",
    "Write a program that asks the user to enter the number of 2 dollars, 5 dollars and 10 dollars bills he/she has in his/her wallet. The program then prints how much money the user has in total."
   ]
  },
  {
   "cell_type": "code",
   "execution_count": null,
   "metadata": {},
   "outputs": [],
   "source": []
  },
  {
   "cell_type": "markdown",
   "metadata": {},
   "source": [
    "# 3. Add GST\n",
    "\n",
    "Write a program that asks the user to enter total price of the items he/she just purchased (before tax).\n",
    "The program then returns the total price the user must pay, by including the GST (10%).\n",
    "\n",
    "Optional: Write a second function that applies GST (10%) and service tax (8%), in order."
   ]
  },
  {
   "cell_type": "code",
   "execution_count": null,
   "metadata": {},
   "outputs": [],
   "source": []
  },
  {
   "cell_type": "markdown",
   "metadata": {},
   "source": [
    "# 4. Temperature conversion\n",
    "\n",
    "Write a program that asks the user to enter a temperature in Celsius, and prints the temperature in Farenheit. You might have to look up the mathematical formula for conversion on Google!\n",
    "\n",
    "Optional: Write a function that converts a temperature in Farenheit back to Celsius, then a function that converts Farenheit to Kelvin."
   ]
  },
  {
   "cell_type": "code",
   "execution_count": null,
   "metadata": {},
   "outputs": [],
   "source": []
  },
  {
   "cell_type": "markdown",
   "metadata": {},
   "source": [
    "# 5. Area of a triangle\n",
    "\n",
    "Write a program that asks the user to enter the sizes of each side of a triangle.\n",
    "Let us call these sides s1, s2, s3.\n",
    "\n",
    "The program then displays the area of the triangle.\n",
    "\n",
    "**Note:** the area of a triangle can be computed as: \n",
    "\n",
    "$$ area = \\sqrt{s \\times (s-s1) \\times (s-s2) \\times (s-s3)} $$\n",
    "\n",
    "and\n",
    "\n",
    "$$ s = \\frac{(s1 + s2 +s3)}{2} $$"
   ]
  },
  {
   "cell_type": "code",
   "execution_count": null,
   "metadata": {},
   "outputs": [],
   "source": []
  },
  {
   "cell_type": "markdown",
   "metadata": {},
   "source": [
    "# 6. BMI index\n",
    "\n",
    "Write a program that asks the user to enter his height in centimeters and weight in kilograms.\n",
    "\n",
    "It then computes the BMI according to the formula below.\n",
    "\n",
    "$$ BMI = \\frac{(weight \\times 10000)}{(height \\times height)} $$\n",
    "\n",
    "Optional: The program should display extra information:\n",
    "- According to your BMI, you are underweight: True/False (BMI is below 18.5).\n",
    "- According to your BMI, you are overweight: True/False (BMI is above 25).\n",
    "- According to your BMI, you are in the healthy range: True/False (if BMI is above 18.5 and below 25)."
   ]
  },
  {
   "cell_type": "code",
   "execution_count": null,
   "metadata": {},
   "outputs": [],
   "source": []
  },
  {
   "cell_type": "markdown",
   "metadata": {},
   "source": [
    "# 7. Is it am or pm\n",
    "\n",
    "Write a program that asks the user to enter a time of the day in 24 hours format (hours and minutes), for instance 2314 will be entered in the prompt for 23h14.\n",
    "\n",
    "The program then displays the two sentences:\n",
    "- \"In 12 hour format, this time of the day is am: True/False.\"\n",
    "- \"In 12 hour format, this time of the day is pm: True/False.\"\n",
    "\n",
    "With True or False selected accordingly."
   ]
  },
  {
   "cell_type": "code",
   "execution_count": null,
   "metadata": {},
   "outputs": [],
   "source": []
  }
 ],
 "metadata": {
  "kernelspec": {
   "display_name": "Python 3 (ipykernel)",
   "language": "python",
   "name": "python3"
  },
  "language_info": {
   "codemirror_mode": {
    "name": "ipython",
    "version": 3
   },
   "file_extension": ".py",
   "mimetype": "text/x-python",
   "name": "python",
   "nbconvert_exporter": "python",
   "pygments_lexer": "ipython3",
   "version": "3.11.4"
  }
 },
 "nbformat": 4,
 "nbformat_minor": 4
}
