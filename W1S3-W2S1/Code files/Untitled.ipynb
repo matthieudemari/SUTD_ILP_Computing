{
 "cells": [
  {
   "cell_type": "code",
   "execution_count": 3,
   "id": "070f71aa",
   "metadata": {},
   "outputs": [
    {
     "data": {
      "text/plain": [
       "15.768"
      ]
     },
     "execution_count": 3,
     "metadata": {},
     "output_type": "execute_result"
    }
   ],
   "source": [
    "round(15.768161871687, 3)"
   ]
  },
  {
   "cell_type": "code",
   "execution_count": 4,
   "id": "d3ce77f5",
   "metadata": {},
   "outputs": [
    {
     "data": {
      "text/plain": [
       "-3.16187"
      ]
     },
     "execution_count": 4,
     "metadata": {},
     "output_type": "execute_result"
    }
   ],
   "source": [
    "round(-3.1618687, 5)"
   ]
  },
  {
   "cell_type": "code",
   "execution_count": null,
   "id": "337d456f",
   "metadata": {},
   "outputs": [],
   "source": []
  }
 ],
 "metadata": {
  "kernelspec": {
   "display_name": "Python 3 (ipykernel)",
   "language": "python",
   "name": "python3"
  },
  "language_info": {
   "codemirror_mode": {
    "name": "ipython",
    "version": 3
   },
   "file_extension": ".py",
   "mimetype": "text/x-python",
   "name": "python",
   "nbconvert_exporter": "python",
   "pygments_lexer": "ipython3",
   "version": "3.11.4"
  }
 },
 "nbformat": 4,
 "nbformat_minor": 5
}
