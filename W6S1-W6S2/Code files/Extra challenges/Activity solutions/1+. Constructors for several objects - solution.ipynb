{
 "cells": [
  {
   "cell_type": "markdown",
   "metadata": {},
   "source": [
    "# 1+. Constructors for several objects - solution\n",
    "\n",
    "In this first notebook, we will explore some objects, inspired from video games and games in general.\n",
    "\n",
    "On top of the programming tasks described in this notebook, ask yourself what could be the additional attributes and methods that said object could have."
   ]
  },
  {
   "cell_type": "markdown",
   "metadata": {},
   "source": [
    "### Task 1+: Tic Tac Toe board\n",
    "\n",
    "The second object, Board(), is used to represent a tic tac toe board of size 3x3.\n",
    "\n",
    "Its initializer function **does NOT expect any arguments** (except the self keyword), as it will always initialize an empty 3x3 board as a list, of 3 lists, of 3 elements each, full of zeroes.\n",
    "\n",
    "It has the following attributes:\n",
    "- **board_size**, which denotes the number of rows and columns in our board, and is set to 3, always.\n",
    "- **board**, which denotes the current state of the board, and is defined as a list of 3 lists of 3 elements, full of zeroes, when the board is created.\n",
    "- **is_full**, defined as a Boolean, whose initial value is False. It is set to True if the board is full and no moves are left to play.\n",
    "- **has_winner**, defined as a Boolean, whose initial value is False. It will later be set to True if the board has a clear winner.\n",
    "- **winner**, whose value will later be set to 1, if the player 1 (circles) has won, and 2 if the player 2 (crosses) has won. When the board is initialized, it is set to None.\n",
    "- **circle_to_play**, which is set to True and indicates that the next player to play is circles. Later, it might be set to False to indicate that the next player to play is crosses.\n",
    "\n",
    "No additional attributes or methods are expected for this object at the moment, but you may add some of your choice and test them if you feel like it!\n",
    "\n",
    "#### Your code below!"
   ]
  },
  {
   "cell_type": "code",
   "execution_count": null,
   "metadata": {},
   "outputs": [],
   "source": [
    "class Board():\n",
    "    def __init__(self):\n",
    "        self.board_size = 3\n",
    "        self.board = [[0 for i in range(3)] for i in range(3)]\n",
    "        self.is_full = False\n",
    "        self.has_winner = False\n",
    "        self.winner = 0\n",
    "        self.circle_to_play = True"
   ]
  },
  {
   "cell_type": "markdown",
   "metadata": {},
   "source": [
    "#### Test cases"
   ]
  },
  {
   "cell_type": "code",
   "execution_count": null,
   "metadata": {},
   "outputs": [],
   "source": [
    "# This should print {'board_size': 3, \n",
    "# 'board': [[0, 0, 0], [0, 0, 0], [0, 0, 0]],\n",
    "# 'is_full': False, 'has_winner': False, \n",
    "# 'winner': 0, 'circle_to_play': True}\n",
    "my_board = Board()\n",
    "print(my_board.__dict__)"
   ]
  },
  {
   "cell_type": "markdown",
   "metadata": {},
   "source": [
    "### Task 2+: adding symbols to the Tic Tac Toe board object\n",
    "\n",
    "Let us reuse the Board() object from the previous task.\n",
    "If you did not figure it out, we will provide the answer to the previous task below.\n",
    "\n",
    "For this Tic Tac Toe board, we use the following convention:\n",
    "- if an element in our board attribute is 0, then it indicates that this particular location of the board is currently empty.\n",
    "- if the element in our board attribute is 1 (resp. 2), then it inidcates that this particular location of the board is currently occupied by a circle (resp. cross) symbol.\n",
    "\n",
    "Refer to the example below."
   ]
  },
  {
   "cell_type": "code",
   "execution_count": null,
   "metadata": {},
   "outputs": [],
   "source": [
    "# This board is equaivalent to \n",
    "#     | o |\n",
    "#  -----------\n",
    "#   x | o |\n",
    "#  -----------\n",
    "#     | x |\n",
    "my_board = [[0,1,0],[2,1,0],[0,2,0]]\n",
    "print(my_board)"
   ]
  },
  {
   "cell_type": "markdown",
   "metadata": {},
   "source": [
    "Your next task is to define a **add_symbol()** method, which receives two coordinates **x** and **y**, both with values in $ [0, 1, 2] $.\n",
    "\n",
    "This methods then modifies the board attribute by adding a value **v**, equal to 1 or 2, at the location (x,y) of the board.\n",
    "\n",
    "Important note: we expect the values x and y to be in $ [0, 1, 2] $, otherwise they correspond to invalid coordinates of our board.\n",
    "The values x and y should also correspond to a board location currently containing a zero.\n",
    "If the values x and y are invalid (out of bounds or location already occupied), then the board attribute will be left unchanged.\n",
    "If the value v is neither 1 or 2, then it should also not change the board.\n",
    "\n",
    "No additional attributes or methods are expected for this object at the moment, but you may add some of your choice and test them if you feel like it!\n",
    "\n",
    "#### Your code below!"
   ]
  },
  {
   "cell_type": "code",
   "execution_count": null,
   "metadata": {},
   "outputs": [],
   "source": [
    "class Board():\n",
    "    def __init__(self):\n",
    "        self.board_size = 3\n",
    "        self.board = [[0 for i in range(3)] for i in range(3)]\n",
    "        self.is_full = False\n",
    "        self.has_winner = False\n",
    "        self.winner = 0\n",
    "        self.circle_to_play = True\n",
    "        \n",
    "    def add_symbol(self, x, y, v):\n",
    "        # Check for valid x and y coordinates v value.\n",
    "        if x in [0, 1, 2] and y in [0, 1, 2] and v in [1, 2]:\n",
    "            # Check location of board is empty\n",
    "            if self.board[x][y] == 0:\n",
    "                self.board[x][y] = v"
   ]
  },
  {
   "cell_type": "markdown",
   "metadata": {},
   "source": [
    "#### Test cases"
   ]
  },
  {
   "cell_type": "code",
   "execution_count": null,
   "metadata": {},
   "outputs": [],
   "source": [
    "# This should print [[1, 0, 0], [0, 0, 0], [0, 0, 0]]\n",
    "my_board = Board()\n",
    "my_board.add_symbol(0,0,1)\n",
    "print(my_board.board)"
   ]
  },
  {
   "cell_type": "code",
   "execution_count": null,
   "metadata": {},
   "outputs": [],
   "source": [
    "# This should print [[1, 0, 1], [0, 2, 0], [0, 0, 0]]\n",
    "my_board = Board()\n",
    "my_board.add_symbol(0,0,1)\n",
    "my_board.add_symbol(1,1,2)\n",
    "my_board.add_symbol(0,2,1)\n",
    "print(my_board.board)"
   ]
  },
  {
   "cell_type": "code",
   "execution_count": null,
   "metadata": {},
   "outputs": [],
   "source": [
    "# This should print [[1, 0, 0], [0, 0, 0], [0, 0, 0]]\n",
    "# and NOT [[2, 0, 0], [0, 0, 0], [0, 0, 0]]\n",
    "my_board = Board()\n",
    "my_board.add_symbol(0,0,1)\n",
    "# Invalid location, already taken!\n",
    "# Should not change the board!\n",
    "my_board.add_symbol(0,0,2)\n",
    "print(my_board.board)"
   ]
  },
  {
   "cell_type": "code",
   "execution_count": null,
   "metadata": {},
   "outputs": [],
   "source": [
    "# This should print [[0, 0, 0], [0, 0, 0], [0, 0, 0]]\n",
    "my_board = Board()\n",
    "# Invalid location, y out of bounds!\n",
    "# Should not change the board!\n",
    "my_board.add_symbol(0,3,1)\n",
    "# Invalid location, x out of bounds!\n",
    "# Should not change the board!\n",
    "my_board.add_symbol(4,0,2)\n",
    "# Invalid value v, not 1 or 2!\n",
    "# Should not change the board!\n",
    "my_board.add_symbol(1,1,3)\n",
    "print(my_board.board)"
   ]
  },
  {
   "cell_type": "markdown",
   "metadata": {},
   "source": [
    "#### Extra challenges\n",
    "\n",
    "How about additional methods for:\n",
    "- Checking if the board currently contains three aligned symbols (and therefore has a winner?)\n",
    "- Checking if the board currently is full and contains no combination of three aligned symbols (and therefore has no winner?)\n",
    "- Asking the user to input coordinates at which to add a symbol and adding it later on?\n",
    "- Etc.?"
   ]
  },
  {
   "cell_type": "code",
   "execution_count": null,
   "metadata": {},
   "outputs": [],
   "source": []
  }
 ],
 "metadata": {
  "kernelspec": {
   "display_name": "Python 3",
   "language": "python",
   "name": "python3"
  },
  "language_info": {
   "codemirror_mode": {
    "name": "ipython",
    "version": 3
   },
   "file_extension": ".py",
   "mimetype": "text/x-python",
   "name": "python",
   "nbconvert_exporter": "python",
   "pygments_lexer": "ipython3",
   "version": "3.9.6"
  }
 },
 "nbformat": 4,
 "nbformat_minor": 4
}
